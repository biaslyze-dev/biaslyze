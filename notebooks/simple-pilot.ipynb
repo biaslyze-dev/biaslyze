{
 "cells": [
  {
   "cell_type": "code",
   "execution_count": 27,
   "id": "4aabe2a7-3e5a-466f-9e82-f6d2be0956fc",
   "metadata": {},
   "outputs": [],
   "source": [
    "import numpy as np\n",
    "import pandas as pd\n",
    "from sklearn.feature_extraction.text import TfidfVectorizer\n",
    "from sklearn.linear_model import LogisticRegression\n",
    "from sklearn.pipeline import make_pipeline\n",
    "from sklearn.metrics import accuracy_score"
   ]
  },
  {
   "cell_type": "markdown",
   "id": "46bc5c60-f3a0-4606-86a3-d03a38921cd7",
   "metadata": {},
   "source": [
    "## Load dataset"
   ]
  },
  {
   "cell_type": "code",
   "execution_count": 2,
   "id": "72411207-1552-4696-ba60-5821d09d3f65",
   "metadata": {},
   "outputs": [
    {
     "data": {
      "text/html": [
       "<div>\n",
       "<style scoped>\n",
       "    .dataframe tbody tr th:only-of-type {\n",
       "        vertical-align: middle;\n",
       "    }\n",
       "\n",
       "    .dataframe tbody tr th {\n",
       "        vertical-align: top;\n",
       "    }\n",
       "\n",
       "    .dataframe thead th {\n",
       "        text-align: right;\n",
       "    }\n",
       "</style>\n",
       "<table border=\"1\" class=\"dataframe\">\n",
       "  <thead>\n",
       "    <tr style=\"text-align: right;\">\n",
       "      <th></th>\n",
       "      <th>id</th>\n",
       "      <th>keyword</th>\n",
       "      <th>location</th>\n",
       "      <th>text</th>\n",
       "      <th>target</th>\n",
       "    </tr>\n",
       "  </thead>\n",
       "  <tbody>\n",
       "    <tr>\n",
       "      <th>0</th>\n",
       "      <td>1</td>\n",
       "      <td>NaN</td>\n",
       "      <td>NaN</td>\n",
       "      <td>Our Deeds are the Reason of this #earthquake M...</td>\n",
       "      <td>1</td>\n",
       "    </tr>\n",
       "    <tr>\n",
       "      <th>1</th>\n",
       "      <td>4</td>\n",
       "      <td>NaN</td>\n",
       "      <td>NaN</td>\n",
       "      <td>Forest fire near La Ronge Sask. Canada</td>\n",
       "      <td>1</td>\n",
       "    </tr>\n",
       "    <tr>\n",
       "      <th>2</th>\n",
       "      <td>5</td>\n",
       "      <td>NaN</td>\n",
       "      <td>NaN</td>\n",
       "      <td>All residents asked to 'shelter in place' are ...</td>\n",
       "      <td>1</td>\n",
       "    </tr>\n",
       "    <tr>\n",
       "      <th>3</th>\n",
       "      <td>6</td>\n",
       "      <td>NaN</td>\n",
       "      <td>NaN</td>\n",
       "      <td>13,000 people receive #wildfires evacuation or...</td>\n",
       "      <td>1</td>\n",
       "    </tr>\n",
       "    <tr>\n",
       "      <th>4</th>\n",
       "      <td>7</td>\n",
       "      <td>NaN</td>\n",
       "      <td>NaN</td>\n",
       "      <td>Just got sent this photo from Ruby #Alaska as ...</td>\n",
       "      <td>1</td>\n",
       "    </tr>\n",
       "  </tbody>\n",
       "</table>\n",
       "</div>"
      ],
      "text/plain": [
       "   id keyword location                                               text  \\\n",
       "0   1     NaN      NaN  Our Deeds are the Reason of this #earthquake M...   \n",
       "1   4     NaN      NaN             Forest fire near La Ronge Sask. Canada   \n",
       "2   5     NaN      NaN  All residents asked to 'shelter in place' are ...   \n",
       "3   6     NaN      NaN  13,000 people receive #wildfires evacuation or...   \n",
       "4   7     NaN      NaN  Just got sent this photo from Ruby #Alaska as ...   \n",
       "\n",
       "   target  \n",
       "0       1  \n",
       "1       1  \n",
       "2       1  \n",
       "3       1  \n",
       "4       1  "
      ]
     },
     "execution_count": 2,
     "metadata": {},
     "output_type": "execute_result"
    }
   ],
   "source": [
    "df = pd.read_csv(\"../data/disaster-tweets/train.csv\"); df.head()"
   ]
  },
  {
   "cell_type": "markdown",
   "id": "24e8bc4f-333b-4660-b8fd-529b4646dca2",
   "metadata": {},
   "source": [
    "## Train a model"
   ]
  },
  {
   "cell_type": "code",
   "execution_count": 3,
   "id": "287df27b-bf26-4c98-8466-f64e28296e0b",
   "metadata": {},
   "outputs": [],
   "source": [
    "clf = make_pipeline(TfidfVectorizer(stop_words=\"english\"), LogisticRegression())"
   ]
  },
  {
   "cell_type": "code",
   "execution_count": 4,
   "id": "119e48e6-736a-4a77-adb7-44544fe7fa39",
   "metadata": {},
   "outputs": [
    {
     "data": {
      "text/html": [
       "<style>#sk-container-id-1 {color: black;background-color: white;}#sk-container-id-1 pre{padding: 0;}#sk-container-id-1 div.sk-toggleable {background-color: white;}#sk-container-id-1 label.sk-toggleable__label {cursor: pointer;display: block;width: 100%;margin-bottom: 0;padding: 0.3em;box-sizing: border-box;text-align: center;}#sk-container-id-1 label.sk-toggleable__label-arrow:before {content: \"▸\";float: left;margin-right: 0.25em;color: #696969;}#sk-container-id-1 label.sk-toggleable__label-arrow:hover:before {color: black;}#sk-container-id-1 div.sk-estimator:hover label.sk-toggleable__label-arrow:before {color: black;}#sk-container-id-1 div.sk-toggleable__content {max-height: 0;max-width: 0;overflow: hidden;text-align: left;background-color: #f0f8ff;}#sk-container-id-1 div.sk-toggleable__content pre {margin: 0.2em;color: black;border-radius: 0.25em;background-color: #f0f8ff;}#sk-container-id-1 input.sk-toggleable__control:checked~div.sk-toggleable__content {max-height: 200px;max-width: 100%;overflow: auto;}#sk-container-id-1 input.sk-toggleable__control:checked~label.sk-toggleable__label-arrow:before {content: \"▾\";}#sk-container-id-1 div.sk-estimator input.sk-toggleable__control:checked~label.sk-toggleable__label {background-color: #d4ebff;}#sk-container-id-1 div.sk-label input.sk-toggleable__control:checked~label.sk-toggleable__label {background-color: #d4ebff;}#sk-container-id-1 input.sk-hidden--visually {border: 0;clip: rect(1px 1px 1px 1px);clip: rect(1px, 1px, 1px, 1px);height: 1px;margin: -1px;overflow: hidden;padding: 0;position: absolute;width: 1px;}#sk-container-id-1 div.sk-estimator {font-family: monospace;background-color: #f0f8ff;border: 1px dotted black;border-radius: 0.25em;box-sizing: border-box;margin-bottom: 0.5em;}#sk-container-id-1 div.sk-estimator:hover {background-color: #d4ebff;}#sk-container-id-1 div.sk-parallel-item::after {content: \"\";width: 100%;border-bottom: 1px solid gray;flex-grow: 1;}#sk-container-id-1 div.sk-label:hover label.sk-toggleable__label {background-color: #d4ebff;}#sk-container-id-1 div.sk-serial::before {content: \"\";position: absolute;border-left: 1px solid gray;box-sizing: border-box;top: 0;bottom: 0;left: 50%;z-index: 0;}#sk-container-id-1 div.sk-serial {display: flex;flex-direction: column;align-items: center;background-color: white;padding-right: 0.2em;padding-left: 0.2em;position: relative;}#sk-container-id-1 div.sk-item {position: relative;z-index: 1;}#sk-container-id-1 div.sk-parallel {display: flex;align-items: stretch;justify-content: center;background-color: white;position: relative;}#sk-container-id-1 div.sk-item::before, #sk-container-id-1 div.sk-parallel-item::before {content: \"\";position: absolute;border-left: 1px solid gray;box-sizing: border-box;top: 0;bottom: 0;left: 50%;z-index: -1;}#sk-container-id-1 div.sk-parallel-item {display: flex;flex-direction: column;z-index: 1;position: relative;background-color: white;}#sk-container-id-1 div.sk-parallel-item:first-child::after {align-self: flex-end;width: 50%;}#sk-container-id-1 div.sk-parallel-item:last-child::after {align-self: flex-start;width: 50%;}#sk-container-id-1 div.sk-parallel-item:only-child::after {width: 0;}#sk-container-id-1 div.sk-dashed-wrapped {border: 1px dashed gray;margin: 0 0.4em 0.5em 0.4em;box-sizing: border-box;padding-bottom: 0.4em;background-color: white;}#sk-container-id-1 div.sk-label label {font-family: monospace;font-weight: bold;display: inline-block;line-height: 1.2em;}#sk-container-id-1 div.sk-label-container {text-align: center;}#sk-container-id-1 div.sk-container {/* jupyter's `normalize.less` sets `[hidden] { display: none; }` but bootstrap.min.css set `[hidden] { display: none !important; }` so we also need the `!important` here to be able to override the default hidden behavior on the sphinx rendered scikit-learn.org. See: https://github.com/scikit-learn/scikit-learn/issues/21755 */display: inline-block !important;position: relative;}#sk-container-id-1 div.sk-text-repr-fallback {display: none;}</style><div id=\"sk-container-id-1\" class=\"sk-top-container\"><div class=\"sk-text-repr-fallback\"><pre>Pipeline(steps=[(&#x27;tfidfvectorizer&#x27;, TfidfVectorizer(stop_words=&#x27;english&#x27;)),\n",
       "                (&#x27;logisticregression&#x27;, LogisticRegression())])</pre><b>In a Jupyter environment, please rerun this cell to show the HTML representation or trust the notebook. <br />On GitHub, the HTML representation is unable to render, please try loading this page with nbviewer.org.</b></div><div class=\"sk-container\" hidden><div class=\"sk-item sk-dashed-wrapped\"><div class=\"sk-label-container\"><div class=\"sk-label sk-toggleable\"><input class=\"sk-toggleable__control sk-hidden--visually\" id=\"sk-estimator-id-1\" type=\"checkbox\" ><label for=\"sk-estimator-id-1\" class=\"sk-toggleable__label sk-toggleable__label-arrow\">Pipeline</label><div class=\"sk-toggleable__content\"><pre>Pipeline(steps=[(&#x27;tfidfvectorizer&#x27;, TfidfVectorizer(stop_words=&#x27;english&#x27;)),\n",
       "                (&#x27;logisticregression&#x27;, LogisticRegression())])</pre></div></div></div><div class=\"sk-serial\"><div class=\"sk-item\"><div class=\"sk-estimator sk-toggleable\"><input class=\"sk-toggleable__control sk-hidden--visually\" id=\"sk-estimator-id-2\" type=\"checkbox\" ><label for=\"sk-estimator-id-2\" class=\"sk-toggleable__label sk-toggleable__label-arrow\">TfidfVectorizer</label><div class=\"sk-toggleable__content\"><pre>TfidfVectorizer(stop_words=&#x27;english&#x27;)</pre></div></div></div><div class=\"sk-item\"><div class=\"sk-estimator sk-toggleable\"><input class=\"sk-toggleable__control sk-hidden--visually\" id=\"sk-estimator-id-3\" type=\"checkbox\" ><label for=\"sk-estimator-id-3\" class=\"sk-toggleable__label sk-toggleable__label-arrow\">LogisticRegression</label><div class=\"sk-toggleable__content\"><pre>LogisticRegression()</pre></div></div></div></div></div></div></div>"
      ],
      "text/plain": [
       "Pipeline(steps=[('tfidfvectorizer', TfidfVectorizer(stop_words='english')),\n",
       "                ('logisticregression', LogisticRegression())])"
      ]
     },
     "execution_count": 4,
     "metadata": {},
     "output_type": "execute_result"
    }
   ],
   "source": [
    "clf.fit(df.text, df.target)"
   ]
  },
  {
   "cell_type": "code",
   "execution_count": 29,
   "id": "40017fbd-eb97-4f7a-bd85-3583b7c14b33",
   "metadata": {},
   "outputs": [
    {
     "name": "stdout",
     "output_type": "stream",
     "text": [
      "0.8892683567581768\n"
     ]
    }
   ],
   "source": [
    "train_pred = clf.predict(df.text)\n",
    "print(accuracy_score(df.target, train_pred))"
   ]
  },
  {
   "cell_type": "code",
   "execution_count": 5,
   "id": "0b7d65fe-718c-460b-acf8-2aad66e10ae5",
   "metadata": {},
   "outputs": [],
   "source": [
    "parameters = clf.steps[1][1].coef_[0]"
   ]
  },
  {
   "cell_type": "code",
   "execution_count": 6,
   "id": "c1a1db5e-3cfc-4493-9cf6-c469a31de783",
   "metadata": {},
   "outputs": [
    {
     "data": {
      "text/plain": [
       "array([ 0.3458073 , -0.11087299,  0.12963351, ...,  0.10882484,\n",
       "       -0.1002334 ,  0.10963176])"
      ]
     },
     "execution_count": 6,
     "metadata": {},
     "output_type": "execute_result"
    }
   ],
   "source": [
    "parameters"
   ]
  },
  {
   "cell_type": "code",
   "execution_count": 7,
   "id": "1fcf5ab8-2617-4ee2-9897-144585206049",
   "metadata": {},
   "outputs": [],
   "source": [
    "feature_names = clf.steps[0][1].get_feature_names_out()"
   ]
  },
  {
   "cell_type": "code",
   "execution_count": 8,
   "id": "52a596d2-0f55-4449-9f9d-cd747d6772c2",
   "metadata": {},
   "outputs": [
    {
     "data": {
      "text/plain": [
       "array(['00', '000', '0000', ..., 'ûónegligence', 'ûótech', 'ûówe'],\n",
       "      dtype=object)"
      ]
     },
     "execution_count": 8,
     "metadata": {},
     "output_type": "execute_result"
    }
   ],
   "source": [
    "feature_names"
   ]
  },
  {
   "cell_type": "code",
   "execution_count": 9,
   "id": "4db2e34e-1633-4518-afdd-33c57d07d9f7",
   "metadata": {},
   "outputs": [],
   "source": [
    "# get top words\n",
    "param_word_map = {p: w for p, w in zip(parameters, feature_names)}"
   ]
  },
  {
   "cell_type": "code",
   "execution_count": 10,
   "id": "5867a86a-785b-4f7e-b358-c1bb8dd51d03",
   "metadata": {},
   "outputs": [],
   "source": [
    "t = sorted(param_word_map.items(), key=lambda x: -np.abs(x[0]))[:100]"
   ]
  },
  {
   "cell_type": "code",
   "execution_count": 11,
   "id": "c018e24d-3b3b-4900-813f-cfd2bc7475b1",
   "metadata": {
    "scrolled": true,
    "tags": []
   },
   "outputs": [
    {
     "data": {
      "text/plain": [
       "[(4.747876498374984, 'http'),\n",
       " (3.607802535802156, 'hiroshima'),\n",
       " (3.237031945884168, 'fires'),\n",
       " (3.1427679248019955, 'california'),\n",
       " (2.8203103083323535, 'buildings'),\n",
       " (2.739049937078202, 'killed'),\n",
       " (2.6237433279746, 'train'),\n",
       " (2.596233506929001, 'suicide'),\n",
       " (2.5555141964872443, 'bombing'),\n",
       " (2.529292352078764, 'storm'),\n",
       " (2.5032821278413095, 'wildfire'),\n",
       " (2.4126772543959336, 'police'),\n",
       " (2.402317684800697, 'typhoon'),\n",
       " (2.4007546160901234, 'earthquake'),\n",
       " (2.2898249012345855, 'near'),\n",
       " (-2.237042623978157, 'new'),\n",
       " (2.129746463636853, 'forest'),\n",
       " (-2.1115956421405855, 'love'),\n",
       " (2.0807910085079744, 'mh370'),\n",
       " (2.0723140066758527, 'derailment'),\n",
       " (2.0520987394968393, 'japan'),\n",
       " (2.0475582681792326, 'drought'),\n",
       " (2.037906129169972, 'accident'),\n",
       " (1.969345309070003, 'floods'),\n",
       " (1.9653117797287716, 'disaster'),\n",
       " (1.9506948598293163, 'massacre'),\n",
       " (1.9339687344007457, 'crash'),\n",
       " (1.9118035595504266, 'mass'),\n",
       " (1.9052213841753092, 'evacuated'),\n",
       " (1.884731501163538, 'debris'),\n",
       " (-1.8828827964586654, 'body'),\n",
       " (1.8812166350288184, 'warning'),\n",
       " (1.8430765692872613, 'evacuation'),\n",
       " (1.8391466687272107, 'casualties'),\n",
       " (1.8186387334122085, 'legionnaires'),\n",
       " (1.8174674708712795, 'spill'),\n",
       " (1.8051953485614016, 'nuclear'),\n",
       " (1.7941905576979436, 'bridge'),\n",
       " (1.768780090939662, 'murder'),\n",
       " (1.7549831573406505, 'severe'),\n",
       " (1.745562736625636, 'migrants'),\n",
       " (1.7215924769269295, 'atomic'),\n",
       " (1.6628276667905706, 'collapse'),\n",
       " (-1.6280489274712562, 'ruin'),\n",
       " (1.614473283325879, 'deaths'),\n",
       " (-1.6076702521137758, 'bags'),\n",
       " (1.6075599899428203, 'news'),\n",
       " (1.5974429479764356, 'terrorism'),\n",
       " (1.5925405967236128, 'hailstorm'),\n",
       " (1.5889620753978626, 'derailed'),\n",
       " (1.5813183826115835, 'officials'),\n",
       " (1.580470879355579, 'homes'),\n",
       " (1.5741388958210638, 'israeli'),\n",
       " (1.572377235414158, 'car'),\n",
       " (1.567734054899053, 'report'),\n",
       " (1.5637006128321709, 'bomber'),\n",
       " (-1.561250600725035, 'nowplaying'),\n",
       " (1.5504544743458797, 'area'),\n",
       " (-1.5475646095949815, 'ebay'),\n",
       " (1.5432345130997862, 'attack'),\n",
       " (1.5412831694657454, 'flood'),\n",
       " (-1.5282440132226442, 'traumatised'),\n",
       " (-1.523609085888739, 'let'),\n",
       " (-1.5196643729387496, 'wrecked'),\n",
       " (1.510972281610401, 'pm'),\n",
       " (1.5079175312827766, 'war'),\n",
       " (-1.5030441715541965, 'blew'),\n",
       " (1.5029593786885167, 'outbreak'),\n",
       " (1.5003487747789008, 'tornado'),\n",
       " (1.4723487952592704, 'plane'),\n",
       " (1.4657910399169947, 'airport'),\n",
       " (1.454472039872024, 'shot'),\n",
       " (-1.451542243691784, 'electrocute'),\n",
       " (-1.451282650414558, 'explode'),\n",
       " (1.4333068319158204, 'myanmar'),\n",
       " (1.4211219535870572, 'city'),\n",
       " (-1.4144304445829063, 'song'),\n",
       " (1.414254643633906, 'rioting'),\n",
       " (1.4137215746129739, 'confirmed'),\n",
       " (1.4063821254798208, 'families'),\n",
       " (-1.399036690734854, 'blazing'),\n",
       " (-1.393698672886519, 'panicking'),\n",
       " (1.3881949763650752, 'hundreds'),\n",
       " (1.3815850250502402, 'hurricane'),\n",
       " (1.378356434856095, 'wild'),\n",
       " (1.3777833155188708, 'calgary'),\n",
       " (1.3760634517842543, 'terrorist'),\n",
       " (1.3713156937869881, 'explosion'),\n",
       " (1.3630438727664074, '70'),\n",
       " (1.3512485338057616, 'collision'),\n",
       " (-1.3490550218387873, 'crush'),\n",
       " (1.3466159507975917, 'evacuate'),\n",
       " (1.3382829243714185, 'east'),\n",
       " (1.3371566069907062, 'helicopter'),\n",
       " (1.3293712698914266, 'lives'),\n",
       " (-1.3178464626673327, 'better'),\n",
       " (1.3161349707311316, 'kills'),\n",
       " (1.3101755396516854, 'crews'),\n",
       " (1.3085918731142585, 'airplane'),\n",
       " (1.3080834476227785, 'investigators')]"
      ]
     },
     "execution_count": 11,
     "metadata": {},
     "output_type": "execute_result"
    }
   ],
   "source": [
    "t"
   ]
  },
  {
   "cell_type": "code",
   "execution_count": 12,
   "id": "d3664c51-5d75-4d68-a74c-d773875048bd",
   "metadata": {},
   "outputs": [],
   "source": [
    "nationalities = [\"myanmar\", \"german\", \"israel\", \"japan\"]\n",
    "protected_groups = [\"migrants\", \"woman\", \"female\"]"
   ]
  },
  {
   "cell_type": "code",
   "execution_count": 13,
   "id": "3e2c71c0-d11f-417e-b7fb-aeaee08d9acb",
   "metadata": {},
   "outputs": [
    {
     "data": {
      "text/plain": [
       "array([[0.30581131, 0.69418869]])"
      ]
     },
     "execution_count": 13,
     "metadata": {},
     "output_type": "execute_result"
    }
   ],
   "source": [
    "clf.predict_proba([\"I'm an israeli\"])"
   ]
  },
  {
   "cell_type": "code",
   "execution_count": 14,
   "id": "fd27d5f0-eeb9-4284-a6b1-16b3836ffa0b",
   "metadata": {},
   "outputs": [
    {
     "data": {
      "text/plain": [
       "array([[0.56024287, 0.43975713]])"
      ]
     },
     "execution_count": 14,
     "metadata": {},
     "output_type": "execute_result"
    }
   ],
   "source": [
    "clf.predict_proba([\"I'm a muslim.\"])"
   ]
  },
  {
   "cell_type": "code",
   "execution_count": 15,
   "id": "1d46146e-0701-4bfe-a793-05ff11dd19d9",
   "metadata": {},
   "outputs": [
    {
     "data": {
      "text/plain": [
       "array([[0.46630715, 0.53369285]])"
      ]
     },
     "execution_count": 15,
     "metadata": {},
     "output_type": "execute_result"
    }
   ],
   "source": [
    "clf.predict_proba([\"I'm an israeli woman\"])"
   ]
  },
  {
   "cell_type": "code",
   "execution_count": 19,
   "id": "42c7a26c-764e-4276-b0d6-93f1c7fe9cb6",
   "metadata": {},
   "outputs": [
    {
     "data": {
      "text/plain": [
       "array([[0.21454639, 0.78545361]])"
      ]
     },
     "execution_count": 19,
     "metadata": {},
     "output_type": "execute_result"
    }
   ],
   "source": [
    "clf.predict_proba([\"I'm from japan.\"])"
   ]
  },
  {
   "cell_type": "code",
   "execution_count": 17,
   "id": "af28b481-5ca5-48d1-821b-e9e9c0fda9c1",
   "metadata": {},
   "outputs": [
    {
     "data": {
      "text/plain": [
       "array([[0.33445889, 0.66554111]])"
      ]
     },
     "execution_count": 17,
     "metadata": {},
     "output_type": "execute_result"
    }
   ],
   "source": [
    "clf.predict_proba([\"We're a family from myanmar.\"])"
   ]
  },
  {
   "cell_type": "code",
   "execution_count": 20,
   "id": "cc2b2879-9608-4c70-8915-4e08455aba32",
   "metadata": {},
   "outputs": [
    {
     "data": {
      "text/plain": [
       "array([[0.32783676, 0.67216324]])"
      ]
     },
     "execution_count": 20,
     "metadata": {},
     "output_type": "execute_result"
    }
   ],
   "source": [
    "clf.predict_proba([\"An isreali on a plane\"])"
   ]
  },
  {
   "cell_type": "code",
   "execution_count": 23,
   "id": "68e55d5a-30b6-4a0e-91f5-17eab3cb68d6",
   "metadata": {},
   "outputs": [
    {
     "data": {
      "text/plain": [
       "array([[0.32783676, 0.67216324]])"
      ]
     },
     "execution_count": 23,
     "metadata": {},
     "output_type": "execute_result"
    }
   ],
   "source": [
    "clf.predict_proba([\"A jew on a plane.\"])"
   ]
  },
  {
   "cell_type": "code",
   "execution_count": 26,
   "id": "b03cc234-7623-4fc1-8e3c-e8a87835cce2",
   "metadata": {},
   "outputs": [
    {
     "data": {
      "text/plain": [
       "array([[0.49018913, 0.50981087]])"
      ]
     },
     "execution_count": 26,
     "metadata": {},
     "output_type": "execute_result"
    }
   ],
   "source": [
    "clf.predict_proba([\"A woman on a plane.\"])"
   ]
  },
  {
   "cell_type": "markdown",
   "id": "84e06d71-508a-4050-a599-db84f47fa26c",
   "metadata": {},
   "source": [
    "## Look at clusters"
   ]
  },
  {
   "cell_type": "code",
   "execution_count": 57,
   "id": "f7af2f27-1618-4065-81bd-fc7bcd111e41",
   "metadata": {},
   "outputs": [
    {
     "ename": "ModuleNotFoundError",
     "evalue": "No module named 'bertopic'",
     "output_type": "error",
     "traceback": [
      "\u001b[0;31m---------------------------------------------------------------------------\u001b[0m",
      "\u001b[0;31mModuleNotFoundError\u001b[0m                       Traceback (most recent call last)",
      "Cell \u001b[0;32mIn[57], line 1\u001b[0m\n\u001b[0;32m----> 1\u001b[0m \u001b[38;5;28;01mfrom\u001b[39;00m \u001b[38;5;21;01mbertopic\u001b[39;00m \u001b[38;5;28;01mimport\u001b[39;00m BERTopic\n\u001b[1;32m      3\u001b[0m vectorizer \u001b[38;5;241m=\u001b[39m TfidfVectorizer(min_df\u001b[38;5;241m=\u001b[39m\u001b[38;5;241m5\u001b[39m)\n\u001b[1;32m      4\u001b[0m embeddings \u001b[38;5;241m=\u001b[39m vectorizer\u001b[38;5;241m.\u001b[39mfit_transform(docs)\n",
      "\u001b[0;31mModuleNotFoundError\u001b[0m: No module named 'bertopic'"
     ]
    }
   ],
   "source": [
    "from bertopic import BERTopic\n",
    "\n",
    "vectorizer = TfidfVectorizer(min_df=5)\n",
    "embeddings = vectorizer.fit_transform(docs)\n",
    "\n",
    "# Train our topic model using TF-IDF vectors\n",
    "topic_model = BERTopic(stop_words=\"english\")\n",
    "topics, probs = topic_model.fit_transform(docs, embeddings)"
   ]
  },
  {
   "cell_type": "code",
   "execution_count": null,
   "id": "bfa3fa05-4705-427f-9297-5b79f730b6b3",
   "metadata": {},
   "outputs": [],
   "source": [
    "topic_model.visualize_documents(docs, embeddings=embeddings)"
   ]
  }
 ],
 "metadata": {
  "kernelspec": {
   "display_name": "Python 3 (ipykernel)",
   "language": "python",
   "name": "python3"
  },
  "language_info": {
   "codemirror_mode": {
    "name": "ipython",
    "version": 3
   },
   "file_extension": ".py",
   "mimetype": "text/x-python",
   "name": "python",
   "nbconvert_exporter": "python",
   "pygments_lexer": "ipython3",
   "version": "3.8.10"
  }
 },
 "nbformat": 4,
 "nbformat_minor": 5
}
