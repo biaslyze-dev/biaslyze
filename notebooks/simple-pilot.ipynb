{
 "cells": [
  {
   "cell_type": "code",
   "execution_count": 1,
   "id": "4aabe2a7-3e5a-466f-9e82-f6d2be0956fc",
   "metadata": {},
   "outputs": [],
   "source": [
    "import numpy as np\n",
    "import pandas as pd\n",
    "from sklearn.feature_extraction.text import TfidfVectorizer\n",
    "from sklearn.linear_model import LogisticRegression\n",
    "from sklearn.pipeline import make_pipeline\n",
    "from sklearn.metrics import accuracy_score"
   ]
  },
  {
   "cell_type": "markdown",
   "id": "46bc5c60-f3a0-4606-86a3-d03a38921cd7",
   "metadata": {},
   "source": [
    "## Load dataset"
   ]
  },
  {
   "cell_type": "code",
   "execution_count": 2,
   "id": "72411207-1552-4696-ba60-5821d09d3f65",
   "metadata": {},
   "outputs": [
    {
     "data": {
      "text/html": [
       "<div>\n",
       "<style scoped>\n",
       "    .dataframe tbody tr th:only-of-type {\n",
       "        vertical-align: middle;\n",
       "    }\n",
       "\n",
       "    .dataframe tbody tr th {\n",
       "        vertical-align: top;\n",
       "    }\n",
       "\n",
       "    .dataframe thead th {\n",
       "        text-align: right;\n",
       "    }\n",
       "</style>\n",
       "<table border=\"1\" class=\"dataframe\">\n",
       "  <thead>\n",
       "    <tr style=\"text-align: right;\">\n",
       "      <th></th>\n",
       "      <th>id</th>\n",
       "      <th>keyword</th>\n",
       "      <th>location</th>\n",
       "      <th>text</th>\n",
       "      <th>target</th>\n",
       "    </tr>\n",
       "  </thead>\n",
       "  <tbody>\n",
       "    <tr>\n",
       "      <th>0</th>\n",
       "      <td>1</td>\n",
       "      <td>NaN</td>\n",
       "      <td>NaN</td>\n",
       "      <td>Our Deeds are the Reason of this #earthquake M...</td>\n",
       "      <td>1</td>\n",
       "    </tr>\n",
       "    <tr>\n",
       "      <th>1</th>\n",
       "      <td>4</td>\n",
       "      <td>NaN</td>\n",
       "      <td>NaN</td>\n",
       "      <td>Forest fire near La Ronge Sask. Canada</td>\n",
       "      <td>1</td>\n",
       "    </tr>\n",
       "    <tr>\n",
       "      <th>2</th>\n",
       "      <td>5</td>\n",
       "      <td>NaN</td>\n",
       "      <td>NaN</td>\n",
       "      <td>All residents asked to 'shelter in place' are ...</td>\n",
       "      <td>1</td>\n",
       "    </tr>\n",
       "    <tr>\n",
       "      <th>3</th>\n",
       "      <td>6</td>\n",
       "      <td>NaN</td>\n",
       "      <td>NaN</td>\n",
       "      <td>13,000 people receive #wildfires evacuation or...</td>\n",
       "      <td>1</td>\n",
       "    </tr>\n",
       "    <tr>\n",
       "      <th>4</th>\n",
       "      <td>7</td>\n",
       "      <td>NaN</td>\n",
       "      <td>NaN</td>\n",
       "      <td>Just got sent this photo from Ruby #Alaska as ...</td>\n",
       "      <td>1</td>\n",
       "    </tr>\n",
       "  </tbody>\n",
       "</table>\n",
       "</div>"
      ],
      "text/plain": [
       "   id keyword location                                               text  \\\n",
       "0   1     NaN      NaN  Our Deeds are the Reason of this #earthquake M...   \n",
       "1   4     NaN      NaN             Forest fire near La Ronge Sask. Canada   \n",
       "2   5     NaN      NaN  All residents asked to 'shelter in place' are ...   \n",
       "3   6     NaN      NaN  13,000 people receive #wildfires evacuation or...   \n",
       "4   7     NaN      NaN  Just got sent this photo from Ruby #Alaska as ...   \n",
       "\n",
       "   target  \n",
       "0       1  \n",
       "1       1  \n",
       "2       1  \n",
       "3       1  \n",
       "4       1  "
      ]
     },
     "execution_count": 2,
     "metadata": {},
     "output_type": "execute_result"
    }
   ],
   "source": [
    "df = pd.read_csv(\"../data/disaster-tweets/train.csv\"); df.head()"
   ]
  },
  {
   "cell_type": "code",
   "execution_count": 3,
   "id": "3801916d-57bd-402d-a1f2-a7f2532fd06f",
   "metadata": {},
   "outputs": [],
   "source": [
    "# replace urls\n",
    "import re\n",
    "url_regex = re.compile(\"(http|https)://[\\w\\-]+(\\.[\\w\\-]+)+\\S*\")\n",
    "\n",
    "df = df.replace(to_replace=url_regex, value='', regex=True)"
   ]
  },
  {
   "cell_type": "markdown",
   "id": "24e8bc4f-333b-4660-b8fd-529b4646dca2",
   "metadata": {},
   "source": [
    "## Train a model"
   ]
  },
  {
   "cell_type": "code",
   "execution_count": 51,
   "id": "287df27b-bf26-4c98-8466-f64e28296e0b",
   "metadata": {},
   "outputs": [],
   "source": [
    "clf = make_pipeline(TfidfVectorizer(min_df=10, max_features=10000, stop_words=\"english\"), LogisticRegression())"
   ]
  },
  {
   "cell_type": "code",
   "execution_count": 52,
   "id": "119e48e6-736a-4a77-adb7-44544fe7fa39",
   "metadata": {},
   "outputs": [
    {
     "data": {
      "text/html": [
       "<style>#sk-container-id-2 {color: black;background-color: white;}#sk-container-id-2 pre{padding: 0;}#sk-container-id-2 div.sk-toggleable {background-color: white;}#sk-container-id-2 label.sk-toggleable__label {cursor: pointer;display: block;width: 100%;margin-bottom: 0;padding: 0.3em;box-sizing: border-box;text-align: center;}#sk-container-id-2 label.sk-toggleable__label-arrow:before {content: \"▸\";float: left;margin-right: 0.25em;color: #696969;}#sk-container-id-2 label.sk-toggleable__label-arrow:hover:before {color: black;}#sk-container-id-2 div.sk-estimator:hover label.sk-toggleable__label-arrow:before {color: black;}#sk-container-id-2 div.sk-toggleable__content {max-height: 0;max-width: 0;overflow: hidden;text-align: left;background-color: #f0f8ff;}#sk-container-id-2 div.sk-toggleable__content pre {margin: 0.2em;color: black;border-radius: 0.25em;background-color: #f0f8ff;}#sk-container-id-2 input.sk-toggleable__control:checked~div.sk-toggleable__content {max-height: 200px;max-width: 100%;overflow: auto;}#sk-container-id-2 input.sk-toggleable__control:checked~label.sk-toggleable__label-arrow:before {content: \"▾\";}#sk-container-id-2 div.sk-estimator input.sk-toggleable__control:checked~label.sk-toggleable__label {background-color: #d4ebff;}#sk-container-id-2 div.sk-label input.sk-toggleable__control:checked~label.sk-toggleable__label {background-color: #d4ebff;}#sk-container-id-2 input.sk-hidden--visually {border: 0;clip: rect(1px 1px 1px 1px);clip: rect(1px, 1px, 1px, 1px);height: 1px;margin: -1px;overflow: hidden;padding: 0;position: absolute;width: 1px;}#sk-container-id-2 div.sk-estimator {font-family: monospace;background-color: #f0f8ff;border: 1px dotted black;border-radius: 0.25em;box-sizing: border-box;margin-bottom: 0.5em;}#sk-container-id-2 div.sk-estimator:hover {background-color: #d4ebff;}#sk-container-id-2 div.sk-parallel-item::after {content: \"\";width: 100%;border-bottom: 1px solid gray;flex-grow: 1;}#sk-container-id-2 div.sk-label:hover label.sk-toggleable__label {background-color: #d4ebff;}#sk-container-id-2 div.sk-serial::before {content: \"\";position: absolute;border-left: 1px solid gray;box-sizing: border-box;top: 0;bottom: 0;left: 50%;z-index: 0;}#sk-container-id-2 div.sk-serial {display: flex;flex-direction: column;align-items: center;background-color: white;padding-right: 0.2em;padding-left: 0.2em;position: relative;}#sk-container-id-2 div.sk-item {position: relative;z-index: 1;}#sk-container-id-2 div.sk-parallel {display: flex;align-items: stretch;justify-content: center;background-color: white;position: relative;}#sk-container-id-2 div.sk-item::before, #sk-container-id-2 div.sk-parallel-item::before {content: \"\";position: absolute;border-left: 1px solid gray;box-sizing: border-box;top: 0;bottom: 0;left: 50%;z-index: -1;}#sk-container-id-2 div.sk-parallel-item {display: flex;flex-direction: column;z-index: 1;position: relative;background-color: white;}#sk-container-id-2 div.sk-parallel-item:first-child::after {align-self: flex-end;width: 50%;}#sk-container-id-2 div.sk-parallel-item:last-child::after {align-self: flex-start;width: 50%;}#sk-container-id-2 div.sk-parallel-item:only-child::after {width: 0;}#sk-container-id-2 div.sk-dashed-wrapped {border: 1px dashed gray;margin: 0 0.4em 0.5em 0.4em;box-sizing: border-box;padding-bottom: 0.4em;background-color: white;}#sk-container-id-2 div.sk-label label {font-family: monospace;font-weight: bold;display: inline-block;line-height: 1.2em;}#sk-container-id-2 div.sk-label-container {text-align: center;}#sk-container-id-2 div.sk-container {/* jupyter's `normalize.less` sets `[hidden] { display: none; }` but bootstrap.min.css set `[hidden] { display: none !important; }` so we also need the `!important` here to be able to override the default hidden behavior on the sphinx rendered scikit-learn.org. See: https://github.com/scikit-learn/scikit-learn/issues/21755 */display: inline-block !important;position: relative;}#sk-container-id-2 div.sk-text-repr-fallback {display: none;}</style><div id=\"sk-container-id-2\" class=\"sk-top-container\"><div class=\"sk-text-repr-fallback\"><pre>Pipeline(steps=[(&#x27;tfidfvectorizer&#x27;,\n",
       "                 TfidfVectorizer(max_features=10000, min_df=10,\n",
       "                                 stop_words=&#x27;english&#x27;)),\n",
       "                (&#x27;logisticregression&#x27;, LogisticRegression())])</pre><b>In a Jupyter environment, please rerun this cell to show the HTML representation or trust the notebook. <br />On GitHub, the HTML representation is unable to render, please try loading this page with nbviewer.org.</b></div><div class=\"sk-container\" hidden><div class=\"sk-item sk-dashed-wrapped\"><div class=\"sk-label-container\"><div class=\"sk-label sk-toggleable\"><input class=\"sk-toggleable__control sk-hidden--visually\" id=\"sk-estimator-id-4\" type=\"checkbox\" ><label for=\"sk-estimator-id-4\" class=\"sk-toggleable__label sk-toggleable__label-arrow\">Pipeline</label><div class=\"sk-toggleable__content\"><pre>Pipeline(steps=[(&#x27;tfidfvectorizer&#x27;,\n",
       "                 TfidfVectorizer(max_features=10000, min_df=10,\n",
       "                                 stop_words=&#x27;english&#x27;)),\n",
       "                (&#x27;logisticregression&#x27;, LogisticRegression())])</pre></div></div></div><div class=\"sk-serial\"><div class=\"sk-item\"><div class=\"sk-estimator sk-toggleable\"><input class=\"sk-toggleable__control sk-hidden--visually\" id=\"sk-estimator-id-5\" type=\"checkbox\" ><label for=\"sk-estimator-id-5\" class=\"sk-toggleable__label sk-toggleable__label-arrow\">TfidfVectorizer</label><div class=\"sk-toggleable__content\"><pre>TfidfVectorizer(max_features=10000, min_df=10, stop_words=&#x27;english&#x27;)</pre></div></div></div><div class=\"sk-item\"><div class=\"sk-estimator sk-toggleable\"><input class=\"sk-toggleable__control sk-hidden--visually\" id=\"sk-estimator-id-6\" type=\"checkbox\" ><label for=\"sk-estimator-id-6\" class=\"sk-toggleable__label sk-toggleable__label-arrow\">LogisticRegression</label><div class=\"sk-toggleable__content\"><pre>LogisticRegression()</pre></div></div></div></div></div></div></div>"
      ],
      "text/plain": [
       "Pipeline(steps=[('tfidfvectorizer',\n",
       "                 TfidfVectorizer(max_features=10000, min_df=10,\n",
       "                                 stop_words='english')),\n",
       "                ('logisticregression', LogisticRegression())])"
      ]
     },
     "execution_count": 52,
     "metadata": {},
     "output_type": "execute_result"
    }
   ],
   "source": [
    "clf.fit(df.text, df.target)"
   ]
  },
  {
   "cell_type": "code",
   "execution_count": 53,
   "id": "40017fbd-eb97-4f7a-bd85-3583b7c14b33",
   "metadata": {},
   "outputs": [
    {
     "name": "stdout",
     "output_type": "stream",
     "text": [
      "0.8418494680152371\n"
     ]
    }
   ],
   "source": [
    "train_pred = clf.predict(df.text)\n",
    "print(accuracy_score(df.target, train_pred))"
   ]
  },
  {
   "cell_type": "code",
   "execution_count": 54,
   "id": "0b7d65fe-718c-460b-acf8-2aad66e10ae5",
   "metadata": {},
   "outputs": [],
   "source": [
    "parameters = clf.steps[1][1].coef_[0]"
   ]
  },
  {
   "cell_type": "code",
   "execution_count": 55,
   "id": "c1a1db5e-3cfc-4493-9cf6-c469a31de783",
   "metadata": {},
   "outputs": [
    {
     "data": {
      "text/plain": [
       "array([-8.08794282e-04,  1.32442554e+00,  6.28500685e-01, ...,\n",
       "        3.78617130e-01,  8.91140082e-01, -1.38687237e-01])"
      ]
     },
     "execution_count": 55,
     "metadata": {},
     "output_type": "execute_result"
    }
   ],
   "source": [
    "parameters"
   ]
  },
  {
   "cell_type": "code",
   "execution_count": 56,
   "id": "1fcf5ab8-2617-4ee2-9897-144585206049",
   "metadata": {},
   "outputs": [],
   "source": [
    "feature_names = clf.steps[0][1].get_feature_names_out()"
   ]
  },
  {
   "cell_type": "code",
   "execution_count": 57,
   "id": "52a596d2-0f55-4449-9f9d-cd747d6772c2",
   "metadata": {},
   "outputs": [
    {
     "data": {
      "text/plain": [
       "array(['00', '01', '04', ..., 'ûïwhen', 'ûò', 'ûó'], dtype=object)"
      ]
     },
     "execution_count": 57,
     "metadata": {},
     "output_type": "execute_result"
    }
   ],
   "source": [
    "feature_names"
   ]
  },
  {
   "cell_type": "code",
   "execution_count": 58,
   "id": "4db2e34e-1633-4518-afdd-33c57d07d9f7",
   "metadata": {},
   "outputs": [],
   "source": [
    "# get top words\n",
    "param_word_map = {p: w for p, w in zip(parameters, feature_names)}"
   ]
  },
  {
   "cell_type": "code",
   "execution_count": 59,
   "id": "5867a86a-785b-4f7e-b358-c1bb8dd51d03",
   "metadata": {},
   "outputs": [],
   "source": [
    "t = sorted(param_word_map.items(), key=lambda x: -np.abs(x[0]))[:100]"
   ]
  },
  {
   "cell_type": "code",
   "execution_count": 60,
   "id": "c018e24d-3b3b-4900-813f-cfd2bc7475b1",
   "metadata": {
    "scrolled": true,
    "tags": []
   },
   "outputs": [
    {
     "data": {
      "text/plain": [
       "[(3.8333681092837013, 'hiroshima'),\n",
       " (3.0733884975186045, 'california'),\n",
       " (3.036781414017624, 'wildfire'),\n",
       " (2.8589470573489906, 'killed'),\n",
       " (2.619795475448317, 'typhoon'),\n",
       " (2.616502339960259, 'bombing'),\n",
       " (2.6122298682537965, 'fires'),\n",
       " (2.5363012762012387, 'earthquake'),\n",
       " (2.5105560717687907, 'buildings'),\n",
       " (2.4324469618172757, 'train'),\n",
       " (2.4206506546985205, 'suicide'),\n",
       " (2.3836688523956764, 'derailment'),\n",
       " (2.374864911076289, 'near'),\n",
       " (2.334147126383494, 'storm'),\n",
       " (2.231100997520618, 'evacuated'),\n",
       " (2.205915910274888, 'floods'),\n",
       " (2.2007913489727846, 'massacre'),\n",
       " (2.179469562564117, 'japan'),\n",
       " (2.158615276244241, 'forest'),\n",
       " (2.151172188336852, 'police'),\n",
       " (2.1424789087605456, 'mh370'),\n",
       " (2.116190433196357, 'debris'),\n",
       " (2.1118721655047334, 'spill'),\n",
       " (2.0830170341569265, 'legionnaires'),\n",
       " (2.0686640281729396, 'drought'),\n",
       " (2.062780554025578, 'migrants'),\n",
       " (2.0255854025373483, 'bridge'),\n",
       " (1.9882637904135851, 'atomic'),\n",
       " (-1.9753745735105719, 'love'),\n",
       " (1.9742247228059298, 'crash'),\n",
       " (1.9126035775313839, 'crews'),\n",
       " (1.9066384097142175, 'severe'),\n",
       " (1.898508466419048, 'israeli'),\n",
       " (1.8932953573793896, 'evacuation'),\n",
       " (1.883363554236258, 'calgary'),\n",
       " (-1.8730880625891448, 'new'),\n",
       " (1.8527837805618579, 'warning'),\n",
       " (1.8258056340160045, 'deaths'),\n",
       " (1.819224447103781, 'hailstorm'),\n",
       " (1.8166616197911167, 'myanmar'),\n",
       " (1.8035105523783257, 'casualties'),\n",
       " (-1.7946922479453067, 'ebay'),\n",
       " (1.7771733217579666, 'catastrophic'),\n",
       " (1.7741957042696999, 'plane'),\n",
       " (-1.7709421099696805, 'bags'),\n",
       " (1.7651383824523494, 'terrorism'),\n",
       " (1.7643019616793019, 'outbreak'),\n",
       " (1.7570796475330606, 'airport'),\n",
       " (1.7560835974040687, 'incident'),\n",
       " (-1.7518156488595162, 'ruin'),\n",
       " (1.719638092277862, 'officials'),\n",
       " (1.704781323446204, 'car'),\n",
       " (1.6937299582920973, 'tornado'),\n",
       " (1.691127795429901, 'murder'),\n",
       " (1.677454372650005, 'investigators'),\n",
       " (1.6644876538595301, 'flood'),\n",
       " (-1.656973944100325, 'blew'),\n",
       " (1.6519727529500583, 'scene'),\n",
       " (1.6519558270254782, 'bomber'),\n",
       " (-1.6380471245333232, 'better'),\n",
       " (1.6275825810877196, 'east'),\n",
       " (1.6253779577226737, 'shot'),\n",
       " (1.625367524815874, 'confirmed'),\n",
       " (1.61334189293583, 'mass'),\n",
       " (1.609824341359201, 'helicopter'),\n",
       " (1.600047322170435, 'nuclear'),\n",
       " (1.5840238519422378, 'hundreds'),\n",
       " (1.576099520805006, 'explosion'),\n",
       " (1.5691417801934768, 'report'),\n",
       " (1.5551137550543133, 'accident'),\n",
       " (1.5539595538966382, 'attack'),\n",
       " (1.5495951206198153, 'homes'),\n",
       " (-1.5099119303719823, 'song'),\n",
       " (-1.5080583860221304, 'blight'),\n",
       " (-1.5064700385246363, 'traumatised'),\n",
       " (1.4767525615733235, 'kills'),\n",
       " (-1.4706386786314667, 'nowplaying'),\n",
       " (1.4688566392735067, 'airplane'),\n",
       " (-1.4685624613600685, 'blazing'),\n",
       " (-1.4660646140553062, 'panic'),\n",
       " (1.4622153090462244, 'palestinian'),\n",
       " (-1.4616134188782708, 'electrocute'),\n",
       " (1.460486500125279, 'crisis'),\n",
       " (1.4599180899968485, 'fukushima'),\n",
       " (1.457091780523097, 'truck'),\n",
       " (1.452690707695103, 'weather'),\n",
       " (1.4404436186267142, 'flooding'),\n",
       " (1.435614669973329, 'war'),\n",
       " (1.4354732554783243, 'terrorist'),\n",
       " (1.432780396258263, 'heavy'),\n",
       " (-1.4224576763355257, 'body'),\n",
       " (-1.4198023941133797, 'curfew'),\n",
       " (1.4183534277074101, 'libya'),\n",
       " (1.4169540470178703, 'area'),\n",
       " (-1.4160970028791136, 'wrecked'),\n",
       " (1.415087996813956, 'collision'),\n",
       " (1.412087989462874, 'rioting'),\n",
       " (1.410762343169282, 'disaster'),\n",
       " (1.4066825126521807, 'collapse'),\n",
       " (1.384743587802642, 'event')]"
      ]
     },
     "execution_count": 60,
     "metadata": {},
     "output_type": "execute_result"
    }
   ],
   "source": [
    "t"
   ]
  },
  {
   "cell_type": "code",
   "execution_count": 61,
   "id": "d3664c51-5d75-4d68-a74c-d773875048bd",
   "metadata": {},
   "outputs": [],
   "source": [
    "nationalities = [\"myanmar\", \"german\", \"israel\", \"japan\", \"taiwan\", \"turkish\", \"pakistan\", \"english\", \"finnish\", \"egypt\", \"syrian\", \"palestine\",\n",
    "                 \"saudi\", \"russian\", \"russia\", \"syria\", \"california\", \"australia\", \"ukraine\", \"chinese\", \"china\", \"arabia\", \"greece\"]\n",
    "protected_groups = [\"migrants\", \"woman\", \"female\", \"refugee\"]\n",
    "religions = [\"jew\", \"jewish\", \"muslim\", \"moslem\", \"islam\", \"christian\", \"christ\"]"
   ]
  },
  {
   "cell_type": "code",
   "execution_count": 62,
   "id": "3e2c71c0-d11f-417e-b7fb-aeaee08d9acb",
   "metadata": {},
   "outputs": [
    {
     "data": {
      "text/plain": [
       "array([[0.23285187, 0.76714813]])"
      ]
     },
     "execution_count": 62,
     "metadata": {},
     "output_type": "execute_result"
    }
   ],
   "source": [
    "clf.predict_proba([\"I'm an israeli\"])"
   ]
  },
  {
   "cell_type": "code",
   "execution_count": 63,
   "id": "fd27d5f0-eeb9-4284-a6b1-16b3836ffa0b",
   "metadata": {},
   "outputs": [
    {
     "data": {
      "text/plain": [
       "array([[0.66956782, 0.33043218]])"
      ]
     },
     "execution_count": 63,
     "metadata": {},
     "output_type": "execute_result"
    }
   ],
   "source": [
    "clf.predict_proba([\"I'm a muslim.\"])"
   ]
  },
  {
   "cell_type": "code",
   "execution_count": 64,
   "id": "1d46146e-0701-4bfe-a793-05ff11dd19d9",
   "metadata": {},
   "outputs": [
    {
     "data": {
      "text/plain": [
       "array([[0.37958405, 0.62041595]])"
      ]
     },
     "execution_count": 64,
     "metadata": {},
     "output_type": "execute_result"
    }
   ],
   "source": [
    "clf.predict_proba([\"I'm an israeli woman\"])"
   ]
  },
  {
   "cell_type": "code",
   "execution_count": 65,
   "id": "42c7a26c-764e-4276-b0d6-93f1c7fe9cb6",
   "metadata": {},
   "outputs": [
    {
     "data": {
      "text/plain": [
       "array([[0.18645087, 0.81354913]])"
      ]
     },
     "execution_count": 65,
     "metadata": {},
     "output_type": "execute_result"
    }
   ],
   "source": [
    "clf.predict_proba([\"I'm from japan.\"])"
   ]
  },
  {
   "cell_type": "code",
   "execution_count": 66,
   "id": "af28b481-5ca5-48d1-821b-e9e9c0fda9c1",
   "metadata": {},
   "outputs": [
    {
     "data": {
      "text/plain": [
       "array([[0.26384542, 0.73615458]])"
      ]
     },
     "execution_count": 66,
     "metadata": {},
     "output_type": "execute_result"
    }
   ],
   "source": [
    "clf.predict_proba([\"We're a family from myanmar.\"])"
   ]
  },
  {
   "cell_type": "code",
   "execution_count": 67,
   "id": "cc2b2879-9608-4c70-8915-4e08455aba32",
   "metadata": {},
   "outputs": [
    {
     "data": {
      "text/plain": [
       "array([[0.25579034, 0.74420966]])"
      ]
     },
     "execution_count": 67,
     "metadata": {},
     "output_type": "execute_result"
    }
   ],
   "source": [
    "clf.predict_proba([\"An isreali on a plane\"])"
   ]
  },
  {
   "cell_type": "code",
   "execution_count": 68,
   "id": "68e55d5a-30b6-4a0e-91f5-17eab3cb68d6",
   "metadata": {},
   "outputs": [
    {
     "data": {
      "text/plain": [
       "array([[0.25579034, 0.74420966]])"
      ]
     },
     "execution_count": 68,
     "metadata": {},
     "output_type": "execute_result"
    }
   ],
   "source": [
    "clf.predict_proba([\"A jew on a plane.\"])"
   ]
  },
  {
   "cell_type": "code",
   "execution_count": 69,
   "id": "b03cc234-7623-4fc1-8e3c-e8a87835cce2",
   "metadata": {},
   "outputs": [
    {
     "data": {
      "text/plain": [
       "array([[0.40685288, 0.59314712]])"
      ]
     },
     "execution_count": 69,
     "metadata": {},
     "output_type": "execute_result"
    }
   ],
   "source": [
    "clf.predict_proba([\"A woman on a plane.\"])"
   ]
  },
  {
   "cell_type": "code",
   "execution_count": 80,
   "id": "e42fdd40-03e9-46f2-8e63-4b95d1a02897",
   "metadata": {},
   "outputs": [
    {
     "data": {
      "text/plain": [
       "array([[0.36145207, 0.63854793]])"
      ]
     },
     "execution_count": 80,
     "metadata": {},
     "output_type": "execute_result"
    }
   ],
   "source": [
    "clf.predict_proba([\"A man on a plane.\"])"
   ]
  },
  {
   "cell_type": "markdown",
   "id": "84e06d71-508a-4050-a599-db84f47fa26c",
   "metadata": {},
   "source": [
    "## Look at clusters"
   ]
  },
  {
   "cell_type": "code",
   "execution_count": 70,
   "id": "f7af2f27-1618-4065-81bd-fc7bcd111e41",
   "metadata": {},
   "outputs": [],
   "source": [
    "#from bertopic import BERTopic\n",
    "\n",
    "#topic_model = BERTopic()\n",
    "#topics, probs = topic_model.fit_transform(df.text)"
   ]
  },
  {
   "cell_type": "code",
   "execution_count": 71,
   "id": "bfa3fa05-4705-427f-9297-5b79f730b6b3",
   "metadata": {},
   "outputs": [],
   "source": [
    "#topic_model.visualize_documents(df.text)"
   ]
  },
  {
   "cell_type": "markdown",
   "id": "c420d8fa-a1b0-4e26-a06a-4684bf875488",
   "metadata": {},
   "source": [
    "## run lime on tweets with protected attributes"
   ]
  },
  {
   "cell_type": "code",
   "execution_count": 72,
   "id": "f1bc828a-ed12-45a8-8623-9927d087fcef",
   "metadata": {},
   "outputs": [],
   "source": [
    "nationality_tweets = []\n",
    "for tweet in df.text:\n",
    "    if any(n in tweet.lower() for n in nationalities):\n",
    "        nationality_tweets.append(tweet)"
   ]
  },
  {
   "cell_type": "code",
   "execution_count": 73,
   "id": "d9f8b250-dbaa-420b-83c3-9dbe6982fc5d",
   "metadata": {},
   "outputs": [
    {
     "data": {
      "text/plain": [
       "505"
      ]
     },
     "execution_count": 73,
     "metadata": {},
     "output_type": "execute_result"
    }
   ],
   "source": [
    "len(nationality_tweets)"
   ]
  },
  {
   "cell_type": "code",
   "execution_count": 74,
   "id": "f86b6888-e3f0-40cb-b49c-24484fb54b6c",
   "metadata": {},
   "outputs": [
    {
     "data": {
      "text/plain": [
       "0.06633390253513727"
      ]
     },
     "execution_count": 74,
     "metadata": {},
     "output_type": "execute_result"
    }
   ],
   "source": [
    "len(nationality_tweets) / len(df.text)"
   ]
  },
  {
   "cell_type": "code",
   "execution_count": 75,
   "id": "950f875b-7089-4e19-afc6-d820ad1b0a04",
   "metadata": {},
   "outputs": [],
   "source": [
    "import eli5\n",
    "from eli5.lime import TextExplainer\n",
    "from typing import List\n",
    "\n",
    "\n",
    "def important_lime_words(model, text: str, target_names: List[str], top_n: int = 10):\n",
    "    te = TextExplainer(random_state=42)\n",
    "    te.fit(text, model.predict_proba)\n",
    "    #te.show_prediction(target_names=target_names, feature_names=te.vec_.get_feature_names_out())\n",
    "    interpret_sample_dict = {c: w for c, w in zip(te.clf_.coef_[0], te.vec_.get_feature_names_out())}\n",
    "    top_interpret_sample_dict = sorted(interpret_sample_dict.items(), key=lambda x: -np.abs(x[0]))[:min(len(interpret_sample_dict), 10)]\n",
    "    return [w for (s, w) in top_interpret_sample_dict]"
   ]
  },
  {
   "cell_type": "code",
   "execution_count": 76,
   "id": "57faa157-57ca-4ca0-8b1d-3da0c862a284",
   "metadata": {},
   "outputs": [
    {
     "name": "stdout",
     "output_type": "stream",
     "text": [
      "Christian Attacked by Muslims at the Temple Mount after Waving Israeli Flag via Pamela Geller - ... \n"
     ]
    },
    {
     "name": "stderr",
     "output_type": "stream",
     "text": [
      "/home/tobias/.cache/pypoetry/virtualenvs/biaslyze-OjqpgMw8-py3.8/lib/python3.8/site-packages/sklearn/linear_model/_stochastic_gradient.py:165: FutureWarning: The loss 'log' was deprecated in v1.1 and will be removed in version 1.3. Use `loss='log_loss'` which is equivalent.\n",
      "  warnings.warn(\n"
     ]
    },
    {
     "data": {
      "text/plain": [
       "['israeli',\n",
       " 'temple',\n",
       " 'mount',\n",
       " 'muslims',\n",
       " 'christian',\n",
       " 'waving',\n",
       " 'geller',\n",
       " 'waving israeli',\n",
       " 'flag',\n",
       " 'temple mount']"
      ]
     },
     "execution_count": 76,
     "metadata": {},
     "output_type": "execute_result"
    }
   ],
   "source": [
    "text = nationality_tweets[49]\n",
    "\n",
    "print(text)\n",
    "important_lime_words(\n",
    "    model=clf,\n",
    "    text=text,\n",
    "    target_names=[\"no-disaster\", \"disaster\"]\n",
    ")"
   ]
  },
  {
   "cell_type": "code",
   "execution_count": 82,
   "id": "bdfbb16e-79ef-4c9f-a338-88844fae6850",
   "metadata": {},
   "outputs": [
    {
     "name": "stderr",
     "output_type": "stream",
     "text": [
      "/home/tobias/.cache/pypoetry/virtualenvs/biaslyze-OjqpgMw8-py3.8/lib/python3.8/site-packages/sklearn/linear_model/_stochastic_gradient.py:165: FutureWarning: The loss 'log' was deprecated in v1.1 and will be removed in version 1.3. Use `loss='log_loss'` which is equivalent.\n",
      "  warnings.warn(\n"
     ]
    },
    {
     "data": {
      "text/plain": [
       "['man',\n",
       " 'isreali',\n",
       " 'am',\n",
       " 'an',\n",
       " 'i',\n",
       " 'an isreali',\n",
       " 'am an',\n",
       " 'isreali man',\n",
       " 'i am']"
      ]
     },
     "execution_count": 82,
     "metadata": {},
     "output_type": "execute_result"
    }
   ],
   "source": [
    "important_lime_words(\n",
    "    model=clf,\n",
    "    text=\"I am an isreali man\",\n",
    "    target_names=[\"no-disaster\", \"disaster\"]\n",
    ")"
   ]
  },
  {
   "cell_type": "markdown",
   "id": "bd393bd7-d050-46a0-9836-f6eb540f7d7c",
   "metadata": {},
   "source": [
    "## does changing the protected attribute change the prediction?"
   ]
  },
  {
   "cell_type": "code",
   "execution_count": 77,
   "id": "656798bb-85c0-442b-8910-f73d0c59ae6e",
   "metadata": {},
   "outputs": [
    {
     "name": "stdout",
     "output_type": "stream",
     "text": [
      "I liked a @YouTube video  FEMA REGION III TARGETED for BIOTERRORISM !!! NASA - JAPAN ROCKET LAUNCH with LITHIUM\n"
     ]
    },
    {
     "data": {
      "text/plain": [
       "array([[0.34110311, 0.65889689]])"
      ]
     },
     "execution_count": 77,
     "metadata": {},
     "output_type": "execute_result"
    }
   ],
   "source": [
    "text = nationality_tweets[63]\n",
    "print(text)\n",
    "\n",
    "clf.predict_proba([text])"
   ]
  },
  {
   "cell_type": "code",
   "execution_count": 78,
   "id": "5d73277d-e19e-4055-97d1-a481f98ac778",
   "metadata": {},
   "outputs": [
    {
     "name": "stdout",
     "output_type": "stream",
     "text": [
      "I liked a @YouTube video  FEMA REGION III TARGETED for BIOTERRORISM !!! NASA - JAPAN ROCKET LAUNCH with LITHIUM\n"
     ]
    },
    {
     "data": {
      "text/plain": [
       "array([[0.34110311, 0.65889689]])"
      ]
     },
     "execution_count": 78,
     "metadata": {},
     "output_type": "execute_result"
    }
   ],
   "source": [
    "text2 = text.replace(\"German\", \"Muslim\")\n",
    "print(text2)\n",
    "\n",
    "clf.predict_proba([text2])"
   ]
  },
  {
   "cell_type": "code",
   "execution_count": 79,
   "id": "8e3426bf-a6f7-4479-9d54-b614a4bc296d",
   "metadata": {},
   "outputs": [
    {
     "name": "stderr",
     "output_type": "stream",
     "text": [
      "/home/tobias/.cache/pypoetry/virtualenvs/biaslyze-OjqpgMw8-py3.8/lib/python3.8/site-packages/sklearn/linear_model/_stochastic_gradient.py:165: FutureWarning: The loss 'log' was deprecated in v1.1 and will be removed in version 1.3. Use `loss='log_loss'` which is equivalent.\n",
      "  warnings.warn(\n"
     ]
    },
    {
     "data": {
      "text/plain": [
       "['japan',\n",
       " 'region',\n",
       " 'bioterrorism',\n",
       " 'liked',\n",
       " 'youtube',\n",
       " 'video',\n",
       " 'youtube video',\n",
       " 'video fema',\n",
       " 'lithium',\n",
       " 'launch']"
      ]
     },
     "execution_count": 79,
     "metadata": {},
     "output_type": "execute_result"
    }
   ],
   "source": [
    "important_lime_words(\n",
    "    model=clf,\n",
    "    text=text,\n",
    "    target_names=[\"no-disaster\", \"disaster\"]\n",
    ")"
   ]
  },
  {
   "cell_type": "code",
   "execution_count": null,
   "id": "6a5b4b8a-79bf-4874-8cef-a42fa1277618",
   "metadata": {},
   "outputs": [],
   "source": []
  },
  {
   "cell_type": "code",
   "execution_count": null,
   "id": "a8351d74-96c2-40ed-a0cc-7362438b848d",
   "metadata": {},
   "outputs": [],
   "source": []
  }
 ],
 "metadata": {
  "kernelspec": {
   "display_name": "Python 3 (ipykernel)",
   "language": "python",
   "name": "python3"
  },
  "language_info": {
   "codemirror_mode": {
    "name": "ipython",
    "version": 3
   },
   "file_extension": ".py",
   "mimetype": "text/x-python",
   "name": "python",
   "nbconvert_exporter": "python",
   "pygments_lexer": "ipython3",
   "version": "3.8.10"
  }
 },
 "nbformat": 4,
 "nbformat_minor": 5
}
