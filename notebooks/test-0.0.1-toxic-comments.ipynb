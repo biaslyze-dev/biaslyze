{
 "cells": [
  {
   "cell_type": "markdown",
   "id": "9ca7febe-a5e3-41c2-aa2b-a7e56db76969",
   "metadata": {},
   "source": [
    "# Test biaslyze with the toxic comments dataset\n",
    "\n",
    "Data source: https://www.kaggle.com/c/jigsaw-toxic-comment-classification-challenge"
   ]
  },
  {
   "cell_type": "code",
   "execution_count": 2,
   "id": "5bfdc6f1-6926-458d-b825-c37f12a2932e",
   "metadata": {},
   "outputs": [],
   "source": [
    "%load_ext autoreload\n",
    "%autoreload 2"
   ]
  },
  {
   "cell_type": "code",
   "execution_count": 3,
   "id": "dd3f06ea-6bc8-4be9-8515-5771d1762a08",
   "metadata": {},
   "outputs": [],
   "source": [
    "import sys\n",
    "sys.path.append('/home/tobias/Repositories/biaslyze/')"
   ]
  },
  {
   "cell_type": "code",
   "execution_count": 4,
   "id": "136169e8-ffb7-4326-b387-3c0e8c9fddcf",
   "metadata": {},
   "outputs": [],
   "source": [
    "import numpy as np\n",
    "import pandas as pd\n",
    "from sklearn.feature_extraction.text import TfidfVectorizer\n",
    "from sklearn.linear_model import LogisticRegression\n",
    "from sklearn.pipeline import make_pipeline\n",
    "from sklearn.metrics import accuracy_score"
   ]
  },
  {
   "cell_type": "markdown",
   "id": "1831829c-9a99-48ff-a8aa-63044cce627a",
   "metadata": {},
   "source": [
    "## Load and prepare data"
   ]
  },
  {
   "cell_type": "code",
   "execution_count": 5,
   "id": "6cb0361b-9a49-48a8-89ba-79301470a39b",
   "metadata": {},
   "outputs": [
    {
     "data": {
      "text/html": [
       "<div>\n",
       "<style scoped>\n",
       "    .dataframe tbody tr th:only-of-type {\n",
       "        vertical-align: middle;\n",
       "    }\n",
       "\n",
       "    .dataframe tbody tr th {\n",
       "        vertical-align: top;\n",
       "    }\n",
       "\n",
       "    .dataframe thead th {\n",
       "        text-align: right;\n",
       "    }\n",
       "</style>\n",
       "<table border=\"1\" class=\"dataframe\">\n",
       "  <thead>\n",
       "    <tr style=\"text-align: right;\">\n",
       "      <th></th>\n",
       "      <th>id</th>\n",
       "      <th>comment_text</th>\n",
       "      <th>toxic</th>\n",
       "      <th>severe_toxic</th>\n",
       "      <th>obscene</th>\n",
       "      <th>threat</th>\n",
       "      <th>insult</th>\n",
       "      <th>identity_hate</th>\n",
       "    </tr>\n",
       "  </thead>\n",
       "  <tbody>\n",
       "    <tr>\n",
       "      <th>0</th>\n",
       "      <td>0000997932d777bf</td>\n",
       "      <td>Explanation\\nWhy the edits made under my usern...</td>\n",
       "      <td>0</td>\n",
       "      <td>0</td>\n",
       "      <td>0</td>\n",
       "      <td>0</td>\n",
       "      <td>0</td>\n",
       "      <td>0</td>\n",
       "    </tr>\n",
       "    <tr>\n",
       "      <th>1</th>\n",
       "      <td>000103f0d9cfb60f</td>\n",
       "      <td>D'aww! He matches this background colour I'm s...</td>\n",
       "      <td>0</td>\n",
       "      <td>0</td>\n",
       "      <td>0</td>\n",
       "      <td>0</td>\n",
       "      <td>0</td>\n",
       "      <td>0</td>\n",
       "    </tr>\n",
       "    <tr>\n",
       "      <th>2</th>\n",
       "      <td>000113f07ec002fd</td>\n",
       "      <td>Hey man, I'm really not trying to edit war. It...</td>\n",
       "      <td>0</td>\n",
       "      <td>0</td>\n",
       "      <td>0</td>\n",
       "      <td>0</td>\n",
       "      <td>0</td>\n",
       "      <td>0</td>\n",
       "    </tr>\n",
       "    <tr>\n",
       "      <th>3</th>\n",
       "      <td>0001b41b1c6bb37e</td>\n",
       "      <td>\"\\nMore\\nI can't make any real suggestions on ...</td>\n",
       "      <td>0</td>\n",
       "      <td>0</td>\n",
       "      <td>0</td>\n",
       "      <td>0</td>\n",
       "      <td>0</td>\n",
       "      <td>0</td>\n",
       "    </tr>\n",
       "    <tr>\n",
       "      <th>4</th>\n",
       "      <td>0001d958c54c6e35</td>\n",
       "      <td>You, sir, are my hero. Any chance you remember...</td>\n",
       "      <td>0</td>\n",
       "      <td>0</td>\n",
       "      <td>0</td>\n",
       "      <td>0</td>\n",
       "      <td>0</td>\n",
       "      <td>0</td>\n",
       "    </tr>\n",
       "  </tbody>\n",
       "</table>\n",
       "</div>"
      ],
      "text/plain": [
       "                 id                                       comment_text  toxic  \\\n",
       "0  0000997932d777bf  Explanation\\nWhy the edits made under my usern...      0   \n",
       "1  000103f0d9cfb60f  D'aww! He matches this background colour I'm s...      0   \n",
       "2  000113f07ec002fd  Hey man, I'm really not trying to edit war. It...      0   \n",
       "3  0001b41b1c6bb37e  \"\\nMore\\nI can't make any real suggestions on ...      0   \n",
       "4  0001d958c54c6e35  You, sir, are my hero. Any chance you remember...      0   \n",
       "\n",
       "   severe_toxic  obscene  threat  insult  identity_hate  \n",
       "0             0        0       0       0              0  \n",
       "1             0        0       0       0              0  \n",
       "2             0        0       0       0              0  \n",
       "3             0        0       0       0              0  \n",
       "4             0        0       0       0              0  "
      ]
     },
     "execution_count": 5,
     "metadata": {},
     "output_type": "execute_result"
    }
   ],
   "source": [
    "df = pd.read_csv(\"../data/jigsaw-toxic-comment-classification/train.csv\"); df.head()"
   ]
  },
  {
   "cell_type": "code",
   "execution_count": 11,
   "id": "209acd8a-0920-4de4-ad30-60cf950ace52",
   "metadata": {},
   "outputs": [],
   "source": [
    "# make the classification problem binary\n",
    "df[\"target\"] = df[[\"toxic\", \"severe_toxic\", \"obscene\", \"threat\", \"insult\", \"identity_hate\"]].sum(axis=1) > 0"
   ]
  },
  {
   "cell_type": "markdown",
   "id": "8360a203-b400-44f3-8d6a-3308005e4ec4",
   "metadata": {},
   "source": [
    "## Train a BoW-model"
   ]
  },
  {
   "cell_type": "code",
   "execution_count": 12,
   "id": "6b28d4aa-17ef-4165-b43b-9bb81a3ee6fd",
   "metadata": {},
   "outputs": [],
   "source": [
    "clf = make_pipeline(TfidfVectorizer(min_df=10, max_features=10000, stop_words=\"english\"), LogisticRegression())"
   ]
  },
  {
   "cell_type": "code",
   "execution_count": 13,
   "id": "ccc41891-f3e7-4935-8d3f-54876c388cef",
   "metadata": {},
   "outputs": [
    {
     "name": "stderr",
     "output_type": "stream",
     "text": [
      "/home/tobias/.cache/pypoetry/virtualenvs/biaslyze-OjqpgMw8-py3.8/lib/python3.8/site-packages/sklearn/linear_model/_logistic.py:458: ConvergenceWarning: lbfgs failed to converge (status=1):\n",
      "STOP: TOTAL NO. of ITERATIONS REACHED LIMIT.\n",
      "\n",
      "Increase the number of iterations (max_iter) or scale the data as shown in:\n",
      "    https://scikit-learn.org/stable/modules/preprocessing.html\n",
      "Please also refer to the documentation for alternative solver options:\n",
      "    https://scikit-learn.org/stable/modules/linear_model.html#logistic-regression\n",
      "  n_iter_i = _check_optimize_result(\n"
     ]
    },
    {
     "data": {
      "text/html": [
       "<style>#sk-container-id-1 {color: black;background-color: white;}#sk-container-id-1 pre{padding: 0;}#sk-container-id-1 div.sk-toggleable {background-color: white;}#sk-container-id-1 label.sk-toggleable__label {cursor: pointer;display: block;width: 100%;margin-bottom: 0;padding: 0.3em;box-sizing: border-box;text-align: center;}#sk-container-id-1 label.sk-toggleable__label-arrow:before {content: \"▸\";float: left;margin-right: 0.25em;color: #696969;}#sk-container-id-1 label.sk-toggleable__label-arrow:hover:before {color: black;}#sk-container-id-1 div.sk-estimator:hover label.sk-toggleable__label-arrow:before {color: black;}#sk-container-id-1 div.sk-toggleable__content {max-height: 0;max-width: 0;overflow: hidden;text-align: left;background-color: #f0f8ff;}#sk-container-id-1 div.sk-toggleable__content pre {margin: 0.2em;color: black;border-radius: 0.25em;background-color: #f0f8ff;}#sk-container-id-1 input.sk-toggleable__control:checked~div.sk-toggleable__content {max-height: 200px;max-width: 100%;overflow: auto;}#sk-container-id-1 input.sk-toggleable__control:checked~label.sk-toggleable__label-arrow:before {content: \"▾\";}#sk-container-id-1 div.sk-estimator input.sk-toggleable__control:checked~label.sk-toggleable__label {background-color: #d4ebff;}#sk-container-id-1 div.sk-label input.sk-toggleable__control:checked~label.sk-toggleable__label {background-color: #d4ebff;}#sk-container-id-1 input.sk-hidden--visually {border: 0;clip: rect(1px 1px 1px 1px);clip: rect(1px, 1px, 1px, 1px);height: 1px;margin: -1px;overflow: hidden;padding: 0;position: absolute;width: 1px;}#sk-container-id-1 div.sk-estimator {font-family: monospace;background-color: #f0f8ff;border: 1px dotted black;border-radius: 0.25em;box-sizing: border-box;margin-bottom: 0.5em;}#sk-container-id-1 div.sk-estimator:hover {background-color: #d4ebff;}#sk-container-id-1 div.sk-parallel-item::after {content: \"\";width: 100%;border-bottom: 1px solid gray;flex-grow: 1;}#sk-container-id-1 div.sk-label:hover label.sk-toggleable__label {background-color: #d4ebff;}#sk-container-id-1 div.sk-serial::before {content: \"\";position: absolute;border-left: 1px solid gray;box-sizing: border-box;top: 0;bottom: 0;left: 50%;z-index: 0;}#sk-container-id-1 div.sk-serial {display: flex;flex-direction: column;align-items: center;background-color: white;padding-right: 0.2em;padding-left: 0.2em;position: relative;}#sk-container-id-1 div.sk-item {position: relative;z-index: 1;}#sk-container-id-1 div.sk-parallel {display: flex;align-items: stretch;justify-content: center;background-color: white;position: relative;}#sk-container-id-1 div.sk-item::before, #sk-container-id-1 div.sk-parallel-item::before {content: \"\";position: absolute;border-left: 1px solid gray;box-sizing: border-box;top: 0;bottom: 0;left: 50%;z-index: -1;}#sk-container-id-1 div.sk-parallel-item {display: flex;flex-direction: column;z-index: 1;position: relative;background-color: white;}#sk-container-id-1 div.sk-parallel-item:first-child::after {align-self: flex-end;width: 50%;}#sk-container-id-1 div.sk-parallel-item:last-child::after {align-self: flex-start;width: 50%;}#sk-container-id-1 div.sk-parallel-item:only-child::after {width: 0;}#sk-container-id-1 div.sk-dashed-wrapped {border: 1px dashed gray;margin: 0 0.4em 0.5em 0.4em;box-sizing: border-box;padding-bottom: 0.4em;background-color: white;}#sk-container-id-1 div.sk-label label {font-family: monospace;font-weight: bold;display: inline-block;line-height: 1.2em;}#sk-container-id-1 div.sk-label-container {text-align: center;}#sk-container-id-1 div.sk-container {/* jupyter's `normalize.less` sets `[hidden] { display: none; }` but bootstrap.min.css set `[hidden] { display: none !important; }` so we also need the `!important` here to be able to override the default hidden behavior on the sphinx rendered scikit-learn.org. See: https://github.com/scikit-learn/scikit-learn/issues/21755 */display: inline-block !important;position: relative;}#sk-container-id-1 div.sk-text-repr-fallback {display: none;}</style><div id=\"sk-container-id-1\" class=\"sk-top-container\"><div class=\"sk-text-repr-fallback\"><pre>Pipeline(steps=[(&#x27;tfidfvectorizer&#x27;,\n",
       "                 TfidfVectorizer(max_features=10000, min_df=10,\n",
       "                                 stop_words=&#x27;english&#x27;)),\n",
       "                (&#x27;logisticregression&#x27;, LogisticRegression())])</pre><b>In a Jupyter environment, please rerun this cell to show the HTML representation or trust the notebook. <br />On GitHub, the HTML representation is unable to render, please try loading this page with nbviewer.org.</b></div><div class=\"sk-container\" hidden><div class=\"sk-item sk-dashed-wrapped\"><div class=\"sk-label-container\"><div class=\"sk-label sk-toggleable\"><input class=\"sk-toggleable__control sk-hidden--visually\" id=\"sk-estimator-id-1\" type=\"checkbox\" ><label for=\"sk-estimator-id-1\" class=\"sk-toggleable__label sk-toggleable__label-arrow\">Pipeline</label><div class=\"sk-toggleable__content\"><pre>Pipeline(steps=[(&#x27;tfidfvectorizer&#x27;,\n",
       "                 TfidfVectorizer(max_features=10000, min_df=10,\n",
       "                                 stop_words=&#x27;english&#x27;)),\n",
       "                (&#x27;logisticregression&#x27;, LogisticRegression())])</pre></div></div></div><div class=\"sk-serial\"><div class=\"sk-item\"><div class=\"sk-estimator sk-toggleable\"><input class=\"sk-toggleable__control sk-hidden--visually\" id=\"sk-estimator-id-2\" type=\"checkbox\" ><label for=\"sk-estimator-id-2\" class=\"sk-toggleable__label sk-toggleable__label-arrow\">TfidfVectorizer</label><div class=\"sk-toggleable__content\"><pre>TfidfVectorizer(max_features=10000, min_df=10, stop_words=&#x27;english&#x27;)</pre></div></div></div><div class=\"sk-item\"><div class=\"sk-estimator sk-toggleable\"><input class=\"sk-toggleable__control sk-hidden--visually\" id=\"sk-estimator-id-3\" type=\"checkbox\" ><label for=\"sk-estimator-id-3\" class=\"sk-toggleable__label sk-toggleable__label-arrow\">LogisticRegression</label><div class=\"sk-toggleable__content\"><pre>LogisticRegression()</pre></div></div></div></div></div></div></div>"
      ],
      "text/plain": [
       "Pipeline(steps=[('tfidfvectorizer',\n",
       "                 TfidfVectorizer(max_features=10000, min_df=10,\n",
       "                                 stop_words='english')),\n",
       "                ('logisticregression', LogisticRegression())])"
      ]
     },
     "execution_count": 13,
     "metadata": {},
     "output_type": "execute_result"
    }
   ],
   "source": [
    "clf.fit(df.comment_text, df.target)"
   ]
  },
  {
   "cell_type": "code",
   "execution_count": 15,
   "id": "086aed03-08e7-4382-88ed-92e706c22ed1",
   "metadata": {},
   "outputs": [
    {
     "name": "stdout",
     "output_type": "stream",
     "text": [
      "0.9605755431751384\n"
     ]
    }
   ],
   "source": [
    "train_pred = clf.predict(df.comment_text)\n",
    "print(accuracy_score(df.target, train_pred))"
   ]
  },
  {
   "cell_type": "markdown",
   "id": "eafd8506-c670-411d-8621-42b7049be826",
   "metadata": {},
   "source": [
    "## Test LIME based bias detection with keywords"
   ]
  },
  {
   "cell_type": "code",
   "execution_count": 18,
   "id": "9399c76a-2299-49c9-a111-3b125798e807",
   "metadata": {},
   "outputs": [],
   "source": [
    "from biaslyze.evaluators import LimeBiasEvaluator\n",
    "from biaslyze.bias_detectors import LimeKeywordBiasDetector"
   ]
  },
  {
   "cell_type": "code",
   "execution_count": 71,
   "id": "83c61a69-1141-4a76-b372-e2e33857882f",
   "metadata": {},
   "outputs": [],
   "source": [
    "bias_detector = LimeKeywordBiasDetector(\n",
    "    bias_evaluator=LimeBiasEvaluator(n_lime_samples=2000),\n",
    "    n_top_keywords=10,\n",
    "    use_tokenizer=True\n",
    ")"
   ]
  },
  {
   "cell_type": "code",
   "execution_count": 72,
   "id": "c2cffca2-67f3-4024-b23a-d03eaa83ae05",
   "metadata": {
    "scrolled": true,
    "tags": []
   },
   "outputs": [
    {
     "name": "stderr",
     "output_type": "stream",
     "text": [
      "2023-03-07 10:26:05.323 | INFO     | biaslyze.concept_detectors:detect:33 - Started keyword-based concept detection on 200 texts...\n",
      "100%|███████████████████████████████████████████████████████████████████████████████████████████████████████████████████████████████████████████████████████████████████████████████████████████████████████████████████████████████████████████| 200/200 [00:04<00:00, 45.23it/s]\n",
      "2023-03-07 10:26:09.758 | INFO     | biaslyze.concept_detectors:detect:49 - Done. Found 50 texts with protected concepts.\n",
      "2023-03-07 10:26:09.759 | INFO     | biaslyze.evaluators:evaluate:41 - Started bias detection on 50 samples...\n",
      "100%|█████████████████████████████████████████████████████████████████████████████████████████████████████████████████████████████████████████████████████████████████████████████████████████████████████████████████████████████████████████████| 50/50 [01:29<00:00,  1.80s/it]\n"
     ]
    }
   ],
   "source": [
    "test_texts = df.comment_text.sample(200)\n",
    "detection_res = bias_detector.detect(texts=test_texts, predict_func=clf.predict_proba)"
   ]
  },
  {
   "cell_type": "code",
   "execution_count": 73,
   "id": "fc086f59-23dd-456b-a88e-8e49060f3e13",
   "metadata": {},
   "outputs": [
    {
     "name": "stdout",
     "output_type": "stream",
     "text": [
      "Detected 13 samples with potential issues.\n",
      "    Potentially problematic concepts detected: [('gender', 10), ('nationality', 3)]\n",
      "    Based on keywords: [('english', 3), ('men', 2), ('his', 1), ('she', 1), ('mother', 1), ('man', 1), ('bro', 1), ('her', 1), ('father', 1), ('sister', 1), ('daughter', 1)].\n"
     ]
    }
   ],
   "source": [
    "detection_res.summary()"
   ]
  },
  {
   "cell_type": "code",
   "execution_count": 74,
   "id": "c6a1e029-7dbf-4649-840b-3f21d501d253",
   "metadata": {
    "scrolled": true,
    "tags": []
   },
   "outputs": [
    {
     "name": "stdout",
     "output_type": "stream",
     "text": [
      "Concept: gender\n",
      "[{'reason': ['his'],\n",
      "  'text': '.\\n'\n",
      "          '\\n'\n",
      "          '2006 notes another step for the University of Wisconsin - '\n",
      "          'Milwaukee, when Joseph Munz - a delivery worker - was murdered when '\n",
      "          'financially supporting his own education.  For crime in Milwaukee, '\n",
      "          'Wisconsin see Milwaukee'},\n",
      " {'reason': ['she'], 'text': 'Norlen \\n\\nIs she still VP?'},\n",
      " {'reason': ['mother'],\n",
      "  'text': 'hi, please read this its important \\n'\n",
      "          '\\n'\n",
      "          'FUCK YOU, BITCH!\\n'\n",
      "          'I can do whatever i want, and there is nothing you can do to stop '\n",
      "          'me. you are without doubt the most annoying piece of shit i have '\n",
      "          'ever even heard of. you are a flat out embarrasment to humankind. '\n",
      "          'do the world a favour and kill yourself, ok? the world will be a '\n",
      "          \"better place without you. or if you can't bring yourself to do it, \"\n",
      "          'get someone else to do it, see if i care. you are a pathetic worm. '\n",
      "          'go and burn in hell. on second thought, hell is too good for you. '\n",
      "          'go to the darkest, most desolate pits of the universe and stay '\n",
      "          'there in agony. you are a despondently hopeless worm who can do '\n",
      "          'nothing but annoy people. even your mother probably wants to kill '\n",
      "          'or maim you in some way. \\n'\n",
      "          '\\n'\n",
      "          'BURN IN HELL, SNOWOLF!!!\\n'\n",
      "          '\\n'\n",
      "          'thank you, and have a painfull death'},\n",
      " {'reason': ['man'],\n",
      "  'text': 'hey\\n'\n",
      "          \"hey nigga whats up man, i was jus wanderin' why do yall make it so \"\n",
      "          'hard to do the wikipedia stuff?'},\n",
      " {'reason': ['bro'], 'text': \"That's a pretty cool story bro.\"},\n",
      " {'reason': ['her'],\n",
      "  'text': 'It was a joke, honestly everyone needs to get off her back about '\n",
      "          'everything.'},\n",
      " {'reason': ['father'],\n",
      "  'text': 'If this is the guy who I met at University, he goes by the name '\n",
      "          'Cameron St. John.  His father is a professor in Manotoba.\\n'\n",
      "          '\\n'\n",
      "          'He was the President of the Campus Social Credit Association, and '\n",
      "          'had a job off campus at Your Family Food Mart, restocking '\n",
      "          'shelves.24.84.233.33'},\n",
      " {'reason': ['men'],\n",
      "  'text': '\"\\n'\n",
      "          'The uprising began in Benghazi after a \"\" a small human rights '\n",
      "          'protest, over the massacre of political prisoners from Benghazi 15 '\n",
      "          'years before \"\"  (BBC Panorama, Fighting Gaddafi, reporter, Paul '\n",
      "          'Kenyon) . It escalated  when the authorities launched a violent '\n",
      "          'crackdown, firing at unarmed protesters.  The use of terror that '\n",
      "          \"Gaddafi's men used inspired revlot - this is a theme of his rule I \"\n",
      "          'believe , -see todays report on Channel 4 also on fate of Zawiya , '\n",
      "          \"a 'ghost town' after Gaddafis brutal suppression of the uprising \"\n",
      "          'there .    \"'},\n",
      " {'reason': ['sister', 'daughter'],\n",
      "  'text': 'Again, not sister (or daughter), but close family. So what Edi Rama '\n",
      "          'says is correct.'},\n",
      " {'reason': ['men'], 'text': 'Tom Likes it Up the Pooper!!! \\n\\nBY MEN!!!'}]\n",
      "Concept: nationality\n",
      "[{'reason': ['english'],\n",
      "  'text': 'This is an English language artical. The Hawaiian spelling is '\n",
      "          'properly noted in the first paragraph. Fowoling that, it should '\n",
      "          'folow English language guidlines.'},\n",
      " {'reason': ['english'],\n",
      "  'text': '\"\\n'\n",
      "          '\\n'\n",
      "          ' simple english \\n'\n",
      "          '\\n'\n",
      "          'Clicking on \"\"simple english\"\" leads me to the baseball player...\"'},\n",
      " {'reason': ['english'],\n",
      "  'text': 'Action Game \\n'\n",
      "          \"There was also an Action Game version which isn't mentioned \"\n",
      "          'anywhere on English Wikipedia:\\n'\n",
      "          'http://www.mobygames.com/game/dos/indiana-jones-and-the-fate-of-atlantis-the-action-game'}]\n"
     ]
    }
   ],
   "source": [
    "detection_res.details(group_by_concept=True)"
   ]
  },
  {
   "cell_type": "code",
   "execution_count": 75,
   "id": "0eaef933-c3ff-4268-b4fd-7e9966fa7956",
   "metadata": {},
   "outputs": [],
   "source": [
    "test_df = df.iloc[test_texts.index]"
   ]
  },
  {
   "cell_type": "code",
   "execution_count": 76,
   "id": "262dcc47-effc-4c00-8830-70c63bf6b573",
   "metadata": {},
   "outputs": [
    {
     "data": {
      "text/plain": [
       "\"Cunt \\n\\nYou're a cunt, Emilyn.\""
      ]
     },
     "execution_count": 76,
     "metadata": {},
     "output_type": "execute_result"
    }
   ],
   "source": [
    "test_df[test_df.target].reset_index().comment_text[4]"
   ]
  },
  {
   "cell_type": "markdown",
   "id": "cf858ae3-65db-44db-8ae9-f08383e3fce9",
   "metadata": {},
   "source": [
    "## Testing a sentiment analysis model from huggingface"
   ]
  },
  {
   "cell_type": "code",
   "execution_count": 190,
   "id": "077c6957-6718-4344-9154-6caab25ff333",
   "metadata": {},
   "outputs": [],
   "source": [
    "from transformers import pipeline\n",
    "from torch.utils.data import Dataset\n",
    "\n",
    "\n",
    "classifier = pipeline(model=\"distilbert-base-uncased-finetuned-sst-2-english\", top_k=None)"
   ]
  },
  {
   "cell_type": "code",
   "execution_count": 191,
   "id": "c771fd93-fb08-488b-8772-cbf49e760442",
   "metadata": {},
   "outputs": [],
   "source": [
    "class MyDataset(Dataset):\n",
    "    def __init__(self, data):\n",
    "        super().__init__()\n",
    "        self.data = data\n",
    "\n",
    "    def __len__(self):\n",
    "        return len(self.data)\n",
    "\n",
    "    def __getitem__(self, i):\n",
    "        return self.data[i]\n",
    "\n",
    "\n",
    "def predict_sentiment(texts):\n",
    "    data = MyDataset(texts)\n",
    "    proba = []\n",
    "    for res in classifier(data):\n",
    "        proba_array = []\n",
    "        for p in sorted(res, key=lambda d: d['label'], reverse=True):\n",
    "            proba_array.append(p.get(\"score\"))\n",
    "        proba.append(np.array(proba_array))\n",
    "    return np.array(proba) / np.array(proba).sum(axis=1)[:,None]"
   ]
  },
  {
   "cell_type": "code",
   "execution_count": 194,
   "id": "45e35216-b250-4b02-af4e-8abc7ecc25fe",
   "metadata": {},
   "outputs": [],
   "source": [
    "bias_detector = LimeKeywordBiasDetector(\n",
    "    bias_evaluator=LimeBiasEvaluator(n_lime_samples=500),\n",
    "    n_top_keywords=10,\n",
    "    use_tokenizer=True\n",
    ")"
   ]
  },
  {
   "cell_type": "code",
   "execution_count": 195,
   "id": "ba49896f-3d34-4cab-9ae2-632fe2f59f52",
   "metadata": {},
   "outputs": [
    {
     "name": "stderr",
     "output_type": "stream",
     "text": [
      "2023-03-07 11:30:16.506 | INFO     | biaslyze.concept_detectors:detect:33 - Started keyword-based concept detection on 50 texts...\n",
      "100%|█████████████████████████████████████████████████████████████████████████████████████████████████████████████████████████████████████████████████████████████████████████████████████████████████████████████████████████████████████████████| 50/50 [00:00<00:00, 52.76it/s]\n",
      "2023-03-07 11:30:17.461 | INFO     | biaslyze.concept_detectors:detect:49 - Done. Found 14 texts with protected concepts.\n",
      "2023-03-07 11:30:17.463 | INFO     | biaslyze.evaluators:evaluate:41 - Started bias detection on 14 samples...\n",
      "100%|█████████████████████████████████████████████████████████████████████████████████████████████████████████████████████████████████████████████████████████████████████████████████████████████████████████████████████████████████████████████| 14/14 [11:35<00:00, 49.68s/it]\n"
     ]
    }
   ],
   "source": [
    "test_texts = df.comment_text.sample(50)\n",
    "detection_res = bias_detector.detect(texts=test_texts, predict_func=predict_sentiment)"
   ]
  },
  {
   "cell_type": "code",
   "execution_count": 196,
   "id": "6de5fe94-f5f0-4181-8c0b-2dd09d91bba7",
   "metadata": {},
   "outputs": [
    {
     "name": "stdout",
     "output_type": "stream",
     "text": [
      "Detected 1 samples with potential issues.\n",
      "    Potentially problematic concepts detected: [('religion', 1), ('gender', 1)]\n",
      "    Based on keywords: [('muslim', 1), ('man', 1)].\n"
     ]
    }
   ],
   "source": [
    "detection_res.summary()"
   ]
  },
  {
   "cell_type": "code",
   "execution_count": 197,
   "id": "9dda7ab7-90f1-4eed-a911-1d4b96cd28ba",
   "metadata": {},
   "outputs": [
    {
     "name": "stdout",
     "output_type": "stream",
     "text": [
      "Concept: religion\n",
      "[{'reason': ['muslim', 'man'],\n",
      "  'text': 'irrelevent. straw man arguement. No one said HT alone was '\n",
      "          'radicallzing Muslim youth.'}]\n",
      "Concept: gender\n",
      "[{'reason': ['muslim', 'man'],\n",
      "  'text': 'irrelevent. straw man arguement. No one said HT alone was '\n",
      "          'radicallzing Muslim youth.'}]\n"
     ]
    }
   ],
   "source": [
    "detection_res.details(group_by_concept=True)"
   ]
  },
  {
   "cell_type": "code",
   "execution_count": null,
   "id": "dc7ba0eb-4e3e-48f4-b982-1c55ea3c843b",
   "metadata": {},
   "outputs": [],
   "source": []
  }
 ],
 "metadata": {
  "kernelspec": {
   "display_name": "Python 3 (ipykernel)",
   "language": "python",
   "name": "python3"
  },
  "language_info": {
   "codemirror_mode": {
    "name": "ipython",
    "version": 3
   },
   "file_extension": ".py",
   "mimetype": "text/x-python",
   "name": "python",
   "nbconvert_exporter": "python",
   "pygments_lexer": "ipython3",
   "version": "3.8.10"
  }
 },
 "nbformat": 4,
 "nbformat_minor": 5
}
