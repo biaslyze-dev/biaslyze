{
 "cells": [
  {
   "cell_type": "markdown",
   "id": "9ca7febe-a5e3-41c2-aa2b-a7e56db76969",
   "metadata": {},
   "source": [
    "# Test biaslyze with the toxic comments dataset\n",
    "\n",
    "Data source: https://www.kaggle.com/c/jigsaw-toxic-comment-classification-challenge"
   ]
  },
  {
   "cell_type": "code",
   "execution_count": 1,
   "id": "5bfdc6f1-6926-458d-b825-c37f12a2932e",
   "metadata": {},
   "outputs": [],
   "source": [
    "%load_ext autoreload\n",
    "%autoreload 2"
   ]
  },
  {
   "cell_type": "code",
   "execution_count": 2,
   "id": "dd3f06ea-6bc8-4be9-8515-5771d1762a08",
   "metadata": {},
   "outputs": [],
   "source": [
    "import sys\n",
    "sys.path.append('/home/tobias/Repositories/biaslyze/')"
   ]
  },
  {
   "cell_type": "code",
   "execution_count": 3,
   "id": "136169e8-ffb7-4326-b387-3c0e8c9fddcf",
   "metadata": {},
   "outputs": [],
   "source": [
    "import numpy as np\n",
    "import pandas as pd\n",
    "from sklearn.feature_extraction.text import TfidfVectorizer\n",
    "from sklearn.linear_model import LogisticRegression\n",
    "from sklearn.pipeline import make_pipeline\n",
    "from sklearn.metrics import accuracy_score"
   ]
  },
  {
   "cell_type": "markdown",
   "id": "1831829c-9a99-48ff-a8aa-63044cce627a",
   "metadata": {},
   "source": [
    "## Load and prepare data"
   ]
  },
  {
   "cell_type": "code",
   "execution_count": 4,
   "id": "6cb0361b-9a49-48a8-89ba-79301470a39b",
   "metadata": {},
   "outputs": [
    {
     "data": {
      "text/html": [
       "<div>\n",
       "<style scoped>\n",
       "    .dataframe tbody tr th:only-of-type {\n",
       "        vertical-align: middle;\n",
       "    }\n",
       "\n",
       "    .dataframe tbody tr th {\n",
       "        vertical-align: top;\n",
       "    }\n",
       "\n",
       "    .dataframe thead th {\n",
       "        text-align: right;\n",
       "    }\n",
       "</style>\n",
       "<table border=\"1\" class=\"dataframe\">\n",
       "  <thead>\n",
       "    <tr style=\"text-align: right;\">\n",
       "      <th></th>\n",
       "      <th>id</th>\n",
       "      <th>comment_text</th>\n",
       "      <th>toxic</th>\n",
       "      <th>severe_toxic</th>\n",
       "      <th>obscene</th>\n",
       "      <th>threat</th>\n",
       "      <th>insult</th>\n",
       "      <th>identity_hate</th>\n",
       "    </tr>\n",
       "  </thead>\n",
       "  <tbody>\n",
       "    <tr>\n",
       "      <th>0</th>\n",
       "      <td>0000997932d777bf</td>\n",
       "      <td>Explanation\\nWhy the edits made under my usern...</td>\n",
       "      <td>0</td>\n",
       "      <td>0</td>\n",
       "      <td>0</td>\n",
       "      <td>0</td>\n",
       "      <td>0</td>\n",
       "      <td>0</td>\n",
       "    </tr>\n",
       "    <tr>\n",
       "      <th>1</th>\n",
       "      <td>000103f0d9cfb60f</td>\n",
       "      <td>D'aww! He matches this background colour I'm s...</td>\n",
       "      <td>0</td>\n",
       "      <td>0</td>\n",
       "      <td>0</td>\n",
       "      <td>0</td>\n",
       "      <td>0</td>\n",
       "      <td>0</td>\n",
       "    </tr>\n",
       "    <tr>\n",
       "      <th>2</th>\n",
       "      <td>000113f07ec002fd</td>\n",
       "      <td>Hey man, I'm really not trying to edit war. It...</td>\n",
       "      <td>0</td>\n",
       "      <td>0</td>\n",
       "      <td>0</td>\n",
       "      <td>0</td>\n",
       "      <td>0</td>\n",
       "      <td>0</td>\n",
       "    </tr>\n",
       "    <tr>\n",
       "      <th>3</th>\n",
       "      <td>0001b41b1c6bb37e</td>\n",
       "      <td>\"\\nMore\\nI can't make any real suggestions on ...</td>\n",
       "      <td>0</td>\n",
       "      <td>0</td>\n",
       "      <td>0</td>\n",
       "      <td>0</td>\n",
       "      <td>0</td>\n",
       "      <td>0</td>\n",
       "    </tr>\n",
       "    <tr>\n",
       "      <th>4</th>\n",
       "      <td>0001d958c54c6e35</td>\n",
       "      <td>You, sir, are my hero. Any chance you remember...</td>\n",
       "      <td>0</td>\n",
       "      <td>0</td>\n",
       "      <td>0</td>\n",
       "      <td>0</td>\n",
       "      <td>0</td>\n",
       "      <td>0</td>\n",
       "    </tr>\n",
       "  </tbody>\n",
       "</table>\n",
       "</div>"
      ],
      "text/plain": [
       "                 id                                       comment_text  toxic  \\\n",
       "0  0000997932d777bf  Explanation\\nWhy the edits made under my usern...      0   \n",
       "1  000103f0d9cfb60f  D'aww! He matches this background colour I'm s...      0   \n",
       "2  000113f07ec002fd  Hey man, I'm really not trying to edit war. It...      0   \n",
       "3  0001b41b1c6bb37e  \"\\nMore\\nI can't make any real suggestions on ...      0   \n",
       "4  0001d958c54c6e35  You, sir, are my hero. Any chance you remember...      0   \n",
       "\n",
       "   severe_toxic  obscene  threat  insult  identity_hate  \n",
       "0             0        0       0       0              0  \n",
       "1             0        0       0       0              0  \n",
       "2             0        0       0       0              0  \n",
       "3             0        0       0       0              0  \n",
       "4             0        0       0       0              0  "
      ]
     },
     "execution_count": 4,
     "metadata": {},
     "output_type": "execute_result"
    }
   ],
   "source": [
    "df = pd.read_csv(\"../data/jigsaw-toxic-comment-classification/train.csv\"); df.head()"
   ]
  },
  {
   "cell_type": "code",
   "execution_count": 5,
   "id": "209acd8a-0920-4de4-ad30-60cf950ace52",
   "metadata": {},
   "outputs": [],
   "source": [
    "# make the classification problem binary\n",
    "df[\"target\"] = df[[\"toxic\", \"severe_toxic\", \"obscene\", \"threat\", \"insult\", \"identity_hate\"]].sum(axis=1) > 0"
   ]
  },
  {
   "cell_type": "markdown",
   "id": "8360a203-b400-44f3-8d6a-3308005e4ec4",
   "metadata": {},
   "source": [
    "## Train a BoW-model"
   ]
  },
  {
   "cell_type": "code",
   "execution_count": 6,
   "id": "6b28d4aa-17ef-4165-b43b-9bb81a3ee6fd",
   "metadata": {},
   "outputs": [],
   "source": [
    "clf = make_pipeline(TfidfVectorizer(min_df=10, max_features=10000, stop_words=\"english\"), LogisticRegression())"
   ]
  },
  {
   "cell_type": "code",
   "execution_count": 7,
   "id": "ccc41891-f3e7-4935-8d3f-54876c388cef",
   "metadata": {},
   "outputs": [
    {
     "name": "stderr",
     "output_type": "stream",
     "text": [
      "/home/tobias/.cache/pypoetry/virtualenvs/biaslyze-OjqpgMw8-py3.8/lib/python3.8/site-packages/sklearn/linear_model/_logistic.py:458: ConvergenceWarning: lbfgs failed to converge (status=1):\n",
      "STOP: TOTAL NO. of ITERATIONS REACHED LIMIT.\n",
      "\n",
      "Increase the number of iterations (max_iter) or scale the data as shown in:\n",
      "    https://scikit-learn.org/stable/modules/preprocessing.html\n",
      "Please also refer to the documentation for alternative solver options:\n",
      "    https://scikit-learn.org/stable/modules/linear_model.html#logistic-regression\n",
      "  n_iter_i = _check_optimize_result(\n"
     ]
    },
    {
     "data": {
      "text/html": [
       "<style>#sk-container-id-1 {color: black;background-color: white;}#sk-container-id-1 pre{padding: 0;}#sk-container-id-1 div.sk-toggleable {background-color: white;}#sk-container-id-1 label.sk-toggleable__label {cursor: pointer;display: block;width: 100%;margin-bottom: 0;padding: 0.3em;box-sizing: border-box;text-align: center;}#sk-container-id-1 label.sk-toggleable__label-arrow:before {content: \"▸\";float: left;margin-right: 0.25em;color: #696969;}#sk-container-id-1 label.sk-toggleable__label-arrow:hover:before {color: black;}#sk-container-id-1 div.sk-estimator:hover label.sk-toggleable__label-arrow:before {color: black;}#sk-container-id-1 div.sk-toggleable__content {max-height: 0;max-width: 0;overflow: hidden;text-align: left;background-color: #f0f8ff;}#sk-container-id-1 div.sk-toggleable__content pre {margin: 0.2em;color: black;border-radius: 0.25em;background-color: #f0f8ff;}#sk-container-id-1 input.sk-toggleable__control:checked~div.sk-toggleable__content {max-height: 200px;max-width: 100%;overflow: auto;}#sk-container-id-1 input.sk-toggleable__control:checked~label.sk-toggleable__label-arrow:before {content: \"▾\";}#sk-container-id-1 div.sk-estimator input.sk-toggleable__control:checked~label.sk-toggleable__label {background-color: #d4ebff;}#sk-container-id-1 div.sk-label input.sk-toggleable__control:checked~label.sk-toggleable__label {background-color: #d4ebff;}#sk-container-id-1 input.sk-hidden--visually {border: 0;clip: rect(1px 1px 1px 1px);clip: rect(1px, 1px, 1px, 1px);height: 1px;margin: -1px;overflow: hidden;padding: 0;position: absolute;width: 1px;}#sk-container-id-1 div.sk-estimator {font-family: monospace;background-color: #f0f8ff;border: 1px dotted black;border-radius: 0.25em;box-sizing: border-box;margin-bottom: 0.5em;}#sk-container-id-1 div.sk-estimator:hover {background-color: #d4ebff;}#sk-container-id-1 div.sk-parallel-item::after {content: \"\";width: 100%;border-bottom: 1px solid gray;flex-grow: 1;}#sk-container-id-1 div.sk-label:hover label.sk-toggleable__label {background-color: #d4ebff;}#sk-container-id-1 div.sk-serial::before {content: \"\";position: absolute;border-left: 1px solid gray;box-sizing: border-box;top: 0;bottom: 0;left: 50%;z-index: 0;}#sk-container-id-1 div.sk-serial {display: flex;flex-direction: column;align-items: center;background-color: white;padding-right: 0.2em;padding-left: 0.2em;position: relative;}#sk-container-id-1 div.sk-item {position: relative;z-index: 1;}#sk-container-id-1 div.sk-parallel {display: flex;align-items: stretch;justify-content: center;background-color: white;position: relative;}#sk-container-id-1 div.sk-item::before, #sk-container-id-1 div.sk-parallel-item::before {content: \"\";position: absolute;border-left: 1px solid gray;box-sizing: border-box;top: 0;bottom: 0;left: 50%;z-index: -1;}#sk-container-id-1 div.sk-parallel-item {display: flex;flex-direction: column;z-index: 1;position: relative;background-color: white;}#sk-container-id-1 div.sk-parallel-item:first-child::after {align-self: flex-end;width: 50%;}#sk-container-id-1 div.sk-parallel-item:last-child::after {align-self: flex-start;width: 50%;}#sk-container-id-1 div.sk-parallel-item:only-child::after {width: 0;}#sk-container-id-1 div.sk-dashed-wrapped {border: 1px dashed gray;margin: 0 0.4em 0.5em 0.4em;box-sizing: border-box;padding-bottom: 0.4em;background-color: white;}#sk-container-id-1 div.sk-label label {font-family: monospace;font-weight: bold;display: inline-block;line-height: 1.2em;}#sk-container-id-1 div.sk-label-container {text-align: center;}#sk-container-id-1 div.sk-container {/* jupyter's `normalize.less` sets `[hidden] { display: none; }` but bootstrap.min.css set `[hidden] { display: none !important; }` so we also need the `!important` here to be able to override the default hidden behavior on the sphinx rendered scikit-learn.org. See: https://github.com/scikit-learn/scikit-learn/issues/21755 */display: inline-block !important;position: relative;}#sk-container-id-1 div.sk-text-repr-fallback {display: none;}</style><div id=\"sk-container-id-1\" class=\"sk-top-container\"><div class=\"sk-text-repr-fallback\"><pre>Pipeline(steps=[(&#x27;tfidfvectorizer&#x27;,\n",
       "                 TfidfVectorizer(max_features=10000, min_df=10,\n",
       "                                 stop_words=&#x27;english&#x27;)),\n",
       "                (&#x27;logisticregression&#x27;, LogisticRegression())])</pre><b>In a Jupyter environment, please rerun this cell to show the HTML representation or trust the notebook. <br />On GitHub, the HTML representation is unable to render, please try loading this page with nbviewer.org.</b></div><div class=\"sk-container\" hidden><div class=\"sk-item sk-dashed-wrapped\"><div class=\"sk-label-container\"><div class=\"sk-label sk-toggleable\"><input class=\"sk-toggleable__control sk-hidden--visually\" id=\"sk-estimator-id-1\" type=\"checkbox\" ><label for=\"sk-estimator-id-1\" class=\"sk-toggleable__label sk-toggleable__label-arrow\">Pipeline</label><div class=\"sk-toggleable__content\"><pre>Pipeline(steps=[(&#x27;tfidfvectorizer&#x27;,\n",
       "                 TfidfVectorizer(max_features=10000, min_df=10,\n",
       "                                 stop_words=&#x27;english&#x27;)),\n",
       "                (&#x27;logisticregression&#x27;, LogisticRegression())])</pre></div></div></div><div class=\"sk-serial\"><div class=\"sk-item\"><div class=\"sk-estimator sk-toggleable\"><input class=\"sk-toggleable__control sk-hidden--visually\" id=\"sk-estimator-id-2\" type=\"checkbox\" ><label for=\"sk-estimator-id-2\" class=\"sk-toggleable__label sk-toggleable__label-arrow\">TfidfVectorizer</label><div class=\"sk-toggleable__content\"><pre>TfidfVectorizer(max_features=10000, min_df=10, stop_words=&#x27;english&#x27;)</pre></div></div></div><div class=\"sk-item\"><div class=\"sk-estimator sk-toggleable\"><input class=\"sk-toggleable__control sk-hidden--visually\" id=\"sk-estimator-id-3\" type=\"checkbox\" ><label for=\"sk-estimator-id-3\" class=\"sk-toggleable__label sk-toggleable__label-arrow\">LogisticRegression</label><div class=\"sk-toggleable__content\"><pre>LogisticRegression()</pre></div></div></div></div></div></div></div>"
      ],
      "text/plain": [
       "Pipeline(steps=[('tfidfvectorizer',\n",
       "                 TfidfVectorizer(max_features=10000, min_df=10,\n",
       "                                 stop_words='english')),\n",
       "                ('logisticregression', LogisticRegression())])"
      ]
     },
     "execution_count": 7,
     "metadata": {},
     "output_type": "execute_result"
    }
   ],
   "source": [
    "clf.fit(df.comment_text, df.target)"
   ]
  },
  {
   "cell_type": "code",
   "execution_count": 8,
   "id": "086aed03-08e7-4382-88ed-92e706c22ed1",
   "metadata": {},
   "outputs": [
    {
     "name": "stdout",
     "output_type": "stream",
     "text": [
      "0.9605755431751384\n"
     ]
    }
   ],
   "source": [
    "train_pred = clf.predict(df.comment_text)\n",
    "print(accuracy_score(df.target, train_pred))"
   ]
  },
  {
   "cell_type": "markdown",
   "id": "eafd8506-c670-411d-8621-42b7049be826",
   "metadata": {},
   "source": [
    "## Test LIME based bias detection with keywords"
   ]
  },
  {
   "cell_type": "code",
   "execution_count": 9,
   "id": "9399c76a-2299-49c9-a111-3b125798e807",
   "metadata": {},
   "outputs": [
    {
     "name": "stderr",
     "output_type": "stream",
     "text": [
      "/home/tobias/.cache/pypoetry/virtualenvs/biaslyze-OjqpgMw8-py3.8/lib/python3.8/site-packages/tqdm/auto.py:22: TqdmWarning: IProgress not found. Please update jupyter and ipywidgets. See https://ipywidgets.readthedocs.io/en/stable/user_install.html\n",
      "  from .autonotebook import tqdm as notebook_tqdm\n"
     ]
    }
   ],
   "source": [
    "from biaslyze.evaluators import LimeBiasEvaluator\n",
    "from biaslyze.bias_detectors import LimeKeywordBiasDetector"
   ]
  },
  {
   "cell_type": "code",
   "execution_count": 10,
   "id": "83c61a69-1141-4a76-b372-e2e33857882f",
   "metadata": {},
   "outputs": [],
   "source": [
    "bias_detector = LimeKeywordBiasDetector(\n",
    "    bias_evaluator=LimeBiasEvaluator(n_lime_samples=2000),\n",
    "    n_top_keywords=10,\n",
    "    use_tokenizer=True\n",
    ")"
   ]
  },
  {
   "cell_type": "code",
   "execution_count": 11,
   "id": "c2cffca2-67f3-4024-b23a-d03eaa83ae05",
   "metadata": {
    "scrolled": true,
    "tags": []
   },
   "outputs": [
    {
     "name": "stderr",
     "output_type": "stream",
     "text": [
      "2023-03-07 18:20:56.374 | INFO     | biaslyze.concept_detectors:detect:33 - Started keyword-based concept detection on 200 texts...\n",
      "100%|███████████████████████████████████████████████████████████████████████████████████████████████████████████████████████████████████████████████████████████████████████████████████████████████████████████████████████████████████████████| 200/200 [00:05<00:00, 37.22it/s]\n",
      "2023-03-07 18:21:01.753 | INFO     | biaslyze.concept_detectors:detect:49 - Done. Found 48 texts with protected concepts.\n",
      "2023-03-07 18:21:01.754 | INFO     | biaslyze.evaluators:evaluate:42 - Started bias detection on 48 samples...\n",
      "100%|█████████████████████████████████████████████████████████████████████████████████████████████████████████████████████████████████████████████████████████████████████████████████████████████████████████████████████████████████████████████| 48/48 [01:39<00:00,  2.08s/it]\n"
     ]
    }
   ],
   "source": [
    "test_texts = df.comment_text.sample(200)\n",
    "detection_res = bias_detector.detect(texts=test_texts, predict_func=clf.predict_proba)"
   ]
  },
  {
   "cell_type": "code",
   "execution_count": 12,
   "id": "fc086f59-23dd-456b-a88e-8e49060f3e13",
   "metadata": {},
   "outputs": [
    {
     "name": "stdout",
     "output_type": "stream",
     "text": [
      "Detected 4 samples with potential issues.\n",
      "    Potentially problematic concepts detected: [('gender', 3), ('nationality', 1)]\n",
      "    Based on keywords: [('mother', 2), ('his', 1), ('english', 1)].\n"
     ]
    }
   ],
   "source": [
    "detection_res.summary()"
   ]
  },
  {
   "cell_type": "code",
   "execution_count": 13,
   "id": "c6a1e029-7dbf-4649-840b-3f21d501d253",
   "metadata": {
    "scrolled": true,
    "tags": []
   },
   "outputs": [
    {
     "name": "stdout",
     "output_type": "stream",
     "text": [
      "Concept: gender\n",
      "[{'reason': ['his'],\n",
      "  'text': 'has determined for that individual this particular trial for his '\n",
      "          'betterment in the end, whether in this life or in the life to come. '\n",
      "          'That is also why we say that G-d'},\n",
      " {'reason': ['mother'],\n",
      "  'text': \"I'm back mother trucker, did you miss me? 94.192.243.100\"},\n",
      " {'reason': ['mother'],\n",
      "  'text': 'I Should be Surprised\\n'\n",
      "          '\\n'\n",
      "          \"But I'm not. Its exactly the kind of spineless response I \"\n",
      "          \"anticipated from you. Look Schumin, I don't care about you \"\n",
      "          \"remotely. I'm not here to bring you some sort of pain, I don't care \"\n",
      "          'anything, at all about you. What I do care about, and care about '\n",
      "          'deeply is that the number one-stop shop for knowledge on the '\n",
      "          'internet is even fractionally run by someone like you. This is a '\n",
      "          \"serious project, and attitudes like yours aren't needed. You are \"\n",
      "          \"one of these people who wouldn't last a day on a serious academic \"\n",
      "          'venture, but sleazed your way onto Wikipedia and whored yourself as '\n",
      "          'an admin. For you, being an admin is not the gruelling work it '\n",
      "          'should be, its a status symbol. And thats sad. Thats really sad.\\n'\n",
      "          '\\n'\n",
      "          'Now, confront this head on for once in your life. Maybe your mother '\n",
      "          'told you to ignore problems and they go away. I think you should '\n",
      "          'confront your problem and apologise for your actions. '\n",
      "          '86.45.202.183'}]\n",
      "Concept: nationality\n",
      "[{'reason': ['english'],\n",
      "  'text': '_________________________________________________\\n'\n",
      "          '\\n'\n",
      "          'Dear Lower Fourth - actually it would have been nice if we could '\n",
      "          'all speak in English. I just realized that coming from where you '\n",
      "          'come - you are not even worth the game.'}]\n"
     ]
    }
   ],
   "source": [
    "detection_res.details(group_by_concept=True)"
   ]
  },
  {
   "cell_type": "code",
   "execution_count": 14,
   "id": "0eaef933-c3ff-4268-b4fd-7e9966fa7956",
   "metadata": {},
   "outputs": [],
   "source": [
    "test_df = df.iloc[test_texts.index]"
   ]
  },
  {
   "cell_type": "code",
   "execution_count": 15,
   "id": "262dcc47-effc-4c00-8830-70c63bf6b573",
   "metadata": {},
   "outputs": [
    {
     "data": {
      "text/plain": [
       "\"Stupid people and words don't mix. Most people never read a book once they quit going to school and enter the adult world. This article proves it wholeheartedly.\""
      ]
     },
     "execution_count": 15,
     "metadata": {},
     "output_type": "execute_result"
    }
   ],
   "source": [
    "test_df[test_df.target].reset_index().comment_text[4]"
   ]
  },
  {
   "cell_type": "markdown",
   "id": "cf858ae3-65db-44db-8ae9-f08383e3fce9",
   "metadata": {},
   "source": [
    "## Testing a sentiment analysis model from huggingface"
   ]
  },
  {
   "cell_type": "code",
   "execution_count": 16,
   "id": "077c6957-6718-4344-9154-6caab25ff333",
   "metadata": {},
   "outputs": [],
   "source": [
    "from transformers import pipeline\n",
    "from torch.utils.data import Dataset\n",
    "\n",
    "\n",
    "classifier = pipeline(\n",
    "    model=\"distilbert-base-uncased-finetuned-sst-2-english\",\n",
    "    top_k=None,\n",
    "    padding=True,\n",
    "    truncation=True\n",
    ")"
   ]
  },
  {
   "cell_type": "code",
   "execution_count": 17,
   "id": "c771fd93-fb08-488b-8772-cbf49e760442",
   "metadata": {},
   "outputs": [],
   "source": [
    "class MyDataset(Dataset):\n",
    "    def __init__(self, data):\n",
    "        super().__init__()\n",
    "        self.data = data\n",
    "\n",
    "    def __len__(self):\n",
    "        return len(self.data)\n",
    "\n",
    "    def __getitem__(self, i):\n",
    "        return self.data[i]\n",
    "\n",
    "\n",
    "def predict_sentiment(texts):\n",
    "    data = MyDataset(texts)\n",
    "    proba = []\n",
    "    for res in classifier(data):\n",
    "        proba_array = []\n",
    "        for p in sorted(res, key=lambda d: d['label'], reverse=True):\n",
    "            proba_array.append(p.get(\"score\"))\n",
    "        proba.append(np.array(proba_array))\n",
    "    return np.array(proba) / np.array(proba).sum(axis=1)[:,None]"
   ]
  },
  {
   "cell_type": "code",
   "execution_count": 60,
   "id": "45e35216-b250-4b02-af4e-8abc7ecc25fe",
   "metadata": {},
   "outputs": [],
   "source": [
    "bias_detector = LimeKeywordBiasDetector(\n",
    "    bias_evaluator=LimeBiasEvaluator(n_lime_samples=500),\n",
    "    n_top_keywords=10,\n",
    "    use_tokenizer=True\n",
    ")"
   ]
  },
  {
   "cell_type": "code",
   "execution_count": 61,
   "id": "ba49896f-3d34-4cab-9ae2-632fe2f59f52",
   "metadata": {
    "scrolled": true,
    "tags": []
   },
   "outputs": [
    {
     "name": "stderr",
     "output_type": "stream",
     "text": [
      "2023-03-07 18:51:17.965 | INFO     | biaslyze.concept_detectors:detect:33 - Started keyword-based concept detection on 50 texts...\n",
      "100%|█████████████████████████████████████████████████████████████████████████████████████████████████████████████████████████████████████████████████████████████████████████████████████████████████████████████████████████████████████████████| 50/50 [00:00<00:00, 56.40it/s]\n",
      "2023-03-07 18:51:18.858 | INFO     | biaslyze.concept_detectors:detect:49 - Done. Found 14 texts with protected concepts.\n",
      "2023-03-07 18:51:18.859 | INFO     | biaslyze.evaluators:evaluate:42 - Started bias detection on 14 samples...\n",
      "100%|█████████████████████████████████████████████████████████████████████████████████████████████████████████████████████████████████████████████████████████████████████████████████████████████████████████████████████████████████████████████| 14/14 [10:18<00:00, 44.15s/it]\n"
     ]
    }
   ],
   "source": [
    "test_texts = df.comment_text.sample(50)\n",
    "detection_res = bias_detector.detect(texts=test_texts, predict_func=predict_sentiment)"
   ]
  },
  {
   "cell_type": "code",
   "execution_count": 62,
   "id": "6de5fe94-f5f0-4181-8c0b-2dd09d91bba7",
   "metadata": {},
   "outputs": [
    {
     "name": "stdout",
     "output_type": "stream",
     "text": [
      "Detected 2 samples with potential issues.\n",
      "    Potentially problematic concepts detected: [('religion', 1), ('gender', 1)]\n",
      "    Based on keywords: [('muslim', 1), ('he', 1)].\n"
     ]
    }
   ],
   "source": [
    "detection_res.summary()"
   ]
  },
  {
   "cell_type": "code",
   "execution_count": 63,
   "id": "9dda7ab7-90f1-4eed-a911-1d4b96cd28ba",
   "metadata": {},
   "outputs": [
    {
     "name": "stdout",
     "output_type": "stream",
     "text": [
      "Concept: religion\n",
      "[{'reason': ['muslim'], 'text': 'Fuck my stupid muslim ass!!!!!!!!!'}]\n",
      "Concept: gender\n",
      "[{'reason': ['he'], 'text': '\"But he does say \"\"NOICE!\"\"...\\n\\n\"'}]\n"
     ]
    }
   ],
   "source": [
    "detection_res.details(group_by_concept=True)"
   ]
  },
  {
   "cell_type": "markdown",
   "id": "c252bc36-f2bc-4f05-a877-48406cbea7a7",
   "metadata": {},
   "source": [
    "## !! Very Experimental !!: Test masked language model based bias detection with keywords"
   ]
  },
  {
   "cell_type": "code",
   "execution_count": 55,
   "id": "e2a87056-f9f5-4b7f-8b1c-c2395720941e",
   "metadata": {},
   "outputs": [],
   "source": [
    "from biaslyze.bias_detectors import MaskedKeywordBiasDetector\n",
    "from biaslyze.concept_detectors import KeywordConceptDetector"
   ]
  },
  {
   "cell_type": "code",
   "execution_count": 56,
   "id": "0f46f425-0d39-4889-872e-db1176476858",
   "metadata": {},
   "outputs": [],
   "source": [
    "bias_detector = MaskedKeywordBiasDetector(n_resample_keywords=15, use_tokenizer=True)"
   ]
  },
  {
   "cell_type": "code",
   "execution_count": 57,
   "id": "75b87a33-dcff-4d6e-9f4f-89b143ac3308",
   "metadata": {
    "scrolled": true,
    "tags": []
   },
   "outputs": [
    {
     "name": "stderr",
     "output_type": "stream",
     "text": [
      "2023-03-07 18:37:55.292 | INFO     | biaslyze.concept_detectors:detect:33 - Started keyword-based concept detection on 1000 texts...\n",
      "100%|█████████████████████████████████████████████████████████████████████████████████████████████████████████████████████████████████████████████████████████████████████████████████████████████████████████████████████████████████████████| 1000/1000 [00:23<00:00, 41.72it/s]\n",
      "2023-03-07 18:38:19.267 | INFO     | biaslyze.concept_detectors:detect:49 - Done. Found 238 texts with protected concepts.\n",
      "2023-03-07 18:38:19.268 | INFO     | biaslyze.evaluators:evaluate:98 - Started bias detection on 238 samples...\n",
      "100%|███████████████████████████████████████████████████████████████████████████████████████████████████████████████████████████████████████████████████████████████████████████████████████████████████████████████████████████████████████████| 238/238 [11:05<00:00,  2.79s/it]\n"
     ]
    }
   ],
   "source": [
    "detection_res = bias_detector.detect(\n",
    "    texts=df.comment_text.sample(1000),\n",
    "    predict_func=predict_sentiment\n",
    ")"
   ]
  },
  {
   "cell_type": "code",
   "execution_count": 58,
   "id": "01b03eea-46f4-4106-8290-88791edd449b",
   "metadata": {},
   "outputs": [
    {
     "name": "stdout",
     "output_type": "stream",
     "text": [
      "Detected 23 samples with potential issues.\n",
      "    Potentially problematic concepts detected: [('gender', 21), ('religion', 1), ('nationality', 1)]\n",
      "    Based on keywords: [('he', 7), ('his', 7), ('her', 4), ('man', 4), ('guys', 3), ('boy', 2), ('guy', 2), ('she', 2), ('christian', 2), ('husband', 1), ('son', 1), ('woman', 1), ('women', 1), ('men', 1), ('english', 1)].\n"
     ]
    }
   ],
   "source": [
    "detection_res.summary()"
   ]
  },
  {
   "cell_type": "code",
   "execution_count": 59,
   "id": "f4418750-7686-49bb-bcd8-ee782bc452f3",
   "metadata": {
    "scrolled": true,
    "tags": []
   },
   "outputs": [
    {
     "name": "stdout",
     "output_type": "stream",
     "text": [
      "''whatever you say gay boy. atleast i have a life and im not fucking unchanging shit on wikiepedia'' might contain bias ['gender']; reasons: ['boy', 'boy']\n",
      "''He was a great player, he needs a much better page, many average players have several sections.'' might contain bias ['gender']; reasons: ['he']\n",
      "''Yeah, darn right I am hard to block.  This is to fun.  You guys should have left well enough alone.  You helped bring this on Johntx.  Now the pages that you love will suffer because of it.  Tough beans.'' might contain bias ['gender']; reasons: ['guys']\n",
      "''\"\n",
      "Just like I've been saying, you guys disagree.  — (Talk) \"'' might contain bias ['gender']; reasons: ['guys']\n",
      "''THE GUYS WHO INTERESTED IN THE ARTICLE TO BE IMPROVED ARE \n",
      "MUHAMMAD YUSUF ATTARI,SHAHIBA,MADINA MADINA AND ETC'' might contain bias ['gender']; reasons: ['guys']\n",
      "''Ok, ok, I admit it. I'm that other guy you blocked and I created a new account. I'm sorry, please don't block me...'' might contain bias ['gender']; reasons: ['guy']\n",
      "''from where he makes most of his edits'' might contain bias ['gender']; reasons: ['he', 'his']\n",
      "''ThisYou are 22 years older than your husband! You are an old cougar!ions'' might contain bias ['gender']; reasons: ['husband']\n",
      "''\"\n",
      "\n",
      "That you clearly admit \"\"I like Nancy Reagan; I've met her a few times and I consider her to be a good person.\"\" shows bias. 74.73.106.239  \"'' might contain bias ['gender']; reasons: ['her']\n",
      "''\"Archive01 Posts through Oct. 30, 2004\n",
      "\n",
      "Hi NathanHawking, and welcome to Wikipedia.\n",
      "\n",
      "Thankyou for finding the time to sign up and contribute to our little project. If you're in doubt about anything, you might want to check out some of these pages:\n",
      "\n",
      "Welcome, newcomers - a general introduction, and a good starting point\n",
      "The help centre and FAQs\n",
      "The Manual of Style - a guide to the community's writing conventions\n",
      "\n",
      "It's also a good idea to sign the new user log and add a little about yourself.\n",
      "\n",
      "When contributing to a talk page, you can sign your name by typing four tildes after your comments, like this: ~~~~. (Just so you know, some people won't pay attention to unsigned comments).\n",
      "\n",
      "If you have any questions, don't hesitate to ask me at my talk page, or at the Help desk or Village Pump.\n",
      "\n",
      "Above all, make sure you be bold when contributing, and have fun!\n",
      "\n",
      "  06:54, 26 Sep 2004 (UTC)\n",
      "\n",
      " Re: Thanks for restoring links \n",
      "Hi; you're quite welcome. I didn't think you removed the interlanguage links intentionally. The spam/vandalism was indeed added by 221.197.20.66—the same spammer/vandal returned today via 221.198.74.212. Since this is an obvious (and shameless) attempt to use Wikipedia to increase the page ranking of the spammer's website (see Wikipedia:Spam), I've put in a request at m:Non-development tasks for developers#Spam regex requests to have the domain shop263.com added to the project-wide spam filter. With any luck, a developer will see the request before too long. Once the domain is on the filter, a page containing the domain cannot be saved (annoyingly, there are ways to get around this, but it usually takes care of the problem).\n",
      "\n",
      "Anyway, nice work on the rewrite. I hope you like it here and choose to stick around! Cheers,   07:32, 28 Sep 2004 (UTC)\n",
      "\n",
      " On War \n",
      "\n",
      "neat job -) | 08:07, 28 Sep 2004 (UTC)\n",
      "\n",
      " Zone system \n",
      "\n",
      "I would appreciate your leaving the mention in. First Ansel Adams, in his three volume 1980 basic photography series, presented the Zone system this way and he explicitly said, in so many words, that his aim is not to force his own system of photography on anyone, but to encourage photographers to better understand their equipment in order to control the finished photograph. He disapproved of winging it, not of any particular system. The Zone system worked for him. And the Zone system is controversial, believe it or not. I know of at least one vocational school photography teacher (years ago when I lived in Montreal) who told students not to bother with it, and it seems he was not alone. \n",
      "\n",
      "Also, please wait a few days before doing a major edit job. I liked the article as it used to be and I was sorely tempted to revert most of your changes, but did not. I particularly liked the wording \"\"dynamic range\"\" and miss it, and I'm sorry to say I now personally find the article less approachable to a newcomer. \n",
      "\n",
      "Dynamic range is very appropriate: for instance (I'm making numbers up here for the sake of argument) if we say reality has a Zone 0 to X range of 1 to 100,000 , then a finished print has a range of 1 to 10,000 , while a typical digital camera will only provide a range of 1 to 1,000 . A move from 100,000 to 10,000 to 1,000 seems pretty dynamic to me...\n",
      "\n",
      "However, since I'm not going to reread the whole Basic Photography series or even go into a darkroom again (space is at a premium in Tokyo) I'm not willing to put too much effort into maintaining this page.  05:52, 30 Sep 2004 (UTC)\n",
      "\n",
      "Hi Vincent:\n",
      "Which idea, specifically, did you wish to restore to the zone system article? That the zone system is/was not advocated by all? (I'd say that's probably true for most any school of thought.) That Ansel Adams was not dogmatic about this being the only way to do things? (I'd say that unless there is a large public misimpression that he was dogmatic it's not worth mentioning, no more than it's necessary to mention that every painter or sculptor or engineer held other approaches to various disciplines were equally valid.)\n",
      "\n",
      "Here's the problem with \"\"dynamic range,\"\" Vincent: it's inaccurate jargon. (It's oft-used and familiar jargon, but sloppy and inaccurate nonetheless.) First, it's redundant. The meaning most attribute to \"\"dy'' might contain bias ['gender']; reasons: ['he', 'his']\n",
      "''He's a sly little devil too.  I noticed that he recently deleted sections of his own talk page showing clearly how he wants to manipulate Austrian School, fractional reserve banking and debt-based monetary system.  Check out his history page.  The guy has a MAJOR Napolean-complex.  I suspect something about him may on the small side.  I hope it's just his height.'' might contain bias ['gender']; reasons: ['he', 'his', 'guy']\n",
      "''Order of films \n",
      "\n",
      "I noticed her films are listed with the oldest towards the top, whereas most other actors I have seen list the most recent film (newest) at the top.  Is there any type of standard that should be applied?'' might contain bias ['gender']; reasons: ['her']\n",
      "''Danny, I would be very happy to have their view expressed as well. Here you/we are saying that Josephus is biased.  On the Jesus page, he is noted as a being reliable. Perhaps it depends strongly on what is being said about whom, though I do not know this is necessarily the case. It does not dismiss them, they are still real and present.  The question as to descent could be answered rather well via DNA testing of their Priests and Levites  as well as mitochrondrial DNA testing. But there is risk, the desired results might not be obtained. \n",
      "\n",
      "Would this meet the need:\n",
      "\n",
      "The Samaritans have insisted that they are direct descendants of the Northern Israelite tribes of Ephraim and Manasseh, who survived the destruction of the Northern kingdom of Israel by the Assyrians in 722 B.C.E. The inscription of Sargon II records the deportation of a relatively small proportion of the Israelites (27,290, according to the annals), so it is quite possible that a sizable population remained that could identify themselves as Israelites, the term that the Samaritans prefer for themselves.\n",
      "\n",
      "Samaritan historiography would place the basic schism from the remaining part of Israel after the twelve tribes conquered the land of Canaan, lead by Joshua. After Joshua's death, Eli the priest left the tabernacle which Moses erected in the desert and established on Mount Gerizim, and built another one under his own rule in the hills of Shilo (1 Sam 1:1-3; 2:12-17). Thus, he established both an illegitimate priesthood and an illegitimate place of worship.\n",
      "\n",
      "According to this description, the Jews are the dissidents!  03:51, 29 Jan 2004 (UTC)'' might contain bias ['gender']; reasons: ['he', 'his']\n",
      "''seouls a big city doc, use what little common sense you may possess... you spelt favours wrong too big man. if you kept your nose out of it, your time wouldn't be wasted. look at it as 'learning' son.'' might contain bias ['gender']; reasons: ['man', 'man', 'son']\n",
      "''krystyna skarbek \n",
      "\n",
      "i have recently completed writing the manuscript for what I hope will be\n",
      "the definitive biography of Krystyna. She was definitely not a double-agent.\n",
      "Her accuser was a Polish officer of the Szosty Oddzial (Sixth Bureau) who could \n",
      "not stand to have someone as charismatic as Krystyna on his patch (Cairo). None\n",
      " of the rumours he spread about her were ever confirmed and she was eventually re-instated as an SOE operative.\n",
      "   By the way, Krystyna was NOT born in 1915, but earlier, and not in Mlodzieszyn.\n",
      "Her birth and baptismal certificates have been located in Poland. When I find a publisher for my manuscript I will correct what has been written about her in\n",
      "Wikipedia (which I fully support).\n",
      "\n",
      "Ron Nowicki'' might contain bias ['gender']; reasons: ['he', 'she', 'her', 'his']\n",
      "''\"\n",
      "I don't consider it ridiculous to support Wikipedia policy against original research.  As such, I don't consider it ridiculous to ask for a source to be provided for unsourced information, regardless of how reasonable it may seem to you or others.  I am not claiming that she isn't Iranian or that she is a slave, but merely raising the possibility to you so that you realize that we need to use sources on Wikipedia.  So how about you just find a source that explicitly describes the woman pictured as \"\"Persian?\"\" It's as simple as that, assuming that you derived your statement from sources but forgot to note them.  This will, however, be much more difficult if your claim is indeed original research (as I suspect).  If this is the case, then for the future, please don't add original research to Wikipedia, Zereshk.  Thanks in advance for compliance.  \"'' might contain bias ['gender']; reasons: ['woman', 'she']\n",
      "''Might I be so bold as to suggest that issuing the ban under these provisions\n",
      "of the Pseudoscience ArbCom case might avoid a large amount of debate?  Abd has commented at his talk page about the best way forward being to defy the ban and then appeal any resulting block.  Heading off a battle seems a desirable goal to me.  Just my $0.02'' might contain bias ['gender']; reasons: ['his']\n",
      "''My long standing recommendation for those who complain women aren't *statistically* editing enough, is for those men to stop editing. This has two benefits, first it is clear they have little of value left to contribute, either for the encyclopedia or for themselves and therefore it will move them on to greener pastures. Secondarily, the less they edit, the smaller that statistical gap will be helping to resolve their moaning. 62.254.196.200'' might contain bias ['gender']; reasons: ['women', 'men']\n",
      "''\"\n",
      "\n",
      "Flora: Yes...but I think I can find a way to duplicate the crown...somehow...but I would need the crown first.  How should we do so?\n",
      "It's okay - I don't think it's a silly question at all.  I didn't know at first myself.  Well, first of all, you have to be a Christian and then wait.  The Holy Spirit will come when HE thinks you're ready.  You can pray, too, but it may not be a good idea to ask for the Holy Spirit so fast if you're not ready because if you somehow grieve the Holy Spirit and the Holy Spirit leaves, the Holy Spirit will never return (unless by a miracle) and you won't be able to go to heaven.  But if you're a child, living under our parents, you can go to heaven (as long as we aren't doing anything really evil, such as murder), but your parents, who have to be true Christians with the Holy Spirit, would have to be praying to God for you to go to heaven.  So if you want the Holy Spirit, all you have to do is try your best to be a Christian and wait.  But sometimes when I pray to God, I ask HIM, \"\"Please give me the Holy Spirit when I'm ready.\"\"  I'm not sure exactly how you'll know when you have the Holy Spirit, but my mommy says that you'll find comfort with God and being more Christian.  So it wouldn't be a sudden sensation or feeling.  It would be being more Christian.  \"'' might contain bias ['religion']; reasons: ['christian', 'christian']\n",
      "''Change from Yugoslavia to Califonia made after consulting her nephew.'' might contain bias ['gender']; reasons: ['her']\n",
      "''\"\n",
      "\n",
      " Nomers \n",
      "\n",
      "Nomers (Naa-mERs) are a species of pac man-like creatures that have not been discovered yet. They live on the island nomland (not to be confused with nomtopia) which has also not been discovered. They eat most plants (including the poisonous ones) and often enrage farmers (in other words, everybody living on the island of nomland) by stealing and eating their crops. Nomers can be dangerous but are mostly non-violent. If tamed and trained, Nomers can be very loyal. They would die before seeing their \"\"partner\"\" (they insist on calling their person a partner rather than a master) meet their death. Nomers are extremely intelligent creatures and I strongly suggest those having trouble with Nomers to get a garden gnome. If you wish to buy a trained and tamed Nomer, here are some phone numbers you might consider trying:\n",
      "617-nom-shtr (shtr= shelter)\n",
      "isl-and-noms (for freshly shipped, trained, island Nomers)\n",
      "cut-ecu-ddly (for cute, cuddly baby nomers)\n",
      "\n",
      "Hope you have learned something on this page!!!!! (Tip: never spell Nomers, gnomers. It gets the gnomes offended.)\n",
      "Sincerely,\n",
      "Mr. Anon A. Mous\n",
      "(98.216.130.174  )\"'' might contain bias ['gender']; reasons: ['man', 'man']\n",
      "''\"\n",
      "\n",
      " Socialistm? \n",
      "\n",
      "There are two important features of Smith's concept of the \"\"invisible hand\"\". First, Smith was not advocating a social policy (that people should act in their own self interest), but rather was describing an observed economic reality (that people do act in their own interest). Second, Smith was not claiming that all self-interest has beneficial effects on the community. He did not argue that self-interest is always good; he merely argued against the view that self-interest is necessarily bad. It is worth noting that, upon his death, Smith left much of his personal wealth to charity.\n",
      "\n",
      "Good!  Let's all make sure we put forth the idea that Adam Smith was a socialist.  That's the wikipedia way!\"'' might contain bias ['gender']; reasons: ['he', 'his']\n",
      "''Here is a detailed information, Mohamed the prophet, has no imagery in the Arabic wiki, but in all wikis, unless, there's Arabs here, in the English admin board also! who will agree with you. (even it's witten in the coran!)'' might contain bias ['nationality']; reasons: ['english']\n"
     ]
    }
   ],
   "source": [
    "detection_res.details()"
   ]
  },
  {
   "cell_type": "code",
   "execution_count": null,
   "id": "be4add71-c474-46a2-91a2-95cdd799c2d5",
   "metadata": {},
   "outputs": [],
   "source": []
  }
 ],
 "metadata": {
  "kernelspec": {
   "display_name": "Python 3 (ipykernel)",
   "language": "python",
   "name": "python3"
  },
  "language_info": {
   "codemirror_mode": {
    "name": "ipython",
    "version": 3
   },
   "file_extension": ".py",
   "mimetype": "text/x-python",
   "name": "python",
   "nbconvert_exporter": "python",
   "pygments_lexer": "ipython3",
   "version": "3.8.10"
  }
 },
 "nbformat": 4,
 "nbformat_minor": 5
}
