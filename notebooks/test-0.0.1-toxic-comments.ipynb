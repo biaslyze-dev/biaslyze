{
 "cells": [
  {
   "cell_type": "markdown",
   "id": "9ca7febe-a5e3-41c2-aa2b-a7e56db76969",
   "metadata": {},
   "source": [
    "# Test biaslyze with the toxic comments dataset\n",
    "\n",
    "Data source: https://www.kaggle.com/c/jigsaw-toxic-comment-classification-challenge"
   ]
  },
  {
   "cell_type": "code",
   "execution_count": 1,
   "id": "5bfdc6f1-6926-458d-b825-c37f12a2932e",
   "metadata": {},
   "outputs": [],
   "source": [
    "%load_ext autoreload\n",
    "%autoreload 2"
   ]
  },
  {
   "cell_type": "code",
   "execution_count": 2,
   "id": "dd3f06ea-6bc8-4be9-8515-5771d1762a08",
   "metadata": {},
   "outputs": [],
   "source": [
    "import sys\n",
    "sys.path.append('/home/tobias/Repositories/biaslyze/')"
   ]
  },
  {
   "cell_type": "code",
   "execution_count": 3,
   "id": "136169e8-ffb7-4326-b387-3c0e8c9fddcf",
   "metadata": {},
   "outputs": [],
   "source": [
    "import numpy as np\n",
    "import pandas as pd\n",
    "from sklearn.feature_extraction.text import TfidfVectorizer\n",
    "from sklearn.linear_model import LogisticRegression\n",
    "from sklearn.pipeline import make_pipeline\n",
    "from sklearn.metrics import accuracy_score"
   ]
  },
  {
   "cell_type": "markdown",
   "id": "1831829c-9a99-48ff-a8aa-63044cce627a",
   "metadata": {},
   "source": [
    "## Load and prepare data"
   ]
  },
  {
   "cell_type": "code",
   "execution_count": 4,
   "id": "6cb0361b-9a49-48a8-89ba-79301470a39b",
   "metadata": {},
   "outputs": [
    {
     "data": {
      "text/html": [
       "<div>\n",
       "<style scoped>\n",
       "    .dataframe tbody tr th:only-of-type {\n",
       "        vertical-align: middle;\n",
       "    }\n",
       "\n",
       "    .dataframe tbody tr th {\n",
       "        vertical-align: top;\n",
       "    }\n",
       "\n",
       "    .dataframe thead th {\n",
       "        text-align: right;\n",
       "    }\n",
       "</style>\n",
       "<table border=\"1\" class=\"dataframe\">\n",
       "  <thead>\n",
       "    <tr style=\"text-align: right;\">\n",
       "      <th></th>\n",
       "      <th>id</th>\n",
       "      <th>comment_text</th>\n",
       "      <th>toxic</th>\n",
       "      <th>severe_toxic</th>\n",
       "      <th>obscene</th>\n",
       "      <th>threat</th>\n",
       "      <th>insult</th>\n",
       "      <th>identity_hate</th>\n",
       "    </tr>\n",
       "  </thead>\n",
       "  <tbody>\n",
       "    <tr>\n",
       "      <th>0</th>\n",
       "      <td>0000997932d777bf</td>\n",
       "      <td>Explanation\\nWhy the edits made under my usern...</td>\n",
       "      <td>0</td>\n",
       "      <td>0</td>\n",
       "      <td>0</td>\n",
       "      <td>0</td>\n",
       "      <td>0</td>\n",
       "      <td>0</td>\n",
       "    </tr>\n",
       "    <tr>\n",
       "      <th>1</th>\n",
       "      <td>000103f0d9cfb60f</td>\n",
       "      <td>D'aww! He matches this background colour I'm s...</td>\n",
       "      <td>0</td>\n",
       "      <td>0</td>\n",
       "      <td>0</td>\n",
       "      <td>0</td>\n",
       "      <td>0</td>\n",
       "      <td>0</td>\n",
       "    </tr>\n",
       "    <tr>\n",
       "      <th>2</th>\n",
       "      <td>000113f07ec002fd</td>\n",
       "      <td>Hey man, I'm really not trying to edit war. It...</td>\n",
       "      <td>0</td>\n",
       "      <td>0</td>\n",
       "      <td>0</td>\n",
       "      <td>0</td>\n",
       "      <td>0</td>\n",
       "      <td>0</td>\n",
       "    </tr>\n",
       "    <tr>\n",
       "      <th>3</th>\n",
       "      <td>0001b41b1c6bb37e</td>\n",
       "      <td>\"\\nMore\\nI can't make any real suggestions on ...</td>\n",
       "      <td>0</td>\n",
       "      <td>0</td>\n",
       "      <td>0</td>\n",
       "      <td>0</td>\n",
       "      <td>0</td>\n",
       "      <td>0</td>\n",
       "    </tr>\n",
       "    <tr>\n",
       "      <th>4</th>\n",
       "      <td>0001d958c54c6e35</td>\n",
       "      <td>You, sir, are my hero. Any chance you remember...</td>\n",
       "      <td>0</td>\n",
       "      <td>0</td>\n",
       "      <td>0</td>\n",
       "      <td>0</td>\n",
       "      <td>0</td>\n",
       "      <td>0</td>\n",
       "    </tr>\n",
       "  </tbody>\n",
       "</table>\n",
       "</div>"
      ],
      "text/plain": [
       "                 id                                       comment_text  toxic  \\\n",
       "0  0000997932d777bf  Explanation\\nWhy the edits made under my usern...      0   \n",
       "1  000103f0d9cfb60f  D'aww! He matches this background colour I'm s...      0   \n",
       "2  000113f07ec002fd  Hey man, I'm really not trying to edit war. It...      0   \n",
       "3  0001b41b1c6bb37e  \"\\nMore\\nI can't make any real suggestions on ...      0   \n",
       "4  0001d958c54c6e35  You, sir, are my hero. Any chance you remember...      0   \n",
       "\n",
       "   severe_toxic  obscene  threat  insult  identity_hate  \n",
       "0             0        0       0       0              0  \n",
       "1             0        0       0       0              0  \n",
       "2             0        0       0       0              0  \n",
       "3             0        0       0       0              0  \n",
       "4             0        0       0       0              0  "
      ]
     },
     "execution_count": 4,
     "metadata": {},
     "output_type": "execute_result"
    }
   ],
   "source": [
    "df = pd.read_csv(\"../data/jigsaw-toxic-comment-classification/train.csv\"); df.head()"
   ]
  },
  {
   "cell_type": "code",
   "execution_count": 5,
   "id": "209acd8a-0920-4de4-ad30-60cf950ace52",
   "metadata": {},
   "outputs": [],
   "source": [
    "# make the classification problem binary\n",
    "df[\"target\"] = df[[\"toxic\", \"severe_toxic\", \"obscene\", \"threat\", \"insult\", \"identity_hate\"]].sum(axis=1) > 0"
   ]
  },
  {
   "cell_type": "markdown",
   "id": "8360a203-b400-44f3-8d6a-3308005e4ec4",
   "metadata": {},
   "source": [
    "## Train a BoW-model"
   ]
  },
  {
   "cell_type": "code",
   "execution_count": 6,
   "id": "6b28d4aa-17ef-4165-b43b-9bb81a3ee6fd",
   "metadata": {},
   "outputs": [],
   "source": [
    "clf = make_pipeline(TfidfVectorizer(min_df=10, max_features=10000, stop_words=\"english\"), LogisticRegression())"
   ]
  },
  {
   "cell_type": "code",
   "execution_count": 7,
   "id": "ccc41891-f3e7-4935-8d3f-54876c388cef",
   "metadata": {},
   "outputs": [
    {
     "name": "stderr",
     "output_type": "stream",
     "text": [
      "/home/tobias/.cache/pypoetry/virtualenvs/biaslyze-OjqpgMw8-py3.10/lib/python3.10/site-packages/sklearn/linear_model/_logistic.py:458: ConvergenceWarning: lbfgs failed to converge (status=1):\n",
      "STOP: TOTAL NO. of ITERATIONS REACHED LIMIT.\n",
      "\n",
      "Increase the number of iterations (max_iter) or scale the data as shown in:\n",
      "    https://scikit-learn.org/stable/modules/preprocessing.html\n",
      "Please also refer to the documentation for alternative solver options:\n",
      "    https://scikit-learn.org/stable/modules/linear_model.html#logistic-regression\n",
      "  n_iter_i = _check_optimize_result(\n"
     ]
    },
    {
     "data": {
      "text/html": [
       "<style>#sk-container-id-1 {color: black;background-color: white;}#sk-container-id-1 pre{padding: 0;}#sk-container-id-1 div.sk-toggleable {background-color: white;}#sk-container-id-1 label.sk-toggleable__label {cursor: pointer;display: block;width: 100%;margin-bottom: 0;padding: 0.3em;box-sizing: border-box;text-align: center;}#sk-container-id-1 label.sk-toggleable__label-arrow:before {content: \"▸\";float: left;margin-right: 0.25em;color: #696969;}#sk-container-id-1 label.sk-toggleable__label-arrow:hover:before {color: black;}#sk-container-id-1 div.sk-estimator:hover label.sk-toggleable__label-arrow:before {color: black;}#sk-container-id-1 div.sk-toggleable__content {max-height: 0;max-width: 0;overflow: hidden;text-align: left;background-color: #f0f8ff;}#sk-container-id-1 div.sk-toggleable__content pre {margin: 0.2em;color: black;border-radius: 0.25em;background-color: #f0f8ff;}#sk-container-id-1 input.sk-toggleable__control:checked~div.sk-toggleable__content {max-height: 200px;max-width: 100%;overflow: auto;}#sk-container-id-1 input.sk-toggleable__control:checked~label.sk-toggleable__label-arrow:before {content: \"▾\";}#sk-container-id-1 div.sk-estimator input.sk-toggleable__control:checked~label.sk-toggleable__label {background-color: #d4ebff;}#sk-container-id-1 div.sk-label input.sk-toggleable__control:checked~label.sk-toggleable__label {background-color: #d4ebff;}#sk-container-id-1 input.sk-hidden--visually {border: 0;clip: rect(1px 1px 1px 1px);clip: rect(1px, 1px, 1px, 1px);height: 1px;margin: -1px;overflow: hidden;padding: 0;position: absolute;width: 1px;}#sk-container-id-1 div.sk-estimator {font-family: monospace;background-color: #f0f8ff;border: 1px dotted black;border-radius: 0.25em;box-sizing: border-box;margin-bottom: 0.5em;}#sk-container-id-1 div.sk-estimator:hover {background-color: #d4ebff;}#sk-container-id-1 div.sk-parallel-item::after {content: \"\";width: 100%;border-bottom: 1px solid gray;flex-grow: 1;}#sk-container-id-1 div.sk-label:hover label.sk-toggleable__label {background-color: #d4ebff;}#sk-container-id-1 div.sk-serial::before {content: \"\";position: absolute;border-left: 1px solid gray;box-sizing: border-box;top: 0;bottom: 0;left: 50%;z-index: 0;}#sk-container-id-1 div.sk-serial {display: flex;flex-direction: column;align-items: center;background-color: white;padding-right: 0.2em;padding-left: 0.2em;position: relative;}#sk-container-id-1 div.sk-item {position: relative;z-index: 1;}#sk-container-id-1 div.sk-parallel {display: flex;align-items: stretch;justify-content: center;background-color: white;position: relative;}#sk-container-id-1 div.sk-item::before, #sk-container-id-1 div.sk-parallel-item::before {content: \"\";position: absolute;border-left: 1px solid gray;box-sizing: border-box;top: 0;bottom: 0;left: 50%;z-index: -1;}#sk-container-id-1 div.sk-parallel-item {display: flex;flex-direction: column;z-index: 1;position: relative;background-color: white;}#sk-container-id-1 div.sk-parallel-item:first-child::after {align-self: flex-end;width: 50%;}#sk-container-id-1 div.sk-parallel-item:last-child::after {align-self: flex-start;width: 50%;}#sk-container-id-1 div.sk-parallel-item:only-child::after {width: 0;}#sk-container-id-1 div.sk-dashed-wrapped {border: 1px dashed gray;margin: 0 0.4em 0.5em 0.4em;box-sizing: border-box;padding-bottom: 0.4em;background-color: white;}#sk-container-id-1 div.sk-label label {font-family: monospace;font-weight: bold;display: inline-block;line-height: 1.2em;}#sk-container-id-1 div.sk-label-container {text-align: center;}#sk-container-id-1 div.sk-container {/* jupyter's `normalize.less` sets `[hidden] { display: none; }` but bootstrap.min.css set `[hidden] { display: none !important; }` so we also need the `!important` here to be able to override the default hidden behavior on the sphinx rendered scikit-learn.org. See: https://github.com/scikit-learn/scikit-learn/issues/21755 */display: inline-block !important;position: relative;}#sk-container-id-1 div.sk-text-repr-fallback {display: none;}</style><div id=\"sk-container-id-1\" class=\"sk-top-container\"><div class=\"sk-text-repr-fallback\"><pre>Pipeline(steps=[(&#x27;tfidfvectorizer&#x27;,\n",
       "                 TfidfVectorizer(max_features=10000, min_df=10,\n",
       "                                 stop_words=&#x27;english&#x27;)),\n",
       "                (&#x27;logisticregression&#x27;, LogisticRegression())])</pre><b>In a Jupyter environment, please rerun this cell to show the HTML representation or trust the notebook. <br />On GitHub, the HTML representation is unable to render, please try loading this page with nbviewer.org.</b></div><div class=\"sk-container\" hidden><div class=\"sk-item sk-dashed-wrapped\"><div class=\"sk-label-container\"><div class=\"sk-label sk-toggleable\"><input class=\"sk-toggleable__control sk-hidden--visually\" id=\"sk-estimator-id-1\" type=\"checkbox\" ><label for=\"sk-estimator-id-1\" class=\"sk-toggleable__label sk-toggleable__label-arrow\">Pipeline</label><div class=\"sk-toggleable__content\"><pre>Pipeline(steps=[(&#x27;tfidfvectorizer&#x27;,\n",
       "                 TfidfVectorizer(max_features=10000, min_df=10,\n",
       "                                 stop_words=&#x27;english&#x27;)),\n",
       "                (&#x27;logisticregression&#x27;, LogisticRegression())])</pre></div></div></div><div class=\"sk-serial\"><div class=\"sk-item\"><div class=\"sk-estimator sk-toggleable\"><input class=\"sk-toggleable__control sk-hidden--visually\" id=\"sk-estimator-id-2\" type=\"checkbox\" ><label for=\"sk-estimator-id-2\" class=\"sk-toggleable__label sk-toggleable__label-arrow\">TfidfVectorizer</label><div class=\"sk-toggleable__content\"><pre>TfidfVectorizer(max_features=10000, min_df=10, stop_words=&#x27;english&#x27;)</pre></div></div></div><div class=\"sk-item\"><div class=\"sk-estimator sk-toggleable\"><input class=\"sk-toggleable__control sk-hidden--visually\" id=\"sk-estimator-id-3\" type=\"checkbox\" ><label for=\"sk-estimator-id-3\" class=\"sk-toggleable__label sk-toggleable__label-arrow\">LogisticRegression</label><div class=\"sk-toggleable__content\"><pre>LogisticRegression()</pre></div></div></div></div></div></div></div>"
      ],
      "text/plain": [
       "Pipeline(steps=[('tfidfvectorizer',\n",
       "                 TfidfVectorizer(max_features=10000, min_df=10,\n",
       "                                 stop_words='english')),\n",
       "                ('logisticregression', LogisticRegression())])"
      ]
     },
     "execution_count": 7,
     "metadata": {},
     "output_type": "execute_result"
    }
   ],
   "source": [
    "clf.fit(df.comment_text, df.target)"
   ]
  },
  {
   "cell_type": "code",
   "execution_count": 8,
   "id": "086aed03-08e7-4382-88ed-92e706c22ed1",
   "metadata": {},
   "outputs": [
    {
     "name": "stdout",
     "output_type": "stream",
     "text": [
      "0.9605755431751384\n"
     ]
    }
   ],
   "source": [
    "train_pred = clf.predict(df.comment_text)\n",
    "print(accuracy_score(df.target, train_pred))"
   ]
  },
  {
   "cell_type": "markdown",
   "id": "a384064a-bb37-49e3-a059-835e02150098",
   "metadata": {},
   "source": [
    "### probe the model a bit"
   ]
  },
  {
   "cell_type": "code",
   "execution_count": 43,
   "id": "ecad9286-4c1a-4aa3-a106-9a3f4e23b232",
   "metadata": {
    "tags": []
   },
   "outputs": [
    {
     "name": "stdout",
     "output_type": "stream",
     "text": [
      "[[0.91499231 0.08500769]]\n"
     ]
    }
   ],
   "source": [
    "test_text = \"Jews and muslims are great friends!\"\n",
    "\n",
    "print(clf.predict_proba([test_text]))"
   ]
  },
  {
   "cell_type": "code",
   "execution_count": 44,
   "id": "90a29abe-4657-4b9e-8186-d8acf5e29ddf",
   "metadata": {
    "tags": []
   },
   "outputs": [
    {
     "name": "stdout",
     "output_type": "stream",
     "text": [
      "[[0.9287197 0.0712803]]\n"
     ]
    }
   ],
   "source": [
    "test_text = \"That woman is great!\"\n",
    "\n",
    "print(clf.predict_proba([test_text]))"
   ]
  },
  {
   "cell_type": "code",
   "execution_count": 45,
   "id": "3ddc7fe1-97ba-4a50-a97f-646e176f3ca6",
   "metadata": {
    "tags": []
   },
   "outputs": [
    {
     "name": "stdout",
     "output_type": "stream",
     "text": [
      "[[0.92822178 0.07177822]]\n"
     ]
    }
   ],
   "source": [
    "test_text = \"That man is great!\"\n",
    "\n",
    "print(clf.predict_proba([test_text]))"
   ]
  },
  {
   "cell_type": "code",
   "execution_count": 46,
   "id": "a47a982c-2744-4317-bae7-69cb1e1c5ffd",
   "metadata": {
    "tags": []
   },
   "outputs": [
    {
     "name": "stdout",
     "output_type": "stream",
     "text": [
      "[[0.79439839 0.20560161]]\n"
     ]
    }
   ],
   "source": [
    "test_text = \"That muslim woman is great deed for islam!\"\n",
    "\n",
    "print(clf.predict_proba([test_text]))"
   ]
  },
  {
   "cell_type": "markdown",
   "id": "eafd8506-c670-411d-8621-42b7049be826",
   "metadata": {},
   "source": [
    "## Test LIME based bias detection with keywords"
   ]
  },
  {
   "cell_type": "code",
   "execution_count": 9,
   "id": "9399c76a-2299-49c9-a111-3b125798e807",
   "metadata": {},
   "outputs": [
    {
     "name": "stderr",
     "output_type": "stream",
     "text": [
      "/home/tobias/.cache/pypoetry/virtualenvs/biaslyze-OjqpgMw8-py3.10/lib/python3.10/site-packages/tqdm/auto.py:21: TqdmWarning: IProgress not found. Please update jupyter and ipywidgets. See https://ipywidgets.readthedocs.io/en/stable/user_install.html\n",
      "  from .autonotebook import tqdm as notebook_tqdm\n"
     ]
    }
   ],
   "source": [
    "from biaslyze.evaluators import LimeBiasEvaluator\n",
    "from biaslyze.bias_detectors import LimeKeywordBiasDetector"
   ]
  },
  {
   "cell_type": "code",
   "execution_count": 10,
   "id": "83c61a69-1141-4a76-b372-e2e33857882f",
   "metadata": {},
   "outputs": [],
   "source": [
    "bias_detector = LimeKeywordBiasDetector(\n",
    "    bias_evaluator=LimeBiasEvaluator(n_lime_samples=1000),\n",
    "    n_top_keywords=30,\n",
    "    use_tokenizer=True\n",
    ")"
   ]
  },
  {
   "cell_type": "code",
   "execution_count": 11,
   "id": "c2cffca2-67f3-4024-b23a-d03eaa83ae05",
   "metadata": {
    "scrolled": true,
    "tags": []
   },
   "outputs": [
    {
     "name": "stderr",
     "output_type": "stream",
     "text": [
      "2023-04-21 08:56:39.341 | INFO     | biaslyze.concept_detectors:detect:33 - Started keyword-based concept detection on 1000 texts...\n",
      "100%|█████████████████████████████████████████████████████████████████████████████████████████████████████████████████████████████████████████████████████████████████████████████████| 1000/1000 [00:22<00:00, 44.14it/s]\n",
      "2023-04-21 08:57:02.005 | INFO     | biaslyze.concept_detectors:detect:49 - Done. Found 240 texts with protected concepts.\n",
      "2023-04-21 08:57:02.006 | INFO     | biaslyze.evaluators:evaluate:44 - Started bias detection on 240 samples...\n",
      "100%|███████████████████████████████████████████████████████████████████████████████████████████████████████████████████████████████████████████████████████████████████████████████████| 240/240 [03:05<00:00,  1.30it/s]\n"
     ]
    }
   ],
   "source": [
    "test_texts = df.comment_text.sample(1000)\n",
    "detection_res = bias_detector.detect(texts=test_texts, predict_func=clf.predict_proba)"
   ]
  },
  {
   "cell_type": "code",
   "execution_count": 12,
   "id": "fc086f59-23dd-456b-a88e-8e49060f3e13",
   "metadata": {},
   "outputs": [
    {
     "name": "stdout",
     "output_type": "stream",
     "text": [
      "Detected 175 samples with potential issues.\n",
      "    Potentially problematic concepts detected: [('gender', 139), ('nationality', 31), ('religion', 13)]\n",
      "    Based on keywords: [('he', 46), ('his', 36), ('english', 14), ('her', 12), ('man', 11), ('she', 11), ('guy', 10), ('mother', 10), ('men', 6), ('jewish', 4), ('guys', 4), ('boy', 3), ('jews', 3), ('brother', 3), ('male', 3), ('women', 3), ('woman', 3), ('russian', 3), ('palestine', 2), ('christian', 2)].\n"
     ]
    }
   ],
   "source": [
    "detection_res.summary()"
   ]
  },
  {
   "cell_type": "code",
   "execution_count": 13,
   "id": "c6a1e029-7dbf-4649-840b-3f21d501d253",
   "metadata": {
    "scrolled": true,
    "tags": []
   },
   "outputs": [
    {
     "name": "stdout",
     "output_type": "stream",
     "text": [
      "Concept: nationality\n",
      "[{'reason': ['china'],\n",
      "  'text': '\"\\n'\n",
      "          '\\n'\n",
      "          'This was a very informative article and it is highly recommended. '\n",
      "          'It needs more information about how to deal with intellectualy '\n",
      "          'dihonesty on Wikipedia. There are some regular writers on Wikipedia '\n",
      "          'who knowingly engage in personal attacks and deletions (even of '\n",
      "          'links) of anyone who explains the connection between Edward Bellamy '\n",
      "          'and his cousin Francis Bellamy (author of the pledge of allegiance) '\n",
      "          'and National Socialism. Some of the worst falsifiers on Wikipedia '\n",
      "          'are Stormie, Lupo, and Matt Crypto. They were challenged to respond '\n",
      "          'to the facts that they suppressed or to concede, and they each '\n",
      "          'conceded that the facts that they suppress are correct and that '\n",
      "          'they delete those facts because they do not want Wikipedia readers '\n",
      "          'to know the truth. They constantly spam their own point of view in '\n",
      "          'their diatribes in which they try to cover up for Nazism. It is '\n",
      "          \"behavior that breaks Wikipedia's rules. What kind of people \"\n",
      "          'cover-up for Nazis and that horrid ideology?\\n'\n",
      "          '\\n'\n",
      "          'Many regular writers on Wikipedia are intellectually dishonest  and '\n",
      "          'they regurgitate the top media cover-ups.  They cover up many '\n",
      "          'historic photos of the Pledge of Allegiance '\n",
      "          'http://rexcurry.net/pledge2.html that reveal its original '\n",
      "          'straight-arm salute.  They cover up the fact that the author of the '\n",
      "          'Pledge of Allegiance (Francis Bellamy), and his cousin and cohort '\n",
      "          '(Edward Bellamy), were National Socialists and supported the '\n",
      "          '\"\"Nationalism\"\" movement, the \"\"Nationalist\"\" magazine, the '\n",
      "          '\"\"Nationalist Educational Association,\"\" their dogma of \"\"military '\n",
      "          'socialism,\"\" and Edward inspired the \"\"Nationalist Party.\"\"  They '\n",
      "          \"cover up the Pledge's straight-arm salute as the origin \"\n",
      "          'http://rexcurry.net/pledge1.html of the salute of the National '\n",
      "          \"Socialist German Workers' Party (Nazis). As part of the cover up, \"\n",
      "          'they perpetuate the myth http://rexcurry.net/pledgesalute.html that '\n",
      "          'the straight-arm salute was from ancient Rome.  They cover up '\n",
      "          'discoveries by the historian Rex Curry.  The Pledge began with a '\n",
      "          'military salute that then stretched outward toward the flag. '\n",
      "          'Historic photographs are at http://rexcurry.net/pledge2.html and at '\n",
      "          'http://rexcurry.net/pledge_military.html showing the evolution of '\n",
      "          'the gesture. Due to the way that both gestures were used, the '\n",
      "          'military salute led to the Nazi salute. The Nazi salute '\n",
      "          'http://rexcurry.net/book1a1contents-pledge.html is an extended '\n",
      "          'military salute. A mnemonic device is the swastika (\"\"Hakenkreuz\"\" '\n",
      "          'in German).   Although the swastika was an ancient symbol, it was '\n",
      "          'also used sometimes by German National Socialists to represent '\n",
      "          '\"\"S\"\" letters for their \"\"socialism.\"\"  Hitler altered his own '\n",
      "          'signature http://rexcurry.net/book1a1contents-swastika.html to use '\n",
      "          'the same stylized \"\"S\"\" letter for \"\"socialist.\"\" Wikipedia\\'s '\n",
      "          'fibbers cover up for the swastika '\n",
      "          'http://rexcurry.net/swastikanews.html and its use as a sick '\n",
      "          \"socialist symbol. Wikipedia's dissemblers cover up for the National \"\n",
      "          \"Socialist German Worker's Party \"\n",
      "          'http://rexcurry.net/swastikamedia.html by overuse of the hackneyed '\n",
      "          'shorthand \"\"Nazi.\"\"  Many Wikipedia posters are propagandists in '\n",
      "          'that there was no \"\"Nazi Party\"\" because it was actually the '\n",
      "          '\"\"National Socialist German Workers\\' Party\"\" and the party members '\n",
      "          'did not call themselves \"\"Nazis\"\" nor the \"\"Nazi Party.\"\"  The term '\n",
      "          '\"\"Nazi\"\" developed from slang using the first syllable in the '\n",
      "          'German pronunciation of the \"\"National Socialist German Workers\\' '\n",
      "          'Party.\"\"  In that sense, the author of the Pledge of Allegiance was '\n",
      "          'a \"\"Nazi\"\" too, in that the term means \"\"National Socialist.\"\"  The '\n",
      "          'term \"\"Nazi\"\" is also used to hide the National Socialist dogma '\n",
      "          'behind the Pledge of Allegiance, its original gesture, and the '\n",
      "          \"National Socialist German Workers' Party.  \\n\"\n",
      "          '\\n'\n",
      "          'Wikipedia\\'s cons use the term \"\"Nazi\"\" and the misnomer \"\"Nazi '\n",
      "          'Party\"\" to cover-up the horrors of socialism. Wikipedia\\'s '\n",
      "          'falsifiers cover up the the socialist trio of atrocities and and '\n",
      "          'their socialist Wholecaust (of which the Holocaust was a part): 62 '\n",
      "          'million people were slaughtered under the former Union of Soviet '\n",
      "          \"Socialist Republics; 35 million were slaughtered under the Peoples' \"\n",
      "          'Republic of China; 21 million were slaughtered under the National '\n",
      "          \"Socialist German Workers' Party. They cover up the fact that \"\n",
      "          'socialists helped start WWII with the National Socialist German '\n",
      "          \"Workers' Party and the Union of Soviet Socialist Republics \"\n",
      "          'together  http://rexcurry.net/socialistwar.html as allies in 1939. '\n",
      "          'They cover up for and are deniers of the socialist Wholecaust, '\n",
      "          'http://rexcurry.net/mediacoverup.html of which the monstrous '\n",
      "          'Holocaust was a part.\\n'\n",
      "          '\\n'\n",
      "          'Liars on Wikipedia repeat common lies '\n",
      "          'http://rexcurry.net/mediapledge.html of the media. '\n",
      "          'http://rexcurry.net/socialistmedia.html\\n'\n",
      "          '\\n'\n",
      "          'Wikipedia should not be cited for support because it is no '\n",
      "          'different than quoting various anonymous sources who have no '\n",
      "          'knowledge of the topic http://rexcurry.net/wikipedialies.html or '\n",
      "          'who have fibs to spread about the topic.\\n'\n",
      "          '\\n'\n",
      "          'The Wikipedia article for th'},\n",
      " {'reason': ['palestine'], 'text': 'The Palestine Telegraph'},\n",
      " {'reason': ['english'],\n",
      "  'text': 'Thank you for the discussion. ) I may have worded it wrong. Even '\n",
      "          'though officially Latin is not used in the City-State in the same '\n",
      "          'way as the Holy See, leaving only the Italian translation can also '\n",
      "          'mislead readers to believe Italian, English, etc are only used '\n",
      "          'there even in documents, and the average reader will still tend to '\n",
      "          'confuse the two entities of the Vatican City State and Holy See '\n",
      "          'together even after reading the article (even I do!). I believe the '\n",
      "          'note therefore kills two birds with one stone with the '\n",
      "          'clarification in a concise manner, and instead of removing it any '\n",
      "          'help in clarity would be appreciated and help the article overall.'},\n",
      " {'reason': ['saudi'],\n",
      "  'text': 'I noticed that the location of the Saudi Aramco Residential Camp in '\n",
      "          'Dhahran was appearing incorrectly within the Google Earth '\n",
      "          'Geographic Web layer.  This may have occurred from the split of the '\n",
      "          'articles for the city of Dhahran and the Aramco Dhahran camp, '\n",
      "          \"discussed elsewhere within this article's discussion; the locations \"\n",
      "          'for both appear to have defaulted to Dhahran International Airport, '\n",
      "          'possibly because of the use of a geocoded photo of the airport '\n",
      "          'within the articles and the fact that no specific coordinate for '\n",
      "          'Aramco Dhahran camp was given within this article.  I have set the '\n",
      "          \"location for the Aramco Dhahran camp at King's Road Ball Field for \"\n",
      "          'a variety of reasons, such as the facts that this ball field was '\n",
      "          'the location of many social activities and that it is recognizable '\n",
      "          'by Aramco Brats of all ages, which is not true of other locations '\n",
      "          'within the camp; for example, the locations of the entrance gates '\n",
      "          'have changed over time.  I set the coordinates in accordance with '\n",
      "          'the Google Earth Geographic Web layer and the Wikipedia coord '\n",
      "          'template.'},\n",
      " {'reason': ['taiwan'],\n",
      "  'text': 'To Dawnseeker2000 \\n'\n",
      "          '\\n'\n",
      "          ' please explain the action of you revert Taiwan part\\n'\n",
      "          'If you keeping act rude without reason I see you in the Village '\n",
      "          'pump'},\n",
      " {'reason': ['turkish', 'his'],\n",
      "  'text': '\"\\n'\n",
      "          ' You are pushing for POV, as always. It is YOU who is using '\n",
      "          \"Sikandarji's name ... in fact, you are absuing his name for your \"\n",
      "          'nonsense. He has contradicted and rejected your nonsense many times '\n",
      "          '- just check the Talk:Hephthalite page. And he has rejected your '\n",
      "          'nonsense about \"\"Mughals being Turks\"\" (check Talk:Timurids). You '\n",
      "          'are DEFFINITLY pushing for a Turkish nationalist POV, and your '\n",
      "          'recent edits are a clear proof for that ... and the fact, that you '\n",
      "          'have actively removed scholarly sources - including 2 articles of '\n",
      "          'the Encyclopaedia Iranica - in favour of your own nationalist '\n",
      "          'nonsense underlines your evil plans in Wikipedia. \\n'\n",
      "          ' You have once again violated the 3RR, and you have once again '\n",
      "          'created a parallel-article to an already existing article, '\n",
      "          'containing your own pseudo-scientific nonsense. I have reported you '\n",
      "          'to admins ... But I guess you know that already, since you are '\n",
      "          'stalking.  \"'},\n",
      " {'reason': ['english'],\n",
      "  'text': 'PS You can check this in the snappily-titled List of names in '\n",
      "          'English with non-intuitive pronunciations.   | Talk'},\n",
      " {'reason': ['turkish'],\n",
      "  'text': 'Kansas Bear supports all the anti-Turkish acts that i know, keep an '\n",
      "          'eye on me, but i keep on you Kansas '\n",
      "          'bear.Contributions/62.248.42.19'},\n",
      " {'reason': ['palestine', 'his', 'he'],\n",
      "  'text': 'OMG. I searched in Orens book using Amazon. It seems that he is '\n",
      "          'actually making the claim that 300,000 Arabs immigrated to '\n",
      "          'Palestine. Unbelievable. GHcool, could you check what source Oren '\n",
      "          'is using for his claim? Is it Peters or Gottheil?'},\n",
      " {'reason': ['english'],\n",
      "  'text': 'Hello,\\n'\n",
      "          '\\n'\n",
      "          \"I am the owner of the 2 photos you deleted. perhaps i didn't \"\n",
      "          \"license it properly because I don't have good English and thought i \"\n",
      "          'was putting it by the right category. Mimel took the photo, he and '\n",
      "          'I uploaded the file. He is a photographer in Haifa, Israel. \\n'\n",
      "          'In which category should I put the photos, considering that you are '\n",
      "          'speaking to the person that took it. We can decide to make it a '\n",
      "          'free licences with Mimel tommorow without any problem.'},\n",
      " {'reason': ['english'],\n",
      "  'text': \"No, sorry, I live in Poland and don't read books in English, \"\n",
      "          'especially little known ones. How could I have got to know them? If '\n",
      "          'I saw them in a book store, I would buy translated ones. Piotr '\n",
      "          'Nizynski'},\n",
      " {'reason': ['german', 'he'],\n",
      "  'text': 'We already won, in 1945. The truth is one, and there are to many '\n",
      "          'people that know it, so DLX could not change it. By the way, about '\n",
      "          'the Sandstein or whatever who blocked us, i knew that would happen. '\n",
      "          \"He's a German, so i expected it. He didn't say anything to DLX \"\n",
      "          'about what he does. M.V.E.i.'},\n",
      " {'reason': ['california'],\n",
      "  'text': 'The fact that the students in Waldorf schools in California have '\n",
      "          'personal exemptions from immunizations at a higher rate than the '\n",
      "          'state average is fact, verified by the State of California '\n",
      "          \"statistics which I ref'd.  In Sonoma County the exemption rate is \"\n",
      "          '52% for the private school, 71% for one charter school, and 88% for '\n",
      "          'the other.  The state average for personal exemptions is less than '\n",
      "          '2%.  Moving to the rest of the state provides similar numbers.  The '\n",
      "          'schools can claim that this is not an official policy, but I did '\n",
      "          'not argue that it is official policy, only that the numbers are '\n",
      "          'true and that they are verifiable.\\n'\n",
      "          '\\n'\n",
      "          'My edits have been deleted with the argument that the verifiable '\n",
      "          'truth of individual school and county data is not relevant to a '\n",
      "          \"'movement of over 1000 schools.'   So from my point of view, true \"\n",
      "          'and verifiable information about a significant component of life in '\n",
      "          'Waldorf schools is being suppressed on wikipedia.'},\n",
      " {'reason': ['israeli'],\n",
      "  'text': '\"\\n'\n",
      "          '\\n'\n",
      "          'First, you are misreading what your first source is. The document '\n",
      "          'you reference is a UN interum report on Resolution 425. 425 dates '\n",
      "          'back to 1978. That document (the report) does not reflect any '\n",
      "          'agreement between the UN and Israel. 425 calls for many things, but '\n",
      "          'there had been no public pledge from Israel on dismantling the SLA. '\n",
      "          'In fact, Israel in public had been saying the opposite. They were '\n",
      "          'not planning to leave until early July. The report being issued on '\n",
      "          \"the 22nd isn't very meaningful. Its coincidence. There was a whole \"\n",
      "          'series of meetings between the SLA (see later material) and '\n",
      "          'UN/various countries that was a whole lot more damaging than the '\n",
      "          'interium erport on 425.\\n'\n",
      "          '\\n'\n",
      "          \"Second, I think its better to deal with Charbel Barakat's fuller \"\n",
      "          'and more accurate version of what happened in May from his '\n",
      "          'congressional testimony in June 2000:\\n'\n",
      "          '\\n'\n",
      "          '\"\"During the month of May 2000 our people remitted a memorandum to '\n",
      "          'the office of the United Nations in Nakura in south Lebanon '\n",
      "          'offering suggestions to avoid bloodshed and exodus. During the same '\n",
      "          'month delegations representing our community met with diplomats of '\n",
      "          'the US, UK, and French embassies in Israel and at the United '\n",
      "          'Nations. And on May 18, our representatives met with the office of '\n",
      "          'the Secretary General of the United Nations in New York ... Instead '\n",
      "          'of taking our demands for protection on our land seriously, the '\n",
      "          'United Nations declined to assist us ... The United States, UK and '\n",
      "          'France dismissed our fears and insisted on guarantees which were '\n",
      "          'allegedly granted by the Beirut regime ... The State of Israel only '\n",
      "          'prepared for our potential exodus, ruling out our determination to '\n",
      "          'remain on our land and defend ourselves.\"\"\\n'\n",
      "          '\\n'\n",
      "          '\"\"Despite the abandonment by the international community and '\n",
      "          'against all odds, our people decided to remain and fight for their '\n",
      "          'land and rights while calling endlessly on the UN to deploy its '\n",
      "          'units around our villages. \\n'\n",
      "          'On May 22, 2000, and as Israeli units were implementing their own '\n",
      "          'withdrawal and the commander of the SLA was absent in France, the '\n",
      "          'mostly Shiite sector of the security zone collapsed. It appeared '\n",
      "          'that Shiite officers were told by the Israelis that they must leave '\n",
      "          'before the borders closed. Even after the invasion of Hizbollah of '\n",
      "          'this area, the mostly Christian-Druse eastern enclave and the '\n",
      "          'Christian western enclave, decided to defend themselves and protect '\n",
      "          'their citizens after Israel’s withdrawal.\\n'\n",
      "          'On May 23, 2000, at 8 PM, SLA officers in the western sector '\n",
      "          'received orders from the Israelis to leave their posts as Hizbollah '\n",
      "          'was advancing towards their villages. Thus the SLA was imploded '\n",
      "          'from the inside and was dismantled without any battle. The main '\n",
      "          'reason why the SLA did not remain and fight was the fact that the '\n",
      "          'border was closed behind its back. Without access to medical and '\n",
      "          'logistical supplies, our people was condemned either to surrender '\n",
      "          'to its enemy or flee across the border.\"\" (from '\n",
      "          '[www.10452lccc.com/special%20studies/barakatjune2000.htm])\\n'\n",
      "          '\\n'\n",
      "          'The SLA did collapse. What Charbel Barakat is talking about in the '\n",
      "          'MEF comments is that the remainder of the SLA (Christian) in the '\n",
      "          'west did not collapse and was dismanted by Israel. But it was only '\n",
      "          'dismanted after most of the SLA had collapsed. Charbel Barakat and '\n",
      "          'other dead-enders may have wanted (in theory anyway) to fight on in '\n",
      "          \"the west, but Israel wasn't going to make any commitment to keep a \"\n",
      "          'miniture version of the SLA going in a tiny pocket on the west end '\n",
      "          'of the border. The caution I would give about Barakat and a couple '\n",
      "          'others from the SLA is that sometimes they think of their Christian '\n",
      "          'portion of the SLA as if it were the entire SLA. And from that '\n",
      "          'point of view, the SLA did not collapse and was dismantled by '\n",
      "          'Israel.\\n'\n",
      "          '\\n'\n",
      "          'The biggest claim made by Barakat is in weasel-words: \"\"It appeared '\n",
      "          'that Shiite officers were told by the Israelis that they must '\n",
      "          'leave\"\". \\'It appeared that\"\" means he is guessing. Nobody on '\n",
      "          'either side of the border has outright claimed that the Shites were '\n",
      "          'told to leave and that is why they collapsed on the 22nd. Even '\n",
      "          'Barakat is unwilling to make that claim.\\n'\n",
      "          '\\n'\n",
      "          \"Now lots of other things may have happened that the public doesn't \"\n",
      "          'know about with regard to the SLA collapse. But the only people who '\n",
      "          'would know the truth are a handful of people at the top of the '\n",
      "          'Israeli government and army. Nobody in the SLA knows much of '\n",
      "          'anything because if Israel was going to collapse them, they would '\n",
      "          'hardly tell them their plan. People (including me) can make lots of '\n",
      "          'hunches and theories about what might have happened, but there are '\n",
      "          'no facts to back any of those theories up.  \"'},\n",
      " {'reason': ['english'],\n",
      "  'text': 'Heraldic translation: help needed \\n'\n",
      "          'Please can you translate a blazon. I drew the coat of arms of '\n",
      "          \"Coubron but I don't know how to describe in English the hunting \"\n",
      "          'horn on which some elements are of an other colour: the little pipe '\n",
      "          'in which you blow, the lace and the metal ring at the end of the '\n",
      "          'horn. Can you help me, please?'},\n",
      " {'reason': ['english'],\n",
      "  'text': 'Pronouncing \\n'\n",
      "          '\\n'\n",
      "          '[ˌrəʊlzˈrɔɪs] is the English pronunciation, often mistaken with '\n",
      "          '[ˌrəʊlsˈrɔɪs].'},\n",
      " {'reason': ['russian', 'jewish'],\n",
      "  'text': 'has about Russian Jewish book peddlers'},\n",
      " {'reason': ['german'],\n",
      "  'text': 'The legal base for the two military courts can be found in the '\n",
      "          'following act (German): '\n",
      "          'http://www.bgbl.de/Xaver/start.xav?startbk=Bundesanzeiger_BGBl&start;=//*[@attr_id=%27bgbl106s1262.pdf%27] '\n",
      "          '149.154.154.231'},\n",
      " {'reason': ['english'],\n",
      "  'text': 'Politburo ranking \\n'\n",
      "          '\\n'\n",
      "          'The fact that Trong was selected as the No. 8 member of the '\n",
      "          'Politburo was reported everywhere in the Vietnamese press. Nhan Dan '\n",
      "          'gives the list both in English and in Vietnamese. Voice of Vietnam '\n",
      "          'does the same here and here.'},\n",
      " {'reason': ['chinese'],\n",
      "  'text': 'Curiously, most members of those Chinese armies spoke cantonese. '\n",
      "          '99.244.189.70'},\n",
      " {'reason': ['english'],\n",
      "  'text': 'Please read WP:NCMAC. Please take note that the country in question '\n",
      "          'is to be referred to as the Republic of Macedonia or simply '\n",
      "          'Macedonia on the English language wikipedia and not as fyrom or '\n",
      "          'similar. Please follow policy when editing.'},\n",
      " {'reason': ['english'],\n",
      "  'text': '\"\\n'\n",
      "          'The two examples you give are clearly different, however there is '\n",
      "          'no need for the article specifically in the case of \"\"professor\"\" '\n",
      "          \"(c.f. , ). I'm not sure why - it is a peculiarity of English. I \"\n",
      "          'think most people who recognize the validity of the form would '\n",
      "          'agree it sounds \"\"better\"\" without.   \"'},\n",
      " {'reason': ['russian'],\n",
      "  'text': 'Welcome!\\n'\n",
      "          '\\n'\n",
      "          'Hello, , and welcome to Wikipedia! Thank you for your '\n",
      "          'contributions. I hope you like the place and decide to stay. Here '\n",
      "          'are some pages that you might find helpful:\\n'\n",
      "          'The five pillars of Wikipedia\\n'\n",
      "          'How to edit a page\\n'\n",
      "          'Help pages\\n'\n",
      "          'Tutorial\\n'\n",
      "          'How to write a great article\\n'\n",
      "          'Manual of Style\\n'\n",
      "          'I hope you enjoy editing here and being a Wikipedian! Please sign '\n",
      "          'your name on talk pages using four tildes (~~~~); this will '\n",
      "          'automatically produce your name and the date. If you need help, '\n",
      "          'check out Wikipedia:Questions, ask me on my talk page, or place '\n",
      "          '{{helpme}} on your talk page and someone will show up shortly to '\n",
      "          'answer your questions. Again, welcome!\\xa0 ← ну? \\n'\n",
      "          '\\n'\n",
      "          'Your text from Talk:Wafa Sultan\\n'\n",
      "          'Assuming the below says the same in Arabic and Russian, I took the '\n",
      "          \"liberty to move it here. Please don't misuse WP talk pages. Thank \"\n",
      "          'you. ← ну? \\n'\n",
      "          '\\n'\n",
      "          'الدكتورة العزيزة وفاء سلطان، أحبك كثيرا وأنا أنتظر إلى كتابك\\n'\n",
      "          '\\n'\n",
      "          'Уважаемые пользователи Википедии, просьба отметиться здесь всем тем '\n",
      "          'кто уважает и поддерживает  идеологию и мысль многоуважаемой '\n",
      "          'госпожи Вафа Султан. Жду Ваших рецензий ) !'},\n",
      " {'reason': ['english'],\n",
      "  'text': '\"\\n'\n",
      "          '\\n'\n",
      "          ' Wo rohe Kräfte sinnlos walten, da kann sich kein Gebild '\n",
      "          'gestalten \\n'\n",
      "          '\\n'\n",
      "          '\"\"Thank\"\" you for including me into this arbritration case '\n",
      "          'http://en.wikipedia.org/wiki/Wikipedia:Requests_for_arbitration/Ulritz\\n'\n",
      "          'without giving any further explanation! I will from now on abstain '\n",
      "          'from editing the English Wikipedia for the reason indicated in the '\n",
      "          'heading (Friedrich Schiller \"\"die Glocke\"\"). Have fun!\\n'\n",
      "          '\\n'\n",
      "          'ps: by the way, supporting someone who calls other users \"\"asocial '\n",
      "          'neo-nazis\"\" because they oppose comments like \"\"unless they\\'re '\n",
      "          'Germans, then you can just shoot them\"\" does not correspond with my '\n",
      "          'idea of Wikipedia. ( )\"'},\n",
      " {'reason': ['california'],\n",
      "  'text': 'REDIRECT Talk:Mount Hope Cemetery (San Diego, California)'},\n",
      " {'reason': ['english'],\n",
      "  'text': 'Does this help? \\n'\n",
      "          '\\n'\n",
      "          'For the record as you have accused me of making threats I would '\n",
      "          \"like you to know that I wasn't, merely pointing out that if his \"\n",
      "          'nationality is Irish you should not try and claim him as english. '\n",
      "          'Furthermore block me all you want as i have done nothing wrong in '\n",
      "          \"fact I'm quite right in changing his nationality to Irish when you \"\n",
      "          'claim he is not.. I appreciate he may be a citizen of britain but '\n",
      "          \"that does not mean his nationality is british, it's really not that \"\n",
      "          'difficult to understand that if his parents are Irish and he was '\n",
      "          'born in dublin and lived there until he was 5, he is clearly '\n",
      "          'Irish.. I would appreciate no more threatening messages from you in '\n",
      "          'mail.. Peace from Eire'},\n",
      " {'reason': ['english', 'jew'],\n",
      "  'text': '\"\\n'\n",
      "          '\\n'\n",
      "          'hehe, you *ARE* truly pathetic Zereshk, as I have pointed out to '\n",
      "          'you before.  You know damn well that the term \"\"racism\"\" or '\n",
      "          '\"\"racist comment\"\" doesn not apply in Iran in the same way that it '\n",
      "          'applies in countries with true racist history, such as USA and many '\n",
      "          'European countries.  The fact that you are using your familiarity '\n",
      "          'with the English language to get a cheap \"\"winning point\"\" out of a '\n",
      "          'lost game, tells us how weak and pathetic you are.  In absolutely '\n",
      "          'BEST of circumstances, you can associate \"\"turk\"\" in Persian slang '\n",
      "          'with \"\"ethnicity\"\" but if you really grew up in Iran as you claim '\n",
      "          'you did, you know damn well what it is.  And especially \"\"torke '\n",
      "          'tablo\"\", which you are.  Given your pathetic edit history of \"\"all '\n",
      "          'image and no substance\"\" I repeat, I is hard to imagine a lower and '\n",
      "          'less self-respecting Iranian than you.  You were born to be '\n",
      "          'wannabee-western and as such, Iranians like you deserve to be '\n",
      "          'jew-slaves.   \"'},\n",
      " {'reason': ['russian'],\n",
      "  'text': 'There are two interpretations . Traditional Catholics consider '\n",
      "          'non-Catholics as protestants. Historians consider Christian groups '\n",
      "          'that historicaly protested or antagonized the Catholic Church as '\n",
      "          'protestant, these are typically Lutherans and affiliates. Are the '\n",
      "          'Greek ,Russian and Coptic Orthodox Churches protestant?They have '\n",
      "          'only been geographically separated and developed that way . They '\n",
      "          'maintain many sacraments seen in the Catholic Church. Also '\n",
      "          'Christian coalitions have core requirements like acceptance of the '\n",
      "          'Divinity of Jesus as the Son of God, Holy Trinity, Ressurection and '\n",
      "          \"Salvation through grace, personal relation to J.C. etc. Jehovah's \"\n",
      "          \"Witnesses, Adventists, etc, don't accept all of these. Even the \"\n",
      "          'Catholic Church accepts (I believe) certain groups as Christian '\n",
      "          \"even if they don't recognize the Pope as long as the fulfill these \"\n",
      "          'Christian requirements. Since this is an encyclopedia, we need to '\n",
      "          'distinguish these forms.'},\n",
      " {'reason': ['australia'],\n",
      "  'text': 'Mangalore\\n'\n",
      "          'You list me creating Mangalore, Victoria on this page.\\n'\n",
      "          'That article is about a town in Australia and NOT the one in '\n",
      "          'Karnataka.'},\n",
      " {'reason': ['english'],\n",
      "  'text': '\"\\n'\n",
      "          \"You can say it if you like, but that ain't standard English.  —\\xa0 \"\n",
      "          '✉ \"'},\n",
      " {'reason': ['english'],\n",
      "  'text': 'Survey\\n'\n",
      "          '\\n'\n",
      "          'Hi Alissahart!\\n'\n",
      "          '\\n'\n",
      "          'I have put together a survey for female editors of Wikipedia (and '\n",
      "          \"related projects) in order to explore, in greater detail, women's \"\n",
      "          \"experiences and roles within the Wikimedia movement. It'd be \"\n",
      "          'wonderful if you could participate!\\n'\n",
      "          '\\n'\n",
      "          \"It's an independent survey, done by me, as a fellow volunteer \"\n",
      "          'Wikimedian. It is not being done on behalf of the Wikimedia '\n",
      "          \"Foundation. I hope you'll participate!\\n\"\n",
      "          '\\n'\n",
      "          'Just click this link to participate in this survey, via Google!\\n'\n",
      "          '\\n'\n",
      "          'Any questions or concerns, feel free to email me or stop by my user '\n",
      "          'talk page. Also, feel free to share this any other female '\n",
      "          'Wikimedians you may know. It is in English, but any language '\n",
      "          'Wikimedia participants are encouraged to participate.\\n'\n",
      "          'I appreciate your contributions - to the survey and to Wikipedia! '\n",
      "          'Thank you!'}]\n",
      "Concept: gender\n",
      "[{'reason': ['he'],\n",
      "  'text': '\"\\n'\n",
      "          '\\n'\n",
      "          ' Proposed revision of the controversy section \\n'\n",
      "          '\\n'\n",
      "          \"Though controversy shouldn't consume the bulk of the article, I \"\n",
      "          'think the revised section is somewhat awkwardly written and '\n",
      "          'neglects the substance of the criticisms. It can be rewritten for '\n",
      "          'greater clarity, and to include the quotes that have actually '\n",
      "          'generated the controversy. It is just false to say conservative '\n",
      "          'bloggers are basing their criticisms on \"\"a single line from his '\n",
      "          'book\"\"but if it were true, shouldn\\'t that line be quoted too? The '\n",
      "          'section can be kept short, while not excluding the content of '\n",
      "          'criticisms. I propose the following text.\\n'\n",
      "          '\\n'\n",
      "          'Lloyd has been targeted by conservative commentators such as Glenn '\n",
      "          'Beck, with the aim of forcing him to resign, as happened with '\n",
      "          'former White House adviser Van Jones.\\n'\n",
      "          '\\n'\n",
      "          \"Beck broadcast a video of Lloyd's comments at a 2008 conference on \"\n",
      "          'media reform, in which he described the rise of Venezuelan '\n",
      "          'President Hugo Chavez as \"\"really an incredible revolution.\"\" '\n",
      "          'Conservatives view this as an expression of support for Chavez, '\n",
      "          'though Lloyd has stated that he does not support him. Conservative '\n",
      "          \"bloggers have also attacked Lloyd's commitment to free speech, \"\n",
      "          'based largely on quotes from his book Prologue to a Farce: '\n",
      "          'Communication and Democracy in America, in which he writes that the '\n",
      "          'First Amendment should be placed \"\"in context with other '\n",
      "          'communications policies,\"\" and on his 2007 article Forget The '\n",
      "          'Fairness Doctrine, discussing \"\"clear proposals...to address the '\n",
      "          'gap between conservative and progressive talk.\"\" Over 50 '\n",
      "          'non-partisan public interest groups have defended Lloyd, calling '\n",
      "          'conservative claims \"\"false and misleading.\"\"\\n'\n",
      "          '\\n'\n",
      "          'This is only about 30 words longer than the present version, but I '\n",
      "          'believe it does much more to inform readers about the controversy. '\n",
      "          'Since the controversy section of this article is so controversial, '\n",
      "          \"however, I'll leave my rewrite here for a day or two before \"\n",
      "          \"implementing it. It's always easier to see bias against your own \"\n",
      "          'point of view, so I hope some liberals can improve on my text! But '\n",
      "          'the current version is just not accurate or '\n",
      "          'informative.173.21.159.52  \"'},\n",
      " {'reason': ['he'],\n",
      "  'text': '\"\\n'\n",
      "          'Just removed the \"\"too long article\"\" template posted by RJFF for '\n",
      "          'the second time. See my previous reply above for argumentation. To '\n",
      "          'move the debate further ahead, I still invite RJFF to use the '\n",
      "          '{{Very long|section|date=October 2013}} tag-template for each '\n",
      "          'section he considers to be too long, rather than tagging the entire '\n",
      "          'article as a whole.   \"'},\n",
      " {'reason': ['his'],\n",
      "  'text': 'Bornfeld \\n'\n",
      "          '\\n'\n",
      "          'Mr. Bornfeld is a teacher of AP Eurpean History at Aliso Niguel '\n",
      "          'High School.  Some students find it humorous to put his name in '\n",
      "          'articles that they have to research, please watch out for his name '\n",
      "          'to keep popping up'},\n",
      " {'reason': ['he'],\n",
      "  'text': \"He wouldn't have to if he weren't so goddamn crazy! 66.68.86.111\"},\n",
      " {'reason': ['his'],\n",
      "  'text': 'Thanks. Replied on his talk page - and his Spanish article is up on '\n",
      "          'eswiki.'},\n",
      " {'reason': ['boy'],\n",
      "  'text': 'JLaTondre is a gay boy who likes to suck dick \\n'\n",
      "          '\\n'\n",
      "          'JLaTondre edits pages like flys on poop.\\n'\n",
      "          '\\n'\n",
      "          'If I created a wikipage about my family I am sure JLaTondre would '\n",
      "          'delete it.\\n'\n",
      "          '\\n'\n",
      "          'I created a historical database. Wealth about my family name and to '\n",
      "          'test it out on wikipedia.\\n'\n",
      "          '\\n'\n",
      "          'I am sure JLaTondre would love to delete it.\\n'\n",
      "          '\\n'\n",
      "          'JLaTondre already deleted a page dedicated to a NOW DEAD and '\n",
      "          'EXPIRED company I used to work for.\\n'\n",
      "          '\\n'\n",
      "          'JLaTondre!!!\\n'\n",
      "          '\\n'\n",
      "          'You know nothing about my family or my company!\\n'\n",
      "          '\\n'\n",
      "          'What are you?  12 years old?'},\n",
      " {'reason': ['his'],\n",
      "  'text': 'Nevermind.  I found it.... '\n",
      "          'http://www.newyorker.com/reporting/2010/01/04/100104fa_fact_paumgarten\\n'\n",
      "          'in which it has the quote followed by a comment about his '\n",
      "          'foot-in-mouth antics.'},\n",
      " {'reason': ['he'],\n",
      "  'text': 'I am being punished because an editor, One Night In Hackney, edits '\n",
      "          'my edits and then, when questioned, refuses to answer my '\n",
      "          'questions.  Instead, he asks questions, I respond, yet he ignore my '\n",
      "          'questions.  This is unfair.'},\n",
      " {'reason': ['man'],\n",
      "  'text': 'I think it means: Me Turk man, me vill rape bad woomen, me vill '\n",
      "          'teach dem a lesson, me vill cover der faces in gauze. me vill beat '\n",
      "          'dose harlots up! S'},\n",
      " {'reason': ['her'],\n",
      "  'text': '\"\\n'\n",
      "          '\\n'\n",
      "          ' Was \"\"Beautiful\"\" really pitched to Pink? \\n'\n",
      "          '\\n'\n",
      "          'I have a problem with the caption below Pink\\'s photo \"\"Originally, '\n",
      "          'the song was initially pitched to Pink\"\"; from what I\\'ve heard on '\n",
      "          'TV specials, interviews, and such, of Linda and Pink... the song '\n",
      "          'was never pitched to Pink, she heard it before simply because she '\n",
      "          'was working with Linda, but Linda never meant for Pink to get the '\n",
      "          'song. In fact, Linda wanted to record the song herself, and changed '\n",
      "          'her mind only after hearing Christina sing it in the \"\"Stripped\"\" '\n",
      "          'sessions, which was, if I\\'m correct, moths after \"\"Misunderstood\"\" '\n",
      "          'was finished.\\n'\n",
      "          '\\n'\n",
      "          '  \"'},\n",
      " {'reason': ['her'],\n",
      "  'text': 'I never said she ought to be in the category “opposed to fan '\n",
      "          'fiction”; I just said that I thought it might be notable that she '\n",
      "          'was, at one point, opposed to it—or other people around her were '\n",
      "          'opposed to it—to the point that she took legal action against fans. '\n",
      "          '—'},\n",
      " {'reason': ['he'],\n",
      "  'text': 'Did rdSmith4 ever answer you about his evidence for my sockpuppets '\n",
      "          'since he provided no proof  & will not answer my requests? \\n'\n",
      "          '\\n'\n",
      "          'Did he ever answer your request? I am thinking of filing an '\n",
      "          'Arbitration request against him, since he will not acknowledge my '\n",
      "          \"requests. I don't think I will be around here much longer anyway, \"\n",
      "          'so I may as well go for broke.  Sincerely,'},\n",
      " {'reason': ['christian', 'he'],\n",
      "  'text': \"You're asking for original research. (not allowed in Wiki) Wiki \"\n",
      "          'reports the consensus of scholars which is that he was a deist and '\n",
      "          'not a Christian. that is a verifiable fact and is reported. Maybe '\n",
      "          'he was a really secret Buddhisthow could anyone disprove that? '\n",
      "          'Should Wiki mention that possibility? Try this: name a few '\n",
      "          'prominent Christian leaders who say he was a genuine Christian.   '\n",
      "          'TJ wrote that he rejected Jesus as God or saviour; he rejected '\n",
      "          'miracles; he rejected the gospels as authentic. he thought Jesus '\n",
      "          'had some good ethical ideas.'},\n",
      " {'reason': ['he'],\n",
      "  'text': 'Cesc Fabregas \\n'\n",
      "          '\\n'\n",
      "          \"I see it's been changed that he now plays for Chelsea. Looks like I \"\n",
      "          'was right all along? how do you like that you little bitch? I was '\n",
      "          'right and you were wrong.'},\n",
      " {'reason': ['jews', 'his'],\n",
      "  'text': 'NOP \\n'\n",
      "          '\\n'\n",
      "          \"MORDOR'S Jewish beliefs make his version of the article neutral ? I \"\n",
      "          \"don't think so, but I'm ready for compromise as on the discussion \"\n",
      "          'page. I made article neutral, without POV sentences and non '\n",
      "          \"referenced statements + Mordor's criticism about the party. I think \"\n",
      "          'that ban was not needed to solve this problem. I would like to '\n",
      "          \"remind you of Mordor's actions and that his beliefes influence \"\n",
      "          \"Wikipedia's articles from up to down. I don't have anything against \"\n",
      "          'Jews (my uncle is a practicising Jew) but I think that Mordor have '\n",
      "          'to stop spreading only his point of view on Polsih related '\n",
      "          'articles. Please, look at article about NOP now \\n'\n",
      "          '\\n'\n",
      "          'National Revival of Poland, version -  04:04, may 4 2008.\\n'\n",
      "          '\\n'\n",
      "          \"I agree with Mordor's Criticism (which is higlhy positive to keep \"\n",
      "          \"criticism on anything in Wikipedia's articles because nothing is \"\n",
      "          'perfect, but criticism with head and NPOV policy).'},\n",
      " {'reason': ['turkish', 'his'],\n",
      "  'text': '\"\\n'\n",
      "          ' You are pushing for POV, as always. It is YOU who is using '\n",
      "          \"Sikandarji's name ... in fact, you are absuing his name for your \"\n",
      "          'nonsense. He has contradicted and rejected your nonsense many times '\n",
      "          '- just check the Talk:Hephthalite page. And he has rejected your '\n",
      "          'nonsense about \"\"Mughals being Turks\"\" (check Talk:Timurids). You '\n",
      "          'are DEFFINITLY pushing for a Turkish nationalist POV, and your '\n",
      "          'recent edits are a clear proof for that ... and the fact, that you '\n",
      "          'have actively removed scholarly sources - including 2 articles of '\n",
      "          'the Encyclopaedia Iranica - in favour of your own nationalist '\n",
      "          'nonsense underlines your evil plans in Wikipedia. \\n'\n",
      "          ' You have once again violated the 3RR, and you have once again '\n",
      "          'created a parallel-article to an already existing article, '\n",
      "          'containing your own pseudo-scientific nonsense. I have reported you '\n",
      "          'to admins ... But I guess you know that already, since you are '\n",
      "          'stalking.  \"'},\n",
      " {'reason': ['he', 'guy'],\n",
      "  'text': 'If this is the guy who I met at University, he goes by the name '\n",
      "          'Cameron St. John.  His father is a professor in Manotoba.\\n'\n",
      "          '\\n'\n",
      "          'He was the President of the Campus Social Credit Association, and '\n",
      "          'had a job off campus at Your Family Food Mart, restocking '\n",
      "          'shelves.24.84.233.33'},\n",
      " {'reason': ['mother'],\n",
      "  'text': 'Post Tupac Death work with the mother of Christopher Wallace. \\n'\n",
      "          '\\n'\n",
      "          'Someone more informed on the subject than I should add something to '\n",
      "          'this article about her work and appearances with the mother of the '\n",
      "          \"Notorious B.I.G. at the various award shows and what not.  If i'm \"\n",
      "          'not mistaken the two have gotten together several times to disuade '\n",
      "          'more acts of violence.  I think it would be a good addition to the '\n",
      "          \"article, unfortunately, i'm in no position to write it.\"},\n",
      " {'reason': ['his'],\n",
      "  'text': '\"\\n'\n",
      "          '\\n'\n",
      "          ' Why has this been completely removed? The debate seems to be about '\n",
      "          'whether or not to use the word \"\"scam\"\", rather than whether or not '\n",
      "          \"to include any mention of his latest business venture. I can't see \"\n",
      "          'how this should go completely unmentioned.   \"'},\n",
      " {'reason': ['his', 'man'],\n",
      "  'text': '\"\\n'\n",
      "          '\\n'\n",
      "          ' Edmund, Wisconsin \\n'\n",
      "          '\\n'\n",
      "          \"hi! i've just seen the history edit, and your revert \"\n",
      "          '(\"\"sources\"\"). please be mild with the user who wrote the history '\n",
      "          'text. i know him, he was raised in that town (and in Cobb, '\n",
      "          'Wisconsin; similar revert) and is 87 years old now. i advised him '\n",
      "          'to slowly approach wikipedia as an active contributor, and these '\n",
      "          'were his first two large edits, and the third and fourth in total. '\n",
      "          \"i think he'll register soon, and once he's done it, pls welcome \"\n",
      "          'him. he\\'s a wise man. thanks,    (germany)\"'},\n",
      " {'reason': ['guy'],\n",
      "  'text': 'Carlo Forlivesi \\n'\n",
      "          '\\n'\n",
      "          'You mention Google News? A search on the guy returns a measly 8 '\n",
      "          'results from the archives.\\n'\n",
      "          '\\n'\n",
      "          'Say what you will, the page is OBVIOUS and shameless self-promotion '\n",
      "          'by a complete nobody.\\n'\n",
      "          '\\n'\n",
      "          'Not that I expect Wikipedia to ever become anything serious or '\n",
      "          \"reliable (it's mostly a pile of bullshit anyway) but at least this \"\n",
      "          \"kind of crap used to be removed. If that's no longer the case, \"\n",
      "          'well, that just gives even more weight to the point I make on my '\n",
      "          'user page.'},\n",
      " {'reason': ['his', 'he'],\n",
      "  'text': '\"I think the \"\"split image\"\" of Richard Desmond arises from the '\n",
      "          'fact that he made his money in pornography (not mainstream '\n",
      "          'publications), and then once having made his money, he used those '\n",
      "          'profits from pornography to try to buy his way into mainstream '\n",
      "          'publishing.  I think that can be stated as fact.  Now as to whether '\n",
      "          'he did the latter in an attempt to improve his soiled image . . . . '\n",
      "          \"well, that's up the reader to form an opinion.\\n\"\n",
      "          '\\n'\n",
      "          '\"'},\n",
      " {'reason': ['man'],\n",
      "  'text': '\"\\n'\n",
      "          '\\n'\n",
      "          ' SmallJob \\n'\n",
      "          '\\n'\n",
      "          'Leave those naked Hollywood starlets alone!! \\n'\n",
      "          '\\n'\n",
      "          'You have a Wiki page to exert your dominion over instead, \"\"man\"\" '\n",
      "          '!!\"'},\n",
      " {'reason': ['mother'],\n",
      "  'text': '\"  \\n'\n",
      "          '\\n'\n",
      "          'Krishnendu das aka Babukishan comes from an old and very '\n",
      "          'traditional Baul folklore family. His grandfather, Guru Shri Nabani '\n",
      "          'Das Baul, was a much celebrated singer and poet that was '\n",
      "          'instrumental in bringing the Baul culture to fame with the '\n",
      "          'respected and admired status it enjoys today. Nabani Das Baul often '\n",
      "          \"collaborated with the writer of India's National Anthem, a great \"\n",
      "          'poet, and winner of the Nobel Prize for Literature in 1913, '\n",
      "          'Rabindranath Tagore. In popularizing the music of the Baul. \\n'\n",
      "          '\\n'\n",
      "          'Nabani Das Baul opened the doors for his people to the world. In '\n",
      "          \"keeping with this tradition. Babukishan's father, Samrat Purna Das \"\n",
      "          'Baul, a modern, popular legend among the Bauls, opened up the doors '\n",
      "          'even further by collaborating and jamming in live performances with '\n",
      "          'the top Western and European acts of the 20th century. Babu is a '\n",
      "          'music designer, singer, and author renowned in India for his work '\n",
      "          'in both the recording and film industries. He plays a variety of '\n",
      "          'music combining new age, and world fusion, with traditional folk '\n",
      "          'music in authentic Bengali Baul style\\n'\n",
      "          'Babukishan began his career as a performer by accompanying and '\n",
      "          'studying the arts with his father, Purna das Baul. He also '\n",
      "          'participated in numerous youth folk festivals, traveling to places '\n",
      "          'such as Taiwan, Hong Kong, Singapore, Bangkok, Great Britain, all '\n",
      "          'of Europe, the United States, and Canada. He played with both the '\n",
      "          'Asian Performing Arts Festival at the Royal Albert Hall in London '\n",
      "          'and the Worldwide Youth Festival in Carnegie Hall in New York.\\n'\n",
      "          '\\n'\n",
      "          'From this beginning, he traveled most of the world from 1980 to '\n",
      "          '2000 as a composer, music instructor,musician. and singer.\\n'\n",
      "          '\\n'\n",
      "          'Babukishan, deeply inspired by his Father and Grandfather, knew at '\n",
      "          'an early age he too wished to compose and perform. He began on the '\n",
      "          'soil of Bengal but clearly he was destined to belong to the world '\n",
      "          'of music. His journey started in early childhood when he joined his '\n",
      "          'mother, Manju Das, and his father, Puma Das, playing and singing '\n",
      "          'Baul music in global festivals. Despite the many world tours, Babu '\n",
      "          'also found the time to study Indian philosophy and Folk music at '\n",
      "          'the University of Kolkata where he eventually secured both his BA '\n",
      "          'and Masters degrees. \\n'\n",
      "          '\\n'\n",
      "          'So it was that his formal professional career in music began with '\n",
      "          \"his family. He toured with Bob Dylan's The Band East & West tour in \"\n",
      "          '1985. In addition, Babukishan has performed with other '\n",
      "          'international artists such as Alice Cooper, Rolling Stones,Tom '\n",
      "          'Petty, Miles Davis, Allan Fakir, George Harrison, Herbie Mann, '\n",
      "          'Third World, Robbie Robertson, Garth Hudson and many others. \\n'\n",
      "          '\\n'\n",
      "          'Though the subsequent years, Babu put this solid foundation in '\n",
      "          'music to good use by composing and performing in all areas of '\n",
      "          \"India's entertainment industry as well as in a variety of venues \"\n",
      "          'worldwide. Then, in keeping with his early dreams of a unique style '\n",
      "          'of his own, he turned to the music of the western world that he had '\n",
      "          'become so familiar with in his early years of performance. His use '\n",
      "          'of Baul & Indian rhythms combined with the Reggae produced his own '\n",
      "          \"brand of World Music-Babu's New Age, Bengali Folk Fusion is the \"\n",
      "          'result. \\n'\n",
      "          '\\n'\n",
      "          'Babukishan has also worked with top Indian musicians/singers and '\n",
      "          'music directors such as R.D.Burman, Ravi Shankar, Sultan Khan and '\n",
      "          'Zakir Hussain. \\n'\n",
      "          '\\n'\n",
      "          'As a composer, Babukishan has written the music for several albums, '\n",
      "          'TV serials and films, earning a good reputation as one of the most '\n",
      "          'promising composer in the Bollywood (Indian cinema) music & film '\n",
      "          'industry of India. In his recordings, Babukishan features folk '\n",
      "          'music, romantic songs, pop songs, ghazals, Qawwali music, new age, '\n",
      "          'fusion, Sufi music and bhajans (devotional/spiritual songs). He is '\n",
      "          'the first singer and music composer from the rich Baul family '\n",
      "          'tradition to venture into fusion music by combining Baul/Sufi music '\n",
      "          'with western music and reggae music. Babukishan produced and '\n",
      "          'directed two documentary films about folk music and he wrote a book '\n",
      "          \"titled The Bauls of Bengal. One of Babukishan's latest projects is \"\n",
      "          'the band \"\"Birds\"\", which he founded. It combines new age, world '\n",
      "          'music/traditional folk and fusion music. His album Soulmate\"\" '\n",
      "          '(Universal/Music India) creates a unique new generation music '\n",
      "          'worldwide.and his latest album, Birds & soul mind & body are based '\n",
      "          'on Baul/Sufi music.\"\"GYPSYINDIA\"\" is authentic traditional baul & '\n",
      "          'sufi music written/composed and all the instruments played by '\n",
      "          'him.this album recored at woodstock,newyork during his tour on '\n",
      "          '2004.\\n'\n",
      "          '\\n'\n",
      "          ' \\n'\n",
      "          '\\n'\n",
      "          'http://babukishan.com\\n'\n",
      "          'http://cdbaby.com/cd/babukishan\\n'\n",
      "          'http://community.webshots.com/user/babukishan\"'},\n",
      " {'reason': ['girls'],\n",
      "  'text': '\"\\n'\n",
      "          '\\n'\n",
      "          'Question\\n'\n",
      "          'Miss lilygirl, why r u still deleting \"\"Walk this Way\"\" in Girls '\n",
      "          'Aloud discography? u need source? go to the forum of this site '\n",
      "          'www.girlsaloudworld.com it\\'s official. \"'},\n",
      " {'reason': ['he'],\n",
      "  'text': 'A new user put a comment about another article and another editor '\n",
      "          'having quasi-neocon views. That comments had nothing to do with '\n",
      "          \"you- he just didn't format it or sign it, sorry for the confusion. \"\n",
      "          'Your explanation of why you inserted intentionally incorrect '\n",
      "          'information with the expectation that someone would fix it is '\n",
      "          'astonishing. That is barely distinguishable from vandalism. -'},\n",
      " {'reason': ['he'],\n",
      "  'text': '\"\\n'\n",
      "          '\\n'\n",
      "          ' Buredoran \\n'\n",
      "          '\\n'\n",
      "          'Ther is absolutely no reason to have an entire article just on '\n",
      "          'Buredoran. First of all he is not the main antagonist. He is just a '\n",
      "          'recurring antagonist. And second, there have never been individual '\n",
      "          \"articles on any Super Sentai (or Kamen Rider) antagonist. It's not \"\n",
      "          'a good time to start, particularly when articles on fiction and '\n",
      "          'fictional characters are under such scrutiny.— (竜龙) \"'},\n",
      " {'reason': ['mom'],\n",
      "  'text': 'Hey you cunt armchair lawyer\\n'\n",
      "          \"Do you like it? Sitting in your mom's basement trying to act like \"\n",
      "          'you are know it all?\\n'\n",
      "          '\\n'\n",
      "          'Go fuck yourself you stupid cunt bag.'},\n",
      " {'reason': ['she'],\n",
      "  'text': 'Here are the sources '\n",
      "          'http://www.jpost.com/servlet/Satellite?cid=1132475697364&pagename;=JPost%2FJPArticle%2FShowFull '\n",
      "          'and http://www.israelnn.com/news.php3?id=94362 but those are both '\n",
      "          \"just saying she was going to. I can't find anything that says she \"\n",
      "          'has. I was wondering if anyone else knew.'},\n",
      " {'reason': ['he'],\n",
      "  'text': 'First sighting \\n'\n",
      "          '\\n'\n",
      "          \"I don't know anything about the first sighting of the Angel Falls, \"\n",
      "          'who what when or where. However, it looks like the first sighting '\n",
      "          'has been attributed to a westerner, an assertion that seems '\n",
      "          'impossible. Would it be more correct to say that the first '\n",
      "          \"'Westerner' sighting of the falls was Mr. Sanchez, not that he was \"\n",
      "          \"the first to see it? It's like saying Columbus discovered the New \"\n",
      "          'World.'},\n",
      " {'reason': ['brothers'], 'text': '|listas = Montgolfier Brothers, The'},\n",
      " {'reason': ['jews', 'his'],\n",
      "  'text': '\"\\n'\n",
      "          '\\n'\n",
      "          'OKAY, I have now tried to just delete the offensive sentences in '\n",
      "          \"the beginning about Mr. Irving being a socalled 'holocaust denier'. \"\n",
      "          'He says himself he is not, and acknowledges that many jews were '\n",
      "          'killed during the war, however he does not go along with the 6 '\n",
      "          'million jews killed-figure, as he reckons the number to be lower. '\n",
      "          'And it really comes down to that: \"\" David has the right to '\n",
      "          'question anything relating to history and WW2 is his speciality, '\n",
      "          'and he actually makes a living of questioning and critically '\n",
      "          'examining sources.\\n'\n",
      "          '\\n'\n",
      "          'I also decided to delete the account about him loosing a court case '\n",
      "          'in 2000. David have launched several libel cases before - in 1996 '\n",
      "          'he won 45000 £ libel-damage against an English Sunday Newspaper. '\n",
      "          'The fact that he this time lost is not something that should figure '\n",
      "          'at the head of his CV. Many people also find it extraordinary that '\n",
      "          'a judge can deside what a person IS or is not, and what beliefs he '\n",
      "          'holds.\"'},\n",
      " {'reason': ['his'],\n",
      "  'text': 'PL is a liar. Simple. He can never leave. He has too much invested '\n",
      "          'in his lies about Nostradamus.'},\n",
      " {'reason': ['he', 'son'],\n",
      "  'text': '\"Y didnt he just say \"\"You smug son of a gun!\"\" and not cut it?\"'},\n",
      " {'reason': ['guy'],\n",
      "  'text': 'There was a guy, a white supremist arrested a few years back, who '\n",
      "          'confessed to the killing of two black kids using a hunting rifle '\n",
      "          \"back in the mid 80's.\\n\"\n",
      "          '\\n'\n",
      "          'He confessed to his cellmate while in jail for something else.\\n'\n",
      "          '\\n'\n",
      "          'I really wish I remembered who he was, especially since it was so '\n",
      "          'big.\\n'\n",
      "          '\\n'\n",
      "          'Also, I think it would be helpful to add that information to give '\n",
      "          'my old neighborhood a bit more personality.\\n'\n",
      "          '- 16:58, 4 Aug 2004 (UTC)'},\n",
      " {'reason': ['brother', 'male'],\n",
      "  'text': '\"Because so many Turkish-people today claim to be a descendant of '\n",
      "          'Oghuz Khan, male members of the Amucalar, descendants of Gündüz '\n",
      "          'Gazi, the older brother of \"\"Osman I, tested their Y-DNA. Genetic '\n",
      "          'history of the Turkish people, shows that the common ancestor '\n",
      "          '\"\"Ertuğrul\"\", belonged to haplogroup: R1a=6.9% - Typical of Central '\n",
      "          'Asian, Caucasus, Eastern Europeans and Indo-Aryan people.\\n'\n",
      "          '\\n'\n",
      "          'http://www.ysearch.org/search_view.asp?uid=XWBWW&viewuid;=FTEMF&p;=1\\n'\n",
      "          '\\n'\n",
      "          '  \"'},\n",
      " {'reason': ['his'],\n",
      "  'text': 'Agreed.  In addition, Mr. Inglis seems intent on keeping links to '\n",
      "          \"his original resarch on the subject in the EL section.  I don't \"\n",
      "          'believe it belongs there. The Dissident Aggressor'},\n",
      " {'reason': ['her', 'she'],\n",
      "  'text': \"You should've mentioned this on her talk page, because she \"\n",
      "          \"obviously doesn't get it.\"},\n",
      " {'reason': ['his'], 'text': 'Only a fool turns his back on history.'},\n",
      " {'reason': ['he'],\n",
      "  'text': 'Okay, well then if I put in the year he promoted from Oak will that '\n",
      "          'be a reliable fact ?'},\n",
      " {'reason': ['palestine', 'his', 'he'],\n",
      "  'text': 'OMG. I searched in Orens book using Amazon. It seems that he is '\n",
      "          'actually making the claim that 300,000 Arabs immigrated to '\n",
      "          'Palestine. Unbelievable. GHcool, could you check what source Oren '\n",
      "          'is using for his claim? Is it Peters or Gottheil?'},\n",
      " {'reason': ['wife', 'she'],\n",
      "  'text': '\"\\n'\n",
      "          'Was your wife watching with you? Did she ask you if you thought '\n",
      "          'Wikipedia might be a tree favored by another fungus? .Wolfowitz \"'},\n",
      " {'reason': ['his'],\n",
      "  'text': '\"\\n'\n",
      "          '\\n'\n",
      "          'No, ive never been lucky enough to go to one of his concerts, it '\n",
      "          'might be a case of carry on looking on flickr until we find one '\n",
      "          'thats good and doesnt a press attachment. Im not really familiar '\n",
      "          'with copy right rules their quite complicated, a possibility would '\n",
      "          'be a music video still, or a concert that was in the public domain '\n",
      "          \"such as his superbowl performance in 1993.  ('Come Speak To Me') \"\n",
      "          '\"'},\n",
      " {'reason': ['female', 'male'],\n",
      "  'text': '\"\\n'\n",
      "          '\\n'\n",
      "          ' Animated Meaning of Vergina Sun \\n'\n",
      "          '\\n'\n",
      "          'Hey all, I found a beautiful .gif that shows the analysis of the 16 '\n",
      "          'lines of the Vergina Sun\\n'\n",
      "          'the 4 Elements -Fire, Air, Water, Earth and the 12 Greek Gods '\n",
      "          '(Olympians)-Zeus, Hera, Poseidon, Demeter, Ares, Hermes, '\n",
      "          'Hephaestus, Aphrodite, Athena, Apollo, Artemis, Hestia and their '\n",
      "          'classification-male/female/celestial/water etc.\\n'\n",
      "          '\\n'\n",
      "          'what do you think? I think it would be appropriate to be included '\n",
      "          'in the \"\"Interpretations of the symbol\"\" section, as the '\n",
      "          'explanation about the Twelve Greek Gods connection to the Vergina '\n",
      "          'Sun is poor non-existent.  \"'},\n",
      " {'reason': ['man'],\n",
      "  'text': '\"\\n'\n",
      "          '\\n'\n",
      "          ' Explanation of latest changes \\n'\n",
      "          '\\n'\n",
      "          'I found in the \\n'\n",
      "          '\\n'\n",
      "          'The Bridge on the Drina by Ivo Andric, Univeristy of Chicago Press '\n",
      "          '1977\\n'\n",
      "          '\\n'\n",
      "          \"Translator's foreword by Lovett F. Edwards, page 7: Dr Ivo Andric \"\n",
      "          'is himself a Serb and a Bosnian\\n'\n",
      "          '\\n'\n",
      "          'Introduction by William H. McNeil, page 3:They went to live with '\n",
      "          'her parents in Visegrad on the banks of the Drina, where young Ivo '\n",
      "          'grew up in an artisan family (his grandfather was a carpenter) '\n",
      "          'playing on the bridge he was later to make so famous, ..., The '\n",
      "          'family was Orthodox Christian, i.e. Serb;\\n'\n",
      "          '\\n'\n",
      "          'and in the\\n'\n",
      "          '\\n'\n",
      "          'The Nobel Prize in Literature 1961 Presentation Speech by Anders '\n",
      "          'Österling, Permanent Secretary of the Swedish Academy - As a young '\n",
      "          'Serbian student, he joined the national revolutionary movement, '\n",
      "          'suffered persecution, and was imprisoned in 1914 when the war broke '\n",
      "          'out. \\n'\n",
      "          '\\n'\n",
      "          'which shall have place in his biography for knowing that the book '\n",
      "          'translator Edwards and the world-renown historian McNeil were close '\n",
      "          \"Ivo's friends. Both biographical notes were written in the first \"\n",
      "          \"edition of this Ivo's book in 1959 and the biographical data are \"\n",
      "          'coming from the very Ivo.\\n'\n",
      "          '\\n'\n",
      "          \"Anders Österling's Presentation Speech during the official ceremony \"\n",
      "          \"1961 in Sweden and in the Andric's presence - gives the undeniable \"\n",
      "          'credibility to biographical data heard in this speech. - \\n'\n",
      "          '\\n'\n",
      "          'As to the Clasification paragraph - it has nothing to do with '\n",
      "          'biography - just a slander and disrespect of this great writer. My '\n",
      "          'proposal - delete it completely. \\n'\n",
      "          '\\n'\n",
      "          'From the above discussion - is visible that Andric rejected idea to '\n",
      "          'be seen as of Croatian lineage\\n'\n",
      "          '\\n'\n",
      "          'When Krleza attempted to allign Ivo with Croats - Ivo responded '\n",
      "          'this way\\n'\n",
      "          '\\n'\n",
      "          ' Enes Cengic; \"\"Krleza post mortem\"\",  I-III. Svjetlost, Sarajevo, '\n",
      "          '1990. 2. part, pages 171-172\\n'\n",
      "          '\\n'\n",
      "          ' \"\" Medjutim, s tekstom o Andricu za staru Enciklopediju stvari su '\n",
      "          'tekle ovako:\\n'\n",
      "          ' Tekst je napisao Milan Bogdanovic i poslao ga meni na imprimatur, '\n",
      "          'kao biva, da li ga primam  ili ne.\\n'\n",
      "          ' Kao ni mnoge druge tekstove,  vjerovali vi sad meni ili ne ... ja '\n",
      "          'tekst o Andricu nisam citao. \\n'\n",
      "          ' Mislio sam: Neka pise sto hoce, tako cemo to i objaviti. Ionako  '\n",
      "          'je bilo iznad moje moci da tu ista \\n'\n",
      "          ' diram i ispravljam. Mjesec ili ne znam koliko nakon sto mi je '\n",
      "          'poslao tekst, primim od Milana pismo \\n'\n",
      "          ' u kojem mi kaze da je kopiju teksta dao Ivi Andricu na uvid te da '\n",
      "          'on moli da budem ljubazan i da u \\n'\n",
      "          ' tekstu nesto izmijenim, a to je:\\n'\n",
      "          '\\n'\n",
      "          ' Ivo Andric, rodjen u Travniku 10.10.1892. godine, hrvatskog '\n",
      "          'porijekla, zavrsio skole itd.... Moli \\n'\n",
      "          ' me da brisem da je hrvatskog porijekla. Na to odgovaram '\n",
      "          'Bogdanovicu (oprostite sto citiram):\\n'\n",
      "          '     \\n'\n",
      "          ' Dragi moj Milane,\\n'\n",
      "          '\\n'\n",
      "          ' Pozdravi Ivu Andrica u moje ime, veoma srdacno,i poruci mu, ako '\n",
      "          'mozes, da mu ja jebem hrvatsku\\n'\n",
      "          ' majku, brisat cu da je hrvatskog  porijekla.\"\" \\n'\n",
      "          '\\n'\n",
      "          \"Shortly, Milan Bogdanovic wrote a text of Andric's biography, \"\n",
      "          'presented a copy of this text to Andric. Andric asked Bogdanovic to '\n",
      "          'remove the note saying that he (Ivo) was a man of Croatian '\n",
      "          'lineage.\\n'\n",
      "          '\\n'\n",
      "          '71.252.83.33  \"'},\n",
      " {'reason': ['he'], 'text': 'He was born in Geelong.'},\n",
      " {'reason': ['women', 'men'],\n",
      "  'text': 'Here is proof of notability \\n'\n",
      "          'Calton has aimed his delete gun at this entry, so here is '\n",
      "          'notability proof to stop him:\\n'\n",
      "          '\\n'\n",
      "          'USA Today (you know..that BIG newspaper) story: \\n'\n",
      "          '\\n'\n",
      "          'Wow look here, the USO (you know..that BIG Government organization) '\n",
      "          'sent Mallory Lewis and Lambchop to WELCOME HOME THE TROOPS: \\n'\n",
      "          '\\n'\n",
      "          'Lookey here the US AIRFORCE (you know, those men and women who '\n",
      "          'protect the USA) had Ms. Lewis and Lambchop visit Kadena airforce '\n",
      "          \"base...wow...if the US Airforce sends you somewhere that doesn't \"\n",
      "          \"make you notable? Maybe in someone's sick anti-american mind. \\n\"\n",
      "          '\\n'\n",
      "          'But enough from me....'},\n",
      " {'reason': ['he'],\n",
      "  'text': \"Calm down dear, you're off topic. Where's that Admin gone scurrying \"\n",
      "          \"off to now? I notice he's neatly changed the subject and inflamed \"\n",
      "          \"the situation so that now poor ModWilson's had to get involved.\\n\"\n",
      "          '\\n'\n",
      "          \"That's a really good way to settle disputes, isn't it? Kudos to \"\n",
      "          'you, Bwilkins.'},\n",
      " {'reason': ['he'],\n",
      "  'text': 'How about mentioning that he has a 2-year contract, but whether '\n",
      "          \"he'll play the 2nd year is disputed? That might work alright.\"},\n",
      " {'reason': ['he'],\n",
      "  'text': 'Do you have something against WWII generals?  '\n",
      "          'http://en.wikipedia.org/wiki/Nathan_Bedford_Forrest_III  He died in '\n",
      "          'WWII fighting for our country'},\n",
      " {'reason': ['he'],\n",
      "  'text': 'Whatever.  Go ahead and block me if the situation calls for it.  '\n",
      "          \"Apparently, he was concerned that I wouldn't get punished for \"\n",
      "          'anything.   (Elkspeak)'},\n",
      " {'reason': ['man'],\n",
      "  'text': 'Good day man of God my name is Joshua married to Diana we really '\n",
      "          'need your help please.\\n'\n",
      "          'happy new may God be with you.\\n'\n",
      "          'Regards Mr & Mrs phiri.'},\n",
      " {'reason': ['german', 'he'],\n",
      "  'text': 'We already won, in 1945. The truth is one, and there are to many '\n",
      "          'people that know it, so DLX could not change it. By the way, about '\n",
      "          'the Sandstein or whatever who blocked us, i knew that would happen. '\n",
      "          \"He's a German, so i expected it. He didn't say anything to DLX \"\n",
      "          'about what he does. M.V.E.i.'},\n",
      " {'reason': ['women', 'men'],\n",
      "  'text': '\"\\n'\n",
      "          'It occurs to me that you might react badly to a suggestion to join '\n",
      "          'NAMBLA because in their case, it is men who are having sex with 12 '\n",
      "          \"year old boys.  I didn't consider that you could have totally \"\n",
      "          'different standards for adult men and women  for that I apologize.  '\n",
      "          'I will remove \"\"NAMBLA\"\" from my sentence above.    \"'},\n",
      " {'reason': ['he'],\n",
      "  'text': 'Wikipedia:Requests_for_arbitration/ArmchairVexillologistDon#Final_decision \\n'\n",
      "          'I wish to let you know that the user that is the subject to this '\n",
      "          'RFAr has returned. He came back August 6 .  (Sound Off)'},\n",
      " {'reason': ['mother'],\n",
      "  'text': 'How dare you send me such abuse you fucking cockmaster!\\n'\n",
      "          'If you dare warn me again, Mr Jeff. I will savagely attack your '\n",
      "          'mother!\\n'\n",
      "          '\\n'\n",
      "          'I know where you live'},\n",
      " {'reason': ['his', 'guy'],\n",
      "  'text': \"I disagree. I've met Bob Feller and was a great guy. He didn't \"\n",
      "          'charge anyone for his autograph and enjoyed talking baseball with '\n",
      "          \"everyone at the park. I think he's just sad to see some of the less \"\n",
      "          'positive things that have happened in baseball over the years. I '\n",
      "          \"also don't like your attacks on his heroic service in WWII. Have \"\n",
      "          'you ever done anything to cause anyone to respect you?!'},\n",
      " {'reason': ['his'],\n",
      "  'text': '\"\\n'\n",
      "          '\\n'\n",
      "          'de Crespigny, following the Zizhi Tongjian, explains why it should '\n",
      "          'be after Red Cliffs (and in 209, no less), in his translation of '\n",
      "          \"the Zizhi Tongjian, To Establish Peace: (note 96 to Jian'an 13)\\n\"\n",
      "          '\\n'\n",
      "          \"de Crespigny and Sima Guang seem to follow Sun Sheng's take in SGZ \"\n",
      "          '47 (Wu 2, the Biography of Sun Quan) as the genuine account for '\n",
      "          'this event.   \"'},\n",
      " {'reason': ['mother'],\n",
      "  'text': 'NONE OF THIS MP STUFF IS TRUE AND I HEARD TODAY ON REALLY GOOD '\n",
      "          'AUTHORITY THAT MARSDEN HAS AN ATTORNEY IN NEW YORK DRAWING UP THE '\n",
      "          'MOTHER OF ALL LAWSUITS AGAINST JIMBO, WIKIPEDIA SO YOU MIGHT WANT '\n",
      "          'TO TAKE THIS MP SHIT AND OTHER SHIT DOWN ASAP.'},\n",
      " {'reason': ['mother'],\n",
      "  'text': '\"\\n'\n",
      "          '\\n'\n",
      "          ' Blocking Mardyks  \\n'\n",
      "          '\\n'\n",
      "          \"Excellent work there Shii. We can't have his kind getting us to \"\n",
      "          'think about what the Maya actually say about their own prophecies. '\n",
      "          'We insulted him, offended him and abused him and he just had to be '\n",
      "          'ethical and persistant. BLOCK those Mother Fukkers!!! Taking out '\n",
      "          'the entire Santa Fe Public Library system is a great preemptive '\n",
      "          'strike also. There may be others of his kind, that sympathize with '\n",
      "          'those \"\"Indians\"\". These people actually LOVE the Earth and that is '\n",
      "          'without reliable sources! We kicked their asses and have the right '\n",
      "          'to write THEIR history and interpret THEIR sacred teachings however '\n",
      "          'we please. We need more from college students who have been '\n",
      "          'indoctrinated in the Church of Academia. That piece by Stitler is '\n",
      "          'one of the most exaggerated and opinionated and so yeah, use that '\n",
      "          'as the title of the page! And by all means give John MAJOR Jenkins '\n",
      "          'his own section. Not a single scholar or Mayanists agrees with his '\n",
      "          'appropriated theory and this kind of hypocrisy and arrogance is '\n",
      "          'what Wiki is all about. We can get away with it, by continuing to '\n",
      "          'use our power to censor free thinkers like Mardyks and his kind. '\n",
      "          'Sony Pictures is paying us all off with tickets, so let us know how '\n",
      "          'many you want. FREE popcorn, too! Whoopee! Best wishes from Jimini '\n",
      "          'Cricket 97.123.26.228  \"'},\n",
      " {'reason': ['his'],\n",
      "  'text': '\"\\n'\n",
      "          'Nononono, Julian wants YOU for his pet tropical cyclone project. '\n",
      "          'Isn\\'t that right, Julian...GUILTY! D — (Talk / Contribs) \"'},\n",
      " {'reason': ['his', 'he'],\n",
      "  'text': 'Thanks for removing more of his anonymous, unsigned, vandalism. '\n",
      "          \"He's pushed it too far; I'm requesting admin involvement at this \"\n",
      "          'point.'},\n",
      " {'reason': ['man'],\n",
      "  'text': 'The current map \\n'\n",
      "          '\\n'\n",
      "          'The current map shows the Isle of Man and Channel Islands as though '\n",
      "          'they are part of the UK, which they are not.  Should a different '\n",
      "          'map be used?'},\n",
      " {'reason': ['his'],\n",
      "  'text': '\"\\n'\n",
      "          '\\n'\n",
      "          \"I'm nearly certain that Scott Thornton didn't become an alternate \"\n",
      "          \"captain until Craig Conroy was traded to Calgary.  I sure can't \"\n",
      "          'recall him wearing the \"\"A\"\" on his jersey before that moment, and '\n",
      "          'I also thought I heard on a Kings telecast shortly after the Conroy '\n",
      "          \"trade Bob Miller and Jim Fox talking about how he's now wearing the \"\n",
      "          '\"\"A\"\" on his jersey, leading me to believe that he assumed that '\n",
      "          \"role after the trade.  I'm not gonna reflect my opinion in the \"\n",
      "          \"article; I thought I'd leave a cimment here, first.  '''''' \"\n",
      "          '\"'},\n",
      " {'reason': ['she'], 'text': 'she did 76.122.79.82'},\n",
      " {'reason': ['mom'], 'text': 'My mom sucks nigger dick'},\n",
      " {'reason': ['her', 'woman'],\n",
      "  'text': 'Good Grief! How would the chimps get drunk? Anyways, Today(2-17-09) '\n",
      "          'On the news, a woman in conneticut was attacked by her '\n",
      "          \"friend's,(over 200 pound)chimpanzee. He was huge! HE ripped her \"\n",
      "          \"apart and ate her face off. shouldn't chimp attacks be in the chimp \"\n",
      "          \"article? BEcause i didn't see anywhere about chimps attacking \"\n",
      "          'humans 173.51.203.228'},\n",
      " {'reason': ['he'],\n",
      "  'text': \"Yeah, Partch is great, but he's not always the most reliable \"\n",
      "          \"source. I'll try to find a different one. —\"},\n",
      " {'reason': ['man'],\n",
      "  'text': '\"\\n'\n",
      "          '\\n'\n",
      "          ' Cut-off \\n'\n",
      "          '\\n'\n",
      "          'The article mentions that several plot points of recent comics '\n",
      "          '(Decimation, \"\"Avengers Disassembled\"\", Thor\\'s destruction of '\n",
      "          \"Asgard) didn't occur in MC2 continuity, and on Spider-Girl's page \"\n",
      "          'it says that \"\"Spider-Man: The Other\"\" never occurred either. Given '\n",
      "          \"that would it be accurate to say categorically that there's some \"\n",
      "          'cut-off point after which events in Earth-616 are no longer '\n",
      "          'canonical? If so, when and where do you think it would be located? '\n",
      "          'I suppose such a statement might be too broad, and some events may '\n",
      "          'not have been explicitly referenced as happening or not happening '\n",
      "          'but...well, I don\\'t know MC2.  \"'},\n",
      " {'reason': ['guy'],\n",
      "  'text': 'No, what has no purpose is this conversation. If you are going to '\n",
      "          'add some information to the article then do so if not bugger off. '\n",
      "          \"Trying to get it deleted doesn't hlp the article now does it smart \"\n",
      "          'guy?'},\n",
      " {'reason': ['her', 'she'],\n",
      "  'text': 'And when her PR people inevitably tell us she still likes Rodham, '\n",
      "          'maybe tell them to update her official website and social media '\n",
      "          'accounts to reflect that and tell hundreds of news organizations as '\n",
      "          'well.  T|C'},\n",
      " {'reason': ['his', 'father', 'woman', 'brother'],\n",
      "  'text': '\" The article claims that his father was Mokhachane - his name was '\n",
      "          'actually Khachane. No, this is not an example of the prefix war - '\n",
      "          '\"\"mokhachane\"\" means \"\"a pregnant woman\"\" and my late brother\\'s '\n",
      "          'second name was Khachane. I have mo idea what the name means, but '\n",
      "          'it could be from Mokhachane. Please just change it - be italic. '\n",
      "          'User:ZyXoas \"'},\n",
      " {'reason': ['he'],\n",
      "  'text': 'North Korea was not in my mind until someone else used it. He used '\n",
      "          'the analogy first, and I do feel he was right. I had absolutely no '\n",
      "          'intention of fraud in the discussion of the map and the accusation '\n",
      "          \"was unjustified. I still think the map's accuracy is unknown.\"},\n",
      " {'reason': ['her', 'mother', 'daughter', 'she'],\n",
      "  'text': 'Move to Elizabeth, The Queen Mother of United Kingdom \\n'\n",
      "          '\\n'\n",
      "          'She married the Windsor family, making her Mrs Windsor and she '\n",
      "          'never officially mantained that last name post her marriage.  She '\n",
      "          'was given the Queen Mother by her daughter.'},\n",
      " {'reason': ['men', 'mother'],\n",
      "  'text': \"Hanibal911You're a bastard Pro-Assad. The rebels Aleppo Central \"\n",
      "          \"Prison have been completely. Assad's like you're a bastard. Many \"\n",
      "          \"men like to have sex with your mother, mother-Assad.You're a \"\n",
      "          'genital fit. Many men will serve your mother every day, and every '\n",
      "          'day it eats genital. But you and your bastard Assad and parents. No '\n",
      "          'Gvhy can not eat. Of course I understand that when you and your '\n",
      "          'parents bastard to eat not eat Wedge. I suggest that parents make '\n",
      "          'you eat my wedge. In the hope that residents will separate your '\n",
      "          'head from your body.'},\n",
      " {'reason': ['he'],\n",
      "  'text': 'It should be changed.  Blotto Adrift loves to change articles that '\n",
      "          \"he is in conflict with.  Blotto it's time to follow policy.  \"\n",
      "          \"Admin's beware of him.\"},\n",
      " {'reason': ['her'],\n",
      "  'text': 'Richmal Oates-Whitehead \\n'\n",
      "          '\\n'\n",
      "          'Hi, just saw your addition to the article by way of a link. Thanks '\n",
      "          'for the same, especially since the article has not seen much action '\n",
      "          'of late and I had been itching to look at some NZ sources about '\n",
      "          'her. I had also placed a request on the NZ discussion board some '\n",
      "          'time back.'},\n",
      " {'reason': ['he', 'guy'],\n",
      "  'text': 'As the newest guy on the block, a question to help me understand '\n",
      "          \"what is and isn't okay.  If I were the one making all of the \"\n",
      "          \"statements above rather than those who are, wouldn't I have been \"\n",
      "          'smacked down with references to rules about forum, synthesis, and '\n",
      "          'original research, and maybe even weight?  Sorry to ask but my '\n",
      "          \"common sense just wouldn't leave me alone until I put this question \"\n",
      "          'out. He is completely confused.  I have to admit.  I am too.  <>'},\n",
      " {'reason': ['men'],\n",
      "  'text': 'Bongwarrior is a homosexual prostitute \\n'\n",
      "          '\\n'\n",
      "          'Bongwarrior is a homosexual prostitute.\\n'\n",
      "          '\\n'\n",
      "          'You can fuck him in the ass for $25.\\n'\n",
      "          '\\n'\n",
      "          'He likes it when two men fuck him in the ass at the same time.  He '\n",
      "          'likes the feeling of his anus being stretched wide open.\\n'\n",
      "          '\\n'\n",
      "          'He will also lick the shit off of your dick when you are done.\\n'\n",
      "          '\\n'\n",
      "          '119.245.91.247'},\n",
      " {'reason': ['man', 'mother'],\n",
      "  'text': 'YOU SUCK \\n'\n",
      "          '\\n'\n",
      "          'Hello J. Delanoy,\\n'\n",
      "          '\\n'\n",
      "          'U suck. I could totally pwn u in my sleep. Come log on WoW like a '\n",
      "          'real man and we will duel. My death knight rolak will destroy u. In '\n",
      "          'f4ct, u r probably some horde faggot pansy ass blood elf faggot. I '\n",
      "          'could prolly even 1 shot u cus u r a faggot ass pansy bitch whore. '\n",
      "          'U r the biggest noob I have ever seen. LOL u prolly dont even have '\n",
      "          'any ep3x. People like u make me sick. Ur mother is prolly horde too '\n",
      "          'rofl i can prolly pwn u both at the same time. Lol u r prolly an '\n",
      "          'orc to. I one shotted thrall, cus he is the king of the noobs. U '\n",
      "          'prolly didnt even beat kara cus u suck. LOL u prolly dont even tier '\n",
      "          '9 yet cus u suck that much. My dk had some t8 in bc, ur such a noob '\n",
      "          'that u prolly only had like dungeon tier 1 LOL!!. U r prolly a '\n",
      "          'virgin too. LOL I get laid 8 times a day. Just ask ur mother. I '\n",
      "          'also bang all of the cheerleaders for the football and basketball '\n",
      "          'teams. Oh ya and baseball. I am also the starting qb for our '\n",
      "          'football team. We won the state championship. I threw so many '\n",
      "          'passes. Then I got laid. Yeah, u wish u were as good at life as me. '\n",
      "          'But ur not, cus u suck. U just sit there all day, raiding kara with '\n",
      "          'ur noob welfare ep4x wiping on the horseman LOL. We never wiped on '\n",
      "          'him. U really need to get a life, I mean who doesnt have at least '\n",
      "          't7 yet srsly?? Add me and well duel and ill destroy ur noob welfare '\n",
      "          'blood elf orc ass. U prolly cant even bring me down to 95% LOL cus '\n",
      "          'u suck noob.\\n'\n",
      "          '\\n'\n",
      "          'U rly suck srsly,\\n'\n",
      "          '\\n'\n",
      "          'ROlak, King of da Death Knights.\\n'\n",
      "          '\\n'\n",
      "          '68.205.182.184'},\n",
      " {'reason': ['mother'],\n",
      "  'text': 'Viral is a faggot mother fucker in the shit of the crap stritting.'},\n",
      " {'reason': ['his'],\n",
      "  'text': \"So you're a democrat.  Congratulations.\\n\"\n",
      "          '\\n'\n",
      "          \"I'm an American, not affiliated with either party, and if any \"\n",
      "          'recent presidents had attacked the media for merely commenting, the '\n",
      "          'rest of the media would have formed a lynch mob.  I guess you think '\n",
      "          \"it's ok for the President and his administration to promote \"\n",
      "          \"censorship when there's a Marxist in the Whitehouse, and then \"\n",
      "          'prevent that fact from being presented in documentation such as '\n",
      "          'this, eh?'},\n",
      " {'reason': ['his'],\n",
      "  'text': 'First of all. Thank you, Zhang He, D12000, and Ronhjones for your '\n",
      "          \"attention. If you did nothing else, I'd be grateful to all of you. \"\n",
      "          'Next, 66.65.94.122 and his likely sockpuppet, Richeye, did it '\n",
      "          'again. Is a blocking and protection possible? Thanks. Note, again, '\n",
      "          'you might as well reply to me here as my IP is that of a Library '\n",
      "          'computer.:-) Thanks again.205.189.194.250'},\n",
      " {'reason': ['wife', 'he'],\n",
      "  'text': \"(family)I tried to look up more things on his family, but there's \"\n",
      "          'surprisingly little other than about his wife.  There is some info '\n",
      "          'on various Myspaces of his kids and grandkids (apparently he has '\n",
      "          \"another great-grandchild on the way) but those aren't good sources, \"\n",
      "          \"so I don't think I have much to add on that front for now.  I found \"\n",
      "          'some info on one daughter who is a doctor, but it would be odd to '\n",
      "          \"only have information on one child so I won't add any of that.  \"\n",
      "          'Should the family part be at the end or the beginning?'},\n",
      " {'reason': ['he'],\n",
      "  'text': 'I take some offense to you not liking Cena because even though he '\n",
      "          \"doesn't have much wrestling skill he knows how to fight. But I \"\n",
      "          'agree that the vandalism is out of control. I thank whoever cleans '\n",
      "          \"up Cena's artical.\"},\n",
      " {'reason': ['he'],\n",
      "  'text': 'Yes, I think he is just a newcomer. We do not want to bite him.  '\n",
      "          '(talk - )'},\n",
      " {'reason': ['guys'],\n",
      "  'text': '\":: I agree with Vast Majority. Totally. But that is still an '\n",
      "          'evaluative statement. The Vast Majority of people also see Hitler '\n",
      "          'as a villian, but does his page say \"\"Hitler was a villian\"\"?\\n'\n",
      "          ' I agree with you about people being protective of their children. '\n",
      "          \"I'm protective of my brother and my mentorees. They know that I \"\n",
      "          'would do anything for them.\\n'\n",
      "          ' I agree with you that adult-child sex and sexual contact is likely '\n",
      "          'to enrage almost anyone... but the news tells a different story. '\n",
      "          'How often do you hear \"\"Jim Brown (generic name) was arrested today '\n",
      "          'for allegedly having sex with one of the girls at his day camp\"\" '\n",
      "          'and then they interview people who say things like \"\"but he\\'s a '\n",
      "          'really good person, even if he did this, I still see him as a '\n",
      "          'hero\"\" or, after a court conviction even, \"\"he\\'s always been a '\n",
      "          'role model to the whole community... he should be released or '\n",
      "          'probation...why send this nice man to prison?\"\" I have heard things '\n",
      "          'like that and it sickens me more than anything! People are so... '\n",
      "          'fickle. And clueless sometimes.\\n'\n",
      "          \" I agree with monitored. But I also don't think a 20-y/o who was \"\n",
      "          'convicted of having sex with a 17.5-y/o (yes, this happened) should '\n",
      "          'be classified a top-priority sex offender for their whole life. '\n",
      "          'Kida ridiculous. Now a 20-y/o with a 10-y/o? Absolutely! Let their '\n",
      "          'monitor fall off after the heat of hell melts it...\\n'\n",
      "          ' I disagree that Wikipedia is \"\"soft\"\" on pedophiles. In fact, '\n",
      "          'pedophiles are the only people not allowed to edit the '\n",
      "          '\"\"encyclopedia that everyone can edit\"\"; that\\'s a simple fact. I '\n",
      "          'don\\'t think we give anyone \"\"enormous sympathy\"\" (and certainly '\n",
      "          \"you don't!). Do we treat them fairly and as legitimate people? Yes, \"\n",
      "          'Should we? Absolutely. \"\"All men are created equal\"\", right? '\n",
      "          'Remember, we do not have Thought Police. Hitler tried that... (I '\n",
      "          'hate bringing that name back up... apologies...)\\n'\n",
      "          ' By the way, though the very incarnation of evil, Hitler was a '\n",
      "          'masterful, brilliant leader. Most of the most notorious bad guys in '\n",
      "          \"history were. That's part of how they could accomplish so much and \"\n",
      "          'still be so evil. Kinda sad when you think about it...\\n'\n",
      "          \"  •   •  • 03:28 (UTC)  28 Mar '08 -)\\n\"\n",
      "          '\\n'\n",
      "          '\"'},\n",
      " {'reason': ['she'],\n",
      "  'text': 'Why to go buddy! So how is Nancy holding up?\\n'\n",
      "          'She really is a bad admin and everyone knoes it.'},\n",
      " {'reason': ['his', 'he'],\n",
      "  'text': '\"\\n'\n",
      "          '\\n'\n",
      "          ' Farce \\n'\n",
      "          '\\n'\n",
      "          \"You can criticize policy all you want. What you can't do is turn a \"\n",
      "          \"policy discussion page into a soapboxing rant. We can't fix \"\n",
      "          'Magnotta. Assuming the murders would not have happened if we gave '\n",
      "          'him his 15 minutes of fame is ludicrous on its very premise. By '\n",
      "          'that argument, Jodie Foster should have dated John Hinckley, Jr. so '\n",
      "          \"he wouldn't have attempted to assassinate the President. It's a \"\n",
      "          'complete farce of an argument. — Bite \"'},\n",
      " {'reason': ['boy'],\n",
      "  'text': \"Below we're told only one of these images can be used.  Given that, \"\n",
      "          'it seems obvious to me that the outdated photo in which Michael '\n",
      "          'Brown looks like a young boy is not to be used.   (talk)  '\n",
      "          '(contribs)'},\n",
      " {'reason': ['he'],\n",
      "  'text': '\"\\n'\n",
      "          '\\n'\n",
      "          'Reguyla/Kumioko\\n'\n",
      "          '\\n'\n",
      "          'Kumioko has socked again with the ip, 96.255.237.170. I am only '\n",
      "          'reporting it here because this IP has been blocked for block '\n",
      "          'evasion thus there is no benefit in opening an SPI. Would you '\n",
      "          'increase the block length of the main account Reguyla? This was '\n",
      "          'third time that he violated the standard offer.  (Talk • '\n",
      "          'Contributions • Log) \"'},\n",
      " {'reason': ['her'],\n",
      "  'text': \"Just going on TV doesn't mean you deserve a Wikipedia page and \"\n",
      "          'there has been no official proof of any of her threat claims as of '\n",
      "          'yet. Wikipedia is a site where things need to be proven and '\n",
      "          'verified. Not for hearsay.'},\n",
      " {'reason': ['guys'],\n",
      "  'text': '\"\\n'\n",
      "          \"Wait, what? You guys formed a Wiki editing group but didn't know \"\n",
      "          'each others\\' usernames? Uh.. —  (say whaaat?!) \"'},\n",
      " {'reason': ['men', 'male'],\n",
      "  'text': '\"\\n'\n",
      "          \"Though I'm not sure about the claim that transgender men are not \"\n",
      "          '\"\"real\"\" men (perhaps not biologically), I do find it somewhat '\n",
      "          \"strange that we're including unknown men on the basis of their \"\n",
      "          'being transgendered, and at the exclusion of some of the most '\n",
      "          'influential and famous male figures in history (e.g. Jesus, '\n",
      "          'Mohammad, Buddha, Hitler, Caesar). What are the priorities here? To '\n",
      "          'prove how liberal and progressive wikipedia is?   \"'},\n",
      " {'reason': ['woman'],\n",
      "  'text': 'Please go to the da help with life forum to discuss how after you '\n",
      "          'blew your wikiload\\n'\n",
      "          'after banning me, ruining your wonder woman underoos.  Maybe after '\n",
      "          'that you can \\n'\n",
      "          'get off on banning more people, careful, if you blow your wikiload '\n",
      "          'too many times,\\n'\n",
      "          \"you won't be able to read your computer screen without wiping it \"\n",
      "          'off and using\\n'\n",
      "          '409 to get rid of the wikiresidue.'},\n",
      " {'reason': ['mother'],\n",
      "  'text': \"It's Me again. \\n\"\n",
      "          '\\n'\n",
      "          'Look, I sent you a message about 3 months ago. But I see you want '\n",
      "          'to be a jackass a not respond. So fuck you and go shove a saw up '\n",
      "          'your smelly ass you dipshit mother fucker.!!!! LMFAO!!'},\n",
      " {'reason': ['his'],\n",
      "  'text': 'I see it has been reverted back, and then back again whie I was '\n",
      "          'blocked, citing sockpuppetry (a little bit hard since I was '\n",
      "          'blocked!). lol. He haqs not even discussed his changes here, so '\n",
      "          \"rather than just enter a pointless edit war i'll drop a line by an \"\n",
      "          'admin and see if we can get this sorted out.  is obviously trying '\n",
      "          'to make a WP:POINT, however he has already been warned about this '\n",
      "          'dispute.'},\n",
      " {'reason': ['his', 'he', 'guy'],\n",
      "  'text': 'Since these wrestling article pages took their current form about 7 '\n",
      "          'years ago, one of the rules has always been that if a wrestler '\n",
      "          'holds a championship, he automatically gets included as part of the '\n",
      "          'roster.  PJ Black won the King of the Mountain Championship at last '\n",
      "          \"night's Impact Wrestling tapings, thus he automatically gets \"\n",
      "          'included on the roster.  The note at the top of the page is to let '\n",
      "          'everybody know that TNA and GFW have a talent exchange agreement, '\n",
      "          \"so they don't have to include every GFW guy that makes an \"\n",
      "          'appearance on Impact Wrestling.  Black (KOTM Champion) and Jarrett '\n",
      "          '(general manager) get special mentions due to their specific '\n",
      "          'roles...PJB has a title, and JJ is the authority figure.  Once PJB '\n",
      "          \"loses his title, he'll be removed, as will Jarrett once he loses \"\n",
      "          'his authority figure role.  Vjmlhds'},\n",
      " {'reason': ['her'],\n",
      "  'text': 'Redtigerxyz, you are rehashing what has just been discussed. Please '\n",
      "          \"don't do that. This is an article about an academc. Obviously all \"\n",
      "          'academic criticism of her academic work are perfectly fair game. '\n",
      "          'Read WP:DUE.  (𒁳)'},\n",
      " {'reason': ['his', 'her'],\n",
      "  'text': 'There appear to be more than one ship bearing the name RRS '\n",
      "          'Discovery. The original Discovery was captained by Robert Scott '\n",
      "          'between 1901 - 1904 in his first unsuccessful expedition of '\n",
      "          'Antarctica. \\n'\n",
      "          '\\n'\n",
      "          'The original RRS Discovery now resides at her birthplace'},\n",
      " {'reason': ['women'],\n",
      "  'text': 'Said at GGTF arbitration\\n'\n",
      "          \"Some people seem to think that ArbCom is so naive they don't know \"\n",
      "          'that the Manchester Gangbangers and their cronies/minions are '\n",
      "          'engaged in institutionalized harassment using ArbCom as one of '\n",
      "          'their harassment tools. They think just explaining that will open '\n",
      "          \"their eyes and they'll do the right thing.\\n\"\n",
      "          'No, the only thing that will clear Wikipedia of this vicious '\n",
      "          'coterie is a national publicity campaign to pressure the WMF into '\n",
      "          'enforcing its Terms of Service, including against culpable ArbCom '\n",
      "          'members. (I see several Sitush/Corbett/ cronies/minions are running '\n",
      "          \"for the next Arbitration Committee.) And I'm one of dozens who see \"\n",
      "          \"it that way, we just haven't decided where to organize our \"\n",
      "          'efforts.  Just because their tactic worked on silencing 1.2 billion '\n",
      "          \"Indians with their Brit imperialist drivel doesn't mean it will \"\n",
      "          'work on silencing 3.3 billion women.  After all 1/2 the members of '\n",
      "          'the Board are women.   (Talkie-Talkie)'},\n",
      " {'reason': ['girl'],\n",
      "  'text': \"Now let's see who's gonna start crying like a little girl because I \"\n",
      "          'said this so I could laugh my ass off at them.'},\n",
      " {'reason': ['guy'],\n",
      "  'text': \"How is this guy notable?  No one's ever heard of the guy.  Who \"\n",
      "          'cares about some dime-a-dozen custom knife-maker.'},\n",
      " {'reason': ['his', 'guy', 'man'],\n",
      "  'text': 'Some help. \\n'\n",
      "          '\\n'\n",
      "          'Hey man. Can you help me with this guy who keeps vandalizing the '\n",
      "          \"UFC 191 page? Look at his edit summaries. They're quite amusing. \"\n",
      "          'https://en.wikipedia.org/w/index.php?title=UFC_191&action;=history'},\n",
      " {'reason': ['he'],\n",
      "  'text': 'He also exaggerates, claiming that my edits are vandalizing and '\n",
      "          'abusive, when in fact I was only trying to improve a couple '\n",
      "          'articles, which he then reverted, for no reason other than to prove '\n",
      "          \"a point (disrupting wikipedia to prove a point isn't allowed on \"\n",
      "          'wikipedia), even if it meant WORSENING the state of an article and '\n",
      "          're-implementing broken links, bad disambiguations, and incomplete '\n",
      "          'information.  Netscott has done more harm to wikipedia than good, '\n",
      "          'and thus for this reason, if you block me and not him, then you '\n",
      "          'must either block both of us or block none of us. }}'},\n",
      " {'reason': ['son'],\n",
      "  'text': \"It \\n\\nThat is what you're gonna get son! 82.132.229.92\"},\n",
      " {'reason': ['her', 'she'],\n",
      "  'text': 'I just put late 2010 as being the date until we get something more '\n",
      "          'specific.  By the way, do we have any update on how Caroline Lloyd '\n",
      "          \"is?  I know she wasn't actually named in the incident that \"\n",
      "          'happened, but I managed to work out that it was likely to be her '\n",
      "          'from the news reports saying the person slashing her wrists on set '\n",
      "          \"had been there over 10 years.  When you look at that list, she's \"\n",
      "          'the only one, the others have been there nearer 10 minutes than 10 '\n",
      "          \"years lol.  I hope she's ok and returns to Neighbours soon, if \"\n",
      "          \"that's possible\"},\n",
      " {'reason': ['his'],\n",
      "  'text': '\"\\n'\n",
      "          'You quickly forget that I am objecting to the MISINTERPRETATION of '\n",
      "          \"a 'rule', and the MISAPPLICATION of a 'rule'.   (or, do you not \"\n",
      "          'concede that, hypothetically, a VALID, proper rule can be '\n",
      "          'MISINTERPRETED and/or MISAPPLIED?).  Merely citing the RULE is '\n",
      "          'pointless, when the problem is the misinterpretation or '\n",
      "          'misapplication of the rule!\\n'\n",
      "          ' Further, Dodo violated WP rules, by not allowing a consensus of '\n",
      "          'the group to develop.  He also misapplied a rule, claiming that '\n",
      "          \"something I said must be 'verifiable'.  But what does it mean, to \"\n",
      "          \"be 'verified'?  Dodo implied that what I said must be verifiably, \"\n",
      "          'scientifically TRUE.  I claim, quite to the contrary, that since '\n",
      "          \"the article involved is 'Jim Bell' (subject, ME), that the only \"\n",
      "          \"'verifiability' issue is this:  Did 'James Dalton Bell' ACTUALLY \"\n",
      "          \"make these claims.  (Or, conversely and hypothetically, 'is someone \"\n",
      "          'else forging his identity?, etc.)   For example, there was no need '\n",
      "          'to RUSH and delete my posts.  Rather, somebody (preferably, one '\n",
      "          'familiar with LOGIC) could have said, \"\"Bell, how do we know that '\n",
      "          \"'you', 'jimdbell@q.com', is in fact the 'jim bell' (James Dalton \"\n",
      "          \"Bell) who is the subject of the 'Jim Bell' WP article?  We need to \"\n",
      "          \"be able to VERIFY the fact that 'jim bell' actually said/did \"\n",
      "          'this.\"\" (To ensure that \\'jim bell\\' is not being libelled by a '\n",
      "          'stealth forgery.)\\n'\n",
      "          'In response, I would have immediately said, \"\"Good question!\"\"  And '\n",
      "          'I could have promptly proceeded to do whatever was necessary to '\n",
      "          'establish this fact.  Perhaps I could also have donated a recent '\n",
      "          '(current!) photograph to the article, which (of course) could be '\n",
      "          'compared with other published (even if not public domain) '\n",
      "          'photographs which are available on the web.   \\n'\n",
      "          \"But as John Belushi was so fond of saying, 'BUT NOOOOOOOOOOO!'  \"\n",
      "          \"Rather than HELP a 'newbie' (to WP), AND wait for a consensus, and \"\n",
      "          \"actually help VERIFY that 'jimdbell@q.com' is actually, 'jim bell', \"\n",
      "          'Dodo decided to be an ass and repeatedly delete my edits.  And, he '\n",
      "          'deleted ALL my edits, not merely some portion which (allegedly) was '\n",
      "          \"not 'verifiable'.  I will give an example, to the contrary:  I also \"\n",
      "          'posted a claim that I accused the Feds of forgery in a criminal '\n",
      "          'appeal case, 99-30210.  In fact, in June 2003 I wrote a lawsuit '\n",
      "          '(195 pages) which has (I believe) LONG been posted on the Web.  '\n",
      "          '(Probably Cryptome/JYA).  It (as I recall) makes exactly this '\n",
      "          'accusation.  So, if Dodo had actually acted INTELLIGENTLY, he would '\n",
      "          'have edited my edit to cite my lawsuit, which has been posted for '\n",
      "          'perhaps 5+ years.  (Or, he would have said to me, \"\"Bell, you need '\n",
      "          'to show a cite of your lawsuit...\"\").  THAT would have been '\n",
      "          'productive, useful, and helpful.  (As opposed to being hostile, '\n",
      "          \"counterproductive, and malicious.)   So, why didn't Dodo do \"\n",
      "          'THAT?!?   The answer is quite simple:  Dodo is hostile, '\n",
      "          \"counterproductive, and malicious.  He's a 'control freak'.  \"\n",
      "          \"(Apparently, WP attracts 'control freaks'.)  Rather than being \"\n",
      "          'assisting, supportive, and helpful, Dodo wants to slap around '\n",
      "          'newbies who upset his apple cart.\\n'\n",
      "          '  \"'},\n",
      " {'reason': ['she'],\n",
      "  'text': 'oh lol eleanor is a pure and utter gimp she lieks to wear a gimp '\n",
      "          'suit and heyyy paulinee D:D:Dwhether'},\n",
      " {'reason': ['his', 'he'],\n",
      "  'text': 'Religious beliefs?\\n'\n",
      "          \"I wonder why this article doesn't mention his religious beliefs? He \"\n",
      "          'often mentioned Jesus in his lyrics, and he even had Tattoo of a '\n",
      "          \"huge cross on his back. Doesn't that count for anything? |Talk \"\n",
      "          '17:38, 30 Sept, 2006 (UTC)'},\n",
      " {'reason': ['his', 'he'], 'text': 'from where he makes most of his edits'},\n",
      " {'reason': ['boy'],\n",
      "  'text': '\"Thank you for experimenting with the page Boy in Da Corner on '\n",
      "          'Wikipedia. Your test worked, and has been reverted or removed. '\n",
      "          'Please use the sandbox for any other tests you want to do. Take a '\n",
      "          'look at the welcome page if you would like to learn more about '\n",
      "          'contributing to our encyclopedia.  S | talk \"'},\n",
      " {'reason': ['bro'],\n",
      "  'text': \"I already have good social life - just insomnia, bro. When I can't \"\n",
      "          \"sleep, I make new music or edit wikis hehe. Btw, I'm writing a diss \"\n",
      "          'on one of wikipedia users - on youtube soon! 94.254.193.66'},\n",
      " {'reason': ['boys'],\n",
      "  'text': 'Better phrasing, thank you. But why did you reinsert Cantarella, '\n",
      "          'and what is she doing in a section exclusively about Percy?! And '\n",
      "          'where does Percy say that most Greeks fucked their boys up the '\n",
      "          'ass?'},\n",
      " {'reason': ['his'],\n",
      "  'text': 'Re: Barrymore 1936 photos \\n'\n",
      "          '\\n'\n",
      "          'Managed to drum up two so far: File:Scene from Romeo and Juliet '\n",
      "          '2.jpg File:Scene from Romeo and Juliet 1936.jpg.  While looking, I '\n",
      "          'found a back story re: Barrymore and the film.  Barrymore and '\n",
      "          'Barrie managed to have a bad quarrel which was heated enough for '\n",
      "          'her to go to New York.  Barrymore was thoroughly miserable without '\n",
      "          'her and threatened to quit the film (in production) unless Barrie '\n",
      "          'came back to him.  Producer Irving Thalberg had the job of begging '\n",
      "          'and pleading with her via long distance so his project could '\n",
      "          'continue. This is on page 32 of the article.'},\n",
      " {'reason': ['she'],\n",
      "  'text': '\"\\n'\n",
      "          '\"\"She started it\"\" is not an excuse that is generally accepted on '\n",
      "          'Wikipedia.   (smoddy) \"'},\n",
      " {'reason': ['he'],\n",
      "  'text': 'He is a CHEATER, and the article should say that.'},\n",
      " {'reason': ['he'], 'text': '\"? Is he \"\"special\"\"\"'},\n",
      " {'reason': ['he'],\n",
      "  'text': 'Request to Unblock\\n'\n",
      "          'I began writing the following statement (excepting its two '\n",
      "          'postscripts) before I was blocked. I suspect that User: AuburnPilot '\n",
      "          'had me blocked, in order to prevent me from complaining to '\n",
      "          'administrators about his misconduct. Although I was directed to '\n",
      "          'request an unblock of User: Physicq210, who had blocked me, '\n",
      "          'requesting such of the latter would require that I censor myself, '\n",
      "          'and write as though User: Physicq210 had acted in good faith, and '\n",
      "          'was one of the good guys. That would be surreal, and would give '\n",
      "          'User: Physicq210 a moral legitimacy belied by his actions. And so, '\n",
      "          'the following request for unblocking is directed at any '\n",
      "          'administrator BUT User: Physicq210, but since I’m not a devious '\n",
      "          'sort, I have nothing against the latter reading this. Indeed, I '\n",
      "          'want User: Physicq210 to read it. For if I can be banned from '\n",
      "          'Wikipedia for standing up to censors, then it is vastly preferable '\n",
      "          'to go down fighting, than to go down the long dark road of '\n",
      "          'self-abnegation and self-censorship, including the use of bad '\n",
      "          'English. After all, if I wanted to be a lackey, I could go to '\n",
      "          'graduate school.\\n'\n",
      "          '\\n'\n",
      "          'WIKI Administrators’ Notice Board Incidents\\n'\n",
      "          'http://en.wikipedia.org/wiki/Wikipedia:Administrators%27_noticeboard/Incidents\\n'\n",
      "          '\\n'\n",
      "          'User: AuburnPilot\\n'\n",
      "          '\\n'\n",
      "          'A few days ago, User: AuburnPilot began stalking me, checking '\n",
      "          'wherever I had made edits, and going to the articles in question '\n",
      "          'and vandalizing them. He or she has been manipulating Wikipedia '\n",
      "          'rules as cover for what is clearly political censorship. User: '\n",
      "          'AuburnPilot cannot even stand for Wikipedia readers to find out '\n",
      "          'about factual material that upsets his political applecart through '\n",
      "          'footnotes. Zero tolerance!\\n'\n",
      "          '\\n'\n",
      "          'He claims of any source he politically dislikes, that it is either '\n",
      "          '“spam” or a “blog” (or “POV,” another favorite dodge for those at '\n",
      "          'Wikipedia seeking to censor those who fail to conform to their own '\n",
      "          'POV), even though the one source is a previously published, classic '\n",
      "          'magazine article otherwise unavailable on the Web '\n",
      "          '(http://geocities.com/nstix/waronpolice.html), which the author has '\n",
      "          'seen fit to publish on his Web site, and the other source is the '\n",
      "          'longest, most thorough exposé yet published on the Duke rape hoax '\n",
      "          '(http://vdare.com/stix/070113_duke.htm).\\n'\n",
      "          '\\n'\n",
      "          'Note that I am not even talking about censoring writing within '\n",
      "          'articles, since I hadn’t done any writing on the articles in '\n",
      "          'question: Crystal Gail Mangum, Michael Nifong, 2006 Duke University '\n",
      "          'lacrosse team scandal and Racial profiling.\\n'\n",
      "          'I’ve been involved in edit wars before, though I have never been '\n",
      "          'the aggressor, and have never initiated an elective edit war, '\n",
      "          'though given the self-assurance that aggressors such as User: '\n",
      "          'AuburnPilot exude, perhaps I ought to reconsider that position. It '\n",
      "          'seems that aggressors rule here.\\n'\n",
      "          '\\n'\n",
      "          'The reason I am making a formal complaint is that User: AuburnPilot '\n",
      "          'has tonight upped the ante, threatening to have me banned\\n'\n",
      "          '(http://en.wikipedia.org/w/index.php?title=User_talk:70.23.199.239&redirect;=no), '\n",
      "          'if I do not surrender to his censorship. Should you find for me, '\n",
      "          'please serve this individual with the wikiquivalent of a '\n",
      "          'cease-and-desist order. Should you, however, find for the censor, '\n",
      "          'please provide an Index of banned publications and a list of '\n",
      "          'official wikicensors.\\n'\n",
      "          '\\n'\n",
      "          'P.S. January 19, 2007 115A EST. Since beginning this complaint, I '\n",
      "          'see that User: AuburnPilot has in fact succeeded at getting a '\n",
      "          'crony, User: Physicq210, to block me, thus not only getting '\n",
      "          'administrative support in censoring me, but preventing me from '\n",
      "          'responding to his thuggery. (And no, I am not going to use cutesy, '\n",
      "          'euphemistic language. If I were into such deception, I would have '\n",
      "          'become a liar, er, lawyer, and would be worthless as an '\n",
      "          'encyclopedist.) And I was unable to e-mail User: Physicq210 because '\n",
      "          'I am not logged in and “You must be logged in and have a valid '\n",
      "          'authenticated e-mail address in your preferences to send e-mail to '\n",
      "          'other users.” '\n",
      "          '(http://en.wikipedia.org/wiki/Special:Emailuser/Physicq210)\\n'\n",
      "          '\\n'\n",
      "          'If this isn’t cyber-Stalinism, I don’t know what is! So, let me get '\n",
      "          'this straight. Stalking and censoring an editor while using the '\n",
      "          'equivalent of smiley faces (User: AuburnPilot’s penchant for saying '\n",
      "          '“Thank you” after vandalizing one’s links) is “civil,” but '\n",
      "          'complaining about such abuse counts as “spam, disruption, '\n",
      "          'incivility, and personal attacks.” If that is verily so, then 2 + 2 '\n",
      "          '= 5.\\n'\n",
      "          '\\n'\n",
      "          'P.P.S The message here says that I was “temporarily blocked from '\n",
      "          'editing Wikipedia as a result of your disruptive edits.” What the '\n",
      "          'heck is that supposed to mean? For restoring footnotes and links '\n",
      "          'that User: AuburnPilot had vandalized? If that constitutes '\n",
      "          '“disruptive edits,” then you’ve utterly given up on honest English '\n",
      "          'and all human decency. Sorry, but I don’t have any sympathy for the '\n",
      "          'Devil.'},\n",
      " {'reason': ['her'],\n",
      "  'text': \"I'm trying to sort out the plot on her article now. \"\n",
      "          '-Trampikey(contribs)'},\n",
      " {'reason': ['he'],\n",
      "  'text': 'November 2007 (UTC)\\n'\n",
      "          '\\n'\n",
      "          'Hi again, Isnt kerem now a disruptive editor? Patronizing myself '\n",
      "          'while i am trying in all civility without a single edit to have a '\n",
      "          'discussion in good faith of what (in UN view) is silenced? (Besides '\n",
      "          'the fact that he wants to buy you a beer ) ) 23:05, 12'},\n",
      " {'reason': ['his'],\n",
      "  'text': '\"\\n'\n",
      "          '\\n'\n",
      "          'To regard this think tank as a \"\"propaganda organization\"\", you '\n",
      "          'would need to find a reliable source stating that it is a '\n",
      "          \"propaganda organization. All anyone's been able to do is find the \"\n",
      "          'appropriate verb. Which, would be found by reliable sources '\n",
      "          'reporting on the Clinton campaign, the Obama campaign, the Bachmann '\n",
      "          'campaign, and any number of political interest groups or political '\n",
      "          'parties. Type in \"\"propagandizing\"\" and list a newspaper, political '\n",
      "          \"party, think-tank, or even university, and you'll see what I mean. \"\n",
      "          'Like this on the Obama campaign  To make inferences from that '\n",
      "          'opinion piece published in a reliable source, and therefore label '\n",
      "          'his campaign a \"\"propaganda organization\"\", or himself a \"\"master '\n",
      "          'propagandist\"\", would of course be very subjective.\"'},\n",
      " {'reason': ['he'],\n",
      "  'text': 'ralfx is yag. He is the yaggest mothering chinkie dude in the '\n",
      "          'world.'},\n",
      " {'reason': ['he'],\n",
      "  'text': '\"\\n'\n",
      "          '\\n'\n",
      "          \"Sorrybut I've had to correct parts of the sentence; it was not \"\n",
      "          'accurate. I am using the most-up-to-date sources on this subject '\n",
      "          'and have four decades of experience doing research on this subject, '\n",
      "          'so I really do want to make that clear. If I see something that I '\n",
      "          'know from my knowledge of the sources is inaccurate in emphasis, I '\n",
      "          'am correcting it. Pinter does not write plays \"\"to express his '\n",
      "          'political causes and beliefs\"\": that is not an accurate statement '\n",
      "          '(according to my research and other published research on the '\n",
      "          'subject in secondary sources as well as primary onesthe works). He '\n",
      "          'explicitly states that that is not how he goes about writing plays '\n",
      "          'or other creative writing. He does that in essays and speeches, but '\n",
      "          'not in his dramatic works per se. Please do not change the emphasis '\n",
      "          'if this is not a field with which you are familiar based on your '\n",
      "          'citation to one page of one secondary source. (I have the source '\n",
      "          '[Grimes]published and in manuscriptand that is not what he states '\n",
      "          'in it.] Thanks.  \"'},\n",
      " {'reason': ['men'],\n",
      "  'text': \"id=7820 it says that 'Pictures of Matchstick Men' was inspired by \"\n",
      "          \"the artist's work.\"},\n",
      " {'reason': ['girl'], 'text': \"if I wasn't a fifteen-year-old girl\"},\n",
      " {'reason': ['he'],\n",
      "  'text': 'I would like to further clarify that the edit which I made '\n",
      "          'yesterday was totally outside the issue of ongoing disagreement. I '\n",
      "          'made sure of that because I wanted Wolfkeeper exposed. I knew he '\n",
      "          'would delete it, yet is was a very carefully thought out example '\n",
      "          'which ilustrates both centrifugal force and Coriolis force '\n",
      "          'perfectly.\\n'\n",
      "          '\\n'\n",
      "          'Now what has happened is that Itub and PhySusie are trying to '\n",
      "          \"justify Wolfkeeper's actions and in doing so totally contradicting \"\n",
      "          'what has already been agreed.\\n'\n",
      "          '\\n'\n",
      "          'They are behaving like school children and I would simply lke to '\n",
      "          'know if this is he best that I can expect from wikipedia. Do the '\n",
      "          'administration ever sort these cliques out or do they generally '\n",
      "          'side up with the cliques out of fear of large numbers?'},\n",
      " {'reason': ['he'],\n",
      "  'text': 'Oh, I should read Wikipedia!  The article itself notes that he took '\n",
      "          'money while he was still an MP - though it needs references.'},\n",
      " {'reason': ['his', 'he'],\n",
      "  'text': \"About user 'Aspects' \\n\"\n",
      "          '\\n'\n",
      "          'Indeed! It appears that several people have been annoyed by that '\n",
      "          'nitwit, not just you and me. I invite you to review his answer and '\n",
      "          \"what I replied to it. Not that I'm proud of it, but he deserved it, \"\n",
      "          'and then some! Regards,'},\n",
      " {'reason': ['his', 'he'],\n",
      "  'text': 'He keeps reverting this, but all he has to do is say that, yes, he '\n",
      "          \"is an adult, and I'm sure we'll be able to take him at his word per \"\n",
      "          'AGF.'},\n",
      " {'reason': ['guy'],\n",
      "  'text': \"Chris, I don't know who you are talking to but it better ain't be \"\n",
      "          'me because you are messing with the wrong guy!\\n'\n",
      "          '\\n'\n",
      "          '  Infonerd2216\\n'\n",
      "          '\\n'\n",
      "          'P.S. Better watch it, or something bad will happen to you and let '\n",
      "          \"me tell ya, i'm not kidding!\"},\n",
      " {'reason': ['guys'],\n",
      "  'text': 'I see you guys are two different people. I apoligize for assuming '\n",
      "          \"you were someone who's been stalking my edits.\"},\n",
      " {'reason': ['man'],\n",
      "  'text': 'Barnstar \\n'\n",
      "          '\\n'\n",
      "          \"I, V. Molotov, give you this Working Man's Barnstar for 2600+ edits \"\n",
      "          'and being diligent Wikipedian.   (talk)  \\n'\n",
      "          '\\n'\n",
      "          'Take care,   (talk)'},\n",
      " {'reason': ['man'],\n",
      "  'text': 'People like you 359 take he virtual world way too seriously. You '\n",
      "          'are obviously trying to make up for a lack of achievement in your '\n",
      "          'real life which you spend too little time. Do you really think any '\n",
      "          'of this is important? Do you really think the work (I use that word '\n",
      "          'lightly)you do here is going to help anyone anywhere ever? Its not! '\n",
      "          'You are a hack and you would be better off taking up bowling or at '\n",
      "          'least something that gets you out of the house... I feel sorry for '\n",
      "          'you old man. You are a sad soul.'},\n",
      " {'reason': ['she'],\n",
      "  'text': 'Foxy Browns Birthday\\n'\n",
      "          '\\n'\n",
      "          'According to Foxy Browns MySpace Account, she is still 26 years '\n",
      "          'old. So she was born on 1979.\\n'\n",
      "          '\\n'\n",
      "          'http://profile.myspace.com/index.cfm?fuseaction=user.viewprofile&friendid;=63520254'},\n",
      " {'reason': ['his'],\n",
      "  'text': \"That's probably because the original author is usually editing \"\n",
      "          'under his normal user name )'},\n",
      " {'reason': ['guys'],\n",
      "  'text': '\"\\n'\n",
      "          \"Just FYI guys, I'm not keeping a very close eye on my watchlist at \"\n",
      "          'the minute, so do feel free to let me know of any other socks or '\n",
      "          'disruptive SPAs that come out of the woodwork.  | Penny for your '\n",
      "          'thoughts?  \"'},\n",
      " {'reason': ['his'],\n",
      "  'text': 'This charade has been going long enough and must have an end now, '\n",
      "          \"if Tbma don't provide any reliable source for his claim or specify \"\n",
      "          'his criticism of the source the NPOV and dispute tag must be '\n",
      "          'removed. \\n'\n",
      "          \"''\"},\n",
      " {'reason': ['brother'],\n",
      "  'text': \"It wasn't me, my brother was using the comp. -\"}]\n",
      "Concept: religion\n",
      "[{'reason': ['jewish'],\n",
      "  'text': '\"\\n'\n",
      "          '\\n'\n",
      "          'I have corrected the two bios that were causing confusion.  These '\n",
      "          'two bio-stubs were not done by me.  I have now expanded them and '\n",
      "          'hope it makes more sense to you.  I had only posted the \"\"Common '\n",
      "          'Chishtiyya Chain in South Asia\"\" only as I found them in historical '\n",
      "          'books like \"\"Mashaikh-e-Chisht\"\".  I do not know how the other '\n",
      "          'people came up with other branches.  They clash with recorded '\n",
      "          'history.  However I am not going to get into the argument.  My '\n",
      "          'immediate target was to complete the bios of the common chain and '\n",
      "          'alhamdulillah I have done it.  I shall next be expanding them '\n",
      "          'slowly.  Then I shall cover the branches of Chishtiyya Order and '\n",
      "          'then go to other order.  Finally my goal is to cover all Sufi '\n",
      "          \"concepts such as Latif-Sitta, Dhikrs, Shaghals, Manazil's etc.  I \"\n",
      "          'hope some day I will do comparitive study of Sufi concepts with '\n",
      "          'Jewish Kaballah, Christian Gnosis, and pagan pantheism to show how '\n",
      "          'they are different  \"'},\n",
      " {'reason': ['christian', 'he'],\n",
      "  'text': \"You're asking for original research. (not allowed in Wiki) Wiki \"\n",
      "          'reports the consensus of scholars which is that he was a deist and '\n",
      "          'not a Christian. that is a verifiable fact and is reported. Maybe '\n",
      "          'he was a really secret Buddhisthow could anyone disprove that? '\n",
      "          'Should Wiki mention that possibility? Try this: name a few '\n",
      "          'prominent Christian leaders who say he was a genuine Christian.   '\n",
      "          'TJ wrote that he rejected Jesus as God or saviour; he rejected '\n",
      "          'miracles; he rejected the gospels as authentic. he thought Jesus '\n",
      "          'had some good ethical ideas.'},\n",
      " {'reason': ['jews', 'his'],\n",
      "  'text': 'NOP \\n'\n",
      "          '\\n'\n",
      "          \"MORDOR'S Jewish beliefs make his version of the article neutral ? I \"\n",
      "          \"don't think so, but I'm ready for compromise as on the discussion \"\n",
      "          'page. I made article neutral, without POV sentences and non '\n",
      "          \"referenced statements + Mordor's criticism about the party. I think \"\n",
      "          'that ban was not needed to solve this problem. I would like to '\n",
      "          \"remind you of Mordor's actions and that his beliefes influence \"\n",
      "          \"Wikipedia's articles from up to down. I don't have anything against \"\n",
      "          'Jews (my uncle is a practicising Jew) but I think that Mordor have '\n",
      "          'to stop spreading only his point of view on Polsih related '\n",
      "          'articles. Please, look at article about NOP now \\n'\n",
      "          '\\n'\n",
      "          'National Revival of Poland, version -  04:04, may 4 2008.\\n'\n",
      "          '\\n'\n",
      "          \"I agree with Mordor's Criticism (which is higlhy positive to keep \"\n",
      "          \"criticism on anything in Wikipedia's articles because nothing is \"\n",
      "          'perfect, but criticism with head and NPOV policy).'},\n",
      " {'reason': ['jewish'],\n",
      "  'text': '\":::::::No it doesn\\'t say anything, except that you seem to be '\n",
      "          'very, very prejudiced against the idea of a sovereign Jewish State. '\n",
      "          'The United Nations in the 1970ies were dominated by an alliance of '\n",
      "          'Soviet Union controlled or influenced countries and pan-Arabist '\n",
      "          'nations. The majority imposed its point of view, but it was not '\n",
      "          'that \"\"right\"\" or \"\"true\"\" as you want us to admit.   \\n'\n",
      "          '\\n'\n",
      "          '\"'},\n",
      " {'reason': ['jews', 'his'],\n",
      "  'text': '\"\\n'\n",
      "          '\\n'\n",
      "          'OKAY, I have now tried to just delete the offensive sentences in '\n",
      "          \"the beginning about Mr. Irving being a socalled 'holocaust denier'. \"\n",
      "          'He says himself he is not, and acknowledges that many jews were '\n",
      "          'killed during the war, however he does not go along with the 6 '\n",
      "          'million jews killed-figure, as he reckons the number to be lower. '\n",
      "          'And it really comes down to that: \"\" David has the right to '\n",
      "          'question anything relating to history and WW2 is his speciality, '\n",
      "          'and he actually makes a living of questioning and critically '\n",
      "          'examining sources.\\n'\n",
      "          '\\n'\n",
      "          'I also decided to delete the account about him loosing a court case '\n",
      "          'in 2000. David have launched several libel cases before - in 1996 '\n",
      "          'he won 45000 £ libel-damage against an English Sunday Newspaper. '\n",
      "          'The fact that he this time lost is not something that should figure '\n",
      "          'at the head of his CV. Many people also find it extraordinary that '\n",
      "          'a judge can deside what a person IS or is not, and what beliefs he '\n",
      "          'holds.\"'},\n",
      " {'reason': ['muslim'],\n",
      "  'text': 'Article is not diverse enough\\n'\n",
      "          'The article is too centered on historical protestant criticisms of '\n",
      "          'the Church, however they are now only a minority of criticisms, '\n",
      "          'when you take into account muslim criticisms (about the Trinity), '\n",
      "          'ewish criticisms (about the identity of the Messiah), buddhist '\n",
      "          'criticisms (about the necesity of dogmas), hindu criticisms (about '\n",
      "          'missionaries), secular critcisms (about the political role of '\n",
      "          'bishops), and many other types sociological and scientific of '\n",
      "          'criticisms. 69.157.229.14'},\n",
      " {'reason': ['russian', 'jewish'],\n",
      "  'text': 'has about Russian Jewish book peddlers'},\n",
      " {'reason': ['jews'],\n",
      "  'text': 'Should we make the same argument for those who self-identify as '\n",
      "          'Jews writing Holocaust articles?  The only possible rationale I '\n",
      "          'could see for prohibiting self-identified pedophiles from writing '\n",
      "          'articles on people claiming child abuse is that it provides right '\n",
      "          'wing cranks with an opportunity to publicly attack Wikipedia.  '\n",
      "          \"Given the collaborative process, it certainly isn't going to make \"\n",
      "          'any difference in the quality of the resulting article, and most '\n",
      "          \"minor attracted adults editing Wikipedia aren't going to publicly \"\n",
      "          'announce their orientation anyway.'},\n",
      " {'reason': ['christ'],\n",
      "  'text': 'No, people do not use Christianity to refer specifically to '\n",
      "          'Mormonism.  Mormonism is used to refer to Mormonism specifically.  '\n",
      "          'Christianianity is used  to refer, much more generally, to all '\n",
      "          \"religions that worship Jesus Christ.I don't see any references to \"\n",
      "          'Mormonism in that article.'},\n",
      " {'reason': ['english', 'jew'],\n",
      "  'text': '\"\\n'\n",
      "          '\\n'\n",
      "          'hehe, you *ARE* truly pathetic Zereshk, as I have pointed out to '\n",
      "          'you before.  You know damn well that the term \"\"racism\"\" or '\n",
      "          '\"\"racist comment\"\" doesn not apply in Iran in the same way that it '\n",
      "          'applies in countries with true racist history, such as USA and many '\n",
      "          'European countries.  The fact that you are using your familiarity '\n",
      "          'with the English language to get a cheap \"\"winning point\"\" out of a '\n",
      "          'lost game, tells us how weak and pathetic you are.  In absolutely '\n",
      "          'BEST of circumstances, you can associate \"\"turk\"\" in Persian slang '\n",
      "          'with \"\"ethnicity\"\" but if you really grew up in Iran as you claim '\n",
      "          'you did, you know damn well what it is.  And especially \"\"torke '\n",
      "          'tablo\"\", which you are.  Given your pathetic edit history of \"\"all '\n",
      "          'image and no substance\"\" I repeat, I is hard to imagine a lower and '\n",
      "          'less self-respecting Iranian than you.  You were born to be '\n",
      "          'wannabee-western and as such, Iranians like you deserve to be '\n",
      "          'jew-slaves.   \"'},\n",
      " {'reason': ['christian'],\n",
      "  'text': 'Can I ask what is wrong with the Walmart source?\\n'\n",
      "          'It explicitly lists the band in the Christian rock genre.'},\n",
      " {'reason': ['jewish'],\n",
      "  'text': '\"\\n'\n",
      "          'The fact that it is in the \"\"accused\"\" category instead of just '\n",
      "          'Category:Terrorist organizations implies that the accusation was '\n",
      "          'and is hotly disputed.  In fact, are you suggesting that there is '\n",
      "          'any accusation of terrorism that has ever not been disputed by '\n",
      "          'someone or other?\\n'\n",
      "          '\\n'\n",
      "          'Essentially, you are a Lehi supporter trying to make Lehi look as '\n",
      "          'good as possible.  Compare this with the situation with Al Qaeda.  '\n",
      "          'There, I am having a hard time keeping the article in  '\n",
      "          'Category:Organizations accused of terrorism, not because there is '\n",
      "          'anyone wanting not to label the organization, but because everyone '\n",
      "          \"wants it in Category:Terrorist organizations!  It's crazy.  You \"\n",
      "          'partisans want your favourite terrorist organisations free of '\n",
      "          \"labels, and your enemies' organizations labelled as \"\n",
      "          '\"\"terrorist\"\".  Since there are more Jewish and Christian people '\n",
      "          'editing Wikipedia than Muslims, this means that some get the label, '\n",
      "          \"and others don't.\\n\"\n",
      "          '\\n'\n",
      "          \"I'm afraid that this situation is not acceptable.  Pro-terrorists \"\n",
      "          'are going to have to accept that we have an NPOV policy, and that '\n",
      "          'all of these organizations will be categorised in a neutral '\n",
      "          'manner.  —\\xa0 ✉ \"'},\n",
      " {'reason': ['jew'],\n",
      "  'text': 'POV \\n'\n",
      "          'By what criteria do you define someone as a former Jew? One cannot '\n",
      "          \"change from a Jew to a non-Jew. This list seems to be someone's \"\n",
      "          'POV.\\n'\n",
      "          '\\n'\n",
      "          '95.147.191.30  \\n'\n",
      "          '\\n'\n",
      "          'Rename?'}]\n"
     ]
    }
   ],
   "source": [
    "detection_res.details(group_by_concept=True)"
   ]
  },
  {
   "cell_type": "code",
   "execution_count": 14,
   "id": "0eaef933-c3ff-4268-b4fd-7e9966fa7956",
   "metadata": {},
   "outputs": [],
   "source": [
    "test_df = df.iloc[test_texts.index]"
   ]
  },
  {
   "cell_type": "code",
   "execution_count": 15,
   "id": "262dcc47-effc-4c00-8830-70c63bf6b573",
   "metadata": {},
   "outputs": [
    {
     "data": {
      "text/plain": [
       "'JLaTondre is a gay boy who likes to suck dick \\n\\nJLaTondre edits pages like flys on poop.\\n\\nIf I created a wikipage about my family I am sure JLaTondre would delete it.\\n\\nI created a historical database. Wealth about my family name and to test it out on wikipedia.\\n\\nI am sure JLaTondre would love to delete it.\\n\\nJLaTondre already deleted a page dedicated to a NOW DEAD and EXPIRED company I used to work for.\\n\\nJLaTondre!!!\\n\\nYou know nothing about my family or my company!\\n\\nWhat are you?  12 years old?'"
      ]
     },
     "execution_count": 15,
     "metadata": {},
     "output_type": "execute_result"
    }
   ],
   "source": [
    "test_df[test_df.target].reset_index().comment_text[4]"
   ]
  },
  {
   "cell_type": "code",
   "execution_count": 17,
   "id": "2d4df703-5419-495e-a6d7-f58952c523d1",
   "metadata": {
    "tags": []
   },
   "outputs": [
    {
     "data": {
      "text/html": [
       "<style>\n",
       "        .bk-notebook-logo {\n",
       "            display: block;\n",
       "            width: 20px;\n",
       "            height: 20px;\n",
       "            background-image: url(data:image/png;base64,iVBORw0KGgoAAAANSUhEUgAAABQAAAAUCAYAAACNiR0NAAAABHNCSVQICAgIfAhkiAAAAAlwSFlzAAALEgAACxIB0t1+/AAAABx0RVh0U29mdHdhcmUAQWRvYmUgRmlyZXdvcmtzIENTNui8sowAAAOkSURBVDiNjZRtaJVlGMd/1/08zzln5zjP1LWcU9N0NkN8m2CYjpgQYQXqSs0I84OLIC0hkEKoPtiH3gmKoiJDU7QpLgoLjLIQCpEsNJ1vqUOdO7ppbuec5+V+rj4ctwzd8IIbbi6u+8f1539dt3A78eXC7QizUF7gyV1fD1Yqg4JWz84yffhm0qkFqBogB9rM8tZdtwVsPUhWhGcFJngGeWrPzHm5oaMmkfEg1usvLFyc8jLRqDOMru7AyC8saQr7GG7f5fvDeH7Ej8CM66nIF+8yngt6HWaKh7k49Soy9nXurCi1o3qUbS3zWfrYeQDTB/Qj6kX6Ybhw4B+bOYoLKCC9H3Nu/leUTZ1JdRWkkn2ldcCamzrcf47KKXdAJllSlxAOkRgyHsGC/zRday5Qld9DyoM4/q/rUoy/CXh3jzOu3bHUVZeU+DEn8FInkPBFlu3+nW3Nw0mk6vCDiWg8CeJaxEwuHS3+z5RgY+YBR6V1Z1nxSOfoaPa4LASWxxdNp+VWTk7+4vzaou8v8PN+xo+KY2xsw6une2frhw05CTYOmQvsEhjhWjn0bmXPjpE1+kplmmkP3suftwTubK9Vq22qKmrBhpY4jvd5afdRA3wGjFAgcnTK2s4hY0/GPNIb0nErGMCRxWOOX64Z8RAC4oCXdklmEvcL8o0BfkNK4lUg9HTl+oPlQxdNo3Mg4Nv175e/1LDGzZen30MEjRUtmXSfiTVu1kK8W4txyV6BMKlbgk3lMwYCiusNy9fVfvvwMxv8Ynl6vxoByANLTWplvuj/nF9m2+PDtt1eiHPBr1oIfhCChQMBw6Aw0UulqTKZdfVvfG7VcfIqLG9bcldL/+pdWTLxLUy8Qq38heUIjh4XlzZxzQm19lLFlr8vdQ97rjZVOLf8nclzckbcD4wxXMidpX30sFd37Fv/GtwwhzhxGVAprjbg0gCAEeIgwCZyTV2Z1REEW8O4py0wsjeloKoMr6iCY6dP92H6Vw/oTyICIthibxjm/DfN9lVz8IqtqKYLUXfoKVMVQVVJOElGjrnnUt9T9wbgp8AyYKaGlqingHZU/uG2NTZSVqwHQTWkx9hxjkpWDaCg6Ckj5qebgBVbT3V3NNXMSiWSDdGV3hrtzla7J+duwPOToIg42ChPQOQjspnSlp1V+Gjdged7+8UN5CRAV7a5EdFNwCjEaBR27b3W890TE7g24NAP/mMDXRWrGoFPQI9ls/MWO2dWFAar/xcOIImbbpA3zgAAAABJRU5ErkJggg==);\n",
       "        }\n",
       "    </style>\n",
       "    <div>\n",
       "        <a href=\"https://bokeh.org\" target=\"_blank\" class=\"bk-notebook-logo\"></a>\n",
       "        <span id=\"p1001\">Loading BokehJS ...</span>\n",
       "    </div>\n"
      ]
     },
     "metadata": {},
     "output_type": "display_data"
    },
    {
     "data": {
      "application/javascript": [
       "(function(root) {\n",
       "  function now() {\n",
       "    return new Date();\n",
       "  }\n",
       "\n",
       "  const force = true;\n",
       "\n",
       "  if (typeof root._bokeh_onload_callbacks === \"undefined\" || force === true) {\n",
       "    root._bokeh_onload_callbacks = [];\n",
       "    root._bokeh_is_loading = undefined;\n",
       "  }\n",
       "\n",
       "const JS_MIME_TYPE = 'application/javascript';\n",
       "  const HTML_MIME_TYPE = 'text/html';\n",
       "  const EXEC_MIME_TYPE = 'application/vnd.bokehjs_exec.v0+json';\n",
       "  const CLASS_NAME = 'output_bokeh rendered_html';\n",
       "\n",
       "  /**\n",
       "   * Render data to the DOM node\n",
       "   */\n",
       "  function render(props, node) {\n",
       "    const script = document.createElement(\"script\");\n",
       "    node.appendChild(script);\n",
       "  }\n",
       "\n",
       "  /**\n",
       "   * Handle when an output is cleared or removed\n",
       "   */\n",
       "  function handleClearOutput(event, handle) {\n",
       "    const cell = handle.cell;\n",
       "\n",
       "    const id = cell.output_area._bokeh_element_id;\n",
       "    const server_id = cell.output_area._bokeh_server_id;\n",
       "    // Clean up Bokeh references\n",
       "    if (id != null && id in Bokeh.index) {\n",
       "      Bokeh.index[id].model.document.clear();\n",
       "      delete Bokeh.index[id];\n",
       "    }\n",
       "\n",
       "    if (server_id !== undefined) {\n",
       "      // Clean up Bokeh references\n",
       "      const cmd_clean = \"from bokeh.io.state import curstate; print(curstate().uuid_to_server['\" + server_id + \"'].get_sessions()[0].document.roots[0]._id)\";\n",
       "      cell.notebook.kernel.execute(cmd_clean, {\n",
       "        iopub: {\n",
       "          output: function(msg) {\n",
       "            const id = msg.content.text.trim();\n",
       "            if (id in Bokeh.index) {\n",
       "              Bokeh.index[id].model.document.clear();\n",
       "              delete Bokeh.index[id];\n",
       "            }\n",
       "          }\n",
       "        }\n",
       "      });\n",
       "      // Destroy server and session\n",
       "      const cmd_destroy = \"import bokeh.io.notebook as ion; ion.destroy_server('\" + server_id + \"')\";\n",
       "      cell.notebook.kernel.execute(cmd_destroy);\n",
       "    }\n",
       "  }\n",
       "\n",
       "  /**\n",
       "   * Handle when a new output is added\n",
       "   */\n",
       "  function handleAddOutput(event, handle) {\n",
       "    const output_area = handle.output_area;\n",
       "    const output = handle.output;\n",
       "\n",
       "    // limit handleAddOutput to display_data with EXEC_MIME_TYPE content only\n",
       "    if ((output.output_type != \"display_data\") || (!Object.prototype.hasOwnProperty.call(output.data, EXEC_MIME_TYPE))) {\n",
       "      return\n",
       "    }\n",
       "\n",
       "    const toinsert = output_area.element.find(\".\" + CLASS_NAME.split(' ')[0]);\n",
       "\n",
       "    if (output.metadata[EXEC_MIME_TYPE][\"id\"] !== undefined) {\n",
       "      toinsert[toinsert.length - 1].firstChild.textContent = output.data[JS_MIME_TYPE];\n",
       "      // store reference to embed id on output_area\n",
       "      output_area._bokeh_element_id = output.metadata[EXEC_MIME_TYPE][\"id\"];\n",
       "    }\n",
       "    if (output.metadata[EXEC_MIME_TYPE][\"server_id\"] !== undefined) {\n",
       "      const bk_div = document.createElement(\"div\");\n",
       "      bk_div.innerHTML = output.data[HTML_MIME_TYPE];\n",
       "      const script_attrs = bk_div.children[0].attributes;\n",
       "      for (let i = 0; i < script_attrs.length; i++) {\n",
       "        toinsert[toinsert.length - 1].firstChild.setAttribute(script_attrs[i].name, script_attrs[i].value);\n",
       "        toinsert[toinsert.length - 1].firstChild.textContent = bk_div.children[0].textContent\n",
       "      }\n",
       "      // store reference to server id on output_area\n",
       "      output_area._bokeh_server_id = output.metadata[EXEC_MIME_TYPE][\"server_id\"];\n",
       "    }\n",
       "  }\n",
       "\n",
       "  function register_renderer(events, OutputArea) {\n",
       "\n",
       "    function append_mime(data, metadata, element) {\n",
       "      // create a DOM node to render to\n",
       "      const toinsert = this.create_output_subarea(\n",
       "        metadata,\n",
       "        CLASS_NAME,\n",
       "        EXEC_MIME_TYPE\n",
       "      );\n",
       "      this.keyboard_manager.register_events(toinsert);\n",
       "      // Render to node\n",
       "      const props = {data: data, metadata: metadata[EXEC_MIME_TYPE]};\n",
       "      render(props, toinsert[toinsert.length - 1]);\n",
       "      element.append(toinsert);\n",
       "      return toinsert\n",
       "    }\n",
       "\n",
       "    /* Handle when an output is cleared or removed */\n",
       "    events.on('clear_output.CodeCell', handleClearOutput);\n",
       "    events.on('delete.Cell', handleClearOutput);\n",
       "\n",
       "    /* Handle when a new output is added */\n",
       "    events.on('output_added.OutputArea', handleAddOutput);\n",
       "\n",
       "    /**\n",
       "     * Register the mime type and append_mime function with output_area\n",
       "     */\n",
       "    OutputArea.prototype.register_mime_type(EXEC_MIME_TYPE, append_mime, {\n",
       "      /* Is output safe? */\n",
       "      safe: true,\n",
       "      /* Index of renderer in `output_area.display_order` */\n",
       "      index: 0\n",
       "    });\n",
       "  }\n",
       "\n",
       "  // register the mime type if in Jupyter Notebook environment and previously unregistered\n",
       "  if (root.Jupyter !== undefined) {\n",
       "    const events = require('base/js/events');\n",
       "    const OutputArea = require('notebook/js/outputarea').OutputArea;\n",
       "\n",
       "    if (OutputArea.prototype.mime_types().indexOf(EXEC_MIME_TYPE) == -1) {\n",
       "      register_renderer(events, OutputArea);\n",
       "    }\n",
       "  }\n",
       "  if (typeof (root._bokeh_timeout) === \"undefined\" || force === true) {\n",
       "    root._bokeh_timeout = Date.now() + 5000;\n",
       "    root._bokeh_failed_load = false;\n",
       "  }\n",
       "\n",
       "  const NB_LOAD_WARNING = {'data': {'text/html':\n",
       "     \"<div style='background-color: #fdd'>\\n\"+\n",
       "     \"<p>\\n\"+\n",
       "     \"BokehJS does not appear to have successfully loaded. If loading BokehJS from CDN, this \\n\"+\n",
       "     \"may be due to a slow or bad network connection. Possible fixes:\\n\"+\n",
       "     \"</p>\\n\"+\n",
       "     \"<ul>\\n\"+\n",
       "     \"<li>re-rerun `output_notebook()` to attempt to load from CDN again, or</li>\\n\"+\n",
       "     \"<li>use INLINE resources instead, as so:</li>\\n\"+\n",
       "     \"</ul>\\n\"+\n",
       "     \"<code>\\n\"+\n",
       "     \"from bokeh.resources import INLINE\\n\"+\n",
       "     \"output_notebook(resources=INLINE)\\n\"+\n",
       "     \"</code>\\n\"+\n",
       "     \"</div>\"}};\n",
       "\n",
       "  function display_loaded() {\n",
       "    const el = document.getElementById(\"p1001\");\n",
       "    if (el != null) {\n",
       "      el.textContent = \"BokehJS is loading...\";\n",
       "    }\n",
       "    if (root.Bokeh !== undefined) {\n",
       "      if (el != null) {\n",
       "        el.textContent = \"BokehJS \" + root.Bokeh.version + \" successfully loaded.\";\n",
       "      }\n",
       "    } else if (Date.now() < root._bokeh_timeout) {\n",
       "      setTimeout(display_loaded, 100)\n",
       "    }\n",
       "  }\n",
       "\n",
       "  function run_callbacks() {\n",
       "    try {\n",
       "      root._bokeh_onload_callbacks.forEach(function(callback) {\n",
       "        if (callback != null)\n",
       "          callback();\n",
       "      });\n",
       "    } finally {\n",
       "      delete root._bokeh_onload_callbacks\n",
       "    }\n",
       "    console.debug(\"Bokeh: all callbacks have finished\");\n",
       "  }\n",
       "\n",
       "  function load_libs(css_urls, js_urls, callback) {\n",
       "    if (css_urls == null) css_urls = [];\n",
       "    if (js_urls == null) js_urls = [];\n",
       "\n",
       "    root._bokeh_onload_callbacks.push(callback);\n",
       "    if (root._bokeh_is_loading > 0) {\n",
       "      console.debug(\"Bokeh: BokehJS is being loaded, scheduling callback at\", now());\n",
       "      return null;\n",
       "    }\n",
       "    if (js_urls == null || js_urls.length === 0) {\n",
       "      run_callbacks();\n",
       "      return null;\n",
       "    }\n",
       "    console.debug(\"Bokeh: BokehJS not loaded, scheduling load and callback at\", now());\n",
       "    root._bokeh_is_loading = css_urls.length + js_urls.length;\n",
       "\n",
       "    function on_load() {\n",
       "      root._bokeh_is_loading--;\n",
       "      if (root._bokeh_is_loading === 0) {\n",
       "        console.debug(\"Bokeh: all BokehJS libraries/stylesheets loaded\");\n",
       "        run_callbacks()\n",
       "      }\n",
       "    }\n",
       "\n",
       "    function on_error(url) {\n",
       "      console.error(\"failed to load \" + url);\n",
       "    }\n",
       "\n",
       "    for (let i = 0; i < css_urls.length; i++) {\n",
       "      const url = css_urls[i];\n",
       "      const element = document.createElement(\"link\");\n",
       "      element.onload = on_load;\n",
       "      element.onerror = on_error.bind(null, url);\n",
       "      element.rel = \"stylesheet\";\n",
       "      element.type = \"text/css\";\n",
       "      element.href = url;\n",
       "      console.debug(\"Bokeh: injecting link tag for BokehJS stylesheet: \", url);\n",
       "      document.body.appendChild(element);\n",
       "    }\n",
       "\n",
       "    for (let i = 0; i < js_urls.length; i++) {\n",
       "      const url = js_urls[i];\n",
       "      const element = document.createElement('script');\n",
       "      element.onload = on_load;\n",
       "      element.onerror = on_error.bind(null, url);\n",
       "      element.async = false;\n",
       "      element.src = url;\n",
       "      console.debug(\"Bokeh: injecting script tag for BokehJS library: \", url);\n",
       "      document.head.appendChild(element);\n",
       "    }\n",
       "  };\n",
       "\n",
       "  function inject_raw_css(css) {\n",
       "    const element = document.createElement(\"style\");\n",
       "    element.appendChild(document.createTextNode(css));\n",
       "    document.body.appendChild(element);\n",
       "  }\n",
       "\n",
       "  const js_urls = [\"https://cdn.bokeh.org/bokeh/release/bokeh-3.1.0.min.js\", \"https://cdn.bokeh.org/bokeh/release/bokeh-gl-3.1.0.min.js\", \"https://cdn.bokeh.org/bokeh/release/bokeh-widgets-3.1.0.min.js\", \"https://cdn.bokeh.org/bokeh/release/bokeh-tables-3.1.0.min.js\", \"https://cdn.bokeh.org/bokeh/release/bokeh-mathjax-3.1.0.min.js\"];\n",
       "  const css_urls = [];\n",
       "\n",
       "  const inline_js = [    function(Bokeh) {\n",
       "      Bokeh.set_log_level(\"info\");\n",
       "    },\n",
       "function(Bokeh) {\n",
       "    }\n",
       "  ];\n",
       "\n",
       "  function run_inline_js() {\n",
       "    if (root.Bokeh !== undefined || force === true) {\n",
       "          for (let i = 0; i < inline_js.length; i++) {\n",
       "      inline_js[i].call(root, root.Bokeh);\n",
       "    }\n",
       "if (force === true) {\n",
       "        display_loaded();\n",
       "      }} else if (Date.now() < root._bokeh_timeout) {\n",
       "      setTimeout(run_inline_js, 100);\n",
       "    } else if (!root._bokeh_failed_load) {\n",
       "      console.log(\"Bokeh: BokehJS failed to load within specified timeout.\");\n",
       "      root._bokeh_failed_load = true;\n",
       "    } else if (force !== true) {\n",
       "      const cell = $(document.getElementById(\"p1001\")).parents('.cell').data().cell;\n",
       "      cell.output_area.append_execute_result(NB_LOAD_WARNING)\n",
       "    }\n",
       "  }\n",
       "\n",
       "  if (root._bokeh_is_loading === 0) {\n",
       "    console.debug(\"Bokeh: BokehJS loaded, going straight to plotting\");\n",
       "    run_inline_js();\n",
       "  } else {\n",
       "    load_libs(css_urls, js_urls, function() {\n",
       "      console.debug(\"Bokeh: BokehJS plotting callback run at\", now());\n",
       "      run_inline_js();\n",
       "    });\n",
       "  }\n",
       "}(window));"
      ],
      "application/vnd.bokehjs_load.v0+json": "(function(root) {\n  function now() {\n    return new Date();\n  }\n\n  const force = true;\n\n  if (typeof root._bokeh_onload_callbacks === \"undefined\" || force === true) {\n    root._bokeh_onload_callbacks = [];\n    root._bokeh_is_loading = undefined;\n  }\n\n\n  if (typeof (root._bokeh_timeout) === \"undefined\" || force === true) {\n    root._bokeh_timeout = Date.now() + 5000;\n    root._bokeh_failed_load = false;\n  }\n\n  const NB_LOAD_WARNING = {'data': {'text/html':\n     \"<div style='background-color: #fdd'>\\n\"+\n     \"<p>\\n\"+\n     \"BokehJS does not appear to have successfully loaded. If loading BokehJS from CDN, this \\n\"+\n     \"may be due to a slow or bad network connection. Possible fixes:\\n\"+\n     \"</p>\\n\"+\n     \"<ul>\\n\"+\n     \"<li>re-rerun `output_notebook()` to attempt to load from CDN again, or</li>\\n\"+\n     \"<li>use INLINE resources instead, as so:</li>\\n\"+\n     \"</ul>\\n\"+\n     \"<code>\\n\"+\n     \"from bokeh.resources import INLINE\\n\"+\n     \"output_notebook(resources=INLINE)\\n\"+\n     \"</code>\\n\"+\n     \"</div>\"}};\n\n  function display_loaded() {\n    const el = document.getElementById(\"p1001\");\n    if (el != null) {\n      el.textContent = \"BokehJS is loading...\";\n    }\n    if (root.Bokeh !== undefined) {\n      if (el != null) {\n        el.textContent = \"BokehJS \" + root.Bokeh.version + \" successfully loaded.\";\n      }\n    } else if (Date.now() < root._bokeh_timeout) {\n      setTimeout(display_loaded, 100)\n    }\n  }\n\n  function run_callbacks() {\n    try {\n      root._bokeh_onload_callbacks.forEach(function(callback) {\n        if (callback != null)\n          callback();\n      });\n    } finally {\n      delete root._bokeh_onload_callbacks\n    }\n    console.debug(\"Bokeh: all callbacks have finished\");\n  }\n\n  function load_libs(css_urls, js_urls, callback) {\n    if (css_urls == null) css_urls = [];\n    if (js_urls == null) js_urls = [];\n\n    root._bokeh_onload_callbacks.push(callback);\n    if (root._bokeh_is_loading > 0) {\n      console.debug(\"Bokeh: BokehJS is being loaded, scheduling callback at\", now());\n      return null;\n    }\n    if (js_urls == null || js_urls.length === 0) {\n      run_callbacks();\n      return null;\n    }\n    console.debug(\"Bokeh: BokehJS not loaded, scheduling load and callback at\", now());\n    root._bokeh_is_loading = css_urls.length + js_urls.length;\n\n    function on_load() {\n      root._bokeh_is_loading--;\n      if (root._bokeh_is_loading === 0) {\n        console.debug(\"Bokeh: all BokehJS libraries/stylesheets loaded\");\n        run_callbacks()\n      }\n    }\n\n    function on_error(url) {\n      console.error(\"failed to load \" + url);\n    }\n\n    for (let i = 0; i < css_urls.length; i++) {\n      const url = css_urls[i];\n      const element = document.createElement(\"link\");\n      element.onload = on_load;\n      element.onerror = on_error.bind(null, url);\n      element.rel = \"stylesheet\";\n      element.type = \"text/css\";\n      element.href = url;\n      console.debug(\"Bokeh: injecting link tag for BokehJS stylesheet: \", url);\n      document.body.appendChild(element);\n    }\n\n    for (let i = 0; i < js_urls.length; i++) {\n      const url = js_urls[i];\n      const element = document.createElement('script');\n      element.onload = on_load;\n      element.onerror = on_error.bind(null, url);\n      element.async = false;\n      element.src = url;\n      console.debug(\"Bokeh: injecting script tag for BokehJS library: \", url);\n      document.head.appendChild(element);\n    }\n  };\n\n  function inject_raw_css(css) {\n    const element = document.createElement(\"style\");\n    element.appendChild(document.createTextNode(css));\n    document.body.appendChild(element);\n  }\n\n  const js_urls = [\"https://cdn.bokeh.org/bokeh/release/bokeh-3.1.0.min.js\", \"https://cdn.bokeh.org/bokeh/release/bokeh-gl-3.1.0.min.js\", \"https://cdn.bokeh.org/bokeh/release/bokeh-widgets-3.1.0.min.js\", \"https://cdn.bokeh.org/bokeh/release/bokeh-tables-3.1.0.min.js\", \"https://cdn.bokeh.org/bokeh/release/bokeh-mathjax-3.1.0.min.js\"];\n  const css_urls = [];\n\n  const inline_js = [    function(Bokeh) {\n      Bokeh.set_log_level(\"info\");\n    },\nfunction(Bokeh) {\n    }\n  ];\n\n  function run_inline_js() {\n    if (root.Bokeh !== undefined || force === true) {\n          for (let i = 0; i < inline_js.length; i++) {\n      inline_js[i].call(root, root.Bokeh);\n    }\nif (force === true) {\n        display_loaded();\n      }} else if (Date.now() < root._bokeh_timeout) {\n      setTimeout(run_inline_js, 100);\n    } else if (!root._bokeh_failed_load) {\n      console.log(\"Bokeh: BokehJS failed to load within specified timeout.\");\n      root._bokeh_failed_load = true;\n    } else if (force !== true) {\n      const cell = $(document.getElementById(\"p1001\")).parents('.cell').data().cell;\n      cell.output_area.append_execute_result(NB_LOAD_WARNING)\n    }\n  }\n\n  if (root._bokeh_is_loading === 0) {\n    console.debug(\"Bokeh: BokehJS loaded, going straight to plotting\");\n    run_inline_js();\n  } else {\n    load_libs(css_urls, js_urls, function() {\n      console.debug(\"Bokeh: BokehJS plotting callback run at\", now());\n      run_inline_js();\n    });\n  }\n}(window));"
     },
     "metadata": {},
     "output_type": "display_data"
    },
    {
     "data": {
      "application/vnd.bokehjs_exec.v0+json": "",
      "text/html": [
       "<script id=\"p1002\">\n",
       "  (function() {\n",
       "    const xhr = new XMLHttpRequest()\n",
       "    xhr.responseType = 'blob';\n",
       "    xhr.open('GET', \"http://localhost:42303/autoload.js?bokeh-autoload-element=p1002&bokeh-absolute-url=http://localhost:42303&resources=none\", true);\n",
       "    xhr.onload = function (event) {\n",
       "      const script = document.createElement('script');\n",
       "      const src = URL.createObjectURL(event.target.response);\n",
       "      script.src = src;\n",
       "      document.body.appendChild(script);\n",
       "    };\n",
       "    xhr.send();\n",
       "  })();\n",
       "</script>"
      ]
     },
     "metadata": {
      "application/vnd.bokehjs_exec.v0+json": {
       "server_id": "b477b023099c4ff38d676203bb1f84ca"
      }
     },
     "output_type": "display_data"
    }
   ],
   "source": [
    "from bokeh.io import show, output_notebook\n",
    "\n",
    "output_notebook()\n",
    "\n",
    "dashboard = detection_res.dashboard()\n",
    "show(dashboard)"
   ]
  },
  {
   "cell_type": "code",
   "execution_count": 19,
   "id": "dbd1fdbf-b943-4d31-be13-281b60142c7e",
   "metadata": {
    "tags": []
   },
   "outputs": [
    {
     "data": {
      "application/vnd.bokehjs_exec.v0+json": "",
      "text/html": [
       "<script id=\"p1003\">\n",
       "  (function() {\n",
       "    const xhr = new XMLHttpRequest()\n",
       "    xhr.responseType = 'blob';\n",
       "    xhr.open('GET', \"http://localhost:39037/autoload.js?bokeh-autoload-element=p1003&bokeh-absolute-url=http://localhost:39037&resources=none\", true);\n",
       "    xhr.onload = function (event) {\n",
       "      const script = document.createElement('script');\n",
       "      const src = URL.createObjectURL(event.target.response);\n",
       "      script.src = src;\n",
       "      document.body.appendChild(script);\n",
       "    };\n",
       "    xhr.send();\n",
       "  })();\n",
       "</script>"
      ]
     },
     "metadata": {
      "application/vnd.bokehjs_exec.v0+json": {
       "server_id": "75ed626c29be4bf7af8a81a3a7a66530"
      }
     },
     "output_type": "display_data"
    }
   ],
   "source": [
    "pos_dashboard = detection_res.dashboard(use_position=True)\n",
    "show(pos_dashboard)"
   ]
  },
  {
   "cell_type": "markdown",
   "id": "06b71d99-249e-4674-b5db-85bdcd075a00",
   "metadata": {},
   "source": [
    "## Try to cluster detected biases"
   ]
  },
  {
   "cell_type": "code",
   "execution_count": 48,
   "id": "4102b14b-89d1-4e2a-abd9-70d596816bd4",
   "metadata": {
    "tags": []
   },
   "outputs": [],
   "source": [
    "from sentence_transformers import SentenceTransformer\n",
    "from bertopic import BERTopic\n",
    "from umap import UMAP\n",
    "from hdbscan import HDBSCAN\n",
    "from sklearn.feature_extraction.text import CountVectorizer"
   ]
  },
  {
   "cell_type": "code",
   "execution_count": 50,
   "id": "a49477b8-bb07-4135-9a56-b696a839df82",
   "metadata": {
    "tags": []
   },
   "outputs": [],
   "source": [
    "# Prepare embeddings\n",
    "docs = [sample.text for sample in detection_res.biased_samples]\n",
    "y = [\", \".join(sample.bias_concepts) for sample in detection_res.biased_samples]\n",
    "sentence_model = SentenceTransformer(\"all-MiniLM-L6-v2\")\n",
    "vectorizer_model = CountVectorizer(stop_words=\"english\")\n",
    "embeddings = sentence_model.encode(docs, show_progress_bar=False)\n",
    "\n",
    "hdbscan_model = HDBSCAN(min_cluster_size=5, metric='euclidean', cluster_selection_method='eom', max_cluster_size=25)\n",
    "# Train BERTopic\n",
    "topic_model = BERTopic(hdbscan_model=hdbscan_model, vectorizer_model=vectorizer_model).fit(docs, embeddings)"
   ]
  },
  {
   "cell_type": "code",
   "execution_count": 51,
   "id": "02adc8ef-b7c1-4ffd-9993-eb67c50ba1ae",
   "metadata": {
    "tags": []
   },
   "outputs": [
    {
     "data": {
      "application/vnd.plotly.v1+json": {
       "config": {
        "plotlyServerURL": "https://plot.ly"
       },
       "data": [
        {
         "hoverinfo": "text",
         "hovertext": [
          "About user 'Aspects' \n\nIndeed! It appears that several people have been annoyed by that nitwit, not just you and me. I invite you to review his answer and what I replied to it. Not that I'm proud of it, but he deserved it, and then some! Regards,",
          "Wikipedia:Requests_for_arbitration/ArmchairVexillologistDon#Final_decision \nI wish to let you know that the user that is the subject to this RFAr has returned. He came back August 6 .  (Sound Off)",
          "Said at GGTF arbitration\nSome people seem to think that ArbCom is so naive they don't know that the Manchester Gangbangers and their cronies/minions are engaged in institutionalized harassment using ArbCom as one of their harassment tools. They think just explaining that will open their eyes and they'll do the right thing.\nNo, the only thing that will clear Wikipedia of this vicious coterie is a national publicity campaign to pressure the WMF into enforcing its Terms of Service, including against culpable ArbCom members. (I see several Sitush/Corbett/ cronies/minions are running for the next Arbitration Committee.) And I'm one of dozens who see it that way, we just haven't decided where to organize our efforts.  Just because their tactic worked on silencing 1.2 billion Indians with their Brit imperialist drivel doesn't mean it will work on silencing 3.3 billion women.  After all 1/2 the members of the Board are women.   (Talkie-Talkie)",
          "Kansas Bear supports all the anti-Turkish acts that i know, keep an eye on me, but i keep on you Kansas bear.Contributions/62.248.42.19",
          "REDIRECT Talk:Mount Hope Cemetery (San Diego, California)",
          "\"\n\nI have corrected the two bios that were causing confusion.  These two bio-stubs were not done by me.  I have now expanded them and hope it makes more sense to you.  I had only posted the \"\"Common Chishtiyya Chain in South Asia\"\" only as I found them in historical books like \"\"Mashaikh-e-Chisht\"\".  I do not know how the other people came up with other branches.  They clash with recorded history.  However I am not going to get into the argument.  My immediate target was to complete the bios of the common chain and alhamdulillah I have done it.  I shall next be expanding them slowly.  Then I shall cover the branches of Chishtiyya Order and then go to other order.  Finally my goal is to cover all Sufi concepts such as Latif-Sitta, Dhikrs, Shaghals, Manazil's etc.  I hope some day I will do comparitive study of Sufi concepts with Jewish Kaballah, Christian Gnosis, and pagan pantheism to show how they are different  \"",
          "from where he makes most of his edits",
          "\"\nIt occurs to me that you might react badly to a suggestion to join NAMBLA because in their case, it is men who are having sex with 12 year old boys.  I didn't consider that you could have totally different standards for adult men and women  for that I apologize.  I will remove \"\"NAMBLA\"\" from my sentence above.    \"",
          "\"Because so many Turkish-people today claim to be a descendant of Oghuz Khan, male members of the Amucalar, descendants of Gündüz Gazi, the older brother of \"\"Osman I, tested their Y-DNA. Genetic history of the Turkish people, shows that the common ancestor \"\"Ertuğrul\"\", belonged to haplogroup: R1a=6.9% - Typical of Central Asian, Caucasus, Eastern Europeans and Indo-Aryan people.\n\nhttp://www.ysearch.org/search_view.asp?uid=XWBWW&viewuid;=FTEMF&p;=1\n\n  \"",
          "Heraldic translation: help needed \nPlease can you translate a blazon. I drew the coat of arms of Coubron but I don't know how to describe in English the hunting horn on which some elements are of an other colour: the little pipe in which you blow, the lace and the metal ring at the end of the horn. Can you help me, please?",
          "Mangalore\nYou list me creating Mangalore, Victoria on this page.\nThat article is about a town in Australia and NOT the one in Karnataka.",
          "This charade has been going long enough and must have an end now, if Tbma don't provide any reliable source for his claim or specify his criticism of the source the NPOV and dispute tag must be removed. \n''",
          "Agreed.  In addition, Mr. Inglis seems intent on keeping links to his original resarch on the subject in the EL section.  I don't believe it belongs there. The Dissident Aggressor",
          "\"\n\n Animated Meaning of Vergina Sun \n\nHey all, I found a beautiful .gif that shows the analysis of the 16 lines of the Vergina Sun\nthe 4 Elements -Fire, Air, Water, Earth and the 12 Greek Gods (Olympians)-Zeus, Hera, Poseidon, Demeter, Ares, Hermes, Hephaestus, Aphrodite, Athena, Apollo, Artemis, Hestia and their classification-male/female/celestial/water etc.\n\nwhat do you think? I think it would be appropriate to be included in the \"\"Interpretations of the symbol\"\" section, as the explanation about the Twelve Greek Gods connection to the Vergina Sun is poor non-existent.  \"",
          "Thanks. Replied on his talk page - and his Spanish article is up on eswiki.",
          "I disagree. I've met Bob Feller and was a great guy. He didn't charge anyone for his autograph and enjoyed talking baseball with everyone at the park. I think he's just sad to see some of the less positive things that have happened in baseball over the years. I also don't like your attacks on his heroic service in WWII. Have you ever done anything to cause anyone to respect you?!",
          "(family)I tried to look up more things on his family, but there's surprisingly little other than about his wife.  There is some info on various Myspaces of his kids and grandkids (apparently he has another great-grandchild on the way) but those aren't good sources, so I don't think I have much to add on that front for now.  I found some info on one daughter who is a doctor, but it would be odd to only have information on one child so I won't add any of that.  Should the family part be at the end or the beginning?",
          "The legal base for the two military courts can be found in the following act (German): http://www.bgbl.de/Xaver/start.xav?startbk=Bundesanzeiger_BGBl&start;=//*[@attr_id=%27bgbl106s1262.pdf%27] 149.154.154.231",
          "\"\n\n Wo rohe Kräfte sinnlos walten, da kann sich kein Gebild gestalten \n\n\"\"Thank\"\" you for including me into this arbritration case http://en.wikipedia.org/wiki/Wikipedia:Requests_for_arbitration/Ulritz\nwithout giving any further explanation! I will from now on abstain from editing the English Wikipedia for the reason indicated in the heading (Friedrich Schiller \"\"die Glocke\"\"). Have fun!\n\nps: by the way, supporting someone who calls other users \"\"asocial neo-nazis\"\" because they oppose comments like \"\"unless they're Germans, then you can just shoot them\"\" does not correspond with my idea of Wikipedia. ( )\"",
          "POV \nBy what criteria do you define someone as a former Jew? One cannot change from a Jew to a non-Jew. This list seems to be someone's POV.\n\n95.147.191.30  \n\nRename?",
          "I think it means: Me Turk man, me vill rape bad woomen, me vill teach dem a lesson, me vill cover der faces in gauze. me vill beat dose harlots up! S",
          "Survey\n\nHi Alissahart!\n\nI have put together a survey for female editors of Wikipedia (and related projects) in order to explore, in greater detail, women's experiences and roles within the Wikimedia movement. It'd be wonderful if you could participate!\n\nIt's an independent survey, done by me, as a fellow volunteer Wikimedian. It is not being done on behalf of the Wikimedia Foundation. I hope you'll participate!\n\nJust click this link to participate in this survey, via Google!\n\nAny questions or concerns, feel free to email me or stop by my user talk page. Also, feel free to share this any other female Wikimedians you may know. It is in English, but any language Wikimedia participants are encouraged to participate.\nI appreciate your contributions - to the survey and to Wikipedia! Thank you!",
          "Please go to the da help with life forum to discuss how after you blew your wikiload\nafter banning me, ruining your wonder woman underoos.  Maybe after that you can \nget off on banning more people, careful, if you blow your wikiload too many times,\nyou won't be able to read your computer screen without wiping it off and using\n409 to get rid of the wikiresidue.",
          "Now let's see who's gonna start crying like a little girl because I said this so I could laugh my ass off at them.",
          "Welcome!\n\nHello, , and welcome to Wikipedia! Thank you for your contributions. I hope you like the place and decide to stay. Here are some pages that you might find helpful:\nThe five pillars of Wikipedia\nHow to edit a page\nHelp pages\nTutorial\nHow to write a great article\nManual of Style\nI hope you enjoy editing here and being a Wikipedian! Please sign your name on talk pages using four tildes (~~~~); this will automatically produce your name and the date. If you need help, check out Wikipedia:Questions, ask me on my talk page, or place {{helpme}} on your talk page and someone will show up shortly to answer your questions. Again, welcome!  ← ну? \n\nYour text from Talk:Wafa Sultan\nAssuming the below says the same in Arabic and Russian, I took the liberty to move it here. Please don't misuse WP talk pages. Thank you. ← ну? \n\nالدكتورة العزيزة وفاء سلطان، أحبك كثيرا وأنا أنتظر إلى كتابك\n\nУважаемые пользователи Википедии, просьба отметиться здесь всем тем кто уважает и поддерживает  идеологию и мысль многоуважаемой госпожи Вафа Султан. Жду Ваших рецензий ) !",
          "JLaTondre is a gay boy who likes to suck dick \n\nJLaTondre edits pages like flys on poop.\n\nIf I created a wikipage about my family I am sure JLaTondre would delete it.\n\nI created a historical database. Wealth about my family name and to test it out on wikipedia.\n\nI am sure JLaTondre would love to delete it.\n\nJLaTondre already deleted a page dedicated to a NOW DEAD and EXPIRED company I used to work for.\n\nJLaTondre!!!\n\nYou know nothing about my family or my company!\n\nWhat are you?  12 years old?",
          "Chris, I don't know who you are talking to but it better ain't be me because you are messing with the wrong guy!\n\n  Infonerd2216\n\nP.S. Better watch it, or something bad will happen to you and let me tell ya, i'm not kidding!",
          "Please read WP:NCMAC. Please take note that the country in question is to be referred to as the Republic of Macedonia or simply Macedonia on the English language wikipedia and not as fyrom or similar. Please follow policy when editing.",
          "\"\n\n Proposed revision of the controversy section \n\nThough controversy shouldn't consume the bulk of the article, I think the revised section is somewhat awkwardly written and neglects the substance of the criticisms. It can be rewritten for greater clarity, and to include the quotes that have actually generated the controversy. It is just false to say conservative bloggers are basing their criticisms on \"\"a single line from his book\"\"but if it were true, shouldn't that line be quoted too? The section can be kept short, while not excluding the content of criticisms. I propose the following text.\n\nLloyd has been targeted by conservative commentators such as Glenn Beck, with the aim of forcing him to resign, as happened with former White House adviser Van Jones.\n\nBeck broadcast a video of Lloyd's comments at a 2008 conference on media reform, in which he described the rise of Venezuelan President Hugo Chavez as \"\"really an incredible revolution.\"\" Conservatives view this as an expression of support for Chavez, though Lloyd has stated that he does not support him. Conservative bloggers have also attacked Lloyd's commitment to free speech, based largely on quotes from his book Prologue to a Farce: Communication and Democracy in America, in which he writes that the First Amendment should be placed \"\"in context with other communications policies,\"\" and on his 2007 article Forget The Fairness Doctrine, discussing \"\"clear proposals...to address the gap between conservative and progressive talk.\"\" Over 50 non-partisan public interest groups have defended Lloyd, calling conservative claims \"\"false and misleading.\"\"\n\nThis is only about 30 words longer than the present version, but I believe it does much more to inform readers about the controversy. Since the controversy section of this article is so controversial, however, I'll leave my rewrite here for a day or two before implementing it. It's always easier to see bias against your own point of view, so I hope some liberals can improve on my text! But the current version is just not accurate or informative.173.21.159.52  \"",
          "Barnstar \n\nI, V. Molotov, give you this Working Man's Barnstar for 2600+ edits and being diligent Wikipedian.   (talk)  \n\nTake care,   (talk)",
          "Yeah, Partch is great, but he's not always the most reliable source. I'll try to find a different one. —",
          "I already have good social life - just insomnia, bro. When I can't sleep, I make new music or edit wikis hehe. Btw, I'm writing a diss on one of wikipedia users - on youtube soon! 94.254.193.66",
          "\"\n\nhehe, you *ARE* truly pathetic Zereshk, as I have pointed out to you before.  You know damn well that the term \"\"racism\"\" or \"\"racist comment\"\" doesn not apply in Iran in the same way that it applies in countries with true racist history, such as USA and many European countries.  The fact that you are using your familiarity with the English language to get a cheap \"\"winning point\"\" out of a lost game, tells us how weak and pathetic you are.  In absolutely BEST of circumstances, you can associate \"\"turk\"\" in Persian slang with \"\"ethnicity\"\" but if you really grew up in Iran as you claim you did, you know damn well what it is.  And especially \"\"torke tablo\"\", which you are.  Given your pathetic edit history of \"\"all image and no substance\"\" I repeat, I is hard to imagine a lower and less self-respecting Iranian than you.  You were born to be wannabee-western and as such, Iranians like you deserve to be jew-slaves.   \"",
          "North Korea was not in my mind until someone else used it. He used the analogy first, and I do feel he was right. I had absolutely no intention of fraud in the discussion of the map and the accusation was unjustified. I still think the map's accuracy is unknown.",
          "\"\nThe two examples you give are clearly different, however there is no need for the article specifically in the case of \"\"professor\"\" (c.f. , ). I'm not sure why - it is a peculiarity of English. I think most people who recognize the validity of the form would agree it sounds \"\"better\"\" without.   \"",
          "\"\nYou quickly forget that I am objecting to the MISINTERPRETATION of a 'rule', and the MISAPPLICATION of a 'rule'.   (or, do you not concede that, hypothetically, a VALID, proper rule can be MISINTERPRETED and/or MISAPPLIED?).  Merely citing the RULE is pointless, when the problem is the misinterpretation or misapplication of the rule!\n Further, Dodo violated WP rules, by not allowing a consensus of the group to develop.  He also misapplied a rule, claiming that something I said must be 'verifiable'.  But what does it mean, to be 'verified'?  Dodo implied that what I said must be verifiably, scientifically TRUE.  I claim, quite to the contrary, that since the article involved is 'Jim Bell' (subject, ME), that the only 'verifiability' issue is this:  Did 'James Dalton Bell' ACTUALLY make these claims.  (Or, conversely and hypothetically, 'is someone else forging his identity?, etc.)   For example, there was no need to RUSH and delete my posts.  Rather, somebody (preferably, one familiar with LOGIC) could have said, \"\"Bell, how do we know that 'you', 'jimdbell@q.com', is in fact the 'jim bell' (James Dalton Bell) who is the subject of the 'Jim Bell' WP article?  We need to be able to VERIFY the fact that 'jim bell' actually said/did this.\"\" (To ensure that 'jim bell' is not being libelled by a stealth forgery.)\nIn response, I would have immediately said, \"\"Good question!\"\"  And I could have promptly proceeded to do whatever was necessary to establish this fact.  Perhaps I could also have donated a recent (current!) photograph to the article, which (of course) could be compared with other published (even if not public domain) photographs which are available on the web.   \nBut as John Belushi was so fond of saying, 'BUT NOOOOOOOOOOO!'  Rather than HELP a 'newbie' (to WP), AND wait for a consensus, and actually help VERIFY that 'jimdbell@q.com' is actually, 'jim bell', Dodo decided to be an ass and repeatedly delete my edits.  And, he deleted ALL my edits, not merely some portion which (allegedly) was not 'verifiable'.  I will give an example, to the contrary:  I also posted a claim that I accused the Feds of forgery in a criminal appeal case, 99-30210.  In fact, in June 2003 I wrote a lawsuit (195 pages) which has (I believe) LONG been posted on the Web.  (Probably Cryptome/JYA).  It (as I recall) makes exactly this accusation.  So, if Dodo had actually acted INTELLIGENTLY, he would have edited my edit to cite my lawsuit, which has been posted for perhaps 5+ years.  (Or, he would have said to me, \"\"Bell, you need to show a cite of your lawsuit...\"\").  THAT would have been productive, useful, and helpful.  (As opposed to being hostile, counterproductive, and malicious.)   So, why didn't Dodo do THAT?!?   The answer is quite simple:  Dodo is hostile, counterproductive, and malicious.  He's a 'control freak'.  (Apparently, WP attracts 'control freaks'.)  Rather than being assisting, supportive, and helpful, Dodo wants to slap around newbies who upset his apple cart.\n  \"",
          "I noticed that the location of the Saudi Aramco Residential Camp in Dhahran was appearing incorrectly within the Google Earth Geographic Web layer.  This may have occurred from the split of the articles for the city of Dhahran and the Aramco Dhahran camp, discussed elsewhere within this article's discussion; the locations for both appear to have defaulted to Dhahran International Airport, possibly because of the use of a geocoded photo of the airport within the articles and the fact that no specific coordinate for Aramco Dhahran camp was given within this article.  I have set the location for the Aramco Dhahran camp at King's Road Ball Field for a variety of reasons, such as the facts that this ball field was the location of many social activities and that it is recognizable by Aramco Brats of all ages, which is not true of other locations within the camp; for example, the locations of the entrance gates have changed over time.  I set the coordinates in accordance with the Google Earth Geographic Web layer and the Wikipedia coord template.",
          "\"\nNononono, Julian wants YOU for his pet tropical cyclone project. Isn't that right, Julian...GUILTY! D — (Talk / Contribs) \"",
          "\"\n You are pushing for POV, as always. It is YOU who is using Sikandarji's name ... in fact, you are absuing his name for your nonsense. He has contradicted and rejected your nonsense many times - just check the Talk:Hephthalite page. And he has rejected your nonsense about \"\"Mughals being Turks\"\" (check Talk:Timurids). You are DEFFINITLY pushing for a Turkish nationalist POV, and your recent edits are a clear proof for that ... and the fact, that you have actively removed scholarly sources - including 2 articles of the Encyclopaedia Iranica - in favour of your own nationalist nonsense underlines your evil plans in Wikipedia. \n You have once again violated the 3RR, and you have once again created a parallel-article to an already existing article, containing your own pseudo-scientific nonsense. I have reported you to admins ... But I guess you know that already, since you are stalking.  \"",
          "has about Russian Jewish book peddlers",
          "Good day man of God my name is Joshua married to Diana we really need your help please.\nhappy new may God be with you.\nRegards Mr & Mrs phiri.",
          "\"\nJust FYI guys, I'm not keeping a very close eye on my watchlist at the minute, so do feel free to let me know of any other socks or disruptive SPAs that come out of the woodwork.  | Penny for your thoughts?  \"",
          "Only a fool turns his back on history.",
          "We already won, in 1945. The truth is one, and there are to many people that know it, so DLX could not change it. By the way, about the Sandstein or whatever who blocked us, i knew that would happen. He's a German, so i expected it. He didn't say anything to DLX about what he does. M.V.E.i.",
          "It \n\nThat is what you're gonna get son! 82.132.229.92",
          "\"\n\n Explanation of latest changes \n\nI found in the \n\nThe Bridge on the Drina by Ivo Andric, Univeristy of Chicago Press 1977\n\nTranslator's foreword by Lovett F. Edwards, page 7: Dr Ivo Andric is himself a Serb and a Bosnian\n\nIntroduction by William H. McNeil, page 3:They went to live with her parents in Visegrad on the banks of the Drina, where young Ivo grew up in an artisan family (his grandfather was a carpenter) playing on the bridge he was later to make so famous, ..., The family was Orthodox Christian, i.e. Serb;\n\nand in the\n\nThe Nobel Prize in Literature 1961 Presentation Speech by Anders Österling, Permanent Secretary of the Swedish Academy - As a young Serbian student, he joined the national revolutionary movement, suffered persecution, and was imprisoned in 1914 when the war broke out. \n\nwhich shall have place in his biography for knowing that the book translator Edwards and the world-renown historian McNeil were close Ivo's friends. Both biographical notes were written in the first edition of this Ivo's book in 1959 and the biographical data are coming from the very Ivo.\n\nAnders Österling's Presentation Speech during the official ceremony 1961 in Sweden and in the Andric's presence - gives the undeniable credibility to biographical data heard in this speech. - \n\nAs to the Clasification paragraph - it has nothing to do with biography - just a slander and disrespect of this great writer. My proposal - delete it completely. \n\nFrom the above discussion - is visible that Andric rejected idea to be seen as of Croatian lineage\n\nWhen Krleza attempted to allign Ivo with Croats - Ivo responded this way\n\n Enes Cengic; \"\"Krleza post mortem\"\",  I-III. Svjetlost, Sarajevo, 1990. 2. part, pages 171-172\n\n \"\" Medjutim, s tekstom o Andricu za staru Enciklopediju stvari su tekle ovako:\n Tekst je napisao Milan Bogdanovic i poslao ga meni na imprimatur, kao biva, da li ga primam  ili ne.\n Kao ni mnoge druge tekstove,  vjerovali vi sad meni ili ne ... ja tekst o Andricu nisam citao. \n Mislio sam: Neka pise sto hoce, tako cemo to i objaviti. Ionako  je bilo iznad moje moci da tu ista \n diram i ispravljam. Mjesec ili ne znam koliko nakon sto mi je poslao tekst, primim od Milana pismo \n u kojem mi kaze da je kopiju teksta dao Ivi Andricu na uvid te da on moli da budem ljubazan i da u \n tekstu nesto izmijenim, a to je:\n\n Ivo Andric, rodjen u Travniku 10.10.1892. godine, hrvatskog porijekla, zavrsio skole itd.... Moli \n me da brisem da je hrvatskog porijekla. Na to odgovaram Bogdanovicu (oprostite sto citiram):\n     \n Dragi moj Milane,\n\n Pozdravi Ivu Andrica u moje ime, veoma srdacno,i poruci mu, ako mozes, da mu ja jebem hrvatsku\n majku, brisat cu da je hrvatskog  porijekla.\"\" \n\nShortly, Milan Bogdanovic wrote a text of Andric's biography, presented a copy of this text to Andric. Andric asked Bogdanovic to remove the note saying that he (Ivo) was a man of Croatian lineage.\n\n71.252.83.33  \"",
          "\"\n\n SmallJob \n\nLeave those naked Hollywood starlets alone!! \n\nYou have a Wiki page to exert your dominion over instead, \"\"man\"\" !!\"",
          "\":: I agree with Vast Majority. Totally. But that is still an evaluative statement. The Vast Majority of people also see Hitler as a villian, but does his page say \"\"Hitler was a villian\"\"?\n I agree with you about people being protective of their children. I'm protective of my brother and my mentorees. They know that I would do anything for them.\n I agree with you that adult-child sex and sexual contact is likely to enrage almost anyone... but the news tells a different story. How often do you hear \"\"Jim Brown (generic name) was arrested today for allegedly having sex with one of the girls at his day camp\"\" and then they interview people who say things like \"\"but he's a really good person, even if he did this, I still see him as a hero\"\" or, after a court conviction even, \"\"he's always been a role model to the whole community... he should be released or probation...why send this nice man to prison?\"\" I have heard things like that and it sickens me more than anything! People are so... fickle. And clueless sometimes.\n I agree with monitored. But I also don't think a 20-y/o who was convicted of having sex with a 17.5-y/o (yes, this happened) should be classified a top-priority sex offender for their whole life. Kida ridiculous. Now a 20-y/o with a 10-y/o? Absolutely! Let their monitor fall off after the heat of hell melts it...\n I disagree that Wikipedia is \"\"soft\"\" on pedophiles. In fact, pedophiles are the only people not allowed to edit the \"\"encyclopedia that everyone can edit\"\"; that's a simple fact. I don't think we give anyone \"\"enormous sympathy\"\" (and certainly you don't!). Do we treat them fairly and as legitimate people? Yes, Should we? Absolutely. \"\"All men are created equal\"\", right? Remember, we do not have Thought Police. Hitler tried that... (I hate bringing that name back up... apologies...)\n By the way, though the very incarnation of evil, Hitler was a masterful, brilliant leader. Most of the most notorious bad guys in history were. That's part of how they could accomplish so much and still be so evil. Kinda sad when you think about it...\n  •   •  • 03:28 (UTC)  28 Mar '08 -)\n\n\"",
          "\"\n\nFirst, you are misreading what your first source is. The document you reference is a UN interum report on Resolution 425. 425 dates back to 1978. That document (the report) does not reflect any agreement between the UN and Israel. 425 calls for many things, but there had been no public pledge from Israel on dismantling the SLA. In fact, Israel in public had been saying the opposite. They were not planning to leave until early July. The report being issued on the 22nd isn't very meaningful. Its coincidence. There was a whole series of meetings between the SLA (see later material) and UN/various countries that was a whole lot more damaging than the interium erport on 425.\n\nSecond, I think its better to deal with Charbel Barakat's fuller and more accurate version of what happened in May from his congressional testimony in June 2000:\n\n\"\"During the month of May 2000 our people remitted a memorandum to the office of the United Nations in Nakura in south Lebanon offering suggestions to avoid bloodshed and exodus. During the same month delegations representing our community met with diplomats of the US, UK, and French embassies in Israel and at the United Nations. And on May 18, our representatives met with the office of the Secretary General of the United Nations in New York ... Instead of taking our demands for protection on our land seriously, the United Nations declined to assist us ... The United States, UK and France dismissed our fears and insisted on guarantees which were allegedly granted by the Beirut regime ... The State of Israel only prepared for our potential exodus, ruling out our determination to remain on our land and defend ourselves.\"\"\n\n\"\"Despite the abandonment by the international community and against all odds, our people decided to remain and fight for their land and rights while calling endlessly on the UN to deploy its units around our villages. \nOn May 22, 2000, and as Israeli units were implementing their own withdrawal and the commander of the SLA was absent in France, the mostly Shiite sector of the security zone collapsed. It appeared that Shiite officers were told by the Israelis that they must leave before the borders closed. Even after the invasion of Hizbollah of this area, the mostly Christian-Druse eastern enclave and the Christian western enclave, decided to defend themselves and protect their citizens after Israel’s withdrawal.\nOn May 23, 2000, at 8 PM, SLA officers in the western sector received orders from the Israelis to leave their posts as Hizbollah was advancing towards their villages. Thus the SLA was imploded from the inside and was dismantled without any battle. The main reason why the SLA did not remain and fight was the fact that the border was closed behind its back. Without access to medical and logistical supplies, our people was condemned either to surrender to its enemy or flee across the border.\"\" (from [www.10452lccc.com/special%20studies/barakatjune2000.htm])\n\nThe SLA did collapse. What Charbel Barakat is talking about in the MEF comments is that the remainder of the SLA (Christian) in the west did not collapse and was dismanted by Israel. But it was only dismanted after most of the SLA had collapsed. Charbel Barakat and other dead-enders may have wanted (in theory anyway) to fight on in the west, but Israel wasn't going to make any commitment to keep a miniture version of the SLA going in a tiny pocket on the west end of the border. The caution I would give about Barakat and a couple others from the SLA is that sometimes they think of their Christian portion of the SLA as if it were the entire SLA. And from that point of view, the SLA did not collapse and was dismantled by Israel.\n\nThe biggest claim made by Barakat is in weasel-words: \"\"It appeared that Shiite officers were told by the Israelis that they must leave\"\". 'It appeared that\"\" means he is guessing. Nobody on either side of the border has outright claimed that the Shites were told to leave and that is why they collapsed on the 22nd. Even Barakat is unwilling to make that claim.\n\nNow lots of other things may have happened that the public doesn't know about with regard to the SLA collapse. But the only people who would know the truth are a handful of people at the top of the Israeli government and army. Nobody in the SLA knows much of anything because if Israel was going to collapse them, they would hardly tell them their plan. People (including me) can make lots of hunches and theories about what might have happened, but there are no facts to back any of those theories up.  \"",
          "\"Y didnt he just say \"\"You smug son of a gun!\"\" and not cut it?\"",
          "Bongwarrior is a homosexual prostitute \n\nBongwarrior is a homosexual prostitute.\n\nYou can fuck him in the ass for $25.\n\nHe likes it when two men fuck him in the ass at the same time.  He likes the feeling of his anus being stretched wide open.\n\nHe will also lick the shit off of your dick when you are done.\n\n119.245.91.247",
          "\"\n\nde Crespigny, following the Zizhi Tongjian, explains why it should be after Red Cliffs (and in 209, no less), in his translation of the Zizhi Tongjian, To Establish Peace: (note 96 to Jian'an 13)\n\nde Crespigny and Sima Guang seem to follow Sun Sheng's take in SGZ 47 (Wu 2, the Biography of Sun Quan) as the genuine account for this event.   \"",
          "ralfx is yag. He is the yaggest mothering chinkie dude in the world.",
          "\"\n\n Cut-off \n\nThe article mentions that several plot points of recent comics (Decimation, \"\"Avengers Disassembled\"\", Thor's destruction of Asgard) didn't occur in MC2 continuity, and on Spider-Girl's page it says that \"\"Spider-Man: The Other\"\" never occurred either. Given that would it be accurate to say categorically that there's some cut-off point after which events in Earth-616 are no longer canonical? If so, when and where do you think it would be located? I suppose such a statement might be too broad, and some events may not have been explicitly referenced as happening or not happening but...well, I don't know MC2.  \"",
          "Here is proof of notability \nCalton has aimed his delete gun at this entry, so here is notability proof to stop him:\n\nUSA Today (you know..that BIG newspaper) story: \n\nWow look here, the USO (you know..that BIG Government organization) sent Mallory Lewis and Lambchop to WELCOME HOME THE TROOPS: \n\nLookey here the US AIRFORCE (you know, those men and women who protect the USA) had Ms. Lewis and Lambchop visit Kadena airforce base...wow...if the US Airforce sends you somewhere that doesn't make you notable? Maybe in someone's sick anti-american mind. \n\nBut enough from me....",
          "Since these wrestling article pages took their current form about 7 years ago, one of the rules has always been that if a wrestler holds a championship, he automatically gets included as part of the roster.  PJ Black won the King of the Mountain Championship at last night's Impact Wrestling tapings, thus he automatically gets included on the roster.  The note at the top of the page is to let everybody know that TNA and GFW have a talent exchange agreement, so they don't have to include every GFW guy that makes an appearance on Impact Wrestling.  Black (KOTM Champion) and Jarrett (general manager) get special mentions due to their specific roles...PJB has a title, and JJ is the authority figure.  Once PJB loses his title, he'll be removed, as will Jarrett once he loses his authority figure role.  Vjmlhds",
          "To Dawnseeker2000 \n\n please explain the action of you revert Taiwan part\nIf you keeping act rude without reason I see you in the Village pump",
          "\"\nWait, what? You guys formed a Wiki editing group but didn't know each others' usernames? Uh.. —  (say whaaat?!) \"",
          "PL is a liar. Simple. He can never leave. He has too much invested in his lies about Nostradamus.",
          "People like you 359 take he virtual world way too seriously. You are obviously trying to make up for a lack of achievement in your real life which you spend too little time. Do you really think any of this is important? Do you really think the work (I use that word lightly)you do here is going to help anyone anywhere ever? Its not! You are a hack and you would be better off taking up bowling or at least something that gets you out of the house... I feel sorry for you old man. You are a sad soul.",
          "No, sorry, I live in Poland and don't read books in English, especially little known ones. How could I have got to know them? If I saw them in a book store, I would buy translated ones. Piotr Nizynski",
          "He wouldn't have to if he weren't so goddamn crazy! 66.68.86.111",
          "\"  \n\nKrishnendu das aka Babukishan comes from an old and very traditional Baul folklore family. His grandfather, Guru Shri Nabani Das Baul, was a much celebrated singer and poet that was instrumental in bringing the Baul culture to fame with the respected and admired status it enjoys today. Nabani Das Baul often collaborated with the writer of India's National Anthem, a great poet, and winner of the Nobel Prize for Literature in 1913, Rabindranath Tagore. In popularizing the music of the Baul. \n\nNabani Das Baul opened the doors for his people to the world. In keeping with this tradition. Babukishan's father, Samrat Purna Das Baul, a modern, popular legend among the Bauls, opened up the doors even further by collaborating and jamming in live performances with the top Western and European acts of the 20th century. Babu is a music designer, singer, and author renowned in India for his work in both the recording and film industries. He plays a variety of music combining new age, and world fusion, with traditional folk music in authentic Bengali Baul style\nBabukishan began his career as a performer by accompanying and studying the arts with his father, Purna das Baul. He also participated in numerous youth folk festivals, traveling to places such as Taiwan, Hong Kong, Singapore, Bangkok, Great Britain, all of Europe, the United States, and Canada. He played with both the Asian Performing Arts Festival at the Royal Albert Hall in London and the Worldwide Youth Festival in Carnegie Hall in New York.\n\nFrom this beginning, he traveled most of the world from 1980 to 2000 as a composer, music instructor,musician. and singer.\n\nBabukishan, deeply inspired by his Father and Grandfather, knew at an early age he too wished to compose and perform. He began on the soil of Bengal but clearly he was destined to belong to the world of music. His journey started in early childhood when he joined his mother, Manju Das, and his father, Puma Das, playing and singing Baul music in global festivals. Despite the many world tours, Babu also found the time to study Indian philosophy and Folk music at the University of Kolkata where he eventually secured both his BA and Masters degrees. \n\nSo it was that his formal professional career in music began with his family. He toured with Bob Dylan's The Band East & West tour in 1985. In addition, Babukishan has performed with other international artists such as Alice Cooper, Rolling Stones,Tom Petty, Miles Davis, Allan Fakir, George Harrison, Herbie Mann, Third World, Robbie Robertson, Garth Hudson and many others. \n\nThough the subsequent years, Babu put this solid foundation in music to good use by composing and performing in all areas of India's entertainment industry as well as in a variety of venues worldwide. Then, in keeping with his early dreams of a unique style of his own, he turned to the music of the western world that he had become so familiar with in his early years of performance. His use of Baul & Indian rhythms combined with the Reggae produced his own brand of World Music-Babu's New Age, Bengali Folk Fusion is the result. \n\nBabukishan has also worked with top Indian musicians/singers and music directors such as R.D.Burman, Ravi Shankar, Sultan Khan and Zakir Hussain. \n\nAs a composer, Babukishan has written the music for several albums, TV serials and films, earning a good reputation as one of the most promising composer in the Bollywood (Indian cinema) music & film industry of India. In his recordings, Babukishan features folk music, romantic songs, pop songs, ghazals, Qawwali music, new age, fusion, Sufi music and bhajans (devotional/spiritual songs). He is the first singer and music composer from the rich Baul family tradition to venture into fusion music by combining Baul/Sufi music with western music and reggae music. Babukishan produced and directed two documentary films about folk music and he wrote a book titled The Bauls of Bengal. One of Babukishan's latest projects is the band \"\"Birds\"\", which he founded. It combines new age, world music/traditional folk and fusion music. His album Soulmate\"\" (Universal/Music India) creates a unique new generation music worldwide.and his latest album, Birds & soul mind & body are based on Baul/Sufi music.\"\"GYPSYINDIA\"\" is authentic traditional baul & sufi music written/composed and all the instruments played by him.this album recored at woodstock,newyork during his tour on 2004.\n\n \n\nhttp://babukishan.com\nhttp://cdbaby.com/cd/babukishan\nhttp://community.webshots.com/user/babukishan\"",
          "\"\n\n Why has this been completely removed? The debate seems to be about whether or not to use the word \"\"scam\"\", rather than whether or not to include any mention of his latest business venture. I can't see how this should go completely unmentioned.   \"",
          "\"\n\n Farce \n\nYou can criticize policy all you want. What you can't do is turn a policy discussion page into a soapboxing rant. We can't fix Magnotta. Assuming the murders would not have happened if we gave him his 15 minutes of fame is ludicrous on its very premise. By that argument, Jodie Foster should have dated John Hinckley, Jr. so he wouldn't have attempted to assassinate the President. It's a complete farce of an argument. — Bite \"",
          "Politburo ranking \n\nThe fact that Trong was selected as the No. 8 member of the Politburo was reported everywhere in the Vietnamese press. Nhan Dan gives the list both in English and in Vietnamese. Voice of Vietnam does the same here and here.",
          "No, what has no purpose is this conversation. If you are going to add some information to the article then do so if not bugger off. Trying to get it deleted doesn't hlp the article now does it smart guy?",
          "\"\nJust removed the \"\"too long article\"\" template posted by RJFF for the second time. See my previous reply above for argumentation. To move the debate further ahead, I still invite RJFF to use the {{Very long|section|date=October 2013}} tag-template for each section he considers to be too long, rather than tagging the entire article as a whole.   \"",
          "The current map \n\nThe current map shows the Isle of Man and Channel Islands as though they are part of the UK, which they are not.  Should a different map be used?",
          "\"\nWas your wife watching with you? Did she ask you if you thought Wikipedia might be a tree favored by another fungus? .Wolfowitz \"",
          "\":::::::No it doesn't say anything, except that you seem to be very, very prejudiced against the idea of a sovereign Jewish State. The United Nations in the 1970ies were dominated by an alliance of Soviet Union controlled or influenced countries and pan-Arabist nations. The majority imposed its point of view, but it was not that \"\"right\"\" or \"\"true\"\" as you want us to admit.   \n\n\"",
          "He keeps reverting this, but all he has to do is say that, yes, he is an adult, and I'm sure we'll be able to take him at his word per AGF.",
          null
         ],
         "marker": {
          "color": "#CFD8DC",
          "opacity": 0.5,
          "size": 5
         },
         "mode": "markers+text",
         "name": "other",
         "showlegend": false,
         "type": "scattergl",
         "x": [
          11.000261306762695,
          11.634431838989258,
          11.46076488494873,
          10.614660263061523,
          10.270599365234375,
          10.519923210144043,
          11.673554420471191,
          8.853460311889648,
          10.720897674560547,
          8.575333595275879,
          9.810820579528809,
          10.244224548339844,
          11.0245943069458,
          8.31655502319336,
          9.73866081237793,
          10.612199783325195,
          7.448596954345703,
          11.572286605834961,
          11.100432395935059,
          11.416637420654297,
          10.18578815460205,
          9.854167938232422,
          10.298033714294434,
          9.12363338470459,
          9.781172752380371,
          9.956587791442871,
          8.981459617614746,
          10.557024955749512,
          10.477177619934082,
          9.429787635803223,
          11.332169532775879,
          10.09359359741211,
          10.817502975463867,
          10.120471954345703,
          10.362875938415527,
          11.261014938354492,
          10.014820098876953,
          9.282461166381836,
          10.799762725830078,
          9.423828125,
          7.297942161560059,
          8.95506477355957,
          9.916828155517578,
          7.1298828125,
          8.260763168334961,
          9.934388160705566,
          9.242056846618652,
          10.57358455657959,
          7.13547420501709,
          9.428256034851074,
          9.888538360595703,
          10.077067375183105,
          9.835824012756348,
          10.011373519897461,
          9.742616653442383,
          11.615341186523438,
          10.0655517578125,
          9.71749496459961,
          9.977994918823242,
          10.315780639648438,
          9.346179962158203,
          7.984779357910156,
          10.51285457611084,
          10.286535263061523,
          9.813756942749023,
          9.370569229125977,
          10.662141799926758,
          10.30631160736084,
          10.0932035446167,
          8.926359176635742,
          7.196039199829102,
          11.959559440612793,
          9.92142105102539
         ],
         "y": [
          6.800207614898682,
          7.095219135284424,
          7.030593395233154,
          6.134675979614258,
          8.254647254943848,
          6.959658145904541,
          8.672785758972168,
          7.745509147644043,
          6.272971153259277,
          6.909750938415527,
          6.594822883605957,
          8.553983688354492,
          7.903526306152344,
          6.611033916473389,
          7.223803520202637,
          8.458683967590332,
          6.658293724060059,
          6.97210693359375,
          6.960448265075684,
          7.563285827636719,
          5.496512413024902,
          6.697532653808594,
          5.973584175109863,
          6.088369846343994,
          6.669780254364014,
          6.241850852966309,
          6.012763023376465,
          6.67093563079834,
          8.16982650756836,
          6.50044059753418,
          8.586730003356934,
          5.969051361083984,
          6.508594989776611,
          7.569992542266846,
          9.032551765441895,
          7.70614767074585,
          7.501842021942139,
          8.080609321594238,
          6.666080474853516,
          6.852223873138428,
          6.506886005401611,
          6.971179485321045,
          8.943864822387695,
          7.39932107925415,
          5.402744770050049,
          7.080813407897949,
          6.256316184997559,
          7.9208173751831055,
          7.253798007965088,
          8.180232048034668,
          5.495219707489014,
          8.332564353942871,
          5.4586992263793945,
          8.597870826721191,
          8.279690742492676,
          8.908722877502441,
          7.5892229080200195,
          6.394087314605713,
          8.879987716674805,
          5.769905090332031,
          6.924041271209717,
          5.26087760925293,
          6.916238784790039,
          8.367168426513672,
          8.18886947631836,
          8.023337364196777,
          8.565150260925293,
          8.767863273620605,
          7.526617527008057,
          6.941364765167236,
          7.317039489746094,
          7.612290382385254,
          7.227836608886719
         ]
        },
        {
         "hoverinfo": "text",
         "hovertext": [
          "Why to go buddy! So how is Nancy holding up?\nShe really is a bad admin and everyone knoes it.",
          "Post Tupac Death work with the mother of Christopher Wallace. \n\nSomeone more informed on the subject than I should add something to this article about her work and appearances with the mother of the Notorious B.I.G. at the various award shows and what not.  If i'm not mistaken the two have gotten together several times to disuade more acts of violence.  I think it would be a good addition to the article, unfortunately, i'm in no position to write it.",
          "Good Grief! How would the chimps get drunk? Anyways, Today(2-17-09) On the news, a woman in conneticut was attacked by her friend's,(over 200 pound)chimpanzee. He was huge! HE ripped her apart and ate her face off. shouldn't chimp attacks be in the chimp article? BEcause i didn't see anywhere about chimps attacking humans 173.51.203.228",
          "And when her PR people inevitably tell us she still likes Rodham, maybe tell them to update her official website and social media accounts to reflect that and tell hundreds of news organizations as well.  T|C",
          "The Palestine Telegraph",
          "OMG. I searched in Orens book using Amazon. It seems that he is actually making the claim that 300,000 Arabs immigrated to Palestine. Unbelievable. GHcool, could you check what source Oren is using for his claim? Is it Peters or Gottheil?",
          "Move to Elizabeth, The Queen Mother of United Kingdom \n\nShe married the Windsor family, making her Mrs Windsor and she never officially mantained that last name post her marriage.  She was given the Queen Mother by her daughter.",
          "Richmal Oates-Whitehead \n\nHi, just saw your addition to the article by way of a link. Thanks for the same, especially since the article has not seen much action of late and I had been itching to look at some NZ sources about her. I had also placed a request on the NZ discussion board some time back.",
          "I just put late 2010 as being the date until we get something more specific.  By the way, do we have any update on how Caroline Lloyd is?  I know she wasn't actually named in the incident that happened, but I managed to work out that it was likely to be her from the news reports saying the person slashing her wrists on set had been there over 10 years.  When you look at that list, she's the only one, the others have been there nearer 10 minutes than 10 years lol.  I hope she's ok and returns to Neighbours soon, if that's possible",
          "oh lol eleanor is a pure and utter gimp she lieks to wear a gimp suit and heyyy paulinee D:D:Dwhether",
          "Foxy Browns Birthday\n\nAccording to Foxy Browns MySpace Account, she is still 26 years old. So she was born on 1979.\n\nhttp://profile.myspace.com/index.cfm?fuseaction=user.viewprofile&friendid;=63520254",
          "Just going on TV doesn't mean you deserve a Wikipedia page and there has been no official proof of any of her threat claims as of yet. Wikipedia is a site where things need to be proven and verified. Not for hearsay.",
          "I never said she ought to be in the category “opposed to fan fiction”; I just said that I thought it might be notable that she was, at one point, opposed to it—or other people around her were opposed to it—to the point that she took legal action against fans. —",
          "I'm trying to sort out the plot on her article now. -Trampikey(contribs)",
          "\"\n\"\"She started it\"\" is not an excuse that is generally accepted on Wikipedia.   (smoddy) \"",
          "Here are the sources http://www.jpost.com/servlet/Satellite?cid=1132475697364&pagename;=JPost%2FJPArticle%2FShowFull and http://www.israelnn.com/news.php3?id=94362 but those are both just saying she was going to. I can't find anything that says she has. I was wondering if anyone else knew.",
          "\"\n\n Was \"\"Beautiful\"\" really pitched to Pink? \n\nI have a problem with the caption below Pink's photo \"\"Originally, the song was initially pitched to Pink\"\"; from what I've heard on TV specials, interviews, and such, of Linda and Pink... the song was never pitched to Pink, she heard it before simply because she was working with Linda, but Linda never meant for Pink to get the song. In fact, Linda wanted to record the song herself, and changed her mind only after hearing Christina sing it in the \"\"Stripped\"\" sessions, which was, if I'm correct, moths after \"\"Misunderstood\"\" was finished.\n\n  \"",
          "she did 76.122.79.82",
          "Redtigerxyz, you are rehashing what has just been discussed. Please don't do that. This is an article about an academc. Obviously all academic criticism of her academic work are perfectly fair game. Read WP:DUE.  (𒁳)",
          "\"\n\nQuestion\nMiss lilygirl, why r u still deleting \"\"Walk this Way\"\" in Girls Aloud discography? u need source? go to the forum of this site www.girlsaloudworld.com it's official. \"",
          "You should've mentioned this on her talk page, because she obviously doesn't get it.",
          "Better phrasing, thank you. But why did you reinsert Cantarella, and what is she doing in a section exclusively about Percy?! And where does Percy say that most Greeks fucked their boys up the ass?",
          null
         ],
         "marker": {
          "opacity": 0.5,
          "size": 5
         },
         "mode": "markers+text",
         "name": "0_pink_linda_song",
         "text": [
          "",
          "",
          "",
          "",
          "",
          "",
          "",
          "",
          "",
          "",
          "",
          "",
          "",
          "",
          "",
          "",
          "",
          "",
          "",
          "",
          "",
          "",
          "0_pink_linda_song"
         ],
         "textfont": {
          "size": 12
         },
         "type": "scattergl",
         "x": [
          7.340741157531738,
          7.031600475311279,
          7.317632675170898,
          7.315470218658447,
          7.175179958343506,
          7.257391452789307,
          7.238245487213135,
          7.099501132965088,
          7.4925127029418945,
          7.9081878662109375,
          7.66260290145874,
          7.322566032409668,
          7.1754069328308105,
          7.089509963989258,
          7.39800500869751,
          7.132714748382568,
          7.708225727081299,
          7.786440372467041,
          7.02435827255249,
          7.81774377822876,
          7.18272066116333,
          8.103029251098633,
          7.389990329742432
         ],
         "y": [
          5.94953727722168,
          5.6845855712890625,
          5.51956844329834,
          5.9378509521484375,
          7.309513092041016,
          7.229330062866211,
          6.442132949829102,
          6.413762092590332,
          5.907423973083496,
          6.366485118865967,
          5.648204326629639,
          5.880760192871094,
          5.6929850578308105,
          5.790409088134766,
          5.764239311218262,
          6.988146781921387,
          6.090718746185303,
          5.399256229400635,
          5.917400360107422,
          6.276299476623535,
          5.90408182144165,
          6.142349720001221,
          6.102501392364502
         ]
        },
        {
         "hoverinfo": "text",
         "hovertext": [
          "\"\n\nReguyla/Kumioko\n\nKumioko has socked again with the ip, 96.255.237.170. I am only reporting it here because this IP has been blocked for block evasion thus there is no benefit in opening an SPI. Would you increase the block length of the main account Reguyla? This was third time that he violated the standard offer.  (Talk • Contributions • Log) \"",
          "Does this help? \n\nFor the record as you have accused me of making threats I would like you to know that I wasn't, merely pointing out that if his nationality is Irish you should not try and claim him as english. Furthermore block me all you want as i have done nothing wrong in fact I'm quite right in changing his nationality to Irish when you claim he is not.. I appreciate he may be a citizen of britain but that does not mean his nationality is british, it's really not that difficult to understand that if his parents are Irish and he was born in dublin and lived there until he was 5, he is clearly Irish.. I would appreciate no more threatening messages from you in mail.. Peace from Eire",
          "Some help. \n\nHey man. Can you help me with this guy who keeps vandalizing the UFC 191 page? Look at his edit summaries. They're quite amusing. https://en.wikipedia.org/w/index.php?title=UFC_191&action;=history",
          "I see it has been reverted back, and then back again whie I was blocked, citing sockpuppetry (a little bit hard since I was blocked!). lol. He haqs not even discussed his changes here, so rather than just enter a pointless edit war i'll drop a line by an admin and see if we can get this sorted out.  is obviously trying to make a WP:POINT, however he has already been warned about this dispute.",
          "I am being punished because an editor, One Night In Hackney, edits my edits and then, when questioned, refuses to answer my questions.  Instead, he asks questions, I respond, yet he ignore my questions.  This is unfair.",
          "Calm down dear, you're off topic. Where's that Admin gone scurrying off to now? I notice he's neatly changed the subject and inflamed the situation so that now poor ModWilson's had to get involved.\n\nThat's a really good way to settle disputes, isn't it? Kudos to you, Bwilkins.",
          "It should be changed.  Blotto Adrift loves to change articles that he is in conflict with.  Blotto it's time to follow policy.  Admin's beware of him.",
          "First of all. Thank you, Zhang He, D12000, and Ronhjones for your attention. If you did nothing else, I'd be grateful to all of you. Next, 66.65.94.122 and his likely sockpuppet, Richeye, did it again. Is a blocking and protection possible? Thanks. Note, again, you might as well reply to me here as my IP is that of a Library computer.:-) Thanks again.205.189.194.250",
          "A new user put a comment about another article and another editor having quasi-neocon views. That comments had nothing to do with you- he just didn't format it or sign it, sorry for the confusion. Your explanation of why you inserted intentionally incorrect information with the expectation that someone would fix it is astonishing. That is barely distinguishable from vandalism. -",
          "I would like to further clarify that the edit which I made yesterday was totally outside the issue of ongoing disagreement. I made sure of that because I wanted Wolfkeeper exposed. I knew he would delete it, yet is was a very carefully thought out example which ilustrates both centrifugal force and Coriolis force perfectly.\n\nNow what has happened is that Itub and PhySusie are trying to justify Wolfkeeper's actions and in doing so totally contradicting what has already been agreed.\n\nThey are behaving like school children and I would simply lke to know if this is he best that I can expect from wikipedia. Do the administration ever sort these cliques out or do they generally side up with the cliques out of fear of large numbers?",
          "November 2007 (UTC)\n\nHi again, Isnt kerem now a disruptive editor? Patronizing myself while i am trying in all civility without a single edit to have a discussion in good faith of what (in UN view) is silenced? (Besides the fact that he wants to buy you a beer ) ) 23:05, 12",
          "I take some offense to you not liking Cena because even though he doesn't have much wrestling skill he knows how to fight. But I agree that the vandalism is out of control. I thank whoever cleans up Cena's artical.",
          "Thanks for removing more of his anonymous, unsigned, vandalism. He's pushed it too far; I'm requesting admin involvement at this point.",
          "Did rdSmith4 ever answer you about his evidence for my sockpuppets since he provided no proof  & will not answer my requests? \n\nDid he ever answer your request? I am thinking of filing an Arbitration request against him, since he will not acknowledge my requests. I don't think I will be around here much longer anyway, so I may as well go for broke.  Sincerely,",
          "That's probably because the original author is usually editing under his normal user name )",
          "He also exaggerates, claiming that my edits are vandalizing and abusive, when in fact I was only trying to improve a couple articles, which he then reverted, for no reason other than to prove a point (disrupting wikipedia to prove a point isn't allowed on wikipedia), even if it meant WORSENING the state of an article and re-implementing broken links, bad disambiguations, and incomplete information.  Netscott has done more harm to wikipedia than good, and thus for this reason, if you block me and not him, then you must either block both of us or block none of us. }}",
          "It wasn't me, my brother was using the comp. -",
          "I see you guys are two different people. I apoligize for assuming you were someone who's been stalking my edits.",
          "Request to Unblock\nI began writing the following statement (excepting its two postscripts) before I was blocked. I suspect that User: AuburnPilot had me blocked, in order to prevent me from complaining to administrators about his misconduct. Although I was directed to request an unblock of User: Physicq210, who had blocked me, requesting such of the latter would require that I censor myself, and write as though User: Physicq210 had acted in good faith, and was one of the good guys. That would be surreal, and would give User: Physicq210 a moral legitimacy belied by his actions. And so, the following request for unblocking is directed at any administrator BUT User: Physicq210, but since I’m not a devious sort, I have nothing against the latter reading this. Indeed, I want User: Physicq210 to read it. For if I can be banned from Wikipedia for standing up to censors, then it is vastly preferable to go down fighting, than to go down the long dark road of self-abnegation and self-censorship, including the use of bad English. After all, if I wanted to be a lackey, I could go to graduate school.\n\nWIKI Administrators’ Notice Board Incidents\nhttp://en.wikipedia.org/wiki/Wikipedia:Administrators%27_noticeboard/Incidents\n\nUser: AuburnPilot\n\nA few days ago, User: AuburnPilot began stalking me, checking wherever I had made edits, and going to the articles in question and vandalizing them. He or she has been manipulating Wikipedia rules as cover for what is clearly political censorship. User: AuburnPilot cannot even stand for Wikipedia readers to find out about factual material that upsets his political applecart through footnotes. Zero tolerance!\n\nHe claims of any source he politically dislikes, that it is either “spam” or a “blog” (or “POV,” another favorite dodge for those at Wikipedia seeking to censor those who fail to conform to their own POV), even though the one source is a previously published, classic magazine article otherwise unavailable on the Web (http://geocities.com/nstix/waronpolice.html), which the author has seen fit to publish on his Web site, and the other source is the longest, most thorough exposé yet published on the Duke rape hoax (http://vdare.com/stix/070113_duke.htm).\n\nNote that I am not even talking about censoring writing within articles, since I hadn’t done any writing on the articles in question: Crystal Gail Mangum, Michael Nifong, 2006 Duke University lacrosse team scandal and Racial profiling.\nI’ve been involved in edit wars before, though I have never been the aggressor, and have never initiated an elective edit war, though given the self-assurance that aggressors such as User: AuburnPilot exude, perhaps I ought to reconsider that position. It seems that aggressors rule here.\n\nThe reason I am making a formal complaint is that User: AuburnPilot has tonight upped the ante, threatening to have me banned\n(http://en.wikipedia.org/w/index.php?title=User_talk:70.23.199.239&redirect;=no), if I do not surrender to his censorship. Should you find for me, please serve this individual with the wikiquivalent of a cease-and-desist order. Should you, however, find for the censor, please provide an Index of banned publications and a list of official wikicensors.\n\nP.S. January 19, 2007 115A EST. Since beginning this complaint, I see that User: AuburnPilot has in fact succeeded at getting a crony, User: Physicq210, to block me, thus not only getting administrative support in censoring me, but preventing me from responding to his thuggery. (And no, I am not going to use cutesy, euphemistic language. If I were into such deception, I would have become a liar, er, lawyer, and would be worthless as an encyclopedist.) And I was unable to e-mail User: Physicq210 because I am not logged in and “You must be logged in and have a valid authenticated e-mail address in your preferences to send e-mail to other users.” (http://en.wikipedia.org/wiki/Special:Emailuser/Physicq210)\n\nIf this isn’t cyber-Stalinism, I don’t know what is! So, let me get this straight. Stalking and censoring an editor while using the equivalent of smiley faces (User: AuburnPilot’s penchant for saying “Thank you” after vandalizing one’s links) is “civil,” but complaining about such abuse counts as “spam, disruption, incivility, and personal attacks.” If that is verily so, then 2 + 2 = 5.\n\nP.P.S The message here says that I was “temporarily blocked from editing Wikipedia as a result of your disruptive edits.” What the heck is that supposed to mean? For restoring footnotes and links that User: AuburnPilot had vandalized? If that constitutes “disruptive edits,” then you’ve utterly given up on honest English and all human decency. Sorry, but I don’t have any sympathy for the Devil.",
          "As the newest guy on the block, a question to help me understand what is and isn't okay.  If I were the one making all of the statements above rather than those who are, wouldn't I have been smacked down with references to rules about forum, synthesis, and original research, and maybe even weight?  Sorry to ask but my common sense just wouldn't leave me alone until I put this question out. He is completely confused.  I have to admit.  I am too.  <>",
          "Whatever.  Go ahead and block me if the situation calls for it.  Apparently, he was concerned that I wouldn't get punished for anything.   (Elkspeak)",
          null
         ],
         "marker": {
          "opacity": 0.5,
          "size": 5
         },
         "mode": "markers+text",
         "name": "1_user_block_auburnpilot",
         "text": [
          "",
          "",
          "",
          "",
          "",
          "",
          "",
          "",
          "",
          "",
          "",
          "",
          "",
          "",
          "",
          "",
          "",
          "",
          "",
          "",
          "",
          "1_user_block_auburnpilot"
         ],
         "textfont": {
          "size": 12
         },
         "type": "scattergl",
         "x": [
          12.428519248962402,
          12.078120231628418,
          12.028987884521484,
          12.27713680267334,
          12.364493370056152,
          11.598918914794922,
          11.597012519836426,
          12.489648818969727,
          11.876055717468262,
          11.79616641998291,
          11.839677810668945,
          11.914959907531738,
          12.084548950195312,
          12.266557693481445,
          11.75316047668457,
          12.219613075256348,
          12.529549598693848,
          11.87149429321289,
          12.459572792053223,
          12.128267288208008,
          12.446293830871582,
          12.097559928894043
         ],
         "y": [
          7.4524688720703125,
          7.719361305236816,
          8.287984848022461,
          7.880368232727051,
          8.2333984375,
          7.518401622772217,
          7.7282490730285645,
          7.425824165344238,
          8.025312423706055,
          7.903594970703125,
          8.679401397705078,
          8.817424774169922,
          7.771304130554199,
          7.3426833152771,
          8.093221664428711,
          8.103400230407715,
          7.442781925201416,
          8.125753402709961,
          7.733303546905518,
          8.276240348815918,
          7.5052337646484375,
          7.907891273498535
         ]
        },
        {
         "hoverinfo": "text",
         "hovertext": [
          "First sighting \n\nI don't know anything about the first sighting of the Angel Falls, who what when or where. However, it looks like the first sighting has been attributed to a westerner, an assertion that seems impossible. Would it be more correct to say that the first 'Westerner' sighting of the falls was Mr. Sanchez, not that he was the first to see it? It's like saying Columbus discovered the New World.",
          "Oh, I should read Wikipedia!  The article itself notes that he took money while he was still an MP - though it needs references.",
          "He is a CHEATER, and the article should say that.",
          "Bornfeld \n\nMr. Bornfeld is a teacher of AP Eurpean History at Aliso Niguel High School.  Some students find it humorous to put his name in articles that they have to research, please watch out for his name to keep popping up",
          "There appear to be more than one ship bearing the name RRS Discovery. The original Discovery was captained by Robert Scott between 1901 - 1904 in his first unsuccessful expedition of Antarctica. \n\nThe original RRS Discovery now resides at her birthplace",
          "How is this guy notable?  No one's ever heard of the guy.  Who cares about some dime-a-dozen custom knife-maker.",
          "There was a guy, a white supremist arrested a few years back, who confessed to the killing of two black kids using a hunting rifle back in the mid 80's.\n\nHe confessed to his cellmate while in jail for something else.\n\nI really wish I remembered who he was, especially since it was so big.\n\nAlso, I think it would be helpful to add that information to give my old neighborhood a bit more personality.\n- 16:58, 4 Aug 2004 (UTC)",
          "If this is the guy who I met at University, he goes by the name Cameron St. John.  His father is a professor in Manotoba.\n\nHe was the President of the Campus Social Credit Association, and had a job off campus at Your Family Food Mart, restocking shelves.24.84.233.33",
          "Do you have something against WWII generals?  http://en.wikipedia.org/wiki/Nathan_Bedford_Forrest_III  He died in WWII fighting for our country",
          "NONE OF THIS MP STUFF IS TRUE AND I HEARD TODAY ON REALLY GOOD AUTHORITY THAT MARSDEN HAS AN ATTORNEY IN NEW YORK DRAWING UP THE MOTHER OF ALL LAWSUITS AGAINST JIMBO, WIKIPEDIA SO YOU MIGHT WANT TO TAKE THIS MP SHIT AND OTHER SHIT DOWN ASAP.",
          "Nevermind.  I found it.... http://www.newyorker.com/reporting/2010/01/04/100104fa_fact_paumgarten\nin which it has the quote followed by a comment about his foot-in-mouth antics.",
          "He was born in Geelong.",
          null
         ],
         "marker": {
          "opacity": 0.5,
          "size": 5
         },
         "mode": "markers+text",
         "name": "2_sighting_guy_mp",
         "text": [
          "",
          "",
          "",
          "",
          "",
          "",
          "",
          "",
          "",
          "",
          "",
          "",
          "2_sighting_guy_mp"
         ],
         "textfont": {
          "size": 12
         },
         "type": "scattergl",
         "x": [
          9.223217964172363,
          9.38046932220459,
          10.390301704406738,
          8.989062309265137,
          9.086075782775879,
          9.223845481872559,
          8.983222961425781,
          8.957274436950684,
          9.33862018585205,
          9.494667053222656,
          9.28732967376709,
          9.017319679260254,
          9.280951499938965
         ],
         "y": [
          8.980630874633789,
          8.797225952148438,
          9.14747428894043,
          9.349733352661133,
          9.237428665161133,
          9.079744338989258,
          8.883793830871582,
          9.342249870300293,
          8.849197387695312,
          8.821595191955566,
          8.51810073852539,
          9.329987525939941,
          9.028096199035645
         ]
        },
        {
         "hoverinfo": "text",
         "hovertext": [
          "NOP \n\nMORDOR'S Jewish beliefs make his version of the article neutral ? I don't think so, but I'm ready for compromise as on the discussion page. I made article neutral, without POV sentences and non referenced statements + Mordor's criticism about the party. I think that ban was not needed to solve this problem. I would like to remind you of Mordor's actions and that his beliefes influence Wikipedia's articles from up to down. I don't have anything against Jews (my uncle is a practicising Jew) but I think that Mordor have to stop spreading only his point of view on Polsih related articles. Please, look at article about NOP now \n\nNational Revival of Poland, version -  04:04, may 4 2008.\n\nI agree with Mordor's Criticism (which is higlhy positive to keep criticism on anything in Wikipedia's articles because nothing is perfect, but criticism with head and NPOV policy).",
          "The fact that the students in Waldorf schools in California have personal exemptions from immunizations at a higher rate than the state average is fact, verified by the State of California statistics which I ref'd.  In Sonoma County the exemption rate is 52% for the private school, 71% for one charter school, and 88% for the other.  The state average for personal exemptions is less than 2%.  Moving to the rest of the state provides similar numbers.  The schools can claim that this is not an official policy, but I did not argue that it is official policy, only that the numbers are true and that they are verifiable.\n\nMy edits have been deleted with the argument that the verifiable truth of individual school and county data is not relevant to a 'movement of over 1000 schools.'   So from my point of view, true and verifiable information about a significant component of life in Waldorf schools is being suppressed on wikipedia.",
          "\"\n\nSorrybut I've had to correct parts of the sentence; it was not accurate. I am using the most-up-to-date sources on this subject and have four decades of experience doing research on this subject, so I really do want to make that clear. If I see something that I know from my knowledge of the sources is inaccurate in emphasis, I am correcting it. Pinter does not write plays \"\"to express his political causes and beliefs\"\": that is not an accurate statement (according to my research and other published research on the subject in secondary sources as well as primary onesthe works). He explicitly states that that is not how he goes about writing plays or other creative writing. He does that in essays and speeches, but not in his dramatic works per se. Please do not change the emphasis if this is not a field with which you are familiar based on your citation to one page of one secondary source. (I have the source [Grimes]published and in manuscriptand that is not what he states in it.] Thanks.  \"",
          "Should we make the same argument for those who self-identify as Jews writing Holocaust articles?  The only possible rationale I could see for prohibiting self-identified pedophiles from writing articles on people claiming child abuse is that it provides right wing cranks with an opportunity to publicly attack Wikipedia.  Given the collaborative process, it certainly isn't going to make any difference in the quality of the resulting article, and most minor attracted adults editing Wikipedia aren't going to publicly announce their orientation anyway.",
          "\"\n\nThis was a very informative article and it is highly recommended. It needs more information about how to deal with intellectualy dihonesty on Wikipedia. There are some regular writers on Wikipedia who knowingly engage in personal attacks and deletions (even of links) of anyone who explains the connection between Edward Bellamy and his cousin Francis Bellamy (author of the pledge of allegiance) and National Socialism. Some of the worst falsifiers on Wikipedia are Stormie, Lupo, and Matt Crypto. They were challenged to respond to the facts that they suppressed or to concede, and they each conceded that the facts that they suppress are correct and that they delete those facts because they do not want Wikipedia readers to know the truth. They constantly spam their own point of view in their diatribes in which they try to cover up for Nazism. It is behavior that breaks Wikipedia's rules. What kind of people cover-up for Nazis and that horrid ideology?\n\nMany regular writers on Wikipedia are intellectually dishonest  and they regurgitate the top media cover-ups.  They cover up many historic photos of the Pledge of Allegiance http://rexcurry.net/pledge2.html that reveal its original straight-arm salute.  They cover up the fact that the author of the Pledge of Allegiance (Francis Bellamy), and his cousin and cohort (Edward Bellamy), were National Socialists and supported the \"\"Nationalism\"\" movement, the \"\"Nationalist\"\" magazine, the \"\"Nationalist Educational Association,\"\" their dogma of \"\"military socialism,\"\" and Edward inspired the \"\"Nationalist Party.\"\"  They cover up the Pledge's straight-arm salute as the origin http://rexcurry.net/pledge1.html of the salute of the National Socialist German Workers' Party (Nazis). As part of the cover up, they perpetuate the myth http://rexcurry.net/pledgesalute.html that the straight-arm salute was from ancient Rome.  They cover up discoveries by the historian Rex Curry.  The Pledge began with a military salute that then stretched outward toward the flag. Historic photographs are at http://rexcurry.net/pledge2.html and at http://rexcurry.net/pledge_military.html showing the evolution of the gesture. Due to the way that both gestures were used, the military salute led to the Nazi salute. The Nazi salute http://rexcurry.net/book1a1contents-pledge.html is an extended military salute. A mnemonic device is the swastika (\"\"Hakenkreuz\"\" in German).   Although the swastika was an ancient symbol, it was also used sometimes by German National Socialists to represent \"\"S\"\" letters for their \"\"socialism.\"\"  Hitler altered his own signature http://rexcurry.net/book1a1contents-swastika.html to use the same stylized \"\"S\"\" letter for \"\"socialist.\"\" Wikipedia's fibbers cover up for the swastika http://rexcurry.net/swastikanews.html and its use as a sick socialist symbol. Wikipedia's dissemblers cover up for the National Socialist German Worker's Party http://rexcurry.net/swastikamedia.html by overuse of the hackneyed shorthand \"\"Nazi.\"\"  Many Wikipedia posters are propagandists in that there was no \"\"Nazi Party\"\" because it was actually the \"\"National Socialist German Workers' Party\"\" and the party members did not call themselves \"\"Nazis\"\" nor the \"\"Nazi Party.\"\"  The term \"\"Nazi\"\" developed from slang using the first syllable in the German pronunciation of the \"\"National Socialist German Workers' Party.\"\"  In that sense, the author of the Pledge of Allegiance was a \"\"Nazi\"\" too, in that the term means \"\"National Socialist.\"\"  The term \"\"Nazi\"\" is also used to hide the National Socialist dogma behind the Pledge of Allegiance, its original gesture, and the National Socialist German Workers' Party.  \n\nWikipedia's cons use the term \"\"Nazi\"\" and the misnomer \"\"Nazi Party\"\" to cover-up the horrors of socialism. Wikipedia's falsifiers cover up the the socialist trio of atrocities and and their socialist Wholecaust (of which the Holocaust was a part): 62 million people were slaughtered under the former Union of Soviet Socialist Republics; 35 million were slaughtered under the Peoples' Republic of China; 21 million were slaughtered under the National Socialist German Workers' Party. They cover up the fact that socialists helped start WWII with the National Socialist German Workers' Party and the Union of Soviet Socialist Republics together  http://rexcurry.net/socialistwar.html as allies in 1939. They cover up for and are deniers of the socialist Wholecaust, http://rexcurry.net/mediacoverup.html of which the monstrous Holocaust was a part.\n\nLiars on Wikipedia repeat common lies http://rexcurry.net/mediapledge.html of the media. http://rexcurry.net/socialistmedia.html\n\nWikipedia should not be cited for support because it is no different than quoting various anonymous sources who have no knowledge of the topic http://rexcurry.net/wikipedialies.html or who have fibs to spread about the topic.\n\nThe Wikipedia article for th",
          "\"\n\nOKAY, I have now tried to just delete the offensive sentences in the beginning about Mr. Irving being a socalled 'holocaust denier'. He says himself he is not, and acknowledges that many jews were killed during the war, however he does not go along with the 6 million jews killed-figure, as he reckons the number to be lower. And it really comes down to that: \"\" David has the right to question anything relating to history and WW2 is his speciality, and he actually makes a living of questioning and critically examining sources.\n\nI also decided to delete the account about him loosing a court case in 2000. David have launched several libel cases before - in 1996 he won 45000 £ libel-damage against an English Sunday Newspaper. The fact that he this time lost is not something that should figure at the head of his CV. Many people also find it extraordinary that a judge can deside what a person IS or is not, and what beliefs he holds.\"",
          "\"\n\nTo regard this think tank as a \"\"propaganda organization\"\", you would need to find a reliable source stating that it is a propaganda organization. All anyone's been able to do is find the appropriate verb. Which, would be found by reliable sources reporting on the Clinton campaign, the Obama campaign, the Bachmann campaign, and any number of political interest groups or political parties. Type in \"\"propagandizing\"\" and list a newspaper, political party, think-tank, or even university, and you'll see what I mean. Like this on the Obama campaign  To make inferences from that opinion piece published in a reliable source, and therefore label his campaign a \"\"propaganda organization\"\", or himself a \"\"master propagandist\"\", would of course be very subjective.\"",
          "\"\nThough I'm not sure about the claim that transgender men are not \"\"real\"\" men (perhaps not biologically), I do find it somewhat strange that we're including unknown men on the basis of their being transgendered, and at the exclusion of some of the most influential and famous male figures in history (e.g. Jesus, Mohammad, Buddha, Hitler, Caesar). What are the priorities here? To prove how liberal and progressive wikipedia is?   \"",
          "\"\nThe fact that it is in the \"\"accused\"\" category instead of just Category:Terrorist organizations implies that the accusation was and is hotly disputed.  In fact, are you suggesting that there is any accusation of terrorism that has ever not been disputed by someone or other?\n\nEssentially, you are a Lehi supporter trying to make Lehi look as good as possible.  Compare this with the situation with Al Qaeda.  There, I am having a hard time keeping the article in  Category:Organizations accused of terrorism, not because there is anyone wanting not to label the organization, but because everyone wants it in Category:Terrorist organizations!  It's crazy.  You partisans want your favourite terrorist organisations free of labels, and your enemies' organizations labelled as \"\"terrorist\"\".  Since there are more Jewish and Christian people editing Wikipedia than Muslims, this means that some get the label, and others don't.\n\nI'm afraid that this situation is not acceptable.  Pro-terrorists are going to have to accept that we have an NPOV policy, and that all of these organizations will be categorised in a neutral manner.  —  ✉ \"",
          "So you're a democrat.  Congratulations.\n\nI'm an American, not affiliated with either party, and if any recent presidents had attacked the media for merely commenting, the rest of the media would have formed a lynch mob.  I guess you think it's ok for the President and his administration to promote censorship when there's a Marxist in the Whitehouse, and then prevent that fact from being presented in documentation such as this, eh?",
          null
         ],
         "marker": {
          "opacity": 0.5,
          "size": 5
         },
         "mode": "markers+text",
         "name": "3_socialist_party_national",
         "text": [
          "",
          "",
          "",
          "",
          "",
          "",
          "",
          "",
          "",
          "",
          "3_socialist_party_national"
         ],
         "textfont": {
          "size": 12
         },
         "type": "scattergl",
         "x": [
          10.740602493286133,
          11.068521499633789,
          10.845466613769531,
          10.861145973205566,
          10.830578804016113,
          10.70065689086914,
          10.587088584899902,
          10.631539344787598,
          10.696649551391602,
          10.701737403869629,
          10.766397476196289
         ],
         "y": [
          7.489991664886475,
          7.588518142700195,
          8.00810432434082,
          7.432340621948242,
          7.36671257019043,
          7.965598106384277,
          7.6181559562683105,
          7.485560894012451,
          7.553766250610352,
          8.10002326965332,
          7.660877227783203
         ]
        },
        {
         "hoverinfo": "text",
         "hovertext": [
          "My mom sucks nigger dick",
          "Viral is a faggot mother fucker in the shit of the crap stritting.",
          "if I wasn't a fifteen-year-old girl",
          "Hanibal911You're a bastard Pro-Assad. The rebels Aleppo Central Prison have been completely. Assad's like you're a bastard. Many men like to have sex with your mother, mother-Assad.You're a genital fit. Many men will serve your mother every day, and every day it eats genital. But you and your bastard Assad and parents. No Gvhy can not eat. Of course I understand that when you and your parents bastard to eat not eat Wedge. I suggest that parents make you eat my wedge. In the hope that residents will separate your head from your body.",
          "YOU SUCK \n\nHello J. Delanoy,\n\nU suck. I could totally pwn u in my sleep. Come log on WoW like a real man and we will duel. My death knight rolak will destroy u. In f4ct, u r probably some horde faggot pansy ass blood elf faggot. I could prolly even 1 shot u cus u r a faggot ass pansy bitch whore. U r the biggest noob I have ever seen. LOL u prolly dont even have any ep3x. People like u make me sick. Ur mother is prolly horde too rofl i can prolly pwn u both at the same time. Lol u r prolly an orc to. I one shotted thrall, cus he is the king of the noobs. U prolly didnt even beat kara cus u suck. LOL u prolly dont even tier 9 yet cus u suck that much. My dk had some t8 in bc, ur such a noob that u prolly only had like dungeon tier 1 LOL!!. U r prolly a virgin too. LOL I get laid 8 times a day. Just ask ur mother. I also bang all of the cheerleaders for the football and basketball teams. Oh ya and baseball. I am also the starting qb for our football team. We won the state championship. I threw so many passes. Then I got laid. Yeah, u wish u were as good at life as me. But ur not, cus u suck. U just sit there all day, raiding kara with ur noob welfare ep4x wiping on the horseman LOL. We never wiped on him. U really need to get a life, I mean who doesnt have at least t7 yet srsly?? Add me and well duel and ill destroy ur noob welfare blood elf orc ass. U prolly cant even bring me down to 95% LOL cus u suck noob.\n\nU rly suck srsly,\n\nROlak, King of da Death Knights.\n\n68.205.182.184",
          "Hey you cunt armchair lawyer\nDo you like it? Sitting in your mom's basement trying to act like you are know it all?\n\nGo fuck yourself you stupid cunt bag.",
          "It's Me again. \n\nLook, I sent you a message about 3 months ago. But I see you want to be a jackass a not respond. So fuck you and go shove a saw up your smelly ass you dipshit mother fucker.!!!! LMFAO!!",
          "How dare you send me such abuse you fucking cockmaster!\nIf you dare warn me again, Mr Jeff. I will savagely attack your mother!\n\nI know where you live",
          null
         ],
         "marker": {
          "opacity": 0.5,
          "size": 5
         },
         "mode": "markers+text",
         "name": "4_prolly_suck_lol",
         "text": [
          "",
          "",
          "",
          "",
          "",
          "",
          "",
          "",
          "4_prolly_suck_lol"
         ],
         "textfont": {
          "size": 12
         },
         "type": "scattergl",
         "x": [
          10.482101440429688,
          9.769200325012207,
          10.349078178405762,
          10.520539283752441,
          10.499979972839355,
          10.680679321289062,
          10.540156364440918,
          10.620431900024414,
          10.432770729064941
         ],
         "y": [
          5.121530055999756,
          5.300780296325684,
          5.219229221343994,
          5.282430171966553,
          5.341798782348633,
          5.289106845855713,
          5.147627353668213,
          5.044519901275635,
          5.218377590179443
         ]
        },
        {
         "hoverinfo": "text",
         "hovertext": [
          "There are two interpretations . Traditional Catholics consider non-Catholics as protestants. Historians consider Christian groups that historicaly protested or antagonized the Catholic Church as protestant, these are typically Lutherans and affiliates. Are the Greek ,Russian and Coptic Orthodox Churches protestant?They have only been geographically separated and developed that way . They maintain many sacraments seen in the Catholic Church. Also Christian coalitions have core requirements like acceptance of the Divinity of Jesus as the Son of God, Holy Trinity, Ressurection and Salvation through grace, personal relation to J.C. etc. Jehovah's Witnesses, Adventists, etc, don't accept all of these. Even the Catholic Church accepts (I believe) certain groups as Christian even if they don't recognize the Pope as long as the fulfill these Christian requirements. Since this is an encyclopedia, we need to distinguish these forms.",
          "You're asking for original research. (not allowed in Wiki) Wiki reports the consensus of scholars which is that he was a deist and not a Christian. that is a verifiable fact and is reported. Maybe he was a really secret Buddhisthow could anyone disprove that? Should Wiki mention that possibility? Try this: name a few prominent Christian leaders who say he was a genuine Christian.   TJ wrote that he rejected Jesus as God or saviour; he rejected miracles; he rejected the gospels as authentic. he thought Jesus had some good ethical ideas.",
          "Thank you for the discussion. ) I may have worded it wrong. Even though officially Latin is not used in the City-State in the same way as the Holy See, leaving only the Italian translation can also mislead readers to believe Italian, English, etc are only used there even in documents, and the average reader will still tend to confuse the two entities of the Vatican City State and Holy See together even after reading the article (even I do!). I believe the note therefore kills two birds with one stone with the clarification in a concise manner, and instead of removing it any help in clarity would be appreciated and help the article overall.",
          "Religious beliefs?\nI wonder why this article doesn't mention his religious beliefs? He often mentioned Jesus in his lyrics, and he even had Tattoo of a huge cross on his back. Doesn't that count for anything? |Talk 17:38, 30 Sept, 2006 (UTC)",
          "Article is not diverse enough\nThe article is too centered on historical protestant criticisms of the Church, however they are now only a minority of criticisms, when you take into account muslim criticisms (about the Trinity), ewish criticisms (about the identity of the Messiah), buddhist criticisms (about the necesity of dogmas), hindu criticisms (about missionaries), secular critcisms (about the political role of bishops), and many other types sociological and scientific of criticisms. 69.157.229.14",
          "Can I ask what is wrong with the Walmart source?\nIt explicitly lists the band in the Christian rock genre.",
          "No, people do not use Christianity to refer specifically to Mormonism.  Mormonism is used to refer to Mormonism specifically.  Christianianity is used  to refer, much more generally, to all religions that worship Jesus Christ.I don't see any references to Mormonism in that article.",
          null
         ],
         "marker": {
          "opacity": 0.5,
          "size": 5
         },
         "mode": "markers+text",
         "name": "5_christian_criticisms_jesus",
         "text": [
          "",
          "",
          "",
          "",
          "",
          "",
          "",
          "5_christian_criticisms_jesus"
         ],
         "textfont": {
          "size": 12
         },
         "type": "scattergl",
         "x": [
          8.047130584716797,
          8.14338207244873,
          8.288068771362305,
          7.950911045074463,
          8.056489944458008,
          8.044766426086426,
          8.019342422485352,
          8.078584671020508
         ],
         "y": [
          8.31295108795166,
          8.379728317260742,
          8.270078659057617,
          8.207420349121094,
          8.284266471862793,
          7.535421371459961,
          8.257818222045898,
          8.178240776062012
         ]
        },
        {
         "hoverinfo": "text",
         "hovertext": [
          "Below we're told only one of these images can be used.  Given that, it seems obvious to me that the outdated photo in which Michael Brown looks like a young boy is not to be used.   (talk)  (contribs)",
          "Hello,\n\nI am the owner of the 2 photos you deleted. perhaps i didn't license it properly because I don't have good English and thought i was putting it by the right category. Mimel took the photo, he and I uploaded the file. He is a photographer in Haifa, Israel. \nIn which category should I put the photos, considering that you are speaking to the person that took it. We can decide to make it a free licences with Mimel tommorow without any problem.",
          "id=7820 it says that 'Pictures of Matchstick Men' was inspired by the artist's work.",
          "\"\n\nNo, ive never been lucky enough to go to one of his concerts, it might be a case of carry on looking on flickr until we find one thats good and doesnt a press attachment. Im not really familiar with copy right rules their quite complicated, a possibility would be a music video still, or a concert that was in the public domain such as his superbowl performance in 1993.  ('Come Speak To Me') \"",
          "\"I think the \"\"split image\"\" of Richard Desmond arises from the fact that he made his money in pornography (not mainstream publications), and then once having made his money, he used those profits from pornography to try to buy his way into mainstream publishing.  I think that can be stated as fact.  Now as to whether he did the latter in an attempt to improve his soiled image . . . . well, that's up the reader to form an opinion.\n\n\"",
          "Re: Barrymore 1936 photos \n\nManaged to drum up two so far: File:Scene from Romeo and Juliet 2.jpg File:Scene from Romeo and Juliet 1936.jpg.  While looking, I found a back story re: Barrymore and the film.  Barrymore and Barrie managed to have a bad quarrel which was heated enough for her to go to New York.  Barrymore was thoroughly miserable without her and threatened to quit the film (in production) unless Barrie came back to him.  Producer Irving Thalberg had the job of begging and pleading with her via long distance so his project could continue. This is on page 32 of the article.",
          null
         ],
         "marker": {
          "opacity": 0.5,
          "size": 5
         },
         "mode": "markers+text",
         "name": "6_barrymore_photos_mimel",
         "text": [
          "",
          "",
          "",
          "",
          "",
          "",
          "6_barrymore_photos_mimel"
         ],
         "textfont": {
          "size": 12
         },
         "type": "scattergl",
         "x": [
          8.560184478759766,
          8.745943069458008,
          8.485957145690918,
          8.740609169006348,
          8.500152587890625,
          8.239816665649414,
          8.545443534851074
         ],
         "y": [
          5.752449989318848,
          5.700229167938232,
          5.737922668457031,
          5.876504898071289,
          5.941037178039551,
          5.961401462554932,
          5.828258037567139
         ]
        },
        {
         "hoverinfo": "text",
         "hovertext": [
          "Okay, well then if I put in the year he promoted from Oak will that be a reliable fact ?",
          "Yes, I think he is just a newcomer. We do not want to bite him.  (talk - )",
          "\"\n\nI'm nearly certain that Scott Thornton didn't become an alternate captain until Craig Conroy was traded to Calgary.  I sure can't recall him wearing the \"\"A\"\" on his jersey before that moment, and I also thought I heard on a Kings telecast shortly after the Conroy trade Bob Miller and Jim Fox talking about how he's now wearing the \"\"A\"\" on his jersey, leading me to believe that he assumed that role after the trade.  I'm not gonna reflect my opinion in the article; I thought I'd leave a cimment here, first.  '''''' \"",
          "\"? Is he \"\"special\"\"\"",
          "How about mentioning that he has a 2-year contract, but whether he'll play the 2nd year is disputed? That might work alright.",
          "Cesc Fabregas \n\nI see it's been changed that he now plays for Chelsea. Looks like I was right all along? how do you like that you little bitch? I was right and you were wrong.",
          null
         ],
         "marker": {
          "opacity": 0.5,
          "size": 5
         },
         "mode": "markers+text",
         "name": "7_conroy_wearing_jersey",
         "text": [
          "",
          "",
          "",
          "",
          "",
          "",
          "7_conroy_wearing_jersey"
         ],
         "textfont": {
          "size": 12
         },
         "type": "scattergl",
         "x": [
          10.99837589263916,
          11.35948657989502,
          11.078246116638184,
          11.14241886138916,
          10.98598575592041,
          11.262476921081543,
          11.137831687927246
         ],
         "y": [
          9.318318367004395,
          9.340843200683594,
          9.429438591003418,
          9.239442825317383,
          9.379733085632324,
          9.365026473999023,
          9.345466613769531
         ]
        },
        {
         "hoverinfo": "text",
         "hovertext": [
          "\" The article claims that his father was Mokhachane - his name was actually Khachane. No, this is not an example of the prefix war - \"\"mokhachane\"\" means \"\"a pregnant woman\"\" and my late brother's second name was Khachane. I have mo idea what the name means, but it could be from Mokhachane. Please just change it - be italic. User:ZyXoas \"",
          "Pronouncing \n\n[ˌrəʊlzˈrɔɪs] is the English pronunciation, often mistaken with [ˌrəʊlsˈrɔɪs].",
          "|listas = Montgolfier Brothers, The",
          "PS You can check this in the snappily-titled List of names in English with non-intuitive pronunciations.   | Talk",
          "\"\nYou can say it if you like, but that ain't standard English.  —  ✉ \"",
          "Curiously, most members of those Chinese armies spoke cantonese. 99.244.189.70",
          null
         ],
         "marker": {
          "opacity": 0.5,
          "size": 5
         },
         "mode": "markers+text",
         "name": "8_mokhachane_brothers_khachane",
         "text": [
          "",
          "",
          "",
          "",
          "",
          "",
          "8_mokhachane_brothers_khachane"
         ],
         "textfont": {
          "size": 12
         },
         "type": "scattergl",
         "x": [
          9.032447814941406,
          8.945204734802246,
          8.741057395935059,
          8.836048126220703,
          9.052321434020996,
          9.12132453918457,
          8.954734802246094
         ],
         "y": [
          7.36436128616333,
          7.596403121948242,
          7.348545074462891,
          7.394027233123779,
          7.818475246429443,
          7.684776306152344,
          7.534431457519531
         ]
        },
        {
         "hoverinfo": "text",
         "hovertext": [
          "Carlo Forlivesi \n\nYou mention Google News? A search on the guy returns a measly 8 results from the archives.\n\nSay what you will, the page is OBVIOUS and shameless self-promotion by a complete nobody.\n\nNot that I expect Wikipedia to ever become anything serious or reliable (it's mostly a pile of bullshit anyway) but at least this kind of crap used to be removed. If that's no longer the case, well, that just gives even more weight to the point I make on my user page.",
          "\"\n\n Blocking Mardyks  \n\nExcellent work there Shii. We can't have his kind getting us to think about what the Maya actually say about their own prophecies. We insulted him, offended him and abused him and he just had to be ethical and persistant. BLOCK those Mother Fukkers!!! Taking out the entire Santa Fe Public Library system is a great preemptive strike also. There may be others of his kind, that sympathize with those \"\"Indians\"\". These people actually LOVE the Earth and that is without reliable sources! We kicked their asses and have the right to write THEIR history and interpret THEIR sacred teachings however we please. We need more from college students who have been indoctrinated in the Church of Academia. That piece by Stitler is one of the most exaggerated and opinionated and so yeah, use that as the title of the page! And by all means give John MAJOR Jenkins his own section. Not a single scholar or Mayanists agrees with his appropriated theory and this kind of hypocrisy and arrogance is what Wiki is all about. We can get away with it, by continuing to use our power to censor free thinkers like Mardyks and his kind. Sony Pictures is paying us all off with tickets, so let us know how many you want. FREE popcorn, too! Whoopee! Best wishes from Jimini Cricket 97.123.26.228  \"",
          "\"\n\n Edmund, Wisconsin \n\nhi! i've just seen the history edit, and your revert (\"\"sources\"\"). please be mild with the user who wrote the history text. i know him, he was raised in that town (and in Cobb, Wisconsin; similar revert) and is 87 years old now. i advised him to slowly approach wikipedia as an active contributor, and these were his first two large edits, and the third and fourth in total. i think he'll register soon, and once he's done it, pls welcome him. he's a wise man. thanks,    (germany)\"",
          "\"Thank you for experimenting with the page Boy in Da Corner on Wikipedia. Your test worked, and has been reverted or removed. Please use the sandbox for any other tests you want to do. Take a look at the welcome page if you would like to learn more about contributing to our encyclopedia.  S | talk \"",
          "\"\n\n Buredoran \n\nTher is absolutely no reason to have an entire article just on Buredoran. First of all he is not the main antagonist. He is just a recurring antagonist. And second, there have never been individual articles on any Super Sentai (or Kamen Rider) antagonist. It's not a good time to start, particularly when articles on fiction and fictional characters are under such scrutiny.— (竜龙) \"",
          null
         ],
         "marker": {
          "opacity": 0.5,
          "size": 5
         },
         "mode": "markers+text",
         "name": "9_kind_page_antagonist",
         "text": [
          "",
          "",
          "",
          "",
          "",
          "9_kind_page_antagonist"
         ],
         "textfont": {
          "size": 12
         },
         "type": "scattergl",
         "x": [
          10.149744987487793,
          10.576395988464355,
          10.04438591003418,
          10.043540954589844,
          10.475668907165527,
          10.25794792175293
         ],
         "y": [
          6.94736909866333,
          7.103744029998779,
          6.9053802490234375,
          6.703751087188721,
          7.11901330947876,
          6.9558515548706055
         ]
        }
       ],
       "layout": {
        "annotations": [
         {
          "showarrow": false,
          "text": "D1",
          "x": 5.970704531669616,
          "y": 7.56584814786911,
          "yshift": 10
         },
         {
          "showarrow": false,
          "text": "D2",
          "x": 10.189843285083771,
          "xshift": 10,
          "y": 10.84385437965393
         }
        ],
        "height": 750,
        "shapes": [
         {
          "line": {
           "color": "#CFD8DC",
           "width": 2
          },
          "type": "line",
          "x0": 10.189843285083771,
          "x1": 10.189843285083771,
          "y0": 4.2878419160842896,
          "y1": 10.84385437965393
         },
         {
          "line": {
           "color": "#9E9E9E",
           "width": 2
          },
          "type": "line",
          "x0": 5.970704531669616,
          "x1": 14.408982038497925,
          "y0": 7.56584814786911,
          "y1": 7.56584814786911
         }
        ],
        "template": {
         "data": {
          "bar": [
           {
            "error_x": {
             "color": "rgb(36,36,36)"
            },
            "error_y": {
             "color": "rgb(36,36,36)"
            },
            "marker": {
             "line": {
              "color": "white",
              "width": 0.5
             },
             "pattern": {
              "fillmode": "overlay",
              "size": 10,
              "solidity": 0.2
             }
            },
            "type": "bar"
           }
          ],
          "barpolar": [
           {
            "marker": {
             "line": {
              "color": "white",
              "width": 0.5
             },
             "pattern": {
              "fillmode": "overlay",
              "size": 10,
              "solidity": 0.2
             }
            },
            "type": "barpolar"
           }
          ],
          "carpet": [
           {
            "aaxis": {
             "endlinecolor": "rgb(36,36,36)",
             "gridcolor": "white",
             "linecolor": "white",
             "minorgridcolor": "white",
             "startlinecolor": "rgb(36,36,36)"
            },
            "baxis": {
             "endlinecolor": "rgb(36,36,36)",
             "gridcolor": "white",
             "linecolor": "white",
             "minorgridcolor": "white",
             "startlinecolor": "rgb(36,36,36)"
            },
            "type": "carpet"
           }
          ],
          "choropleth": [
           {
            "colorbar": {
             "outlinewidth": 1,
             "tickcolor": "rgb(36,36,36)",
             "ticks": "outside"
            },
            "type": "choropleth"
           }
          ],
          "contour": [
           {
            "colorbar": {
             "outlinewidth": 1,
             "tickcolor": "rgb(36,36,36)",
             "ticks": "outside"
            },
            "colorscale": [
             [
              0,
              "#440154"
             ],
             [
              0.1111111111111111,
              "#482878"
             ],
             [
              0.2222222222222222,
              "#3e4989"
             ],
             [
              0.3333333333333333,
              "#31688e"
             ],
             [
              0.4444444444444444,
              "#26828e"
             ],
             [
              0.5555555555555556,
              "#1f9e89"
             ],
             [
              0.6666666666666666,
              "#35b779"
             ],
             [
              0.7777777777777778,
              "#6ece58"
             ],
             [
              0.8888888888888888,
              "#b5de2b"
             ],
             [
              1,
              "#fde725"
             ]
            ],
            "type": "contour"
           }
          ],
          "contourcarpet": [
           {
            "colorbar": {
             "outlinewidth": 1,
             "tickcolor": "rgb(36,36,36)",
             "ticks": "outside"
            },
            "type": "contourcarpet"
           }
          ],
          "heatmap": [
           {
            "colorbar": {
             "outlinewidth": 1,
             "tickcolor": "rgb(36,36,36)",
             "ticks": "outside"
            },
            "colorscale": [
             [
              0,
              "#440154"
             ],
             [
              0.1111111111111111,
              "#482878"
             ],
             [
              0.2222222222222222,
              "#3e4989"
             ],
             [
              0.3333333333333333,
              "#31688e"
             ],
             [
              0.4444444444444444,
              "#26828e"
             ],
             [
              0.5555555555555556,
              "#1f9e89"
             ],
             [
              0.6666666666666666,
              "#35b779"
             ],
             [
              0.7777777777777778,
              "#6ece58"
             ],
             [
              0.8888888888888888,
              "#b5de2b"
             ],
             [
              1,
              "#fde725"
             ]
            ],
            "type": "heatmap"
           }
          ],
          "heatmapgl": [
           {
            "colorbar": {
             "outlinewidth": 1,
             "tickcolor": "rgb(36,36,36)",
             "ticks": "outside"
            },
            "colorscale": [
             [
              0,
              "#440154"
             ],
             [
              0.1111111111111111,
              "#482878"
             ],
             [
              0.2222222222222222,
              "#3e4989"
             ],
             [
              0.3333333333333333,
              "#31688e"
             ],
             [
              0.4444444444444444,
              "#26828e"
             ],
             [
              0.5555555555555556,
              "#1f9e89"
             ],
             [
              0.6666666666666666,
              "#35b779"
             ],
             [
              0.7777777777777778,
              "#6ece58"
             ],
             [
              0.8888888888888888,
              "#b5de2b"
             ],
             [
              1,
              "#fde725"
             ]
            ],
            "type": "heatmapgl"
           }
          ],
          "histogram": [
           {
            "marker": {
             "line": {
              "color": "white",
              "width": 0.6
             }
            },
            "type": "histogram"
           }
          ],
          "histogram2d": [
           {
            "colorbar": {
             "outlinewidth": 1,
             "tickcolor": "rgb(36,36,36)",
             "ticks": "outside"
            },
            "colorscale": [
             [
              0,
              "#440154"
             ],
             [
              0.1111111111111111,
              "#482878"
             ],
             [
              0.2222222222222222,
              "#3e4989"
             ],
             [
              0.3333333333333333,
              "#31688e"
             ],
             [
              0.4444444444444444,
              "#26828e"
             ],
             [
              0.5555555555555556,
              "#1f9e89"
             ],
             [
              0.6666666666666666,
              "#35b779"
             ],
             [
              0.7777777777777778,
              "#6ece58"
             ],
             [
              0.8888888888888888,
              "#b5de2b"
             ],
             [
              1,
              "#fde725"
             ]
            ],
            "type": "histogram2d"
           }
          ],
          "histogram2dcontour": [
           {
            "colorbar": {
             "outlinewidth": 1,
             "tickcolor": "rgb(36,36,36)",
             "ticks": "outside"
            },
            "colorscale": [
             [
              0,
              "#440154"
             ],
             [
              0.1111111111111111,
              "#482878"
             ],
             [
              0.2222222222222222,
              "#3e4989"
             ],
             [
              0.3333333333333333,
              "#31688e"
             ],
             [
              0.4444444444444444,
              "#26828e"
             ],
             [
              0.5555555555555556,
              "#1f9e89"
             ],
             [
              0.6666666666666666,
              "#35b779"
             ],
             [
              0.7777777777777778,
              "#6ece58"
             ],
             [
              0.8888888888888888,
              "#b5de2b"
             ],
             [
              1,
              "#fde725"
             ]
            ],
            "type": "histogram2dcontour"
           }
          ],
          "mesh3d": [
           {
            "colorbar": {
             "outlinewidth": 1,
             "tickcolor": "rgb(36,36,36)",
             "ticks": "outside"
            },
            "type": "mesh3d"
           }
          ],
          "parcoords": [
           {
            "line": {
             "colorbar": {
              "outlinewidth": 1,
              "tickcolor": "rgb(36,36,36)",
              "ticks": "outside"
             }
            },
            "type": "parcoords"
           }
          ],
          "pie": [
           {
            "automargin": true,
            "type": "pie"
           }
          ],
          "scatter": [
           {
            "fillpattern": {
             "fillmode": "overlay",
             "size": 10,
             "solidity": 0.2
            },
            "type": "scatter"
           }
          ],
          "scatter3d": [
           {
            "line": {
             "colorbar": {
              "outlinewidth": 1,
              "tickcolor": "rgb(36,36,36)",
              "ticks": "outside"
             }
            },
            "marker": {
             "colorbar": {
              "outlinewidth": 1,
              "tickcolor": "rgb(36,36,36)",
              "ticks": "outside"
             }
            },
            "type": "scatter3d"
           }
          ],
          "scattercarpet": [
           {
            "marker": {
             "colorbar": {
              "outlinewidth": 1,
              "tickcolor": "rgb(36,36,36)",
              "ticks": "outside"
             }
            },
            "type": "scattercarpet"
           }
          ],
          "scattergeo": [
           {
            "marker": {
             "colorbar": {
              "outlinewidth": 1,
              "tickcolor": "rgb(36,36,36)",
              "ticks": "outside"
             }
            },
            "type": "scattergeo"
           }
          ],
          "scattergl": [
           {
            "marker": {
             "colorbar": {
              "outlinewidth": 1,
              "tickcolor": "rgb(36,36,36)",
              "ticks": "outside"
             }
            },
            "type": "scattergl"
           }
          ],
          "scattermapbox": [
           {
            "marker": {
             "colorbar": {
              "outlinewidth": 1,
              "tickcolor": "rgb(36,36,36)",
              "ticks": "outside"
             }
            },
            "type": "scattermapbox"
           }
          ],
          "scatterpolar": [
           {
            "marker": {
             "colorbar": {
              "outlinewidth": 1,
              "tickcolor": "rgb(36,36,36)",
              "ticks": "outside"
             }
            },
            "type": "scatterpolar"
           }
          ],
          "scatterpolargl": [
           {
            "marker": {
             "colorbar": {
              "outlinewidth": 1,
              "tickcolor": "rgb(36,36,36)",
              "ticks": "outside"
             }
            },
            "type": "scatterpolargl"
           }
          ],
          "scatterternary": [
           {
            "marker": {
             "colorbar": {
              "outlinewidth": 1,
              "tickcolor": "rgb(36,36,36)",
              "ticks": "outside"
             }
            },
            "type": "scatterternary"
           }
          ],
          "surface": [
           {
            "colorbar": {
             "outlinewidth": 1,
             "tickcolor": "rgb(36,36,36)",
             "ticks": "outside"
            },
            "colorscale": [
             [
              0,
              "#440154"
             ],
             [
              0.1111111111111111,
              "#482878"
             ],
             [
              0.2222222222222222,
              "#3e4989"
             ],
             [
              0.3333333333333333,
              "#31688e"
             ],
             [
              0.4444444444444444,
              "#26828e"
             ],
             [
              0.5555555555555556,
              "#1f9e89"
             ],
             [
              0.6666666666666666,
              "#35b779"
             ],
             [
              0.7777777777777778,
              "#6ece58"
             ],
             [
              0.8888888888888888,
              "#b5de2b"
             ],
             [
              1,
              "#fde725"
             ]
            ],
            "type": "surface"
           }
          ],
          "table": [
           {
            "cells": {
             "fill": {
              "color": "rgb(237,237,237)"
             },
             "line": {
              "color": "white"
             }
            },
            "header": {
             "fill": {
              "color": "rgb(217,217,217)"
             },
             "line": {
              "color": "white"
             }
            },
            "type": "table"
           }
          ]
         },
         "layout": {
          "annotationdefaults": {
           "arrowhead": 0,
           "arrowwidth": 1
          },
          "autotypenumbers": "strict",
          "coloraxis": {
           "colorbar": {
            "outlinewidth": 1,
            "tickcolor": "rgb(36,36,36)",
            "ticks": "outside"
           }
          },
          "colorscale": {
           "diverging": [
            [
             0,
             "rgb(103,0,31)"
            ],
            [
             0.1,
             "rgb(178,24,43)"
            ],
            [
             0.2,
             "rgb(214,96,77)"
            ],
            [
             0.3,
             "rgb(244,165,130)"
            ],
            [
             0.4,
             "rgb(253,219,199)"
            ],
            [
             0.5,
             "rgb(247,247,247)"
            ],
            [
             0.6,
             "rgb(209,229,240)"
            ],
            [
             0.7,
             "rgb(146,197,222)"
            ],
            [
             0.8,
             "rgb(67,147,195)"
            ],
            [
             0.9,
             "rgb(33,102,172)"
            ],
            [
             1,
             "rgb(5,48,97)"
            ]
           ],
           "sequential": [
            [
             0,
             "#440154"
            ],
            [
             0.1111111111111111,
             "#482878"
            ],
            [
             0.2222222222222222,
             "#3e4989"
            ],
            [
             0.3333333333333333,
             "#31688e"
            ],
            [
             0.4444444444444444,
             "#26828e"
            ],
            [
             0.5555555555555556,
             "#1f9e89"
            ],
            [
             0.6666666666666666,
             "#35b779"
            ],
            [
             0.7777777777777778,
             "#6ece58"
            ],
            [
             0.8888888888888888,
             "#b5de2b"
            ],
            [
             1,
             "#fde725"
            ]
           ],
           "sequentialminus": [
            [
             0,
             "#440154"
            ],
            [
             0.1111111111111111,
             "#482878"
            ],
            [
             0.2222222222222222,
             "#3e4989"
            ],
            [
             0.3333333333333333,
             "#31688e"
            ],
            [
             0.4444444444444444,
             "#26828e"
            ],
            [
             0.5555555555555556,
             "#1f9e89"
            ],
            [
             0.6666666666666666,
             "#35b779"
            ],
            [
             0.7777777777777778,
             "#6ece58"
            ],
            [
             0.8888888888888888,
             "#b5de2b"
            ],
            [
             1,
             "#fde725"
            ]
           ]
          },
          "colorway": [
           "#1F77B4",
           "#FF7F0E",
           "#2CA02C",
           "#D62728",
           "#9467BD",
           "#8C564B",
           "#E377C2",
           "#7F7F7F",
           "#BCBD22",
           "#17BECF"
          ],
          "font": {
           "color": "rgb(36,36,36)"
          },
          "geo": {
           "bgcolor": "white",
           "lakecolor": "white",
           "landcolor": "white",
           "showlakes": true,
           "showland": true,
           "subunitcolor": "white"
          },
          "hoverlabel": {
           "align": "left"
          },
          "hovermode": "closest",
          "mapbox": {
           "style": "light"
          },
          "paper_bgcolor": "white",
          "plot_bgcolor": "white",
          "polar": {
           "angularaxis": {
            "gridcolor": "rgb(232,232,232)",
            "linecolor": "rgb(36,36,36)",
            "showgrid": false,
            "showline": true,
            "ticks": "outside"
           },
           "bgcolor": "white",
           "radialaxis": {
            "gridcolor": "rgb(232,232,232)",
            "linecolor": "rgb(36,36,36)",
            "showgrid": false,
            "showline": true,
            "ticks": "outside"
           }
          },
          "scene": {
           "xaxis": {
            "backgroundcolor": "white",
            "gridcolor": "rgb(232,232,232)",
            "gridwidth": 2,
            "linecolor": "rgb(36,36,36)",
            "showbackground": true,
            "showgrid": false,
            "showline": true,
            "ticks": "outside",
            "zeroline": false,
            "zerolinecolor": "rgb(36,36,36)"
           },
           "yaxis": {
            "backgroundcolor": "white",
            "gridcolor": "rgb(232,232,232)",
            "gridwidth": 2,
            "linecolor": "rgb(36,36,36)",
            "showbackground": true,
            "showgrid": false,
            "showline": true,
            "ticks": "outside",
            "zeroline": false,
            "zerolinecolor": "rgb(36,36,36)"
           },
           "zaxis": {
            "backgroundcolor": "white",
            "gridcolor": "rgb(232,232,232)",
            "gridwidth": 2,
            "linecolor": "rgb(36,36,36)",
            "showbackground": true,
            "showgrid": false,
            "showline": true,
            "ticks": "outside",
            "zeroline": false,
            "zerolinecolor": "rgb(36,36,36)"
           }
          },
          "shapedefaults": {
           "fillcolor": "black",
           "line": {
            "width": 0
           },
           "opacity": 0.3
          },
          "ternary": {
           "aaxis": {
            "gridcolor": "rgb(232,232,232)",
            "linecolor": "rgb(36,36,36)",
            "showgrid": false,
            "showline": true,
            "ticks": "outside"
           },
           "baxis": {
            "gridcolor": "rgb(232,232,232)",
            "linecolor": "rgb(36,36,36)",
            "showgrid": false,
            "showline": true,
            "ticks": "outside"
           },
           "bgcolor": "white",
           "caxis": {
            "gridcolor": "rgb(232,232,232)",
            "linecolor": "rgb(36,36,36)",
            "showgrid": false,
            "showline": true,
            "ticks": "outside"
           }
          },
          "title": {
           "x": 0.05
          },
          "xaxis": {
           "automargin": true,
           "gridcolor": "rgb(232,232,232)",
           "linecolor": "rgb(36,36,36)",
           "showgrid": false,
           "showline": true,
           "ticks": "outside",
           "title": {
            "standoff": 15
           },
           "zeroline": false,
           "zerolinecolor": "rgb(36,36,36)"
          },
          "yaxis": {
           "automargin": true,
           "gridcolor": "rgb(232,232,232)",
           "linecolor": "rgb(36,36,36)",
           "showgrid": false,
           "showline": true,
           "ticks": "outside",
           "title": {
            "standoff": 15
           },
           "zeroline": false,
           "zerolinecolor": "rgb(36,36,36)"
          }
         }
        },
        "title": {
         "font": {
          "color": "Black",
          "size": 22
         },
         "text": "<b>Documents and Topics",
         "x": 0.5,
         "xanchor": "center",
         "yanchor": "top"
        },
        "width": 1200,
        "xaxis": {
         "autorange": true,
         "range": [
          5.865414081495288,
          14.41900970041929
         ],
         "type": "linear",
         "visible": false
        },
        "yaxis": {
         "autorange": true,
         "range": [
          4.2761138079204795,
          10.961135461292027
         ],
         "type": "linear",
         "visible": false
        }
       }
      },
      "image/png": "[encoded data removed]",
      "text/html": [
       "<div>                            <div id=\"f7a24403-f142-480e-9119-6948cffb0de2\" class=\"plotly-graph-div\" style=\"height:750px; width:1200px;\"></div>            <script type=\"text/javascript\">                require([\"plotly\"], function(Plotly) {                    window.PLOTLYENV=window.PLOTLYENV || {};                                    if (document.getElementById(\"f7a24403-f142-480e-9119-6948cffb0de2\")) {                    Plotly.newPlot(                        \"f7a24403-f142-480e-9119-6948cffb0de2\",                        [{\"hoverinfo\":\"text\",\"hovertext\":[\"About user 'Aspects' \\n\\nIndeed! It appears that several people have been annoyed by that nitwit, not just you and me. I invite you to review his answer and what I replied to it. Not that I'm proud of it, but he deserved it, and then some! Regards,\",\"Wikipedia:Requests_for_arbitration/ArmchairVexillologistDon#Final_decision \\nI wish to let you know that the user that is the subject to this RFAr has returned. He came back August 6 .  (Sound Off)\",\"Said at GGTF arbitration\\nSome people seem to think that ArbCom is so naive they don't know that the Manchester Gangbangers and their cronies/minions are engaged in institutionalized harassment using ArbCom as one of their harassment tools. They think just explaining that will open their eyes and they'll do the right thing.\\nNo, the only thing that will clear Wikipedia of this vicious coterie is a national publicity campaign to pressure the WMF into enforcing its Terms of Service, including against culpable ArbCom members. (I see several Sitush/Corbett/ cronies/minions are running for the next Arbitration Committee.) And I'm one of dozens who see it that way, we just haven't decided where to organize our efforts.  Just because their tactic worked on silencing 1.2 billion Indians with their Brit imperialist drivel doesn't mean it will work on silencing 3.3 billion women.  After all 1/2 the members of the Board are women.   (Talkie-Talkie)\",\"Kansas Bear supports all the anti-Turkish acts that i know, keep an eye on me, but i keep on you Kansas bear.Contributions/62.248.42.19\",\"REDIRECT Talk:Mount Hope Cemetery (San Diego, California)\",\"\\\"\\n\\nI have corrected the two bios that were causing confusion.  These two bio-stubs were not done by me.  I have now expanded them and hope it makes more sense to you.  I had only posted the \\\"\\\"Common Chishtiyya Chain in South Asia\\\"\\\" only as I found them in historical books like \\\"\\\"Mashaikh-e-Chisht\\\"\\\".  I do not know how the other people came up with other branches.  They clash with recorded history.  However I am not going to get into the argument.  My immediate target was to complete the bios of the common chain and alhamdulillah I have done it.  I shall next be expanding them slowly.  Then I shall cover the branches of Chishtiyya Order and then go to other order.  Finally my goal is to cover all Sufi concepts such as Latif-Sitta, Dhikrs, Shaghals, Manazil's etc.  I hope some day I will do comparitive study of Sufi concepts with Jewish Kaballah, Christian Gnosis, and pagan pantheism to show how they are different  \\\"\",\"from where he makes most of his edits\",\"\\\"\\nIt occurs to me that you might react badly to a suggestion to join NAMBLA because in their case, it is men who are having sex with 12 year old boys.  I didn't consider that you could have totally different standards for adult men and women  for that I apologize.  I will remove \\\"\\\"NAMBLA\\\"\\\" from my sentence above.    \\\"\",\"\\\"Because so many Turkish-people today claim to be a descendant of Oghuz Khan, male members of the Amucalar, descendants of G\\u00fcnd\\u00fcz Gazi, the older brother of \\\"\\\"Osman I, tested their Y-DNA. Genetic history of the Turkish people, shows that the common ancestor \\\"\\\"Ertu\\u011frul\\\"\\\", belonged to haplogroup: R1a=6.9% - Typical of Central Asian, Caucasus, Eastern Europeans and Indo-Aryan people.\\n\\nhttp://www.ysearch.org/search_view.asp?uid=XWBWW&viewuid;=FTEMF&p;=1\\n\\n  \\\"\",\"Heraldic translation: help needed \\nPlease can you translate a blazon. I drew the coat of arms of Coubron but I don't know how to describe in English the hunting horn on which some elements are of an other colour: the little pipe in which you blow, the lace and the metal ring at the end of the horn. Can you help me, please?\",\"Mangalore\\nYou list me creating Mangalore, Victoria on this page.\\nThat article is about a town in Australia and NOT the one in Karnataka.\",\"This charade has been going long enough and must have an end now, if Tbma don't provide any reliable source for his claim or specify his criticism of the source the NPOV and dispute tag must be removed. \\n''\",\"Agreed.  In addition, Mr. Inglis seems intent on keeping links to his original resarch on the subject in the EL section.  I don't believe it belongs there. The Dissident Aggressor\",\"\\\"\\n\\n Animated Meaning of Vergina Sun \\n\\nHey all, I found a beautiful .gif that shows the analysis of the 16 lines of the Vergina Sun\\nthe 4 Elements -Fire, Air, Water, Earth and the 12 Greek Gods (Olympians)-Zeus, Hera, Poseidon, Demeter, Ares, Hermes, Hephaestus, Aphrodite, Athena, Apollo, Artemis, Hestia and their classification-male/female/celestial/water etc.\\n\\nwhat do you think? I think it would be appropriate to be included in the \\\"\\\"Interpretations of the symbol\\\"\\\" section, as the explanation about the Twelve Greek Gods connection to the Vergina Sun is poor non-existent.  \\\"\",\"Thanks. Replied on his talk page - and his Spanish article is up on eswiki.\",\"I disagree. I've met Bob Feller and was a great guy. He didn't charge anyone for his autograph and enjoyed talking baseball with everyone at the park. I think he's just sad to see some of the less positive things that have happened in baseball over the years. I also don't like your attacks on his heroic service in WWII. Have you ever done anything to cause anyone to respect you?!\",\"(family)I tried to look up more things on his family, but there's surprisingly little other than about his wife.  There is some info on various Myspaces of his kids and grandkids (apparently he has another great-grandchild on the way) but those aren't good sources, so I don't think I have much to add on that front for now.  I found some info on one daughter who is a doctor, but it would be odd to only have information on one child so I won't add any of that.  Should the family part be at the end or the beginning?\",\"The legal base for the two military courts can be found in the following act (German): http://www.bgbl.de/Xaver/start.xav?startbk=Bundesanzeiger_BGBl&start;=//*[@attr_id=%27bgbl106s1262.pdf%27] 149.154.154.231\",\"\\\"\\n\\n Wo rohe Kr\\u00e4fte sinnlos walten, da kann sich kein Gebild gestalten \\n\\n\\\"\\\"Thank\\\"\\\" you for including me into this arbritration case http://en.wikipedia.org/wiki/Wikipedia:Requests_for_arbitration/Ulritz\\nwithout giving any further explanation! I will from now on abstain from editing the English Wikipedia for the reason indicated in the heading (Friedrich Schiller \\\"\\\"die Glocke\\\"\\\"). Have fun!\\n\\nps: by the way, supporting someone who calls other users \\\"\\\"asocial neo-nazis\\\"\\\" because they oppose comments like \\\"\\\"unless they're Germans, then you can just shoot them\\\"\\\" does not correspond with my idea of Wikipedia. ( )\\\"\",\"POV \\nBy what criteria do you define someone as a former Jew? One cannot change from a Jew to a non-Jew. This list seems to be someone's POV.\\n\\n95.147.191.30  \\n\\nRename?\",\"I think it means: Me Turk man, me vill rape bad woomen, me vill teach dem a lesson, me vill cover der faces in gauze. me vill beat dose harlots up! S\",\"Survey\\n\\nHi Alissahart!\\n\\nI have put together a survey for female editors of Wikipedia (and related projects) in order to explore, in greater detail, women's experiences and roles within the Wikimedia movement. It'd be wonderful if you could participate!\\n\\nIt's an independent survey, done by me, as a fellow volunteer Wikimedian. It is not being done on behalf of the Wikimedia Foundation. I hope you'll participate!\\n\\nJust click this link to participate in this survey, via Google!\\n\\nAny questions or concerns, feel free to email me or stop by my user talk page. Also, feel free to share this any other female Wikimedians you may know. It is in English, but any language Wikimedia participants are encouraged to participate.\\nI appreciate your contributions - to the survey and to Wikipedia! Thank you!\",\"Please go to the da help with life forum to discuss how after you blew your wikiload\\nafter banning me, ruining your wonder woman underoos.  Maybe after that you can \\nget off on banning more people, careful, if you blow your wikiload too many times,\\nyou won't be able to read your computer screen without wiping it off and using\\n409 to get rid of the wikiresidue.\",\"Now let's see who's gonna start crying like a little girl because I said this so I could laugh my ass off at them.\",\"Welcome!\\n\\nHello, , and welcome to Wikipedia! Thank you for your contributions. I hope you like the place and decide to stay. Here are some pages that you might find helpful:\\nThe five pillars of Wikipedia\\nHow to edit a page\\nHelp pages\\nTutorial\\nHow to write a great article\\nManual of Style\\nI hope you enjoy editing here and being a Wikipedian! Please sign your name on talk pages using four tildes (~~~~); this will automatically produce your name and the date. If you need help, check out Wikipedia:Questions, ask me on my talk page, or place {{helpme}} on your talk page and someone will show up shortly to answer your questions. Again, welcome!\\u00a0 \\u2190 \\u043d\\u0443? \\n\\nYour text from Talk:Wafa Sultan\\nAssuming the below says the same in Arabic and Russian, I took the liberty to move it here. Please don't misuse WP talk pages. Thank you. \\u2190 \\u043d\\u0443? \\n\\n\\u0627\\u0644\\u062f\\u0643\\u062a\\u0648\\u0631\\u0629 \\u0627\\u0644\\u0639\\u0632\\u064a\\u0632\\u0629 \\u0648\\u0641\\u0627\\u0621 \\u0633\\u0644\\u0637\\u0627\\u0646\\u060c \\u0623\\u062d\\u0628\\u0643 \\u0643\\u062b\\u064a\\u0631\\u0627 \\u0648\\u0623\\u0646\\u0627 \\u0623\\u0646\\u062a\\u0638\\u0631 \\u0625\\u0644\\u0649 \\u0643\\u062a\\u0627\\u0628\\u0643\\n\\n\\u0423\\u0432\\u0430\\u0436\\u0430\\u0435\\u043c\\u044b\\u0435 \\u043f\\u043e\\u043b\\u044c\\u0437\\u043e\\u0432\\u0430\\u0442\\u0435\\u043b\\u0438 \\u0412\\u0438\\u043a\\u0438\\u043f\\u0435\\u0434\\u0438\\u0438, \\u043f\\u0440\\u043e\\u0441\\u044c\\u0431\\u0430 \\u043e\\u0442\\u043c\\u0435\\u0442\\u0438\\u0442\\u044c\\u0441\\u044f \\u0437\\u0434\\u0435\\u0441\\u044c \\u0432\\u0441\\u0435\\u043c \\u0442\\u0435\\u043c \\u043a\\u0442\\u043e \\u0443\\u0432\\u0430\\u0436\\u0430\\u0435\\u0442 \\u0438 \\u043f\\u043e\\u0434\\u0434\\u0435\\u0440\\u0436\\u0438\\u0432\\u0430\\u0435\\u0442  \\u0438\\u0434\\u0435\\u043e\\u043b\\u043e\\u0433\\u0438\\u044e \\u0438 \\u043c\\u044b\\u0441\\u043b\\u044c \\u043c\\u043d\\u043e\\u0433\\u043e\\u0443\\u0432\\u0430\\u0436\\u0430\\u0435\\u043c\\u043e\\u0439 \\u0433\\u043e\\u0441\\u043f\\u043e\\u0436\\u0438 \\u0412\\u0430\\u0444\\u0430 \\u0421\\u0443\\u043b\\u0442\\u0430\\u043d. \\u0416\\u0434\\u0443 \\u0412\\u0430\\u0448\\u0438\\u0445 \\u0440\\u0435\\u0446\\u0435\\u043d\\u0437\\u0438\\u0439 ) !\",\"JLaTondre is a gay boy who likes to suck dick \\n\\nJLaTondre edits pages like flys on poop.\\n\\nIf I created a wikipage about my family I am sure JLaTondre would delete it.\\n\\nI created a historical database. Wealth about my family name and to test it out on wikipedia.\\n\\nI am sure JLaTondre would love to delete it.\\n\\nJLaTondre already deleted a page dedicated to a NOW DEAD and EXPIRED company I used to work for.\\n\\nJLaTondre!!!\\n\\nYou know nothing about my family or my company!\\n\\nWhat are you?  12 years old?\",\"Chris, I don't know who you are talking to but it better ain't be me because you are messing with the wrong guy!\\n\\n  Infonerd2216\\n\\nP.S. Better watch it, or something bad will happen to you and let me tell ya, i'm not kidding!\",\"Please read WP:NCMAC. Please take note that the country in question is to be referred to as the Republic of Macedonia or simply Macedonia on the English language wikipedia and not as fyrom or similar. Please follow policy when editing.\",\"\\\"\\n\\n Proposed revision of the controversy section \\n\\nThough controversy shouldn't consume the bulk of the article, I think the revised section is somewhat awkwardly written and neglects the substance of the criticisms. It can be rewritten for greater clarity, and to include the quotes that have actually generated the controversy. It is just false to say conservative bloggers are basing their criticisms on \\\"\\\"a single line from his book\\\"\\\"but if it were true, shouldn't that line be quoted too? The section can be kept short, while not excluding the content of criticisms. I propose the following text.\\n\\nLloyd has been targeted by conservative commentators such as Glenn Beck, with the aim of forcing him to resign, as happened with former White House adviser Van Jones.\\n\\nBeck broadcast a video of Lloyd's comments at a 2008 conference on media reform, in which he described the rise of Venezuelan President Hugo Chavez as \\\"\\\"really an incredible revolution.\\\"\\\" Conservatives view this as an expression of support for Chavez, though Lloyd has stated that he does not support him. Conservative bloggers have also attacked Lloyd's commitment to free speech, based largely on quotes from his book Prologue to a Farce: Communication and Democracy in America, in which he writes that the First Amendment should be placed \\\"\\\"in context with other communications policies,\\\"\\\" and on his 2007 article Forget The Fairness Doctrine, discussing \\\"\\\"clear proposals...to address the gap between conservative and progressive talk.\\\"\\\" Over 50 non-partisan public interest groups have defended Lloyd, calling conservative claims \\\"\\\"false and misleading.\\\"\\\"\\n\\nThis is only about 30 words longer than the present version, but I believe it does much more to inform readers about the controversy. Since the controversy section of this article is so controversial, however, I'll leave my rewrite here for a day or two before implementing it. It's always easier to see bias against your own point of view, so I hope some liberals can improve on my text! But the current version is just not accurate or informative.173.21.159.52  \\\"\",\"Barnstar \\n\\nI, V. Molotov, give you this Working Man's Barnstar for 2600+ edits and being diligent Wikipedian.   (talk)  \\n\\nTake care,   (talk)\",\"Yeah, Partch is great, but he's not always the most reliable source. I'll try to find a different one. \\u2014\",\"I already have good social life - just insomnia, bro. When I can't sleep, I make new music or edit wikis hehe. Btw, I'm writing a diss on one of wikipedia users - on youtube soon! 94.254.193.66\",\"\\\"\\n\\nhehe, you *ARE* truly pathetic Zereshk, as I have pointed out to you before.  You know damn well that the term \\\"\\\"racism\\\"\\\" or \\\"\\\"racist comment\\\"\\\" doesn not apply in Iran in the same way that it applies in countries with true racist history, such as USA and many European countries.  The fact that you are using your familiarity with the English language to get a cheap \\\"\\\"winning point\\\"\\\" out of a lost game, tells us how weak and pathetic you are.  In absolutely BEST of circumstances, you can associate \\\"\\\"turk\\\"\\\" in Persian slang with \\\"\\\"ethnicity\\\"\\\" but if you really grew up in Iran as you claim you did, you know damn well what it is.  And especially \\\"\\\"torke tablo\\\"\\\", which you are.  Given your pathetic edit history of \\\"\\\"all image and no substance\\\"\\\" I repeat, I is hard to imagine a lower and less self-respecting Iranian than you.  You were born to be wannabee-western and as such, Iranians like you deserve to be jew-slaves.   \\\"\",\"North Korea was not in my mind until someone else used it. He used the analogy first, and I do feel he was right. I had absolutely no intention of fraud in the discussion of the map and the accusation was unjustified. I still think the map's accuracy is unknown.\",\"\\\"\\nThe two examples you give are clearly different, however there is no need for the article specifically in the case of \\\"\\\"professor\\\"\\\" (c.f. , ). I'm not sure why - it is a peculiarity of English. I think most people who recognize the validity of the form would agree it sounds \\\"\\\"better\\\"\\\" without.   \\\"\",\"\\\"\\nYou quickly forget that I am objecting to the MISINTERPRETATION of a 'rule', and the MISAPPLICATION of a 'rule'.   (or, do you not concede that, hypothetically, a VALID, proper rule can be MISINTERPRETED and/or MISAPPLIED?).  Merely citing the RULE is pointless, when the problem is the misinterpretation or misapplication of the rule!\\n Further, Dodo violated WP rules, by not allowing a consensus of the group to develop.  He also misapplied a rule, claiming that something I said must be 'verifiable'.  But what does it mean, to be 'verified'?  Dodo implied that what I said must be verifiably, scientifically TRUE.  I claim, quite to the contrary, that since the article involved is 'Jim Bell' (subject, ME), that the only 'verifiability' issue is this:  Did 'James Dalton Bell' ACTUALLY make these claims.  (Or, conversely and hypothetically, 'is someone else forging his identity?, etc.)   For example, there was no need to RUSH and delete my posts.  Rather, somebody (preferably, one familiar with LOGIC) could have said, \\\"\\\"Bell, how do we know that 'you', 'jimdbell@q.com', is in fact the 'jim bell' (James Dalton Bell) who is the subject of the 'Jim Bell' WP article?  We need to be able to VERIFY the fact that 'jim bell' actually said/did this.\\\"\\\" (To ensure that 'jim bell' is not being libelled by a stealth forgery.)\\nIn response, I would have immediately said, \\\"\\\"Good question!\\\"\\\"  And I could have promptly proceeded to do whatever was necessary to establish this fact.  Perhaps I could also have donated a recent (current!) photograph to the article, which (of course) could be compared with other published (even if not public domain) photographs which are available on the web.   \\nBut as John Belushi was so fond of saying, 'BUT NOOOOOOOOOOO!'  Rather than HELP a 'newbie' (to WP), AND wait for a consensus, and actually help VERIFY that 'jimdbell@q.com' is actually, 'jim bell', Dodo decided to be an ass and repeatedly delete my edits.  And, he deleted ALL my edits, not merely some portion which (allegedly) was not 'verifiable'.  I will give an example, to the contrary:  I also posted a claim that I accused the Feds of forgery in a criminal appeal case, 99-30210.  In fact, in June 2003 I wrote a lawsuit (195 pages) which has (I believe) LONG been posted on the Web.  (Probably Cryptome/JYA).  It (as I recall) makes exactly this accusation.  So, if Dodo had actually acted INTELLIGENTLY, he would have edited my edit to cite my lawsuit, which has been posted for perhaps 5+ years.  (Or, he would have said to me, \\\"\\\"Bell, you need to show a cite of your lawsuit...\\\"\\\").  THAT would have been productive, useful, and helpful.  (As opposed to being hostile, counterproductive, and malicious.)   So, why didn't Dodo do THAT?!?   The answer is quite simple:  Dodo is hostile, counterproductive, and malicious.  He's a 'control freak'.  (Apparently, WP attracts 'control freaks'.)  Rather than being assisting, supportive, and helpful, Dodo wants to slap around newbies who upset his apple cart.\\n  \\\"\",\"I noticed that the location of the Saudi Aramco Residential Camp in Dhahran was appearing incorrectly within the Google Earth Geographic Web layer.  This may have occurred from the split of the articles for the city of Dhahran and the Aramco Dhahran camp, discussed elsewhere within this article's discussion; the locations for both appear to have defaulted to Dhahran International Airport, possibly because of the use of a geocoded photo of the airport within the articles and the fact that no specific coordinate for Aramco Dhahran camp was given within this article.  I have set the location for the Aramco Dhahran camp at King's Road Ball Field for a variety of reasons, such as the facts that this ball field was the location of many social activities and that it is recognizable by Aramco Brats of all ages, which is not true of other locations within the camp; for example, the locations of the entrance gates have changed over time.  I set the coordinates in accordance with the Google Earth Geographic Web layer and the Wikipedia coord template.\",\"\\\"\\nNononono, Julian wants YOU for his pet tropical cyclone project. Isn't that right, Julian...GUILTY! D \\u2014 (Talk / Contribs) \\\"\",\"\\\"\\n You are pushing for POV, as always. It is YOU who is using Sikandarji's name ... in fact, you are absuing his name for your nonsense. He has contradicted and rejected your nonsense many times - just check the Talk:Hephthalite page. And he has rejected your nonsense about \\\"\\\"Mughals being Turks\\\"\\\" (check Talk:Timurids). You are DEFFINITLY pushing for a Turkish nationalist POV, and your recent edits are a clear proof for that ... and the fact, that you have actively removed scholarly sources - including 2 articles of the Encyclopaedia Iranica - in favour of your own nationalist nonsense underlines your evil plans in Wikipedia. \\n You have once again violated the 3RR, and you have once again created a parallel-article to an already existing article, containing your own pseudo-scientific nonsense. I have reported you to admins ... But I guess you know that already, since you are stalking.  \\\"\",\"has about Russian Jewish book peddlers\",\"Good day man of God my name is Joshua married to Diana we really need your help please.\\nhappy new may God be with you.\\nRegards Mr & Mrs phiri.\",\"\\\"\\nJust FYI guys, I'm not keeping a very close eye on my watchlist at the minute, so do feel free to let me know of any other socks or disruptive SPAs that come out of the woodwork.  | Penny for your thoughts?  \\\"\",\"Only a fool turns his back on history.\",\"We already won, in 1945. The truth is one, and there are to many people that know it, so DLX could not change it. By the way, about the Sandstein or whatever who blocked us, i knew that would happen. He's a German, so i expected it. He didn't say anything to DLX about what he does. M.V.E.i.\",\"It \\n\\nThat is what you're gonna get son! 82.132.229.92\",\"\\\"\\n\\n Explanation of latest changes \\n\\nI found in the \\n\\nThe Bridge on the Drina by Ivo Andric, Univeristy of Chicago Press 1977\\n\\nTranslator's foreword by Lovett F. Edwards, page 7: Dr Ivo Andric is himself a Serb and a Bosnian\\n\\nIntroduction by William H. McNeil, page 3:They went to live with her parents in Visegrad on the banks of the Drina, where young Ivo grew up in an artisan family (his grandfather was a carpenter) playing on the bridge he was later to make so famous, ..., The family was Orthodox Christian, i.e. Serb;\\n\\nand in the\\n\\nThe Nobel Prize in Literature 1961 Presentation Speech by Anders \\u00d6sterling, Permanent Secretary of the Swedish Academy - As a young Serbian student, he joined the national revolutionary movement, suffered persecution, and was imprisoned in 1914 when the war broke out. \\n\\nwhich shall have place in his biography for knowing that the book translator Edwards and the world-renown historian McNeil were close Ivo's friends. Both biographical notes were written in the first edition of this Ivo's book in 1959 and the biographical data are coming from the very Ivo.\\n\\nAnders \\u00d6sterling's Presentation Speech during the official ceremony 1961 in Sweden and in the Andric's presence - gives the undeniable credibility to biographical data heard in this speech. - \\n\\nAs to the Clasification paragraph - it has nothing to do with biography - just a slander and disrespect of this great writer. My proposal - delete it completely. \\n\\nFrom the above discussion - is visible that Andric rejected idea to be seen as of Croatian lineage\\n\\nWhen Krleza attempted to allign Ivo with Croats - Ivo responded this way\\n\\n Enes Cengic; \\\"\\\"Krleza post mortem\\\"\\\",  I-III. Svjetlost, Sarajevo, 1990. 2. part, pages 171-172\\n\\n \\\"\\\" Medjutim, s tekstom o Andricu za staru Enciklopediju stvari su tekle ovako:\\n Tekst je napisao Milan Bogdanovic i poslao ga meni na imprimatur, kao biva, da li ga primam  ili ne.\\n Kao ni mnoge druge tekstove,  vjerovali vi sad meni ili ne ... ja tekst o Andricu nisam citao. \\n Mislio sam: Neka pise sto hoce, tako cemo to i objaviti. Ionako  je bilo iznad moje moci da tu ista \\n diram i ispravljam. Mjesec ili ne znam koliko nakon sto mi je poslao tekst, primim od Milana pismo \\n u kojem mi kaze da je kopiju teksta dao Ivi Andricu na uvid te da on moli da budem ljubazan i da u \\n tekstu nesto izmijenim, a to je:\\n\\n Ivo Andric, rodjen u Travniku 10.10.1892. godine, hrvatskog porijekla, zavrsio skole itd.... Moli \\n me da brisem da je hrvatskog porijekla. Na to odgovaram Bogdanovicu (oprostite sto citiram):\\n     \\n Dragi moj Milane,\\n\\n Pozdravi Ivu Andrica u moje ime, veoma srdacno,i poruci mu, ako mozes, da mu ja jebem hrvatsku\\n majku, brisat cu da je hrvatskog  porijekla.\\\"\\\" \\n\\nShortly, Milan Bogdanovic wrote a text of Andric's biography, presented a copy of this text to Andric. Andric asked Bogdanovic to remove the note saying that he (Ivo) was a man of Croatian lineage.\\n\\n71.252.83.33  \\\"\",\"\\\"\\n\\n SmallJob \\n\\nLeave those naked Hollywood starlets alone!! \\n\\nYou have a Wiki page to exert your dominion over instead, \\\"\\\"man\\\"\\\" !!\\\"\",\"\\\":: I agree with Vast Majority. Totally. But that is still an evaluative statement. The Vast Majority of people also see Hitler as a villian, but does his page say \\\"\\\"Hitler was a villian\\\"\\\"?\\n I agree with you about people being protective of their children. I'm protective of my brother and my mentorees. They know that I would do anything for them.\\n I agree with you that adult-child sex and sexual contact is likely to enrage almost anyone... but the news tells a different story. How often do you hear \\\"\\\"Jim Brown (generic name) was arrested today for allegedly having sex with one of the girls at his day camp\\\"\\\" and then they interview people who say things like \\\"\\\"but he's a really good person, even if he did this, I still see him as a hero\\\"\\\" or, after a court conviction even, \\\"\\\"he's always been a role model to the whole community... he should be released or probation...why send this nice man to prison?\\\"\\\" I have heard things like that and it sickens me more than anything! People are so... fickle. And clueless sometimes.\\n I agree with monitored. But I also don't think a 20-y/o who was convicted of having sex with a 17.5-y/o (yes, this happened) should be classified a top-priority sex offender for their whole life. Kida ridiculous. Now a 20-y/o with a 10-y/o? Absolutely! Let their monitor fall off after the heat of hell melts it...\\n I disagree that Wikipedia is \\\"\\\"soft\\\"\\\" on pedophiles. In fact, pedophiles are the only people not allowed to edit the \\\"\\\"encyclopedia that everyone can edit\\\"\\\"; that's a simple fact. I don't think we give anyone \\\"\\\"enormous sympathy\\\"\\\" (and certainly you don't!). Do we treat them fairly and as legitimate people? Yes, Should we? Absolutely. \\\"\\\"All men are created equal\\\"\\\", right? Remember, we do not have Thought Police. Hitler tried that... (I hate bringing that name back up... apologies...)\\n By the way, though the very incarnation of evil, Hitler was a masterful, brilliant leader. Most of the most notorious bad guys in history were. That's part of how they could accomplish so much and still be so evil. Kinda sad when you think about it...\\n  \\u2022   \\u2022  \\u2022 03:28 (UTC)  28 Mar '08 -)\\n\\n\\\"\",\"\\\"\\n\\nFirst, you are misreading what your first source is. The document you reference is a UN interum report on Resolution 425. 425 dates back to 1978. That document (the report) does not reflect any agreement between the UN and Israel. 425 calls for many things, but there had been no public pledge from Israel on dismantling the SLA. In fact, Israel in public had been saying the opposite. They were not planning to leave until early July. The report being issued on the 22nd isn't very meaningful. Its coincidence. There was a whole series of meetings between the SLA (see later material) and UN/various countries that was a whole lot more damaging than the interium erport on 425.\\n\\nSecond, I think its better to deal with Charbel Barakat's fuller and more accurate version of what happened in May from his congressional testimony in June 2000:\\n\\n\\\"\\\"During the month of May 2000 our people remitted a memorandum to the office of the United Nations in Nakura in south Lebanon offering suggestions to avoid bloodshed and exodus. During the same month delegations representing our community met with diplomats of the US, UK, and French embassies in Israel and at the United Nations. And on May 18, our representatives met with the office of the Secretary General of the United Nations in New York ... Instead of taking our demands for protection on our land seriously, the United Nations declined to assist us ... The United States, UK and France dismissed our fears and insisted on guarantees which were allegedly granted by the Beirut regime ... The State of Israel only prepared for our potential exodus, ruling out our determination to remain on our land and defend ourselves.\\\"\\\"\\n\\n\\\"\\\"Despite the abandonment by the international community and against all odds, our people decided to remain and fight for their land and rights while calling endlessly on the UN to deploy its units around our villages. \\nOn May 22, 2000, and as Israeli units were implementing their own withdrawal and the commander of the SLA was absent in France, the mostly Shiite sector of the security zone collapsed. It appeared that Shiite officers were told by the Israelis that they must leave before the borders closed. Even after the invasion of Hizbollah of this area, the mostly Christian-Druse eastern enclave and the Christian western enclave, decided to defend themselves and protect their citizens after Israel\\u2019s withdrawal.\\nOn May 23, 2000, at 8 PM, SLA officers in the western sector received orders from the Israelis to leave their posts as Hizbollah was advancing towards their villages. Thus the SLA was imploded from the inside and was dismantled without any battle. The main reason why the SLA did not remain and fight was the fact that the border was closed behind its back. Without access to medical and logistical supplies, our people was condemned either to surrender to its enemy or flee across the border.\\\"\\\" (from [www.10452lccc.com/special%20studies/barakatjune2000.htm])\\n\\nThe SLA did collapse. What Charbel Barakat is talking about in the MEF comments is that the remainder of the SLA (Christian) in the west did not collapse and was dismanted by Israel. But it was only dismanted after most of the SLA had collapsed. Charbel Barakat and other dead-enders may have wanted (in theory anyway) to fight on in the west, but Israel wasn't going to make any commitment to keep a miniture version of the SLA going in a tiny pocket on the west end of the border. The caution I would give about Barakat and a couple others from the SLA is that sometimes they think of their Christian portion of the SLA as if it were the entire SLA. And from that point of view, the SLA did not collapse and was dismantled by Israel.\\n\\nThe biggest claim made by Barakat is in weasel-words: \\\"\\\"It appeared that Shiite officers were told by the Israelis that they must leave\\\"\\\". 'It appeared that\\\"\\\" means he is guessing. Nobody on either side of the border has outright claimed that the Shites were told to leave and that is why they collapsed on the 22nd. Even Barakat is unwilling to make that claim.\\n\\nNow lots of other things may have happened that the public doesn't know about with regard to the SLA collapse. But the only people who would know the truth are a handful of people at the top of the Israeli government and army. Nobody in the SLA knows much of anything because if Israel was going to collapse them, they would hardly tell them their plan. People (including me) can make lots of hunches and theories about what might have happened, but there are no facts to back any of those theories up.  \\\"\",\"\\\"Y didnt he just say \\\"\\\"You smug son of a gun!\\\"\\\" and not cut it?\\\"\",\"Bongwarrior is a homosexual prostitute \\n\\nBongwarrior is a homosexual prostitute.\\n\\nYou can fuck him in the ass for $25.\\n\\nHe likes it when two men fuck him in the ass at the same time.  He likes the feeling of his anus being stretched wide open.\\n\\nHe will also lick the shit off of your dick when you are done.\\n\\n119.245.91.247\",\"\\\"\\n\\nde Crespigny, following the Zizhi Tongjian, explains why it should be after Red Cliffs (and in 209, no less), in his translation of the Zizhi Tongjian, To Establish Peace: (note 96 to Jian'an 13)\\n\\nde Crespigny and Sima Guang seem to follow Sun Sheng's take in SGZ 47 (Wu 2, the Biography of Sun Quan) as the genuine account for this event.   \\\"\",\"ralfx is yag. He is the yaggest mothering chinkie dude in the world.\",\"\\\"\\n\\n Cut-off \\n\\nThe article mentions that several plot points of recent comics (Decimation, \\\"\\\"Avengers Disassembled\\\"\\\", Thor's destruction of Asgard) didn't occur in MC2 continuity, and on Spider-Girl's page it says that \\\"\\\"Spider-Man: The Other\\\"\\\" never occurred either. Given that would it be accurate to say categorically that there's some cut-off point after which events in Earth-616 are no longer canonical? If so, when and where do you think it would be located? I suppose such a statement might be too broad, and some events may not have been explicitly referenced as happening or not happening but...well, I don't know MC2.  \\\"\",\"Here is proof of notability \\nCalton has aimed his delete gun at this entry, so here is notability proof to stop him:\\n\\nUSA Today (you know..that BIG newspaper) story: \\n\\nWow look here, the USO (you know..that BIG Government organization) sent Mallory Lewis and Lambchop to WELCOME HOME THE TROOPS: \\n\\nLookey here the US AIRFORCE (you know, those men and women who protect the USA) had Ms. Lewis and Lambchop visit Kadena airforce base...wow...if the US Airforce sends you somewhere that doesn't make you notable? Maybe in someone's sick anti-american mind. \\n\\nBut enough from me....\",\"Since these wrestling article pages took their current form about 7 years ago, one of the rules has always been that if a wrestler holds a championship, he automatically gets included as part of the roster.  PJ Black won the King of the Mountain Championship at last night's Impact Wrestling tapings, thus he automatically gets included on the roster.  The note at the top of the page is to let everybody know that TNA and GFW have a talent exchange agreement, so they don't have to include every GFW guy that makes an appearance on Impact Wrestling.  Black (KOTM Champion) and Jarrett (general manager) get special mentions due to their specific roles...PJB has a title, and JJ is the authority figure.  Once PJB loses his title, he'll be removed, as will Jarrett once he loses his authority figure role.  Vjmlhds\",\"To Dawnseeker2000 \\n\\n please explain the action of you revert Taiwan part\\nIf you keeping act rude without reason I see you in the Village pump\",\"\\\"\\nWait, what? You guys formed a Wiki editing group but didn't know each others' usernames? Uh.. \\u2014  (say whaaat?!) \\\"\",\"PL is a liar. Simple. He can never leave. He has too much invested in his lies about Nostradamus.\",\"People like you 359 take he virtual world way too seriously. You are obviously trying to make up for a lack of achievement in your real life which you spend too little time. Do you really think any of this is important? Do you really think the work (I use that word lightly)you do here is going to help anyone anywhere ever? Its not! You are a hack and you would be better off taking up bowling or at least something that gets you out of the house... I feel sorry for you old man. You are a sad soul.\",\"No, sorry, I live in Poland and don't read books in English, especially little known ones. How could I have got to know them? If I saw them in a book store, I would buy translated ones. Piotr Nizynski\",\"He wouldn't have to if he weren't so goddamn crazy! 66.68.86.111\",\"\\\"  \\n\\nKrishnendu das aka Babukishan comes from an old and very traditional Baul folklore family. His grandfather, Guru Shri Nabani Das Baul, was a much celebrated singer and poet that was instrumental in bringing the Baul culture to fame with the respected and admired status it enjoys today. Nabani Das Baul often collaborated with the writer of India's National Anthem, a great poet, and winner of the Nobel Prize for Literature in 1913, Rabindranath Tagore. In popularizing the music of the Baul. \\n\\nNabani Das Baul opened the doors for his people to the world. In keeping with this tradition. Babukishan's father, Samrat Purna Das Baul, a modern, popular legend among the Bauls, opened up the doors even further by collaborating and jamming in live performances with the top Western and European acts of the 20th century. Babu is a music designer, singer, and author renowned in India for his work in both the recording and film industries. He plays a variety of music combining new age, and world fusion, with traditional folk music in authentic Bengali Baul style\\nBabukishan began his career as a performer by accompanying and studying the arts with his father, Purna das Baul. He also participated in numerous youth folk festivals, traveling to places such as Taiwan, Hong Kong, Singapore, Bangkok, Great Britain, all of Europe, the United States, and Canada. He played with both the Asian Performing Arts Festival at the Royal Albert Hall in London and the Worldwide Youth Festival in Carnegie Hall in New York.\\n\\nFrom this beginning, he traveled most of the world from 1980 to 2000 as a composer, music instructor,musician. and singer.\\n\\nBabukishan, deeply inspired by his Father and Grandfather, knew at an early age he too wished to compose and perform. He began on the soil of Bengal but clearly he was destined to belong to the world of music. His journey started in early childhood when he joined his mother, Manju Das, and his father, Puma Das, playing and singing Baul music in global festivals. Despite the many world tours, Babu also found the time to study Indian philosophy and Folk music at the University of Kolkata where he eventually secured both his BA and Masters degrees. \\n\\nSo it was that his formal professional career in music began with his family. He toured with Bob Dylan's The Band East & West tour in 1985. In addition, Babukishan has performed with other international artists such as Alice Cooper, Rolling Stones,Tom Petty, Miles Davis, Allan Fakir, George Harrison, Herbie Mann, Third World, Robbie Robertson, Garth Hudson and many others. \\n\\nThough the subsequent years, Babu put this solid foundation in music to good use by composing and performing in all areas of India's entertainment industry as well as in a variety of venues worldwide. Then, in keeping with his early dreams of a unique style of his own, he turned to the music of the western world that he had become so familiar with in his early years of performance. His use of Baul & Indian rhythms combined with the Reggae produced his own brand of World Music-Babu's New Age, Bengali Folk Fusion is the result. \\n\\nBabukishan has also worked with top Indian musicians/singers and music directors such as R.D.Burman, Ravi Shankar, Sultan Khan and Zakir Hussain. \\n\\nAs a composer, Babukishan has written the music for several albums, TV serials and films, earning a good reputation as one of the most promising composer in the Bollywood (Indian cinema) music & film industry of India. In his recordings, Babukishan features folk music, romantic songs, pop songs, ghazals, Qawwali music, new age, fusion, Sufi music and bhajans (devotional/spiritual songs). He is the first singer and music composer from the rich Baul family tradition to venture into fusion music by combining Baul/Sufi music with western music and reggae music. Babukishan produced and directed two documentary films about folk music and he wrote a book titled The Bauls of Bengal. One of Babukishan's latest projects is the band \\\"\\\"Birds\\\"\\\", which he founded. It combines new age, world music/traditional folk and fusion music. His album Soulmate\\\"\\\" (Universal/Music India) creates a unique new generation music worldwide.and his latest album, Birds & soul mind & body are based on Baul/Sufi music.\\\"\\\"GYPSYINDIA\\\"\\\" is authentic traditional baul & sufi music written/composed and all the instruments played by him.this album recored at woodstock,newyork during his tour on 2004.\\n\\n \\n\\nhttp://babukishan.com\\nhttp://cdbaby.com/cd/babukishan\\nhttp://community.webshots.com/user/babukishan\\\"\",\"\\\"\\n\\n Why has this been completely removed? The debate seems to be about whether or not to use the word \\\"\\\"scam\\\"\\\", rather than whether or not to include any mention of his latest business venture. I can't see how this should go completely unmentioned.   \\\"\",\"\\\"\\n\\n Farce \\n\\nYou can criticize policy all you want. What you can't do is turn a policy discussion page into a soapboxing rant. We can't fix Magnotta. Assuming the murders would not have happened if we gave him his 15 minutes of fame is ludicrous on its very premise. By that argument, Jodie Foster should have dated John Hinckley, Jr. so he wouldn't have attempted to assassinate the President. It's a complete farce of an argument. \\u2014 Bite \\\"\",\"Politburo ranking \\n\\nThe fact that Trong was selected as the No. 8 member of the Politburo was reported everywhere in the Vietnamese press. Nhan Dan gives the list both in English and in Vietnamese. Voice of Vietnam does the same here and here.\",\"No, what has no purpose is this conversation. If you are going to add some information to the article then do so if not bugger off. Trying to get it deleted doesn't hlp the article now does it smart guy?\",\"\\\"\\nJust removed the \\\"\\\"too long article\\\"\\\" template posted by RJFF for the second time. See my previous reply above for argumentation. To move the debate further ahead, I still invite RJFF to use the {{Very long|section|date=October 2013}} tag-template for each section he considers to be too long, rather than tagging the entire article as a whole.   \\\"\",\"The current map \\n\\nThe current map shows the Isle of Man and Channel Islands as though they are part of the UK, which they are not.  Should a different map be used?\",\"\\\"\\nWas your wife watching with you? Did she ask you if you thought Wikipedia might be a tree favored by another fungus? .Wolfowitz \\\"\",\"\\\":::::::No it doesn't say anything, except that you seem to be very, very prejudiced against the idea of a sovereign Jewish State. The United Nations in the 1970ies were dominated by an alliance of Soviet Union controlled or influenced countries and pan-Arabist nations. The majority imposed its point of view, but it was not that \\\"\\\"right\\\"\\\" or \\\"\\\"true\\\"\\\" as you want us to admit.   \\n\\n\\\"\",\"He keeps reverting this, but all he has to do is say that, yes, he is an adult, and I'm sure we'll be able to take him at his word per AGF.\",null],\"marker\":{\"color\":\"#CFD8DC\",\"opacity\":0.5,\"size\":5},\"mode\":\"markers+text\",\"name\":\"other\",\"showlegend\":false,\"x\":[11.000261306762695,11.634431838989258,11.46076488494873,10.614660263061523,10.270599365234375,10.519923210144043,11.673554420471191,8.853460311889648,10.720897674560547,8.575333595275879,9.810820579528809,10.244224548339844,11.0245943069458,8.31655502319336,9.73866081237793,10.612199783325195,7.448596954345703,11.572286605834961,11.100432395935059,11.416637420654297,10.18578815460205,9.854167938232422,10.298033714294434,9.12363338470459,9.781172752380371,9.956587791442871,8.981459617614746,10.557024955749512,10.477177619934082,9.429787635803223,11.332169532775879,10.09359359741211,10.817502975463867,10.120471954345703,10.362875938415527,11.261014938354492,10.014820098876953,9.282461166381836,10.799762725830078,9.423828125,7.297942161560059,8.95506477355957,9.916828155517578,7.1298828125,8.260763168334961,9.934388160705566,9.242056846618652,10.57358455657959,7.13547420501709,9.428256034851074,9.888538360595703,10.077067375183105,9.835824012756348,10.011373519897461,9.742616653442383,11.615341186523438,10.0655517578125,9.71749496459961,9.977994918823242,10.315780639648438,9.346179962158203,7.984779357910156,10.51285457611084,10.286535263061523,9.813756942749023,9.370569229125977,10.662141799926758,10.30631160736084,10.0932035446167,8.926359176635742,7.196039199829102,11.959559440612793,9.92142105102539],\"y\":[6.800207614898682,7.095219135284424,7.030593395233154,6.134675979614258,8.254647254943848,6.959658145904541,8.672785758972168,7.745509147644043,6.272971153259277,6.909750938415527,6.594822883605957,8.553983688354492,7.903526306152344,6.611033916473389,7.223803520202637,8.458683967590332,6.658293724060059,6.97210693359375,6.960448265075684,7.563285827636719,5.496512413024902,6.697532653808594,5.973584175109863,6.088369846343994,6.669780254364014,6.241850852966309,6.012763023376465,6.67093563079834,8.16982650756836,6.50044059753418,8.586730003356934,5.969051361083984,6.508594989776611,7.569992542266846,9.032551765441895,7.70614767074585,7.501842021942139,8.080609321594238,6.666080474853516,6.852223873138428,6.506886005401611,6.971179485321045,8.943864822387695,7.39932107925415,5.402744770050049,7.080813407897949,6.256316184997559,7.9208173751831055,7.253798007965088,8.180232048034668,5.495219707489014,8.332564353942871,5.4586992263793945,8.597870826721191,8.279690742492676,8.908722877502441,7.5892229080200195,6.394087314605713,8.879987716674805,5.769905090332031,6.924041271209717,5.26087760925293,6.916238784790039,8.367168426513672,8.18886947631836,8.023337364196777,8.565150260925293,8.767863273620605,7.526617527008057,6.941364765167236,7.317039489746094,7.612290382385254,7.227836608886719],\"type\":\"scattergl\"},{\"hoverinfo\":\"text\",\"hovertext\":[\"Why to go buddy! So how is Nancy holding up?\\nShe really is a bad admin and everyone knoes it.\",\"Post Tupac Death work with the mother of Christopher Wallace. \\n\\nSomeone more informed on the subject than I should add something to this article about her work and appearances with the mother of the Notorious B.I.G. at the various award shows and what not.  If i'm not mistaken the two have gotten together several times to disuade more acts of violence.  I think it would be a good addition to the article, unfortunately, i'm in no position to write it.\",\"Good Grief! How would the chimps get drunk? Anyways, Today(2-17-09) On the news, a woman in conneticut was attacked by her friend's,(over 200 pound)chimpanzee. He was huge! HE ripped her apart and ate her face off. shouldn't chimp attacks be in the chimp article? BEcause i didn't see anywhere about chimps attacking humans 173.51.203.228\",\"And when her PR people inevitably tell us she still likes Rodham, maybe tell them to update her official website and social media accounts to reflect that and tell hundreds of news organizations as well.  T|C\",\"The Palestine Telegraph\",\"OMG. I searched in Orens book using Amazon. It seems that he is actually making the claim that 300,000 Arabs immigrated to Palestine. Unbelievable. GHcool, could you check what source Oren is using for his claim? Is it Peters or Gottheil?\",\"Move to Elizabeth, The Queen Mother of United Kingdom \\n\\nShe married the Windsor family, making her Mrs Windsor and she never officially mantained that last name post her marriage.  She was given the Queen Mother by her daughter.\",\"Richmal Oates-Whitehead \\n\\nHi, just saw your addition to the article by way of a link. Thanks for the same, especially since the article has not seen much action of late and I had been itching to look at some NZ sources about her. I had also placed a request on the NZ discussion board some time back.\",\"I just put late 2010 as being the date until we get something more specific.  By the way, do we have any update on how Caroline Lloyd is?  I know she wasn't actually named in the incident that happened, but I managed to work out that it was likely to be her from the news reports saying the person slashing her wrists on set had been there over 10 years.  When you look at that list, she's the only one, the others have been there nearer 10 minutes than 10 years lol.  I hope she's ok and returns to Neighbours soon, if that's possible\",\"oh lol eleanor is a pure and utter gimp she lieks to wear a gimp suit and heyyy paulinee D:D:Dwhether\",\"Foxy Browns Birthday\\n\\nAccording to Foxy Browns MySpace Account, she is still 26 years old. So she was born on 1979.\\n\\nhttp://profile.myspace.com/index.cfm?fuseaction=user.viewprofile&friendid;=63520254\",\"Just going on TV doesn't mean you deserve a Wikipedia page and there has been no official proof of any of her threat claims as of yet. Wikipedia is a site where things need to be proven and verified. Not for hearsay.\",\"I never said she ought to be in the category \\u201copposed to fan fiction\\u201d; I just said that I thought it might be notable that she was, at one point, opposed to it\\u2014or other people around her were opposed to it\\u2014to the point that she took legal action against fans. \\u2014\",\"I'm trying to sort out the plot on her article now. -Trampikey(contribs)\",\"\\\"\\n\\\"\\\"She started it\\\"\\\" is not an excuse that is generally accepted on Wikipedia.   (smoddy) \\\"\",\"Here are the sources http://www.jpost.com/servlet/Satellite?cid=1132475697364&pagename;=JPost%2FJPArticle%2FShowFull and http://www.israelnn.com/news.php3?id=94362 but those are both just saying she was going to. I can't find anything that says she has. I was wondering if anyone else knew.\",\"\\\"\\n\\n Was \\\"\\\"Beautiful\\\"\\\" really pitched to Pink? \\n\\nI have a problem with the caption below Pink's photo \\\"\\\"Originally, the song was initially pitched to Pink\\\"\\\"; from what I've heard on TV specials, interviews, and such, of Linda and Pink... the song was never pitched to Pink, she heard it before simply because she was working with Linda, but Linda never meant for Pink to get the song. In fact, Linda wanted to record the song herself, and changed her mind only after hearing Christina sing it in the \\\"\\\"Stripped\\\"\\\" sessions, which was, if I'm correct, moths after \\\"\\\"Misunderstood\\\"\\\" was finished.\\n\\n  \\\"\",\"she did 76.122.79.82\",\"Redtigerxyz, you are rehashing what has just been discussed. Please don't do that. This is an article about an academc. Obviously all academic criticism of her academic work are perfectly fair game. Read WP:DUE.  (\\ud808\\udc73)\",\"\\\"\\n\\nQuestion\\nMiss lilygirl, why r u still deleting \\\"\\\"Walk this Way\\\"\\\" in Girls Aloud discography? u need source? go to the forum of this site www.girlsaloudworld.com it's official. \\\"\",\"You should've mentioned this on her talk page, because she obviously doesn't get it.\",\"Better phrasing, thank you. But why did you reinsert Cantarella, and what is she doing in a section exclusively about Percy?! And where does Percy say that most Greeks fucked their boys up the ass?\",null],\"marker\":{\"opacity\":0.5,\"size\":5},\"mode\":\"markers+text\",\"name\":\"0_pink_linda_song\",\"text\":[\"\",\"\",\"\",\"\",\"\",\"\",\"\",\"\",\"\",\"\",\"\",\"\",\"\",\"\",\"\",\"\",\"\",\"\",\"\",\"\",\"\",\"\",\"0_pink_linda_song\"],\"textfont\":{\"size\":12},\"x\":[7.340741157531738,7.031600475311279,7.317632675170898,7.315470218658447,7.175179958343506,7.257391452789307,7.238245487213135,7.099501132965088,7.4925127029418945,7.9081878662109375,7.66260290145874,7.322566032409668,7.1754069328308105,7.089509963989258,7.39800500869751,7.132714748382568,7.708225727081299,7.786440372467041,7.02435827255249,7.81774377822876,7.18272066116333,8.103029251098633,7.389990329742432],\"y\":[5.94953727722168,5.6845855712890625,5.51956844329834,5.9378509521484375,7.309513092041016,7.229330062866211,6.442132949829102,6.413762092590332,5.907423973083496,6.366485118865967,5.648204326629639,5.880760192871094,5.6929850578308105,5.790409088134766,5.764239311218262,6.988146781921387,6.090718746185303,5.399256229400635,5.917400360107422,6.276299476623535,5.90408182144165,6.142349720001221,6.102501392364502],\"type\":\"scattergl\"},{\"hoverinfo\":\"text\",\"hovertext\":[\"\\\"\\n\\nReguyla/Kumioko\\n\\nKumioko has socked again with the ip, 96.255.237.170. I am only reporting it here because this IP has been blocked for block evasion thus there is no benefit in opening an SPI. Would you increase the block length of the main account Reguyla? This was third time that he violated the standard offer.  (Talk \\u2022 Contributions \\u2022 Log) \\\"\",\"Does this help? \\n\\nFor the record as you have accused me of making threats I would like you to know that I wasn't, merely pointing out that if his nationality is Irish you should not try and claim him as english. Furthermore block me all you want as i have done nothing wrong in fact I'm quite right in changing his nationality to Irish when you claim he is not.. I appreciate he may be a citizen of britain but that does not mean his nationality is british, it's really not that difficult to understand that if his parents are Irish and he was born in dublin and lived there until he was 5, he is clearly Irish.. I would appreciate no more threatening messages from you in mail.. Peace from Eire\",\"Some help. \\n\\nHey man. Can you help me with this guy who keeps vandalizing the UFC 191 page? Look at his edit summaries. They're quite amusing. https://en.wikipedia.org/w/index.php?title=UFC_191&action;=history\",\"I see it has been reverted back, and then back again whie I was blocked, citing sockpuppetry (a little bit hard since I was blocked!). lol. He haqs not even discussed his changes here, so rather than just enter a pointless edit war i'll drop a line by an admin and see if we can get this sorted out.  is obviously trying to make a WP:POINT, however he has already been warned about this dispute.\",\"I am being punished because an editor, One Night In Hackney, edits my edits and then, when questioned, refuses to answer my questions.  Instead, he asks questions, I respond, yet he ignore my questions.  This is unfair.\",\"Calm down dear, you're off topic. Where's that Admin gone scurrying off to now? I notice he's neatly changed the subject and inflamed the situation so that now poor ModWilson's had to get involved.\\n\\nThat's a really good way to settle disputes, isn't it? Kudos to you, Bwilkins.\",\"It should be changed.  Blotto Adrift loves to change articles that he is in conflict with.  Blotto it's time to follow policy.  Admin's beware of him.\",\"First of all. Thank you, Zhang He, D12000, and Ronhjones for your attention. If you did nothing else, I'd be grateful to all of you. Next, 66.65.94.122 and his likely sockpuppet, Richeye, did it again. Is a blocking and protection possible? Thanks. Note, again, you might as well reply to me here as my IP is that of a Library computer.:-) Thanks again.205.189.194.250\",\"A new user put a comment about another article and another editor having quasi-neocon views. That comments had nothing to do with you- he just didn't format it or sign it, sorry for the confusion. Your explanation of why you inserted intentionally incorrect information with the expectation that someone would fix it is astonishing. That is barely distinguishable from vandalism. -\",\"I would like to further clarify that the edit which I made yesterday was totally outside the issue of ongoing disagreement. I made sure of that because I wanted Wolfkeeper exposed. I knew he would delete it, yet is was a very carefully thought out example which ilustrates both centrifugal force and Coriolis force perfectly.\\n\\nNow what has happened is that Itub and PhySusie are trying to justify Wolfkeeper's actions and in doing so totally contradicting what has already been agreed.\\n\\nThey are behaving like school children and I would simply lke to know if this is he best that I can expect from wikipedia. Do the administration ever sort these cliques out or do they generally side up with the cliques out of fear of large numbers?\",\"November 2007 (UTC)\\n\\nHi again, Isnt kerem now a disruptive editor? Patronizing myself while i am trying in all civility without a single edit to have a discussion in good faith of what (in UN view) is silenced? (Besides the fact that he wants to buy you a beer ) ) 23:05, 12\",\"I take some offense to you not liking Cena because even though he doesn't have much wrestling skill he knows how to fight. But I agree that the vandalism is out of control. I thank whoever cleans up Cena's artical.\",\"Thanks for removing more of his anonymous, unsigned, vandalism. He's pushed it too far; I'm requesting admin involvement at this point.\",\"Did rdSmith4 ever answer you about his evidence for my sockpuppets since he provided no proof  & will not answer my requests? \\n\\nDid he ever answer your request? I am thinking of filing an Arbitration request against him, since he will not acknowledge my requests. I don't think I will be around here much longer anyway, so I may as well go for broke.  Sincerely,\",\"That's probably because the original author is usually editing under his normal user name )\",\"He also exaggerates, claiming that my edits are vandalizing and abusive, when in fact I was only trying to improve a couple articles, which he then reverted, for no reason other than to prove a point (disrupting wikipedia to prove a point isn't allowed on wikipedia), even if it meant WORSENING the state of an article and re-implementing broken links, bad disambiguations, and incomplete information.  Netscott has done more harm to wikipedia than good, and thus for this reason, if you block me and not him, then you must either block both of us or block none of us. }}\",\"It wasn't me, my brother was using the comp. -\",\"I see you guys are two different people. I apoligize for assuming you were someone who's been stalking my edits.\",\"Request to Unblock\\nI began writing the following statement (excepting its two postscripts) before I was blocked. I suspect that User: AuburnPilot had me blocked, in order to prevent me from complaining to administrators about his misconduct. Although I was directed to request an unblock of User: Physicq210, who had blocked me, requesting such of the latter would require that I censor myself, and write as though User: Physicq210 had acted in good faith, and was one of the good guys. That would be surreal, and would give User: Physicq210 a moral legitimacy belied by his actions. And so, the following request for unblocking is directed at any administrator BUT User: Physicq210, but since I\\u2019m not a devious sort, I have nothing against the latter reading this. Indeed, I want User: Physicq210 to read it. For if I can be banned from Wikipedia for standing up to censors, then it is vastly preferable to go down fighting, than to go down the long dark road of self-abnegation and self-censorship, including the use of bad English. After all, if I wanted to be a lackey, I could go to graduate school.\\n\\nWIKI Administrators\\u2019 Notice Board Incidents\\nhttp://en.wikipedia.org/wiki/Wikipedia:Administrators%27_noticeboard/Incidents\\n\\nUser: AuburnPilot\\n\\nA few days ago, User: AuburnPilot began stalking me, checking wherever I had made edits, and going to the articles in question and vandalizing them. He or she has been manipulating Wikipedia rules as cover for what is clearly political censorship. User: AuburnPilot cannot even stand for Wikipedia readers to find out about factual material that upsets his political applecart through footnotes. Zero tolerance!\\n\\nHe claims of any source he politically dislikes, that it is either \\u201cspam\\u201d or a \\u201cblog\\u201d (or \\u201cPOV,\\u201d another favorite dodge for those at Wikipedia seeking to censor those who fail to conform to their own POV), even though the one source is a previously published, classic magazine article otherwise unavailable on the Web (http://geocities.com/nstix/waronpolice.html), which the author has seen fit to publish on his Web site, and the other source is the longest, most thorough expos\\u00e9 yet published on the Duke rape hoax (http://vdare.com/stix/070113_duke.htm).\\n\\nNote that I am not even talking about censoring writing within articles, since I hadn\\u2019t done any writing on the articles in question: Crystal Gail Mangum, Michael Nifong, 2006 Duke University lacrosse team scandal and Racial profiling.\\nI\\u2019ve been involved in edit wars before, though I have never been the aggressor, and have never initiated an elective edit war, though given the self-assurance that aggressors such as User: AuburnPilot exude, perhaps I ought to reconsider that position. It seems that aggressors rule here.\\n\\nThe reason I am making a formal complaint is that User: AuburnPilot has tonight upped the ante, threatening to have me banned\\n(http://en.wikipedia.org/w/index.php?title=User_talk:70.23.199.239&redirect;=no), if I do not surrender to his censorship. Should you find for me, please serve this individual with the wikiquivalent of a cease-and-desist order. Should you, however, find for the censor, please provide an Index of banned publications and a list of official wikicensors.\\n\\nP.S. January 19, 2007 115A EST. Since beginning this complaint, I see that User: AuburnPilot has in fact succeeded at getting a crony, User: Physicq210, to block me, thus not only getting administrative support in censoring me, but preventing me from responding to his thuggery. (And no, I am not going to use cutesy, euphemistic language. If I were into such deception, I would have become a liar, er, lawyer, and would be worthless as an encyclopedist.) And I was unable to e-mail User: Physicq210 because I am not logged in and \\u201cYou must be logged in and have a valid authenticated e-mail address in your preferences to send e-mail to other users.\\u201d (http://en.wikipedia.org/wiki/Special:Emailuser/Physicq210)\\n\\nIf this isn\\u2019t cyber-Stalinism, I don\\u2019t know what is! So, let me get this straight. Stalking and censoring an editor while using the equivalent of smiley faces (User: AuburnPilot\\u2019s penchant for saying \\u201cThank you\\u201d after vandalizing one\\u2019s links) is \\u201ccivil,\\u201d but complaining about such abuse counts as \\u201cspam, disruption, incivility, and personal attacks.\\u201d If that is verily so, then 2 + 2 = 5.\\n\\nP.P.S The message here says that I was \\u201ctemporarily blocked from editing Wikipedia as a result of your disruptive edits.\\u201d What the heck is that supposed to mean? For restoring footnotes and links that User: AuburnPilot had vandalized? If that constitutes \\u201cdisruptive edits,\\u201d then you\\u2019ve utterly given up on honest English and all human decency. Sorry, but I don\\u2019t have any sympathy for the Devil.\",\"As the newest guy on the block, a question to help me understand what is and isn't okay.  If I were the one making all of the statements above rather than those who are, wouldn't I have been smacked down with references to rules about forum, synthesis, and original research, and maybe even weight?  Sorry to ask but my common sense just wouldn't leave me alone until I put this question out. He is completely confused.  I have to admit.  I am too.  <>\",\"Whatever.  Go ahead and block me if the situation calls for it.  Apparently, he was concerned that I wouldn't get punished for anything.   (Elkspeak)\",null],\"marker\":{\"opacity\":0.5,\"size\":5},\"mode\":\"markers+text\",\"name\":\"1_user_block_auburnpilot\",\"text\":[\"\",\"\",\"\",\"\",\"\",\"\",\"\",\"\",\"\",\"\",\"\",\"\",\"\",\"\",\"\",\"\",\"\",\"\",\"\",\"\",\"\",\"1_user_block_auburnpilot\"],\"textfont\":{\"size\":12},\"x\":[12.428519248962402,12.078120231628418,12.028987884521484,12.27713680267334,12.364493370056152,11.598918914794922,11.597012519836426,12.489648818969727,11.876055717468262,11.79616641998291,11.839677810668945,11.914959907531738,12.084548950195312,12.266557693481445,11.75316047668457,12.219613075256348,12.529549598693848,11.87149429321289,12.459572792053223,12.128267288208008,12.446293830871582,12.097559928894043],\"y\":[7.4524688720703125,7.719361305236816,8.287984848022461,7.880368232727051,8.2333984375,7.518401622772217,7.7282490730285645,7.425824165344238,8.025312423706055,7.903594970703125,8.679401397705078,8.817424774169922,7.771304130554199,7.3426833152771,8.093221664428711,8.103400230407715,7.442781925201416,8.125753402709961,7.733303546905518,8.276240348815918,7.5052337646484375,7.907891273498535],\"type\":\"scattergl\"},{\"hoverinfo\":\"text\",\"hovertext\":[\"First sighting \\n\\nI don't know anything about the first sighting of the Angel Falls, who what when or where. However, it looks like the first sighting has been attributed to a westerner, an assertion that seems impossible. Would it be more correct to say that the first 'Westerner' sighting of the falls was Mr. Sanchez, not that he was the first to see it? It's like saying Columbus discovered the New World.\",\"Oh, I should read Wikipedia!  The article itself notes that he took money while he was still an MP - though it needs references.\",\"He is a CHEATER, and the article should say that.\",\"Bornfeld \\n\\nMr. Bornfeld is a teacher of AP Eurpean History at Aliso Niguel High School.  Some students find it humorous to put his name in articles that they have to research, please watch out for his name to keep popping up\",\"There appear to be more than one ship bearing the name RRS Discovery. The original Discovery was captained by Robert Scott between 1901 - 1904 in his first unsuccessful expedition of Antarctica. \\n\\nThe original RRS Discovery now resides at her birthplace\",\"How is this guy notable?  No one's ever heard of the guy.  Who cares about some dime-a-dozen custom knife-maker.\",\"There was a guy, a white supremist arrested a few years back, who confessed to the killing of two black kids using a hunting rifle back in the mid 80's.\\n\\nHe confessed to his cellmate while in jail for something else.\\n\\nI really wish I remembered who he was, especially since it was so big.\\n\\nAlso, I think it would be helpful to add that information to give my old neighborhood a bit more personality.\\n- 16:58, 4 Aug 2004 (UTC)\",\"If this is the guy who I met at University, he goes by the name Cameron St. John.  His father is a professor in Manotoba.\\n\\nHe was the President of the Campus Social Credit Association, and had a job off campus at Your Family Food Mart, restocking shelves.24.84.233.33\",\"Do you have something against WWII generals?  http://en.wikipedia.org/wiki/Nathan_Bedford_Forrest_III  He died in WWII fighting for our country\",\"NONE OF THIS MP STUFF IS TRUE AND I HEARD TODAY ON REALLY GOOD AUTHORITY THAT MARSDEN HAS AN ATTORNEY IN NEW YORK DRAWING UP THE MOTHER OF ALL LAWSUITS AGAINST JIMBO, WIKIPEDIA SO YOU MIGHT WANT TO TAKE THIS MP SHIT AND OTHER SHIT DOWN ASAP.\",\"Nevermind.  I found it.... http://www.newyorker.com/reporting/2010/01/04/100104fa_fact_paumgarten\\nin which it has the quote followed by a comment about his foot-in-mouth antics.\",\"He was born in Geelong.\",null],\"marker\":{\"opacity\":0.5,\"size\":5},\"mode\":\"markers+text\",\"name\":\"2_sighting_guy_mp\",\"text\":[\"\",\"\",\"\",\"\",\"\",\"\",\"\",\"\",\"\",\"\",\"\",\"\",\"2_sighting_guy_mp\"],\"textfont\":{\"size\":12},\"x\":[9.223217964172363,9.38046932220459,10.390301704406738,8.989062309265137,9.086075782775879,9.223845481872559,8.983222961425781,8.957274436950684,9.33862018585205,9.494667053222656,9.28732967376709,9.017319679260254,9.280951499938965],\"y\":[8.980630874633789,8.797225952148438,9.14747428894043,9.349733352661133,9.237428665161133,9.079744338989258,8.883793830871582,9.342249870300293,8.849197387695312,8.821595191955566,8.51810073852539,9.329987525939941,9.028096199035645],\"type\":\"scattergl\"},{\"hoverinfo\":\"text\",\"hovertext\":[\"NOP \\n\\nMORDOR'S Jewish beliefs make his version of the article neutral ? I don't think so, but I'm ready for compromise as on the discussion page. I made article neutral, without POV sentences and non referenced statements + Mordor's criticism about the party. I think that ban was not needed to solve this problem. I would like to remind you of Mordor's actions and that his beliefes influence Wikipedia's articles from up to down. I don't have anything against Jews (my uncle is a practicising Jew) but I think that Mordor have to stop spreading only his point of view on Polsih related articles. Please, look at article about NOP now \\n\\nNational Revival of Poland, version -  04:04, may 4 2008.\\n\\nI agree with Mordor's Criticism (which is higlhy positive to keep criticism on anything in Wikipedia's articles because nothing is perfect, but criticism with head and NPOV policy).\",\"The fact that the students in Waldorf schools in California have personal exemptions from immunizations at a higher rate than the state average is fact, verified by the State of California statistics which I ref'd.  In Sonoma County the exemption rate is 52% for the private school, 71% for one charter school, and 88% for the other.  The state average for personal exemptions is less than 2%.  Moving to the rest of the state provides similar numbers.  The schools can claim that this is not an official policy, but I did not argue that it is official policy, only that the numbers are true and that they are verifiable.\\n\\nMy edits have been deleted with the argument that the verifiable truth of individual school and county data is not relevant to a 'movement of over 1000 schools.'   So from my point of view, true and verifiable information about a significant component of life in Waldorf schools is being suppressed on wikipedia.\",\"\\\"\\n\\nSorrybut I've had to correct parts of the sentence; it was not accurate. I am using the most-up-to-date sources on this subject and have four decades of experience doing research on this subject, so I really do want to make that clear. If I see something that I know from my knowledge of the sources is inaccurate in emphasis, I am correcting it. Pinter does not write plays \\\"\\\"to express his political causes and beliefs\\\"\\\": that is not an accurate statement (according to my research and other published research on the subject in secondary sources as well as primary onesthe works). He explicitly states that that is not how he goes about writing plays or other creative writing. He does that in essays and speeches, but not in his dramatic works per se. Please do not change the emphasis if this is not a field with which you are familiar based on your citation to one page of one secondary source. (I have the source [Grimes]published and in manuscriptand that is not what he states in it.] Thanks.  \\\"\",\"Should we make the same argument for those who self-identify as Jews writing Holocaust articles?  The only possible rationale I could see for prohibiting self-identified pedophiles from writing articles on people claiming child abuse is that it provides right wing cranks with an opportunity to publicly attack Wikipedia.  Given the collaborative process, it certainly isn't going to make any difference in the quality of the resulting article, and most minor attracted adults editing Wikipedia aren't going to publicly announce their orientation anyway.\",\"\\\"\\n\\nThis was a very informative article and it is highly recommended. It needs more information about how to deal with intellectualy dihonesty on Wikipedia. There are some regular writers on Wikipedia who knowingly engage in personal attacks and deletions (even of links) of anyone who explains the connection between Edward Bellamy and his cousin Francis Bellamy (author of the pledge of allegiance) and National Socialism. Some of the worst falsifiers on Wikipedia are Stormie, Lupo, and Matt Crypto. They were challenged to respond to the facts that they suppressed or to concede, and they each conceded that the facts that they suppress are correct and that they delete those facts because they do not want Wikipedia readers to know the truth. They constantly spam their own point of view in their diatribes in which they try to cover up for Nazism. It is behavior that breaks Wikipedia's rules. What kind of people cover-up for Nazis and that horrid ideology?\\n\\nMany regular writers on Wikipedia are intellectually dishonest  and they regurgitate the top media cover-ups.  They cover up many historic photos of the Pledge of Allegiance http://rexcurry.net/pledge2.html that reveal its original straight-arm salute.  They cover up the fact that the author of the Pledge of Allegiance (Francis Bellamy), and his cousin and cohort (Edward Bellamy), were National Socialists and supported the \\\"\\\"Nationalism\\\"\\\" movement, the \\\"\\\"Nationalist\\\"\\\" magazine, the \\\"\\\"Nationalist Educational Association,\\\"\\\" their dogma of \\\"\\\"military socialism,\\\"\\\" and Edward inspired the \\\"\\\"Nationalist Party.\\\"\\\"  They cover up the Pledge's straight-arm salute as the origin http://rexcurry.net/pledge1.html of the salute of the National Socialist German Workers' Party (Nazis). As part of the cover up, they perpetuate the myth http://rexcurry.net/pledgesalute.html that the straight-arm salute was from ancient Rome.  They cover up discoveries by the historian Rex Curry.  The Pledge began with a military salute that then stretched outward toward the flag. Historic photographs are at http://rexcurry.net/pledge2.html and at http://rexcurry.net/pledge_military.html showing the evolution of the gesture. Due to the way that both gestures were used, the military salute led to the Nazi salute. The Nazi salute http://rexcurry.net/book1a1contents-pledge.html is an extended military salute. A mnemonic device is the swastika (\\\"\\\"Hakenkreuz\\\"\\\" in German).   Although the swastika was an ancient symbol, it was also used sometimes by German National Socialists to represent \\\"\\\"S\\\"\\\" letters for their \\\"\\\"socialism.\\\"\\\"  Hitler altered his own signature http://rexcurry.net/book1a1contents-swastika.html to use the same stylized \\\"\\\"S\\\"\\\" letter for \\\"\\\"socialist.\\\"\\\" Wikipedia's fibbers cover up for the swastika http://rexcurry.net/swastikanews.html and its use as a sick socialist symbol. Wikipedia's dissemblers cover up for the National Socialist German Worker's Party http://rexcurry.net/swastikamedia.html by overuse of the hackneyed shorthand \\\"\\\"Nazi.\\\"\\\"  Many Wikipedia posters are propagandists in that there was no \\\"\\\"Nazi Party\\\"\\\" because it was actually the \\\"\\\"National Socialist German Workers' Party\\\"\\\" and the party members did not call themselves \\\"\\\"Nazis\\\"\\\" nor the \\\"\\\"Nazi Party.\\\"\\\"  The term \\\"\\\"Nazi\\\"\\\" developed from slang using the first syllable in the German pronunciation of the \\\"\\\"National Socialist German Workers' Party.\\\"\\\"  In that sense, the author of the Pledge of Allegiance was a \\\"\\\"Nazi\\\"\\\" too, in that the term means \\\"\\\"National Socialist.\\\"\\\"  The term \\\"\\\"Nazi\\\"\\\" is also used to hide the National Socialist dogma behind the Pledge of Allegiance, its original gesture, and the National Socialist German Workers' Party.  \\n\\nWikipedia's cons use the term \\\"\\\"Nazi\\\"\\\" and the misnomer \\\"\\\"Nazi Party\\\"\\\" to cover-up the horrors of socialism. Wikipedia's falsifiers cover up the the socialist trio of atrocities and and their socialist Wholecaust (of which the Holocaust was a part): 62 million people were slaughtered under the former Union of Soviet Socialist Republics; 35 million were slaughtered under the Peoples' Republic of China; 21 million were slaughtered under the National Socialist German Workers' Party. They cover up the fact that socialists helped start WWII with the National Socialist German Workers' Party and the Union of Soviet Socialist Republics together  http://rexcurry.net/socialistwar.html as allies in 1939. They cover up for and are deniers of the socialist Wholecaust, http://rexcurry.net/mediacoverup.html of which the monstrous Holocaust was a part.\\n\\nLiars on Wikipedia repeat common lies http://rexcurry.net/mediapledge.html of the media. http://rexcurry.net/socialistmedia.html\\n\\nWikipedia should not be cited for support because it is no different than quoting various anonymous sources who have no knowledge of the topic http://rexcurry.net/wikipedialies.html or who have fibs to spread about the topic.\\n\\nThe Wikipedia article for th\",\"\\\"\\n\\nOKAY, I have now tried to just delete the offensive sentences in the beginning about Mr. Irving being a socalled 'holocaust denier'. He says himself he is not, and acknowledges that many jews were killed during the war, however he does not go along with the 6 million jews killed-figure, as he reckons the number to be lower. And it really comes down to that: \\\"\\\" David has the right to question anything relating to history and WW2 is his speciality, and he actually makes a living of questioning and critically examining sources.\\n\\nI also decided to delete the account about him loosing a court case in 2000. David have launched several libel cases before - in 1996 he won 45000 \\u00a3 libel-damage against an English Sunday Newspaper. The fact that he this time lost is not something that should figure at the head of his CV. Many people also find it extraordinary that a judge can deside what a person IS or is not, and what beliefs he holds.\\\"\",\"\\\"\\n\\nTo regard this think tank as a \\\"\\\"propaganda organization\\\"\\\", you would need to find a reliable source stating that it is a propaganda organization. All anyone's been able to do is find the appropriate verb. Which, would be found by reliable sources reporting on the Clinton campaign, the Obama campaign, the Bachmann campaign, and any number of political interest groups or political parties. Type in \\\"\\\"propagandizing\\\"\\\" and list a newspaper, political party, think-tank, or even university, and you'll see what I mean. Like this on the Obama campaign  To make inferences from that opinion piece published in a reliable source, and therefore label his campaign a \\\"\\\"propaganda organization\\\"\\\", or himself a \\\"\\\"master propagandist\\\"\\\", would of course be very subjective.\\\"\",\"\\\"\\nThough I'm not sure about the claim that transgender men are not \\\"\\\"real\\\"\\\" men (perhaps not biologically), I do find it somewhat strange that we're including unknown men on the basis of their being transgendered, and at the exclusion of some of the most influential and famous male figures in history (e.g. Jesus, Mohammad, Buddha, Hitler, Caesar). What are the priorities here? To prove how liberal and progressive wikipedia is?   \\\"\",\"\\\"\\nThe fact that it is in the \\\"\\\"accused\\\"\\\" category instead of just Category:Terrorist organizations implies that the accusation was and is hotly disputed.  In fact, are you suggesting that there is any accusation of terrorism that has ever not been disputed by someone or other?\\n\\nEssentially, you are a Lehi supporter trying to make Lehi look as good as possible.  Compare this with the situation with Al Qaeda.  There, I am having a hard time keeping the article in  Category:Organizations accused of terrorism, not because there is anyone wanting not to label the organization, but because everyone wants it in Category:Terrorist organizations!  It's crazy.  You partisans want your favourite terrorist organisations free of labels, and your enemies' organizations labelled as \\\"\\\"terrorist\\\"\\\".  Since there are more Jewish and Christian people editing Wikipedia than Muslims, this means that some get the label, and others don't.\\n\\nI'm afraid that this situation is not acceptable.  Pro-terrorists are going to have to accept that we have an NPOV policy, and that all of these organizations will be categorised in a neutral manner.  \\u2014\\u00a0 \\u2709 \\\"\",\"So you're a democrat.  Congratulations.\\n\\nI'm an American, not affiliated with either party, and if any recent presidents had attacked the media for merely commenting, the rest of the media would have formed a lynch mob.  I guess you think it's ok for the President and his administration to promote censorship when there's a Marxist in the Whitehouse, and then prevent that fact from being presented in documentation such as this, eh?\",null],\"marker\":{\"opacity\":0.5,\"size\":5},\"mode\":\"markers+text\",\"name\":\"3_socialist_party_national\",\"text\":[\"\",\"\",\"\",\"\",\"\",\"\",\"\",\"\",\"\",\"\",\"3_socialist_party_national\"],\"textfont\":{\"size\":12},\"x\":[10.740602493286133,11.068521499633789,10.845466613769531,10.861145973205566,10.830578804016113,10.70065689086914,10.587088584899902,10.631539344787598,10.696649551391602,10.701737403869629,10.766397476196289],\"y\":[7.489991664886475,7.588518142700195,8.00810432434082,7.432340621948242,7.36671257019043,7.965598106384277,7.6181559562683105,7.485560894012451,7.553766250610352,8.10002326965332,7.660877227783203],\"type\":\"scattergl\"},{\"hoverinfo\":\"text\",\"hovertext\":[\"My mom sucks nigger dick\",\"Viral is a faggot mother fucker in the shit of the crap stritting.\",\"if I wasn't a fifteen-year-old girl\",\"Hanibal911You're a bastard Pro-Assad. The rebels Aleppo Central Prison have been completely. Assad's like you're a bastard. Many men like to have sex with your mother, mother-Assad.You're a genital fit. Many men will serve your mother every day, and every day it eats genital. But you and your bastard Assad and parents. No Gvhy can not eat. Of course I understand that when you and your parents bastard to eat not eat Wedge. I suggest that parents make you eat my wedge. In the hope that residents will separate your head from your body.\",\"YOU SUCK \\n\\nHello J. Delanoy,\\n\\nU suck. I could totally pwn u in my sleep. Come log on WoW like a real man and we will duel. My death knight rolak will destroy u. In f4ct, u r probably some horde faggot pansy ass blood elf faggot. I could prolly even 1 shot u cus u r a faggot ass pansy bitch whore. U r the biggest noob I have ever seen. LOL u prolly dont even have any ep3x. People like u make me sick. Ur mother is prolly horde too rofl i can prolly pwn u both at the same time. Lol u r prolly an orc to. I one shotted thrall, cus he is the king of the noobs. U prolly didnt even beat kara cus u suck. LOL u prolly dont even tier 9 yet cus u suck that much. My dk had some t8 in bc, ur such a noob that u prolly only had like dungeon tier 1 LOL!!. U r prolly a virgin too. LOL I get laid 8 times a day. Just ask ur mother. I also bang all of the cheerleaders for the football and basketball teams. Oh ya and baseball. I am also the starting qb for our football team. We won the state championship. I threw so many passes. Then I got laid. Yeah, u wish u were as good at life as me. But ur not, cus u suck. U just sit there all day, raiding kara with ur noob welfare ep4x wiping on the horseman LOL. We never wiped on him. U really need to get a life, I mean who doesnt have at least t7 yet srsly?? Add me and well duel and ill destroy ur noob welfare blood elf orc ass. U prolly cant even bring me down to 95% LOL cus u suck noob.\\n\\nU rly suck srsly,\\n\\nROlak, King of da Death Knights.\\n\\n68.205.182.184\",\"Hey you cunt armchair lawyer\\nDo you like it? Sitting in your mom's basement trying to act like you are know it all?\\n\\nGo fuck yourself you stupid cunt bag.\",\"It's Me again. \\n\\nLook, I sent you a message about 3 months ago. But I see you want to be a jackass a not respond. So fuck you and go shove a saw up your smelly ass you dipshit mother fucker.!!!! LMFAO!!\",\"How dare you send me such abuse you fucking cockmaster!\\nIf you dare warn me again, Mr Jeff. I will savagely attack your mother!\\n\\nI know where you live\",null],\"marker\":{\"opacity\":0.5,\"size\":5},\"mode\":\"markers+text\",\"name\":\"4_prolly_suck_lol\",\"text\":[\"\",\"\",\"\",\"\",\"\",\"\",\"\",\"\",\"4_prolly_suck_lol\"],\"textfont\":{\"size\":12},\"x\":[10.482101440429688,9.769200325012207,10.349078178405762,10.520539283752441,10.499979972839355,10.680679321289062,10.540156364440918,10.620431900024414,10.432770729064941],\"y\":[5.121530055999756,5.300780296325684,5.219229221343994,5.282430171966553,5.341798782348633,5.289106845855713,5.147627353668213,5.044519901275635,5.218377590179443],\"type\":\"scattergl\"},{\"hoverinfo\":\"text\",\"hovertext\":[\"There are two interpretations . Traditional Catholics consider non-Catholics as protestants. Historians consider Christian groups that historicaly protested or antagonized the Catholic Church as protestant, these are typically Lutherans and affiliates. Are the Greek ,Russian and Coptic Orthodox Churches protestant?They have only been geographically separated and developed that way . They maintain many sacraments seen in the Catholic Church. Also Christian coalitions have core requirements like acceptance of the Divinity of Jesus as the Son of God, Holy Trinity, Ressurection and Salvation through grace, personal relation to J.C. etc. Jehovah's Witnesses, Adventists, etc, don't accept all of these. Even the Catholic Church accepts (I believe) certain groups as Christian even if they don't recognize the Pope as long as the fulfill these Christian requirements. Since this is an encyclopedia, we need to distinguish these forms.\",\"You're asking for original research. (not allowed in Wiki) Wiki reports the consensus of scholars which is that he was a deist and not a Christian. that is a verifiable fact and is reported. Maybe he was a really secret Buddhisthow could anyone disprove that? Should Wiki mention that possibility? Try this: name a few prominent Christian leaders who say he was a genuine Christian.   TJ wrote that he rejected Jesus as God or saviour; he rejected miracles; he rejected the gospels as authentic. he thought Jesus had some good ethical ideas.\",\"Thank you for the discussion. ) I may have worded it wrong. Even though officially Latin is not used in the City-State in the same way as the Holy See, leaving only the Italian translation can also mislead readers to believe Italian, English, etc are only used there even in documents, and the average reader will still tend to confuse the two entities of the Vatican City State and Holy See together even after reading the article (even I do!). I believe the note therefore kills two birds with one stone with the clarification in a concise manner, and instead of removing it any help in clarity would be appreciated and help the article overall.\",\"Religious beliefs?\\nI wonder why this article doesn't mention his religious beliefs? He often mentioned Jesus in his lyrics, and he even had Tattoo of a huge cross on his back. Doesn't that count for anything? |Talk 17:38, 30 Sept, 2006 (UTC)\",\"Article is not diverse enough\\nThe article is too centered on historical protestant criticisms of the Church, however they are now only a minority of criticisms, when you take into account muslim criticisms (about the Trinity), ewish criticisms (about the identity of the Messiah), buddhist criticisms (about the necesity of dogmas), hindu criticisms (about missionaries), secular critcisms (about the political role of bishops), and many other types sociological and scientific of criticisms. 69.157.229.14\",\"Can I ask what is wrong with the Walmart source?\\nIt explicitly lists the band in the Christian rock genre.\",\"No, people do not use Christianity to refer specifically to Mormonism.  Mormonism is used to refer to Mormonism specifically.  Christianianity is used  to refer, much more generally, to all religions that worship Jesus Christ.I don't see any references to Mormonism in that article.\",null],\"marker\":{\"opacity\":0.5,\"size\":5},\"mode\":\"markers+text\",\"name\":\"5_christian_criticisms_jesus\",\"text\":[\"\",\"\",\"\",\"\",\"\",\"\",\"\",\"5_christian_criticisms_jesus\"],\"textfont\":{\"size\":12},\"x\":[8.047130584716797,8.14338207244873,8.288068771362305,7.950911045074463,8.056489944458008,8.044766426086426,8.019342422485352,8.078584671020508],\"y\":[8.31295108795166,8.379728317260742,8.270078659057617,8.207420349121094,8.284266471862793,7.535421371459961,8.257818222045898,8.178240776062012],\"type\":\"scattergl\"},{\"hoverinfo\":\"text\",\"hovertext\":[\"Below we're told only one of these images can be used.  Given that, it seems obvious to me that the outdated photo in which Michael Brown looks like a young boy is not to be used.   (talk)  (contribs)\",\"Hello,\\n\\nI am the owner of the 2 photos you deleted. perhaps i didn't license it properly because I don't have good English and thought i was putting it by the right category. Mimel took the photo, he and I uploaded the file. He is a photographer in Haifa, Israel. \\nIn which category should I put the photos, considering that you are speaking to the person that took it. We can decide to make it a free licences with Mimel tommorow without any problem.\",\"id=7820 it says that 'Pictures of Matchstick Men' was inspired by the artist's work.\",\"\\\"\\n\\nNo, ive never been lucky enough to go to one of his concerts, it might be a case of carry on looking on flickr until we find one thats good and doesnt a press attachment. Im not really familiar with copy right rules their quite complicated, a possibility would be a music video still, or a concert that was in the public domain such as his superbowl performance in 1993.  ('Come Speak To Me') \\\"\",\"\\\"I think the \\\"\\\"split image\\\"\\\" of Richard Desmond arises from the fact that he made his money in pornography (not mainstream publications), and then once having made his money, he used those profits from pornography to try to buy his way into mainstream publishing.  I think that can be stated as fact.  Now as to whether he did the latter in an attempt to improve his soiled image . . . . well, that's up the reader to form an opinion.\\n\\n\\\"\",\"Re: Barrymore 1936 photos \\n\\nManaged to drum up two so far: File:Scene from Romeo and Juliet 2.jpg File:Scene from Romeo and Juliet 1936.jpg.  While looking, I found a back story re: Barrymore and the film.  Barrymore and Barrie managed to have a bad quarrel which was heated enough for her to go to New York.  Barrymore was thoroughly miserable without her and threatened to quit the film (in production) unless Barrie came back to him.  Producer Irving Thalberg had the job of begging and pleading with her via long distance so his project could continue. This is on page 32 of the article.\",null],\"marker\":{\"opacity\":0.5,\"size\":5},\"mode\":\"markers+text\",\"name\":\"6_barrymore_photos_mimel\",\"text\":[\"\",\"\",\"\",\"\",\"\",\"\",\"6_barrymore_photos_mimel\"],\"textfont\":{\"size\":12},\"x\":[8.560184478759766,8.745943069458008,8.485957145690918,8.740609169006348,8.500152587890625,8.239816665649414,8.545443534851074],\"y\":[5.752449989318848,5.700229167938232,5.737922668457031,5.876504898071289,5.941037178039551,5.961401462554932,5.828258037567139],\"type\":\"scattergl\"},{\"hoverinfo\":\"text\",\"hovertext\":[\"Okay, well then if I put in the year he promoted from Oak will that be a reliable fact ?\",\"Yes, I think he is just a newcomer. We do not want to bite him.  (talk - )\",\"\\\"\\n\\nI'm nearly certain that Scott Thornton didn't become an alternate captain until Craig Conroy was traded to Calgary.  I sure can't recall him wearing the \\\"\\\"A\\\"\\\" on his jersey before that moment, and I also thought I heard on a Kings telecast shortly after the Conroy trade Bob Miller and Jim Fox talking about how he's now wearing the \\\"\\\"A\\\"\\\" on his jersey, leading me to believe that he assumed that role after the trade.  I'm not gonna reflect my opinion in the article; I thought I'd leave a cimment here, first.  '''''' \\\"\",\"\\\"? Is he \\\"\\\"special\\\"\\\"\\\"\",\"How about mentioning that he has a 2-year contract, but whether he'll play the 2nd year is disputed? That might work alright.\",\"Cesc Fabregas \\n\\nI see it's been changed that he now plays for Chelsea. Looks like I was right all along? how do you like that you little bitch? I was right and you were wrong.\",null],\"marker\":{\"opacity\":0.5,\"size\":5},\"mode\":\"markers+text\",\"name\":\"7_conroy_wearing_jersey\",\"text\":[\"\",\"\",\"\",\"\",\"\",\"\",\"7_conroy_wearing_jersey\"],\"textfont\":{\"size\":12},\"x\":[10.99837589263916,11.35948657989502,11.078246116638184,11.14241886138916,10.98598575592041,11.262476921081543,11.137831687927246],\"y\":[9.318318367004395,9.340843200683594,9.429438591003418,9.239442825317383,9.379733085632324,9.365026473999023,9.345466613769531],\"type\":\"scattergl\"},{\"hoverinfo\":\"text\",\"hovertext\":[\"\\\" The article claims that his father was Mokhachane - his name was actually Khachane. No, this is not an example of the prefix war - \\\"\\\"mokhachane\\\"\\\" means \\\"\\\"a pregnant woman\\\"\\\" and my late brother's second name was Khachane. I have mo idea what the name means, but it could be from Mokhachane. Please just change it - be italic. User:ZyXoas \\\"\",\"Pronouncing \\n\\n[\\u02ccr\\u0259\\u028alz\\u02c8r\\u0254\\u026as] is the English pronunciation, often mistaken with [\\u02ccr\\u0259\\u028als\\u02c8r\\u0254\\u026as].\",\"|listas = Montgolfier Brothers, The\",\"PS You can check this in the snappily-titled List of names in English with non-intuitive pronunciations.   | Talk\",\"\\\"\\nYou can say it if you like, but that ain't standard English.  \\u2014\\u00a0 \\u2709 \\\"\",\"Curiously, most members of those Chinese armies spoke cantonese. 99.244.189.70\",null],\"marker\":{\"opacity\":0.5,\"size\":5},\"mode\":\"markers+text\",\"name\":\"8_mokhachane_brothers_khachane\",\"text\":[\"\",\"\",\"\",\"\",\"\",\"\",\"8_mokhachane_brothers_khachane\"],\"textfont\":{\"size\":12},\"x\":[9.032447814941406,8.945204734802246,8.741057395935059,8.836048126220703,9.052321434020996,9.12132453918457,8.954734802246094],\"y\":[7.36436128616333,7.596403121948242,7.348545074462891,7.394027233123779,7.818475246429443,7.684776306152344,7.534431457519531],\"type\":\"scattergl\"},{\"hoverinfo\":\"text\",\"hovertext\":[\"Carlo Forlivesi \\n\\nYou mention Google News? A search on the guy returns a measly 8 results from the archives.\\n\\nSay what you will, the page is OBVIOUS and shameless self-promotion by a complete nobody.\\n\\nNot that I expect Wikipedia to ever become anything serious or reliable (it's mostly a pile of bullshit anyway) but at least this kind of crap used to be removed. If that's no longer the case, well, that just gives even more weight to the point I make on my user page.\",\"\\\"\\n\\n Blocking Mardyks  \\n\\nExcellent work there Shii. We can't have his kind getting us to think about what the Maya actually say about their own prophecies. We insulted him, offended him and abused him and he just had to be ethical and persistant. BLOCK those Mother Fukkers!!! Taking out the entire Santa Fe Public Library system is a great preemptive strike also. There may be others of his kind, that sympathize with those \\\"\\\"Indians\\\"\\\". These people actually LOVE the Earth and that is without reliable sources! We kicked their asses and have the right to write THEIR history and interpret THEIR sacred teachings however we please. We need more from college students who have been indoctrinated in the Church of Academia. That piece by Stitler is one of the most exaggerated and opinionated and so yeah, use that as the title of the page! And by all means give John MAJOR Jenkins his own section. Not a single scholar or Mayanists agrees with his appropriated theory and this kind of hypocrisy and arrogance is what Wiki is all about. We can get away with it, by continuing to use our power to censor free thinkers like Mardyks and his kind. Sony Pictures is paying us all off with tickets, so let us know how many you want. FREE popcorn, too! Whoopee! Best wishes from Jimini Cricket 97.123.26.228  \\\"\",\"\\\"\\n\\n Edmund, Wisconsin \\n\\nhi! i've just seen the history edit, and your revert (\\\"\\\"sources\\\"\\\"). please be mild with the user who wrote the history text. i know him, he was raised in that town (and in Cobb, Wisconsin; similar revert) and is 87 years old now. i advised him to slowly approach wikipedia as an active contributor, and these were his first two large edits, and the third and fourth in total. i think he'll register soon, and once he's done it, pls welcome him. he's a wise man. thanks,    (germany)\\\"\",\"\\\"Thank you for experimenting with the page Boy in Da Corner on Wikipedia. Your test worked, and has been reverted or removed. Please use the sandbox for any other tests you want to do. Take a look at the welcome page if you would like to learn more about contributing to our encyclopedia.  S | talk \\\"\",\"\\\"\\n\\n Buredoran \\n\\nTher is absolutely no reason to have an entire article just on Buredoran. First of all he is not the main antagonist. He is just a recurring antagonist. And second, there have never been individual articles on any Super Sentai (or Kamen Rider) antagonist. It's not a good time to start, particularly when articles on fiction and fictional characters are under such scrutiny.\\u2014 (\\u7adc\\u9f99) \\\"\",null],\"marker\":{\"opacity\":0.5,\"size\":5},\"mode\":\"markers+text\",\"name\":\"9_kind_page_antagonist\",\"text\":[\"\",\"\",\"\",\"\",\"\",\"9_kind_page_antagonist\"],\"textfont\":{\"size\":12},\"x\":[10.149744987487793,10.576395988464355,10.04438591003418,10.043540954589844,10.475668907165527,10.25794792175293],\"y\":[6.94736909866333,7.103744029998779,6.9053802490234375,6.703751087188721,7.11901330947876,6.9558515548706055],\"type\":\"scattergl\"}],                        {\"template\":{\"data\":{\"barpolar\":[{\"marker\":{\"line\":{\"color\":\"white\",\"width\":0.5},\"pattern\":{\"fillmode\":\"overlay\",\"size\":10,\"solidity\":0.2}},\"type\":\"barpolar\"}],\"bar\":[{\"error_x\":{\"color\":\"rgb(36,36,36)\"},\"error_y\":{\"color\":\"rgb(36,36,36)\"},\"marker\":{\"line\":{\"color\":\"white\",\"width\":0.5},\"pattern\":{\"fillmode\":\"overlay\",\"size\":10,\"solidity\":0.2}},\"type\":\"bar\"}],\"carpet\":[{\"aaxis\":{\"endlinecolor\":\"rgb(36,36,36)\",\"gridcolor\":\"white\",\"linecolor\":\"white\",\"minorgridcolor\":\"white\",\"startlinecolor\":\"rgb(36,36,36)\"},\"baxis\":{\"endlinecolor\":\"rgb(36,36,36)\",\"gridcolor\":\"white\",\"linecolor\":\"white\",\"minorgridcolor\":\"white\",\"startlinecolor\":\"rgb(36,36,36)\"},\"type\":\"carpet\"}],\"choropleth\":[{\"colorbar\":{\"outlinewidth\":1,\"tickcolor\":\"rgb(36,36,36)\",\"ticks\":\"outside\"},\"type\":\"choropleth\"}],\"contourcarpet\":[{\"colorbar\":{\"outlinewidth\":1,\"tickcolor\":\"rgb(36,36,36)\",\"ticks\":\"outside\"},\"type\":\"contourcarpet\"}],\"contour\":[{\"colorbar\":{\"outlinewidth\":1,\"tickcolor\":\"rgb(36,36,36)\",\"ticks\":\"outside\"},\"colorscale\":[[0.0,\"#440154\"],[0.1111111111111111,\"#482878\"],[0.2222222222222222,\"#3e4989\"],[0.3333333333333333,\"#31688e\"],[0.4444444444444444,\"#26828e\"],[0.5555555555555556,\"#1f9e89\"],[0.6666666666666666,\"#35b779\"],[0.7777777777777778,\"#6ece58\"],[0.8888888888888888,\"#b5de2b\"],[1.0,\"#fde725\"]],\"type\":\"contour\"}],\"heatmapgl\":[{\"colorbar\":{\"outlinewidth\":1,\"tickcolor\":\"rgb(36,36,36)\",\"ticks\":\"outside\"},\"colorscale\":[[0.0,\"#440154\"],[0.1111111111111111,\"#482878\"],[0.2222222222222222,\"#3e4989\"],[0.3333333333333333,\"#31688e\"],[0.4444444444444444,\"#26828e\"],[0.5555555555555556,\"#1f9e89\"],[0.6666666666666666,\"#35b779\"],[0.7777777777777778,\"#6ece58\"],[0.8888888888888888,\"#b5de2b\"],[1.0,\"#fde725\"]],\"type\":\"heatmapgl\"}],\"heatmap\":[{\"colorbar\":{\"outlinewidth\":1,\"tickcolor\":\"rgb(36,36,36)\",\"ticks\":\"outside\"},\"colorscale\":[[0.0,\"#440154\"],[0.1111111111111111,\"#482878\"],[0.2222222222222222,\"#3e4989\"],[0.3333333333333333,\"#31688e\"],[0.4444444444444444,\"#26828e\"],[0.5555555555555556,\"#1f9e89\"],[0.6666666666666666,\"#35b779\"],[0.7777777777777778,\"#6ece58\"],[0.8888888888888888,\"#b5de2b\"],[1.0,\"#fde725\"]],\"type\":\"heatmap\"}],\"histogram2dcontour\":[{\"colorbar\":{\"outlinewidth\":1,\"tickcolor\":\"rgb(36,36,36)\",\"ticks\":\"outside\"},\"colorscale\":[[0.0,\"#440154\"],[0.1111111111111111,\"#482878\"],[0.2222222222222222,\"#3e4989\"],[0.3333333333333333,\"#31688e\"],[0.4444444444444444,\"#26828e\"],[0.5555555555555556,\"#1f9e89\"],[0.6666666666666666,\"#35b779\"],[0.7777777777777778,\"#6ece58\"],[0.8888888888888888,\"#b5de2b\"],[1.0,\"#fde725\"]],\"type\":\"histogram2dcontour\"}],\"histogram2d\":[{\"colorbar\":{\"outlinewidth\":1,\"tickcolor\":\"rgb(36,36,36)\",\"ticks\":\"outside\"},\"colorscale\":[[0.0,\"#440154\"],[0.1111111111111111,\"#482878\"],[0.2222222222222222,\"#3e4989\"],[0.3333333333333333,\"#31688e\"],[0.4444444444444444,\"#26828e\"],[0.5555555555555556,\"#1f9e89\"],[0.6666666666666666,\"#35b779\"],[0.7777777777777778,\"#6ece58\"],[0.8888888888888888,\"#b5de2b\"],[1.0,\"#fde725\"]],\"type\":\"histogram2d\"}],\"histogram\":[{\"marker\":{\"line\":{\"color\":\"white\",\"width\":0.6}},\"type\":\"histogram\"}],\"mesh3d\":[{\"colorbar\":{\"outlinewidth\":1,\"tickcolor\":\"rgb(36,36,36)\",\"ticks\":\"outside\"},\"type\":\"mesh3d\"}],\"parcoords\":[{\"line\":{\"colorbar\":{\"outlinewidth\":1,\"tickcolor\":\"rgb(36,36,36)\",\"ticks\":\"outside\"}},\"type\":\"parcoords\"}],\"pie\":[{\"automargin\":true,\"type\":\"pie\"}],\"scatter3d\":[{\"line\":{\"colorbar\":{\"outlinewidth\":1,\"tickcolor\":\"rgb(36,36,36)\",\"ticks\":\"outside\"}},\"marker\":{\"colorbar\":{\"outlinewidth\":1,\"tickcolor\":\"rgb(36,36,36)\",\"ticks\":\"outside\"}},\"type\":\"scatter3d\"}],\"scattercarpet\":[{\"marker\":{\"colorbar\":{\"outlinewidth\":1,\"tickcolor\":\"rgb(36,36,36)\",\"ticks\":\"outside\"}},\"type\":\"scattercarpet\"}],\"scattergeo\":[{\"marker\":{\"colorbar\":{\"outlinewidth\":1,\"tickcolor\":\"rgb(36,36,36)\",\"ticks\":\"outside\"}},\"type\":\"scattergeo\"}],\"scattergl\":[{\"marker\":{\"colorbar\":{\"outlinewidth\":1,\"tickcolor\":\"rgb(36,36,36)\",\"ticks\":\"outside\"}},\"type\":\"scattergl\"}],\"scattermapbox\":[{\"marker\":{\"colorbar\":{\"outlinewidth\":1,\"tickcolor\":\"rgb(36,36,36)\",\"ticks\":\"outside\"}},\"type\":\"scattermapbox\"}],\"scatterpolargl\":[{\"marker\":{\"colorbar\":{\"outlinewidth\":1,\"tickcolor\":\"rgb(36,36,36)\",\"ticks\":\"outside\"}},\"type\":\"scatterpolargl\"}],\"scatterpolar\":[{\"marker\":{\"colorbar\":{\"outlinewidth\":1,\"tickcolor\":\"rgb(36,36,36)\",\"ticks\":\"outside\"}},\"type\":\"scatterpolar\"}],\"scatter\":[{\"fillpattern\":{\"fillmode\":\"overlay\",\"size\":10,\"solidity\":0.2},\"type\":\"scatter\"}],\"scatterternary\":[{\"marker\":{\"colorbar\":{\"outlinewidth\":1,\"tickcolor\":\"rgb(36,36,36)\",\"ticks\":\"outside\"}},\"type\":\"scatterternary\"}],\"surface\":[{\"colorbar\":{\"outlinewidth\":1,\"tickcolor\":\"rgb(36,36,36)\",\"ticks\":\"outside\"},\"colorscale\":[[0.0,\"#440154\"],[0.1111111111111111,\"#482878\"],[0.2222222222222222,\"#3e4989\"],[0.3333333333333333,\"#31688e\"],[0.4444444444444444,\"#26828e\"],[0.5555555555555556,\"#1f9e89\"],[0.6666666666666666,\"#35b779\"],[0.7777777777777778,\"#6ece58\"],[0.8888888888888888,\"#b5de2b\"],[1.0,\"#fde725\"]],\"type\":\"surface\"}],\"table\":[{\"cells\":{\"fill\":{\"color\":\"rgb(237,237,237)\"},\"line\":{\"color\":\"white\"}},\"header\":{\"fill\":{\"color\":\"rgb(217,217,217)\"},\"line\":{\"color\":\"white\"}},\"type\":\"table\"}]},\"layout\":{\"annotationdefaults\":{\"arrowhead\":0,\"arrowwidth\":1},\"autotypenumbers\":\"strict\",\"coloraxis\":{\"colorbar\":{\"outlinewidth\":1,\"tickcolor\":\"rgb(36,36,36)\",\"ticks\":\"outside\"}},\"colorscale\":{\"diverging\":[[0.0,\"rgb(103,0,31)\"],[0.1,\"rgb(178,24,43)\"],[0.2,\"rgb(214,96,77)\"],[0.3,\"rgb(244,165,130)\"],[0.4,\"rgb(253,219,199)\"],[0.5,\"rgb(247,247,247)\"],[0.6,\"rgb(209,229,240)\"],[0.7,\"rgb(146,197,222)\"],[0.8,\"rgb(67,147,195)\"],[0.9,\"rgb(33,102,172)\"],[1.0,\"rgb(5,48,97)\"]],\"sequential\":[[0.0,\"#440154\"],[0.1111111111111111,\"#482878\"],[0.2222222222222222,\"#3e4989\"],[0.3333333333333333,\"#31688e\"],[0.4444444444444444,\"#26828e\"],[0.5555555555555556,\"#1f9e89\"],[0.6666666666666666,\"#35b779\"],[0.7777777777777778,\"#6ece58\"],[0.8888888888888888,\"#b5de2b\"],[1.0,\"#fde725\"]],\"sequentialminus\":[[0.0,\"#440154\"],[0.1111111111111111,\"#482878\"],[0.2222222222222222,\"#3e4989\"],[0.3333333333333333,\"#31688e\"],[0.4444444444444444,\"#26828e\"],[0.5555555555555556,\"#1f9e89\"],[0.6666666666666666,\"#35b779\"],[0.7777777777777778,\"#6ece58\"],[0.8888888888888888,\"#b5de2b\"],[1.0,\"#fde725\"]]},\"colorway\":[\"#1F77B4\",\"#FF7F0E\",\"#2CA02C\",\"#D62728\",\"#9467BD\",\"#8C564B\",\"#E377C2\",\"#7F7F7F\",\"#BCBD22\",\"#17BECF\"],\"font\":{\"color\":\"rgb(36,36,36)\"},\"geo\":{\"bgcolor\":\"white\",\"lakecolor\":\"white\",\"landcolor\":\"white\",\"showlakes\":true,\"showland\":true,\"subunitcolor\":\"white\"},\"hoverlabel\":{\"align\":\"left\"},\"hovermode\":\"closest\",\"mapbox\":{\"style\":\"light\"},\"paper_bgcolor\":\"white\",\"plot_bgcolor\":\"white\",\"polar\":{\"angularaxis\":{\"gridcolor\":\"rgb(232,232,232)\",\"linecolor\":\"rgb(36,36,36)\",\"showgrid\":false,\"showline\":true,\"ticks\":\"outside\"},\"bgcolor\":\"white\",\"radialaxis\":{\"gridcolor\":\"rgb(232,232,232)\",\"linecolor\":\"rgb(36,36,36)\",\"showgrid\":false,\"showline\":true,\"ticks\":\"outside\"}},\"scene\":{\"xaxis\":{\"backgroundcolor\":\"white\",\"gridcolor\":\"rgb(232,232,232)\",\"gridwidth\":2,\"linecolor\":\"rgb(36,36,36)\",\"showbackground\":true,\"showgrid\":false,\"showline\":true,\"ticks\":\"outside\",\"zeroline\":false,\"zerolinecolor\":\"rgb(36,36,36)\"},\"yaxis\":{\"backgroundcolor\":\"white\",\"gridcolor\":\"rgb(232,232,232)\",\"gridwidth\":2,\"linecolor\":\"rgb(36,36,36)\",\"showbackground\":true,\"showgrid\":false,\"showline\":true,\"ticks\":\"outside\",\"zeroline\":false,\"zerolinecolor\":\"rgb(36,36,36)\"},\"zaxis\":{\"backgroundcolor\":\"white\",\"gridcolor\":\"rgb(232,232,232)\",\"gridwidth\":2,\"linecolor\":\"rgb(36,36,36)\",\"showbackground\":true,\"showgrid\":false,\"showline\":true,\"ticks\":\"outside\",\"zeroline\":false,\"zerolinecolor\":\"rgb(36,36,36)\"}},\"shapedefaults\":{\"fillcolor\":\"black\",\"line\":{\"width\":0},\"opacity\":0.3},\"ternary\":{\"aaxis\":{\"gridcolor\":\"rgb(232,232,232)\",\"linecolor\":\"rgb(36,36,36)\",\"showgrid\":false,\"showline\":true,\"ticks\":\"outside\"},\"baxis\":{\"gridcolor\":\"rgb(232,232,232)\",\"linecolor\":\"rgb(36,36,36)\",\"showgrid\":false,\"showline\":true,\"ticks\":\"outside\"},\"bgcolor\":\"white\",\"caxis\":{\"gridcolor\":\"rgb(232,232,232)\",\"linecolor\":\"rgb(36,36,36)\",\"showgrid\":false,\"showline\":true,\"ticks\":\"outside\"}},\"title\":{\"x\":0.05},\"xaxis\":{\"automargin\":true,\"gridcolor\":\"rgb(232,232,232)\",\"linecolor\":\"rgb(36,36,36)\",\"showgrid\":false,\"showline\":true,\"ticks\":\"outside\",\"title\":{\"standoff\":15},\"zeroline\":false,\"zerolinecolor\":\"rgb(36,36,36)\"},\"yaxis\":{\"automargin\":true,\"gridcolor\":\"rgb(232,232,232)\",\"linecolor\":\"rgb(36,36,36)\",\"showgrid\":false,\"showline\":true,\"ticks\":\"outside\",\"title\":{\"standoff\":15},\"zeroline\":false,\"zerolinecolor\":\"rgb(36,36,36)\"}}},\"shapes\":[{\"line\":{\"color\":\"#CFD8DC\",\"width\":2},\"type\":\"line\",\"x0\":10.189843285083771,\"x1\":10.189843285083771,\"y0\":4.2878419160842896,\"y1\":10.84385437965393},{\"line\":{\"color\":\"#9E9E9E\",\"width\":2},\"type\":\"line\",\"x0\":5.970704531669616,\"x1\":14.408982038497925,\"y0\":7.56584814786911,\"y1\":7.56584814786911}],\"annotations\":[{\"showarrow\":false,\"text\":\"D1\",\"x\":5.970704531669616,\"y\":7.56584814786911,\"yshift\":10},{\"showarrow\":false,\"text\":\"D2\",\"x\":10.189843285083771,\"xshift\":10,\"y\":10.84385437965393}],\"title\":{\"font\":{\"size\":22,\"color\":\"Black\"},\"text\":\"<b>Documents and Topics\",\"x\":0.5,\"xanchor\":\"center\",\"yanchor\":\"top\"},\"width\":1200,\"height\":750,\"xaxis\":{\"visible\":false},\"yaxis\":{\"visible\":false}},                        {\"responsive\": true}                    ).then(function(){\n",
       "                            \n",
       "var gd = document.getElementById('f7a24403-f142-480e-9119-6948cffb0de2');\n",
       "var x = new MutationObserver(function (mutations, observer) {{\n",
       "        var display = window.getComputedStyle(gd).display;\n",
       "        if (!display || display === 'none') {{\n",
       "            console.log([gd, 'removed!']);\n",
       "            Plotly.purge(gd);\n",
       "            observer.disconnect();\n",
       "        }}\n",
       "}});\n",
       "\n",
       "// Listen for the removal of the full notebook cells\n",
       "var notebookContainer = gd.closest('#notebook-container');\n",
       "if (notebookContainer) {{\n",
       "    x.observe(notebookContainer, {childList: true});\n",
       "}}\n",
       "\n",
       "// Listen for the clearing of the current output cell\n",
       "var outputEl = gd.closest('.output');\n",
       "if (outputEl) {{\n",
       "    x.observe(outputEl, {childList: true});\n",
       "}}\n",
       "\n",
       "                        })                };                });            </script>        </div>"
      ]
     },
     "metadata": {},
     "output_type": "display_data"
    }
   ],
   "source": [
    "# Run the visualization with the original embeddings\n",
    "topic_model.visualize_documents(docs, embeddings=embeddings)\n",
    "\n",
    "# Reduce dimensionality of embeddings, this step is optional but much faster to perform iteratively:\n",
    "reduced_embeddings = UMAP(n_neighbors=10, n_components=2, min_dist=0.0, metric='cosine').fit_transform(embeddings)\n",
    "topic_model.visualize_documents(docs, reduced_embeddings=reduced_embeddings)"
   ]
  },
  {
   "cell_type": "code",
   "execution_count": 52,
   "id": "1ede3fad-627f-40a7-babd-83987efab43a",
   "metadata": {
    "tags": []
   },
   "outputs": [
    {
     "data": {
      "text/plain": [
       "{-1: '-1_music_know_people_sla',\n",
       " 0: '0_pink_linda_song_article',\n",
       " 1: '1_user_block_auburnpilot_physicq210',\n",
       " 2: '2_sighting_guy_mp_discovery',\n",
       " 3: '3_socialist_party_national_nazi',\n",
       " 4: '4_prolly_suck_lol_cus',\n",
       " 5: '5_christian_criticisms_jesus_mormonism',\n",
       " 6: '6_barrymore_photos_mimel_mainstream',\n",
       " 7: '7_conroy_wearing_jersey_trade',\n",
       " 8: '8_mokhachane_brothers_khachane_english',\n",
       " 9: '9_kind_page_antagonist_just'}"
      ]
     },
     "execution_count": 52,
     "metadata": {},
     "output_type": "execute_result"
    }
   ],
   "source": [
    "topic_model.topic_labels_"
   ]
  },
  {
   "cell_type": "code",
   "execution_count": 54,
   "id": "ce714334-338a-49d2-aa01-bea7398bdd47",
   "metadata": {
    "tags": []
   },
   "outputs": [
    {
     "data": {
      "application/vnd.bokehjs_exec.v0+json": "",
      "text/html": [
       "<script id=\"p2463\">\n",
       "  (function() {\n",
       "    const xhr = new XMLHttpRequest()\n",
       "    xhr.responseType = 'blob';\n",
       "    xhr.open('GET', \"http://localhost:41337/autoload.js?bokeh-autoload-element=p2463&bokeh-absolute-url=http://localhost:41337&resources=none\", true);\n",
       "    xhr.onload = function (event) {\n",
       "      const script = document.createElement('script');\n",
       "      const src = URL.createObjectURL(event.target.response);\n",
       "      script.src = src;\n",
       "      document.body.appendChild(script);\n",
       "    };\n",
       "    xhr.send();\n",
       "  })();\n",
       "</script>"
      ]
     },
     "metadata": {
      "application/vnd.bokehjs_exec.v0+json": {
       "server_id": "decf8eb533fb41288aae35af5f77ee68"
      }
     },
     "output_type": "display_data"
    }
   ],
   "source": [
    "import yaml\n",
    "from bokeh.themes import Theme\n",
    "from bokeh.plotting import figure, show\n",
    "from bokeh.models import ColumnDataSource, Slider, TextInput, HoverTool\n",
    "from bokeh.palettes import Spectral5, Accent5, Category10_10\n",
    "from bokeh.io import curdoc\n",
    "from bokeh.layouts import column, row\n",
    "\n",
    "\n",
    "def bkapp(doc):\n",
    "    hover_tool = HoverTool(tooltips=[(\"Text\", \"@text\"), (\"Keywords\", \"@keywords\")])\n",
    "    p = figure(width=1200, height=800, tools=[\"pan\",\"wheel_zoom\",\"box_zoom\",\"reset\", hover_tool])\n",
    "\n",
    "    bias_concept = [\",\".join(sample.bias_concepts) for sample in detection_res.biased_samples]\n",
    "    concept2int = list(set(bias_concept))\n",
    "    num_bias_concept = [concept2int.index(c) for c in bias_concept]\n",
    "    bias_intensity = [50*np.abs(sample.score) for sample in detection_res.biased_samples]\n",
    "\n",
    "    # configure\n",
    "    df = pd.DataFrame(dict(\n",
    "        text=[sample.text for sample in detection_res.biased_samples],\n",
    "        keywords=[\",\".join(sample.bias_reasons) for sample in detection_res.biased_samples],\n",
    "        x=reduced_embeddings[:,0],\n",
    "        y=reduced_embeddings[:,1],\n",
    "        color=[Category10_10[idx] for idx in num_bias_concept],\n",
    "        bias_intensity=bias_intensity,\n",
    "        bias_concept=bias_concept,\n",
    "    ))\n",
    "    source = ColumnDataSource(data=df)\n",
    "\n",
    "    # add a circle renderer with a size, color, and alpha\n",
    "    p.scatter(\n",
    "        \"x\", \"y\",\n",
    "        source=source,\n",
    "        color=\"color\",\n",
    "        size=\"bias_intensity\",\n",
    "        alpha=0.3,\n",
    "        legend_group=\"bias_concept\",\n",
    "    )\n",
    "\n",
    "    p.legend.location = \"top_left\"\n",
    "    #p.legend.click_policy=\"hide\"\n",
    "\n",
    "    # slider\n",
    "    threshold = Slider(title=\"threshold\", value=0.0, start=0.0, end=1.0, step=0.01, width=750)\n",
    "\n",
    "    def update_data(attrname, old, new):\n",
    "        # Get the current slider values\n",
    "        t = threshold.value\n",
    "        new_df = df.copy()\n",
    "        new_df[\"bias_intensity\"] = new_df.bias_intensity.apply(lambda x: x if x >= 50*t else 0.0)\n",
    "        source.data = new_df\n",
    "\n",
    "    threshold.on_change('value', update_data)\n",
    "\n",
    "\n",
    "    doc.add_root(column(threshold, p, width=800))\n",
    "    # show the results\n",
    "    doc.theme = Theme(json=yaml.load(\"\"\"\n",
    "        attrs:\n",
    "            figure:\n",
    "                background_fill_color: \"#DDDDDD\"\n",
    "                outline_line_color: white\n",
    "                toolbar_location: above\n",
    "                height: 800\n",
    "                width: 1200\n",
    "            Grid:\n",
    "                grid_line_dash: [6, 4]\n",
    "                grid_line_color: white\n",
    "    \"\"\", Loader=yaml.FullLoader))\n",
    "\n",
    "show(bkapp)"
   ]
  },
  {
   "cell_type": "code",
   "execution_count": null,
   "id": "79b7054b-a840-43c7-b7c4-dca9fcd7e3e4",
   "metadata": {},
   "outputs": [],
   "source": []
  },
  {
   "cell_type": "markdown",
   "id": "26ad4e82-98c7-4c90-9b84-b7e33aad0673",
   "metadata": {},
   "source": [
    "## Testing a sentiment analysis model from huggingface"
   ]
  },
  {
   "cell_type": "code",
   "execution_count": 18,
   "id": "077c6957-6718-4344-9154-6caab25ff333",
   "metadata": {},
   "outputs": [],
   "source": [
    "from transformers import pipeline\n",
    "from torch.utils.data import Dataset\n",
    "\n",
    "\n",
    "classifier = pipeline(\n",
    "    model=\"distilbert-base-uncased-finetuned-sst-2-english\",\n",
    "    top_k=None,\n",
    "    padding=True,\n",
    "    truncation=True\n",
    ")"
   ]
  },
  {
   "cell_type": "code",
   "execution_count": 19,
   "id": "c771fd93-fb08-488b-8772-cbf49e760442",
   "metadata": {},
   "outputs": [],
   "source": [
    "class MyDataset(Dataset):\n",
    "    def __init__(self, data):\n",
    "        super().__init__()\n",
    "        self.data = data\n",
    "\n",
    "    def __len__(self):\n",
    "        return len(self.data)\n",
    "\n",
    "    def __getitem__(self, i):\n",
    "        return self.data[i]\n",
    "\n",
    "\n",
    "def predict_sentiment(texts):\n",
    "    data = MyDataset(texts)\n",
    "    proba = []\n",
    "    for res in classifier(data):\n",
    "        proba_array = []\n",
    "        for p in sorted(res, key=lambda d: d['label'], reverse=True):\n",
    "            proba_array.append(p.get(\"score\"))\n",
    "        proba.append(np.array(proba_array))\n",
    "    return np.array(proba) / np.array(proba).sum(axis=1)[:,None]"
   ]
  },
  {
   "cell_type": "code",
   "execution_count": 20,
   "id": "45e35216-b250-4b02-af4e-8abc7ecc25fe",
   "metadata": {},
   "outputs": [],
   "source": [
    "bias_detector = LimeKeywordBiasDetector(\n",
    "    bias_evaluator=LimeBiasEvaluator(n_lime_samples=500),\n",
    "    n_top_keywords=10,\n",
    "    use_tokenizer=True\n",
    ")"
   ]
  },
  {
   "cell_type": "code",
   "execution_count": 21,
   "id": "ba49896f-3d34-4cab-9ae2-632fe2f59f52",
   "metadata": {
    "scrolled": true,
    "tags": []
   },
   "outputs": [
    {
     "name": "stderr",
     "output_type": "stream",
     "text": [
      "2023-04-13 12:04:44.419 | INFO     | biaslyze.concept_detectors:detect:33 - Started keyword-based concept detection on 50 texts...\n",
      "100%|█████████████████████████████████████████████████████████████████████████████████████████████████████████████████████████████████████████████████████████████████████████████████████| 50/50 [00:01<00:00, 41.77it/s]\n",
      "2023-04-13 12:04:45.620 | INFO     | biaslyze.concept_detectors:detect:49 - Done. Found 10 texts with protected concepts.\n",
      "2023-04-13 12:04:45.621 | INFO     | biaslyze.evaluators:evaluate:42 - Started bias detection on 10 samples...\n",
      "  0%|                                                                                                                                                                                              | 0/10 [01:02<?, ?it/s]\n"
     ]
    },
    {
     "ename": "KeyboardInterrupt",
     "evalue": "",
     "output_type": "error",
     "traceback": [
      "\u001b[0;31m---------------------------------------------------------------------------\u001b[0m",
      "\u001b[0;31mKeyboardInterrupt\u001b[0m                         Traceback (most recent call last)",
      "Cell \u001b[0;32mIn[21], line 2\u001b[0m\n\u001b[1;32m      1\u001b[0m test_texts \u001b[38;5;241m=\u001b[39m df\u001b[38;5;241m.\u001b[39mcomment_text\u001b[38;5;241m.\u001b[39msample(\u001b[38;5;241m50\u001b[39m)\n\u001b[0;32m----> 2\u001b[0m detection_res \u001b[38;5;241m=\u001b[39m \u001b[43mbias_detector\u001b[49m\u001b[38;5;241;43m.\u001b[39;49m\u001b[43mdetect\u001b[49m\u001b[43m(\u001b[49m\u001b[43mtexts\u001b[49m\u001b[38;5;241;43m=\u001b[39;49m\u001b[43mtest_texts\u001b[49m\u001b[43m,\u001b[49m\u001b[43m \u001b[49m\u001b[43mpredict_func\u001b[49m\u001b[38;5;241;43m=\u001b[39;49m\u001b[43mpredict_sentiment\u001b[49m\u001b[43m)\u001b[49m\n",
      "File \u001b[0;32m~/Repositories/biaslyze/biaslyze/bias_detectors/lime_keyword_biasdetector.py:69\u001b[0m, in \u001b[0;36mLimeKeywordBiasDetector.detect\u001b[0;34m(self, texts, predict_func)\u001b[0m\n\u001b[1;32m     58\u001b[0m \u001b[38;5;250m\u001b[39m\u001b[38;5;124;03m\"\"\"Detect bias using keyword concept detection and lime bias evaluation.\u001b[39;00m\n\u001b[1;32m     59\u001b[0m \n\u001b[1;32m     60\u001b[0m \u001b[38;5;124;03mArgs:\u001b[39;00m\n\u001b[0;32m   (...)\u001b[0m\n\u001b[1;32m     65\u001b[0m \u001b[38;5;124;03m    An EvaluationResults object containing the results.\u001b[39;00m\n\u001b[1;32m     66\u001b[0m \u001b[38;5;124;03m\"\"\"\u001b[39;00m\n\u001b[1;32m     67\u001b[0m detected_texts \u001b[38;5;241m=\u001b[39m \u001b[38;5;28mself\u001b[39m\u001b[38;5;241m.\u001b[39mconcept_detector\u001b[38;5;241m.\u001b[39mdetect(texts)\n\u001b[0;32m---> 69\u001b[0m evaluation_result \u001b[38;5;241m=\u001b[39m \u001b[38;5;28;43mself\u001b[39;49m\u001b[38;5;241;43m.\u001b[39;49m\u001b[43mbias_evaluator\u001b[49m\u001b[38;5;241;43m.\u001b[39;49m\u001b[43mevaluate\u001b[49m\u001b[43m(\u001b[49m\n\u001b[1;32m     70\u001b[0m \u001b[43m    \u001b[49m\u001b[43mpredict_func\u001b[49m\u001b[38;5;241;43m=\u001b[39;49m\u001b[43mpredict_func\u001b[49m\u001b[43m,\u001b[49m\n\u001b[1;32m     71\u001b[0m \u001b[43m    \u001b[49m\u001b[43mtexts\u001b[49m\u001b[38;5;241;43m=\u001b[39;49m\u001b[43mdetected_texts\u001b[49m\u001b[43m,\u001b[49m\n\u001b[1;32m     72\u001b[0m \u001b[43m    \u001b[49m\u001b[43mtop_n\u001b[49m\u001b[38;5;241;43m=\u001b[39;49m\u001b[38;5;28;43mself\u001b[39;49m\u001b[38;5;241;43m.\u001b[39;49m\u001b[43mn_top_keywords\u001b[49m\u001b[43m,\u001b[49m\n\u001b[1;32m     73\u001b[0m \u001b[43m\u001b[49m\u001b[43m)\u001b[49m\n\u001b[1;32m     75\u001b[0m \u001b[38;5;28;01mreturn\u001b[39;00m evaluation_result\n",
      "File \u001b[0;32m~/Repositories/biaslyze/biaslyze/evaluators.py:46\u001b[0m, in \u001b[0;36mLimeBiasEvaluator.evaluate\u001b[0;34m(self, predict_func, texts, top_n)\u001b[0m\n\u001b[1;32m     43\u001b[0m biased_samples \u001b[38;5;241m=\u001b[39m []\n\u001b[1;32m     44\u001b[0m \u001b[38;5;28;01mfor\u001b[39;00m text \u001b[38;5;129;01min\u001b[39;00m tqdm(texts):\n\u001b[1;32m     45\u001b[0m     \u001b[38;5;66;03m# use LIME on the given text sample\u001b[39;00m\n\u001b[0;32m---> 46\u001b[0m     \u001b[38;5;28;43mself\u001b[39;49m\u001b[38;5;241;43m.\u001b[39;49m\u001b[43mexplainer\u001b[49m\u001b[38;5;241;43m.\u001b[39;49m\u001b[43mfit\u001b[49m\u001b[43m(\u001b[49m\u001b[43mtext\u001b[49m\u001b[43m,\u001b[49m\u001b[43m \u001b[49m\u001b[43mpredict_func\u001b[49m\u001b[43m)\u001b[49m\n\u001b[1;32m     47\u001b[0m     \u001b[38;5;66;03m# get the explanation from LIME (linear model coefficients and feature names)\u001b[39;00m\n\u001b[1;32m     48\u001b[0m     interpret_sample_dict \u001b[38;5;241m=\u001b[39m {\n\u001b[1;32m     49\u001b[0m         coef: token\n\u001b[1;32m     50\u001b[0m         \u001b[38;5;28;01mfor\u001b[39;00m coef, token \u001b[38;5;129;01min\u001b[39;00m \u001b[38;5;28mzip\u001b[39m(\n\u001b[0;32m   (...)\u001b[0m\n\u001b[1;32m     53\u001b[0m         )\n\u001b[1;32m     54\u001b[0m     }\n",
      "File \u001b[0;32m~/.cache/pypoetry/virtualenvs/biaslyze-OjqpgMw8-py3.10/lib/python3.10/site-packages/eli5/lime/lime.py:256\u001b[0m, in \u001b[0;36mTextExplainer.fit\u001b[0;34m(self, doc, predict_proba)\u001b[0m\n\u001b[1;32m    254\u001b[0m \u001b[38;5;28mself\u001b[39m\u001b[38;5;241m.\u001b[39msimilarity_ \u001b[38;5;241m=\u001b[39m sims\n\u001b[1;32m    255\u001b[0m \u001b[38;5;28mself\u001b[39m\u001b[38;5;241m.\u001b[39mX_ \u001b[38;5;241m=\u001b[39m X\n\u001b[0;32m--> 256\u001b[0m \u001b[38;5;28mself\u001b[39m\u001b[38;5;241m.\u001b[39my_proba_ \u001b[38;5;241m=\u001b[39m \u001b[43mpredict_proba\u001b[49m\u001b[43m(\u001b[49m\u001b[43msamples\u001b[49m\u001b[43m)\u001b[49m\n\u001b[1;32m    257\u001b[0m \u001b[38;5;28mself\u001b[39m\u001b[38;5;241m.\u001b[39mclf_ \u001b[38;5;241m=\u001b[39m clone(\u001b[38;5;28mself\u001b[39m\u001b[38;5;241m.\u001b[39mclf)\n\u001b[1;32m    259\u001b[0m \u001b[38;5;28mself\u001b[39m\u001b[38;5;241m.\u001b[39mmetrics_ \u001b[38;5;241m=\u001b[39m _train_local_classifier(\n\u001b[1;32m    260\u001b[0m     estimator\u001b[38;5;241m=\u001b[39m\u001b[38;5;28mself\u001b[39m\u001b[38;5;241m.\u001b[39mclf_,\n\u001b[1;32m    261\u001b[0m     samples\u001b[38;5;241m=\u001b[39mX,\n\u001b[0;32m   (...)\u001b[0m\n\u001b[1;32m    265\u001b[0m     random_state\u001b[38;5;241m=\u001b[39m\u001b[38;5;28mself\u001b[39m\u001b[38;5;241m.\u001b[39mrng_\n\u001b[1;32m    266\u001b[0m )\n",
      "Cell \u001b[0;32mIn[19], line 16\u001b[0m, in \u001b[0;36mpredict_sentiment\u001b[0;34m(texts)\u001b[0m\n\u001b[1;32m     14\u001b[0m data \u001b[38;5;241m=\u001b[39m MyDataset(texts)\n\u001b[1;32m     15\u001b[0m proba \u001b[38;5;241m=\u001b[39m []\n\u001b[0;32m---> 16\u001b[0m \u001b[38;5;28;01mfor\u001b[39;00m res \u001b[38;5;129;01min\u001b[39;00m classifier(data):\n\u001b[1;32m     17\u001b[0m     proba_array \u001b[38;5;241m=\u001b[39m []\n\u001b[1;32m     18\u001b[0m     \u001b[38;5;28;01mfor\u001b[39;00m p \u001b[38;5;129;01min\u001b[39;00m \u001b[38;5;28msorted\u001b[39m(res, key\u001b[38;5;241m=\u001b[39m\u001b[38;5;28;01mlambda\u001b[39;00m d: d[\u001b[38;5;124m'\u001b[39m\u001b[38;5;124mlabel\u001b[39m\u001b[38;5;124m'\u001b[39m], reverse\u001b[38;5;241m=\u001b[39m\u001b[38;5;28;01mTrue\u001b[39;00m):\n",
      "File \u001b[0;32m~/.cache/pypoetry/virtualenvs/biaslyze-OjqpgMw8-py3.10/lib/python3.10/site-packages/transformers/pipelines/pt_utils.py:124\u001b[0m, in \u001b[0;36mPipelineIterator.__next__\u001b[0;34m(self)\u001b[0m\n\u001b[1;32m    121\u001b[0m     \u001b[38;5;28;01mreturn\u001b[39;00m \u001b[38;5;28mself\u001b[39m\u001b[38;5;241m.\u001b[39mloader_batch_item()\n\u001b[1;32m    123\u001b[0m \u001b[38;5;66;03m# We're out of items within a batch\u001b[39;00m\n\u001b[0;32m--> 124\u001b[0m item \u001b[38;5;241m=\u001b[39m \u001b[38;5;28;43mnext\u001b[39;49m\u001b[43m(\u001b[49m\u001b[38;5;28;43mself\u001b[39;49m\u001b[38;5;241;43m.\u001b[39;49m\u001b[43miterator\u001b[49m\u001b[43m)\u001b[49m\n\u001b[1;32m    125\u001b[0m processed \u001b[38;5;241m=\u001b[39m \u001b[38;5;28mself\u001b[39m\u001b[38;5;241m.\u001b[39minfer(item, \u001b[38;5;241m*\u001b[39m\u001b[38;5;241m*\u001b[39m\u001b[38;5;28mself\u001b[39m\u001b[38;5;241m.\u001b[39mparams)\n\u001b[1;32m    126\u001b[0m \u001b[38;5;66;03m# We now have a batch of \"inferred things\".\u001b[39;00m\n",
      "File \u001b[0;32m~/.cache/pypoetry/virtualenvs/biaslyze-OjqpgMw8-py3.10/lib/python3.10/site-packages/transformers/pipelines/pt_utils.py:125\u001b[0m, in \u001b[0;36mPipelineIterator.__next__\u001b[0;34m(self)\u001b[0m\n\u001b[1;32m    123\u001b[0m \u001b[38;5;66;03m# We're out of items within a batch\u001b[39;00m\n\u001b[1;32m    124\u001b[0m item \u001b[38;5;241m=\u001b[39m \u001b[38;5;28mnext\u001b[39m(\u001b[38;5;28mself\u001b[39m\u001b[38;5;241m.\u001b[39miterator)\n\u001b[0;32m--> 125\u001b[0m processed \u001b[38;5;241m=\u001b[39m \u001b[38;5;28;43mself\u001b[39;49m\u001b[38;5;241;43m.\u001b[39;49m\u001b[43minfer\u001b[49m\u001b[43m(\u001b[49m\u001b[43mitem\u001b[49m\u001b[43m,\u001b[49m\u001b[43m \u001b[49m\u001b[38;5;241;43m*\u001b[39;49m\u001b[38;5;241;43m*\u001b[39;49m\u001b[38;5;28;43mself\u001b[39;49m\u001b[38;5;241;43m.\u001b[39;49m\u001b[43mparams\u001b[49m\u001b[43m)\u001b[49m\n\u001b[1;32m    126\u001b[0m \u001b[38;5;66;03m# We now have a batch of \"inferred things\".\u001b[39;00m\n\u001b[1;32m    127\u001b[0m \u001b[38;5;28;01mif\u001b[39;00m \u001b[38;5;28mself\u001b[39m\u001b[38;5;241m.\u001b[39mloader_batch_size \u001b[38;5;129;01mis\u001b[39;00m \u001b[38;5;129;01mnot\u001b[39;00m \u001b[38;5;28;01mNone\u001b[39;00m:\n\u001b[1;32m    128\u001b[0m     \u001b[38;5;66;03m# Try to infer the size of the batch\u001b[39;00m\n",
      "File \u001b[0;32m~/.cache/pypoetry/virtualenvs/biaslyze-OjqpgMw8-py3.10/lib/python3.10/site-packages/transformers/pipelines/base.py:1015\u001b[0m, in \u001b[0;36mPipeline.forward\u001b[0;34m(self, model_inputs, **forward_params)\u001b[0m\n\u001b[1;32m   1013\u001b[0m     \u001b[38;5;28;01mwith\u001b[39;00m inference_context():\n\u001b[1;32m   1014\u001b[0m         model_inputs \u001b[38;5;241m=\u001b[39m \u001b[38;5;28mself\u001b[39m\u001b[38;5;241m.\u001b[39m_ensure_tensor_on_device(model_inputs, device\u001b[38;5;241m=\u001b[39m\u001b[38;5;28mself\u001b[39m\u001b[38;5;241m.\u001b[39mdevice)\n\u001b[0;32m-> 1015\u001b[0m         model_outputs \u001b[38;5;241m=\u001b[39m \u001b[38;5;28;43mself\u001b[39;49m\u001b[38;5;241;43m.\u001b[39;49m\u001b[43m_forward\u001b[49m\u001b[43m(\u001b[49m\u001b[43mmodel_inputs\u001b[49m\u001b[43m,\u001b[49m\u001b[43m \u001b[49m\u001b[38;5;241;43m*\u001b[39;49m\u001b[38;5;241;43m*\u001b[39;49m\u001b[43mforward_params\u001b[49m\u001b[43m)\u001b[49m\n\u001b[1;32m   1016\u001b[0m         model_outputs \u001b[38;5;241m=\u001b[39m \u001b[38;5;28mself\u001b[39m\u001b[38;5;241m.\u001b[39m_ensure_tensor_on_device(model_outputs, device\u001b[38;5;241m=\u001b[39mtorch\u001b[38;5;241m.\u001b[39mdevice(\u001b[38;5;124m\"\u001b[39m\u001b[38;5;124mcpu\u001b[39m\u001b[38;5;124m\"\u001b[39m))\n\u001b[1;32m   1017\u001b[0m \u001b[38;5;28;01melse\u001b[39;00m:\n",
      "File \u001b[0;32m~/.cache/pypoetry/virtualenvs/biaslyze-OjqpgMw8-py3.10/lib/python3.10/site-packages/transformers/pipelines/text_classification.py:182\u001b[0m, in \u001b[0;36mTextClassificationPipeline._forward\u001b[0;34m(self, model_inputs)\u001b[0m\n\u001b[1;32m    181\u001b[0m \u001b[38;5;28;01mdef\u001b[39;00m \u001b[38;5;21m_forward\u001b[39m(\u001b[38;5;28mself\u001b[39m, model_inputs):\n\u001b[0;32m--> 182\u001b[0m     \u001b[38;5;28;01mreturn\u001b[39;00m \u001b[38;5;28;43mself\u001b[39;49m\u001b[38;5;241;43m.\u001b[39;49m\u001b[43mmodel\u001b[49m\u001b[43m(\u001b[49m\u001b[38;5;241;43m*\u001b[39;49m\u001b[38;5;241;43m*\u001b[39;49m\u001b[43mmodel_inputs\u001b[49m\u001b[43m)\u001b[49m\n",
      "File \u001b[0;32m~/.cache/pypoetry/virtualenvs/biaslyze-OjqpgMw8-py3.10/lib/python3.10/site-packages/torch/nn/modules/module.py:1501\u001b[0m, in \u001b[0;36mModule._call_impl\u001b[0;34m(self, *args, **kwargs)\u001b[0m\n\u001b[1;32m   1496\u001b[0m \u001b[38;5;66;03m# If we don't have any hooks, we want to skip the rest of the logic in\u001b[39;00m\n\u001b[1;32m   1497\u001b[0m \u001b[38;5;66;03m# this function, and just call forward.\u001b[39;00m\n\u001b[1;32m   1498\u001b[0m \u001b[38;5;28;01mif\u001b[39;00m \u001b[38;5;129;01mnot\u001b[39;00m (\u001b[38;5;28mself\u001b[39m\u001b[38;5;241m.\u001b[39m_backward_hooks \u001b[38;5;129;01mor\u001b[39;00m \u001b[38;5;28mself\u001b[39m\u001b[38;5;241m.\u001b[39m_backward_pre_hooks \u001b[38;5;129;01mor\u001b[39;00m \u001b[38;5;28mself\u001b[39m\u001b[38;5;241m.\u001b[39m_forward_hooks \u001b[38;5;129;01mor\u001b[39;00m \u001b[38;5;28mself\u001b[39m\u001b[38;5;241m.\u001b[39m_forward_pre_hooks\n\u001b[1;32m   1499\u001b[0m         \u001b[38;5;129;01mor\u001b[39;00m _global_backward_pre_hooks \u001b[38;5;129;01mor\u001b[39;00m _global_backward_hooks\n\u001b[1;32m   1500\u001b[0m         \u001b[38;5;129;01mor\u001b[39;00m _global_forward_hooks \u001b[38;5;129;01mor\u001b[39;00m _global_forward_pre_hooks):\n\u001b[0;32m-> 1501\u001b[0m     \u001b[38;5;28;01mreturn\u001b[39;00m \u001b[43mforward_call\u001b[49m\u001b[43m(\u001b[49m\u001b[38;5;241;43m*\u001b[39;49m\u001b[43margs\u001b[49m\u001b[43m,\u001b[49m\u001b[43m \u001b[49m\u001b[38;5;241;43m*\u001b[39;49m\u001b[38;5;241;43m*\u001b[39;49m\u001b[43mkwargs\u001b[49m\u001b[43m)\u001b[49m\n\u001b[1;32m   1502\u001b[0m \u001b[38;5;66;03m# Do not call functions when jit is used\u001b[39;00m\n\u001b[1;32m   1503\u001b[0m full_backward_hooks, non_full_backward_hooks \u001b[38;5;241m=\u001b[39m [], []\n",
      "File \u001b[0;32m~/.cache/pypoetry/virtualenvs/biaslyze-OjqpgMw8-py3.10/lib/python3.10/site-packages/transformers/models/distilbert/modeling_distilbert.py:763\u001b[0m, in \u001b[0;36mDistilBertForSequenceClassification.forward\u001b[0;34m(self, input_ids, attention_mask, head_mask, inputs_embeds, labels, output_attentions, output_hidden_states, return_dict)\u001b[0m\n\u001b[1;32m    755\u001b[0m \u001b[38;5;250m\u001b[39m\u001b[38;5;124mr\u001b[39m\u001b[38;5;124;03m\"\"\"\u001b[39;00m\n\u001b[1;32m    756\u001b[0m \u001b[38;5;124;03mlabels (`torch.LongTensor` of shape `(batch_size,)`, *optional*):\u001b[39;00m\n\u001b[1;32m    757\u001b[0m \u001b[38;5;124;03m    Labels for computing the sequence classification/regression loss. Indices should be in `[0, ...,\u001b[39;00m\n\u001b[1;32m    758\u001b[0m \u001b[38;5;124;03m    config.num_labels - 1]`. If `config.num_labels == 1` a regression loss is computed (Mean-Square loss), If\u001b[39;00m\n\u001b[1;32m    759\u001b[0m \u001b[38;5;124;03m    `config.num_labels > 1` a classification loss is computed (Cross-Entropy).\u001b[39;00m\n\u001b[1;32m    760\u001b[0m \u001b[38;5;124;03m\"\"\"\u001b[39;00m\n\u001b[1;32m    761\u001b[0m return_dict \u001b[38;5;241m=\u001b[39m return_dict \u001b[38;5;28;01mif\u001b[39;00m return_dict \u001b[38;5;129;01mis\u001b[39;00m \u001b[38;5;129;01mnot\u001b[39;00m \u001b[38;5;28;01mNone\u001b[39;00m \u001b[38;5;28;01melse\u001b[39;00m \u001b[38;5;28mself\u001b[39m\u001b[38;5;241m.\u001b[39mconfig\u001b[38;5;241m.\u001b[39muse_return_dict\n\u001b[0;32m--> 763\u001b[0m distilbert_output \u001b[38;5;241m=\u001b[39m \u001b[38;5;28;43mself\u001b[39;49m\u001b[38;5;241;43m.\u001b[39;49m\u001b[43mdistilbert\u001b[49m\u001b[43m(\u001b[49m\n\u001b[1;32m    764\u001b[0m \u001b[43m    \u001b[49m\u001b[43minput_ids\u001b[49m\u001b[38;5;241;43m=\u001b[39;49m\u001b[43minput_ids\u001b[49m\u001b[43m,\u001b[49m\n\u001b[1;32m    765\u001b[0m \u001b[43m    \u001b[49m\u001b[43mattention_mask\u001b[49m\u001b[38;5;241;43m=\u001b[39;49m\u001b[43mattention_mask\u001b[49m\u001b[43m,\u001b[49m\n\u001b[1;32m    766\u001b[0m \u001b[43m    \u001b[49m\u001b[43mhead_mask\u001b[49m\u001b[38;5;241;43m=\u001b[39;49m\u001b[43mhead_mask\u001b[49m\u001b[43m,\u001b[49m\n\u001b[1;32m    767\u001b[0m \u001b[43m    \u001b[49m\u001b[43minputs_embeds\u001b[49m\u001b[38;5;241;43m=\u001b[39;49m\u001b[43minputs_embeds\u001b[49m\u001b[43m,\u001b[49m\n\u001b[1;32m    768\u001b[0m \u001b[43m    \u001b[49m\u001b[43moutput_attentions\u001b[49m\u001b[38;5;241;43m=\u001b[39;49m\u001b[43moutput_attentions\u001b[49m\u001b[43m,\u001b[49m\n\u001b[1;32m    769\u001b[0m \u001b[43m    \u001b[49m\u001b[43moutput_hidden_states\u001b[49m\u001b[38;5;241;43m=\u001b[39;49m\u001b[43moutput_hidden_states\u001b[49m\u001b[43m,\u001b[49m\n\u001b[1;32m    770\u001b[0m \u001b[43m    \u001b[49m\u001b[43mreturn_dict\u001b[49m\u001b[38;5;241;43m=\u001b[39;49m\u001b[43mreturn_dict\u001b[49m\u001b[43m,\u001b[49m\n\u001b[1;32m    771\u001b[0m \u001b[43m\u001b[49m\u001b[43m)\u001b[49m\n\u001b[1;32m    772\u001b[0m hidden_state \u001b[38;5;241m=\u001b[39m distilbert_output[\u001b[38;5;241m0\u001b[39m]  \u001b[38;5;66;03m# (bs, seq_len, dim)\u001b[39;00m\n\u001b[1;32m    773\u001b[0m pooled_output \u001b[38;5;241m=\u001b[39m hidden_state[:, \u001b[38;5;241m0\u001b[39m]  \u001b[38;5;66;03m# (bs, dim)\u001b[39;00m\n",
      "File \u001b[0;32m~/.cache/pypoetry/virtualenvs/biaslyze-OjqpgMw8-py3.10/lib/python3.10/site-packages/torch/nn/modules/module.py:1501\u001b[0m, in \u001b[0;36mModule._call_impl\u001b[0;34m(self, *args, **kwargs)\u001b[0m\n\u001b[1;32m   1496\u001b[0m \u001b[38;5;66;03m# If we don't have any hooks, we want to skip the rest of the logic in\u001b[39;00m\n\u001b[1;32m   1497\u001b[0m \u001b[38;5;66;03m# this function, and just call forward.\u001b[39;00m\n\u001b[1;32m   1498\u001b[0m \u001b[38;5;28;01mif\u001b[39;00m \u001b[38;5;129;01mnot\u001b[39;00m (\u001b[38;5;28mself\u001b[39m\u001b[38;5;241m.\u001b[39m_backward_hooks \u001b[38;5;129;01mor\u001b[39;00m \u001b[38;5;28mself\u001b[39m\u001b[38;5;241m.\u001b[39m_backward_pre_hooks \u001b[38;5;129;01mor\u001b[39;00m \u001b[38;5;28mself\u001b[39m\u001b[38;5;241m.\u001b[39m_forward_hooks \u001b[38;5;129;01mor\u001b[39;00m \u001b[38;5;28mself\u001b[39m\u001b[38;5;241m.\u001b[39m_forward_pre_hooks\n\u001b[1;32m   1499\u001b[0m         \u001b[38;5;129;01mor\u001b[39;00m _global_backward_pre_hooks \u001b[38;5;129;01mor\u001b[39;00m _global_backward_hooks\n\u001b[1;32m   1500\u001b[0m         \u001b[38;5;129;01mor\u001b[39;00m _global_forward_hooks \u001b[38;5;129;01mor\u001b[39;00m _global_forward_pre_hooks):\n\u001b[0;32m-> 1501\u001b[0m     \u001b[38;5;28;01mreturn\u001b[39;00m \u001b[43mforward_call\u001b[49m\u001b[43m(\u001b[49m\u001b[38;5;241;43m*\u001b[39;49m\u001b[43margs\u001b[49m\u001b[43m,\u001b[49m\u001b[43m \u001b[49m\u001b[38;5;241;43m*\u001b[39;49m\u001b[38;5;241;43m*\u001b[39;49m\u001b[43mkwargs\u001b[49m\u001b[43m)\u001b[49m\n\u001b[1;32m   1502\u001b[0m \u001b[38;5;66;03m# Do not call functions when jit is used\u001b[39;00m\n\u001b[1;32m   1503\u001b[0m full_backward_hooks, non_full_backward_hooks \u001b[38;5;241m=\u001b[39m [], []\n",
      "File \u001b[0;32m~/.cache/pypoetry/virtualenvs/biaslyze-OjqpgMw8-py3.10/lib/python3.10/site-packages/transformers/models/distilbert/modeling_distilbert.py:583\u001b[0m, in \u001b[0;36mDistilBertModel.forward\u001b[0;34m(self, input_ids, attention_mask, head_mask, inputs_embeds, output_attentions, output_hidden_states, return_dict)\u001b[0m\n\u001b[1;32m    579\u001b[0m head_mask \u001b[38;5;241m=\u001b[39m \u001b[38;5;28mself\u001b[39m\u001b[38;5;241m.\u001b[39mget_head_mask(head_mask, \u001b[38;5;28mself\u001b[39m\u001b[38;5;241m.\u001b[39mconfig\u001b[38;5;241m.\u001b[39mnum_hidden_layers)\n\u001b[1;32m    581\u001b[0m embeddings \u001b[38;5;241m=\u001b[39m \u001b[38;5;28mself\u001b[39m\u001b[38;5;241m.\u001b[39membeddings(input_ids, inputs_embeds)  \u001b[38;5;66;03m# (bs, seq_length, dim)\u001b[39;00m\n\u001b[0;32m--> 583\u001b[0m \u001b[38;5;28;01mreturn\u001b[39;00m \u001b[38;5;28;43mself\u001b[39;49m\u001b[38;5;241;43m.\u001b[39;49m\u001b[43mtransformer\u001b[49m\u001b[43m(\u001b[49m\n\u001b[1;32m    584\u001b[0m \u001b[43m    \u001b[49m\u001b[43mx\u001b[49m\u001b[38;5;241;43m=\u001b[39;49m\u001b[43membeddings\u001b[49m\u001b[43m,\u001b[49m\n\u001b[1;32m    585\u001b[0m \u001b[43m    \u001b[49m\u001b[43mattn_mask\u001b[49m\u001b[38;5;241;43m=\u001b[39;49m\u001b[43mattention_mask\u001b[49m\u001b[43m,\u001b[49m\n\u001b[1;32m    586\u001b[0m \u001b[43m    \u001b[49m\u001b[43mhead_mask\u001b[49m\u001b[38;5;241;43m=\u001b[39;49m\u001b[43mhead_mask\u001b[49m\u001b[43m,\u001b[49m\n\u001b[1;32m    587\u001b[0m \u001b[43m    \u001b[49m\u001b[43moutput_attentions\u001b[49m\u001b[38;5;241;43m=\u001b[39;49m\u001b[43moutput_attentions\u001b[49m\u001b[43m,\u001b[49m\n\u001b[1;32m    588\u001b[0m \u001b[43m    \u001b[49m\u001b[43moutput_hidden_states\u001b[49m\u001b[38;5;241;43m=\u001b[39;49m\u001b[43moutput_hidden_states\u001b[49m\u001b[43m,\u001b[49m\n\u001b[1;32m    589\u001b[0m \u001b[43m    \u001b[49m\u001b[43mreturn_dict\u001b[49m\u001b[38;5;241;43m=\u001b[39;49m\u001b[43mreturn_dict\u001b[49m\u001b[43m,\u001b[49m\n\u001b[1;32m    590\u001b[0m \u001b[43m\u001b[49m\u001b[43m)\u001b[49m\n",
      "File \u001b[0;32m~/.cache/pypoetry/virtualenvs/biaslyze-OjqpgMw8-py3.10/lib/python3.10/site-packages/torch/nn/modules/module.py:1501\u001b[0m, in \u001b[0;36mModule._call_impl\u001b[0;34m(self, *args, **kwargs)\u001b[0m\n\u001b[1;32m   1496\u001b[0m \u001b[38;5;66;03m# If we don't have any hooks, we want to skip the rest of the logic in\u001b[39;00m\n\u001b[1;32m   1497\u001b[0m \u001b[38;5;66;03m# this function, and just call forward.\u001b[39;00m\n\u001b[1;32m   1498\u001b[0m \u001b[38;5;28;01mif\u001b[39;00m \u001b[38;5;129;01mnot\u001b[39;00m (\u001b[38;5;28mself\u001b[39m\u001b[38;5;241m.\u001b[39m_backward_hooks \u001b[38;5;129;01mor\u001b[39;00m \u001b[38;5;28mself\u001b[39m\u001b[38;5;241m.\u001b[39m_backward_pre_hooks \u001b[38;5;129;01mor\u001b[39;00m \u001b[38;5;28mself\u001b[39m\u001b[38;5;241m.\u001b[39m_forward_hooks \u001b[38;5;129;01mor\u001b[39;00m \u001b[38;5;28mself\u001b[39m\u001b[38;5;241m.\u001b[39m_forward_pre_hooks\n\u001b[1;32m   1499\u001b[0m         \u001b[38;5;129;01mor\u001b[39;00m _global_backward_pre_hooks \u001b[38;5;129;01mor\u001b[39;00m _global_backward_hooks\n\u001b[1;32m   1500\u001b[0m         \u001b[38;5;129;01mor\u001b[39;00m _global_forward_hooks \u001b[38;5;129;01mor\u001b[39;00m _global_forward_pre_hooks):\n\u001b[0;32m-> 1501\u001b[0m     \u001b[38;5;28;01mreturn\u001b[39;00m \u001b[43mforward_call\u001b[49m\u001b[43m(\u001b[49m\u001b[38;5;241;43m*\u001b[39;49m\u001b[43margs\u001b[49m\u001b[43m,\u001b[49m\u001b[43m \u001b[49m\u001b[38;5;241;43m*\u001b[39;49m\u001b[38;5;241;43m*\u001b[39;49m\u001b[43mkwargs\u001b[49m\u001b[43m)\u001b[49m\n\u001b[1;32m   1502\u001b[0m \u001b[38;5;66;03m# Do not call functions when jit is used\u001b[39;00m\n\u001b[1;32m   1503\u001b[0m full_backward_hooks, non_full_backward_hooks \u001b[38;5;241m=\u001b[39m [], []\n",
      "File \u001b[0;32m~/.cache/pypoetry/virtualenvs/biaslyze-OjqpgMw8-py3.10/lib/python3.10/site-packages/transformers/models/distilbert/modeling_distilbert.py:359\u001b[0m, in \u001b[0;36mTransformer.forward\u001b[0;34m(self, x, attn_mask, head_mask, output_attentions, output_hidden_states, return_dict)\u001b[0m\n\u001b[1;32m    356\u001b[0m \u001b[38;5;28;01mif\u001b[39;00m output_hidden_states:\n\u001b[1;32m    357\u001b[0m     all_hidden_states \u001b[38;5;241m=\u001b[39m all_hidden_states \u001b[38;5;241m+\u001b[39m (hidden_state,)\n\u001b[0;32m--> 359\u001b[0m layer_outputs \u001b[38;5;241m=\u001b[39m \u001b[43mlayer_module\u001b[49m\u001b[43m(\u001b[49m\n\u001b[1;32m    360\u001b[0m \u001b[43m    \u001b[49m\u001b[43mx\u001b[49m\u001b[38;5;241;43m=\u001b[39;49m\u001b[43mhidden_state\u001b[49m\u001b[43m,\u001b[49m\u001b[43m \u001b[49m\u001b[43mattn_mask\u001b[49m\u001b[38;5;241;43m=\u001b[39;49m\u001b[43mattn_mask\u001b[49m\u001b[43m,\u001b[49m\u001b[43m \u001b[49m\u001b[43mhead_mask\u001b[49m\u001b[38;5;241;43m=\u001b[39;49m\u001b[43mhead_mask\u001b[49m\u001b[43m[\u001b[49m\u001b[43mi\u001b[49m\u001b[43m]\u001b[49m\u001b[43m,\u001b[49m\u001b[43m \u001b[49m\u001b[43moutput_attentions\u001b[49m\u001b[38;5;241;43m=\u001b[39;49m\u001b[43moutput_attentions\u001b[49m\n\u001b[1;32m    361\u001b[0m \u001b[43m\u001b[49m\u001b[43m)\u001b[49m\n\u001b[1;32m    362\u001b[0m hidden_state \u001b[38;5;241m=\u001b[39m layer_outputs[\u001b[38;5;241m-\u001b[39m\u001b[38;5;241m1\u001b[39m]\n\u001b[1;32m    364\u001b[0m \u001b[38;5;28;01mif\u001b[39;00m output_attentions:\n",
      "File \u001b[0;32m~/.cache/pypoetry/virtualenvs/biaslyze-OjqpgMw8-py3.10/lib/python3.10/site-packages/torch/nn/modules/module.py:1501\u001b[0m, in \u001b[0;36mModule._call_impl\u001b[0;34m(self, *args, **kwargs)\u001b[0m\n\u001b[1;32m   1496\u001b[0m \u001b[38;5;66;03m# If we don't have any hooks, we want to skip the rest of the logic in\u001b[39;00m\n\u001b[1;32m   1497\u001b[0m \u001b[38;5;66;03m# this function, and just call forward.\u001b[39;00m\n\u001b[1;32m   1498\u001b[0m \u001b[38;5;28;01mif\u001b[39;00m \u001b[38;5;129;01mnot\u001b[39;00m (\u001b[38;5;28mself\u001b[39m\u001b[38;5;241m.\u001b[39m_backward_hooks \u001b[38;5;129;01mor\u001b[39;00m \u001b[38;5;28mself\u001b[39m\u001b[38;5;241m.\u001b[39m_backward_pre_hooks \u001b[38;5;129;01mor\u001b[39;00m \u001b[38;5;28mself\u001b[39m\u001b[38;5;241m.\u001b[39m_forward_hooks \u001b[38;5;129;01mor\u001b[39;00m \u001b[38;5;28mself\u001b[39m\u001b[38;5;241m.\u001b[39m_forward_pre_hooks\n\u001b[1;32m   1499\u001b[0m         \u001b[38;5;129;01mor\u001b[39;00m _global_backward_pre_hooks \u001b[38;5;129;01mor\u001b[39;00m _global_backward_hooks\n\u001b[1;32m   1500\u001b[0m         \u001b[38;5;129;01mor\u001b[39;00m _global_forward_hooks \u001b[38;5;129;01mor\u001b[39;00m _global_forward_pre_hooks):\n\u001b[0;32m-> 1501\u001b[0m     \u001b[38;5;28;01mreturn\u001b[39;00m \u001b[43mforward_call\u001b[49m\u001b[43m(\u001b[49m\u001b[38;5;241;43m*\u001b[39;49m\u001b[43margs\u001b[49m\u001b[43m,\u001b[49m\u001b[43m \u001b[49m\u001b[38;5;241;43m*\u001b[39;49m\u001b[38;5;241;43m*\u001b[39;49m\u001b[43mkwargs\u001b[49m\u001b[43m)\u001b[49m\n\u001b[1;32m   1502\u001b[0m \u001b[38;5;66;03m# Do not call functions when jit is used\u001b[39;00m\n\u001b[1;32m   1503\u001b[0m full_backward_hooks, non_full_backward_hooks \u001b[38;5;241m=\u001b[39m [], []\n",
      "File \u001b[0;32m~/.cache/pypoetry/virtualenvs/biaslyze-OjqpgMw8-py3.10/lib/python3.10/site-packages/transformers/models/distilbert/modeling_distilbert.py:313\u001b[0m, in \u001b[0;36mTransformerBlock.forward\u001b[0;34m(self, x, attn_mask, head_mask, output_attentions)\u001b[0m\n\u001b[1;32m    310\u001b[0m sa_output \u001b[38;5;241m=\u001b[39m \u001b[38;5;28mself\u001b[39m\u001b[38;5;241m.\u001b[39msa_layer_norm(sa_output \u001b[38;5;241m+\u001b[39m x)  \u001b[38;5;66;03m# (bs, seq_length, dim)\u001b[39;00m\n\u001b[1;32m    312\u001b[0m \u001b[38;5;66;03m# Feed Forward Network\u001b[39;00m\n\u001b[0;32m--> 313\u001b[0m ffn_output \u001b[38;5;241m=\u001b[39m \u001b[38;5;28;43mself\u001b[39;49m\u001b[38;5;241;43m.\u001b[39;49m\u001b[43mffn\u001b[49m\u001b[43m(\u001b[49m\u001b[43msa_output\u001b[49m\u001b[43m)\u001b[49m  \u001b[38;5;66;03m# (bs, seq_length, dim)\u001b[39;00m\n\u001b[1;32m    314\u001b[0m ffn_output: torch\u001b[38;5;241m.\u001b[39mTensor \u001b[38;5;241m=\u001b[39m \u001b[38;5;28mself\u001b[39m\u001b[38;5;241m.\u001b[39moutput_layer_norm(ffn_output \u001b[38;5;241m+\u001b[39m sa_output)  \u001b[38;5;66;03m# (bs, seq_length, dim)\u001b[39;00m\n\u001b[1;32m    316\u001b[0m output \u001b[38;5;241m=\u001b[39m (ffn_output,)\n",
      "File \u001b[0;32m~/.cache/pypoetry/virtualenvs/biaslyze-OjqpgMw8-py3.10/lib/python3.10/site-packages/torch/nn/modules/module.py:1501\u001b[0m, in \u001b[0;36mModule._call_impl\u001b[0;34m(self, *args, **kwargs)\u001b[0m\n\u001b[1;32m   1496\u001b[0m \u001b[38;5;66;03m# If we don't have any hooks, we want to skip the rest of the logic in\u001b[39;00m\n\u001b[1;32m   1497\u001b[0m \u001b[38;5;66;03m# this function, and just call forward.\u001b[39;00m\n\u001b[1;32m   1498\u001b[0m \u001b[38;5;28;01mif\u001b[39;00m \u001b[38;5;129;01mnot\u001b[39;00m (\u001b[38;5;28mself\u001b[39m\u001b[38;5;241m.\u001b[39m_backward_hooks \u001b[38;5;129;01mor\u001b[39;00m \u001b[38;5;28mself\u001b[39m\u001b[38;5;241m.\u001b[39m_backward_pre_hooks \u001b[38;5;129;01mor\u001b[39;00m \u001b[38;5;28mself\u001b[39m\u001b[38;5;241m.\u001b[39m_forward_hooks \u001b[38;5;129;01mor\u001b[39;00m \u001b[38;5;28mself\u001b[39m\u001b[38;5;241m.\u001b[39m_forward_pre_hooks\n\u001b[1;32m   1499\u001b[0m         \u001b[38;5;129;01mor\u001b[39;00m _global_backward_pre_hooks \u001b[38;5;129;01mor\u001b[39;00m _global_backward_hooks\n\u001b[1;32m   1500\u001b[0m         \u001b[38;5;129;01mor\u001b[39;00m _global_forward_hooks \u001b[38;5;129;01mor\u001b[39;00m _global_forward_pre_hooks):\n\u001b[0;32m-> 1501\u001b[0m     \u001b[38;5;28;01mreturn\u001b[39;00m \u001b[43mforward_call\u001b[49m\u001b[43m(\u001b[49m\u001b[38;5;241;43m*\u001b[39;49m\u001b[43margs\u001b[49m\u001b[43m,\u001b[49m\u001b[43m \u001b[49m\u001b[38;5;241;43m*\u001b[39;49m\u001b[38;5;241;43m*\u001b[39;49m\u001b[43mkwargs\u001b[49m\u001b[43m)\u001b[49m\n\u001b[1;32m   1502\u001b[0m \u001b[38;5;66;03m# Do not call functions when jit is used\u001b[39;00m\n\u001b[1;32m   1503\u001b[0m full_backward_hooks, non_full_backward_hooks \u001b[38;5;241m=\u001b[39m [], []\n",
      "File \u001b[0;32m~/.cache/pypoetry/virtualenvs/biaslyze-OjqpgMw8-py3.10/lib/python3.10/site-packages/transformers/models/distilbert/modeling_distilbert.py:254\u001b[0m, in \u001b[0;36mFFN.forward\u001b[0;34m(self, input)\u001b[0m\n\u001b[1;32m    253\u001b[0m \u001b[38;5;28;01mdef\u001b[39;00m \u001b[38;5;21mforward\u001b[39m(\u001b[38;5;28mself\u001b[39m, \u001b[38;5;28minput\u001b[39m: torch\u001b[38;5;241m.\u001b[39mTensor) \u001b[38;5;241m-\u001b[39m\u001b[38;5;241m>\u001b[39m torch\u001b[38;5;241m.\u001b[39mTensor:\n\u001b[0;32m--> 254\u001b[0m     \u001b[38;5;28;01mreturn\u001b[39;00m \u001b[43mapply_chunking_to_forward\u001b[49m\u001b[43m(\u001b[49m\u001b[38;5;28;43mself\u001b[39;49m\u001b[38;5;241;43m.\u001b[39;49m\u001b[43mff_chunk\u001b[49m\u001b[43m,\u001b[49m\u001b[43m \u001b[49m\u001b[38;5;28;43mself\u001b[39;49m\u001b[38;5;241;43m.\u001b[39;49m\u001b[43mchunk_size_feed_forward\u001b[49m\u001b[43m,\u001b[49m\u001b[43m \u001b[49m\u001b[38;5;28;43mself\u001b[39;49m\u001b[38;5;241;43m.\u001b[39;49m\u001b[43mseq_len_dim\u001b[49m\u001b[43m,\u001b[49m\u001b[43m \u001b[49m\u001b[38;5;28;43minput\u001b[39;49m\u001b[43m)\u001b[49m\n",
      "File \u001b[0;32m~/.cache/pypoetry/virtualenvs/biaslyze-OjqpgMw8-py3.10/lib/python3.10/site-packages/transformers/pytorch_utils.py:248\u001b[0m, in \u001b[0;36mapply_chunking_to_forward\u001b[0;34m(forward_fn, chunk_size, chunk_dim, *input_tensors)\u001b[0m\n\u001b[1;32m    245\u001b[0m     \u001b[38;5;66;03m# concatenate output at same dimension\u001b[39;00m\n\u001b[1;32m    246\u001b[0m     \u001b[38;5;28;01mreturn\u001b[39;00m torch\u001b[38;5;241m.\u001b[39mcat(output_chunks, dim\u001b[38;5;241m=\u001b[39mchunk_dim)\n\u001b[0;32m--> 248\u001b[0m \u001b[38;5;28;01mreturn\u001b[39;00m \u001b[43mforward_fn\u001b[49m\u001b[43m(\u001b[49m\u001b[38;5;241;43m*\u001b[39;49m\u001b[43minput_tensors\u001b[49m\u001b[43m)\u001b[49m\n",
      "File \u001b[0;32m~/.cache/pypoetry/virtualenvs/biaslyze-OjqpgMw8-py3.10/lib/python3.10/site-packages/transformers/models/distilbert/modeling_distilbert.py:257\u001b[0m, in \u001b[0;36mFFN.ff_chunk\u001b[0;34m(self, input)\u001b[0m\n\u001b[1;32m    256\u001b[0m \u001b[38;5;28;01mdef\u001b[39;00m \u001b[38;5;21mff_chunk\u001b[39m(\u001b[38;5;28mself\u001b[39m, \u001b[38;5;28minput\u001b[39m: torch\u001b[38;5;241m.\u001b[39mTensor) \u001b[38;5;241m-\u001b[39m\u001b[38;5;241m>\u001b[39m torch\u001b[38;5;241m.\u001b[39mTensor:\n\u001b[0;32m--> 257\u001b[0m     x \u001b[38;5;241m=\u001b[39m \u001b[38;5;28;43mself\u001b[39;49m\u001b[38;5;241;43m.\u001b[39;49m\u001b[43mlin1\u001b[49m\u001b[43m(\u001b[49m\u001b[38;5;28;43minput\u001b[39;49m\u001b[43m)\u001b[49m\n\u001b[1;32m    258\u001b[0m     x \u001b[38;5;241m=\u001b[39m \u001b[38;5;28mself\u001b[39m\u001b[38;5;241m.\u001b[39mactivation(x)\n\u001b[1;32m    259\u001b[0m     x \u001b[38;5;241m=\u001b[39m \u001b[38;5;28mself\u001b[39m\u001b[38;5;241m.\u001b[39mlin2(x)\n",
      "File \u001b[0;32m~/.cache/pypoetry/virtualenvs/biaslyze-OjqpgMw8-py3.10/lib/python3.10/site-packages/torch/nn/modules/module.py:1501\u001b[0m, in \u001b[0;36mModule._call_impl\u001b[0;34m(self, *args, **kwargs)\u001b[0m\n\u001b[1;32m   1496\u001b[0m \u001b[38;5;66;03m# If we don't have any hooks, we want to skip the rest of the logic in\u001b[39;00m\n\u001b[1;32m   1497\u001b[0m \u001b[38;5;66;03m# this function, and just call forward.\u001b[39;00m\n\u001b[1;32m   1498\u001b[0m \u001b[38;5;28;01mif\u001b[39;00m \u001b[38;5;129;01mnot\u001b[39;00m (\u001b[38;5;28mself\u001b[39m\u001b[38;5;241m.\u001b[39m_backward_hooks \u001b[38;5;129;01mor\u001b[39;00m \u001b[38;5;28mself\u001b[39m\u001b[38;5;241m.\u001b[39m_backward_pre_hooks \u001b[38;5;129;01mor\u001b[39;00m \u001b[38;5;28mself\u001b[39m\u001b[38;5;241m.\u001b[39m_forward_hooks \u001b[38;5;129;01mor\u001b[39;00m \u001b[38;5;28mself\u001b[39m\u001b[38;5;241m.\u001b[39m_forward_pre_hooks\n\u001b[1;32m   1499\u001b[0m         \u001b[38;5;129;01mor\u001b[39;00m _global_backward_pre_hooks \u001b[38;5;129;01mor\u001b[39;00m _global_backward_hooks\n\u001b[1;32m   1500\u001b[0m         \u001b[38;5;129;01mor\u001b[39;00m _global_forward_hooks \u001b[38;5;129;01mor\u001b[39;00m _global_forward_pre_hooks):\n\u001b[0;32m-> 1501\u001b[0m     \u001b[38;5;28;01mreturn\u001b[39;00m \u001b[43mforward_call\u001b[49m\u001b[43m(\u001b[49m\u001b[38;5;241;43m*\u001b[39;49m\u001b[43margs\u001b[49m\u001b[43m,\u001b[49m\u001b[43m \u001b[49m\u001b[38;5;241;43m*\u001b[39;49m\u001b[38;5;241;43m*\u001b[39;49m\u001b[43mkwargs\u001b[49m\u001b[43m)\u001b[49m\n\u001b[1;32m   1502\u001b[0m \u001b[38;5;66;03m# Do not call functions when jit is used\u001b[39;00m\n\u001b[1;32m   1503\u001b[0m full_backward_hooks, non_full_backward_hooks \u001b[38;5;241m=\u001b[39m [], []\n",
      "File \u001b[0;32m~/.cache/pypoetry/virtualenvs/biaslyze-OjqpgMw8-py3.10/lib/python3.10/site-packages/torch/nn/modules/linear.py:114\u001b[0m, in \u001b[0;36mLinear.forward\u001b[0;34m(self, input)\u001b[0m\n\u001b[1;32m    113\u001b[0m \u001b[38;5;28;01mdef\u001b[39;00m \u001b[38;5;21mforward\u001b[39m(\u001b[38;5;28mself\u001b[39m, \u001b[38;5;28minput\u001b[39m: Tensor) \u001b[38;5;241m-\u001b[39m\u001b[38;5;241m>\u001b[39m Tensor:\n\u001b[0;32m--> 114\u001b[0m     \u001b[38;5;28;01mreturn\u001b[39;00m \u001b[43mF\u001b[49m\u001b[38;5;241;43m.\u001b[39;49m\u001b[43mlinear\u001b[49m\u001b[43m(\u001b[49m\u001b[38;5;28;43minput\u001b[39;49m\u001b[43m,\u001b[49m\u001b[43m \u001b[49m\u001b[38;5;28;43mself\u001b[39;49m\u001b[38;5;241;43m.\u001b[39;49m\u001b[43mweight\u001b[49m\u001b[43m,\u001b[49m\u001b[43m \u001b[49m\u001b[38;5;28;43mself\u001b[39;49m\u001b[38;5;241;43m.\u001b[39;49m\u001b[43mbias\u001b[49m\u001b[43m)\u001b[49m\n",
      "\u001b[0;31mKeyboardInterrupt\u001b[0m: "
     ]
    }
   ],
   "source": [
    "test_texts = df.comment_text.sample(50)\n",
    "detection_res = bias_detector.detect(texts=test_texts, predict_func=predict_sentiment)"
   ]
  },
  {
   "cell_type": "code",
   "execution_count": null,
   "id": "6de5fe94-f5f0-4181-8c0b-2dd09d91bba7",
   "metadata": {},
   "outputs": [],
   "source": [
    "detection_res.summary()"
   ]
  },
  {
   "cell_type": "code",
   "execution_count": null,
   "id": "9dda7ab7-90f1-4eed-a911-1d4b96cd28ba",
   "metadata": {},
   "outputs": [],
   "source": [
    "detection_res.details(group_by_concept=True)"
   ]
  },
  {
   "cell_type": "code",
   "execution_count": null,
   "id": "a175277c-1390-4a9e-8faa-af928ea065ba",
   "metadata": {},
   "outputs": [],
   "source": []
  },
  {
   "cell_type": "markdown",
   "id": "c252bc36-f2bc-4f05-a877-48406cbea7a7",
   "metadata": {},
   "source": [
    "## !! Very Experimental !!: Test masked language model based bias detection with keywords"
   ]
  },
  {
   "cell_type": "code",
   "execution_count": 10,
   "id": "e2a87056-f9f5-4b7f-8b1c-c2395720941e",
   "metadata": {},
   "outputs": [],
   "source": [
    "from biaslyze.bias_detectors import MaskedKeywordBiasDetector\n",
    "from biaslyze.concept_detectors import KeywordConceptDetector"
   ]
  },
  {
   "cell_type": "code",
   "execution_count": 11,
   "id": "0f46f425-0d39-4889-872e-db1176476858",
   "metadata": {},
   "outputs": [],
   "source": [
    "bias_detector = MaskedKeywordBiasDetector(n_resample_keywords=20, use_tokenizer=True)"
   ]
  },
  {
   "cell_type": "code",
   "execution_count": 16,
   "id": "75b87a33-dcff-4d6e-9f4f-89b143ac3308",
   "metadata": {
    "scrolled": true,
    "tags": []
   },
   "outputs": [
    {
     "name": "stderr",
     "output_type": "stream",
     "text": [
      "2023-04-14 11:53:45.266 | INFO     | biaslyze.concept_detectors:detect:33 - Started keyword-based concept detection on 1000 texts...\n",
      "100%|█████████████████████████████████████████████████████████████████████████████████████████████████████████████████████████████████████████████████████████████████████████████████| 1000/1000 [00:19<00:00, 51.95it/s]\n",
      "2023-04-14 11:54:04.519 | INFO     | biaslyze.concept_detectors:detect:49 - Done. Found 213 texts with protected concepts.\n",
      "2023-04-14 11:54:04.520 | INFO     | biaslyze.evaluators:evaluate:109 - Started bias detection on 213 samples...\n",
      "100%|███████████████████████████████████████████████████████████████████████████████████████████████████████████████████████████████████████████████████████████████████████████████████| 213/213 [00:27<00:00,  7.67it/s]\n"
     ]
    }
   ],
   "source": [
    "detection_res = bias_detector.detect(\n",
    "    texts=df.comment_text.sample(1000),\n",
    "    predict_func=clf.predict_proba\n",
    ")"
   ]
  },
  {
   "cell_type": "code",
   "execution_count": 17,
   "id": "01b03eea-46f4-4106-8290-88791edd449b",
   "metadata": {},
   "outputs": [
    {
     "name": "stdout",
     "output_type": "stream",
     "text": [
      "Detected 30 samples with potential issues.\n",
      "    Potentially problematic concepts detected: [('gender', 27), ('religion', 3)]\n",
      "    Based on keywords: [('man', 14), ('he', 13), ('his', 9), ('she', 5), ('her', 4), ('jews', 3), ('brother', 1), ('female', 1), ('guy', 1), ('grandma', 1), ('men', 1), ('jew', 1)].\n"
     ]
    }
   ],
   "source": [
    "detection_res.summary()"
   ]
  },
  {
   "cell_type": "code",
   "execution_count": 18,
   "id": "f4418750-7686-49bb-bcd8-ee782bc452f3",
   "metadata": {
    "scrolled": true,
    "tags": []
   },
   "outputs": [
    {
     "name": "stdout",
     "output_type": "stream",
     "text": [
      "''\" Here he posted \"\"in my name\"\"\"'' might contain bias ['gender']; reasons: ['he']\n",
      "''\"\n",
      "\n",
      " has offended me repeatedly'''\n",
      "I attempted to reach a consensus with , but he ridiculed me: \n",
      "\"\"and much less \"\"CNN talks about it\"\". Oooooh, I'm impressed! ) What kind of an argument is that, \"\"CNN talks about it\"\"? hahahahahah\"\"\n",
      "\n",
      "Someone who makes this kind of comment doesn't want consensus, he wants to shove his view down everyone's thoats.\n",
      "\n",
      " has also offended and ridiculed me other times:\n",
      "\"\"Are you mentally challenged?\"\"\n",
      "\"\"Now go watch the fireworks in Copacabana and stop crying, Mr Carioca. )\"\"\n",
      "\"\"Man, you really are a nut job! \"\"\n",
      "\"\"Get a life, carioca\"\"\n",
      "\"\"EconomistBR is the one who is being intolerant\"\"\n",
      "\n",
      "All I want is to talk with him about this and him to appologize for those uncalled for offenses\"'' might contain bias ['gender']; reasons: ['man', 'he', 'his', 'man']\n",
      "''I will definitely dignify you with an answer. It seems you are strongly making one thing for sure that a rumour when reported has no leg or head. And there have been no charges, and there are reliable sources left, except that here are some low level gossip sites that have been removed. Please stop vandalism DIRTY DOG, as you have an agenda of your own. How do you know that she is not in the USA right now? How are you so sure that she is not in the USA? You are a bit messed up, Dirty DOG, as your name you play the game. Sorry to say and to break your bubble, you do understand that this sort of rumour will be taken out soon! If you are here for life then I am here for life too! But I will play the game safe unlike you! Sonisona  Seriously shame on you! Sonisona'' might contain bias ['gender']; reasons: ['she']\n",
      "''Hey man he is vandalism on UFC pages which is fucked up. what has us MMA fans done to him? we need our pages.'' might contain bias ['gender']; reasons: ['man', 'he', 'man']\n",
      "''Subjectivity \n",
      "\n",
      "This user has a propensity to abuse his status by interfering with sourced articles. This user has proven to watch too much television leaving his personal life, and life skills comprimised. This user is a fan of big black cock.'' might contain bias ['gender']; reasons: ['his']\n",
      "''hey i like Jews hey i like Jews hey i like Jews hey i like Jews hey i like Jews hey i like Jews hey i like Jews hey i like Jews hey i like Jews hey i like Jews hey i like Jews hey i like Jews hey i like Jews hey i like Jews hey i like Jews hey i like Jews hey i like Jews hey i like Jews hey i like Jews hey i like Jews hey i like Jews hey i like Jews hey i like Jews hey i like Jews hey i like Jews hey i like Jews hey i like Jews hey i like Jews hey i like Jews hey i like Jews hey i like Jews hey i like Jews hey i like Jews hey i like Jews hey i like Jews hey i like Jews hey i like Jews hey i like Jews hey i like Jews hey i like Jews hey i like Jews hey i like Jews hey i like Jews hey i like Jews hey i like Jews hey i like Jews hey i like Jews hey i like Jews hey i like Jews hey i like Jews hey i like Jews hey i like Jews hey i like Jews hey i like Jews hey i like Jews hey i like Jews hey i like Jews hey i like Jews hey i like Jews hey i like Jews hey i like Jews hey i like Jews hey i like Jews hey i like Jews hey i like Jews hey i like Jews hey i like Jews hey i like Jews hey i like Jews hey i like Jews hey i like Jews hey i like Jews hey i like Jews hey i like Jews hey i like Jews hey i like Jews hey i like Jews hey i like Jews hey i like Jews hey i like Jews hey i like Jews hey i like Jews hey i like Jews hey i like Jews hey i like Jews hey i like Jews hey i like Jews hey i like Jews hey i like Jews hey i like Jews hey i like Jews hey i like Jews hey i like Jews hey i like Jews hey i like Jews hey i like Jews hey i like Jews hey i like Jews hey i like Jews hey i like Jews hey i like Jews hey i like Jews hey i like Jews hey i like Jews hey i like Jews hey i like Jews hey i like Jews hey i like Jews hey i like Jews hey i like Jews hey i like Jews hey i like Jews hey i like Jews hey i like Jews hey i like Jews hey i like Jews hey i like Jews hey i like Jews hey i like Jews hey i like Jews hey i like Jews hey i like Jews hey i like Jews hey i like Jews hey i like Jews hey i like Jews hey i like Jews hey i like Jews hey i like Jews hey i like Jews hey i like Jews hey i like Jews hey i like Jews hey i like Jews hey i like Jews hey i like Jews hey i like Jews hey i like Jews hey i like Jews hey i like Jews hey i like Jews hey i like Jews hey i like Jews hey i like Jews hey i like Jews hey i like Jews hey i like Jews hey i like Jews hey i like Jews hey i like Jews hey i like Jews hey i like Jews hey i like Jews hey i like Jews hey i like Jews hey i like Jews hey i like Jews hey i like Jews hey i like Jews hey i like Jews hey i like Jews hey i like Jews hey i like Jews hey i like Jews hey i like Jews hey i like Jews hey i like Jews hey i like Jews hey i like Jews hey i like Jews hey i like Jews hey i like Jews hey i like Jews hey i like Jews hey i like Jews hey i like Jews hey i like Jews hey i like Jews hey i like Jews hey i like Jews hey i like Jews hey i like Jews hey i like Jews hey i like Jews hey i like Jews hey i like Jews hey i like Jews hey i like Jews hey i like Jews hey i like Jews hey i like Jews hey i like Jews hey i like Jews hey i like Jews hey i like Jews hey i like Jews hey i like Jews hey i like Jews hey i like Jews hey i like Jews hey i like Jews hey i like Jews hey i like Jews hey i like Jews hey i like Jews hey i like Jews hey i like Jews hey i like Jews hey i like Jews hey i like Jews hey i like Jews hey i like Jews hey i like Jews hey i like Jews hey i like Jews hey i like Jews hey i like Jews hey i like Jews hey i like Jews hey i like Jews hey i like Jews hey i like Jews hey i like Jews hey i like Jews hey i like Jews hey i like Jews hey i like Jews hey i like Jews hey i like Jews hey i like Jews hey i like Jews hey i like Jews hey i like Jews hey i like Jews hey i like Jews hey i like Jews hey i like Jews hey i like Jews hey i like Jews hey i like Jews hey i like Jews hey i like Jews hey i like Jews hey i like Jews hey i like Jews hey i like Jews hey i like Jews hey i like Jews hey i like Jews hey i like Jews hey i like Jews hey i like Jews hey i like Jews hey i like Jews hey i like Jews hey i like Jews hey i like Jews hey i like Jews hey i like Jews hey i like Jews hey i like Jews hey i like Jews hey i like Jews hey i like Jews hey i like Jews hey i like Jews hey i like Jews hey i like Jews hey i like Jews hey i like Jews hey i like Jews hey i like Jews hey i like Jews hey i like Jews hey i like Jews hey i like Jews hey i like Jews hey i like Jews hey i like Jews hey i like Jews hey i like Jews hey i like Jews hey i like Jews hey i like Jews hey i like Jews hey i like Jews hey i like Jews hey i like Jews hey i like Jews hey i like Jews hey i like Jews hey i like Jews hey i like Jews hey i like Jews hey i like Jews hey i like Jews hey i like Jews hey i like Jews hey i like Jews hey i like Jews hey i like Jews hey i like Jews hey i like Jews hey i like Jews hey i like Jews hey i like Jews hey i like Jews hey i like Jews hey i like Jews hey i like Jews hey i like Jews hey i like'' might contain bias ['religion']; reasons: ['jews']\n",
      "''\"\n",
      "\n",
      " He he \n",
      "\n",
      "\"\"Vandalism\"\" for writing in something truthful that you disagree with. LMAO, liar.\"'' might contain bias ['gender']; reasons: ['he']\n",
      "''This is ridiculous. You use the name of a great dead man; and try to fit me into your schemes. Tell us who you are, what is your name, religion, country. Did you take the name of Diderot because of his hate to the Church?\n",
      "Shamir'' might contain bias ['gender']; reasons: ['man', 'his', 'man']\n",
      "''Hitler - as your assistant!? \n",
      "\n",
      "Don't people take offense to your using a negative historical person as an assistant? You should be ashamed of yourself! Of course, Hitler was more intelligent than you - say....to the 8th power. He was also self directed and didn't snitch on his fellow comrades, but then, Hitler had worthy causes. Right...buggy! 64.134.148.53'' might contain bias ['gender']; reasons: ['he', 'his']\n",
      "''\":::: Are they as \"\"reliable\"\" as Dreifuss' one-day newspapers were?  Lehitraot, jehudon, we know your dirty jehudon tactics all too well and won't be fooled that easily.  And no, you jews weren't considered as publishing this document, it was overheard.  And yes, I've seen the difference between the eyes of jews in Odessa and Jerusalem with my very own eyes.   \n",
      "\n",
      "\"'' might contain bias ['religion']; reasons: ['jews']\n",
      "''man shut up you need to learn how to just shut up there is no GTA:London you cant just say junk because you heard a rumor GTA:LONDON WAS ONLY A EXPENSTION PACK NOT A GAME IN THE SERIES while for some resion i think GTA4 will be heading Carcer City or Anywhere City has anyone really thought of thjis themselves?'' might contain bias ['gender']; reasons: ['man', 'man']\n",
      "''\"\n",
      "\n",
      " Plot Hole? \n",
      "\n",
      "Maybe I'm thinking too much. But if the witness just \"\"casually\"\" happens to be the killer's brother, wouldn't the police investigate him and find out the truth?\"'' might contain bias ['gender']; reasons: ['brother']\n",
      "''\"\n",
      "\n",
      " You're asking Evilphoenix? He's one that totally abuses his administration rights. This user makes false assumptions on Wikipedia without proof, and then just hap-hazardly does what he wants to do. My opinion \"\"Go ask someone else\"\".  \"'' might contain bias ['gender']; reasons: ['he', 'his']\n",
      "''\"\n",
      "\n",
      "..read lihaas version of upa article with lies about somnath \"\"claiming\"\" things and somnath \"\"inserting his name\"\" in the UPA article..wikipedians can also notice the above user's utter disregard for putting citations and her/his inability to practise what she/he preaches to me (see above for..\"\"uncited, and original research\"\" and compare his reinserted version full of lies on july 25) !! she/he says \"\"we should use discussion before that\"\"  but he/she replaces wiki edits \"\"en bloc\"\" with his/her fantasies..may be he/she \"\"reinserts lies obsessively\"\". i dont know why !!... i am not a british english user nor do i profess to be an english expert like lihaas has suggested he is ;) ...anyway wikipedians ought to know of many writers including churchill who used more commas and other words to lengthen sentences to make it more beautiful (rather than use comma less 3/4 word \"\"look how it reads.\"\" sort of sentences!!)..should i say anything more ..  \"'' might contain bias ['gender']; reasons: ['he', 'she', 'her', 'his']\n",
      "''Wait, you are female and black..! That's disconcerting...'' might contain bias ['gender']; reasons: ['female']\n",
      "''Alright, you win, but can't you tell them that I think I got that guy blocked by mistake? Since they don't want me on other Wikipedias either. And they didn't know this guy was ok. Check it out for yourself he asked PMDrive he asked McDoob he did the help desk. Do you really think I might never redem though? Or that I can't/shouldn't be allowed just because? If you tell PMDrive about that account I might go away. Or do something. What else would you like? Stop doing iws? Never come back? I might do it if you tell them but if you don't I will come back for sure and say THE FOX AND THE HOUND RULES! Also, I still miss Collectian, even though they got me into this. Do you even think you would even know/care about this without her? As long as I have no say though, I AM getting revenge. I'm sorry, but I don't think it's fair. What could I do besides leave or not come here until I have a job? Watch Okapi7 destory The Rescuers, Robin Hood, and other articles? Want to undo some bad edits I find? I may never know. Or ever do anything good again. I am getting revenge somehow, I don't know how, but I will. I will buy you, I will mock you, I will continue to add these unblock templates, whatever it takes. Are there any banned users that have socked and gotten unbanned? Can I join them? Wikipedia just makes me sad. I do one or two things wrong and get this. Why oh why oh why I ask? Why? 68.220.162.147'' might contain bias ['gender']; reasons: ['he', 'her', 'guy']\n",
      "''There is source that says he signed on for his gross.\n",
      "\n",
      "Grazer cannily took advantage of Universal's need to send a message of strength and viability; brand-new co-chairmen Marc Shmuger and David Linde went ahead with the deluxe deal. If Snider had not left, she would likely have kept the budget down. The key players got paid full price, with rich back ends. Denzel Washington had already gotten paid his upfront guarantee pay-or-play, so he signed on just for his gross. (He also got paid half his $20-million fee on Inside Man.) This way even when American Gangster makes money, so do gross participants Washington, Scott, Grazer and Russell Crowe. That adds up to a huge piece of the final gross going out the doorin all likelihood, some 37.5 25% of the gross. ($37.5 was Universal's all-time high, on Grinch.) The studios are all trying to not go over that 25%, which is still a hideous percentage. \n",
      "\n",
      "http://weblogs.variety.com/thompsononhollywood/american_gangster/index.html'' might contain bias ['gender']; reasons: ['man', 'he', 'she', 'his', 'man']\n",
      "''\"\n",
      "\n",
      " LOL \n",
      "\n",
      "Hello there buddy, remember me? ) Revenge is sweet and is a dish served cold. You eventually exposed to everyone that you are just a hysterical, narcissistic, try-to-be \"\"intellectual\"\" who is just simply batshit insane and suffers from an inferior complex, or maybe you just have OCD, ADHD and Aspergers. I am loving my time here, have a nice day now Marcus you poor, sad & pathetic little man. \n",
      "\n",
      "(LOL again at your block)\"'' might contain bias ['gender']; reasons: ['man', 'man']\n",
      "''That's great just trying to keep her alive if you don't hurt that change what you like.'' might contain bias ['gender']; reasons: ['her']\n",
      "''Man i like to make a sexy time with my grandma its sooo nice...p.s cheese is good!'' might contain bias ['gender']; reasons: ['man', 'grandma', 'man']\n",
      "''\"\n",
      " And, if any of you sophists want to stand up, how about talking about the \"\"doctorate's\"\" she earned?   \"'' might contain bias ['gender']; reasons: ['she']\n",
      "''\"\n",
      "Uuhhh, no he didn't. Bolt's previous record was 9.69. Gay \"\"only\"\" managed 9.71. White cat  \"'' might contain bias ['gender']; reasons: ['he']\n",
      "''I had a right to be pissed off,  \n",
      "\n",
      "I just lost 6 refs when he rv'ed back there! What a destructive wanker, Burntsource is seriously destructive and should be banned.'' might contain bias ['gender']; reasons: ['he']\n",
      "''are you actually claiming that the CIA did not sponsor a coup against Papandreou? Are you that insane? It's wierd you claim Blum is a 'liar' though, Bush, Cheney, Rumsfeld, they all have pretty good reasons to lie, what would be Blum's motivation for lying on such an epic scale? Is it because he is 'virulently anti-American'? Well, most of Europe is in that case, and let me make one thing clear, I burned an american flag on 9/11.'' might contain bias ['gender']; reasons: ['he']\n",
      "''\"\n",
      "Rona was a bitch, but she's got pizzazz! Wait, why do we hate her again? Plus, she sent that decoy on a suicide mission! Or was that under Giles' orders?~Talk to me! \"'' might contain bias ['gender']; reasons: ['she', 'her']\n",
      "''It's okay I was gonna challenge you to a battle of the wits but I don't fight unarmed men.  Just repeat after me- I AM A MODERATOR FOR WIKIPEDIA AND I MATTER ColScott'' might contain bias ['gender']; reasons: ['men']\n",
      "''\"\n",
      "Self-hating Jew is probably one of the most embarassing articles in all of Wikipedia, Radiant. And the link I added was to Masada2000  not to a KKK site. Masada2000 is a Kahanist site that actually gives an extensive list of \"\"self-hating Jews\"\"  why shouldn't Wikipedia want to provide a link to examples of the subject of an article? Masada2000 has the distinction, by the way, of being the top result for a Google search of self-hating jew; I never meant to diminish the importance of non-Kahanist sites that provide lists of self-hating Jews, if there are any.\n",
      "Did you look, by the way, at the article that you have jumped to the defense of? Or did you just go by what Jayjg managed to convince you of? It really is a sad and pathetic article, Radiant, and it maybe serves to remind that not even the Jews can leave the Jews alone.\n",
      " \"'' might contain bias ['religion']; reasons: ['jew', 'jews']\n",
      "''Try reading instead of deleting. I am NOT Moon, I am a client of his. Who are you, and why are you so intent on hijacking this page?'' might contain bias ['gender']; reasons: ['his']\n",
      "''Yes Franz Kurowski made a stupid generalisation, but I guess in this instance he has been lent a litte authenticity.  Yes I see 5/20 is worse. In both cases the number of wrecked aircraft could have been counted. Anyway, I think the article is sound as it is, and we can put this to rest.'' might contain bias ['gender']; reasons: ['he']\n",
      "''(here's his profile stating it )'' might contain bias ['gender']; reasons: ['his']\n"
     ]
    }
   ],
   "source": [
    "detection_res.details()"
   ]
  },
  {
   "cell_type": "code",
   "execution_count": 20,
   "id": "be4add71-c474-46a2-91a2-95cdd799c2d5",
   "metadata": {},
   "outputs": [
    {
     "data": {
      "text/html": [
       "<style>\n",
       "        .bk-notebook-logo {\n",
       "            display: block;\n",
       "            width: 20px;\n",
       "            height: 20px;\n",
       "            background-image: url(data:image/png;base64,iVBORw0KGgoAAAANSUhEUgAAABQAAAAUCAYAAACNiR0NAAAABHNCSVQICAgIfAhkiAAAAAlwSFlzAAALEgAACxIB0t1+/AAAABx0RVh0U29mdHdhcmUAQWRvYmUgRmlyZXdvcmtzIENTNui8sowAAAOkSURBVDiNjZRtaJVlGMd/1/08zzln5zjP1LWcU9N0NkN8m2CYjpgQYQXqSs0I84OLIC0hkEKoPtiH3gmKoiJDU7QpLgoLjLIQCpEsNJ1vqUOdO7ppbuec5+V+rj4ctwzd8IIbbi6u+8f1539dt3A78eXC7QizUF7gyV1fD1Yqg4JWz84yffhm0qkFqBogB9rM8tZdtwVsPUhWhGcFJngGeWrPzHm5oaMmkfEg1usvLFyc8jLRqDOMru7AyC8saQr7GG7f5fvDeH7Ej8CM66nIF+8yngt6HWaKh7k49Soy9nXurCi1o3qUbS3zWfrYeQDTB/Qj6kX6Ybhw4B+bOYoLKCC9H3Nu/leUTZ1JdRWkkn2ldcCamzrcf47KKXdAJllSlxAOkRgyHsGC/zRday5Qld9DyoM4/q/rUoy/CXh3jzOu3bHUVZeU+DEn8FInkPBFlu3+nW3Nw0mk6vCDiWg8CeJaxEwuHS3+z5RgY+YBR6V1Z1nxSOfoaPa4LASWxxdNp+VWTk7+4vzaou8v8PN+xo+KY2xsw6une2frhw05CTYOmQvsEhjhWjn0bmXPjpE1+kplmmkP3suftwTubK9Vq22qKmrBhpY4jvd5afdRA3wGjFAgcnTK2s4hY0/GPNIb0nErGMCRxWOOX64Z8RAC4oCXdklmEvcL8o0BfkNK4lUg9HTl+oPlQxdNo3Mg4Nv175e/1LDGzZen30MEjRUtmXSfiTVu1kK8W4txyV6BMKlbgk3lMwYCiusNy9fVfvvwMxv8Ynl6vxoByANLTWplvuj/nF9m2+PDtt1eiHPBr1oIfhCChQMBw6Aw0UulqTKZdfVvfG7VcfIqLG9bcldL/+pdWTLxLUy8Qq38heUIjh4XlzZxzQm19lLFlr8vdQ97rjZVOLf8nclzckbcD4wxXMidpX30sFd37Fv/GtwwhzhxGVAprjbg0gCAEeIgwCZyTV2Z1REEW8O4py0wsjeloKoMr6iCY6dP92H6Vw/oTyICIthibxjm/DfN9lVz8IqtqKYLUXfoKVMVQVVJOElGjrnnUt9T9wbgp8AyYKaGlqingHZU/uG2NTZSVqwHQTWkx9hxjkpWDaCg6Ckj5qebgBVbT3V3NNXMSiWSDdGV3hrtzla7J+duwPOToIg42ChPQOQjspnSlp1V+Gjdged7+8UN5CRAV7a5EdFNwCjEaBR27b3W890TE7g24NAP/mMDXRWrGoFPQI9ls/MWO2dWFAar/xcOIImbbpA3zgAAAABJRU5ErkJggg==);\n",
       "        }\n",
       "    </style>\n",
       "    <div>\n",
       "        <a href=\"https://bokeh.org\" target=\"_blank\" class=\"bk-notebook-logo\"></a>\n",
       "        <span id=\"p1188\">Loading BokehJS ...</span>\n",
       "    </div>\n"
      ]
     },
     "metadata": {},
     "output_type": "display_data"
    },
    {
     "data": {
      "application/javascript": [
       "(function(root) {\n",
       "  function now() {\n",
       "    return new Date();\n",
       "  }\n",
       "\n",
       "  const force = true;\n",
       "\n",
       "  if (typeof root._bokeh_onload_callbacks === \"undefined\" || force === true) {\n",
       "    root._bokeh_onload_callbacks = [];\n",
       "    root._bokeh_is_loading = undefined;\n",
       "  }\n",
       "\n",
       "const JS_MIME_TYPE = 'application/javascript';\n",
       "  const HTML_MIME_TYPE = 'text/html';\n",
       "  const EXEC_MIME_TYPE = 'application/vnd.bokehjs_exec.v0+json';\n",
       "  const CLASS_NAME = 'output_bokeh rendered_html';\n",
       "\n",
       "  /**\n",
       "   * Render data to the DOM node\n",
       "   */\n",
       "  function render(props, node) {\n",
       "    const script = document.createElement(\"script\");\n",
       "    node.appendChild(script);\n",
       "  }\n",
       "\n",
       "  /**\n",
       "   * Handle when an output is cleared or removed\n",
       "   */\n",
       "  function handleClearOutput(event, handle) {\n",
       "    const cell = handle.cell;\n",
       "\n",
       "    const id = cell.output_area._bokeh_element_id;\n",
       "    const server_id = cell.output_area._bokeh_server_id;\n",
       "    // Clean up Bokeh references\n",
       "    if (id != null && id in Bokeh.index) {\n",
       "      Bokeh.index[id].model.document.clear();\n",
       "      delete Bokeh.index[id];\n",
       "    }\n",
       "\n",
       "    if (server_id !== undefined) {\n",
       "      // Clean up Bokeh references\n",
       "      const cmd_clean = \"from bokeh.io.state import curstate; print(curstate().uuid_to_server['\" + server_id + \"'].get_sessions()[0].document.roots[0]._id)\";\n",
       "      cell.notebook.kernel.execute(cmd_clean, {\n",
       "        iopub: {\n",
       "          output: function(msg) {\n",
       "            const id = msg.content.text.trim();\n",
       "            if (id in Bokeh.index) {\n",
       "              Bokeh.index[id].model.document.clear();\n",
       "              delete Bokeh.index[id];\n",
       "            }\n",
       "          }\n",
       "        }\n",
       "      });\n",
       "      // Destroy server and session\n",
       "      const cmd_destroy = \"import bokeh.io.notebook as ion; ion.destroy_server('\" + server_id + \"')\";\n",
       "      cell.notebook.kernel.execute(cmd_destroy);\n",
       "    }\n",
       "  }\n",
       "\n",
       "  /**\n",
       "   * Handle when a new output is added\n",
       "   */\n",
       "  function handleAddOutput(event, handle) {\n",
       "    const output_area = handle.output_area;\n",
       "    const output = handle.output;\n",
       "\n",
       "    // limit handleAddOutput to display_data with EXEC_MIME_TYPE content only\n",
       "    if ((output.output_type != \"display_data\") || (!Object.prototype.hasOwnProperty.call(output.data, EXEC_MIME_TYPE))) {\n",
       "      return\n",
       "    }\n",
       "\n",
       "    const toinsert = output_area.element.find(\".\" + CLASS_NAME.split(' ')[0]);\n",
       "\n",
       "    if (output.metadata[EXEC_MIME_TYPE][\"id\"] !== undefined) {\n",
       "      toinsert[toinsert.length - 1].firstChild.textContent = output.data[JS_MIME_TYPE];\n",
       "      // store reference to embed id on output_area\n",
       "      output_area._bokeh_element_id = output.metadata[EXEC_MIME_TYPE][\"id\"];\n",
       "    }\n",
       "    if (output.metadata[EXEC_MIME_TYPE][\"server_id\"] !== undefined) {\n",
       "      const bk_div = document.createElement(\"div\");\n",
       "      bk_div.innerHTML = output.data[HTML_MIME_TYPE];\n",
       "      const script_attrs = bk_div.children[0].attributes;\n",
       "      for (let i = 0; i < script_attrs.length; i++) {\n",
       "        toinsert[toinsert.length - 1].firstChild.setAttribute(script_attrs[i].name, script_attrs[i].value);\n",
       "        toinsert[toinsert.length - 1].firstChild.textContent = bk_div.children[0].textContent\n",
       "      }\n",
       "      // store reference to server id on output_area\n",
       "      output_area._bokeh_server_id = output.metadata[EXEC_MIME_TYPE][\"server_id\"];\n",
       "    }\n",
       "  }\n",
       "\n",
       "  function register_renderer(events, OutputArea) {\n",
       "\n",
       "    function append_mime(data, metadata, element) {\n",
       "      // create a DOM node to render to\n",
       "      const toinsert = this.create_output_subarea(\n",
       "        metadata,\n",
       "        CLASS_NAME,\n",
       "        EXEC_MIME_TYPE\n",
       "      );\n",
       "      this.keyboard_manager.register_events(toinsert);\n",
       "      // Render to node\n",
       "      const props = {data: data, metadata: metadata[EXEC_MIME_TYPE]};\n",
       "      render(props, toinsert[toinsert.length - 1]);\n",
       "      element.append(toinsert);\n",
       "      return toinsert\n",
       "    }\n",
       "\n",
       "    /* Handle when an output is cleared or removed */\n",
       "    events.on('clear_output.CodeCell', handleClearOutput);\n",
       "    events.on('delete.Cell', handleClearOutput);\n",
       "\n",
       "    /* Handle when a new output is added */\n",
       "    events.on('output_added.OutputArea', handleAddOutput);\n",
       "\n",
       "    /**\n",
       "     * Register the mime type and append_mime function with output_area\n",
       "     */\n",
       "    OutputArea.prototype.register_mime_type(EXEC_MIME_TYPE, append_mime, {\n",
       "      /* Is output safe? */\n",
       "      safe: true,\n",
       "      /* Index of renderer in `output_area.display_order` */\n",
       "      index: 0\n",
       "    });\n",
       "  }\n",
       "\n",
       "  // register the mime type if in Jupyter Notebook environment and previously unregistered\n",
       "  if (root.Jupyter !== undefined) {\n",
       "    const events = require('base/js/events');\n",
       "    const OutputArea = require('notebook/js/outputarea').OutputArea;\n",
       "\n",
       "    if (OutputArea.prototype.mime_types().indexOf(EXEC_MIME_TYPE) == -1) {\n",
       "      register_renderer(events, OutputArea);\n",
       "    }\n",
       "  }\n",
       "  if (typeof (root._bokeh_timeout) === \"undefined\" || force === true) {\n",
       "    root._bokeh_timeout = Date.now() + 5000;\n",
       "    root._bokeh_failed_load = false;\n",
       "  }\n",
       "\n",
       "  const NB_LOAD_WARNING = {'data': {'text/html':\n",
       "     \"<div style='background-color: #fdd'>\\n\"+\n",
       "     \"<p>\\n\"+\n",
       "     \"BokehJS does not appear to have successfully loaded. If loading BokehJS from CDN, this \\n\"+\n",
       "     \"may be due to a slow or bad network connection. Possible fixes:\\n\"+\n",
       "     \"</p>\\n\"+\n",
       "     \"<ul>\\n\"+\n",
       "     \"<li>re-rerun `output_notebook()` to attempt to load from CDN again, or</li>\\n\"+\n",
       "     \"<li>use INLINE resources instead, as so:</li>\\n\"+\n",
       "     \"</ul>\\n\"+\n",
       "     \"<code>\\n\"+\n",
       "     \"from bokeh.resources import INLINE\\n\"+\n",
       "     \"output_notebook(resources=INLINE)\\n\"+\n",
       "     \"</code>\\n\"+\n",
       "     \"</div>\"}};\n",
       "\n",
       "  function display_loaded() {\n",
       "    const el = document.getElementById(\"p1188\");\n",
       "    if (el != null) {\n",
       "      el.textContent = \"BokehJS is loading...\";\n",
       "    }\n",
       "    if (root.Bokeh !== undefined) {\n",
       "      if (el != null) {\n",
       "        el.textContent = \"BokehJS \" + root.Bokeh.version + \" successfully loaded.\";\n",
       "      }\n",
       "    } else if (Date.now() < root._bokeh_timeout) {\n",
       "      setTimeout(display_loaded, 100)\n",
       "    }\n",
       "  }\n",
       "\n",
       "  function run_callbacks() {\n",
       "    try {\n",
       "      root._bokeh_onload_callbacks.forEach(function(callback) {\n",
       "        if (callback != null)\n",
       "          callback();\n",
       "      });\n",
       "    } finally {\n",
       "      delete root._bokeh_onload_callbacks\n",
       "    }\n",
       "    console.debug(\"Bokeh: all callbacks have finished\");\n",
       "  }\n",
       "\n",
       "  function load_libs(css_urls, js_urls, callback) {\n",
       "    if (css_urls == null) css_urls = [];\n",
       "    if (js_urls == null) js_urls = [];\n",
       "\n",
       "    root._bokeh_onload_callbacks.push(callback);\n",
       "    if (root._bokeh_is_loading > 0) {\n",
       "      console.debug(\"Bokeh: BokehJS is being loaded, scheduling callback at\", now());\n",
       "      return null;\n",
       "    }\n",
       "    if (js_urls == null || js_urls.length === 0) {\n",
       "      run_callbacks();\n",
       "      return null;\n",
       "    }\n",
       "    console.debug(\"Bokeh: BokehJS not loaded, scheduling load and callback at\", now());\n",
       "    root._bokeh_is_loading = css_urls.length + js_urls.length;\n",
       "\n",
       "    function on_load() {\n",
       "      root._bokeh_is_loading--;\n",
       "      if (root._bokeh_is_loading === 0) {\n",
       "        console.debug(\"Bokeh: all BokehJS libraries/stylesheets loaded\");\n",
       "        run_callbacks()\n",
       "      }\n",
       "    }\n",
       "\n",
       "    function on_error(url) {\n",
       "      console.error(\"failed to load \" + url);\n",
       "    }\n",
       "\n",
       "    for (let i = 0; i < css_urls.length; i++) {\n",
       "      const url = css_urls[i];\n",
       "      const element = document.createElement(\"link\");\n",
       "      element.onload = on_load;\n",
       "      element.onerror = on_error.bind(null, url);\n",
       "      element.rel = \"stylesheet\";\n",
       "      element.type = \"text/css\";\n",
       "      element.href = url;\n",
       "      console.debug(\"Bokeh: injecting link tag for BokehJS stylesheet: \", url);\n",
       "      document.body.appendChild(element);\n",
       "    }\n",
       "\n",
       "    for (let i = 0; i < js_urls.length; i++) {\n",
       "      const url = js_urls[i];\n",
       "      const element = document.createElement('script');\n",
       "      element.onload = on_load;\n",
       "      element.onerror = on_error.bind(null, url);\n",
       "      element.async = false;\n",
       "      element.src = url;\n",
       "      console.debug(\"Bokeh: injecting script tag for BokehJS library: \", url);\n",
       "      document.head.appendChild(element);\n",
       "    }\n",
       "  };\n",
       "\n",
       "  function inject_raw_css(css) {\n",
       "    const element = document.createElement(\"style\");\n",
       "    element.appendChild(document.createTextNode(css));\n",
       "    document.body.appendChild(element);\n",
       "  }\n",
       "\n",
       "  const js_urls = [\"https://cdn.bokeh.org/bokeh/release/bokeh-3.1.0.min.js\", \"https://cdn.bokeh.org/bokeh/release/bokeh-gl-3.1.0.min.js\", \"https://cdn.bokeh.org/bokeh/release/bokeh-widgets-3.1.0.min.js\", \"https://cdn.bokeh.org/bokeh/release/bokeh-tables-3.1.0.min.js\", \"https://cdn.bokeh.org/bokeh/release/bokeh-mathjax-3.1.0.min.js\"];\n",
       "  const css_urls = [];\n",
       "\n",
       "  const inline_js = [    function(Bokeh) {\n",
       "      Bokeh.set_log_level(\"info\");\n",
       "    },\n",
       "function(Bokeh) {\n",
       "    }\n",
       "  ];\n",
       "\n",
       "  function run_inline_js() {\n",
       "    if (root.Bokeh !== undefined || force === true) {\n",
       "          for (let i = 0; i < inline_js.length; i++) {\n",
       "      inline_js[i].call(root, root.Bokeh);\n",
       "    }\n",
       "if (force === true) {\n",
       "        display_loaded();\n",
       "      }} else if (Date.now() < root._bokeh_timeout) {\n",
       "      setTimeout(run_inline_js, 100);\n",
       "    } else if (!root._bokeh_failed_load) {\n",
       "      console.log(\"Bokeh: BokehJS failed to load within specified timeout.\");\n",
       "      root._bokeh_failed_load = true;\n",
       "    } else if (force !== true) {\n",
       "      const cell = $(document.getElementById(\"p1188\")).parents('.cell').data().cell;\n",
       "      cell.output_area.append_execute_result(NB_LOAD_WARNING)\n",
       "    }\n",
       "  }\n",
       "\n",
       "  if (root._bokeh_is_loading === 0) {\n",
       "    console.debug(\"Bokeh: BokehJS loaded, going straight to plotting\");\n",
       "    run_inline_js();\n",
       "  } else {\n",
       "    load_libs(css_urls, js_urls, function() {\n",
       "      console.debug(\"Bokeh: BokehJS plotting callback run at\", now());\n",
       "      run_inline_js();\n",
       "    });\n",
       "  }\n",
       "}(window));"
      ],
      "application/vnd.bokehjs_load.v0+json": "(function(root) {\n  function now() {\n    return new Date();\n  }\n\n  const force = true;\n\n  if (typeof root._bokeh_onload_callbacks === \"undefined\" || force === true) {\n    root._bokeh_onload_callbacks = [];\n    root._bokeh_is_loading = undefined;\n  }\n\n\n  if (typeof (root._bokeh_timeout) === \"undefined\" || force === true) {\n    root._bokeh_timeout = Date.now() + 5000;\n    root._bokeh_failed_load = false;\n  }\n\n  const NB_LOAD_WARNING = {'data': {'text/html':\n     \"<div style='background-color: #fdd'>\\n\"+\n     \"<p>\\n\"+\n     \"BokehJS does not appear to have successfully loaded. If loading BokehJS from CDN, this \\n\"+\n     \"may be due to a slow or bad network connection. Possible fixes:\\n\"+\n     \"</p>\\n\"+\n     \"<ul>\\n\"+\n     \"<li>re-rerun `output_notebook()` to attempt to load from CDN again, or</li>\\n\"+\n     \"<li>use INLINE resources instead, as so:</li>\\n\"+\n     \"</ul>\\n\"+\n     \"<code>\\n\"+\n     \"from bokeh.resources import INLINE\\n\"+\n     \"output_notebook(resources=INLINE)\\n\"+\n     \"</code>\\n\"+\n     \"</div>\"}};\n\n  function display_loaded() {\n    const el = document.getElementById(\"p1188\");\n    if (el != null) {\n      el.textContent = \"BokehJS is loading...\";\n    }\n    if (root.Bokeh !== undefined) {\n      if (el != null) {\n        el.textContent = \"BokehJS \" + root.Bokeh.version + \" successfully loaded.\";\n      }\n    } else if (Date.now() < root._bokeh_timeout) {\n      setTimeout(display_loaded, 100)\n    }\n  }\n\n  function run_callbacks() {\n    try {\n      root._bokeh_onload_callbacks.forEach(function(callback) {\n        if (callback != null)\n          callback();\n      });\n    } finally {\n      delete root._bokeh_onload_callbacks\n    }\n    console.debug(\"Bokeh: all callbacks have finished\");\n  }\n\n  function load_libs(css_urls, js_urls, callback) {\n    if (css_urls == null) css_urls = [];\n    if (js_urls == null) js_urls = [];\n\n    root._bokeh_onload_callbacks.push(callback);\n    if (root._bokeh_is_loading > 0) {\n      console.debug(\"Bokeh: BokehJS is being loaded, scheduling callback at\", now());\n      return null;\n    }\n    if (js_urls == null || js_urls.length === 0) {\n      run_callbacks();\n      return null;\n    }\n    console.debug(\"Bokeh: BokehJS not loaded, scheduling load and callback at\", now());\n    root._bokeh_is_loading = css_urls.length + js_urls.length;\n\n    function on_load() {\n      root._bokeh_is_loading--;\n      if (root._bokeh_is_loading === 0) {\n        console.debug(\"Bokeh: all BokehJS libraries/stylesheets loaded\");\n        run_callbacks()\n      }\n    }\n\n    function on_error(url) {\n      console.error(\"failed to load \" + url);\n    }\n\n    for (let i = 0; i < css_urls.length; i++) {\n      const url = css_urls[i];\n      const element = document.createElement(\"link\");\n      element.onload = on_load;\n      element.onerror = on_error.bind(null, url);\n      element.rel = \"stylesheet\";\n      element.type = \"text/css\";\n      element.href = url;\n      console.debug(\"Bokeh: injecting link tag for BokehJS stylesheet: \", url);\n      document.body.appendChild(element);\n    }\n\n    for (let i = 0; i < js_urls.length; i++) {\n      const url = js_urls[i];\n      const element = document.createElement('script');\n      element.onload = on_load;\n      element.onerror = on_error.bind(null, url);\n      element.async = false;\n      element.src = url;\n      console.debug(\"Bokeh: injecting script tag for BokehJS library: \", url);\n      document.head.appendChild(element);\n    }\n  };\n\n  function inject_raw_css(css) {\n    const element = document.createElement(\"style\");\n    element.appendChild(document.createTextNode(css));\n    document.body.appendChild(element);\n  }\n\n  const js_urls = [\"https://cdn.bokeh.org/bokeh/release/bokeh-3.1.0.min.js\", \"https://cdn.bokeh.org/bokeh/release/bokeh-gl-3.1.0.min.js\", \"https://cdn.bokeh.org/bokeh/release/bokeh-widgets-3.1.0.min.js\", \"https://cdn.bokeh.org/bokeh/release/bokeh-tables-3.1.0.min.js\", \"https://cdn.bokeh.org/bokeh/release/bokeh-mathjax-3.1.0.min.js\"];\n  const css_urls = [];\n\n  const inline_js = [    function(Bokeh) {\n      Bokeh.set_log_level(\"info\");\n    },\nfunction(Bokeh) {\n    }\n  ];\n\n  function run_inline_js() {\n    if (root.Bokeh !== undefined || force === true) {\n          for (let i = 0; i < inline_js.length; i++) {\n      inline_js[i].call(root, root.Bokeh);\n    }\nif (force === true) {\n        display_loaded();\n      }} else if (Date.now() < root._bokeh_timeout) {\n      setTimeout(run_inline_js, 100);\n    } else if (!root._bokeh_failed_load) {\n      console.log(\"Bokeh: BokehJS failed to load within specified timeout.\");\n      root._bokeh_failed_load = true;\n    } else if (force !== true) {\n      const cell = $(document.getElementById(\"p1188\")).parents('.cell').data().cell;\n      cell.output_area.append_execute_result(NB_LOAD_WARNING)\n    }\n  }\n\n  if (root._bokeh_is_loading === 0) {\n    console.debug(\"Bokeh: BokehJS loaded, going straight to plotting\");\n    run_inline_js();\n  } else {\n    load_libs(css_urls, js_urls, function() {\n      console.debug(\"Bokeh: BokehJS plotting callback run at\", now());\n      run_inline_js();\n    });\n  }\n}(window));"
     },
     "metadata": {},
     "output_type": "display_data"
    },
    {
     "data": {
      "application/vnd.bokehjs_exec.v0+json": "",
      "text/html": [
       "<script id=\"p1189\">\n",
       "  (function() {\n",
       "    const xhr = new XMLHttpRequest()\n",
       "    xhr.responseType = 'blob';\n",
       "    xhr.open('GET', \"http://localhost:37397/autoload.js?bokeh-autoload-element=p1189&bokeh-absolute-url=http://localhost:37397&resources=none\", true);\n",
       "    xhr.onload = function (event) {\n",
       "      const script = document.createElement('script');\n",
       "      const src = URL.createObjectURL(event.target.response);\n",
       "      script.src = src;\n",
       "      document.body.appendChild(script);\n",
       "    };\n",
       "    xhr.send();\n",
       "  })();\n",
       "</script>"
      ]
     },
     "metadata": {
      "application/vnd.bokehjs_exec.v0+json": {
       "server_id": "8e0c5dad97354f07bd4f18484a9b133e"
      }
     },
     "output_type": "display_data"
    }
   ],
   "source": [
    "from bokeh.io import show, output_notebook\n",
    "\n",
    "output_notebook()\n",
    "\n",
    "dashboard = detection_res.dashboard()\n",
    "show(dashboard)"
   ]
  },
  {
   "cell_type": "markdown",
   "id": "f7a8993b-34af-4ce9-b365-927187ed6878",
   "metadata": {},
   "source": [
    "## Experiment with global importance of concept-keywords"
   ]
  },
  {
   "cell_type": "code",
   "execution_count": 160,
   "id": "c2bcf804-623d-4708-b970-2fd4fa7bb24e",
   "metadata": {},
   "outputs": [],
   "source": [
    "from biaslyze.concept_detectors import KeywordConceptDetector\n",
    "from biaslyze.evaluators import LimeBiasEvaluator, MaskedBiasEvaluator\n",
    "from tqdm import tqdm\n",
    "from biaslyze.concepts import CONCEPTS\n",
    "import matplotlib.pyplot as plt"
   ]
  },
  {
   "cell_type": "code",
   "execution_count": 161,
   "id": "17a56469-758c-4bbb-b15a-ddb815594c74",
   "metadata": {},
   "outputs": [],
   "source": [
    "key_detect = KeywordConceptDetector()"
   ]
  },
  {
   "cell_type": "code",
   "execution_count": 162,
   "id": "ea7d33b5-91d1-4fbf-a5bc-19e575138cfa",
   "metadata": {},
   "outputs": [
    {
     "name": "stderr",
     "output_type": "stream",
     "text": [
      "2023-04-21 16:09:37.316 | INFO     | biaslyze.concept_detectors:detect:33 - Started keyword-based concept detection on 159571 texts...\n",
      "100%|██████████████████████████████████████████████████████████████████████████████████████████████████████████████████████████████████████████████████████████████████████████| 159571/159571 [00:04<00:00, 38637.34it/s]\n",
      "2023-04-21 16:09:41.453 | INFO     | biaslyze.concept_detectors:detect:49 - Done. Found 137246 texts with protected concepts.\n"
     ]
    }
   ],
   "source": [
    "detected_texts = key_detect.detect(texts=df.comment_text)"
   ]
  },
  {
   "cell_type": "code",
   "execution_count": 163,
   "id": "eb9dcb70-8721-4bfb-a210-c8b1adc08abc",
   "metadata": {},
   "outputs": [
    {
     "data": {
      "text/plain": [
       "137246"
      ]
     },
     "execution_count": 163,
     "metadata": {},
     "output_type": "execute_result"
    }
   ],
   "source": [
    "len(detected_texts)"
   ]
  },
  {
   "cell_type": "code",
   "execution_count": 164,
   "id": "f1986ea9-78f7-4849-904f-1880edbe6c1f",
   "metadata": {
    "scrolled": true,
    "tags": []
   },
   "outputs": [
    {
     "data": {
      "text/plain": [
       "\"Explanation\\nWhy the edits made under my username Hardcore Metallica Fan were reverted? They weren't vandalisms, just closure on some GAs after I voted at New York Dolls FAC. And please don't remove the template from the talk page since I'm retired now.89.205.38.27\""
      ]
     },
     "execution_count": 164,
     "metadata": {},
     "output_type": "execute_result"
    }
   ],
   "source": [
    "detected_texts[0]"
   ]
  },
  {
   "cell_type": "code",
   "execution_count": 165,
   "id": "474828da-934b-4d06-9695-09a312202055",
   "metadata": {
    "tags": []
   },
   "outputs": [],
   "source": [
    "class Sample:\n",
    "    def __init__(self, text: str, keyword: str, concept: str):\n",
    "        self.text = text\n",
    "        self.keyword = keyword\n",
    "        self.concept = concept\n",
    "    \n",
    "    def __repr__(self):\n",
    "        return f\"concept={self.concept}; keyword={self.keyword}; text={self.text}\""
   ]
  },
  {
   "cell_type": "code",
   "execution_count": 166,
   "id": "7c77a828-a4f5-45c8-ab7b-10a0f6a8b7a8",
   "metadata": {
    "tags": []
   },
   "outputs": [
    {
     "name": "stderr",
     "output_type": "stream",
     "text": [
      "100%|███████████████████████████████████████████████████████████████████████████████████████████████████████████████████████████████████████████████████████████████████████████████| 10000/10000 [02:02<00:00, 81.48it/s]\n"
     ]
    }
   ],
   "source": [
    "bias_eval = MaskedBiasEvaluator()\n",
    "samples = []\n",
    "\n",
    "concept = \"gender\"\n",
    "for text in tqdm(detected_texts[:10000]):\n",
    "    text_representation = bias_eval._tokenizer(text)\n",
    "    present_keywords = list(\n",
    "        keyword\n",
    "        for keyword in CONCEPTS[concept]\n",
    "        if keyword in (token.text.lower() for token in text_representation)\n",
    "    )\n",
    "    if present_keywords:\n",
    "        for keyword in present_keywords:\n",
    "            samples.append(\n",
    "                Sample(\n",
    "                    text=text,\n",
    "                    keyword=keyword,\n",
    "                    concept=concept,                    \n",
    "                )\n",
    "            )"
   ]
  },
  {
   "cell_type": "code",
   "execution_count": 167,
   "id": "9728a162-7f52-4c67-88aa-1051c4979bc1",
   "metadata": {
    "tags": []
   },
   "outputs": [
    {
     "data": {
      "text/plain": [
       "3835"
      ]
     },
     "execution_count": 167,
     "metadata": {},
     "output_type": "execute_result"
    }
   ],
   "source": [
    "len(samples)"
   ]
  },
  {
   "cell_type": "code",
   "execution_count": 180,
   "id": "b4321348-d2be-4a4e-af76-ca5081476e2c",
   "metadata": {
    "tags": []
   },
   "outputs": [],
   "source": [
    "def calculate_sense_score(bias_keyword: str):\n",
    "    # change the text for all of them and predict\n",
    "    original_scores = clf.predict_proba([sample.text for sample in samples])[:,1]\n",
    "    replaced_texts = []\n",
    "    for sample in tqdm(samples):\n",
    "        text_representation = bias_eval._tokenizer(sample.text)\n",
    "        resampled_text = \"\".join(\n",
    "            [\n",
    "                bias_keyword + token.whitespace_\n",
    "                if token.text.lower() == sample.keyword.lower()\n",
    "                else token.text + token.whitespace_\n",
    "                for token in text_representation\n",
    "            ]\n",
    "        )\n",
    "        replaced_texts.append(resampled_text)\n",
    "    predicted_scores = clf.predict_proba(replaced_texts)[:,1]\n",
    "    \n",
    "    #print(f\"SenseScore: {np.mean(np.array(original_scores) - np.array(predicted_scores)):.5}\")\n",
    "    return original_scores, predicted_scores"
   ]
  },
  {
   "cell_type": "code",
   "execution_count": 177,
   "id": "055aa8bb-d65b-44e3-a86f-c1d1c2db9f52",
   "metadata": {
    "tags": []
   },
   "outputs": [
    {
     "name": "stderr",
     "output_type": "stream",
     "text": [
      "100%|█████████████████████████████████████████████████████████████████████████████████████████████████████████████████████████████████████████████████████████████████████████████████| 3835/3835 [01:03<00:00, 60.45it/s]\n"
     ]
    },
    {
     "name": "stdout",
     "output_type": "stream",
     "text": [
      "SenseScore: -0.040216\n"
     ]
    }
   ],
   "source": [
    "bias_keyword = \"mother\"\n",
    "\n",
    "original_scores, predicted_scores = calculate_sense_score(bias_keyword)\n",
    "print(f\"SenseScore: {np.mean(np.array(original_scores) - np.array(predicted_scores)):.5}\")"
   ]
  },
  {
   "cell_type": "code",
   "execution_count": 172,
   "id": "8152862b-d935-4642-9b5b-ac6394993011",
   "metadata": {
    "tags": []
   },
   "outputs": [
    {
     "data": {
      "image/png": "[encoded data removed]",
      "text/plain": [
       "<Figure size 640x480 with 1 Axes>"
      ]
     },
     "metadata": {},
     "output_type": "display_data"
    }
   ],
   "source": [
    "plt.hist(np.array(original_scores) - np.array(predicted_scores));"
   ]
  },
  {
   "cell_type": "code",
   "execution_count": 179,
   "id": "ebfba65d-cb36-4128-bfc8-039016a206a1",
   "metadata": {
    "tags": []
   },
   "outputs": [
    {
     "name": "stderr",
     "output_type": "stream",
     "text": [
      "100%|█████████████████████████████████████████████████████████████████████████████████████████████████████████████████████████████████████████████████████████████████████████████████| 3835/3835 [01:01<00:00, 62.05it/s]\n"
     ]
    },
    {
     "name": "stdout",
     "output_type": "stream",
     "text": [
      "SenseScore: 0.01303\n",
      "SenseScore: 0.01303\n"
     ]
    },
    {
     "data": {
      "image/png": "[encoded data removed]",
      "text/plain": [
       "<Figure size 640x480 with 1 Axes>"
      ]
     },
     "metadata": {},
     "output_type": "display_data"
    }
   ],
   "source": [
    "bias_keyword = \"father\"\n",
    "\n",
    "original_scores, predicted_scores = calculate_sense_score(bias_keyword)\n",
    "print(f\"SenseScore: {np.mean(np.array(original_scores) - np.array(predicted_scores)):.5}\")\n",
    "\n",
    "plt.hist(np.array(original_scores) - np.array(predicted_scores));"
   ]
  },
  {
   "cell_type": "code",
   "execution_count": 183,
   "id": "b886449e-92f6-4c25-ae3e-b4392377339b",
   "metadata": {
    "tags": []
   },
   "outputs": [
    {
     "name": "stderr",
     "output_type": "stream",
     "text": [
      "100%|█████████████████████████████████████████████████████████████████████████████████████████████████████████████████████████████████████████████████████████████████████████████████| 3835/3835 [01:12<00:00, 53.01it/s]\n",
      "100%|█████████████████████████████████████████████████████████████████████████████████████████████████████████████████████████████████████████████████████████████████████████████████| 3835/3835 [01:12<00:00, 52.63it/s]\n",
      "100%|█████████████████████████████████████████████████████████████████████████████████████████████████████████████████████████████████████████████████████████████████████████████████| 3835/3835 [01:14<00:00, 51.45it/s]\n",
      "100%|█████████████████████████████████████████████████████████████████████████████████████████████████████████████████████████████████████████████████████████████████████████████████| 3835/3835 [01:12<00:00, 52.91it/s]\n",
      "100%|█████████████████████████████████████████████████████████████████████████████████████████████████████████████████████████████████████████████████████████████████████████████████| 3835/3835 [01:12<00:00, 52.99it/s]\n",
      "100%|█████████████████████████████████████████████████████████████████████████████████████████████████████████████████████████████████████████████████████████████████████████████████| 3835/3835 [01:12<00:00, 52.95it/s]\n",
      "100%|█████████████████████████████████████████████████████████████████████████████████████████████████████████████████████████████████████████████████████████████████████████████████| 3835/3835 [01:12<00:00, 53.13it/s]\n",
      "100%|█████████████████████████████████████████████████████████████████████████████████████████████████████████████████████████████████████████████████████████████████████████████████| 3835/3835 [01:12<00:00, 53.13it/s]\n",
      "100%|█████████████████████████████████████████████████████████████████████████████████████████████████████████████████████████████████████████████████████████████████████████████████| 3835/3835 [01:11<00:00, 53.31it/s]\n",
      "100%|█████████████████████████████████████████████████████████████████████████████████████████████████████████████████████████████████████████████████████████████████████████████████| 3835/3835 [01:11<00:00, 53.26it/s]\n",
      "100%|█████████████████████████████████████████████████████████████████████████████████████████████████████████████████████████████████████████████████████████████████████████████████| 3835/3835 [01:10<00:00, 54.03it/s]\n",
      "100%|█████████████████████████████████████████████████████████████████████████████████████████████████████████████████████████████████████████████████████████████████████████████████| 3835/3835 [01:11<00:00, 53.38it/s]\n",
      "100%|█████████████████████████████████████████████████████████████████████████████████████████████████████████████████████████████████████████████████████████████████████████████████| 3835/3835 [01:11<00:00, 53.55it/s]\n",
      "100%|█████████████████████████████████████████████████████████████████████████████████████████████████████████████████████████████████████████████████████████████████████████████████| 3835/3835 [01:16<00:00, 50.36it/s]\n"
     ]
    },
    {
     "ename": "KeyboardInterrupt",
     "evalue": "",
     "output_type": "error",
     "traceback": [
      "\u001b[0;31m---------------------------------------------------------------------------\u001b[0m",
      "\u001b[0;31mKeyboardInterrupt\u001b[0m                         Traceback (most recent call last)",
      "Cell \u001b[0;32mIn[183], line 4\u001b[0m\n\u001b[1;32m      1\u001b[0m score_dict \u001b[38;5;241m=\u001b[39m \u001b[38;5;28mdict\u001b[39m()\n\u001b[1;32m      3\u001b[0m \u001b[38;5;28;01mfor\u001b[39;00m keyword \u001b[38;5;129;01min\u001b[39;00m CONCEPTS[concept]:\n\u001b[0;32m----> 4\u001b[0m     original_scores, predicted_scores \u001b[38;5;241m=\u001b[39m \u001b[43mcalculate_sense_score\u001b[49m\u001b[43m(\u001b[49m\u001b[43mbias_keyword\u001b[49m\u001b[38;5;241;43m=\u001b[39;49m\u001b[43mkeyword\u001b[49m\u001b[43m)\u001b[49m\n\u001b[1;32m      5\u001b[0m     score \u001b[38;5;241m=\u001b[39m np\u001b[38;5;241m.\u001b[39mmean(np\u001b[38;5;241m.\u001b[39marray(original_scores) \u001b[38;5;241m-\u001b[39m np\u001b[38;5;241m.\u001b[39marray(predicted_scores))\n\u001b[1;32m      6\u001b[0m     score_dict[keyword] \u001b[38;5;241m=\u001b[39m score\n",
      "Cell \u001b[0;32mIn[180], line 16\u001b[0m, in \u001b[0;36mcalculate_sense_score\u001b[0;34m(bias_keyword)\u001b[0m\n\u001b[1;32m      7\u001b[0m     resampled_text \u001b[38;5;241m=\u001b[39m \u001b[38;5;124m\"\u001b[39m\u001b[38;5;124m\"\u001b[39m\u001b[38;5;241m.\u001b[39mjoin(\n\u001b[1;32m      8\u001b[0m         [\n\u001b[1;32m      9\u001b[0m             bias_keyword \u001b[38;5;241m+\u001b[39m token\u001b[38;5;241m.\u001b[39mwhitespace_\n\u001b[0;32m   (...)\u001b[0m\n\u001b[1;32m     13\u001b[0m         ]\n\u001b[1;32m     14\u001b[0m     )\n\u001b[1;32m     15\u001b[0m     replaced_texts\u001b[38;5;241m.\u001b[39mappend(resampled_text)\n\u001b[0;32m---> 16\u001b[0m predicted_scores \u001b[38;5;241m=\u001b[39m \u001b[43mclf\u001b[49m\u001b[38;5;241;43m.\u001b[39;49m\u001b[43mpredict_proba\u001b[49m\u001b[43m(\u001b[49m\u001b[43mreplaced_texts\u001b[49m\u001b[43m)\u001b[49m[:,\u001b[38;5;241m1\u001b[39m]\n\u001b[1;32m     18\u001b[0m \u001b[38;5;66;03m#print(f\"SenseScore: {np.mean(np.array(original_scores) - np.array(predicted_scores)):.5}\")\u001b[39;00m\n\u001b[1;32m     19\u001b[0m \u001b[38;5;28;01mreturn\u001b[39;00m original_scores, predicted_scores\n",
      "File \u001b[0;32m~/.cache/pypoetry/virtualenvs/biaslyze-OjqpgMw8-py3.10/lib/python3.10/site-packages/sklearn/pipeline.py:546\u001b[0m, in \u001b[0;36mPipeline.predict_proba\u001b[0;34m(self, X, **predict_proba_params)\u001b[0m\n\u001b[1;32m    544\u001b[0m Xt \u001b[38;5;241m=\u001b[39m X\n\u001b[1;32m    545\u001b[0m \u001b[38;5;28;01mfor\u001b[39;00m _, name, transform \u001b[38;5;129;01min\u001b[39;00m \u001b[38;5;28mself\u001b[39m\u001b[38;5;241m.\u001b[39m_iter(with_final\u001b[38;5;241m=\u001b[39m\u001b[38;5;28;01mFalse\u001b[39;00m):\n\u001b[0;32m--> 546\u001b[0m     Xt \u001b[38;5;241m=\u001b[39m \u001b[43mtransform\u001b[49m\u001b[38;5;241;43m.\u001b[39;49m\u001b[43mtransform\u001b[49m\u001b[43m(\u001b[49m\u001b[43mXt\u001b[49m\u001b[43m)\u001b[49m\n\u001b[1;32m    547\u001b[0m \u001b[38;5;28;01mreturn\u001b[39;00m \u001b[38;5;28mself\u001b[39m\u001b[38;5;241m.\u001b[39msteps[\u001b[38;5;241m-\u001b[39m\u001b[38;5;241m1\u001b[39m][\u001b[38;5;241m1\u001b[39m]\u001b[38;5;241m.\u001b[39mpredict_proba(Xt, \u001b[38;5;241m*\u001b[39m\u001b[38;5;241m*\u001b[39mpredict_proba_params)\n",
      "File \u001b[0;32m~/.cache/pypoetry/virtualenvs/biaslyze-OjqpgMw8-py3.10/lib/python3.10/site-packages/sklearn/feature_extraction/text.py:2157\u001b[0m, in \u001b[0;36mTfidfVectorizer.transform\u001b[0;34m(self, raw_documents)\u001b[0m\n\u001b[1;32m   2140\u001b[0m \u001b[38;5;250m\u001b[39m\u001b[38;5;124;03m\"\"\"Transform documents to document-term matrix.\u001b[39;00m\n\u001b[1;32m   2141\u001b[0m \n\u001b[1;32m   2142\u001b[0m \u001b[38;5;124;03mUses the vocabulary and document frequencies (df) learned by fit (or\u001b[39;00m\n\u001b[0;32m   (...)\u001b[0m\n\u001b[1;32m   2153\u001b[0m \u001b[38;5;124;03m    Tf-idf-weighted document-term matrix.\u001b[39;00m\n\u001b[1;32m   2154\u001b[0m \u001b[38;5;124;03m\"\"\"\u001b[39;00m\n\u001b[1;32m   2155\u001b[0m check_is_fitted(\u001b[38;5;28mself\u001b[39m, msg\u001b[38;5;241m=\u001b[39m\u001b[38;5;124m\"\u001b[39m\u001b[38;5;124mThe TF-IDF vectorizer is not fitted\u001b[39m\u001b[38;5;124m\"\u001b[39m)\n\u001b[0;32m-> 2157\u001b[0m X \u001b[38;5;241m=\u001b[39m \u001b[38;5;28;43msuper\u001b[39;49m\u001b[43m(\u001b[49m\u001b[43m)\u001b[49m\u001b[38;5;241;43m.\u001b[39;49m\u001b[43mtransform\u001b[49m\u001b[43m(\u001b[49m\u001b[43mraw_documents\u001b[49m\u001b[43m)\u001b[49m\n\u001b[1;32m   2158\u001b[0m \u001b[38;5;28;01mreturn\u001b[39;00m \u001b[38;5;28mself\u001b[39m\u001b[38;5;241m.\u001b[39m_tfidf\u001b[38;5;241m.\u001b[39mtransform(X, copy\u001b[38;5;241m=\u001b[39m\u001b[38;5;28;01mFalse\u001b[39;00m)\n",
      "File \u001b[0;32m~/.cache/pypoetry/virtualenvs/biaslyze-OjqpgMw8-py3.10/lib/python3.10/site-packages/sklearn/feature_extraction/text.py:1433\u001b[0m, in \u001b[0;36mCountVectorizer.transform\u001b[0;34m(self, raw_documents)\u001b[0m\n\u001b[1;32m   1430\u001b[0m \u001b[38;5;28mself\u001b[39m\u001b[38;5;241m.\u001b[39m_check_vocabulary()\n\u001b[1;32m   1432\u001b[0m \u001b[38;5;66;03m# use the same matrix-building strategy as fit_transform\u001b[39;00m\n\u001b[0;32m-> 1433\u001b[0m _, X \u001b[38;5;241m=\u001b[39m \u001b[38;5;28;43mself\u001b[39;49m\u001b[38;5;241;43m.\u001b[39;49m\u001b[43m_count_vocab\u001b[49m\u001b[43m(\u001b[49m\u001b[43mraw_documents\u001b[49m\u001b[43m,\u001b[49m\u001b[43m \u001b[49m\u001b[43mfixed_vocab\u001b[49m\u001b[38;5;241;43m=\u001b[39;49m\u001b[38;5;28;43;01mTrue\u001b[39;49;00m\u001b[43m)\u001b[49m\n\u001b[1;32m   1434\u001b[0m \u001b[38;5;28;01mif\u001b[39;00m \u001b[38;5;28mself\u001b[39m\u001b[38;5;241m.\u001b[39mbinary:\n\u001b[1;32m   1435\u001b[0m     X\u001b[38;5;241m.\u001b[39mdata\u001b[38;5;241m.\u001b[39mfill(\u001b[38;5;241m1\u001b[39m)\n",
      "File \u001b[0;32m~/.cache/pypoetry/virtualenvs/biaslyze-OjqpgMw8-py3.10/lib/python3.10/site-packages/sklearn/feature_extraction/text.py:1275\u001b[0m, in \u001b[0;36mCountVectorizer._count_vocab\u001b[0;34m(self, raw_documents, fixed_vocab)\u001b[0m\n\u001b[1;32m   1273\u001b[0m \u001b[38;5;28;01mfor\u001b[39;00m doc \u001b[38;5;129;01min\u001b[39;00m raw_documents:\n\u001b[1;32m   1274\u001b[0m     feature_counter \u001b[38;5;241m=\u001b[39m {}\n\u001b[0;32m-> 1275\u001b[0m     \u001b[38;5;28;01mfor\u001b[39;00m feature \u001b[38;5;129;01min\u001b[39;00m \u001b[43manalyze\u001b[49m\u001b[43m(\u001b[49m\u001b[43mdoc\u001b[49m\u001b[43m)\u001b[49m:\n\u001b[1;32m   1276\u001b[0m         \u001b[38;5;28;01mtry\u001b[39;00m:\n\u001b[1;32m   1277\u001b[0m             feature_idx \u001b[38;5;241m=\u001b[39m vocabulary[feature]\n",
      "File \u001b[0;32m~/.cache/pypoetry/virtualenvs/biaslyze-OjqpgMw8-py3.10/lib/python3.10/site-packages/sklearn/feature_extraction/text.py:113\u001b[0m, in \u001b[0;36m_analyze\u001b[0;34m(doc, analyzer, tokenizer, ngrams, preprocessor, decoder, stop_words)\u001b[0m\n\u001b[1;32m    111\u001b[0m     doc \u001b[38;5;241m=\u001b[39m preprocessor(doc)\n\u001b[1;32m    112\u001b[0m \u001b[38;5;28;01mif\u001b[39;00m tokenizer \u001b[38;5;129;01mis\u001b[39;00m \u001b[38;5;129;01mnot\u001b[39;00m \u001b[38;5;28;01mNone\u001b[39;00m:\n\u001b[0;32m--> 113\u001b[0m     doc \u001b[38;5;241m=\u001b[39m \u001b[43mtokenizer\u001b[49m\u001b[43m(\u001b[49m\u001b[43mdoc\u001b[49m\u001b[43m)\u001b[49m\n\u001b[1;32m    114\u001b[0m \u001b[38;5;28;01mif\u001b[39;00m ngrams \u001b[38;5;129;01mis\u001b[39;00m \u001b[38;5;129;01mnot\u001b[39;00m \u001b[38;5;28;01mNone\u001b[39;00m:\n\u001b[1;32m    115\u001b[0m     \u001b[38;5;28;01mif\u001b[39;00m stop_words \u001b[38;5;129;01mis\u001b[39;00m \u001b[38;5;129;01mnot\u001b[39;00m \u001b[38;5;28;01mNone\u001b[39;00m:\n",
      "\u001b[0;31mKeyboardInterrupt\u001b[0m: "
     ]
    }
   ],
   "source": [
    "score_dict = dict()\n",
    "\n",
    "for keyword in CONCEPTS[concept]:\n",
    "    original_scores, predicted_scores = calculate_sense_score(bias_keyword=keyword)\n",
    "    score = np.mean(np.array(original_scores) - np.array(predicted_scores))\n",
    "    score_dict[keyword] = score"
   ]
  },
  {
   "cell_type": "code",
   "execution_count": 184,
   "id": "efca9603-cf87-4d0c-b2fd-076fd8d5198f",
   "metadata": {
    "tags": []
   },
   "outputs": [
    {
     "data": {
      "text/plain": [
       "{'man': -0.00801048236048365,\n",
       " 'woman': -0.006516512464980522,\n",
       " 'women': -0.005903985390803168,\n",
       " 'he': 0.0041234315961383924,\n",
       " 'she': 0.004175374573390094,\n",
       " 'her': 0.004175374573390094,\n",
       " 'his': 0.004175374573390094,\n",
       " 'girl': -0.009347669510351236,\n",
       " 'boy': -0.008001428786771212,\n",
       " 'female': -0.0036401965690604945,\n",
       " 'lady': 0.0030159669117623598,\n",
       " 'ladies': 0.012816607453925054,\n",
       " 'gal': 0.004175374573390094}"
      ]
     },
     "execution_count": 184,
     "metadata": {},
     "output_type": "execute_result"
    }
   ],
   "source": [
    "score_dict"
   ]
  },
  {
   "cell_type": "code",
   "execution_count": null,
   "id": "75b7a32a-bbc8-41e9-84fd-cc13f8049b32",
   "metadata": {},
   "outputs": [],
   "source": []
  }
 ],
 "metadata": {
  "kernelspec": {
   "display_name": "Python 3 (ipykernel)",
   "language": "python",
   "name": "python3"
  },
  "language_info": {
   "codemirror_mode": {
    "name": "ipython",
    "version": 3
   },
   "file_extension": ".py",
   "mimetype": "text/x-python",
   "name": "python",
   "nbconvert_exporter": "python",
   "pygments_lexer": "ipython3",
   "version": "3.10.11"
  }
 },
 "nbformat": 4,
 "nbformat_minor": 5
}
