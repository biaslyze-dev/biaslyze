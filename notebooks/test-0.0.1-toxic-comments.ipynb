{
 "cells": [
  {
   "cell_type": "markdown",
   "id": "9ca7febe-a5e3-41c2-aa2b-a7e56db76969",
   "metadata": {},
   "source": [
    "# Test biaslyze with the toxic comments dataset\n",
    "\n",
    "Data source: https://www.kaggle.com/c/jigsaw-toxic-comment-classification-challenge"
   ]
  },
  {
   "cell_type": "code",
   "execution_count": 19,
   "id": "5bfdc6f1-6926-458d-b825-c37f12a2932e",
   "metadata": {},
   "outputs": [
    {
     "name": "stdout",
     "output_type": "stream",
     "text": [
      "The autoreload extension is already loaded. To reload it, use:\n",
      "  %reload_ext autoreload\n"
     ]
    }
   ],
   "source": [
    "%load_ext autoreload\n",
    "%autoreload 2"
   ]
  },
  {
   "cell_type": "code",
   "execution_count": 20,
   "id": "dd3f06ea-6bc8-4be9-8515-5771d1762a08",
   "metadata": {},
   "outputs": [],
   "source": [
    "import sys\n",
    "sys.path.append('/home/tobias/Repositories/biaslyze/')"
   ]
  },
  {
   "cell_type": "code",
   "execution_count": 21,
   "id": "136169e8-ffb7-4326-b387-3c0e8c9fddcf",
   "metadata": {},
   "outputs": [],
   "source": [
    "import numpy as np\n",
    "import pandas as pd\n",
    "from sklearn.feature_extraction.text import TfidfVectorizer\n",
    "from sklearn.linear_model import LogisticRegression\n",
    "from sklearn.pipeline import make_pipeline\n",
    "from sklearn.metrics import accuracy_score\n",
    "import matplotlib.pyplot as plt"
   ]
  },
  {
   "cell_type": "markdown",
   "id": "1831829c-9a99-48ff-a8aa-63044cce627a",
   "metadata": {},
   "source": [
    "## Load and prepare data"
   ]
  },
  {
   "cell_type": "code",
   "execution_count": 97,
   "id": "6cb0361b-9a49-48a8-89ba-79301470a39b",
   "metadata": {},
   "outputs": [
    {
     "data": {
      "text/html": [
       "<div>\n",
       "<style scoped>\n",
       "    .dataframe tbody tr th:only-of-type {\n",
       "        vertical-align: middle;\n",
       "    }\n",
       "\n",
       "    .dataframe tbody tr th {\n",
       "        vertical-align: top;\n",
       "    }\n",
       "\n",
       "    .dataframe thead th {\n",
       "        text-align: right;\n",
       "    }\n",
       "</style>\n",
       "<table border=\"1\" class=\"dataframe\">\n",
       "  <thead>\n",
       "    <tr style=\"text-align: right;\">\n",
       "      <th></th>\n",
       "      <th>id</th>\n",
       "      <th>comment_text</th>\n",
       "      <th>toxic</th>\n",
       "      <th>severe_toxic</th>\n",
       "      <th>obscene</th>\n",
       "      <th>threat</th>\n",
       "      <th>insult</th>\n",
       "      <th>identity_hate</th>\n",
       "    </tr>\n",
       "  </thead>\n",
       "  <tbody>\n",
       "    <tr>\n",
       "      <th>0</th>\n",
       "      <td>0000997932d777bf</td>\n",
       "      <td>Explanation\\nWhy the edits made under my usern...</td>\n",
       "      <td>0</td>\n",
       "      <td>0</td>\n",
       "      <td>0</td>\n",
       "      <td>0</td>\n",
       "      <td>0</td>\n",
       "      <td>0</td>\n",
       "    </tr>\n",
       "    <tr>\n",
       "      <th>1</th>\n",
       "      <td>000103f0d9cfb60f</td>\n",
       "      <td>D'aww! He matches this background colour I'm s...</td>\n",
       "      <td>0</td>\n",
       "      <td>0</td>\n",
       "      <td>0</td>\n",
       "      <td>0</td>\n",
       "      <td>0</td>\n",
       "      <td>0</td>\n",
       "    </tr>\n",
       "    <tr>\n",
       "      <th>2</th>\n",
       "      <td>000113f07ec002fd</td>\n",
       "      <td>Hey man, I'm really not trying to edit war. It...</td>\n",
       "      <td>0</td>\n",
       "      <td>0</td>\n",
       "      <td>0</td>\n",
       "      <td>0</td>\n",
       "      <td>0</td>\n",
       "      <td>0</td>\n",
       "    </tr>\n",
       "    <tr>\n",
       "      <th>3</th>\n",
       "      <td>0001b41b1c6bb37e</td>\n",
       "      <td>\"\\nMore\\nI can't make any real suggestions on ...</td>\n",
       "      <td>0</td>\n",
       "      <td>0</td>\n",
       "      <td>0</td>\n",
       "      <td>0</td>\n",
       "      <td>0</td>\n",
       "      <td>0</td>\n",
       "    </tr>\n",
       "    <tr>\n",
       "      <th>4</th>\n",
       "      <td>0001d958c54c6e35</td>\n",
       "      <td>You, sir, are my hero. Any chance you remember...</td>\n",
       "      <td>0</td>\n",
       "      <td>0</td>\n",
       "      <td>0</td>\n",
       "      <td>0</td>\n",
       "      <td>0</td>\n",
       "      <td>0</td>\n",
       "    </tr>\n",
       "  </tbody>\n",
       "</table>\n",
       "</div>"
      ],
      "text/plain": [
       "                 id                                       comment_text  toxic  \\\n",
       "0  0000997932d777bf  Explanation\\nWhy the edits made under my usern...      0   \n",
       "1  000103f0d9cfb60f  D'aww! He matches this background colour I'm s...      0   \n",
       "2  000113f07ec002fd  Hey man, I'm really not trying to edit war. It...      0   \n",
       "3  0001b41b1c6bb37e  \"\\nMore\\nI can't make any real suggestions on ...      0   \n",
       "4  0001d958c54c6e35  You, sir, are my hero. Any chance you remember...      0   \n",
       "\n",
       "   severe_toxic  obscene  threat  insult  identity_hate  \n",
       "0             0        0       0       0              0  \n",
       "1             0        0       0       0              0  \n",
       "2             0        0       0       0              0  \n",
       "3             0        0       0       0              0  \n",
       "4             0        0       0       0              0  "
      ]
     },
     "execution_count": 97,
     "metadata": {},
     "output_type": "execute_result"
    }
   ],
   "source": [
    "df = pd.read_csv(\"../data/jigsaw-toxic-comment-classification/train.csv\"); df.head()"
   ]
  },
  {
   "cell_type": "code",
   "execution_count": 98,
   "id": "209acd8a-0920-4de4-ad30-60cf950ace52",
   "metadata": {},
   "outputs": [],
   "source": [
    "# make the classification problem binary\n",
    "df[\"target\"] = df[[\"toxic\", \"severe_toxic\", \"obscene\", \"threat\", \"insult\", \"identity_hate\"]].sum(axis=1) > 0"
   ]
  },
  {
   "cell_type": "markdown",
   "id": "8360a203-b400-44f3-8d6a-3308005e4ec4",
   "metadata": {},
   "source": [
    "## Train a BoW-model"
   ]
  },
  {
   "cell_type": "code",
   "execution_count": 24,
   "id": "6b28d4aa-17ef-4165-b43b-9bb81a3ee6fd",
   "metadata": {},
   "outputs": [],
   "source": [
    "clf = make_pipeline(TfidfVectorizer(min_df=10, max_features=30000, stop_words=\"english\"), LogisticRegression(C=10))"
   ]
  },
  {
   "cell_type": "code",
   "execution_count": 25,
   "id": "ccc41891-f3e7-4935-8d3f-54876c388cef",
   "metadata": {},
   "outputs": [
    {
     "name": "stderr",
     "output_type": "stream",
     "text": [
      "/home/tobias/.cache/pypoetry/virtualenvs/biaslyze-OjqpgMw8-py3.10/lib/python3.10/site-packages/sklearn/linear_model/_logistic.py:458: ConvergenceWarning: lbfgs failed to converge (status=1):\n",
      "STOP: TOTAL NO. of ITERATIONS REACHED LIMIT.\n",
      "\n",
      "Increase the number of iterations (max_iter) or scale the data as shown in:\n",
      "    https://scikit-learn.org/stable/modules/preprocessing.html\n",
      "Please also refer to the documentation for alternative solver options:\n",
      "    https://scikit-learn.org/stable/modules/linear_model.html#logistic-regression\n",
      "  n_iter_i = _check_optimize_result(\n"
     ]
    },
    {
     "data": {
      "text/html": [
       "<style>#sk-container-id-2 {color: black;background-color: white;}#sk-container-id-2 pre{padding: 0;}#sk-container-id-2 div.sk-toggleable {background-color: white;}#sk-container-id-2 label.sk-toggleable__label {cursor: pointer;display: block;width: 100%;margin-bottom: 0;padding: 0.3em;box-sizing: border-box;text-align: center;}#sk-container-id-2 label.sk-toggleable__label-arrow:before {content: \"▸\";float: left;margin-right: 0.25em;color: #696969;}#sk-container-id-2 label.sk-toggleable__label-arrow:hover:before {color: black;}#sk-container-id-2 div.sk-estimator:hover label.sk-toggleable__label-arrow:before {color: black;}#sk-container-id-2 div.sk-toggleable__content {max-height: 0;max-width: 0;overflow: hidden;text-align: left;background-color: #f0f8ff;}#sk-container-id-2 div.sk-toggleable__content pre {margin: 0.2em;color: black;border-radius: 0.25em;background-color: #f0f8ff;}#sk-container-id-2 input.sk-toggleable__control:checked~div.sk-toggleable__content {max-height: 200px;max-width: 100%;overflow: auto;}#sk-container-id-2 input.sk-toggleable__control:checked~label.sk-toggleable__label-arrow:before {content: \"▾\";}#sk-container-id-2 div.sk-estimator input.sk-toggleable__control:checked~label.sk-toggleable__label {background-color: #d4ebff;}#sk-container-id-2 div.sk-label input.sk-toggleable__control:checked~label.sk-toggleable__label {background-color: #d4ebff;}#sk-container-id-2 input.sk-hidden--visually {border: 0;clip: rect(1px 1px 1px 1px);clip: rect(1px, 1px, 1px, 1px);height: 1px;margin: -1px;overflow: hidden;padding: 0;position: absolute;width: 1px;}#sk-container-id-2 div.sk-estimator {font-family: monospace;background-color: #f0f8ff;border: 1px dotted black;border-radius: 0.25em;box-sizing: border-box;margin-bottom: 0.5em;}#sk-container-id-2 div.sk-estimator:hover {background-color: #d4ebff;}#sk-container-id-2 div.sk-parallel-item::after {content: \"\";width: 100%;border-bottom: 1px solid gray;flex-grow: 1;}#sk-container-id-2 div.sk-label:hover label.sk-toggleable__label {background-color: #d4ebff;}#sk-container-id-2 div.sk-serial::before {content: \"\";position: absolute;border-left: 1px solid gray;box-sizing: border-box;top: 0;bottom: 0;left: 50%;z-index: 0;}#sk-container-id-2 div.sk-serial {display: flex;flex-direction: column;align-items: center;background-color: white;padding-right: 0.2em;padding-left: 0.2em;position: relative;}#sk-container-id-2 div.sk-item {position: relative;z-index: 1;}#sk-container-id-2 div.sk-parallel {display: flex;align-items: stretch;justify-content: center;background-color: white;position: relative;}#sk-container-id-2 div.sk-item::before, #sk-container-id-2 div.sk-parallel-item::before {content: \"\";position: absolute;border-left: 1px solid gray;box-sizing: border-box;top: 0;bottom: 0;left: 50%;z-index: -1;}#sk-container-id-2 div.sk-parallel-item {display: flex;flex-direction: column;z-index: 1;position: relative;background-color: white;}#sk-container-id-2 div.sk-parallel-item:first-child::after {align-self: flex-end;width: 50%;}#sk-container-id-2 div.sk-parallel-item:last-child::after {align-self: flex-start;width: 50%;}#sk-container-id-2 div.sk-parallel-item:only-child::after {width: 0;}#sk-container-id-2 div.sk-dashed-wrapped {border: 1px dashed gray;margin: 0 0.4em 0.5em 0.4em;box-sizing: border-box;padding-bottom: 0.4em;background-color: white;}#sk-container-id-2 div.sk-label label {font-family: monospace;font-weight: bold;display: inline-block;line-height: 1.2em;}#sk-container-id-2 div.sk-label-container {text-align: center;}#sk-container-id-2 div.sk-container {/* jupyter's `normalize.less` sets `[hidden] { display: none; }` but bootstrap.min.css set `[hidden] { display: none !important; }` so we also need the `!important` here to be able to override the default hidden behavior on the sphinx rendered scikit-learn.org. See: https://github.com/scikit-learn/scikit-learn/issues/21755 */display: inline-block !important;position: relative;}#sk-container-id-2 div.sk-text-repr-fallback {display: none;}</style><div id=\"sk-container-id-2\" class=\"sk-top-container\"><div class=\"sk-text-repr-fallback\"><pre>Pipeline(steps=[(&#x27;tfidfvectorizer&#x27;,\n",
       "                 TfidfVectorizer(max_features=30000, min_df=10,\n",
       "                                 stop_words=&#x27;english&#x27;)),\n",
       "                (&#x27;logisticregression&#x27;, LogisticRegression(C=10))])</pre><b>In a Jupyter environment, please rerun this cell to show the HTML representation or trust the notebook. <br />On GitHub, the HTML representation is unable to render, please try loading this page with nbviewer.org.</b></div><div class=\"sk-container\" hidden><div class=\"sk-item sk-dashed-wrapped\"><div class=\"sk-label-container\"><div class=\"sk-label sk-toggleable\"><input class=\"sk-toggleable__control sk-hidden--visually\" id=\"sk-estimator-id-4\" type=\"checkbox\" ><label for=\"sk-estimator-id-4\" class=\"sk-toggleable__label sk-toggleable__label-arrow\">Pipeline</label><div class=\"sk-toggleable__content\"><pre>Pipeline(steps=[(&#x27;tfidfvectorizer&#x27;,\n",
       "                 TfidfVectorizer(max_features=30000, min_df=10,\n",
       "                                 stop_words=&#x27;english&#x27;)),\n",
       "                (&#x27;logisticregression&#x27;, LogisticRegression(C=10))])</pre></div></div></div><div class=\"sk-serial\"><div class=\"sk-item\"><div class=\"sk-estimator sk-toggleable\"><input class=\"sk-toggleable__control sk-hidden--visually\" id=\"sk-estimator-id-5\" type=\"checkbox\" ><label for=\"sk-estimator-id-5\" class=\"sk-toggleable__label sk-toggleable__label-arrow\">TfidfVectorizer</label><div class=\"sk-toggleable__content\"><pre>TfidfVectorizer(max_features=30000, min_df=10, stop_words=&#x27;english&#x27;)</pre></div></div></div><div class=\"sk-item\"><div class=\"sk-estimator sk-toggleable\"><input class=\"sk-toggleable__control sk-hidden--visually\" id=\"sk-estimator-id-6\" type=\"checkbox\" ><label for=\"sk-estimator-id-6\" class=\"sk-toggleable__label sk-toggleable__label-arrow\">LogisticRegression</label><div class=\"sk-toggleable__content\"><pre>LogisticRegression(C=10)</pre></div></div></div></div></div></div></div>"
      ],
      "text/plain": [
       "Pipeline(steps=[('tfidfvectorizer',\n",
       "                 TfidfVectorizer(max_features=30000, min_df=10,\n",
       "                                 stop_words='english')),\n",
       "                ('logisticregression', LogisticRegression(C=10))])"
      ]
     },
     "execution_count": 25,
     "metadata": {},
     "output_type": "execute_result"
    }
   ],
   "source": [
    "clf.fit(df.comment_text, df.target)"
   ]
  },
  {
   "cell_type": "code",
   "execution_count": 26,
   "id": "086aed03-08e7-4382-88ed-92e706c22ed1",
   "metadata": {
    "tags": []
   },
   "outputs": [
    {
     "name": "stdout",
     "output_type": "stream",
     "text": [
      "0.9753589311341033\n"
     ]
    }
   ],
   "source": [
    "train_pred = clf.predict(df.comment_text)\n",
    "print(accuracy_score(df.target, train_pred))"
   ]
  },
  {
   "cell_type": "markdown",
   "id": "32ef73c6-a888-4a83-97a5-8b8ba17d6322",
   "metadata": {},
   "source": [
    "### Look at the logistc regression coefficients"
   ]
  },
  {
   "cell_type": "code",
   "execution_count": 13,
   "id": "ce77bd7d-1d44-49f0-8d96-102920627eec",
   "metadata": {
    "tags": []
   },
   "outputs": [],
   "source": [
    "coef = clf.named_steps.get(\"logisticregression\").coef_"
   ]
  },
  {
   "cell_type": "code",
   "execution_count": 14,
   "id": "38e64417-6411-4071-96c4-335a64d4b3aa",
   "metadata": {
    "tags": []
   },
   "outputs": [],
   "source": [
    "vocab = clf.named_steps.get(\"tfidfvectorizer\").vocabulary_"
   ]
  },
  {
   "cell_type": "code",
   "execution_count": 15,
   "id": "15f4a908-c866-45e4-b970-d434778695c3",
   "metadata": {
    "tags": []
   },
   "outputs": [],
   "source": [
    "vocab_coef_dict = {token: coef[0][idx] for token, idx in vocab.items()}"
   ]
  },
  {
   "cell_type": "code",
   "execution_count": 16,
   "id": "f02c1d30-2cd8-4753-9b71-43da4d5827a4",
   "metadata": {
    "scrolled": true,
    "tags": []
   },
   "outputs": [
    {
     "data": {
      "text/plain": [
       "{'fuck': 32.7837917280138,\n",
       " 'fucking': 27.82425052783078,\n",
       " 'idiot': 20.15266937256496,\n",
       " 'shit': 20.013563243286278,\n",
       " 'bitch': 18.475908925024964,\n",
       " 'bullshit': 18.10295490046663,\n",
       " 'ass': 18.077966939946386,\n",
       " 'asshole': 17.57561292196972,\n",
       " 'stupid': 16.622723488339,\n",
       " 'suck': 16.11790605183115,\n",
       " 'faggot': 15.378837213619931,\n",
       " 'cunt': 14.868528007269816,\n",
       " 'fucked': 13.81268406440718,\n",
       " 'bastard': 13.281050718084172,\n",
       " 'sucks': 13.276981732229888,\n",
       " 'idiots': 13.246334105799505,\n",
       " 'dick': 13.15745751086574,\n",
       " 'moron': 12.716570056508065,\n",
       " 'crap': 12.421849116680283,\n",
       " 'idiotic': 12.05640679677976,\n",
       " 'fucker': 11.918809872032933,\n",
       " 'penis': 11.841626404913812,\n",
       " 'cock': 11.75222203927742,\n",
       " 'motherfucker': 11.679984445953181,\n",
       " 'nigger': 11.417909656954315,\n",
       " 'dumbass': 11.406342587802497,\n",
       " 'jerk': 11.21120568622119,\n",
       " 'pussy': 11.119175729917208,\n",
       " 'dickhead': 10.554774339384167,\n",
       " 'pathetic': 10.553991439145115,\n",
       " 'faggots': 10.48665264384712,\n",
       " 'assholes': 10.465908992082616,\n",
       " 'fuckin': 10.34301322437423,\n",
       " 'morons': 9.852494963810535,\n",
       " 'ck': 9.701027699818622,\n",
       " 'imbecile': 9.403707987983006,\n",
       " 'pig': 9.369637779953523,\n",
       " 'loser': 9.343512413172853,\n",
       " 'stupidity': 9.324108788513984,\n",
       " 'dipshit': 9.29132216884089,\n",
       " 'rapist': 9.083452974418098,\n",
       " 'dicks': 9.039247319387956,\n",
       " 'dumb': 9.019209150541144,\n",
       " 'hypocrite': 8.95858500209184,\n",
       " 'cocksucker': 8.835187301722083,\n",
       " 'fucks': 8.824511396603537,\n",
       " 'bitches': 8.790680152782949,\n",
       " 'hell': 8.741004470612214,\n",
       " 'whore': 8.730083789009095,\n",
       " 'shut': 8.624738743192557,\n",
       " 'fuckhead': 8.575008793434584,\n",
       " 'cking': 8.552432669224888,\n",
       " 'niggers': 8.529845199360249,\n",
       " 'shitty': 8.528889339988483,\n",
       " 'jackass': 8.524544315722125,\n",
       " 'fag': 8.485046559125987,\n",
       " 'piss': 8.365010277571805,\n",
       " 'bastards': 8.340260631547222,\n",
       " 'arse': 8.309341458917936,\n",
       " 'cum': 8.258672379138282,\n",
       " 'retard': 8.242117701494738,\n",
       " 'gay': 8.124990759692494,\n",
       " 'scum': 8.107966831230543,\n",
       " 'fool': 8.09056440822099,\n",
       " 'fuckwit': 8.060772636168346,\n",
       " 'fucktard': 8.052084819661845,\n",
       " 'stinks': 8.04545140750197,\n",
       " 'cunts': 7.903149010661467,\n",
       " 'bitching': 7.821976814637471,\n",
       " 'wtf': 7.791864525040607,\n",
       " 'nigga': 7.782021961876964,\n",
       " 'fuk': 7.766913463780148,\n",
       " 'goddamn': 7.743310770006448,\n",
       " 'moronic': 7.719865177533121,\n",
       " 'ignorant': 7.541831250157996,\n",
       " 'retarded': 7.527925556224607,\n",
       " 'coward': 7.526041931033093,\n",
       " 'liar': 7.522738633244628,\n",
       " 'die': 7.499005064161369,\n",
       " 'damn': 7.4936519516992455,\n",
       " 'fuckers': 7.434450814492108,\n",
       " 'dumbest': 7.3188513420412376,\n",
       " 'kill': 7.318742002221303,\n",
       " 'wanker': 7.25906731194167,\n",
       " 'looser': 7.234347478777866,\n",
       " 'racist': 7.213211881588767,\n",
       " 'sucking': 7.076068139262843,\n",
       " 'fart': 6.9824776937360475,\n",
       " 'hater': 6.9744146060935845,\n",
       " 'homosexual': 6.954418568807562,\n",
       " 'bloody': 6.885429162097003,\n",
       " 'boobs': 6.772699976654363,\n",
       " 'losers': 6.769054880525283,\n",
       " 'sex': 6.713529294572357,\n",
       " 'sick': 6.65719696453951,\n",
       " 'semen': 6.607622487892366,\n",
       " 'fat': 6.576162157990138,\n",
       " 'filth': 6.567591378687409,\n",
       " 'fukkin': 6.531928794035924,\n",
       " 'lick': 6.514261591541212,\n",
       " 'butt': 6.473502797544455,\n",
       " 'garbage': 6.4585759269670255,\n",
       " 'rubbish': 6.449195971873594,\n",
       " 'shithead': 6.44614392390305,\n",
       " 'asshat': 6.439442739699336,\n",
       " 'anus': 6.387837404175569,\n",
       " 'fatty': 6.372472091926555,\n",
       " 'pedophile': 6.357070685508827,\n",
       " 'fellatio': 6.3481120537319,\n",
       " 'idiocy': 6.344668513214581,\n",
       " 'ridiculous': 6.328951318604841,\n",
       " 'dirty': 6.3193425435342725,\n",
       " 'douchebag': 6.307638071090375,\n",
       " 'smelly': 6.289145475909905,\n",
       " 'pissing': 6.272747211055858,\n",
       " 'arrogant': 6.271426254633156,\n",
       " 'biatch': 6.253898118542414,\n",
       " 'nerds': 6.245780215301952,\n",
       " 'ugly': 6.2021760002166175,\n",
       " 'twat': 6.187770808401267,\n",
       " 'imbeciles': 6.186681868348015,\n",
       " 'hate': 6.14472286468509,\n",
       " 'dumbfuck': 6.137956221479014,\n",
       " 'trash': 6.122774677145016,\n",
       " 'fuc': 6.100522703997251,\n",
       " 'puke': 6.092238318525467,\n",
       " 'maggot': 6.085043073347228,\n",
       " 'vagina': 6.081956139942865,\n",
       " 'disgusting': 6.078487952358638,\n",
       " 'motherfuckers': 6.06735898160452,\n",
       " 'screw': 6.06301003680365,\n",
       " 'lier': 6.057209558976832,\n",
       " 'ing': 6.017721004539096,\n",
       " 'freaking': 5.992872724639655,\n",
       " 'crappy': 5.9341698113638355,\n",
       " 'chink': 5.925157551708656,\n",
       " 'testicles': 5.915466178117055,\n",
       " 'prostitute': 5.908543673694835,\n",
       " 'stinky': 5.89157346488917,\n",
       " 'nazis': 5.87752587239495,\n",
       " 'nosed': 5.868596516113768,\n",
       " 'rat': 5.85357512223059,\n",
       " 'worm': 5.849778188608477,\n",
       " 'blow': 5.802890802760664,\n",
       " 'mental': 5.7938054440746845,\n",
       " 'homo': 5.7898403016097895,\n",
       " 'ignoramus': 5.784546702808339,\n",
       " 'masturbating': 5.778954279567651,\n",
       " 'porn': 5.757030708937661,\n",
       " 'thug': 5.735409626912755,\n",
       " 'freak': 5.7265171332449345,\n",
       " 'crook': 5.709111191612929,\n",
       " 'dummy': 5.7057410439083425,\n",
       " 'stupidest': 5.704565561545504,\n",
       " 'nerd': 5.70381493913945,\n",
       " 'psychopath': 5.69630344448619,\n",
       " 'pretentious': 5.680152605191611,\n",
       " 'drove': 5.660775034849869,\n",
       " 'jerks': 5.660101493903445,\n",
       " 'arsehole': 5.621080884363556,\n",
       " 'nig': 5.617522730449791,\n",
       " 'douche': 5.616056279241731,\n",
       " 'wikinazis': 5.611869651323456,\n",
       " 'shame': 5.577526942551886,\n",
       " 'slut': 5.574444970513683,\n",
       " 'mutha': 5.523385973927131,\n",
       " 'stink': 5.514178258700488,\n",
       " 'anal': 5.51415113372747,\n",
       " 'fascist': 5.497950021077173,\n",
       " 'prick': 5.494662778162121,\n",
       " 'nutcase': 5.48675494636971,\n",
       " 'nuts': 5.479154931395007,\n",
       " 'sucked': 5.4733938246876255,\n",
       " 'nazi': 5.471295037213078,\n",
       " 'hypocrisy': 5.470248396517566,\n",
       " 'donkey': 5.468699700996876,\n",
       " 'balls': 5.460294661926234,\n",
       " 'scumbag': 5.4482951364767,\n",
       " 'pest': 5.437235060593756,\n",
       " 'cretin': 5.428938696601424,\n",
       " 'freaky': 5.423632546452212,\n",
       " 'dammit': 5.416658827144229,\n",
       " 'cowards': 5.401147952382433,\n",
       " 'foolish': 5.398040850653249,\n",
       " 'dildo': 5.381311448749486,\n",
       " 'smartass': 5.363471320981718,\n",
       " 'pervert': 5.332326041318918,\n",
       " 'disgrace': 5.32123505358059,\n",
       " 'motherfucking': 5.310264496865198,\n",
       " 'masturbate': 5.303733873316896,\n",
       " 'buzz': 5.298838846792103,\n",
       " 'sh': 5.267679507938228,\n",
       " 'bunch': 5.252906113189827,\n",
       " 'babbling': 5.250634401122121,\n",
       " 'silly': 5.2476258435388035,\n",
       " 'chambers': 5.247326506727851,\n",
       " 'hole': 5.243584537829694,\n",
       " 'uaf': 5.234659459226262,\n",
       " 'stfu': 5.216615033241722,\n",
       " 'shoot': 5.2123348553992495,\n",
       " 'poop': 5.177371322015783,\n",
       " 'rape': 5.15992048582929,\n",
       " 'ignorance': 5.144105451173219,\n",
       " 'cancer': 5.1428619698137314,\n",
       " 'heil': 5.1343912775000895,\n",
       " 'viva': 5.123419730640083,\n",
       " 'mouth': 5.100787028342275,\n",
       " 'fcuk': 5.098819153860591,\n",
       " 'eaters': 5.098077686900716,\n",
       " 'mum': 5.085400708227245,\n",
       " 'cougar': 5.081117433470113,\n",
       " 'monkey': 5.03194684012892,\n",
       " 'homophobe': 5.030023970600492,\n",
       " 'spastic': 5.017021018092628,\n",
       " 'tyrants': 5.012720492790432,\n",
       " 'fags': 5.009190551485691,\n",
       " 'shits': 5.005783952631495,\n",
       " 'yard': 4.98624809297203,\n",
       " 'crybaby': 4.982628560966094,\n",
       " 'lazy': 4.965489385668505,\n",
       " 'antisemite': 4.9366784397020895,\n",
       " 'participating': 4.917252534275626,\n",
       " 'spout': 4.915079133407812,\n",
       " 'insane': 4.9088426063440425,\n",
       " 'asses': 4.901143694709233,\n",
       " 'youre': 4.900217024745163,\n",
       " 'hates': 4.897097236449372,\n",
       " 'tits': 4.8743798505097375,\n",
       " 'noobs': 4.869216499285793,\n",
       " 'goats': 4.825480316169745,\n",
       " 'homosexuals': 4.800778917030211,\n",
       " 'perennial': 4.765420942690716,\n",
       " 'fellowship': 4.761220745360831,\n",
       " 'spiteful': 4.7507267226402385,\n",
       " 'naked': 4.75020836770113,\n",
       " 'worst': 4.748029224081251,\n",
       " 'righteousness': 4.7426867878922145,\n",
       " 'spit': 4.7392132557695374,\n",
       " 'ugliest': 4.735851517958846,\n",
       " 'queer': 4.721319015964745,\n",
       " 'nut': 4.719246730120033,\n",
       " 'bullcrap': 4.713525881183155,\n",
       " 'bully': 4.713040009601304,\n",
       " 'diarrhea': 4.7024061665497605,\n",
       " 'retards': 4.696279672998092,\n",
       " 'swine': 4.686429868195726,\n",
       " 'horrible': 4.678341710243512,\n",
       " 'friggin': 4.674425925401932,\n",
       " 'dickheads': 4.6711252757978485,\n",
       " 'compulsive': 4.660337830977365,\n",
       " 'mentally': 4.654666483772851,\n",
       " 'cruel': 4.642481398022135,\n",
       " 'sluts': 4.642098071019202,\n",
       " 'penises': 4.638578540637018,\n",
       " 'jail': 4.629723580353793,\n",
       " 'reversed': 4.628630497617324,\n",
       " 'racists': 4.62468585871271,\n",
       " 'nipple': 4.6204600048298206,\n",
       " 'trashy': 4.6019271014819605,\n",
       " 'misery': 4.584798925254365,\n",
       " 'imposter': 4.5791232139792095,\n",
       " 'tit': 4.568205985078986,\n",
       " 'commit': 4.537484884349679,\n",
       " 'smoke': 4.536270759827962,\n",
       " 'mls': 4.531511467523784,\n",
       " 'brains': 4.527449657765829,\n",
       " 'naughty': 4.5158808414553935,\n",
       " 'fools': 4.511040138239827,\n",
       " 'douchebags': 4.500805580751303,\n",
       " 'diaper': 4.498683501647388,\n",
       " 'assclown': 4.480420306960505,\n",
       " 'turk': 4.4609376630967,\n",
       " 'herpes': 4.456099423643929,\n",
       " 'toilet': 4.447435166119602,\n",
       " 'hairy': 4.44608798495228,\n",
       " 'slave': 4.4422446456655775,\n",
       " 'badass': 4.436042417595287,\n",
       " 'blood': 4.423456990313352,\n",
       " 'canyon': 4.415135019801265,\n",
       " 'scumbags': 4.405062810282753,\n",
       " 'grenade': 4.378953762879411,\n",
       " 'pint': 4.370983345114684,\n",
       " 'phony': 4.370831542551008,\n",
       " 'vomit': 4.365297207643771,\n",
       " 'lousy': 4.357789220283186,\n",
       " 'commies': 4.357588891893692,\n",
       " 'hipocrite': 4.3537587146642265,\n",
       " 'gtfo': 4.3458245192166265,\n",
       " 'narcissistic': 4.344349256464364,\n",
       " 'troll': 4.340508384800597,\n",
       " 'sucker': 4.332703319387601,\n",
       " 'fk': 4.328473717136807,\n",
       " 'whiny': 4.324175604089601,\n",
       " 'shill': 4.319801459703513,\n",
       " 'liars': 4.312457129201218,\n",
       " 'pee': 4.305324305167728,\n",
       " 'biggie': 4.303959794168815,\n",
       " 'truck': 4.303557843753704,\n",
       " 'pies': 4.303110460571046,\n",
       " 'everett': 4.303082215783606,\n",
       " 'mom': 4.300063569292203,\n",
       " 'terrorists': 4.284557190098953,\n",
       " 'expense': 4.276271920775351,\n",
       " 'spineless': 4.274850755239322,\n",
       " 'jeppiz': 4.273064121004217,\n",
       " 'guts': 4.262474206103522,\n",
       " 'sexual': 4.260526525503905,\n",
       " 'baloney': 4.243106165345293,\n",
       " 'onorem': 4.240967008772633,\n",
       " 'publicly': 4.239229128037061,\n",
       " 'crazy': 4.23813319146923,\n",
       " 'skull': 4.222613340611959,\n",
       " 'discord': 4.2220336897079065,\n",
       " 'lame': 4.216787492303825,\n",
       " 'frankly': 4.214779135196288,\n",
       " 'butthurt': 4.209560109387793,\n",
       " 'damned': 4.207201832600126,\n",
       " 'homosexuality': 4.200326396769666,\n",
       " 'weed': 4.197332458061235,\n",
       " 'sue': 4.1927310437013015,\n",
       " 'soooo': 4.182019672841238,\n",
       " 'religiously': 4.171725040387981,\n",
       " 'cow': 4.1707366500721665,\n",
       " 'chauvinist': 4.169156402584444,\n",
       " 'nt': 4.159517700121951,\n",
       " 'bugger': 4.156895280761894,\n",
       " 'inane': 4.145373096709924,\n",
       " 'pissed': 4.141020440445503,\n",
       " 'weakness': 4.137906303754848,\n",
       " 'homos': 4.128472466100899,\n",
       " 'bag': 4.127337692668298,\n",
       " 'chicken': 4.123987796019822,\n",
       " 'traitors': 4.123183624674195,\n",
       " 'isaac': 4.117823105218319,\n",
       " 'monkeys': 4.1162233392441525,\n",
       " 'shove': 4.1009869518851865,\n",
       " 'destroy': 4.099717312927265,\n",
       " 'stupidly': 4.096285554875368,\n",
       " 'asswipe': 4.092364488223286,\n",
       " 'commercials': 4.088959606481148,\n",
       " 'corrupted': 4.087976740068658,\n",
       " 'immature': 4.084745358228981,\n",
       " 'honorable': 4.084183168987097,\n",
       " 'decausa': 4.07365440693889,\n",
       " 'fraud': 4.070740713265705,\n",
       " 'pedophiles': 4.060771296404119,\n",
       " 'rubbing': 4.060093043211922,\n",
       " 'hitler': 4.054826084755254,\n",
       " 'damnit': 4.047089696299847,\n",
       " 'fu': 4.0460051523344,\n",
       " 'merciless': 4.044650562333773,\n",
       " 'fundamentalist': 4.041409345588885,\n",
       " 'licking': 4.037774063181648,\n",
       " 'harder': 4.035599092204514,\n",
       " 'drunken': 4.024795971407984,\n",
       " 'ymmv': 4.021442238319507,\n",
       " 'chester': 4.011033161592421,\n",
       " 'evil': 4.009585279309167,\n",
       " 'minorities': 3.9996439505316914,\n",
       " 'vaginas': 3.988572521117285,\n",
       " 'miserable': 3.9875441839094674,\n",
       " 'su': 3.9846021322290164,\n",
       " 'sexist': 3.984498603053075,\n",
       " 'jd': 3.982275979698001,\n",
       " 'neurotic': 3.9807019102514443,\n",
       " 'foxworth': 3.9725335697323994,\n",
       " 'buttocks': 3.9670318370614517,\n",
       " 'suprise': 3.960047201404135,\n",
       " 'black': 3.9594089393055056,\n",
       " 'uck': 3.9568213572332067,\n",
       " 'lefty': 3.9489097707883434,\n",
       " 'hypocritical': 3.928995594215125,\n",
       " 'corrupt': 3.922672129908748,\n",
       " 'cur': 3.9217203735064605,\n",
       " 'wank': 3.91925724068432,\n",
       " 'illiterate': 3.915837256695049,\n",
       " 'propagandists': 3.912524891899694,\n",
       " 'meatpuppet': 3.9121160839531934,\n",
       " 'bum': 3.91190012913284,\n",
       " 'tablet': 3.9104284307530057,\n",
       " 'farts': 3.9054837971960072,\n",
       " 'delet': 3.89651380604178,\n",
       " 'tard': 3.8913301490468313,\n",
       " 'nerdy': 3.888923544989,\n",
       " 'brainwashed': 3.88460094662933,\n",
       " 'remembers': 3.882731090974089,\n",
       " 'killed': 3.879904012992133,\n",
       " 'demonstrating': 3.879371294078318,\n",
       " 'barack': 3.878581442316484,\n",
       " 'fudge': 3.876423670849502,\n",
       " 'twit': 3.873528305933949,\n",
       " 'childrens': 3.8733167796065833,\n",
       " 'sockpuppet': 3.8683681570439625,\n",
       " 'obese': 3.867360919185006,\n",
       " 'filthy': 3.8611944926655246,\n",
       " 'unintelligent': 3.859200986702727,\n",
       " 'zebedee': 3.8578661610724514,\n",
       " 'disgust': 3.857074343088084,\n",
       " 'clouds': 3.849798487210888,\n",
       " 'dog': 3.846524769975694,\n",
       " 'mediocre': 3.8458772748872465,\n",
       " 'travesty': 3.844845812597924,\n",
       " 'fascists': 3.8448327217643246,\n",
       " 'babies': 3.8426232936381846,\n",
       " 'genitals': 3.8378618039280883,\n",
       " 'intolerance': 3.8345828300331437,\n",
       " 'swallow': 3.832827513957916,\n",
       " 'gays': 3.8322715339736515,\n",
       " 'smug': 3.8292867212055057,\n",
       " 'junk': 3.8286855097681918,\n",
       " 'ole': 3.8276314598771637,\n",
       " 'speach': 3.8266112954077167,\n",
       " 'poisoned': 3.817695574620002,\n",
       " 'delusional': 3.807037681858736,\n",
       " 'heck': 3.8069271487163823,\n",
       " 'hav': 3.804023181264784,\n",
       " 'poo': 3.8036444940368246,\n",
       " 'dumbasses': 3.7991608709233904,\n",
       " 'shalt': 3.796462853105491,\n",
       " 'fc': 3.792923418452571,\n",
       " 'bitchy': 3.792529992061499,\n",
       " 'hating': 3.7896981862662327,\n",
       " 'freezing': 3.7872094606406463,\n",
       " 'chump': 3.786692270789579,\n",
       " 'lies': 3.7844011560097472,\n",
       " 'fuckface': 3.7812350389485334,\n",
       " 'blacks': 3.778036672858882,\n",
       " 'oooh': 3.7731001769381396,\n",
       " 'cr': 3.770725397523155,\n",
       " 'commie': 3.762907919218925,\n",
       " 'dub': 3.758102746508487,\n",
       " 'head': 3.7486490447384213,\n",
       " 'orders': 3.745894886748606,\n",
       " 'dvdm': 3.7396256616543235,\n",
       " 'eat': 3.739294222516783,\n",
       " '179': 3.733991233330113,\n",
       " 'beating': 3.7318442512275323,\n",
       " 'pubic': 3.731691171915859,\n",
       " 'violent': 3.729557875510711,\n",
       " 'whining': 3.728322095840213,\n",
       " 'nonsense': 3.726568522336516,\n",
       " 'theorist': 3.72394544886127,\n",
       " 'stalker': 3.723682962137162,\n",
       " 'condoms': 3.7212149558840073,\n",
       " 'fucken': 3.718858917950171,\n",
       " 'satan': 3.7171797615328623,\n",
       " 'listens': 3.716182445495871,\n",
       " 'aged': 3.7131938860955818,\n",
       " 'lmfao': 3.710598071742108,\n",
       " 'basement': 3.7062714874700173,\n",
       " 'painstaking': 3.7061953800322716,\n",
       " 'rectum': 3.7027393333684526,\n",
       " 'aids': 3.7017709210842598,\n",
       " 'overweight': 3.7009637513673117,\n",
       " 'restricting': 3.69832577521793,\n",
       " 'tu': 3.6937535645996813,\n",
       " 'stab': 3.6874400938650274,\n",
       " 'mexicans': 3.685057157869035,\n",
       " 'despise': 3.683198699607407,\n",
       " 'ashamed': 3.6782361103150905,\n",
       " 'whores': 3.6745787779828327,\n",
       " 'sheer': 3.674085403960305,\n",
       " 'bull': 3.6734309226826913,\n",
       " 'mother': 3.6732634070741232,\n",
       " 'mommy': 3.672691134100579,\n",
       " 'horny': 3.6726734988806395,\n",
       " 'pos': 3.6674840368650736,\n",
       " 'smell': 3.667237754484864,\n",
       " 'pusher': 3.665930770171848,\n",
       " 'useless': 3.657847970799425,\n",
       " 'hypocrites': 3.655058150815194,\n",
       " 'abomination': 3.653278380887049,\n",
       " 'instigator': 3.6528112394475625,\n",
       " 'voicing': 3.651534432241662,\n",
       " 'abrams': 3.650867071985218,\n",
       " 'squeeze': 3.6492459837548394,\n",
       " 'peice': 3.6467093956657664,\n",
       " 'rabbits': 3.645611970024795,\n",
       " 'dare': 3.6450752699569198,\n",
       " 'reaper': 3.640911510655531,\n",
       " 'suspend': 3.6404809263668008,\n",
       " 'iranic': 3.639262239540309,\n",
       " 'cocks': 3.637131907718397,\n",
       " 'shitting': 3.6360141735351026,\n",
       " 'macro': 3.635822745569546,\n",
       " 'gook': 3.634966562312671,\n",
       " 'chew': 3.633397158331367,\n",
       " 'graves': 3.6320812247311096,\n",
       " 'shite': 3.632058604168914,\n",
       " 'smash': 3.6320129963689594,\n",
       " 'rudy': 3.630911650101185,\n",
       " 'herrings': 3.630409227697298,\n",
       " 'facist': 3.6299746375747652,\n",
       " 'punk': 3.6292611891611615,\n",
       " 'wikinazi': 3.6278245365479287,\n",
       " 'actively': 3.6243418803312557,\n",
       " 'gibberish': 3.620348978218961,\n",
       " 'critiquing': 3.6166441290139026,\n",
       " 'delanoy': 3.6144630774874256,\n",
       " 'tasmania': 3.6131137673144655,\n",
       " 'ripping': 3.610966690468336,\n",
       " 'republicans': 3.610930996626401,\n",
       " 'nose': 3.6106633702250046,\n",
       " 'megadeth': 3.6070055896192508,\n",
       " 'pathetically': 3.60694952539807,\n",
       " 'legalese': 3.605578949931687,\n",
       " 'discriminate': 3.6014534237222624,\n",
       " 'deaf': 3.6011974895447554,\n",
       " 'lunatic': 3.594563250770967,\n",
       " 'jackasses': 3.5916445886306994,\n",
       " 'fabricating': 3.5874752347025014,\n",
       " 'jew': 3.584954442851877,\n",
       " 'maniac': 3.582646332939116,\n",
       " 'brain': 3.581091369962113,\n",
       " 'goddess': 3.5796901798984893,\n",
       " 'reel': 3.568344251744842,\n",
       " 'saab': 3.5673829837311426,\n",
       " 'mah': 3.566439201118173,\n",
       " 'lessheard': 3.5651151338114837,\n",
       " 'smells': 3.564630530311047,\n",
       " 'moms': 3.55888167389024,\n",
       " 'creeps': 3.554931390153919,\n",
       " 'dogshit': 3.5548876441405524,\n",
       " 'impotent': 3.5522790098287795,\n",
       " 'slit': 3.549626908002912,\n",
       " 'aussie': 3.5491841881469415,\n",
       " 'insecure': 3.5486476070934385,\n",
       " 'gimme': 3.547627329873681,\n",
       " 'skinned': 3.5436288514130827,\n",
       " 'falsified': 3.5428728967631473,\n",
       " 'tosser': 3.540384411482847,\n",
       " 'momma': 3.539654651195885,\n",
       " 'negativity': 3.5389685983160097,\n",
       " 'slap': 3.5389251155711796,\n",
       " 'uneducated': 3.537257667321736,\n",
       " 'vehement': 3.5365897563981457,\n",
       " '165': 3.533502329701559,\n",
       " 'sob': 3.5286956216713796,\n",
       " 'weirdo': 3.5254728897970486,\n",
       " 'gunna': 3.525369445575667,\n",
       " 'le': 3.523234702736174,\n",
       " 'bollocks': 3.5219438280717217,\n",
       " 'horrid': 3.5214322096473945,\n",
       " 'protections': 3.518107259786092,\n",
       " 'bw': 3.51784818688079,\n",
       " 'abstain': 3.498637106182586,\n",
       " 'fake': 3.4951054547845333,\n",
       " 'psycho': 3.4913363884238064,\n",
       " 'slander': 3.490789169716558,\n",
       " 'butler': 3.4883570903756524,\n",
       " 'noob': 3.487208435993778,\n",
       " 'hurt': 3.4845604344678063,\n",
       " 'sodomy': 3.482679101004005,\n",
       " 'kiss': 3.477945055203909,\n",
       " 'killing': 3.477788607482206,\n",
       " 'git': 3.475816390777251,\n",
       " 'awful': 3.472992904440252,\n",
       " 'nhs': 3.468222777466764,\n",
       " 'dyer': 3.465437616303265,\n",
       " 'maratha': 3.4650581786653922,\n",
       " 'leftist': 3.4590752168841825,\n",
       " 'busted': 3.4581507029909035,\n",
       " 'cocky': 3.451950606180453,\n",
       " 'vetted': 3.449655267005657,\n",
       " 'bombed': 3.4481911060945105,\n",
       " 'ke': 3.4477885229383154,\n",
       " 'mckay': 3.445334359568327,\n",
       " 'rotate': 3.4443578460551554,\n",
       " 'cowardly': 3.4438722081219213,\n",
       " 'damaged': 3.4437694594517994,\n",
       " 'deported': 3.4402044375204612,\n",
       " 'abilities': 3.4376639141913303,\n",
       " 'screwed': 3.426365937562948,\n",
       " 'humanity': 3.4257635265465205,\n",
       " 'traitor': 3.4253415503491116,\n",
       " 'arabian': 3.424160787934091,\n",
       " 'eyed': 3.4226438316462233,\n",
       " 'perform': 3.421887349196747,\n",
       " 'deepak': 3.415285623172537,\n",
       " 'hunt': 3.4071992600355103,\n",
       " 'terminated': 3.405797336953759,\n",
       " 'grow': 3.4035701046024394,\n",
       " 'highness': 3.3926398564559412,\n",
       " 'marsden': 3.3923053593102273,\n",
       " 'rot': 3.3878468804086066,\n",
       " 'furry': 3.3871818633106137,\n",
       " 'starve': 3.3853077326193457,\n",
       " 'lawyer': 3.3845246918985206,\n",
       " 'wet': 3.3841697112185614,\n",
       " 'pompous': 3.3825184589638075,\n",
       " 'worthless': 3.3822658514090866,\n",
       " 'inserted': 3.3784343091055518,\n",
       " 'paedophile': 3.3729983245454873,\n",
       " 'annoying': 3.3729962397480935,\n",
       " 'sarcastic': 3.3724364055546032,\n",
       " 'worships': 3.3698577893017654,\n",
       " 'bright': 3.366722861286174,\n",
       " 'bullies': 3.3633524953958864,\n",
       " 'pussies': 3.3589134820151694,\n",
       " 'burn': 3.358451675725926,\n",
       " 'er': 3.3573854363683173,\n",
       " 'chair': 3.35275222747704,\n",
       " 'donot': 3.349356398447274,\n",
       " 'yank': 3.3492283639309646,\n",
       " 'rapes': 3.348845894902198,\n",
       " 'bigoted': 3.3484637087402147,\n",
       " 'saturated': 3.347902258184024,\n",
       " 'plank': 3.3455323916251625,\n",
       " 'gita': 3.3411495298061493,\n",
       " 'wil': 3.3371348538101606,\n",
       " 'stolen': 3.3368187431522958,\n",
       " 'crush': 3.3309140059297615,\n",
       " 'hoe': 3.3286634498368963,\n",
       " 'kike': 3.3274691629097086,\n",
       " 'nerves': 3.324920356708749,\n",
       " 'failure': 3.3232895045777164,\n",
       " 'awfully': 3.3219451479535445,\n",
       " 'ragib': 3.3189048612033045,\n",
       " 'sits': 3.3158476742919127,\n",
       " 'offends': 3.3156722253045463,\n",
       " 'anthropologists': 3.3137048412412122,\n",
       " 'crawl': 3.3127443833442727,\n",
       " 'mad': 3.30880776134932,\n",
       " 'sarfatti': 3.3063215758335227,\n",
       " 'finger': 3.3046552463718752,\n",
       " 'molester': 3.3031045566545014,\n",
       " 'punishing': 3.301294476915201,\n",
       " 'piece': 3.300228585969963,\n",
       " 'pid': 3.296843030551793,\n",
       " 'homeland': 3.293069568035399,\n",
       " 'dis': 3.2928072872280283,\n",
       " 'daedalus969': 3.2925897975713077,\n",
       " 'feces': 3.289227453432815,\n",
       " 'alum': 3.287440155320678,\n",
       " 'tw': 3.2851516514461863,\n",
       " 'dirt': 3.282763084995273,\n",
       " 'communist': 3.28252683115802,\n",
       " 'angeles': 3.2775402533688327,\n",
       " 'dat': 3.2756047556812296,\n",
       " 'knob': 3.2748638908885552,\n",
       " 'senseless': 3.2747498666168378,\n",
       " 'xchanter': 3.272258753768062,\n",
       " 'intellect': 3.271745872023721,\n",
       " 'poison': 3.2707820729627888,\n",
       " 'exterminate': 3.269870809264587,\n",
       " 'jump': 3.2647880358969394,\n",
       " 'fallacies': 3.264422595149291,\n",
       " 'expunged': 3.263133118359525,\n",
       " 'lover': 3.2621947088515055,\n",
       " 'mush': 3.261824876101353,\n",
       " 'dyke': 3.2616299003204454,\n",
       " 'councils': 3.261545529981022,\n",
       " 'dying': 3.260915758648956,\n",
       " 'gujarat': 3.2604571637973296,\n",
       " 'ybm': 3.259639148362761,\n",
       " 'fantasies': 3.258730217790892,\n",
       " 'scorn': 3.2572814394300953,\n",
       " 'mask': 3.2563227095091216,\n",
       " 'cd': 3.252237464789084,\n",
       " 'masturbation': 3.250716831650851,\n",
       " '200': 3.2506496729390073,\n",
       " 'banana': 3.250370015571975,\n",
       " 'championships': 3.2499016691442373,\n",
       " 'faces': 3.2498175971090615,\n",
       " 'haters': 3.246830437180596,\n",
       " 'pedantic': 3.244317117127643,\n",
       " 'deluded': 3.2428022181141847,\n",
       " 'tuesday': 3.242413618022277,\n",
       " 'dump': 3.239307006762791,\n",
       " 'brainless': 3.2388512248864485,\n",
       " 'doo': 3.233679085136985,\n",
       " 'aspie': 3.2311744834695784,\n",
       " 'cracker': 3.2271493980119614,\n",
       " 'painfully': 3.2263991959220486,\n",
       " 'crackpot': 3.2251212600886388,\n",
       " 'kissing': 3.225092531948191,\n",
       " 'yanks': 3.224841828758715,\n",
       " '132': 3.2232094612800064,\n",
       " 'scanned': 3.217481505728506,\n",
       " 'thoroughly': 3.2172062909050765,\n",
       " 'ilk': 3.214964938409382,\n",
       " 'boss': 3.2123512336003865,\n",
       " 'slapped': 3.209558092585466,\n",
       " 'obesity': 3.2091233112032365,\n",
       " 'deceive': 3.2068651945569306,\n",
       " 'collegial': 3.205678184781592,\n",
       " 'proofreading': 3.2050675681949623,\n",
       " 'atkins': 3.2026533535965465,\n",
       " 'sid': 3.2024726983931706,\n",
       " 'morale': 3.2011943239148155,\n",
       " 'jolly': 3.1984727675761935,\n",
       " 'punch': 3.1968570790012323,\n",
       " 'angry': 3.1938046672192444,\n",
       " 'wool': 3.1916954426030286,\n",
       " 'slick': 3.190622714606118,\n",
       " 'refuse': 3.1893195970103685,\n",
       " 'toad': 3.1888691736178356,\n",
       " 'ohh': 3.1885629071207555,\n",
       " 'wreck': 3.1861568935310403,\n",
       " 'wits': 3.1848644881198296,\n",
       " 'raped': 3.181026426825742,\n",
       " 'pricks': 3.1789049173713306,\n",
       " 'dave': 3.1733113194268334,\n",
       " 'stabbing': 3.1732857119572015,\n",
       " 'dye': 3.1723495639138473,\n",
       " 'grader': 3.1717447318313834,\n",
       " 'horses': 3.169408677832573,\n",
       " 'rabid': 3.166361765778057,\n",
       " 'ukrainians': 3.163499418396459,\n",
       " 'ding': 3.163007610509294,\n",
       " 'silliness': 3.1628835717586696,\n",
       " 'auburnpilot': 3.1612615413751217,\n",
       " 'freaks': 3.1602122099919456,\n",
       " 'incompetent': 3.1537156330032596,\n",
       " 'anointed': 3.1531439824289946,\n",
       " 'freakin': 3.1505794129350626,\n",
       " 'ant': 3.1473379984969547,\n",
       " 'robe': 3.1464569080022526,\n",
       " 'gosh': 3.145593500755695,\n",
       " 'tch': 3.1450201764959766,\n",
       " 'transsexual': 3.1443681234556533,\n",
       " 'subordinate': 3.144203546127109,\n",
       " 'hwy': 3.1437489520525843,\n",
       " 'uninformed': 3.1407835914102633,\n",
       " 'urine': 3.138715352020654,\n",
       " 'distort': 3.1364630320823914,\n",
       " 'idk': 3.1353829650122984,\n",
       " 'sexy': 3.133275417009957,\n",
       " 'thinkers': 3.1328072948527033,\n",
       " 'bios': 3.128912640584126,\n",
       " 'hist': 3.1279647661527936,\n",
       " 'abused': 3.127826800521968,\n",
       " 'mummy': 3.1242624624562763,\n",
       " 'face': 3.123877519772248,\n",
       " 'cans': 3.122423520092149,\n",
       " 'boo': 3.1207098947984266,\n",
       " 'charlatan': 3.120628463677311,\n",
       " 'tyrant': 3.1200561212825426,\n",
       " 'manipulate': 3.118846749724251,\n",
       " 'breath': 3.1179772446419087,\n",
       " 'detrimental': 3.1174258142001365,\n",
       " 'sicko': 3.1131601593908593,\n",
       " 'taht': 3.110384043614533,\n",
       " 'ayatollah': 3.1100129290787146,\n",
       " 'va': 3.106333396059909,\n",
       " 'infant': 3.1061369899454827,\n",
       " 'dish': 3.1043958322077656,\n",
       " 'hitlers': 3.1042935124357998,\n",
       " 'humiliating': 3.1009853171573676,\n",
       " 'unsolicited': 3.098561733752637,\n",
       " 'cut': 3.0965866115178504,\n",
       " 'fakes': 3.0899165600796747,\n",
       " 'fearing': 3.089349333784043,\n",
       " 'tramp': 3.087600084141213,\n",
       " 'incentive': 3.086258423718872,\n",
       " 'yamla': 3.086220792792322,\n",
       " 'threaten': 3.0725713148573157,\n",
       " 'rude': 3.071984570922605,\n",
       " 'trapped': 3.070985626585318,\n",
       " 'riddance': 3.069572275975503,\n",
       " 'presumes': 3.0690052236703047,\n",
       " 'earthquake': 3.0662352640759325,\n",
       " 'tod': 3.0648548134405282,\n",
       " 'ooooh': 3.0645304719330695,\n",
       " 'bursts': 3.0632905727075195,\n",
       " 'steak': 3.059607331774985,\n",
       " 'tops': 3.0595671043123702,\n",
       " 'arbitrary': 3.058556465655175,\n",
       " 'arabs': 3.056330643269031,\n",
       " 'alike': 3.0521517565714054,\n",
       " 'facets': 3.051556647156712,\n",
       " 'gregory': 3.0474033720092333,\n",
       " 'sniff': 3.047316015931145,\n",
       " 'terrible': 3.0472939256621703,\n",
       " 'incompetence': 3.047253988962846,\n",
       " 'resonate': 3.0464013244798256,\n",
       " 'molest': 3.0448289219153004,\n",
       " 'eff': 3.0436105148894272,\n",
       " 'practise': 3.0417389130532833,\n",
       " 'firstly': 3.041310349376473,\n",
       " 'sarcastically': 3.040160321016014,\n",
       " 'homunculus': 3.0394071096480193,\n",
       " 'rats': 3.0377977517472172,\n",
       " 'pedia': 3.0324551242687328,\n",
       " 'closet': 3.0323719455020353,\n",
       " 'zero': 3.0305996158878634,\n",
       " 'leno': 3.029643902275079,\n",
       " 'disruptively': 3.028686387850018,\n",
       " 'iz': 3.0250823590988336,\n",
       " 'arses': 3.0247695906070065,\n",
       " 'filipino': 3.023745630967663,\n",
       " 'liberals': 3.0232724949057976,\n",
       " 'vets': 3.0229822606038863,\n",
       " 'founders': 3.0220797039970404,\n",
       " '71': 3.01952351438042,\n",
       " 'grill': 3.0176805774191933,\n",
       " 'utter': 3.0165910077473486,\n",
       " 'suprised': 3.0147864165325764,\n",
       " 'thieves': 3.0131028905512647,\n",
       " 'vodka': 3.010096414714269,\n",
       " 'ranting': 3.009397565600677,\n",
       " 'foolishness': 3.0093486628618824,\n",
       " 'bigdunc': 3.0075378906381203,\n",
       " 'wrath': 3.0066587309002846,\n",
       " 'aint': 3.005973413042621,\n",
       " 'tibetans': 3.005743481506846,\n",
       " 'unlimited': 3.0038137497371977,\n",
       " 'sickening': 3.0037007478016324,\n",
       " 'pork': 3.000755888643563,\n",
       " 'nob': 2.995663120559892,\n",
       " 'wrecking': 2.9955801907488944,\n",
       " '122': 2.9893540737100768,\n",
       " 'argumentative': 2.986419818533643,\n",
       " 'federalist': 2.9856600877743276,\n",
       " 'beth': 2.983970528050037,\n",
       " 'thee': 2.9826709178953017,\n",
       " 'ante': 2.9754081567332578,\n",
       " 'goon': 2.9750273692351854,\n",
       " 'heap': 2.9746508810425856,\n",
       " 'cure': 2.9735095720229796,\n",
       " 'eurocentric': 2.973320969911848,\n",
       " 'dies': 2.970679842716088,\n",
       " 'compounded': 2.9682061873741366,\n",
       " 'proove': 2.9671651701901403,\n",
       " 'tenth': 2.96499190753777,\n",
       " 'antisemitic': 2.9632985630972497,\n",
       " 'fifth': 2.96295263461051,\n",
       " 'deviant': 2.9613037678958425,\n",
       " 'dearly': 2.9597923564679656,\n",
       " 'vent': 2.959316936750448,\n",
       " 'obsessive': 2.9572859038133266,\n",
       " 'flaming': 2.9563154532345592,\n",
       " 'detective': 2.955868348492886,\n",
       " 'stint': 2.9539058673173733,\n",
       " 'slimy': 2.9529215429865765,\n",
       " 'grocery': 2.9517268821544964,\n",
       " 'suppress': 2.948896337487137,\n",
       " 'criticizing': 2.947758912021932,\n",
       " 'transgender': 2.946605774958093,\n",
       " 'usa': 2.946458000204457,\n",
       " 'shenanigans': 2.944096616527651,\n",
       " 'shud': 2.942442635625573,\n",
       " 'obsessed': 2.942431501798282,\n",
       " 'sociopath': 2.941325552591263,\n",
       " 'faced': 2.939291921971717,\n",
       " 'indecent': 2.9367978864404356,\n",
       " 'princes': 2.9365512815155337,\n",
       " 'stick': 2.9286662852076852,\n",
       " '1400': 2.927439236919507,\n",
       " 'samurai': 2.9253396547157293,\n",
       " 'dudes': 2.924683601004274,\n",
       " 'drunk': 2.9167955615724908,\n",
       " '232': 2.9147828721574847,\n",
       " 'ma': 2.912933433681392,\n",
       " 'ghetto': 2.911689900944567,\n",
       " 'ill': 2.9102543903851017,\n",
       " 'transparent': 2.9089270900882824,\n",
       " 'deserve': 2.90813132307974,\n",
       " 'dum': 2.9078674316018858,\n",
       " 'consist': 2.905612121962163,\n",
       " 'obscenities': 2.9010193157500894,\n",
       " 'frickin': 2.8990167983500026,\n",
       " 'opinon': 2.8964383817133976,\n",
       " 'turd': 2.894067592793517,\n",
       " 'gd': 2.8934039619387075,\n",
       " 'smoking': 2.8921046928391583,\n",
       " 'killers': 2.891462737682074,\n",
       " 'pigs': 2.8914360894757896,\n",
       " 'wack': 2.890439911770079,\n",
       " 'pansy': 2.8902143798576265,\n",
       " 'pity': 2.889902594898344,\n",
       " 'stil': 2.8842506851785106,\n",
       " 'savior': 2.88410003467157,\n",
       " 'niggas': 2.88379285144944,\n",
       " 'cancellation': 2.8837439773658256,\n",
       " 'ka': 2.8828253870235105,\n",
       " 'pagan': 2.880974933234709,\n",
       " 'shannon': 2.8809680083101066,\n",
       " 'terrorist': 2.8802931412770127,\n",
       " 'joining': 2.8794974047169384,\n",
       " 'chabad': 2.879142400191818,\n",
       " 'bigot': 2.878592763305287,\n",
       " 'bulletin': 2.8757452352625723,\n",
       " 'dull': 2.87301543499853,\n",
       " 'pseudonym': 2.8729140911043123,\n",
       " 'bluff': 2.8729072188539506,\n",
       " 'sissy': 2.871866187304477,\n",
       " 'starr': 2.871361210555018,\n",
       " 'dame': 2.8712014578983873,\n",
       " 'prostitutes': 2.8710392029444427,\n",
       " 'circumcised': 2.8665497248289866,\n",
       " 'spirals': 2.862432784360496,\n",
       " 'sensational': 2.861840360503121,\n",
       " 'slanderous': 2.8598278819157033,\n",
       " 'rear': 2.853733726169932,\n",
       " 'bossy': 2.8518249974821948,\n",
       " 'customer': 2.849382994468039,\n",
       " 'mocking': 2.8488217563432734,\n",
       " 'life': 2.8476777243953193,\n",
       " 'consciously': 2.846894772923536,\n",
       " 'pratt': 2.846026036385886,\n",
       " 'criticise': 2.8439367523350456,\n",
       " 'colscott': 2.842363670130705,\n",
       " 'policing': 2.842153413953195,\n",
       " 'temptation': 2.841575762925966,\n",
       " 'shithole': 2.8409756830580606,\n",
       " 'steer': 2.8409294077566174,\n",
       " 'joker': 2.840582016948123,\n",
       " 'silence': 2.8396500053618414,\n",
       " 'sock': 2.8392614543648484,\n",
       " 'boilerplate': 2.838962867025359,\n",
       " 'blah': 2.838466671477981,\n",
       " 'santa': 2.837282685527944,\n",
       " 'babe': 2.8371100153745332,\n",
       " 'insensitive': 2.8353900338396363,\n",
       " 'ud': 2.83523433016996,\n",
       " 'ashley': 2.834248715631405,\n",
       " 'mama': 2.834214185642453,\n",
       " 'slayer': 2.8331175147847687,\n",
       " 'hazel': 2.830906323694607,\n",
       " 'crete': 2.830873922266147,\n",
       " 'maria': 2.8291755379359484,\n",
       " 'sends': 2.8277016908634094,\n",
       " 'explainations': 2.827308786434901,\n",
       " 'bark': 2.8252110550964744,\n",
       " 'wikistress': 2.8248576625070703,\n",
       " 'comrade': 2.8133959131756563,\n",
       " 'puppet': 2.810933921203054,\n",
       " 'piggy': 2.8105505467537837,\n",
       " 'numbered': 2.810014805475237,\n",
       " 'promotes': 2.80955593521062,\n",
       " 'sponsored': 2.807415248764575,\n",
       " 'deposit': 2.8070499739615684,\n",
       " 'nasty': 2.8059756450621793,\n",
       " 'finally': 2.804907153720294,\n",
       " 'hostility': 2.8029511520079113,\n",
       " 'luv': 2.8027147816538833,\n",
       " 'beep': 2.802270480449093,\n",
       " 'donate': 2.801918953576105,\n",
       " 'diminishes': 2.7997532444589357,\n",
       " 'demanded': 2.799273943002394,\n",
       " 'little': 2.799187300207382,\n",
       " '161': 2.7965012967390055,\n",
       " 'xenophobic': 2.7960620614479494,\n",
       " 'gma': 2.7951509375387906,\n",
       " 'assorted': 2.7944745963515185,\n",
       " 'seating': 2.7933800492005516,\n",
       " 'hollow': 2.7912598244754125,\n",
       " 'synonym': 2.7911185773373957,\n",
       " 'laziness': 2.7892942506506575,\n",
       " 'dominated': 2.7888659916789083,\n",
       " 'gladys': 2.7885185223443543,\n",
       " 'devil': 2.787086339743181,\n",
       " 'seeking': 2.7858740418840124,\n",
       " 'omg': 2.784479374978906,\n",
       " 'friction': 2.7802523481896877,\n",
       " 'notcensored': 2.780087635411175,\n",
       " 'cursory': 2.779729539928657,\n",
       " 'spectral': 2.7785007182501342,\n",
       " 'boxing': 2.7746315661496204,\n",
       " 'sham': 2.772037115863405,\n",
       " 'mermaid': 2.771882570190532,\n",
       " 'ha': 2.7714637892446303,\n",
       " 'pa': 2.7693455350339984,\n",
       " 'boi': 2.768031378049749,\n",
       " 'innuendo': 2.7670071441097277,\n",
       " 'waste': 2.7660649662741807,\n",
       " 'attacking': 2.7650031404406334,\n",
       " 'pull': 2.7638519797287566,\n",
       " 'slowly': 2.7637868412829323,\n",
       " 'pakistanis': 2.7624528488753044,\n",
       " 'rambling': 2.7602776613022773,\n",
       " 'spui': 2.760261289644269,\n",
       " 'poppers': 2.75943834109313,\n",
       " 'sack': 2.7576965238040643,\n",
       " 'hunted': 2.7563521897914454,\n",
       " 'eb': 2.752749179318807,\n",
       " 'numeral': 2.7524462337028015,\n",
       " 'falsehood': 2.752247136489572,\n",
       " 'thief': 2.749705192518713,\n",
       " 'zone': 2.749136793242659,\n",
       " 'infallible': 2.7468391938902257,\n",
       " 'markings': 2.743404625947377,\n",
       " 'lutheran': 2.7408318299068015,\n",
       " 'emotional': 2.740135592899212,\n",
       " 'fond': 2.740049164714112,\n",
       " 'thigh': 2.739208804493754,\n",
       " 'lo': 2.736046083529729,\n",
       " 'applause': 2.732615661539452,\n",
       " 'homophobic': 2.729930685293962,\n",
       " 'recuse': 2.7298300570959007,\n",
       " 'rabbis': 2.7272303083345677,\n",
       " 'drastic': 2.7268715777738337,\n",
       " 'libeled': 2.726077184143371,\n",
       " 'son': 2.7260213841450542,\n",
       " 'off2riorob': 2.7259883627373096,\n",
       " 'loose': 2.7258390846656178,\n",
       " 'respects': 2.7252617362663645,\n",
       " 'cease': 2.724365608598747,\n",
       " 'goodnight': 2.7213713815699516,\n",
       " ...}"
      ]
     },
     "execution_count": 16,
     "metadata": {},
     "output_type": "execute_result"
    }
   ],
   "source": [
    "dict(sorted(vocab_coef_dict.items(), key=lambda v: -v[1]))"
   ]
  },
  {
   "cell_type": "markdown",
   "id": "a384064a-bb37-49e3-a059-835e02150098",
   "metadata": {},
   "source": [
    "### probe the model a bit"
   ]
  },
  {
   "cell_type": "code",
   "execution_count": 17,
   "id": "ecad9286-4c1a-4aa3-a106-9a3f4e23b232",
   "metadata": {
    "tags": []
   },
   "outputs": [
    {
     "name": "stdout",
     "output_type": "stream",
     "text": [
      "[[0.95867571 0.04132429]]\n"
     ]
    }
   ],
   "source": [
    "test_text = \"Jews and muslims are great friends!\"\n",
    "\n",
    "print(clf.predict_proba([test_text]))"
   ]
  },
  {
   "cell_type": "code",
   "execution_count": 18,
   "id": "90a29abe-4657-4b9e-8186-d8acf5e29ddf",
   "metadata": {
    "tags": []
   },
   "outputs": [
    {
     "name": "stdout",
     "output_type": "stream",
     "text": [
      "[[0.95762929 0.04237071]]\n"
     ]
    }
   ],
   "source": [
    "test_text = \"That woman is great!\"\n",
    "\n",
    "print(clf.predict_proba([test_text]))"
   ]
  },
  {
   "cell_type": "code",
   "execution_count": 19,
   "id": "3ddc7fe1-97ba-4a50-a97f-646e176f3ca6",
   "metadata": {
    "tags": []
   },
   "outputs": [
    {
     "name": "stdout",
     "output_type": "stream",
     "text": [
      "[[0.96072211 0.03927789]]\n"
     ]
    }
   ],
   "source": [
    "test_text = \"That man is great!\"\n",
    "\n",
    "print(clf.predict_proba([test_text]))"
   ]
  },
  {
   "cell_type": "code",
   "execution_count": 20,
   "id": "a47a982c-2744-4317-bae7-69cb1e1c5ffd",
   "metadata": {
    "tags": []
   },
   "outputs": [
    {
     "name": "stdout",
     "output_type": "stream",
     "text": [
      "[[0.66363873 0.33636127]]\n"
     ]
    }
   ],
   "source": [
    "test_text = \"That muslim woman is great deed for islam!\"\n",
    "\n",
    "print(clf.predict_proba([test_text]))"
   ]
  },
  {
   "cell_type": "markdown",
   "id": "a0671b41-2e24-46aa-9f06-8fbc83930a7e",
   "metadata": {},
   "source": [
    "## Test Counterfactual based bias detection"
   ]
  },
  {
   "cell_type": "code",
   "execution_count": 154,
   "id": "41cde116-f6c6-41bc-9242-083c873e905a",
   "metadata": {
    "tags": []
   },
   "outputs": [],
   "source": [
    "from biaslyze.bias_detectors import LimeKeywordBiasDetector, CounterfactualBiasDetector"
   ]
  },
  {
   "cell_type": "code",
   "execution_count": 155,
   "id": "529e1ef9-5123-4761-8351-318027609f80",
   "metadata": {
    "tags": []
   },
   "outputs": [],
   "source": [
    "bias_detector = CounterfactualBiasDetector()"
   ]
  },
  {
   "cell_type": "code",
   "execution_count": null,
   "id": "fa893654-88e8-489d-92e8-0d9197278608",
   "metadata": {
    "tags": []
   },
   "outputs": [
    {
     "name": "stderr",
     "output_type": "stream",
     "text": [
      "2023-05-12 15:21:59.852 | INFO     | biaslyze.concept_detectors:detect:35 - Started keyword-based concept detection on 10000 texts...\n",
      "100%|█████████████████████████████████████████████████████████████████████████████████████████████████████████████████████████████████████████████████████████████████████████████| 10000/10000 [00:02<00:00, 4299.65it/s]\n",
      "2023-05-12 15:22:02.182 | INFO     | biaslyze.concept_detectors:detect:51 - Done. Found 8977 texts with protected concepts.\n",
      "2023-05-12 15:22:02.183 | INFO     | biaslyze.bias_detectors.counterfactual_biasdetector:process:69 - Processing concept nationality...\n",
      "  0%|                                                                                                                                                                                            | 0/8977 [00:00<?, ?it/s]"
     ]
    }
   ],
   "source": [
    "counterfactual_detection_results = bias_detector.process(texts=df.comment_text.sample(10000), predict_func=clf.predict_proba, concepts_to_consider=[\"gender\", \"religion\", \"nationality\"])"
   ]
  },
  {
   "cell_type": "code",
   "execution_count": null,
   "id": "1e751481-8cca-480f-afed-6ce7a1957ec3",
   "metadata": {
    "tags": []
   },
   "outputs": [],
   "source": [
    "counterfactual_detection_results.report()"
   ]
  },
  {
   "cell_type": "code",
   "execution_count": null,
   "id": "f1a412b3-e082-4c80-94c3-af6e018ef4cf",
   "metadata": {
    "tags": []
   },
   "outputs": [],
   "source": [
    "#counterfactual_detection_results.concept_results[0].omitted_keywords"
   ]
  },
  {
   "cell_type": "code",
   "execution_count": null,
   "id": "e07ba2dd-a0bb-450d-b3b9-03382f80ab4f",
   "metadata": {
    "tags": []
   },
   "outputs": [],
   "source": [
    "counterfactual_detection_results.visualize_counterfactual_scores(concept=\"gender\", top_n=20)"
   ]
  },
  {
   "cell_type": "code",
   "execution_count": null,
   "id": "e88821ba-eee7-4488-9262-32510c5aa6bb",
   "metadata": {
    "tags": []
   },
   "outputs": [],
   "source": [
    "counterfactual_detection_results.visualize_counterfactual_scores(concept=\"religion\", top_n=15)"
   ]
  },
  {
   "cell_type": "code",
   "execution_count": null,
   "id": "fe5667dd-bf20-4531-88ab-f7d17568d4e0",
   "metadata": {
    "tags": []
   },
   "outputs": [],
   "source": [
    "counterfactual_detection_results.visualize_counterfactual_scores(concept=\"nationality\", top_n=15)"
   ]
  },
  {
   "cell_type": "markdown",
   "id": "eafd8506-c670-411d-8621-42b7049be826",
   "metadata": {},
   "source": [
    "## Test LIME based bias detection with keywords"
   ]
  },
  {
   "cell_type": "code",
   "execution_count": 252,
   "id": "9399c76a-2299-49c9-a111-3b125798e807",
   "metadata": {},
   "outputs": [],
   "source": [
    "from biaslyze.evaluators import LimeBiasEvaluator\n",
    "from biaslyze.bias_detectors import LimeKeywordBiasDetector"
   ]
  },
  {
   "cell_type": "code",
   "execution_count": 253,
   "id": "83c61a69-1141-4a76-b372-e2e33857882f",
   "metadata": {},
   "outputs": [],
   "source": [
    "bias_detector = LimeKeywordBiasDetector(\n",
    "    bias_evaluator=LimeBiasEvaluator(n_lime_samples=1000),\n",
    "    n_top_keywords=30,\n",
    "    use_tokenizer=True\n",
    ")"
   ]
  },
  {
   "cell_type": "code",
   "execution_count": 23,
   "id": "c2cffca2-67f3-4024-b23a-d03eaa83ae05",
   "metadata": {
    "scrolled": true,
    "tags": []
   },
   "outputs": [
    {
     "name": "stderr",
     "output_type": "stream",
     "text": [
      "2023-05-11 11:02:34.824 | INFO     | biaslyze.concept_detectors:detect:35 - Started keyword-based concept detection on 100 texts...\n",
      "  0%|                                                                                                                                                                                             | 0/100 [00:00<?, ?it/s]/home/tobias/.cache/pypoetry/virtualenvs/biaslyze-OjqpgMw8-py3.10/lib/python3.10/site-packages/spacy/pipeline/lemmatizer.py:211: UserWarning: [W108] The rule-based lemmatizer did not find POS annotation for one or more tokens. Check that your pipeline includes components that assign token.pos, typically 'tagger'+'attribute_ruler' or 'morphologizer'.\n",
      "  warnings.warn(Warnings.W108)\n",
      "100%|██████████████████████████████████████████████████████████████████████████████████████████████████████████████████████████████████████████████████████████████████████████████████| 100/100 [00:00<00:00, 123.92it/s]\n",
      "2023-05-11 11:02:35.636 | INFO     | biaslyze.concept_detectors:detect:51 - Done. Found 39 texts with protected concepts.\n",
      "2023-05-11 11:02:35.637 | INFO     | biaslyze.evaluators:evaluate:45 - Started bias detection on 39 samples...\n",
      "100%|█████████████████████████████████████████████████████████████████████████████████████████████████████████████████████████████████████████████████████████████████████████████████████| 39/39 [00:28<00:00,  1.39it/s]\n"
     ]
    }
   ],
   "source": [
    "test_texts = df.comment_text.sample(100)\n",
    "detection_res = bias_detector.detect(texts=test_texts, predict_func=clf.predict_proba)"
   ]
  },
  {
   "cell_type": "code",
   "execution_count": 24,
   "id": "fc086f59-23dd-456b-a88e-8e49060f3e13",
   "metadata": {},
   "outputs": [
    {
     "name": "stdout",
     "output_type": "stream",
     "text": [
      "Detected 27 samples with potential issues.\n",
      "    Potentially problematic concepts detected: [('gender', 27), ('nationality', 2)]\n",
      "    Based on keywords: [('he', 7), ('his', 5), ('they', 4), ('man', 3), ('them', 3), ('her', 2), ('guys', 2), ('himself', 1), ('ecuador', 1), ('their', 1), ('she', 1), ('guy', 1), ('woman', 1), ('boy', 1), ('him', 1), ('male', 1), ('girl', 1), ('italy', 1), ('german', 1), ('father', 1)].\n"
     ]
    }
   ],
   "source": [
    "detection_res.summary()"
   ]
  },
  {
   "cell_type": "code",
   "execution_count": 25,
   "id": "c6a1e029-7dbf-4649-840b-3f21d501d253",
   "metadata": {
    "scrolled": true,
    "tags": []
   },
   "outputs": [
    {
     "name": "stdout",
     "output_type": "stream",
     "text": [
      "Concept: gender\n",
      "[{'reason': ['himself'],\n",
      "  'text': \", even a huge crack database.  Thus it's clear that Alkivar wants \"\n",
      "          'all the vanity for himself.'},\n",
      " {'reason': ['ecuador', 'they'],\n",
      "  'text': '\"\\n'\n",
      "          '\\n'\n",
      "          ' Hey \\n'\n",
      "          '\\n'\n",
      "          'Thank you for trying; however, many of the articles you have '\n",
      "          'created, such as the one on the Republic of Ecuador, and the one  '\n",
      "          'on \"\"Our Neighbors North and South\"\"... they aren\\'t really '\n",
      "          '\"\"articles\"\", per se. I\\'d like to suggest that you read several '\n",
      "          'more articles first, so as to get a better feel for what articles '\n",
      "          'should be about.\\n'\n",
      "          '\\n'\n",
      "          'Sorry.  \"'},\n",
      " {'reason': ['his'],\n",
      "  'text': 'What I envision is a separate section for his horse activities, '\n",
      "          'which could certainly lead off with the tale you mention.'},\n",
      " {'reason': ['man', 'he'],\n",
      "  'text': 'Note how in the 1980 movie Flash Gordon, Flash looks a whole lot '\n",
      "          'like He-Man and General Klytus looks so very much like Skeletor.'},\n",
      " {'reason': ['them'],\n",
      "  'text': '\"\\n'\n",
      "          'You appear to be misunderstanding.  Surely a section titled '\n",
      "          'proposed benefits need only prove that the benefits have been '\n",
      "          'proposed, and have cogent arguments made at the reference.  If '\n",
      "          'there are counter arguments, there is room on the page for them, '\n",
      "          \"but I don't believe that anyone sensible denies that the benefits \"\n",
      "          'have been proposed and have a high degree of plausibility.  The key '\n",
      "          'point is that only evidence that they have been proposed is '\n",
      "          'needed.  You may wish to explain your accusation of \"\"refusal to '\n",
      "          'show good faith\"\", but hopefully you see that it is '\n",
      "          'inappropriate.   \"'},\n",
      " {'reason': ['their'],\n",
      "  'text': 'Congratulations Gregalton. You finally got rid of me. Signed: '\n",
      "          'Nicolaas Smith.\\n'\n",
      "          '\\n'\n",
      "          'You knew if you carried on long enough with your insults I will '\n",
      "          'have to leave some or other time. \\n'\n",
      "          '\\n'\n",
      "          'Well, that time has now come. \\n'\n",
      "          '\\n'\n",
      "          'This is the article that neither you nor your friend cannot '\n",
      "          'delete:\\n'\n",
      "          '\\n'\n",
      "          'You will delete or remove what I write here. That has been your '\n",
      "          'style in the past and you will do that again. \\n'\n",
      "          '\\n'\n",
      "          'You and no-one else can stop or remove Real Value Accounting from '\n",
      "          'the economic scene. \\n'\n",
      "          '\\n'\n",
      "          'Real Value Accounting will prevail. It will one day be contributed '\n",
      "          'here on Wikipedia by some-one else than me. \\n'\n",
      "          '\\n'\n",
      "          '704 people have already downloaded the book on their own free '\n",
      "          'will. \\n'\n",
      "          '\\n'\n",
      "          'I am not ashamed that I developed Real Value Accounting by chance '\n",
      "          'as a result of my experience with hyperinflation. \\n'\n",
      "          '\\n'\n",
      "          'I am not ashamed that I identified that inflation has a monetary '\n",
      "          'and non-monetary component. \\n'\n",
      "          '\\n'\n",
      "          'I am not ashamed that I identified that the stable measuring unit '\n",
      "          'assumption destroy real value on a massive scale world wide. \\n'\n",
      "          '\\n'\n",
      "          'I am not ashamed to be who I am and to sign my real name to what I '\n",
      "          'write here.'},\n",
      " {'reason': ['her', 'she'],\n",
      "  'text': \"Sarah's history of rants (and blocks), makes her more blockable \"\n",
      "          'then the average account. She was doing great for a few months & '\n",
      "          'then bang, now this.'},\n",
      " {'reason': ['guy', 'woman'],\n",
      "  'text': \"Can't believe you locked that guy's talk page. Surely a woman of \"\n",
      "          'your interlect, who studied at the same institution as ghandi, '\n",
      "          'realises the importance of dialogue.'},\n",
      " {'reason': ['them'],\n",
      "  'text': 'Real value has an objective meaning: real value is constant '\n",
      "          'purchasing power. Every daily inflation-indexed national currency '\n",
      "          'monetary item(that means all of them) is an unit of perfectly '\n",
      "          'stable real value.'},\n",
      " {'reason': ['his', 'boy'],\n",
      "  'text': 'Your Boy\\n'\n",
      "          '\\n'\n",
      "          'AppoloBoy is at it again. If your as sick of him as the rest of us, '\n",
      "          'feel free to vandalize his sorry ass. -Fast Eddie and the vandal '\n",
      "          'squad- his anti-vandal tools are not worth a pinch of shit..'},\n",
      " {'reason': ['man'],\n",
      "  'text': 'Woah! \\n'\n",
      "          '\\n'\n",
      "          \"Jeeze K-Man I didn't know you had a wiki account too, how long have \"\n",
      "          'you????? Lol funny articles you tried to make lmao magnum pose '\n",
      "          'hahah respond on my talk page.... how many other ppl have an '\n",
      "          'account on here that we know any idea? Other ppl you have no idea '\n",
      "          'what im talking about im sure but you can just go drink a cup of '\n",
      "          \"Ms. Mason's urine instead of wondering.\"},\n",
      " {'reason': ['man', 'him'],\n",
      "  'text': 'I am being perfectly civil, Benon. I just don;t see why we have to '\n",
      "          \"follow T-Man around.  It's like taking your dog or pet armadillo \"\n",
      "          'for a walk... clean up after him.'},\n",
      " {'reason': ['he'],\n",
      "  'text': \"Please see this link . I don't believe that there was any adverse \"\n",
      "          'action taken towards Ramdrake as a result. It may just be certain '\n",
      "          'types of articles he has a problem with like the race-related ones, '\n",
      "          \"I don't know.\"},\n",
      " {'reason': ['them', 'he'],\n",
      "  'text': 'Some of the still-open really old discussions seem pretty much like '\n",
      "          \"no-brainers to close, but I can't close them, either because I \"\n",
      "          'participated in them or have been otherwise involved int he past. '\n",
      "          'For instance, this one seems pretty straightforward at this point.  '\n",
      "          '(talk)'},\n",
      " {'reason': ['male', 'girl'],\n",
      "  'text': 'problems with the foreskin? \\n'\n",
      "          '\\n'\n",
      "          'every body part can have problems. Name one body part that has less '\n",
      "          \"problems with the foreskin? you can't. Penile cancer is extremely \"\n",
      "          \"rare, so are male UTIs. It's like 1 in 100,000 whereas one in three \"\n",
      "          'women are at risk of breast cancer. Gee, by your standards, all '\n",
      "          'women should have massectomies. How is it that people like you even '\n",
      "          'exist (not an insult, just a question) to where you would prefer to '\n",
      "          'chop off a healthy body part rather than make sure it gets taken '\n",
      "          \"care of and cleaned. Might as well chop off every little girl's \"\n",
      "          'laibeas. 70.114.38.167'},\n",
      " {'reason': ['guys'],\n",
      "  'text': '\"So is being a wiki-dick! The blocks were removed and \"\"all\"\" of my '\n",
      "          'not so pleasant posts have been in self-defence. Nice distraction '\n",
      "          'technique you wiki-dicks use; attack and then try to block who you '\n",
      "          'attack when they respond in self-defence. Bearing false witness '\n",
      "          \"against one's neighbor violates one of the 10 commandments. In \"\n",
      "          'other words, you are a power-abusing liar because there are NO '\n",
      "          'BLOCKS on my two main IPs. Looks like all you wiki-dicks stick '\n",
      "          'together. Picture that! Wiki-dicks all stuck together for '\n",
      "          \"Valentine's Day ... Hahhahhahahahhahahahahahahahahaha. Sorry you \"\n",
      "          \"guys can't handle the truth. Maybe I'll stop. Maybe I won't. \"\n",
      "          'Hahahahhahahhahahahahahahahahahahahahahahahahahahahahahahaa *FU* \\n'\n",
      "          '\\n'\n",
      "          '\"'},\n",
      " {'reason': ['they', 'his'],\n",
      "  'text': '\"\\n'\n",
      "          '\\n'\n",
      "          ' Patrick Carnegy and Jill Gomez \\n'\n",
      "          '\\n'\n",
      "          'I see nothing wrong with saying \"\"his/her partner\"\". However, in '\n",
      "          \"this case I'm not sure whether or not they are married, as some \"\n",
      "          'sources say they are.   Do you know anything about this? Of course, '\n",
      "          \"if they are married, Ms Gomez is now a countess. '''''' (Talk) \"\n",
      "          '\"'},\n",
      " {'reason': ['his'],\n",
      "  'text': 'what about the fact that his employer sent around a memo asking '\n",
      "          'employees to go on and write nice things as mentioned in private '\n",
      "          'eye?'},\n",
      " {'reason': ['they'],\n",
      "  'text': \"Although this user unfortunately still doesn't seem to think they \"\n",
      "          'did anything wrong to begin with. (t|c)'},\n",
      " {'reason': ['italy', 'german', 'he'],\n",
      "  'text': 'The information on the page comes directly from the sources. He was '\n",
      "          'also from a German family that moved to Italy, so there is a mixing '\n",
      "          'of styles.'},\n",
      " {'reason': ['her'],\n",
      "  'text': ', 1 December 2010 (UTC)\\n'\n",
      "          'Yes, but she seems to have solid backing in the admin-community. '\n",
      "          'The strange thing is: she has her own blog and there her texts look '\n",
      "          'OK (the same articles). In blogs, strange ideas, ravings, UFOs, are '\n",
      "          'to be tolerated, not here of course. Another question: are her '\n",
      "          'Wikipedia entries (or is her blog) problematic in terms of '\n",
      "          'copyright-violation?   08:39'},\n",
      " {'reason': ['he'],\n",
      "  'text': '\"\\n'\n",
      "          '\\n'\n",
      "          'Don\\'t pull the \"\"he did it too\"\" card.  You\\'re obviously way over '\n",
      "          'the top.  If Tenbrae is too, and has been warned about it, then '\n",
      "          \"that's taken care of as well.  The point is, nobody on that page is \"\n",
      "          'going to do it anymore.  Starting now.   \"'},\n",
      " {'reason': ['father'],\n",
      "  'text': 'Sir William Lawrence, 1st Baronet \\n'\n",
      "          '\\n'\n",
      "          \"Obviously, you may know plenty about this family that I don't, but \"\n",
      "          \"the statement that Lawrence's father was a member of the Fettiplace \"\n",
      "          'family must be backed by a reference identifying this particlar '\n",
      "          'Lawernce.'},\n",
      " {'reason': ['he'],\n",
      "  'text': '\"\\n'\n",
      "          '\\n'\n",
      "          'I am the \"\"sockpuppet\"\" that that idiot akradecki keeps thinking he '\n",
      "          'see behind every bush and I can assure you that I had nothing to do '\n",
      "          'with this. I have been watching asskrack, billcj and bzuk for a '\n",
      "          'while now and everytime they see something they don;t like or '\n",
      "          \"cannot handle they go ahead and delete it because they claim it's \"\n",
      "          'sock puppetry. All three of them are out fo control. Don;t expect '\n",
      "          'any help from the admin John either. He backs asskrack up every '\n",
      "          'time. \"'},\n",
      " {'reason': ['his', 'he'],\n",
      "  'text': '\"\\n'\n",
      "          '\\n'\n",
      "          'Early life\\n'\n",
      "          '\\n'\n",
      "          'Hanssen was born in Chicago, Illinois, to a family of mixed '\n",
      "          'Danish-Polish and German descent. His father, a Chicago police '\n",
      "          'officer, was emotionally abusive to Hanssen during his '\n",
      "          'childhood.[7] Once, for no known reason, Howard Hanssen arranged '\n",
      "          \"for his son to fail a driver's test. In later life, Robert Hanssen \"\n",
      "          \"speculated that his father had done this in order to 'toughen him \"\n",
      "          \"up'. The elder Hanssen constantly disparaged his son and said that \"\n",
      "          'Robert would never make anything of his life.[8]\\n'\n",
      "          '\\n'\n",
      "          'Hanssen graduated from William Howard Taft High School in 1962 and '\n",
      "          'went on to attend Knox College in Galesburg, Illinois, where he '\n",
      "          \"earned a bachelor's degree in chemistry in 1966. While at Knox, he \"\n",
      "          'took an interest in Russian through elective courses. It was also '\n",
      "          'at this time when Hanssen applied for a cryptographer position in '\n",
      "          'the NSA but was rebuffed due to budget setbacks. Originally set to '\n",
      "          'become a doctor, Hanssen took the opportunity to enroll in the '\n",
      "          'dental school at Northwestern University.[9] He did well '\n",
      "          'academically, but said that he \"\"didn\\'t like spit all that '\n",
      "          'much\"\".[10] He switched his focus to business after three '\n",
      "          'years,[11] and received an MBA in accounting and information '\n",
      "          'systems in 1971. After graduating, he took a job with an accounting '\n",
      "          'firm but quit to join the Chicago Police Department as an internal '\n",
      "          'affairs investigator, specializing in forensic accounting. Hanssen '\n",
      "          'left the department after two years, joining the FBI in January '\n",
      "          '1976.[7]\\n'\n",
      "          '\\n'\n",
      "          'Hanssen met Bernadette \"\"Bonnie\"\" Wauck while he was attending '\n",
      "          'dental school in Chicago. Bonnie was one of eight children from a '\n",
      "          'staunchly Roman Catholic family. The couple married in 1968. After '\n",
      "          \"Hanssen married, he converted from Lutheranism to his wife's \"\n",
      "          'Catholicism, becoming a fervent believer and being extensively '\n",
      "          'involved in Opus Dei.\\n'\n",
      "          '[edit] Early FBI career and first espionage activities (1979–1981)\\n'\n",
      "          '\\n'\n",
      "          'Hanssen joined the FBI as a special agent on 12 January 1976 and '\n",
      "          'was transferred to the field office in Gary, Indiana. In 1978, '\n",
      "          'Hanssen and his growing family (of three children and eventually '\n",
      "          'six) moved to New York when the FBI transferred him to its field '\n",
      "          'office there.[12] The next year, Hanssen was moved into '\n",
      "          'counter-intelligence and given the task of compiling a database of '\n",
      "          'Soviet intelligence for the Bureau. It was then, in 1979, only '\n",
      "          'three years after joining the FBI, that Hanssen began his career as '\n",
      "          'a Soviet, and later a Russian, spy.\\n'\n",
      "          '\\n'\n",
      "          'That year, Hanssen approached the GRU (the Soviet military '\n",
      "          'intelligence agency) and offered his services. Hanssen never '\n",
      "          'indicated any political or ideological motive for his activities, '\n",
      "          'telling the FBI after he was caught that his only motivation was '\n",
      "          'the money.[13] During his first espionage cycle, Hanssen told the '\n",
      "          'GRU a significant amount, including information on FBI bugging '\n",
      "          'activities and Bureau lists of suspected Soviet intelligence '\n",
      "          'agents. His most important leak of information was the betrayal of '\n",
      "          'Dmitri Polyakov, code named TOPHAT. Polyakov was a CIA informant '\n",
      "          'for more than twenty years before his retirement in 1980, and '\n",
      "          'passed enormous amounts of information to American intelligence '\n",
      "          'while he rose to the rank of General in the Soviet Army. For '\n",
      "          'unknown reasons, the Soviets did not act on their intelligence '\n",
      "          'about Polyakov until he was betrayed a second time by CIA mole '\n",
      "          'Aldrich Ames in 1985. Polyakov was arrested in 1986 and executed in '\n",
      "          \"1988. Ames was officially blamed for giving Polyakov's name to the \"\n",
      "          \"Soviets, but Hanssen's role remained unknown until after his arrest \"\n",
      "          'in 2001.[14]\\n'\n",
      "          '\\n'\n",
      "          'Hanssen was nearly exposed in 1981, when Bonnie Hanssen caught her '\n",
      "          'husband in their basement writing a letter to the Soviets. Hanssen '\n",
      "          \"admitted to her that he'd been giving information to the Soviets \"\n",
      "          '(motivated purely by his \"\"need\"\" for money) and that he had '\n",
      "          'received US$30,000 as payment, but he lied and said that he was '\n",
      "          'only passing along false intelligence. Knowing this, Bonnie '\n",
      "          'insisted that her husband go to confession, as is required in the '\n",
      "          'Roman Catholic faith for those who have committed serious sins. The '\n",
      "          \"Opus Dei priest who allegedly heard Robert's confession is said to \"\n",
      "          'have told him to give the money to charity as an act of penance. '\n",
      "          'This remains unconfirmed as under the Seal of Confession, “it is '\n",
      "          'absolutely forbidden for a confessor to betray in any way a '\n",
      "          'penitent in words or in any manner for any reason\"\" (Canon 983.1) '\n",
      "          'under penalty of \"\"latae sententiae excommunication” (Canon '\n",
      "          '1388.1). Hanssen told his wife that he gave the money to Mother '\n",
      "          'Teresa, but it is unknown if he actually did so.[15] Hanssen then '\n",
      "          'stopped spying for the Soviet Union until 1985.\\n'\n",
      "          '[edit] FBI counterintelligence unit, further espionage activities '\n",
      "          '(1985–1991)\\n'\n",
      "          '\"\"Ellis\"\" dead drop site in Foxstone Park used by Hanssen, '\n",
      "          'including the day of his arrest\\n'\n",
      "          '\\n'\n",
      "          'Hanssen was transferred to the Washington, D.C., office in 1981 and '\n",
      "          'moved to the suburb of Vienn'},\n",
      " {'reason': ['they'],\n",
      "  'text': '\"== Liquid Fire ==\\n'\n",
      "          '\\n'\n",
      "          'Daria Huerta invented Liquid Fire. The term \"\"liquid fire\"\" was '\n",
      "          'created in 1960 and the product was invented in 1940. Liquid fire '\n",
      "          'helps burn off blemishes such as warts, boils, and blisters. It is '\n",
      "          'used in many dermatologists around the world. It was also used in '\n",
      "          'construction work to help get rid of walls. They would rub the '\n",
      "          'liquid fire on the wall and let it burn the wall down. Daria Huerta '\n",
      "          \"was one of the world's most smartest women of her time. She also \"\n",
      "          'created common things such as the coffee cup, pillow, and the sink. '\n",
      "          'The product went into stores in 1961. It was sold at stores like '\n",
      "          'Walmart, CVS, Wallgreens, and Pharmacies all over the world. It was '\n",
      "          'originally called \"\"Fire in the Water\"\" then they started calling '\n",
      "          'it what it truly is \"\"Liquid Water\"\". Liquid water sold for $10.00 '\n",
      "          'per box. Each box contains 7 15x10 jars full of Liquid Fire. Daria '\n",
      "          'Huerta created the Cark. She was playing around with genes from a '\n",
      "          'shark and a cat one day. A year later she created a mutated '\n",
      "          'creature. It was half shark, half cat. She then released it into '\n",
      "          'the wild in 1990. The Cark started destroying the whole ecosystem. '\n",
      "          'They had to destroy the Cark which took about 5 years. In 1995 she '\n",
      "          'then decided it was time for her to quit science so she became a '\n",
      "          'seamstress. She was playing around with yarn and discovered a thin '\n",
      "          'piece that had ripped off which she then used to clean her teeth. '\n",
      "          'This was called floss. In 2000 she created flavors like spearmint, '\n",
      "          'peppermint, and wintermint. Huerta died in 2001.\\n'\n",
      "          'The Picture Below is the ONLY Picture of the original Cark:\\n'\n",
      "          '/Users/Maddy/Pictures/sharkcat.jpg\"'},\n",
      " {'reason': ['guys'],\n",
      "  'text': '\"\\n'\n",
      "          ' So, it seems he is already maturing and advancing from my actions '\n",
      "          'and all of our inputs...   \\n'\n",
      "          '\\n'\n",
      "          ' References \\n'\n",
      "          ' {{Cite email|comment= I saw the comments left by everyone on the '\n",
      "          'talk pages, but first things first: T13, I do NOT think that it is '\n",
      "          'an \"\"evil plot\"\" against me. Making comments like that when I\\'m '\n",
      "          'trying to figure out a) how to move forward, including taking a '\n",
      "          \"little break from it, and b) when I'm trying to figure out to show \"\n",
      "          'that I accept responsibility (including a sincere apology note) '\n",
      "          \"does not help, nor is that actually true. I'm emailing this to \"\n",
      "          \"Dennis and BWilkins because they saw the messages and I don't think \"\n",
      "          'I\\'m technically being \"\"ganged up on\"\". I\\'d like for T13 to '\n",
      "          'strike those portions of the comments, as they are false and '\n",
      "          'unhelpful. The other parts are helpful.In short, I might '\n",
      "          \"occasionally see what's being talked about, but I don't intend to \"\n",
      "          \"participate until the very end of the week at the earliest. I'm a \"\n",
      "          'little disappointed that I have to write this email. Anyway, thanks '\n",
      "          'for the words of wisdom guys.~}}\"'}]\n",
      "Concept: nationality\n",
      "[{'reason': ['ecuador', 'they'],\n",
      "  'text': '\"\\n'\n",
      "          '\\n'\n",
      "          ' Hey \\n'\n",
      "          '\\n'\n",
      "          'Thank you for trying; however, many of the articles you have '\n",
      "          'created, such as the one on the Republic of Ecuador, and the one  '\n",
      "          'on \"\"Our Neighbors North and South\"\"... they aren\\'t really '\n",
      "          '\"\"articles\"\", per se. I\\'d like to suggest that you read several '\n",
      "          'more articles first, so as to get a better feel for what articles '\n",
      "          'should be about.\\n'\n",
      "          '\\n'\n",
      "          'Sorry.  \"'},\n",
      " {'reason': ['italy', 'german', 'he'],\n",
      "  'text': 'The information on the page comes directly from the sources. He was '\n",
      "          'also from a German family that moved to Italy, so there is a mixing '\n",
      "          'of styles.'}]\n"
     ]
    }
   ],
   "source": [
    "detection_res.details(group_by_concept=True)"
   ]
  },
  {
   "cell_type": "code",
   "execution_count": 28,
   "id": "462fd887-0680-49bb-abbe-a128b52a0656",
   "metadata": {
    "tags": []
   },
   "outputs": [
    {
     "data": {
      "image/png": "[encoded data removed]",
      "text/plain": [
       "<Figure size 640x480 with 1 Axes>"
      ]
     },
     "metadata": {},
     "output_type": "display_data"
    }
   ],
   "source": [
    "plt.hist([sample.metrics.get(\"mean_KL_divergence\") for sample in detection_res.biased_samples], bins=20, range=[0,0.5])\n",
    "plt.title(\"Distribution of mean KL divergence over all samples\\nsmaller is better\");"
   ]
  },
  {
   "cell_type": "code",
   "execution_count": 29,
   "id": "0eaef933-c3ff-4268-b4fd-7e9966fa7956",
   "metadata": {},
   "outputs": [],
   "source": [
    "test_df = df.iloc[test_texts.index]"
   ]
  },
  {
   "cell_type": "code",
   "execution_count": 30,
   "id": "262dcc47-effc-4c00-8830-70c63bf6b573",
   "metadata": {},
   "outputs": [
    {
     "data": {
      "text/plain": [
       "'the category was unnecesary, as explained in my edit summary. Your threats are disgrace to wikipedia.'"
      ]
     },
     "execution_count": 30,
     "metadata": {},
     "output_type": "execute_result"
    }
   ],
   "source": [
    "test_df[test_df.target].reset_index().comment_text[4]"
   ]
  },
  {
   "cell_type": "code",
   "execution_count": 31,
   "id": "2d4df703-5419-495e-a6d7-f58952c523d1",
   "metadata": {
    "tags": []
   },
   "outputs": [
    {
     "data": {
      "text/html": [
       "<style>\n",
       "        .bk-notebook-logo {\n",
       "            display: block;\n",
       "            width: 20px;\n",
       "            height: 20px;\n",
       "            background-image: url(data:image/png;base64,iVBORw0KGgoAAAANSUhEUgAAABQAAAAUCAYAAACNiR0NAAAABHNCSVQICAgIfAhkiAAAAAlwSFlzAAALEgAACxIB0t1+/AAAABx0RVh0U29mdHdhcmUAQWRvYmUgRmlyZXdvcmtzIENTNui8sowAAAOkSURBVDiNjZRtaJVlGMd/1/08zzln5zjP1LWcU9N0NkN8m2CYjpgQYQXqSs0I84OLIC0hkEKoPtiH3gmKoiJDU7QpLgoLjLIQCpEsNJ1vqUOdO7ppbuec5+V+rj4ctwzd8IIbbi6u+8f1539dt3A78eXC7QizUF7gyV1fD1Yqg4JWz84yffhm0qkFqBogB9rM8tZdtwVsPUhWhGcFJngGeWrPzHm5oaMmkfEg1usvLFyc8jLRqDOMru7AyC8saQr7GG7f5fvDeH7Ej8CM66nIF+8yngt6HWaKh7k49Soy9nXurCi1o3qUbS3zWfrYeQDTB/Qj6kX6Ybhw4B+bOYoLKCC9H3Nu/leUTZ1JdRWkkn2ldcCamzrcf47KKXdAJllSlxAOkRgyHsGC/zRday5Qld9DyoM4/q/rUoy/CXh3jzOu3bHUVZeU+DEn8FInkPBFlu3+nW3Nw0mk6vCDiWg8CeJaxEwuHS3+z5RgY+YBR6V1Z1nxSOfoaPa4LASWxxdNp+VWTk7+4vzaou8v8PN+xo+KY2xsw6une2frhw05CTYOmQvsEhjhWjn0bmXPjpE1+kplmmkP3suftwTubK9Vq22qKmrBhpY4jvd5afdRA3wGjFAgcnTK2s4hY0/GPNIb0nErGMCRxWOOX64Z8RAC4oCXdklmEvcL8o0BfkNK4lUg9HTl+oPlQxdNo3Mg4Nv175e/1LDGzZen30MEjRUtmXSfiTVu1kK8W4txyV6BMKlbgk3lMwYCiusNy9fVfvvwMxv8Ynl6vxoByANLTWplvuj/nF9m2+PDtt1eiHPBr1oIfhCChQMBw6Aw0UulqTKZdfVvfG7VcfIqLG9bcldL/+pdWTLxLUy8Qq38heUIjh4XlzZxzQm19lLFlr8vdQ97rjZVOLf8nclzckbcD4wxXMidpX30sFd37Fv/GtwwhzhxGVAprjbg0gCAEeIgwCZyTV2Z1REEW8O4py0wsjeloKoMr6iCY6dP92H6Vw/oTyICIthibxjm/DfN9lVz8IqtqKYLUXfoKVMVQVVJOElGjrnnUt9T9wbgp8AyYKaGlqingHZU/uG2NTZSVqwHQTWkx9hxjkpWDaCg6Ckj5qebgBVbT3V3NNXMSiWSDdGV3hrtzla7J+duwPOToIg42ChPQOQjspnSlp1V+Gjdged7+8UN5CRAV7a5EdFNwCjEaBR27b3W890TE7g24NAP/mMDXRWrGoFPQI9ls/MWO2dWFAar/xcOIImbbpA3zgAAAABJRU5ErkJggg==);\n",
       "        }\n",
       "    </style>\n",
       "    <div>\n",
       "        <a href=\"https://bokeh.org\" target=\"_blank\" class=\"bk-notebook-logo\"></a>\n",
       "        <span id=\"p1001\">Loading BokehJS ...</span>\n",
       "    </div>\n"
      ]
     },
     "metadata": {},
     "output_type": "display_data"
    },
    {
     "data": {
      "application/javascript": [
       "(function(root) {\n",
       "  function now() {\n",
       "    return new Date();\n",
       "  }\n",
       "\n",
       "  const force = true;\n",
       "\n",
       "  if (typeof root._bokeh_onload_callbacks === \"undefined\" || force === true) {\n",
       "    root._bokeh_onload_callbacks = [];\n",
       "    root._bokeh_is_loading = undefined;\n",
       "  }\n",
       "\n",
       "const JS_MIME_TYPE = 'application/javascript';\n",
       "  const HTML_MIME_TYPE = 'text/html';\n",
       "  const EXEC_MIME_TYPE = 'application/vnd.bokehjs_exec.v0+json';\n",
       "  const CLASS_NAME = 'output_bokeh rendered_html';\n",
       "\n",
       "  /**\n",
       "   * Render data to the DOM node\n",
       "   */\n",
       "  function render(props, node) {\n",
       "    const script = document.createElement(\"script\");\n",
       "    node.appendChild(script);\n",
       "  }\n",
       "\n",
       "  /**\n",
       "   * Handle when an output is cleared or removed\n",
       "   */\n",
       "  function handleClearOutput(event, handle) {\n",
       "    const cell = handle.cell;\n",
       "\n",
       "    const id = cell.output_area._bokeh_element_id;\n",
       "    const server_id = cell.output_area._bokeh_server_id;\n",
       "    // Clean up Bokeh references\n",
       "    if (id != null && id in Bokeh.index) {\n",
       "      Bokeh.index[id].model.document.clear();\n",
       "      delete Bokeh.index[id];\n",
       "    }\n",
       "\n",
       "    if (server_id !== undefined) {\n",
       "      // Clean up Bokeh references\n",
       "      const cmd_clean = \"from bokeh.io.state import curstate; print(curstate().uuid_to_server['\" + server_id + \"'].get_sessions()[0].document.roots[0]._id)\";\n",
       "      cell.notebook.kernel.execute(cmd_clean, {\n",
       "        iopub: {\n",
       "          output: function(msg) {\n",
       "            const id = msg.content.text.trim();\n",
       "            if (id in Bokeh.index) {\n",
       "              Bokeh.index[id].model.document.clear();\n",
       "              delete Bokeh.index[id];\n",
       "            }\n",
       "          }\n",
       "        }\n",
       "      });\n",
       "      // Destroy server and session\n",
       "      const cmd_destroy = \"import bokeh.io.notebook as ion; ion.destroy_server('\" + server_id + \"')\";\n",
       "      cell.notebook.kernel.execute(cmd_destroy);\n",
       "    }\n",
       "  }\n",
       "\n",
       "  /**\n",
       "   * Handle when a new output is added\n",
       "   */\n",
       "  function handleAddOutput(event, handle) {\n",
       "    const output_area = handle.output_area;\n",
       "    const output = handle.output;\n",
       "\n",
       "    // limit handleAddOutput to display_data with EXEC_MIME_TYPE content only\n",
       "    if ((output.output_type != \"display_data\") || (!Object.prototype.hasOwnProperty.call(output.data, EXEC_MIME_TYPE))) {\n",
       "      return\n",
       "    }\n",
       "\n",
       "    const toinsert = output_area.element.find(\".\" + CLASS_NAME.split(' ')[0]);\n",
       "\n",
       "    if (output.metadata[EXEC_MIME_TYPE][\"id\"] !== undefined) {\n",
       "      toinsert[toinsert.length - 1].firstChild.textContent = output.data[JS_MIME_TYPE];\n",
       "      // store reference to embed id on output_area\n",
       "      output_area._bokeh_element_id = output.metadata[EXEC_MIME_TYPE][\"id\"];\n",
       "    }\n",
       "    if (output.metadata[EXEC_MIME_TYPE][\"server_id\"] !== undefined) {\n",
       "      const bk_div = document.createElement(\"div\");\n",
       "      bk_div.innerHTML = output.data[HTML_MIME_TYPE];\n",
       "      const script_attrs = bk_div.children[0].attributes;\n",
       "      for (let i = 0; i < script_attrs.length; i++) {\n",
       "        toinsert[toinsert.length - 1].firstChild.setAttribute(script_attrs[i].name, script_attrs[i].value);\n",
       "        toinsert[toinsert.length - 1].firstChild.textContent = bk_div.children[0].textContent\n",
       "      }\n",
       "      // store reference to server id on output_area\n",
       "      output_area._bokeh_server_id = output.metadata[EXEC_MIME_TYPE][\"server_id\"];\n",
       "    }\n",
       "  }\n",
       "\n",
       "  function register_renderer(events, OutputArea) {\n",
       "\n",
       "    function append_mime(data, metadata, element) {\n",
       "      // create a DOM node to render to\n",
       "      const toinsert = this.create_output_subarea(\n",
       "        metadata,\n",
       "        CLASS_NAME,\n",
       "        EXEC_MIME_TYPE\n",
       "      );\n",
       "      this.keyboard_manager.register_events(toinsert);\n",
       "      // Render to node\n",
       "      const props = {data: data, metadata: metadata[EXEC_MIME_TYPE]};\n",
       "      render(props, toinsert[toinsert.length - 1]);\n",
       "      element.append(toinsert);\n",
       "      return toinsert\n",
       "    }\n",
       "\n",
       "    /* Handle when an output is cleared or removed */\n",
       "    events.on('clear_output.CodeCell', handleClearOutput);\n",
       "    events.on('delete.Cell', handleClearOutput);\n",
       "\n",
       "    /* Handle when a new output is added */\n",
       "    events.on('output_added.OutputArea', handleAddOutput);\n",
       "\n",
       "    /**\n",
       "     * Register the mime type and append_mime function with output_area\n",
       "     */\n",
       "    OutputArea.prototype.register_mime_type(EXEC_MIME_TYPE, append_mime, {\n",
       "      /* Is output safe? */\n",
       "      safe: true,\n",
       "      /* Index of renderer in `output_area.display_order` */\n",
       "      index: 0\n",
       "    });\n",
       "  }\n",
       "\n",
       "  // register the mime type if in Jupyter Notebook environment and previously unregistered\n",
       "  if (root.Jupyter !== undefined) {\n",
       "    const events = require('base/js/events');\n",
       "    const OutputArea = require('notebook/js/outputarea').OutputArea;\n",
       "\n",
       "    if (OutputArea.prototype.mime_types().indexOf(EXEC_MIME_TYPE) == -1) {\n",
       "      register_renderer(events, OutputArea);\n",
       "    }\n",
       "  }\n",
       "  if (typeof (root._bokeh_timeout) === \"undefined\" || force === true) {\n",
       "    root._bokeh_timeout = Date.now() + 5000;\n",
       "    root._bokeh_failed_load = false;\n",
       "  }\n",
       "\n",
       "  const NB_LOAD_WARNING = {'data': {'text/html':\n",
       "     \"<div style='background-color: #fdd'>\\n\"+\n",
       "     \"<p>\\n\"+\n",
       "     \"BokehJS does not appear to have successfully loaded. If loading BokehJS from CDN, this \\n\"+\n",
       "     \"may be due to a slow or bad network connection. Possible fixes:\\n\"+\n",
       "     \"</p>\\n\"+\n",
       "     \"<ul>\\n\"+\n",
       "     \"<li>re-rerun `output_notebook()` to attempt to load from CDN again, or</li>\\n\"+\n",
       "     \"<li>use INLINE resources instead, as so:</li>\\n\"+\n",
       "     \"</ul>\\n\"+\n",
       "     \"<code>\\n\"+\n",
       "     \"from bokeh.resources import INLINE\\n\"+\n",
       "     \"output_notebook(resources=INLINE)\\n\"+\n",
       "     \"</code>\\n\"+\n",
       "     \"</div>\"}};\n",
       "\n",
       "  function display_loaded() {\n",
       "    const el = document.getElementById(\"p1001\");\n",
       "    if (el != null) {\n",
       "      el.textContent = \"BokehJS is loading...\";\n",
       "    }\n",
       "    if (root.Bokeh !== undefined) {\n",
       "      if (el != null) {\n",
       "        el.textContent = \"BokehJS \" + root.Bokeh.version + \" successfully loaded.\";\n",
       "      }\n",
       "    } else if (Date.now() < root._bokeh_timeout) {\n",
       "      setTimeout(display_loaded, 100)\n",
       "    }\n",
       "  }\n",
       "\n",
       "  function run_callbacks() {\n",
       "    try {\n",
       "      root._bokeh_onload_callbacks.forEach(function(callback) {\n",
       "        if (callback != null)\n",
       "          callback();\n",
       "      });\n",
       "    } finally {\n",
       "      delete root._bokeh_onload_callbacks\n",
       "    }\n",
       "    console.debug(\"Bokeh: all callbacks have finished\");\n",
       "  }\n",
       "\n",
       "  function load_libs(css_urls, js_urls, callback) {\n",
       "    if (css_urls == null) css_urls = [];\n",
       "    if (js_urls == null) js_urls = [];\n",
       "\n",
       "    root._bokeh_onload_callbacks.push(callback);\n",
       "    if (root._bokeh_is_loading > 0) {\n",
       "      console.debug(\"Bokeh: BokehJS is being loaded, scheduling callback at\", now());\n",
       "      return null;\n",
       "    }\n",
       "    if (js_urls == null || js_urls.length === 0) {\n",
       "      run_callbacks();\n",
       "      return null;\n",
       "    }\n",
       "    console.debug(\"Bokeh: BokehJS not loaded, scheduling load and callback at\", now());\n",
       "    root._bokeh_is_loading = css_urls.length + js_urls.length;\n",
       "\n",
       "    function on_load() {\n",
       "      root._bokeh_is_loading--;\n",
       "      if (root._bokeh_is_loading === 0) {\n",
       "        console.debug(\"Bokeh: all BokehJS libraries/stylesheets loaded\");\n",
       "        run_callbacks()\n",
       "      }\n",
       "    }\n",
       "\n",
       "    function on_error(url) {\n",
       "      console.error(\"failed to load \" + url);\n",
       "    }\n",
       "\n",
       "    for (let i = 0; i < css_urls.length; i++) {\n",
       "      const url = css_urls[i];\n",
       "      const element = document.createElement(\"link\");\n",
       "      element.onload = on_load;\n",
       "      element.onerror = on_error.bind(null, url);\n",
       "      element.rel = \"stylesheet\";\n",
       "      element.type = \"text/css\";\n",
       "      element.href = url;\n",
       "      console.debug(\"Bokeh: injecting link tag for BokehJS stylesheet: \", url);\n",
       "      document.body.appendChild(element);\n",
       "    }\n",
       "\n",
       "    for (let i = 0; i < js_urls.length; i++) {\n",
       "      const url = js_urls[i];\n",
       "      const element = document.createElement('script');\n",
       "      element.onload = on_load;\n",
       "      element.onerror = on_error.bind(null, url);\n",
       "      element.async = false;\n",
       "      element.src = url;\n",
       "      console.debug(\"Bokeh: injecting script tag for BokehJS library: \", url);\n",
       "      document.head.appendChild(element);\n",
       "    }\n",
       "  };\n",
       "\n",
       "  function inject_raw_css(css) {\n",
       "    const element = document.createElement(\"style\");\n",
       "    element.appendChild(document.createTextNode(css));\n",
       "    document.body.appendChild(element);\n",
       "  }\n",
       "\n",
       "  const js_urls = [\"https://cdn.bokeh.org/bokeh/release/bokeh-3.1.0.min.js\", \"https://cdn.bokeh.org/bokeh/release/bokeh-gl-3.1.0.min.js\", \"https://cdn.bokeh.org/bokeh/release/bokeh-widgets-3.1.0.min.js\", \"https://cdn.bokeh.org/bokeh/release/bokeh-tables-3.1.0.min.js\", \"https://cdn.bokeh.org/bokeh/release/bokeh-mathjax-3.1.0.min.js\"];\n",
       "  const css_urls = [];\n",
       "\n",
       "  const inline_js = [    function(Bokeh) {\n",
       "      Bokeh.set_log_level(\"info\");\n",
       "    },\n",
       "function(Bokeh) {\n",
       "    }\n",
       "  ];\n",
       "\n",
       "  function run_inline_js() {\n",
       "    if (root.Bokeh !== undefined || force === true) {\n",
       "          for (let i = 0; i < inline_js.length; i++) {\n",
       "      inline_js[i].call(root, root.Bokeh);\n",
       "    }\n",
       "if (force === true) {\n",
       "        display_loaded();\n",
       "      }} else if (Date.now() < root._bokeh_timeout) {\n",
       "      setTimeout(run_inline_js, 100);\n",
       "    } else if (!root._bokeh_failed_load) {\n",
       "      console.log(\"Bokeh: BokehJS failed to load within specified timeout.\");\n",
       "      root._bokeh_failed_load = true;\n",
       "    } else if (force !== true) {\n",
       "      const cell = $(document.getElementById(\"p1001\")).parents('.cell').data().cell;\n",
       "      cell.output_area.append_execute_result(NB_LOAD_WARNING)\n",
       "    }\n",
       "  }\n",
       "\n",
       "  if (root._bokeh_is_loading === 0) {\n",
       "    console.debug(\"Bokeh: BokehJS loaded, going straight to plotting\");\n",
       "    run_inline_js();\n",
       "  } else {\n",
       "    load_libs(css_urls, js_urls, function() {\n",
       "      console.debug(\"Bokeh: BokehJS plotting callback run at\", now());\n",
       "      run_inline_js();\n",
       "    });\n",
       "  }\n",
       "}(window));"
      ],
      "application/vnd.bokehjs_load.v0+json": "(function(root) {\n  function now() {\n    return new Date();\n  }\n\n  const force = true;\n\n  if (typeof root._bokeh_onload_callbacks === \"undefined\" || force === true) {\n    root._bokeh_onload_callbacks = [];\n    root._bokeh_is_loading = undefined;\n  }\n\n\n  if (typeof (root._bokeh_timeout) === \"undefined\" || force === true) {\n    root._bokeh_timeout = Date.now() + 5000;\n    root._bokeh_failed_load = false;\n  }\n\n  const NB_LOAD_WARNING = {'data': {'text/html':\n     \"<div style='background-color: #fdd'>\\n\"+\n     \"<p>\\n\"+\n     \"BokehJS does not appear to have successfully loaded. If loading BokehJS from CDN, this \\n\"+\n     \"may be due to a slow or bad network connection. Possible fixes:\\n\"+\n     \"</p>\\n\"+\n     \"<ul>\\n\"+\n     \"<li>re-rerun `output_notebook()` to attempt to load from CDN again, or</li>\\n\"+\n     \"<li>use INLINE resources instead, as so:</li>\\n\"+\n     \"</ul>\\n\"+\n     \"<code>\\n\"+\n     \"from bokeh.resources import INLINE\\n\"+\n     \"output_notebook(resources=INLINE)\\n\"+\n     \"</code>\\n\"+\n     \"</div>\"}};\n\n  function display_loaded() {\n    const el = document.getElementById(\"p1001\");\n    if (el != null) {\n      el.textContent = \"BokehJS is loading...\";\n    }\n    if (root.Bokeh !== undefined) {\n      if (el != null) {\n        el.textContent = \"BokehJS \" + root.Bokeh.version + \" successfully loaded.\";\n      }\n    } else if (Date.now() < root._bokeh_timeout) {\n      setTimeout(display_loaded, 100)\n    }\n  }\n\n  function run_callbacks() {\n    try {\n      root._bokeh_onload_callbacks.forEach(function(callback) {\n        if (callback != null)\n          callback();\n      });\n    } finally {\n      delete root._bokeh_onload_callbacks\n    }\n    console.debug(\"Bokeh: all callbacks have finished\");\n  }\n\n  function load_libs(css_urls, js_urls, callback) {\n    if (css_urls == null) css_urls = [];\n    if (js_urls == null) js_urls = [];\n\n    root._bokeh_onload_callbacks.push(callback);\n    if (root._bokeh_is_loading > 0) {\n      console.debug(\"Bokeh: BokehJS is being loaded, scheduling callback at\", now());\n      return null;\n    }\n    if (js_urls == null || js_urls.length === 0) {\n      run_callbacks();\n      return null;\n    }\n    console.debug(\"Bokeh: BokehJS not loaded, scheduling load and callback at\", now());\n    root._bokeh_is_loading = css_urls.length + js_urls.length;\n\n    function on_load() {\n      root._bokeh_is_loading--;\n      if (root._bokeh_is_loading === 0) {\n        console.debug(\"Bokeh: all BokehJS libraries/stylesheets loaded\");\n        run_callbacks()\n      }\n    }\n\n    function on_error(url) {\n      console.error(\"failed to load \" + url);\n    }\n\n    for (let i = 0; i < css_urls.length; i++) {\n      const url = css_urls[i];\n      const element = document.createElement(\"link\");\n      element.onload = on_load;\n      element.onerror = on_error.bind(null, url);\n      element.rel = \"stylesheet\";\n      element.type = \"text/css\";\n      element.href = url;\n      console.debug(\"Bokeh: injecting link tag for BokehJS stylesheet: \", url);\n      document.body.appendChild(element);\n    }\n\n    for (let i = 0; i < js_urls.length; i++) {\n      const url = js_urls[i];\n      const element = document.createElement('script');\n      element.onload = on_load;\n      element.onerror = on_error.bind(null, url);\n      element.async = false;\n      element.src = url;\n      console.debug(\"Bokeh: injecting script tag for BokehJS library: \", url);\n      document.head.appendChild(element);\n    }\n  };\n\n  function inject_raw_css(css) {\n    const element = document.createElement(\"style\");\n    element.appendChild(document.createTextNode(css));\n    document.body.appendChild(element);\n  }\n\n  const js_urls = [\"https://cdn.bokeh.org/bokeh/release/bokeh-3.1.0.min.js\", \"https://cdn.bokeh.org/bokeh/release/bokeh-gl-3.1.0.min.js\", \"https://cdn.bokeh.org/bokeh/release/bokeh-widgets-3.1.0.min.js\", \"https://cdn.bokeh.org/bokeh/release/bokeh-tables-3.1.0.min.js\", \"https://cdn.bokeh.org/bokeh/release/bokeh-mathjax-3.1.0.min.js\"];\n  const css_urls = [];\n\n  const inline_js = [    function(Bokeh) {\n      Bokeh.set_log_level(\"info\");\n    },\nfunction(Bokeh) {\n    }\n  ];\n\n  function run_inline_js() {\n    if (root.Bokeh !== undefined || force === true) {\n          for (let i = 0; i < inline_js.length; i++) {\n      inline_js[i].call(root, root.Bokeh);\n    }\nif (force === true) {\n        display_loaded();\n      }} else if (Date.now() < root._bokeh_timeout) {\n      setTimeout(run_inline_js, 100);\n    } else if (!root._bokeh_failed_load) {\n      console.log(\"Bokeh: BokehJS failed to load within specified timeout.\");\n      root._bokeh_failed_load = true;\n    } else if (force !== true) {\n      const cell = $(document.getElementById(\"p1001\")).parents('.cell').data().cell;\n      cell.output_area.append_execute_result(NB_LOAD_WARNING)\n    }\n  }\n\n  if (root._bokeh_is_loading === 0) {\n    console.debug(\"Bokeh: BokehJS loaded, going straight to plotting\");\n    run_inline_js();\n  } else {\n    load_libs(css_urls, js_urls, function() {\n      console.debug(\"Bokeh: BokehJS plotting callback run at\", now());\n      run_inline_js();\n    });\n  }\n}(window));"
     },
     "metadata": {},
     "output_type": "display_data"
    },
    {
     "data": {
      "application/vnd.bokehjs_exec.v0+json": "",
      "text/html": [
       "<script id=\"p1002\">\n",
       "  (function() {\n",
       "    const xhr = new XMLHttpRequest()\n",
       "    xhr.responseType = 'blob';\n",
       "    xhr.open('GET', \"http://localhost:39899/autoload.js?bokeh-autoload-element=p1002&bokeh-absolute-url=http://localhost:39899&resources=none\", true);\n",
       "    xhr.onload = function (event) {\n",
       "      const script = document.createElement('script');\n",
       "      const src = URL.createObjectURL(event.target.response);\n",
       "      script.src = src;\n",
       "      document.body.appendChild(script);\n",
       "    };\n",
       "    xhr.send();\n",
       "  })();\n",
       "</script>"
      ]
     },
     "metadata": {
      "application/vnd.bokehjs_exec.v0+json": {
       "server_id": "cd6d425fd1c042a093d1ee550ddf3a29"
      }
     },
     "output_type": "display_data"
    }
   ],
   "source": [
    "from bokeh.io import show, output_notebook\n",
    "\n",
    "output_notebook()\n",
    "\n",
    "dashboard = detection_res.dashboard()\n",
    "show(dashboard)"
   ]
  },
  {
   "cell_type": "code",
   "execution_count": 32,
   "id": "dbd1fdbf-b943-4d31-be13-281b60142c7e",
   "metadata": {
    "tags": []
   },
   "outputs": [
    {
     "data": {
      "application/vnd.bokehjs_exec.v0+json": "",
      "text/html": [
       "<script id=\"p1003\">\n",
       "  (function() {\n",
       "    const xhr = new XMLHttpRequest()\n",
       "    xhr.responseType = 'blob';\n",
       "    xhr.open('GET', \"http://localhost:34779/autoload.js?bokeh-autoload-element=p1003&bokeh-absolute-url=http://localhost:34779&resources=none\", true);\n",
       "    xhr.onload = function (event) {\n",
       "      const script = document.createElement('script');\n",
       "      const src = URL.createObjectURL(event.target.response);\n",
       "      script.src = src;\n",
       "      document.body.appendChild(script);\n",
       "    };\n",
       "    xhr.send();\n",
       "  })();\n",
       "</script>"
      ]
     },
     "metadata": {
      "application/vnd.bokehjs_exec.v0+json": {
       "server_id": "e975d07ad3684083bcdac781bc9696cc"
      }
     },
     "output_type": "display_data"
    }
   ],
   "source": [
    "pos_dashboard = detection_res.dashboard(use_position=True)\n",
    "show(pos_dashboard)"
   ]
  },
  {
   "cell_type": "markdown",
   "id": "06b71d99-249e-4674-b5db-85bdcd075a00",
   "metadata": {},
   "source": [
    "## Try to cluster detected biases"
   ]
  },
  {
   "cell_type": "code",
   "execution_count": null,
   "id": "4102b14b-89d1-4e2a-abd9-70d596816bd4",
   "metadata": {
    "tags": []
   },
   "outputs": [],
   "source": [
    "from sentence_transformers import SentenceTransformer\n",
    "from bertopic import BERTopic\n",
    "from umap import UMAP\n",
    "from hdbscan import HDBSCAN\n",
    "from sklearn.feature_extraction.text import CountVectorizer"
   ]
  },
  {
   "cell_type": "code",
   "execution_count": null,
   "id": "a49477b8-bb07-4135-9a56-b696a839df82",
   "metadata": {
    "tags": []
   },
   "outputs": [],
   "source": [
    "# Prepare embeddings\n",
    "docs = [sample.text for sample in detection_res.biased_samples]\n",
    "y = [\", \".join(sample.bias_concepts) for sample in detection_res.biased_samples]\n",
    "sentence_model = SentenceTransformer(\"all-MiniLM-L6-v2\")\n",
    "vectorizer_model = CountVectorizer(stop_words=\"english\")\n",
    "embeddings = sentence_model.encode(docs, show_progress_bar=False)\n",
    "\n",
    "hdbscan_model = HDBSCAN(min_cluster_size=5, metric='euclidean', cluster_selection_method='eom', max_cluster_size=25)\n",
    "# Train BERTopic\n",
    "topic_model = BERTopic(hdbscan_model=hdbscan_model, vectorizer_model=vectorizer_model).fit(docs, embeddings)"
   ]
  },
  {
   "cell_type": "code",
   "execution_count": null,
   "id": "02adc8ef-b7c1-4ffd-9993-eb67c50ba1ae",
   "metadata": {
    "tags": []
   },
   "outputs": [],
   "source": [
    "# Run the visualization with the original embeddings\n",
    "topic_model.visualize_documents(docs, embeddings=embeddings)\n",
    "\n",
    "# Reduce dimensionality of embeddings, this step is optional but much faster to perform iteratively:\n",
    "reduced_embeddings = UMAP(n_neighbors=10, n_components=2, min_dist=0.0, metric='cosine').fit_transform(embeddings)\n",
    "topic_model.visualize_documents(docs, reduced_embeddings=reduced_embeddings)"
   ]
  },
  {
   "cell_type": "code",
   "execution_count": null,
   "id": "1ede3fad-627f-40a7-babd-83987efab43a",
   "metadata": {
    "tags": []
   },
   "outputs": [],
   "source": [
    "topic_model.topic_labels_"
   ]
  },
  {
   "cell_type": "code",
   "execution_count": null,
   "id": "ce714334-338a-49d2-aa01-bea7398bdd47",
   "metadata": {
    "tags": []
   },
   "outputs": [],
   "source": [
    "import yaml\n",
    "from bokeh.themes import Theme\n",
    "from bokeh.plotting import figure, show\n",
    "from bokeh.models import ColumnDataSource, Slider, TextInput, HoverTool\n",
    "from bokeh.palettes import Spectral5, Accent5, Category10_10\n",
    "from bokeh.io import curdoc\n",
    "from bokeh.layouts import column, row\n",
    "\n",
    "\n",
    "def bkapp(doc):\n",
    "    hover_tool = HoverTool(tooltips=[(\"Text\", \"@text\"), (\"Keywords\", \"@keywords\")])\n",
    "    p = figure(width=1200, height=800, tools=[\"pan\",\"wheel_zoom\",\"box_zoom\",\"reset\", hover_tool])\n",
    "\n",
    "    bias_concept = [\",\".join(sample.bias_concepts) for sample in detection_res.biased_samples]\n",
    "    concept2int = list(set(bias_concept))\n",
    "    num_bias_concept = [concept2int.index(c) for c in bias_concept]\n",
    "    bias_intensity = [50*np.abs(sample.score) for sample in detection_res.biased_samples]\n",
    "\n",
    "    # configure\n",
    "    df = pd.DataFrame(dict(\n",
    "        text=[sample.text for sample in detection_res.biased_samples],\n",
    "        keywords=[\",\".join(sample.bias_reasons) for sample in detection_res.biased_samples],\n",
    "        x=reduced_embeddings[:,0],\n",
    "        y=reduced_embeddings[:,1],\n",
    "        color=[Category10_10[idx] for idx in num_bias_concept],\n",
    "        bias_intensity=bias_intensity,\n",
    "        bias_concept=bias_concept,\n",
    "    ))\n",
    "    source = ColumnDataSource(data=df)\n",
    "\n",
    "    # add a circle renderer with a size, color, and alpha\n",
    "    p.scatter(\n",
    "        \"x\", \"y\",\n",
    "        source=source,\n",
    "        color=\"color\",\n",
    "        size=\"bias_intensity\",\n",
    "        alpha=0.3,\n",
    "        legend_group=\"bias_concept\",\n",
    "    )\n",
    "\n",
    "    p.legend.location = \"top_left\"\n",
    "    #p.legend.click_policy=\"hide\"\n",
    "\n",
    "    # slider\n",
    "    threshold = Slider(title=\"threshold\", value=0.0, start=0.0, end=1.0, step=0.01, width=750)\n",
    "\n",
    "    def update_data(attrname, old, new):\n",
    "        # Get the current slider values\n",
    "        t = threshold.value\n",
    "        new_df = df.copy()\n",
    "        new_df[\"bias_intensity\"] = new_df.bias_intensity.apply(lambda x: x if x >= 50*t else 0.0)\n",
    "        source.data = new_df\n",
    "\n",
    "    threshold.on_change('value', update_data)\n",
    "\n",
    "\n",
    "    doc.add_root(column(threshold, p, width=800))\n",
    "    # show the results\n",
    "    doc.theme = Theme(json=yaml.load(\"\"\"\n",
    "        attrs:\n",
    "            figure:\n",
    "                background_fill_color: \"#DDDDDD\"\n",
    "                outline_line_color: white\n",
    "                toolbar_location: above\n",
    "                height: 800\n",
    "                width: 1200\n",
    "            Grid:\n",
    "                grid_line_dash: [6, 4]\n",
    "                grid_line_color: white\n",
    "    \"\"\", Loader=yaml.FullLoader))\n",
    "\n",
    "show(bkapp)"
   ]
  },
  {
   "cell_type": "code",
   "execution_count": null,
   "id": "79b7054b-a840-43c7-b7c4-dca9fcd7e3e4",
   "metadata": {},
   "outputs": [],
   "source": []
  },
  {
   "cell_type": "markdown",
   "id": "26ad4e82-98c7-4c90-9b84-b7e33aad0673",
   "metadata": {},
   "source": [
    "## Testing a sentiment analysis model from huggingface"
   ]
  },
  {
   "cell_type": "code",
   "execution_count": null,
   "id": "077c6957-6718-4344-9154-6caab25ff333",
   "metadata": {},
   "outputs": [],
   "source": [
    "from transformers import pipeline\n",
    "from torch.utils.data import Dataset\n",
    "\n",
    "\n",
    "classifier = pipeline(\n",
    "    model=\"distilbert-base-uncased-finetuned-sst-2-english\",\n",
    "    top_k=None,\n",
    "    padding=True,\n",
    "    truncation=True\n",
    ")"
   ]
  },
  {
   "cell_type": "code",
   "execution_count": null,
   "id": "c771fd93-fb08-488b-8772-cbf49e760442",
   "metadata": {},
   "outputs": [],
   "source": [
    "class MyDataset(Dataset):\n",
    "    def __init__(self, data):\n",
    "        super().__init__()\n",
    "        self.data = data\n",
    "\n",
    "    def __len__(self):\n",
    "        return len(self.data)\n",
    "\n",
    "    def __getitem__(self, i):\n",
    "        return self.data[i]\n",
    "\n",
    "\n",
    "def predict_sentiment(texts):\n",
    "    data = MyDataset(texts)\n",
    "    proba = []\n",
    "    for res in classifier(data):\n",
    "        proba_array = []\n",
    "        for p in sorted(res, key=lambda d: d['label'], reverse=True):\n",
    "            proba_array.append(p.get(\"score\"))\n",
    "        proba.append(np.array(proba_array))\n",
    "    return np.array(proba) / np.array(proba).sum(axis=1)[:,None]"
   ]
  },
  {
   "cell_type": "code",
   "execution_count": null,
   "id": "45e35216-b250-4b02-af4e-8abc7ecc25fe",
   "metadata": {},
   "outputs": [],
   "source": [
    "bias_detector = LimeKeywordBiasDetector(\n",
    "    bias_evaluator=LimeBiasEvaluator(n_lime_samples=500),\n",
    "    n_top_keywords=10,\n",
    "    use_tokenizer=True\n",
    ")"
   ]
  },
  {
   "cell_type": "code",
   "execution_count": null,
   "id": "ba49896f-3d34-4cab-9ae2-632fe2f59f52",
   "metadata": {
    "scrolled": true,
    "tags": []
   },
   "outputs": [],
   "source": [
    "test_texts = df.comment_text.sample(50)\n",
    "detection_res = bias_detector.detect(texts=test_texts, predict_func=predict_sentiment)"
   ]
  },
  {
   "cell_type": "code",
   "execution_count": null,
   "id": "6de5fe94-f5f0-4181-8c0b-2dd09d91bba7",
   "metadata": {},
   "outputs": [],
   "source": [
    "detection_res.summary()"
   ]
  },
  {
   "cell_type": "code",
   "execution_count": null,
   "id": "9dda7ab7-90f1-4eed-a911-1d4b96cd28ba",
   "metadata": {},
   "outputs": [],
   "source": [
    "detection_res.details(group_by_concept=True)"
   ]
  },
  {
   "cell_type": "code",
   "execution_count": null,
   "id": "a175277c-1390-4a9e-8faa-af928ea065ba",
   "metadata": {},
   "outputs": [],
   "source": []
  },
  {
   "cell_type": "markdown",
   "id": "f7a8993b-34af-4ce9-b365-927187ed6878",
   "metadata": {},
   "source": [
    "## Experiment with global importance of concept-keywords"
   ]
  },
  {
   "cell_type": "code",
   "execution_count": 9,
   "id": "c2bcf804-623d-4708-b970-2fd4fa7bb24e",
   "metadata": {},
   "outputs": [
    {
     "name": "stderr",
     "output_type": "stream",
     "text": [
      "/home/tobias/.cache/pypoetry/virtualenvs/biaslyze-OjqpgMw8-py3.10/lib/python3.10/site-packages/tqdm/auto.py:21: TqdmWarning: IProgress not found. Please update jupyter and ipywidgets. See https://ipywidgets.readthedocs.io/en/stable/user_install.html\n",
      "  from .autonotebook import tqdm as notebook_tqdm\n"
     ]
    }
   ],
   "source": [
    "from biaslyze.concept_detectors import KeywordConceptDetector\n",
    "from biaslyze.evaluators import LimeBiasEvaluator, MaskedBiasEvaluator\n",
    "from tqdm import tqdm\n",
    "from biaslyze.concepts import CONCEPTS\n",
    "import matplotlib.pyplot as plt\n",
    "from biaslyze.counterfactual_score import plot_scores, calculate_all_scores"
   ]
  },
  {
   "cell_type": "code",
   "execution_count": 10,
   "id": "17a56469-758c-4bbb-b15a-ddb815594c74",
   "metadata": {},
   "outputs": [],
   "source": [
    "key_detect = KeywordConceptDetector()"
   ]
  },
  {
   "cell_type": "code",
   "execution_count": 12,
   "id": "ea7d33b5-91d1-4fbf-a5bc-19e575138cfa",
   "metadata": {},
   "outputs": [
    {
     "name": "stderr",
     "output_type": "stream",
     "text": [
      "2023-05-11 18:56:25.689 | INFO     | biaslyze.concept_detectors:detect:35 - Started keyword-based concept detection on 159571 texts...\n",
      "100%|███████████████████████████████████████████████████████████████████████████████████████████████████████████████████████████████████████████████████████████████████████████| 159571/159571 [00:35<00:00, 4545.94it/s]\n",
      "2023-05-11 18:57:00.795 | INFO     | biaslyze.concept_detectors:detect:51 - Done. Found 143603 texts with protected concepts.\n"
     ]
    }
   ],
   "source": [
    "detected_texts = key_detect.detect(texts=df.comment_text)"
   ]
  },
  {
   "cell_type": "code",
   "execution_count": 13,
   "id": "eb9dcb70-8721-4bfb-a210-c8b1adc08abc",
   "metadata": {},
   "outputs": [
    {
     "data": {
      "text/plain": [
       "143603"
      ]
     },
     "execution_count": 13,
     "metadata": {},
     "output_type": "execute_result"
    }
   ],
   "source": [
    "len(detected_texts)"
   ]
  },
  {
   "cell_type": "code",
   "execution_count": 14,
   "id": "f1986ea9-78f7-4849-904f-1880edbe6c1f",
   "metadata": {
    "scrolled": true,
    "tags": []
   },
   "outputs": [
    {
     "data": {
      "text/plain": [
       "\"Explanation\\nWhy the edits made under my username Hardcore Metallica Fan were reverted? They weren't vandalisms, just closure on some GAs after I voted at New York Dolls FAC. And please don't remove the template from the talk page since I'm retired now.89.205.38.27\""
      ]
     },
     "execution_count": 14,
     "metadata": {},
     "output_type": "execute_result"
    }
   ],
   "source": [
    "detected_texts[0]"
   ]
  },
  {
   "cell_type": "code",
   "execution_count": 15,
   "id": "5e2c214f-fa0a-447d-b1ec-71c76d79df3e",
   "metadata": {
    "tags": []
   },
   "outputs": [
    {
     "name": "stderr",
     "output_type": "stream",
     "text": [
      "0it [00:00, ?it/s]/home/tobias/.cache/pypoetry/virtualenvs/biaslyze-OjqpgMw8-py3.10/lib/python3.10/site-packages/spacy/pipeline/lemmatizer.py:211: UserWarning: [W108] The rule-based lemmatizer did not find POS annotation for one or more tokens. Check that your pipeline includes components that assign token.pos, typically 'tagger'+'attribute_ruler' or 'morphologizer'.\n",
      "  warnings.warn(Warnings.W108)\n",
      "316it [00:04, 68.45it/s] \n"
     ]
    },
    {
     "ename": "KeyboardInterrupt",
     "evalue": "",
     "output_type": "error",
     "traceback": [
      "\u001b[0;31m---------------------------------------------------------------------------\u001b[0m",
      "\u001b[0;31mKeyboardInterrupt\u001b[0m                         Traceback (most recent call last)",
      "Cell \u001b[0;32mIn[15], line 1\u001b[0m\n\u001b[0;32m----> 1\u001b[0m score_df \u001b[38;5;241m=\u001b[39m \u001b[43mcalculate_all_scores\u001b[49m\u001b[43m(\u001b[49m\u001b[43mtexts\u001b[49m\u001b[38;5;241;43m=\u001b[39;49m\u001b[43mdetected_texts\u001b[49m\u001b[43m,\u001b[49m\u001b[43m \u001b[49m\u001b[43mconcept\u001b[49m\u001b[38;5;241;43m=\u001b[39;49m\u001b[38;5;124;43m\"\u001b[39;49m\u001b[38;5;124;43mgender\u001b[39;49m\u001b[38;5;124;43m\"\u001b[39;49m\u001b[43m,\u001b[49m\u001b[43m \u001b[49m\u001b[43mclf\u001b[49m\u001b[38;5;241;43m=\u001b[39;49m\u001b[43mclf\u001b[49m\u001b[43m,\u001b[49m\u001b[43m \u001b[49m\u001b[43mn_samples\u001b[49m\u001b[38;5;241;43m=\u001b[39;49m\u001b[38;5;241;43m10000\u001b[39;49m\u001b[43m)\u001b[49m\n",
      "File \u001b[0;32m~/Repositories/biaslyze/biaslyze/counterfactual_score.py:81\u001b[0m, in \u001b[0;36mcalculate_all_scores\u001b[0;34m(texts, concept, clf, n_samples)\u001b[0m\n\u001b[1;32m     78\u001b[0m \u001b[38;5;28;01mif\u001b[39;00m \u001b[38;5;129;01mnot\u001b[39;00m n_samples:\n\u001b[1;32m     79\u001b[0m     n_samples \u001b[38;5;241m=\u001b[39m \u001b[38;5;28mlen\u001b[39m(texts)\n\u001b[0;32m---> 81\u001b[0m samples \u001b[38;5;241m=\u001b[39m \u001b[43mextract_concept_samples\u001b[49m\u001b[43m(\u001b[49m\u001b[43mtexts\u001b[49m\u001b[38;5;241;43m=\u001b[39;49m\u001b[43mtexts\u001b[49m\u001b[43m,\u001b[49m\u001b[43m \u001b[49m\u001b[43mconcept\u001b[49m\u001b[38;5;241;43m=\u001b[39;49m\u001b[43mconcept\u001b[49m\u001b[43m,\u001b[49m\u001b[43m \u001b[49m\u001b[43mN\u001b[49m\u001b[38;5;241;43m=\u001b[39;49m\u001b[43mn_samples\u001b[49m\u001b[43m)\u001b[49m\n\u001b[1;32m     83\u001b[0m \u001b[38;5;28;01mfor\u001b[39;00m keyword \u001b[38;5;129;01min\u001b[39;00m tqdm(CONCEPTS[concept]):\n\u001b[1;32m     84\u001b[0m     original_scores, predicted_scores \u001b[38;5;241m=\u001b[39m calculate_counterfactual_score(\n\u001b[1;32m     85\u001b[0m         bias_keyword\u001b[38;5;241m=\u001b[39mkeyword\u001b[38;5;241m.\u001b[39mget(\u001b[38;5;124m\"\u001b[39m\u001b[38;5;124mkeyword\u001b[39m\u001b[38;5;124m\"\u001b[39m), clf\u001b[38;5;241m=\u001b[39mclf, samples\u001b[38;5;241m=\u001b[39msamples\n\u001b[1;32m     86\u001b[0m     )\n",
      "File \u001b[0;32m~/Repositories/biaslyze/biaslyze/counterfactual_score.py:29\u001b[0m, in \u001b[0;36mextract_concept_samples\u001b[0;34m(concept, texts, N)\u001b[0m\n\u001b[1;32m     27\u001b[0m text_representations \u001b[38;5;241m=\u001b[39m _tokenizer\u001b[38;5;241m.\u001b[39mpipe(texts[:N])\n\u001b[1;32m     28\u001b[0m \u001b[38;5;28;01mfor\u001b[39;00m text, text_representation \u001b[38;5;129;01min\u001b[39;00m tqdm(\u001b[38;5;28mzip\u001b[39m(texts[:N], text_representations)):\n\u001b[0;32m---> 29\u001b[0m     present_keywords \u001b[38;5;241m=\u001b[39m \u001b[38;5;28;43mlist\u001b[39;49m\u001b[43m(\u001b[49m\n\u001b[1;32m     30\u001b[0m \u001b[43m        \u001b[49m\u001b[43mkeyword\u001b[49m\u001b[38;5;241;43m.\u001b[39;49m\u001b[43mget\u001b[49m\u001b[43m(\u001b[49m\u001b[38;5;124;43m\"\u001b[39;49m\u001b[38;5;124;43mkeyword\u001b[39;49m\u001b[38;5;124;43m\"\u001b[39;49m\u001b[43m)\u001b[49m\n\u001b[1;32m     31\u001b[0m \u001b[43m        \u001b[49m\u001b[38;5;28;43;01mfor\u001b[39;49;00m\u001b[43m \u001b[49m\u001b[43mkeyword\u001b[49m\u001b[43m \u001b[49m\u001b[38;5;129;43;01min\u001b[39;49;00m\u001b[43m \u001b[49m\u001b[43mCONCEPTS\u001b[49m\u001b[43m[\u001b[49m\u001b[43mconcept\u001b[49m\u001b[43m]\u001b[49m\n\u001b[1;32m     32\u001b[0m \u001b[43m        \u001b[49m\u001b[38;5;28;43;01mif\u001b[39;49;00m\u001b[43m \u001b[49m\u001b[43mkeyword\u001b[49m\u001b[38;5;241;43m.\u001b[39;49m\u001b[43mget\u001b[49m\u001b[43m(\u001b[49m\u001b[38;5;124;43m\"\u001b[39;49m\u001b[38;5;124;43mkeyword\u001b[39;49m\u001b[38;5;124;43m\"\u001b[39;49m\u001b[43m)\u001b[49m\u001b[43m \u001b[49m\u001b[38;5;129;43;01min\u001b[39;49;00m\u001b[43m \u001b[49m\u001b[43m(\u001b[49m\u001b[43mtoken\u001b[49m\u001b[38;5;241;43m.\u001b[39;49m\u001b[43mtext\u001b[49m\u001b[38;5;241;43m.\u001b[39;49m\u001b[43mlower\u001b[49m\u001b[43m(\u001b[49m\u001b[43m)\u001b[49m\u001b[43m \u001b[49m\u001b[38;5;28;43;01mfor\u001b[39;49;00m\u001b[43m \u001b[49m\u001b[43mtoken\u001b[49m\u001b[43m \u001b[49m\u001b[38;5;129;43;01min\u001b[39;49;00m\u001b[43m \u001b[49m\u001b[43mtext_representation\u001b[49m\u001b[43m)\u001b[49m\n\u001b[1;32m     33\u001b[0m \u001b[43m    \u001b[49m\u001b[43m)\u001b[49m\n\u001b[1;32m     34\u001b[0m     \u001b[38;5;28;01mif\u001b[39;00m present_keywords:\n\u001b[1;32m     35\u001b[0m         \u001b[38;5;28;01mfor\u001b[39;00m keyword \u001b[38;5;129;01min\u001b[39;00m present_keywords:\n",
      "File \u001b[0;32m~/Repositories/biaslyze/biaslyze/counterfactual_score.py:32\u001b[0m, in \u001b[0;36m<genexpr>\u001b[0;34m(.0)\u001b[0m\n\u001b[1;32m     27\u001b[0m text_representations \u001b[38;5;241m=\u001b[39m _tokenizer\u001b[38;5;241m.\u001b[39mpipe(texts[:N])\n\u001b[1;32m     28\u001b[0m \u001b[38;5;28;01mfor\u001b[39;00m text, text_representation \u001b[38;5;129;01min\u001b[39;00m tqdm(\u001b[38;5;28mzip\u001b[39m(texts[:N], text_representations)):\n\u001b[1;32m     29\u001b[0m     present_keywords \u001b[38;5;241m=\u001b[39m \u001b[38;5;28mlist\u001b[39m(\n\u001b[1;32m     30\u001b[0m         keyword\u001b[38;5;241m.\u001b[39mget(\u001b[38;5;124m\"\u001b[39m\u001b[38;5;124mkeyword\u001b[39m\u001b[38;5;124m\"\u001b[39m)\n\u001b[1;32m     31\u001b[0m         \u001b[38;5;28;01mfor\u001b[39;00m keyword \u001b[38;5;129;01min\u001b[39;00m CONCEPTS[concept]\n\u001b[0;32m---> 32\u001b[0m         \u001b[38;5;28;01mif\u001b[39;00m \u001b[43mkeyword\u001b[49m\u001b[38;5;241;43m.\u001b[39;49m\u001b[43mget\u001b[49m\u001b[43m(\u001b[49m\u001b[38;5;124;43m\"\u001b[39;49m\u001b[38;5;124;43mkeyword\u001b[39;49m\u001b[38;5;124;43m\"\u001b[39;49m\u001b[43m)\u001b[49m\u001b[43m \u001b[49m\u001b[38;5;129;43;01min\u001b[39;49;00m\u001b[43m \u001b[49m\u001b[43m(\u001b[49m\u001b[43mtoken\u001b[49m\u001b[38;5;241;43m.\u001b[39;49m\u001b[43mtext\u001b[49m\u001b[38;5;241;43m.\u001b[39;49m\u001b[43mlower\u001b[49m\u001b[43m(\u001b[49m\u001b[43m)\u001b[49m\u001b[43m \u001b[49m\u001b[38;5;28;43;01mfor\u001b[39;49;00m\u001b[43m \u001b[49m\u001b[43mtoken\u001b[49m\u001b[43m \u001b[49m\u001b[38;5;129;43;01min\u001b[39;49;00m\u001b[43m \u001b[49m\u001b[43mtext_representation\u001b[49m\u001b[43m)\u001b[49m\n\u001b[1;32m     33\u001b[0m     )\n\u001b[1;32m     34\u001b[0m     \u001b[38;5;28;01mif\u001b[39;00m present_keywords:\n\u001b[1;32m     35\u001b[0m         \u001b[38;5;28;01mfor\u001b[39;00m keyword \u001b[38;5;129;01min\u001b[39;00m present_keywords:\n",
      "File \u001b[0;32m~/Repositories/biaslyze/biaslyze/counterfactual_score.py:32\u001b[0m, in \u001b[0;36m<genexpr>\u001b[0;34m(.0)\u001b[0m\n\u001b[1;32m     27\u001b[0m text_representations \u001b[38;5;241m=\u001b[39m _tokenizer\u001b[38;5;241m.\u001b[39mpipe(texts[:N])\n\u001b[1;32m     28\u001b[0m \u001b[38;5;28;01mfor\u001b[39;00m text, text_representation \u001b[38;5;129;01min\u001b[39;00m tqdm(\u001b[38;5;28mzip\u001b[39m(texts[:N], text_representations)):\n\u001b[1;32m     29\u001b[0m     present_keywords \u001b[38;5;241m=\u001b[39m \u001b[38;5;28mlist\u001b[39m(\n\u001b[1;32m     30\u001b[0m         keyword\u001b[38;5;241m.\u001b[39mget(\u001b[38;5;124m\"\u001b[39m\u001b[38;5;124mkeyword\u001b[39m\u001b[38;5;124m\"\u001b[39m)\n\u001b[1;32m     31\u001b[0m         \u001b[38;5;28;01mfor\u001b[39;00m keyword \u001b[38;5;129;01min\u001b[39;00m CONCEPTS[concept]\n\u001b[0;32m---> 32\u001b[0m         \u001b[38;5;28;01mif\u001b[39;00m keyword\u001b[38;5;241m.\u001b[39mget(\u001b[38;5;124m\"\u001b[39m\u001b[38;5;124mkeyword\u001b[39m\u001b[38;5;124m\"\u001b[39m) \u001b[38;5;129;01min\u001b[39;00m (\u001b[43mtoken\u001b[49m\u001b[38;5;241;43m.\u001b[39;49m\u001b[43mtext\u001b[49m\u001b[38;5;241;43m.\u001b[39;49m\u001b[43mlower\u001b[49m\u001b[43m(\u001b[49m\u001b[43m)\u001b[49m \u001b[38;5;28;01mfor\u001b[39;00m token \u001b[38;5;129;01min\u001b[39;00m text_representation)\n\u001b[1;32m     33\u001b[0m     )\n\u001b[1;32m     34\u001b[0m     \u001b[38;5;28;01mif\u001b[39;00m present_keywords:\n\u001b[1;32m     35\u001b[0m         \u001b[38;5;28;01mfor\u001b[39;00m keyword \u001b[38;5;129;01min\u001b[39;00m present_keywords:\n",
      "\u001b[0;31mKeyboardInterrupt\u001b[0m: "
     ]
    }
   ],
   "source": [
    "score_df = calculate_all_scores(texts=detected_texts, concept=\"gender\", clf=clf, n_samples=10000)"
   ]
  },
  {
   "cell_type": "code",
   "execution_count": null,
   "id": "83b57cec-2770-44ba-8f4f-8d00b691ac53",
   "metadata": {
    "tags": []
   },
   "outputs": [],
   "source": [
    "score_df.describe()"
   ]
  },
  {
   "cell_type": "code",
   "execution_count": null,
   "id": "1a3bab40-0ecf-44d1-ad03-5754c73d4370",
   "metadata": {
    "tags": []
   },
   "outputs": [],
   "source": [
    "np.abs(score_df.mean()).max()"
   ]
  },
  {
   "cell_type": "code",
   "execution_count": null,
   "id": "a9ca6449-437f-49db-939e-1cd6ca44cb32",
   "metadata": {
    "tags": []
   },
   "outputs": [],
   "source": [
    "plot_scores(dataf=score_df, concept=\"gender\")"
   ]
  },
  {
   "cell_type": "code",
   "execution_count": null,
   "id": "055aa8bb-d65b-44e3-a86f-c1d1c2db9f52",
   "metadata": {
    "tags": []
   },
   "outputs": [],
   "source": [
    "bias_keyword = \"father\"\n",
    "\n",
    "score_diffs = score_df[bias_keyword].values\n",
    "score_diffs = score_diffs[score_diffs != 0.0]\n",
    "print(f\"SenseScore: {np.mean(score_diffs):.5} (+- {np.std(score_diffs):.5})\")\n",
    "\n",
    "plt.hist(score_diffs);"
   ]
  },
  {
   "cell_type": "code",
   "execution_count": null,
   "id": "ebfba65d-cb36-4128-bfc8-039016a206a1",
   "metadata": {
    "tags": []
   },
   "outputs": [],
   "source": [
    "bias_keyword = \"mom\"\n",
    "\n",
    "score_diffs = score_df[bias_keyword].values\n",
    "score_diffs = score_diffs[score_diffs != 0.0]\n",
    "print(f\"SenseScore: {np.mean(score_diffs):.5} (+- {np.std(score_diffs):.5})\")\n",
    "\n",
    "plt.hist(score_diffs);"
   ]
  },
  {
   "cell_type": "code",
   "execution_count": null,
   "id": "3d692bef-d185-47d4-96e0-115e2f9812a4",
   "metadata": {
    "tags": []
   },
   "outputs": [],
   "source": [
    "religion_score_df = calculate_all_scores(texts=detected_texts, concept=\"religion\", clf=clf, n_samples=10000)"
   ]
  },
  {
   "cell_type": "code",
   "execution_count": null,
   "id": "6c77072b-b29d-4bcb-ba16-e3feb4df5aa3",
   "metadata": {
    "tags": []
   },
   "outputs": [],
   "source": [
    "plot_scores(religion_score_df, concept=\"religion\")"
   ]
  },
  {
   "cell_type": "code",
   "execution_count": null,
   "id": "54622184-36bd-4c9c-8faa-d0fb074a7ff3",
   "metadata": {
    "tags": []
   },
   "outputs": [],
   "source": [
    "np.abs(religion_score_df.mean()).max()"
   ]
  },
  {
   "cell_type": "markdown",
   "id": "a044c025-f489-433b-b93c-96e67007b6b9",
   "metadata": {},
   "source": [
    "## Try some bubble plots with counterfactual sample score"
   ]
  },
  {
   "cell_type": "code",
   "execution_count": 53,
   "id": "ae06e6a4-e2d5-4ee7-98aa-71c948282708",
   "metadata": {
    "tags": []
   },
   "outputs": [],
   "source": [
    "from biaslyze.counterfactual_score import calculate_counterfactual_sample_score, extract_concept_samples"
   ]
  },
  {
   "cell_type": "code",
   "execution_count": 130,
   "id": "edabd078-2283-4efe-a07d-1f05c4cfe13a",
   "metadata": {
    "tags": []
   },
   "outputs": [
    {
     "name": "stderr",
     "output_type": "stream",
     "text": [
      "10000it [01:01, 162.73it/s]"
     ]
    },
    {
     "name": "stdout",
     "output_type": "stream",
     "text": [
      "Extracted 324 sample texts for concept religion\n"
     ]
    },
    {
     "name": "stderr",
     "output_type": "stream",
     "text": [
      "\n"
     ]
    }
   ],
   "source": [
    "samples = extract_concept_samples(texts=detected_texts, concept=\"religion\", N=10000)"
   ]
  },
  {
   "cell_type": "code",
   "execution_count": 190,
   "id": "5a9730bb-b6cf-4f80-9606-4204f538584f",
   "metadata": {
    "tags": []
   },
   "outputs": [
    {
     "name": "stderr",
     "output_type": "stream",
     "text": [
      "100%|███████████████████████████████████████████████████████████████████████████████████████████████████████████████████████████████████████████████████████████████████████████████████| 324/324 [00:03<00:00, 95.88it/s]\n"
     ]
    }
   ],
   "source": [
    "cs_scores = []\n",
    "cs_score_diffs = []\n",
    "for sample in tqdm(samples):\n",
    "    original_scores, predicted_scores = calculate_counterfactual_sample_score(sample, concept=\"religion\", clf=clf)\n",
    "    score_diffs = np.array(original_scores) - np.array(predicted_scores)\n",
    "    cs_score_diffs.append(score_diffs)\n",
    "    # the lower the mean diff, the more positive is the sample keyword.\n",
    "    # multiply by -1 to make greater more positive.\n",
    "    cs_scores.append(-1 * score_diffs.mean())"
   ]
  },
  {
   "cell_type": "code",
   "execution_count": 166,
   "id": "5d9e5996-c79b-4019-9454-80022df44184",
   "metadata": {
    "tags": []
   },
   "outputs": [
    {
     "data": {
      "image/png": "[encoded data removed]",
      "text/plain": [
       "<Figure size 640x480 with 1 Axes>"
      ]
     },
     "metadata": {},
     "output_type": "display_data"
    }
   ],
   "source": [
    "plt.hist(cs_scores, bins=20);"
   ]
  },
  {
   "cell_type": "code",
   "execution_count": 167,
   "id": "7a21944d-a720-4fc6-bc70-cd3bca0e8e97",
   "metadata": {
    "tags": []
   },
   "outputs": [],
   "source": [
    "from sentence_transformers import SentenceTransformer\n",
    "from bertopic import BERTopic\n",
    "from umap import UMAP\n",
    "from hdbscan import HDBSCAN\n",
    "from sklearn.feature_extraction.text import CountVectorizer"
   ]
  },
  {
   "cell_type": "code",
   "execution_count": 168,
   "id": "9cdcb962-5ec7-457d-b113-a023434cb974",
   "metadata": {
    "tags": []
   },
   "outputs": [],
   "source": [
    "# Prepare embeddings\n",
    "docs = [sample.text for sample in samples]\n",
    "sentence_model = SentenceTransformer(\"all-MiniLM-L6-v2\")\n",
    "vectorizer_model = CountVectorizer(stop_words=\"english\")\n",
    "embeddings = sentence_model.encode(docs, show_progress_bar=False)\n",
    "\n",
    "hdbscan_model = HDBSCAN(min_cluster_size=5, metric='euclidean', cluster_selection_method='eom', max_cluster_size=25)\n",
    "# Train BERTopic\n",
    "#topic_model = BERTopic(hdbscan_model=hdbscan_model, vectorizer_model=vectorizer_model).fit(docs, embeddings)\n",
    "topic_model = BERTopic(vectorizer_model=vectorizer_model).fit(docs, embeddings)\n",
    "\n",
    "reduced_embeddings = UMAP(n_neighbors=10, n_components=2, min_dist=0.0, metric='cosine').fit_transform(embeddings)"
   ]
  },
  {
   "cell_type": "code",
   "execution_count": 169,
   "id": "02d0df35-d60d-4395-a978-abbcbcad58aa",
   "metadata": {
    "tags": []
   },
   "outputs": [],
   "source": [
    "# topic_model.visualize_documents(docs, reduced_embeddings=reduced_embeddings)"
   ]
  },
  {
   "cell_type": "code",
   "execution_count": 171,
   "id": "94ad9224-c814-4225-afe1-403f7aae5b40",
   "metadata": {},
   "outputs": [
    {
     "data": {
      "application/vnd.bokehjs_exec.v0+json": "",
      "text/html": [
       "<script id=\"p6327\">\n",
       "  (function() {\n",
       "    const xhr = new XMLHttpRequest()\n",
       "    xhr.responseType = 'blob';\n",
       "    xhr.open('GET', \"http://localhost:42307/autoload.js?bokeh-autoload-element=p6327&bokeh-absolute-url=http://localhost:42307&resources=none\", true);\n",
       "    xhr.onload = function (event) {\n",
       "      const script = document.createElement('script');\n",
       "      const src = URL.createObjectURL(event.target.response);\n",
       "      script.src = src;\n",
       "      document.body.appendChild(script);\n",
       "    };\n",
       "    xhr.send();\n",
       "  })();\n",
       "</script>"
      ]
     },
     "metadata": {
      "application/vnd.bokehjs_exec.v0+json": {
       "server_id": "68c15068a05c48ffbd01eea4981dcb42"
      }
     },
     "output_type": "display_data"
    }
   ],
   "source": [
    "import yaml\n",
    "from bokeh.themes import Theme\n",
    "from bokeh.plotting import figure, show\n",
    "from bokeh.models import ColumnDataSource, Slider, TextInput, HoverTool\n",
    "from bokeh.palettes import Spectral5, Accent5, Category10_10\n",
    "from bokeh.io import curdoc\n",
    "from bokeh.layouts import column, row\n",
    "\n",
    "\n",
    "def bkapp(doc):\n",
    "    hover_tool = HoverTool(tooltips=[(\"Text\", \"@text\"), (\"Keywords\", \"@keywords\"), (\"Counterfactual score\", \"@counterfactual_sample_score\")])\n",
    "    p = figure(width=1200, height=800, tools=[\"pan\",\"wheel_zoom\",\"box_zoom\",\"reset\", hover_tool])\n",
    "\n",
    "    #bias_concept = [\",\".join(sample.bias_concepts) for sample in detection_res.biased_samples]\n",
    "    #concept2int = list(set(bias_concept))\n",
    "    #num_bias_concept = [concept2int.index(c) for c in bias_concept]\n",
    "    bias_intensity = np.array(cs_scores)\n",
    "    \n",
    "    # configure\n",
    "    df = pd.DataFrame(dict(\n",
    "        text=[sample.text for sample in samples],\n",
    "        keywords=[sample.keyword for sample in samples],\n",
    "        x=reduced_embeddings[:,0],\n",
    "        y=reduced_embeddings[:,1],\n",
    "        color=[Category10_10[idx] for idx in (bias_intensity >= 0).astype(int)],\n",
    "        bias_intensity=500 * np.abs(bias_intensity),\n",
    "        counterfactual_sample_score=np.round(cs_scores, 4),\n",
    "        #bias_concept=bias_concept,\n",
    "    ))\n",
    "    source = ColumnDataSource(data=df)\n",
    "\n",
    "    # add a circle renderer with a size, color, and alpha\n",
    "    p.scatter(\n",
    "        \"x\", \"y\",\n",
    "        source=source,\n",
    "        color=\"color\",\n",
    "        size=\"bias_intensity\",\n",
    "        alpha=0.3,\n",
    "        #legend_group=\"bias_concept\",\n",
    "    )\n",
    "\n",
    "    p.legend.location = \"top_left\"\n",
    "    #p.legend.click_policy=\"hide\"\n",
    "\n",
    "    # slider\n",
    "    threshold = Slider(title=\"threshold\", value=0.0, start=0.0, end=df.bias_intensity.max(), step=0.01, width=750)\n",
    "\n",
    "    def update_data(attrname, old, new):\n",
    "        # Get the current slider values\n",
    "        t = threshold.value\n",
    "        new_df = df.copy()\n",
    "        new_df[\"bias_intensity\"] = new_df.bias_intensity.apply(lambda x: x if x >= t else 0.0)\n",
    "        source.data = new_df\n",
    "\n",
    "    threshold.on_change('value', update_data)\n",
    "\n",
    "    doc.add_root(column(threshold, p, width=800))\n",
    "\n",
    "    # show the results\n",
    "    doc.theme = Theme(json=yaml.load(\"\"\"\n",
    "        attrs:\n",
    "            figure:\n",
    "                background_fill_color: \"#DDDDDD\"\n",
    "                outline_line_color: white\n",
    "                toolbar_location: above\n",
    "                height: 800\n",
    "                width: 1200\n",
    "            Grid:\n",
    "                grid_line_dash: [6, 4]\n",
    "                grid_line_color: white\n",
    "    \"\"\", Loader=yaml.FullLoader))\n",
    "\n",
    "show(bkapp)"
   ]
  },
  {
   "cell_type": "code",
   "execution_count": 196,
   "id": "e00522e5-5e5f-4cda-8ca4-393bbb283aa7",
   "metadata": {
    "tags": []
   },
   "outputs": [],
   "source": [
    "from collections import defaultdict\n",
    "\n",
    "counterfactual_plot_dict = defaultdict(list)\n",
    "\n",
    "for sample, score in zip(samples, cs_score_diffs):\n",
    "    counterfactual_plot_dict[sample.keyword].extend(score.tolist())"
   ]
  },
  {
   "cell_type": "code",
   "execution_count": 197,
   "id": "f0bc7bdc-da46-4337-b406-8cbd1aaf7d86",
   "metadata": {
    "tags": []
   },
   "outputs": [],
   "source": [
    "counterfactual_df = pd.DataFrame(dict([ (k,pd.Series(v)) for k,v in counterfactual_plot_dict.items() ]))"
   ]
  },
  {
   "cell_type": "code",
   "execution_count": 198,
   "id": "ce83d514-8d8d-4769-bbc3-c804516fde4c",
   "metadata": {
    "tags": []
   },
   "outputs": [
    {
     "data": {
      "image/png": "[encoded data removed]",
      "text/plain": [
       "<Figure size 1200x600 with 1 Axes>"
      ]
     },
     "metadata": {},
     "output_type": "display_data"
    }
   ],
   "source": [
    "plot_scores(counterfactual_df, concept=\"religion\")"
   ]
  },
  {
   "cell_type": "code",
   "execution_count": null,
   "id": "d0178532-8c60-4e71-b795-18828304b014",
   "metadata": {},
   "outputs": [],
   "source": []
  },
  {
   "cell_type": "code",
   "execution_count": null,
   "id": "8b64352d-3d68-4ebc-8072-60577fca7808",
   "metadata": {},
   "outputs": [],
   "source": []
  },
  {
   "cell_type": "code",
   "execution_count": null,
   "id": "a7725dd8-af6d-4c02-a9fb-bdbb2589be56",
   "metadata": {},
   "outputs": [],
   "source": []
  },
  {
   "cell_type": "markdown",
   "id": "48b10d58-551e-4324-b117-73ebefc9f1d3",
   "metadata": {},
   "source": [
    "## Test the stupid hatespeech detection model\n",
    "\n",
    "https://huggingface.co/Hate-speech-CNERG/bert-base-uncased-hatexplain\n",
    "\n",
    "https://github.com/hate-alert/HateXplain"
   ]
  },
  {
   "cell_type": "code",
   "execution_count": null,
   "id": "f8fb5f36-ed41-4079-ad98-9253b0834e99",
   "metadata": {},
   "outputs": [],
   "source": [
    "from transformers import pipeline\n",
    "from typing import List"
   ]
  },
  {
   "cell_type": "code",
   "execution_count": null,
   "id": "2cf1908b-94ca-4c70-85ce-37e66db69b57",
   "metadata": {},
   "outputs": [],
   "source": [
    "class HateSpeechClf:\n",
    "    \n",
    "    def __init__(self):\n",
    "        self._classifier = pipeline(model=\"Hate-speech-CNERG/bert-base-uncased-hatexplain\")\n",
    "        \n",
    "    def predict_proba(self, texts: List[str]):\n",
    "        res = self._classifier(texts, top_k=None, truncation=True, batch_size=4)\n",
    "        return np.array([np.array([d[0][\"score\"], d[1][\"score\"] + d[2][\"score\"]]) for d in res])"
   ]
  },
  {
   "cell_type": "code",
   "execution_count": null,
   "id": "68d5e9a2-e4b1-4fa8-b2e5-ea734165699c",
   "metadata": {
    "tags": []
   },
   "outputs": [],
   "source": [
    "hate_clf = HateSpeechClf()"
   ]
  },
  {
   "cell_type": "code",
   "execution_count": null,
   "id": "b0c98ac3-1c72-4220-9835-dfa7146d72eb",
   "metadata": {
    "tags": []
   },
   "outputs": [],
   "source": [
    "hate_score_df = calculate_all_scores(texts=detected_texts, concept=\"religion\", clf=hate_clf, n_samples=5000)"
   ]
  },
  {
   "cell_type": "code",
   "execution_count": null,
   "id": "c4ca5fec-cfcc-4631-a5fb-cf99ee252a84",
   "metadata": {
    "tags": []
   },
   "outputs": [],
   "source": [
    "plot_scores(hate_score_df, concept=\"religion\")\n",
    "plt.savefig(\"hatespeech_dl_scores_religion.png\")"
   ]
  }
 ],
 "metadata": {
  "kernelspec": {
   "display_name": "Python 3 (ipykernel)",
   "language": "python",
   "name": "python3"
  },
  "language_info": {
   "codemirror_mode": {
    "name": "ipython",
    "version": 3
   },
   "file_extension": ".py",
   "mimetype": "text/x-python",
   "name": "python",
   "nbconvert_exporter": "python",
   "pygments_lexer": "ipython3",
   "version": "3.10.11"
  }
 },
 "nbformat": 4,
 "nbformat_minor": 5
}
