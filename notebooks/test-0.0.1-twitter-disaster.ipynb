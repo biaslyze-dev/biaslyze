{
 "cells": [
  {
   "cell_type": "code",
   "execution_count": 1,
   "id": "5bfdc6f1-6926-458d-b825-c37f12a2932e",
   "metadata": {},
   "outputs": [],
   "source": [
    "%load_ext autoreload\n",
    "%autoreload 2"
   ]
  },
  {
   "cell_type": "code",
   "execution_count": 2,
   "id": "dd3f06ea-6bc8-4be9-8515-5771d1762a08",
   "metadata": {},
   "outputs": [],
   "source": [
    "import sys\n",
    "sys.path.append('/home/tobias/Repositories/biaslyze/')"
   ]
  },
  {
   "cell_type": "code",
   "execution_count": 3,
   "id": "136169e8-ffb7-4326-b387-3c0e8c9fddcf",
   "metadata": {},
   "outputs": [],
   "source": [
    "import numpy as np\n",
    "import pandas as pd\n",
    "from sklearn.feature_extraction.text import TfidfVectorizer\n",
    "from sklearn.linear_model import LogisticRegression\n",
    "from sklearn.pipeline import make_pipeline\n",
    "from sklearn.metrics import accuracy_score"
   ]
  },
  {
   "cell_type": "markdown",
   "id": "1831829c-9a99-48ff-a8aa-63044cce627a",
   "metadata": {},
   "source": [
    "## Load and prepare data"
   ]
  },
  {
   "cell_type": "code",
   "execution_count": 4,
   "id": "6cb0361b-9a49-48a8-89ba-79301470a39b",
   "metadata": {},
   "outputs": [
    {
     "data": {
      "text/html": [
       "<div>\n",
       "<style scoped>\n",
       "    .dataframe tbody tr th:only-of-type {\n",
       "        vertical-align: middle;\n",
       "    }\n",
       "\n",
       "    .dataframe tbody tr th {\n",
       "        vertical-align: top;\n",
       "    }\n",
       "\n",
       "    .dataframe thead th {\n",
       "        text-align: right;\n",
       "    }\n",
       "</style>\n",
       "<table border=\"1\" class=\"dataframe\">\n",
       "  <thead>\n",
       "    <tr style=\"text-align: right;\">\n",
       "      <th></th>\n",
       "      <th>id</th>\n",
       "      <th>keyword</th>\n",
       "      <th>location</th>\n",
       "      <th>text</th>\n",
       "      <th>target</th>\n",
       "    </tr>\n",
       "  </thead>\n",
       "  <tbody>\n",
       "    <tr>\n",
       "      <th>0</th>\n",
       "      <td>1</td>\n",
       "      <td>NaN</td>\n",
       "      <td>NaN</td>\n",
       "      <td>Our Deeds are the Reason of this #earthquake M...</td>\n",
       "      <td>1</td>\n",
       "    </tr>\n",
       "    <tr>\n",
       "      <th>1</th>\n",
       "      <td>4</td>\n",
       "      <td>NaN</td>\n",
       "      <td>NaN</td>\n",
       "      <td>Forest fire near La Ronge Sask. Canada</td>\n",
       "      <td>1</td>\n",
       "    </tr>\n",
       "    <tr>\n",
       "      <th>2</th>\n",
       "      <td>5</td>\n",
       "      <td>NaN</td>\n",
       "      <td>NaN</td>\n",
       "      <td>All residents asked to 'shelter in place' are ...</td>\n",
       "      <td>1</td>\n",
       "    </tr>\n",
       "    <tr>\n",
       "      <th>3</th>\n",
       "      <td>6</td>\n",
       "      <td>NaN</td>\n",
       "      <td>NaN</td>\n",
       "      <td>13,000 people receive #wildfires evacuation or...</td>\n",
       "      <td>1</td>\n",
       "    </tr>\n",
       "    <tr>\n",
       "      <th>4</th>\n",
       "      <td>7</td>\n",
       "      <td>NaN</td>\n",
       "      <td>NaN</td>\n",
       "      <td>Just got sent this photo from Ruby #Alaska as ...</td>\n",
       "      <td>1</td>\n",
       "    </tr>\n",
       "  </tbody>\n",
       "</table>\n",
       "</div>"
      ],
      "text/plain": [
       "   id keyword location                                               text  \\\n",
       "0   1     NaN      NaN  Our Deeds are the Reason of this #earthquake M...   \n",
       "1   4     NaN      NaN             Forest fire near La Ronge Sask. Canada   \n",
       "2   5     NaN      NaN  All residents asked to 'shelter in place' are ...   \n",
       "3   6     NaN      NaN  13,000 people receive #wildfires evacuation or...   \n",
       "4   7     NaN      NaN  Just got sent this photo from Ruby #Alaska as ...   \n",
       "\n",
       "   target  \n",
       "0       1  \n",
       "1       1  \n",
       "2       1  \n",
       "3       1  \n",
       "4       1  "
      ]
     },
     "execution_count": 4,
     "metadata": {},
     "output_type": "execute_result"
    }
   ],
   "source": [
    "df = pd.read_csv(\"../data/disaster-tweets/train.csv\"); df.head()"
   ]
  },
  {
   "cell_type": "code",
   "execution_count": 5,
   "id": "209acd8a-0920-4de4-ad30-60cf950ace52",
   "metadata": {},
   "outputs": [],
   "source": [
    "# replace urls\n",
    "import re\n",
    "url_regex = re.compile(\"(http|https)://[\\w\\-]+(\\.[\\w\\-]+)+\\S*\")\n",
    "\n",
    "df = df.replace(to_replace=url_regex, value='', regex=True)"
   ]
  },
  {
   "cell_type": "markdown",
   "id": "8360a203-b400-44f3-8d6a-3308005e4ec4",
   "metadata": {},
   "source": [
    "## Train a model"
   ]
  },
  {
   "cell_type": "code",
   "execution_count": 6,
   "id": "6b28d4aa-17ef-4165-b43b-9bb81a3ee6fd",
   "metadata": {},
   "outputs": [],
   "source": [
    "clf = make_pipeline(TfidfVectorizer(min_df=10, max_features=10000, stop_words=\"english\"), LogisticRegression())"
   ]
  },
  {
   "cell_type": "code",
   "execution_count": 7,
   "id": "ccc41891-f3e7-4935-8d3f-54876c388cef",
   "metadata": {},
   "outputs": [
    {
     "data": {
      "text/html": [
       "<style>#sk-container-id-1 {color: black;background-color: white;}#sk-container-id-1 pre{padding: 0;}#sk-container-id-1 div.sk-toggleable {background-color: white;}#sk-container-id-1 label.sk-toggleable__label {cursor: pointer;display: block;width: 100%;margin-bottom: 0;padding: 0.3em;box-sizing: border-box;text-align: center;}#sk-container-id-1 label.sk-toggleable__label-arrow:before {content: \"▸\";float: left;margin-right: 0.25em;color: #696969;}#sk-container-id-1 label.sk-toggleable__label-arrow:hover:before {color: black;}#sk-container-id-1 div.sk-estimator:hover label.sk-toggleable__label-arrow:before {color: black;}#sk-container-id-1 div.sk-toggleable__content {max-height: 0;max-width: 0;overflow: hidden;text-align: left;background-color: #f0f8ff;}#sk-container-id-1 div.sk-toggleable__content pre {margin: 0.2em;color: black;border-radius: 0.25em;background-color: #f0f8ff;}#sk-container-id-1 input.sk-toggleable__control:checked~div.sk-toggleable__content {max-height: 200px;max-width: 100%;overflow: auto;}#sk-container-id-1 input.sk-toggleable__control:checked~label.sk-toggleable__label-arrow:before {content: \"▾\";}#sk-container-id-1 div.sk-estimator input.sk-toggleable__control:checked~label.sk-toggleable__label {background-color: #d4ebff;}#sk-container-id-1 div.sk-label input.sk-toggleable__control:checked~label.sk-toggleable__label {background-color: #d4ebff;}#sk-container-id-1 input.sk-hidden--visually {border: 0;clip: rect(1px 1px 1px 1px);clip: rect(1px, 1px, 1px, 1px);height: 1px;margin: -1px;overflow: hidden;padding: 0;position: absolute;width: 1px;}#sk-container-id-1 div.sk-estimator {font-family: monospace;background-color: #f0f8ff;border: 1px dotted black;border-radius: 0.25em;box-sizing: border-box;margin-bottom: 0.5em;}#sk-container-id-1 div.sk-estimator:hover {background-color: #d4ebff;}#sk-container-id-1 div.sk-parallel-item::after {content: \"\";width: 100%;border-bottom: 1px solid gray;flex-grow: 1;}#sk-container-id-1 div.sk-label:hover label.sk-toggleable__label {background-color: #d4ebff;}#sk-container-id-1 div.sk-serial::before {content: \"\";position: absolute;border-left: 1px solid gray;box-sizing: border-box;top: 0;bottom: 0;left: 50%;z-index: 0;}#sk-container-id-1 div.sk-serial {display: flex;flex-direction: column;align-items: center;background-color: white;padding-right: 0.2em;padding-left: 0.2em;position: relative;}#sk-container-id-1 div.sk-item {position: relative;z-index: 1;}#sk-container-id-1 div.sk-parallel {display: flex;align-items: stretch;justify-content: center;background-color: white;position: relative;}#sk-container-id-1 div.sk-item::before, #sk-container-id-1 div.sk-parallel-item::before {content: \"\";position: absolute;border-left: 1px solid gray;box-sizing: border-box;top: 0;bottom: 0;left: 50%;z-index: -1;}#sk-container-id-1 div.sk-parallel-item {display: flex;flex-direction: column;z-index: 1;position: relative;background-color: white;}#sk-container-id-1 div.sk-parallel-item:first-child::after {align-self: flex-end;width: 50%;}#sk-container-id-1 div.sk-parallel-item:last-child::after {align-self: flex-start;width: 50%;}#sk-container-id-1 div.sk-parallel-item:only-child::after {width: 0;}#sk-container-id-1 div.sk-dashed-wrapped {border: 1px dashed gray;margin: 0 0.4em 0.5em 0.4em;box-sizing: border-box;padding-bottom: 0.4em;background-color: white;}#sk-container-id-1 div.sk-label label {font-family: monospace;font-weight: bold;display: inline-block;line-height: 1.2em;}#sk-container-id-1 div.sk-label-container {text-align: center;}#sk-container-id-1 div.sk-container {/* jupyter's `normalize.less` sets `[hidden] { display: none; }` but bootstrap.min.css set `[hidden] { display: none !important; }` so we also need the `!important` here to be able to override the default hidden behavior on the sphinx rendered scikit-learn.org. See: https://github.com/scikit-learn/scikit-learn/issues/21755 */display: inline-block !important;position: relative;}#sk-container-id-1 div.sk-text-repr-fallback {display: none;}</style><div id=\"sk-container-id-1\" class=\"sk-top-container\"><div class=\"sk-text-repr-fallback\"><pre>Pipeline(steps=[(&#x27;tfidfvectorizer&#x27;,\n",
       "                 TfidfVectorizer(max_features=10000, min_df=10,\n",
       "                                 stop_words=&#x27;english&#x27;)),\n",
       "                (&#x27;logisticregression&#x27;, LogisticRegression())])</pre><b>In a Jupyter environment, please rerun this cell to show the HTML representation or trust the notebook. <br />On GitHub, the HTML representation is unable to render, please try loading this page with nbviewer.org.</b></div><div class=\"sk-container\" hidden><div class=\"sk-item sk-dashed-wrapped\"><div class=\"sk-label-container\"><div class=\"sk-label sk-toggleable\"><input class=\"sk-toggleable__control sk-hidden--visually\" id=\"sk-estimator-id-1\" type=\"checkbox\" ><label for=\"sk-estimator-id-1\" class=\"sk-toggleable__label sk-toggleable__label-arrow\">Pipeline</label><div class=\"sk-toggleable__content\"><pre>Pipeline(steps=[(&#x27;tfidfvectorizer&#x27;,\n",
       "                 TfidfVectorizer(max_features=10000, min_df=10,\n",
       "                                 stop_words=&#x27;english&#x27;)),\n",
       "                (&#x27;logisticregression&#x27;, LogisticRegression())])</pre></div></div></div><div class=\"sk-serial\"><div class=\"sk-item\"><div class=\"sk-estimator sk-toggleable\"><input class=\"sk-toggleable__control sk-hidden--visually\" id=\"sk-estimator-id-2\" type=\"checkbox\" ><label for=\"sk-estimator-id-2\" class=\"sk-toggleable__label sk-toggleable__label-arrow\">TfidfVectorizer</label><div class=\"sk-toggleable__content\"><pre>TfidfVectorizer(max_features=10000, min_df=10, stop_words=&#x27;english&#x27;)</pre></div></div></div><div class=\"sk-item\"><div class=\"sk-estimator sk-toggleable\"><input class=\"sk-toggleable__control sk-hidden--visually\" id=\"sk-estimator-id-3\" type=\"checkbox\" ><label for=\"sk-estimator-id-3\" class=\"sk-toggleable__label sk-toggleable__label-arrow\">LogisticRegression</label><div class=\"sk-toggleable__content\"><pre>LogisticRegression()</pre></div></div></div></div></div></div></div>"
      ],
      "text/plain": [
       "Pipeline(steps=[('tfidfvectorizer',\n",
       "                 TfidfVectorizer(max_features=10000, min_df=10,\n",
       "                                 stop_words='english')),\n",
       "                ('logisticregression', LogisticRegression())])"
      ]
     },
     "execution_count": 7,
     "metadata": {},
     "output_type": "execute_result"
    }
   ],
   "source": [
    "clf.fit(df.text, df.target)"
   ]
  },
  {
   "cell_type": "code",
   "execution_count": 8,
   "id": "086aed03-08e7-4382-88ed-92e706c22ed1",
   "metadata": {},
   "outputs": [
    {
     "name": "stdout",
     "output_type": "stream",
     "text": [
      "0.8418494680152371\n"
     ]
    }
   ],
   "source": [
    "train_pred = clf.predict(df.text)\n",
    "print(accuracy_score(df.target, train_pred))"
   ]
  },
  {
   "cell_type": "markdown",
   "id": "6ed867dc-b70c-4653-9d34-e2b7debb01e3",
   "metadata": {},
   "source": [
    "## Test detection of concepts"
   ]
  },
  {
   "cell_type": "code",
   "execution_count": 9,
   "id": "7736d2d2-cdcc-466a-ace1-7f6cd5759cf6",
   "metadata": {},
   "outputs": [
    {
     "name": "stderr",
     "output_type": "stream",
     "text": [
      "/home/tobias/.cache/pypoetry/virtualenvs/biaslyze-OjqpgMw8-py3.8/lib/python3.8/site-packages/tqdm/auto.py:22: TqdmWarning: IProgress not found. Please update jupyter and ipywidgets. See https://ipywidgets.readthedocs.io/en/stable/user_install.html\n",
      "  from .autonotebook import tqdm as notebook_tqdm\n"
     ]
    }
   ],
   "source": [
    "from biaslyze.concept_detectors import KeywordConceptDetector\n",
    "from biaslyze.evaluators import LimeBiasEvaluator"
   ]
  },
  {
   "cell_type": "code",
   "execution_count": 10,
   "id": "9409fa38-ff39-4fc1-a97c-7527be569f76",
   "metadata": {},
   "outputs": [],
   "source": [
    "key_detect = KeywordConceptDetector()"
   ]
  },
  {
   "cell_type": "code",
   "execution_count": 11,
   "id": "ff007a97-b8cb-41c1-9fb8-cf04ec78669f",
   "metadata": {},
   "outputs": [],
   "source": [
    "detected_tweets = key_detect.detect(texts=df.text[:600])"
   ]
  },
  {
   "cell_type": "code",
   "execution_count": 12,
   "id": "9b316b8a-1b41-4aaf-a917-04754a9adad7",
   "metadata": {},
   "outputs": [
    {
     "data": {
      "text/plain": [
       "72"
      ]
     },
     "execution_count": 12,
     "metadata": {},
     "output_type": "execute_result"
    }
   ],
   "source": [
    "len(detected_tweets)"
   ]
  },
  {
   "cell_type": "code",
   "execution_count": 13,
   "id": "c9c82119-7a99-48fd-95cd-8c9d22096cc6",
   "metadata": {
    "scrolled": true,
    "tags": []
   },
   "outputs": [
    {
     "data": {
      "text/plain": [
       "['13,000 people receive #wildfires evacuation orders in California ',\n",
       " '#RockyFire Update => California Hwy. 20 closed in both directions due to Lake County fire - #CAfire #wildfires',\n",
       " '#Flood in Bago Myanmar #We arrived Bago',\n",
       " 'How the West was burned: Thousands of wildfires ablaze in California alone ',\n",
       " 'How the West was burned: Thousands of wildfires ablaze in #California alone  #climate #energy ',\n",
       " \"@Navista7 Steve these fires out here are something else! California is a tinderbox - and this clown was setting my 'hood ablaze @News24680\",\n",
       " ' Twelve feared killed in Pakistani air ambulance helicopter crash ',\n",
       " 'Twelve feared killed in Pakistani air ambulance helicopter crash - Reuters  #yugvani',\n",
       " 'Twelve feared killed in Pakistani air ambulance helicopter crash ',\n",
       " '#news Twelve feared killed in Pakistani air ambulance helicopter crash  #til_now #DNA',\n",
       " ' Twelve feared killed in Pakistani air ambulance helicopter crash ',\n",
       " 'Pakistan air ambulance helicopter crash kills nine ',\n",
       " ' Twelve feared killed in Pakistani air ambulance helicopter crash ',\n",
       " 'Twelve feared killed in Pakistani air ambulance helicopter crash ',\n",
       " '#reuters Twelve feared killed in Pakistani air ambulance helicopter crash ',\n",
       " ' Twelve feared killed in Pakistani air ambulance helicopter crash ',\n",
       " ' Twelve feared killed in Pakistani air ambulance helicopter crash ',\n",
       " ' Twelve feared killed in Pakistani air ambulance helicopter crash ',\n",
       " 'Twelve feared killed in Pakistani air ambulance helicopter crash  #worldNews',\n",
       " 'Twelve feared killed in Pakistani air ambulance helicopter crash  #worldnews',\n",
       " ' Twelve feared killed in Pakistani air ambulance helicopter crash ',\n",
       " 'One thing for sure-God has promised Israel will not be annihilated. But...the horror of Iran w/nukes. ',\n",
       " 'During the 1960s the oryx a symbol of the Arabian Peninsula were annihilated by hunters. \\n ',\n",
       " 'ANNIHILATED IN DAMASCUS: SYRIAN ARMY GRINDS \\x89Û÷ALLOOSH AND HIS GANG INTO THE MANURE PILE\\n',\n",
       " '@rvfriedmann Hell is just a fraction of his belief of total annihilation destruction of USA @LodiSilverado @ritzy_jewels',\n",
       " \"@POTUS Maybe we should call Israel and tell them we're sorry are Pres has sold them down the river to annihilation.\",\n",
       " '@CalFreedomMom @steph93065 not to mention a major contributor to the annihilation of Israel',\n",
       " 'The annihilation of Jeb Christie &amp; Kasich is less than 24 hours away..\\nPlease God allow me at least one more full day...',\n",
       " 'European Fitba till Christmas  ARMAGEDDON',\n",
       " '#Christians United for #Israel (#CUFI): Jews should convert soon or die by armageddon  #US ',\n",
       " 'Paul Craig Roberts \\x89ÛÒ Vladimir Putin Issues Major Warning But Is It Too Late To Escape A  #brics #roberts #russia',\n",
       " 'WWI WWII JAPANESE ARMY NAVY MILITARY JAPAN LEATHER WATCH WAR MIDO WW1 2 - Full read by eBay  ',\n",
       " 'WWI WWII JAPANESE ARMY NAVY MILITARY JAPAN LEATHER WATCH WAR MIDO WW1 2 - Full read by eBay  ',\n",
       " 'WWI WWII JAPANESE ARMY NAVY MILITARY JAPAN LEATHER WATCH WAR MIDO WW1 2 - Full read by eBay  ',\n",
       " 'Two Jewish Terrorists Charged In Historic-Church Arson | The Ugly Truth  ',\n",
       " 'Mourning notices for stabbing arson victims stir \\x89Û÷politics of grief\\x89Ûª in Israel ',\n",
       " 'Mourning notices for stabbing arson victims stir \\x89Û÷politics of grief\\x89Ûª in Israel ',\n",
       " 'Arson suspect linked to 30 fires caught in Northern California ',\n",
       " 'After death of Palestinian toddler in arson\\nattack Israel cracks down on Jewish',\n",
       " 'Mourning notices for stabbing arson victims stir \\x89Û÷politics of grief\\x89Ûª in Israel: Posters for Shira Banki and A... ',\n",
       " 'RelaxInPR: miprv: RT latimes: Arson suspect linked to 30 fires caught in Northern California ',\n",
       " 'Jewish leaders prayed at the hospital where a Palestinian family is being treated after arson  via @HuffPostRelig',\n",
       " 'Mourning notices for stabbing arson victims stir \\x89Û÷politics of grief\\x89Ûª in Israel ',\n",
       " 'Mourning notices for stabbing arson victims stir \\x89Û÷politics of grief\\x89Ûª in Israel ',\n",
       " 'Arson suspect linked to 30 fires caught in Northern California  (via @latimes)',\n",
       " 'Arson suspect linked to 30 fires caught in Northern California - Los Angeles Times ',\n",
       " 'Arson suspect linked to 30 fires caught in Northern California ',\n",
       " 'Arson suspect linked to 30 fires caught in Northern California ',\n",
       " 'ISIL claims suicide bombing at Saudi mosque that killed at least 15  ',\n",
       " 'Horrific attack on wife by muslim in Italy  LiveLeak #News',\n",
       " 'BREAKING: Obama Officials GAVE Muslim Terrorist the Weapon Used in Texas Attack ',\n",
       " 'Israeli forces raid home of alleged car attack suspect  #palestine',\n",
       " 'Israeli helicopters that attacked civilians in Gaza just completed exercises in Greece.',\n",
       " 'Christian Attacked by Muslims at the Temple Mount after Waving Israeli Flag via Pamela Geller - ... ',\n",
       " 'Christian Attacked by Muslims at the Temple Mount after Waving Israeli Flag via Pamela Geller - ... ',\n",
       " 'Christian Attacked by Muslims at the Temple Mount after Waving Israeli Flag via Pamela Geller - ... ',\n",
       " '#PT: The unit attacked by IS was responsible for targeting Muslim Scholars and imprisoning the youth. ',\n",
       " 'Christian Attacked by Muslims at the Temple Mount after Waving Israeli Flag via Pamela Geller - ... ',\n",
       " 'Christian Attacked by Muslims at the Temple Mount after Waving Israeli Flag via Pamela Geller - ... ',\n",
       " 'Christian Attacked by Muslims at the Temple Mount after Waving Israeli Flag via Pamela Geller - ... ',\n",
       " 'Christian Attacked by Muslims at the Temple Mount after Waving Israeli Flag via Pamela Geller - ... ',\n",
       " 'Christian Attacked by Muslims at the Temple Mount after Waving Israeli Flag via Pamela Geller - ... ',\n",
       " 'Christian Attacked by Muslims at the Temple Mount after Waving Israeli Flag via Pamela Geller - ... ',\n",
       " 'Christian Attacked by Muslims at the Temple Mount after Waving Israeli Flag via Pamela Geller - ... ',\n",
       " '@christinalavv @lindsay_wynn3 I just saw these tweets and I feel really attacked',\n",
       " 'Christian Attacked by Muslims at the Temple Mount after Waving Israeli Flag via Pamela Geller - ... ',\n",
       " 'Christian Attacked by Muslims at the Temple Mount after Waving Israeli Flag via Pamela Geller - ... ',\n",
       " 'Christian Attacked by Muslims at the Temple Mount after Waving Israeli Flag via Pamela Geller - ... ',\n",
       " 'Christian Attacked by Muslims at the Temple Mount after Waving Israeli Flag via Pamela Geller - ... ',\n",
       " 'Christian Attacked by Muslims at the Temple Mount after Waving Israeli Flag via Pamela Geller - ... ',\n",
       " 'A young German stormtrooper engaged in the Battle of the Somme 1916. [800 ÌÑ 582 ] ',\n",
       " \"#LonePine remembered around Australia as 'descendants' grow via @666canberra #Gallipoli #WW1\\n \"]"
      ]
     },
     "execution_count": 13,
     "metadata": {},
     "output_type": "execute_result"
    }
   ],
   "source": [
    "detected_tweets"
   ]
  },
  {
   "cell_type": "markdown",
   "id": "eafd8506-c670-411d-8621-42b7049be826",
   "metadata": {},
   "source": [
    "## Test LIME based bias detection with keywords"
   ]
  },
  {
   "cell_type": "code",
   "execution_count": 27,
   "id": "9399c76a-2299-49c9-a111-3b125798e807",
   "metadata": {},
   "outputs": [],
   "source": [
    "from biaslyze.bias_detectors import LimeKeywordBiasDetector"
   ]
  },
  {
   "cell_type": "code",
   "execution_count": 80,
   "id": "83c61a69-1141-4a76-b372-e2e33857882f",
   "metadata": {},
   "outputs": [],
   "source": [
    "bias_detector = LimeKeywordBiasDetector(bias_evaluator=LimeBiasEvaluator(n_lime_samples=500), n_top_keywords=10, use_tokenizer=True)"
   ]
  },
  {
   "cell_type": "code",
   "execution_count": 81,
   "id": "c2cffca2-67f3-4024-b23a-d03eaa83ae05",
   "metadata": {
    "scrolled": true,
    "tags": []
   },
   "outputs": [
    {
     "name": "stderr",
     "output_type": "stream",
     "text": [
      "2023-03-07 09:51:49.907 | INFO     | biaslyze.concept_detectors:detect:32 - Started keyword-based concept detection on 100 texts...\n",
      "100%|███████████████████████████████████████████████████████████████████████████████████████████████████████████████████████████████████████████████████████████████████████████████████████████████████████████████████████████████████████████| 100/100 [00:01<00:00, 86.63it/s]\n",
      "2023-03-07 09:51:51.067 | INFO     | biaslyze.concept_detectors:detect:46 - Done. Found 15 texts with protected concepts.\n",
      "2023-03-07 09:51:51.068 | INFO     | biaslyze.evaluators:evaluate:40 - Started bias detection on 15 samples...\n",
      "100%|█████████████████████████████████████████████████████████████████████████████████████████████████████████████████████████████████████████████████████████████████████████████████████████████████████████████████████████████████████████████| 15/15 [00:03<00:00,  4.23it/s]\n"
     ]
    }
   ],
   "source": [
    "detection_res = bias_detector.detect(texts=df.text[500:600], predict_func=clf.predict_proba)"
   ]
  },
  {
   "cell_type": "code",
   "execution_count": 82,
   "id": "fc086f59-23dd-456b-a88e-8e49060f3e13",
   "metadata": {},
   "outputs": [
    {
     "name": "stdout",
     "output_type": "stream",
     "text": [
      "Detected 11 samples with potential issues.\n",
      "    Potentially problematic concepts detected: [('nationality', 11), ('religion', 10)]\n",
      "    Based on keywords: [('israeli', 10), ('christian', 8), ('muslims', 8), ('australia', 1)].\n"
     ]
    }
   ],
   "source": [
    "detection_res.summary()"
   ]
  },
  {
   "cell_type": "code",
   "execution_count": 83,
   "id": "c6a1e029-7dbf-4649-840b-3f21d501d253",
   "metadata": {
    "scrolled": true,
    "tags": []
   },
   "outputs": [
    {
     "name": "stdout",
     "output_type": "stream",
     "text": [
      "Concept: nationality\n",
      "[{'reason': ['israeli', 'christian'],\n",
      "  'text': 'Christian Attacked by Muslims at the Temple Mount after Waving '\n",
      "          'Israeli Flag via Pamela Geller - ... '},\n",
      " {'reason': ['israeli', 'muslims'],\n",
      "  'text': 'Christian Attacked by Muslims at the Temple Mount after Waving '\n",
      "          'Israeli Flag via Pamela Geller - ... '},\n",
      " {'reason': ['israeli', 'muslims', 'christian'],\n",
      "  'text': 'Christian Attacked by Muslims at the Temple Mount after Waving '\n",
      "          'Israeli Flag via Pamela Geller - ... '},\n",
      " {'reason': ['israeli', 'muslims'],\n",
      "  'text': 'Christian Attacked by Muslims at the Temple Mount after Waving '\n",
      "          'Israeli Flag via Pamela Geller - ... '},\n",
      " {'reason': ['israeli', 'muslims', 'christian'],\n",
      "  'text': 'Christian Attacked by Muslims at the Temple Mount after Waving '\n",
      "          'Israeli Flag via Pamela Geller - ... '},\n",
      " {'reason': ['israeli', 'muslims', 'christian'],\n",
      "  'text': 'Christian Attacked by Muslims at the Temple Mount after Waving '\n",
      "          'Israeli Flag via Pamela Geller - ... '},\n",
      " {'reason': ['israeli', 'muslims', 'christian'],\n",
      "  'text': 'Christian Attacked by Muslims at the Temple Mount after Waving '\n",
      "          'Israeli Flag via Pamela Geller - ... '},\n",
      " {'reason': ['israeli', 'muslims', 'christian'],\n",
      "  'text': 'Christian Attacked by Muslims at the Temple Mount after Waving '\n",
      "          'Israeli Flag via Pamela Geller - ... '},\n",
      " {'reason': ['israeli', 'muslims', 'christian'],\n",
      "  'text': 'Christian Attacked by Muslims at the Temple Mount after Waving '\n",
      "          'Israeli Flag via Pamela Geller - ... '},\n",
      " {'reason': ['israeli', 'christian'],\n",
      "  'text': 'Christian Attacked by Muslims at the Temple Mount after Waving '\n",
      "          'Israeli Flag via Pamela Geller - ... '},\n",
      " {'reason': ['australia'],\n",
      "  'text': \"#LonePine remembered around Australia as 'descendants' grow via \"\n",
      "          '@666canberra #Gallipoli #WW1\\n'\n",
      "          ' '}]\n",
      "Concept: religion\n",
      "[{'reason': ['israeli', 'christian'],\n",
      "  'text': 'Christian Attacked by Muslims at the Temple Mount after Waving '\n",
      "          'Israeli Flag via Pamela Geller - ... '},\n",
      " {'reason': ['israeli', 'muslims'],\n",
      "  'text': 'Christian Attacked by Muslims at the Temple Mount after Waving '\n",
      "          'Israeli Flag via Pamela Geller - ... '},\n",
      " {'reason': ['israeli', 'muslims', 'christian'],\n",
      "  'text': 'Christian Attacked by Muslims at the Temple Mount after Waving '\n",
      "          'Israeli Flag via Pamela Geller - ... '},\n",
      " {'reason': ['israeli', 'muslims'],\n",
      "  'text': 'Christian Attacked by Muslims at the Temple Mount after Waving '\n",
      "          'Israeli Flag via Pamela Geller - ... '},\n",
      " {'reason': ['israeli', 'muslims', 'christian'],\n",
      "  'text': 'Christian Attacked by Muslims at the Temple Mount after Waving '\n",
      "          'Israeli Flag via Pamela Geller - ... '},\n",
      " {'reason': ['israeli', 'muslims', 'christian'],\n",
      "  'text': 'Christian Attacked by Muslims at the Temple Mount after Waving '\n",
      "          'Israeli Flag via Pamela Geller - ... '},\n",
      " {'reason': ['israeli', 'muslims', 'christian'],\n",
      "  'text': 'Christian Attacked by Muslims at the Temple Mount after Waving '\n",
      "          'Israeli Flag via Pamela Geller - ... '},\n",
      " {'reason': ['israeli', 'muslims', 'christian'],\n",
      "  'text': 'Christian Attacked by Muslims at the Temple Mount after Waving '\n",
      "          'Israeli Flag via Pamela Geller - ... '},\n",
      " {'reason': ['israeli', 'muslims', 'christian'],\n",
      "  'text': 'Christian Attacked by Muslims at the Temple Mount after Waving '\n",
      "          'Israeli Flag via Pamela Geller - ... '},\n",
      " {'reason': ['israeli', 'christian'],\n",
      "  'text': 'Christian Attacked by Muslims at the Temple Mount after Waving '\n",
      "          'Israeli Flag via Pamela Geller - ... '}]\n"
     ]
    }
   ],
   "source": [
    "detection_res.details(group_by_concept=True)"
   ]
  },
  {
   "cell_type": "markdown",
   "id": "a82b2eaf-4fac-409d-b3e8-f7329721ed3d",
   "metadata": {},
   "source": [
    "## Test masked language model based bias detection with keywords"
   ]
  },
  {
   "cell_type": "code",
   "execution_count": 19,
   "id": "77610f61-efe3-4d56-9189-6572a12b7cae",
   "metadata": {},
   "outputs": [],
   "source": [
    "from biaslyze.bias_detectors import MaskedKeywordBiasDetector"
   ]
  },
  {
   "cell_type": "code",
   "execution_count": 20,
   "id": "be8494f2-41ba-48ca-b32f-b304b2dd2779",
   "metadata": {},
   "outputs": [],
   "source": [
    "bias_detector = MaskedKeywordBiasDetector(predict_func=clf.predict_proba, n_resample_keywords=15)"
   ]
  },
  {
   "cell_type": "code",
   "execution_count": 24,
   "id": "3c1e31e6-f6fd-4883-808d-30c5a9ea0e3c",
   "metadata": {
    "scrolled": true,
    "tags": []
   },
   "outputs": [
    {
     "name": "stderr",
     "output_type": "stream",
     "text": [
      "100%|█████████████████████████████████████████████████████████████████████████████████████████████████████████████████████████████████████████████████████████████████████████████████████████████████████████████████████████████████████████████| 13/13 [00:23<00:00,  1.80s/it]\n"
     ]
    }
   ],
   "source": [
    "detection_res = bias_detector.detect(texts=df.text[500:600])"
   ]
  },
  {
   "cell_type": "code",
   "execution_count": 25,
   "id": "8b92c3d2-d255-4cc2-a5cf-9c7ca9d79adf",
   "metadata": {},
   "outputs": [
    {
     "data": {
      "text/plain": [
       "Detected 1 samples with potential issues.\n",
       "    Potentially problematic concepts detected: Counter({'nationality': 1})\n",
       "    Based on keywords: Counter({'german': 1})."
      ]
     },
     "execution_count": 25,
     "metadata": {},
     "output_type": "execute_result"
    }
   ],
   "source": [
    "detection_res"
   ]
  },
  {
   "cell_type": "code",
   "execution_count": 26,
   "id": "53b4d335-232e-4f16-855e-27cc3dc38cc5",
   "metadata": {},
   "outputs": [
    {
     "name": "stdout",
     "output_type": "stream",
     "text": [
      "''A young German stormtrooper engaged in the Battle of the Somme 1916. [800 ÌÑ 582 ] '' might contain bias ['nationality']; reasons: ['german']\n"
     ]
    }
   ],
   "source": [
    "detection_res.details()"
   ]
  },
  {
   "cell_type": "code",
   "execution_count": null,
   "id": "1d7a4eb8-83a7-4005-b9d0-2bd0d2b4e3ca",
   "metadata": {},
   "outputs": [],
   "source": []
  }
 ],
 "metadata": {
  "kernelspec": {
   "display_name": "Python 3 (ipykernel)",
   "language": "python",
   "name": "python3"
  },
  "language_info": {
   "codemirror_mode": {
    "name": "ipython",
    "version": 3
   },
   "file_extension": ".py",
   "mimetype": "text/x-python",
   "name": "python",
   "nbconvert_exporter": "python",
   "pygments_lexer": "ipython3",
   "version": "3.8.10"
  }
 },
 "nbformat": 4,
 "nbformat_minor": 5
}
